{
 "cells": [
  {
   "cell_type": "code",
   "execution_count": 1,
   "id": "black-veteran",
   "metadata": {},
   "outputs": [],
   "source": [
    "import geemap\n",
    "import pandas as pd\n",
    "import numpy as np\n",
    "import matplotlib.pyplot as plt\n",
    "import pdb\n",
    "from IPython.display import display\n",
    "import ee\n",
    "import os"
   ]
  },
  {
   "cell_type": "code",
   "execution_count": 2,
   "id": "everyday-offer",
   "metadata": {
    "scrolled": true
   },
   "outputs": [],
   "source": [
    "#ee.Authenticate()\n",
    "#geemap.update_package()"
   ]
  },
  {
   "cell_type": "code",
   "execution_count": 3,
   "id": "alone-villa",
   "metadata": {},
   "outputs": [],
   "source": [
    "##converting javascript code to python (also in map interface):\n",
    "#js_snippet = \"\"\"\n",
    "#\"\"\"\n",
    "#geemap.js_snippet_to_py(js_snippet, add_new_cell = True, import_ee = False, import_geemap = False, show_map = False)"
   ]
  },
  {
   "cell_type": "code",
   "execution_count": 4,
   "id": "helpful-detective",
   "metadata": {},
   "outputs": [],
   "source": [
    "#list of plots in Virginia LTER dataset (not including broad creek)\n",
    "ee.Initialize()\n",
    "\n",
    "plot_pts = ee.FeatureCollection([\n",
    "  ee.Feature(ee.Geometry.Point([-75.372740, 37.903114]), {'site_id': 'Assateague'}), #Assateague\n",
    "  ee.Feature(ee.Geometry.Point([-75.671577, 37.625273]), {'site_id': 'Bellvue'}), #Bellvue\n",
    "  ee.Feature(ee.Geometry.Point([-75.876094, 37.395746]), {'site_id': 'Box_Tree'}), #Box_Tree\n",
    "  ee.Feature(ee.Geometry.Point([-75.652248, 37.709249]), {'site_id': 'Channel_Point'}), #Channel_Point\n",
    "  ee.Feature(ee.Geometry.Point([-75.942331, 37.175055]), {'site_id': 'Cushmans'}), #Cushmans\n",
    "  ee.Feature(ee.Geometry.Point([-75.940586, 37.167409]), {'site_id': 'Gator'}), #Gator\n",
    "  ee.Feature(ee.Geometry.Point([-75.814954, 37.485033]), {'site_id': 'Greens_Creek'}), #Greens_Creek\n",
    "  ee.Feature(ee.Geometry.Point([-75.672871, 37.451132]), {'site_id': 'Hog'}), #Hog\n",
    "  ee.Feature(ee.Geometry.Point([-75.900996, 37.346190]), {'site_id': 'Indiantown'}), #Indiantown\n",
    "  ee.Feature(ee.Geometry.Point([-75.558264, 37.784154]), {'site_id': 'Kegotank'}), #Kegotank\n",
    "  ee.Feature(ee.Geometry.Point([-75.861733, 37.416783]), {'site_id': 'Mill_Creek'}), #Mill_Creek\n",
    "  ee.Feature(ee.Geometry.Point([-75.822928, 37.468043]), {'site_id': 'N_Brownsville'}), #N_Brownsville\n",
    "  ee.Feature(ee.Geometry.Point([-75.929133, 37.287549]), {'site_id': 'Oyster'}), #Oyster\n",
    "  ee.Feature(ee.Geometry.Point([-75.940690, 37.181277]), {'site_id': 'Steelmans'}), #Steelmans\n",
    "  ee.Feature(ee.Geometry.Point([-75.447000, 37.880000]), {'site_id': 'Wallops'}), #Wallops\n",
    "  ee.Feature(ee.Geometry.Point([-75.819360, 37.481998]), {'site_id': 'Woodland_Farm'}) #Woodland_Farm\n",
    "])\n",
    "\n",
    "\n",
    "ga_pts = ee.FeatureCollection([\n",
    "  ee.Feature(ee.Geometry.Point([-81.422318, 31.539096]), {'site_id': '1'}),\n",
    "  ee.Feature(ee.Geometry.Point([-81.295564, 31.535967]), {'site_id': '2'}),\n",
    "  ee.Feature(ee.Geometry.Point([-81.229141, 31.518847]), {'site_id': '3'}),\n",
    "  ee.Feature(ee.Geometry.Point([-81.365805, 31.451791]), {'site_id': '4'}),\n",
    "  ee.Feature(ee.Geometry.Point([-81.340722, 31.435814]), {'site_id': '5'}),\n",
    "  ee.Feature(ee.Geometry.Point([-81.280011, 31.387962]), {'site_id': '6'}),\n",
    "  ee.Feature(ee.Geometry.Point([-81.478498, 31.334813]), {'site_id': '7'}),\n",
    "  ee.Feature(ee.Geometry.Point([-81.415535, 31.30824]), {'site_id': '8'}),\n",
    "  ee.Feature(ee.Geometry.Point([-81.333707, 31.351518]), {'site_id': '9'}),\n",
    "  ee.Feature(ee.Geometry.Point([-81.270863, 31.476948]), {'site_id': '10'})\n",
    "])\n",
    "##for GA, lats and longs may differ slightly between years (compare average lat/long to recorded lat/longs in each yr)"
   ]
  },
  {
   "cell_type": "code",
   "execution_count": 5,
   "id": "vital-reform",
   "metadata": {},
   "outputs": [
    {
     "name": "stdout",
     "output_type": "stream",
     "text": [
      "37\n"
     ]
    }
   ],
   "source": [
    "##landsat 5 surface reflectance images - VA LTER\n",
    "\n",
    "roi = ee.Geometry.Point(-75.876094, 37.395746)\n",
    "\n",
    "filteredCollectionLS5 = ee.ImageCollection('LANDSAT/LT05/C01/T1_SR') \\\n",
    "    .filter(ee.Filter.calendarRange(1999, 2017,'year')) \\\n",
    "    .filter(ee.Filter.calendarRange(8, 9,'month')) \\\n",
    "    .filterBounds(plot_pts) \\\n",
    "    .filterMetadata('CLOUD_COVER', 'less_than', 100) \\\n",
    "    .sort('CLOUD_COVER', True)\n",
    "\n",
    "vis_param = {'min': 0, \n",
    "             'max': 2000, \n",
    "             'bands': ['B4', 'B3', 'B2'], \n",
    "             'gamma': 1.5}\n",
    "\n",
    "print(filteredCollectionLS5.size().getInfo())\n",
    "image0 = filteredCollectionLS5.first()\n",
    "#print(image0.getInfo())"
   ]
  },
  {
   "cell_type": "code",
   "execution_count": 6,
   "id": "c027d3d0",
   "metadata": {
    "scrolled": true
   },
   "outputs": [
    {
     "name": "stdout",
     "output_type": "stream",
     "text": [
      "14\n"
     ]
    }
   ],
   "source": [
    "##landsat 8 surface reflectance images - VA LTER\n",
    "filteredCollectionLS8 = ee.ImageCollection('LANDSAT/LC08/C01/T1_SR') \\\n",
    "    .filter(ee.Filter.calendarRange(1999, 2017,'year')) \\\n",
    "    .filter(ee.Filter.calendarRange(8, 9,'month')) \\\n",
    "    .filterBounds(plot_pts) \\\n",
    "    .filterMetadata('CLOUD_COVER', 'less_than', 100) \\\n",
    "    .sort('CLOUD_COVER', True)\n",
    "\n",
    "vis_param = {'min': 0, \n",
    "             'max': 2000, \n",
    "             'bands': ['B4', 'B3', 'B2'], \n",
    "             'gamma': 1.5}\n",
    "\n",
    "print(filteredCollectionLS8.size().getInfo())"
   ]
  },
  {
   "cell_type": "code",
   "execution_count": 7,
   "id": "7f095bee",
   "metadata": {},
   "outputs": [
    {
     "name": "stdout",
     "output_type": "stream",
     "text": [
      "61\n"
     ]
    }
   ],
   "source": [
    "#landsat 7 surface reflectance images - VA LTER - might not be able to use due to striping\n",
    "filteredCollectionLS7 = ee.ImageCollection('LANDSAT/LE07/C01/T1_SR') \\\n",
    "    .filter(ee.Filter.calendarRange(1999, 2017,'year')) \\\n",
    "    .filter(ee.Filter.calendarRange(8, 9,'month')) \\\n",
    "    .filterBounds(plot_pts) \\\n",
    "    .filterMetadata('CLOUD_COVER', 'less_than', 100) \\\n",
    "    .sort('CLOUD_COVER', True)\n",
    "\n",
    "vis_param = {'min': 0, \n",
    "             'max': 2000, \n",
    "             'bands': ['B4', 'B3', 'B2'], \n",
    "             'gamma': 1.5}\n",
    "\n",
    "print(filteredCollectionLS7.size().getInfo())"
   ]
  },
  {
   "cell_type": "code",
   "execution_count": 8,
   "id": "deadly-africa",
   "metadata": {},
   "outputs": [],
   "source": [
    "##get list of image ids in filtered collection for L5, L7, and L8\n",
    "#filteredCollectionLS5.aggregate_array('system:id').getInfo()\n",
    "#filteredCollectionLS8.aggregate_array('system:id').getInfo()\n",
    "#filteredCollectionLS7.aggregate_array('system:id').getInfo()"
   ]
  },
  {
   "cell_type": "code",
   "execution_count": 9,
   "id": "6498160a",
   "metadata": {},
   "outputs": [
    {
     "data": {
      "text/plain": [
       "{'CLOUD_COVER': 5.57,\n",
       " 'CLOUD_COVER_LAND': 5.37,\n",
       " 'EARTH_SUN_DISTANCE': 1.009305,\n",
       " 'ESPA_VERSION': '2_23_0_1a',\n",
       " 'GEOMETRIC_RMSE_MODEL': 8.398,\n",
       " 'GEOMETRIC_RMSE_MODEL_X': 7.087,\n",
       " 'GEOMETRIC_RMSE_MODEL_Y': 4.506,\n",
       " 'IMAGE_DATE': '2017-08-31',\n",
       " 'IMAGE_QUALITY_OLI': 9,\n",
       " 'IMAGE_QUALITY_TIRS': 9,\n",
       " 'LANDSAT_ID': 'LC08_L1TP_014034_20170831_20170915_01_T1',\n",
       " 'LEVEL1_PRODUCTION_DATE': 1505475319000,\n",
       " 'NOMINAL_SCALE': 30,\n",
       " 'PIXEL_QA_VERSION': 'generate_pixel_qa_1.6.0',\n",
       " 'SATELLITE': 'LANDSAT_8',\n",
       " 'SENSING_TIME': '2017-08-31T15:40:46.3074390Z',\n",
       " 'SOLAR_AZIMUTH_ANGLE': 142.104111,\n",
       " 'SOLAR_ZENITH_ANGLE': 34.529263,\n",
       " 'SR_APP_VERSION': 'LaSRC_1.3.0',\n",
       " 'WRS_PATH': 14,\n",
       " 'WRS_ROW': 34,\n",
       " 'system:asset_size': '492.059884 MB',\n",
       " 'system:band_names': ['B1',\n",
       "  'B2',\n",
       "  'B3',\n",
       "  'B4',\n",
       "  'B5',\n",
       "  'B6',\n",
       "  'B7',\n",
       "  'B10',\n",
       "  'B11',\n",
       "  'sr_aerosol',\n",
       "  'pixel_qa',\n",
       "  'radsat_qa'],\n",
       " 'system:id': 'LANDSAT/LC08/C01/T1_SR/LC08_014034_20170831',\n",
       " 'system:index': 'LC08_014034_20170831',\n",
       " 'system:time_end': '2017-08-31 15:40:46',\n",
       " 'system:time_start': '2017-08-31 15:40:46',\n",
       " 'system:version': 1522719588068968}"
      ]
     },
     "execution_count": 9,
     "metadata": {},
     "output_type": "execute_result"
    }
   ],
   "source": [
    "##add image number for each of the images in the filtered collection - closer to 8/15 is best\n",
    "\n",
    "##landsat 5\n",
    "image00 = ee.Image('LANDSAT/LT05/C01/T1_SR/LT05_014034_20000901') \n",
    "image01 = ee.Image('LANDSAT/LT05/C01/T1_SR/LT05_014034_20010803') \n",
    "image02 = ee.Image('LANDSAT/LT05/C01/T1_SR/LT05_014034_20020822')\n",
    "image03 = ee.Image('LANDSAT/LT05/C01/T1_SR/LT05_014034_20030825') \n",
    "image04 = ee.Image('LANDSAT/LT05/C01/T1_SR/LT05_014034_20040811')\n",
    "image05 = ee.Image('LANDSAT/LT05/C01/T1_SR/LT05_014034_20050814')\n",
    "image06 = ee.Image('LANDSAT/LT05/C01/T1_SR/LT05_014034_20060817') \n",
    "image07 = ee.Image('LANDSAT/LT05/C01/T1_SR/LT05_014034_20070905')\n",
    "image08 = ee.Image('LANDSAT/LT05/C01/T1_SR/LT05_014034_20080822')\n",
    "image09 = ee.Image('LANDSAT/LT05/C01/T1_SR/LT05_014034_20090809')\n",
    "image10 = ee.Image('LANDSAT/LT05/C01/T1_SR/LT05_014034_20100828') \n",
    "image11 = ee.Image('LANDSAT/LT05/C01/T1_SR/LT05_014034_20110815')\n",
    "\n",
    "##landsat 7\n",
    "image12 = ee.Image('LANDSAT/LE07/C01/T1_SR/LE07_014034_20120926') #l7 striping is fixed in study area!\n",
    "\n",
    "##landsat 8\n",
    "image13 = ee.Image('LANDSAT/LC08/C01/T1_SR/LC08_014034_20130905') \n",
    "image14 = ee.Image('LANDSAT/LC08/C01/T1_SR/LC08_014034_20140807') \n",
    "image15 = ee.Image('LANDSAT/LC08/C01/T1_SR/LC08_014034_20150826') \n",
    "image16 = ee.Image('LANDSAT/LC08/C01/T1_SR/LC08_014034_20160812') \n",
    "image17 = ee.Image('LANDSAT/LC08/C01/T1_SR/LC08_014034_20170831') \n",
    "\n",
    "##Make image collection for each year, then cloud mask? Rather than cloud masking individual images?\n",
    "\n",
    "##determining cloud cover\n",
    "cloudiness = image06.get('CLOUD_COVER')\n",
    "#print('CLOUD_COVER: ', cloudiness.getInfo())\n",
    "\n",
    "l8_param = {'min': 0, \n",
    "             'max': 2000, \n",
    "             'bands': ['B5', 'B4', 'B3'], \n",
    "             'gamma': 1.5} ##be very careful with analysis of l8 vs l5 data - different band numbers!\n",
    "\n",
    "#Map.addLayer(image15, l8_param, \"l82015\")\n",
    "#Map.addLayer(image12, vis_param, \"l72012\")\n",
    "\n",
    "props = geemap.image_props(image17)\n",
    "props.getInfo()"
   ]
  },
  {
   "cell_type": "code",
   "execution_count": 12,
   "id": "a3f921a0",
   "metadata": {
    "scrolled": false
   },
   "outputs": [
    {
     "data": {
      "application/vnd.jupyter.widget-view+json": {
       "model_id": "98f72a3f5d3045818af5f26e16e43dfd",
       "version_major": 2,
       "version_minor": 0
      },
      "text/plain": [
       "Map(center=[37.485005614872954, -75.76448856851104], controls=(WidgetControl(options=['position'], widget=HBox…"
      ]
     },
     "metadata": {},
     "output_type": "display_data"
    }
   ],
   "source": [
    "##Mapping\n",
    "##Add Earth Engine dataset\n",
    "Map = geemap.Map(center=[40,-100], zoom=4)\n",
    "\n",
    "Map.addLayer(image0, vis_param, \"Landsat5SR\")\n",
    "\n",
    "Map.centerObject(plot_pts, 10)\n",
    "#Map.set_plot_options(add_marker_cluster = True) ##not sure what this does\n",
    "\n",
    "\n",
    "##add feature collection points for each plot\n",
    "Map.addLayer(plot_pts)\n",
    "Map.addLayer(ga_pts)\n",
    "\n",
    "Map"
   ]
  },
  {
   "cell_type": "code",
   "execution_count": 13,
   "id": "6679456c",
   "metadata": {
    "scrolled": false
   },
   "outputs": [],
   "source": [
    "#extracting raster values for points; \n",
    "#from: https://developers.google.com/earth-engine/tutorials/community/extract-raster-values-for-points\n",
    "#buffering points"
   ]
  },
  {
   "cell_type": "code",
   "execution_count": 85,
   "id": "58b3c209",
   "metadata": {},
   "outputs": [],
   "source": [
    "## This example demonstrates the use of the pixel QA band to mask\n",
    "## clouds in surface reflectance (SR) data.  It is suitable\n",
    "## for use with any of the Landsat SR datasets.\n",
    "\n",
    "##Function to cloud mask from the pixel_qa band of Landsat 5/8 SR data.\n",
    "def maskL5sr(image):\n",
    "  ##Bits 3 and 5 are cloud shadow and cloud, respectively.\n",
    "  cloudShadowBitMask = 1 << 3\n",
    "  cloudsBitMask = 1 << 5\n",
    "\n",
    "  ##Get the pixel QA band.\n",
    "  qa = image.select('pixel_qa')\n",
    "\n",
    "  ##Both flags should be set to zero, indicating clear conditions.\n",
    "  mask = qa.bitwiseAnd(cloudShadowBitMask).eq(0) \\\n",
    "      .And(qa.bitwiseAnd(cloudsBitMask).eq(0))\n",
    "\n",
    "  ##Return the masked image, scaled to reflectance, without the QA bands.\n",
    "  return image.updateMask(mask).divide(10000) \\\n",
    "      .select(\"B[0-9]*\") \\\n",
    "      .copyProperties(image, [\"system:time_start\"])\n",
    "\n",
    "##Map the function over image collection\n",
    "collection = filteredCollectionLS5 \\\n",
    "    .map(maskL5sr)\n",
    "\n",
    "composite = collection.median() #what exactly is this doing? median pixel value?\n",
    "\n",
    "##Display the results:\n",
    "\n",
    "#Map.addLayer(composite, {'bands': ['B4',  'B3',  'B2'], 'min': 0, 'max': 0.2}, \"cloudfree composite\")"
   ]
  },
  {
   "cell_type": "code",
   "execution_count": 86,
   "id": "fa2ae78a",
   "metadata": {},
   "outputs": [],
   "source": [
    "masked00 = ee.Image(maskL5sr(image00))\n",
    "Map.addLayer(composite) #using cloud mask on cloudfree composite with default vis param as gray background\n",
    "Map.addLayer(masked00, {'bands': ['B4',  'B3',  'B2'], 'min': 0, 'max': 0.2}, \"2000 masked\") #isn't perfect but good\n",
    "Map.addLayer(image00, vis_param, \"2000 unmasked\")\n",
    "#Map.addLayer(collection.first(), {'bands': ['B4',  'B3',  'B2'], 'min': 0, 'max': 0.3}, \"masked???\")\n",
    "Map.addLayer(plot_pts)"
   ]
  },
  {
   "cell_type": "code",
   "execution_count": 87,
   "id": "480ad4e0",
   "metadata": {},
   "outputs": [],
   "source": [
    "##cloud- and cloud shadow-masked images - VA LTER :D\n",
    "masked00 = ee.Image(maskL5sr(image00))\n",
    "masked01 = ee.Image(maskL5sr(image01))\n",
    "masked02 = ee.Image(maskL5sr(image02))\n",
    "masked03 = ee.Image(maskL5sr(image03))\n",
    "masked04 = ee.Image(maskL5sr(image04))\n",
    "masked05 = ee.Image(maskL5sr(image05))\n",
    "masked06 = ee.Image(maskL5sr(image06))\n",
    "masked07 = ee.Image(maskL5sr(image07))\n",
    "masked08 = ee.Image(maskL5sr(image08))\n",
    "masked09 = ee.Image(maskL5sr(image09))\n",
    "masked10 = ee.Image(maskL5sr(image10))\n",
    "masked11 = ee.Image(maskL5sr(image11))\n",
    "masked12 = ee.Image(maskL5sr(image12))\n",
    "masked13 = ee.Image(maskL5sr(image13))\n",
    "masked14 = ee.Image(maskL5sr(image14))\n",
    "masked15 = ee.Image(maskL5sr(image15))\n",
    "masked16 = ee.Image(maskL5sr(image16))\n",
    "masked17 = ee.Image(maskL5sr(image17))"
   ]
  },
  {
   "cell_type": "code",
   "execution_count": 92,
   "id": "f44cc185",
   "metadata": {},
   "outputs": [],
   "source": [
    "##Exporting pixel values - any way to do zonal averages without manually selecting - VA LTER\n",
    "in_fc = plot_pts\n",
    "\n",
    "##export data\n",
    "out_dir = os.path.expanduser('~/Downloads')\n",
    "out_csv = os.path.join(out_dir, 'masked07.csv')\n",
    "#out_shp = os.path.join(out_dir, 'points.shp') ##shapefile exporting\n",
    "#geemap.extract_values_to_points(in_fc, masked07, out_csv) ##projection error when exporting composites"
   ]
  },
  {
   "cell_type": "code",
   "execution_count": 57,
   "id": "348d5ca0",
   "metadata": {},
   "outputs": [
    {
     "name": "stdout",
     "output_type": "stream",
     "text": [
      "16\n"
     ]
    }
   ],
   "source": [
    "##summer median composite pixel values - error when exporting values!!!\n",
    "LS5comp2000 = ee.ImageCollection('LANDSAT/LT05/C01/T1_SR') \\\n",
    "    .filter(ee.Filter.calendarRange(2000, 2000,'year')) \\\n",
    "    .filterBounds(plot_pts) \\\n",
    "    .filterMetadata('CLOUD_COVER', 'less_than', 100) \\\n",
    "    .sort('CLOUD_COVER', True)\n",
    "\n",
    "vis_param = {'min': 0, \n",
    "             'max': 2000, \n",
    "             'bands': ['B4', 'B3', 'B2'], \n",
    "             'gamma': 1.5}\n",
    "\n",
    "print(LS5comp2000.size().getInfo())\n",
    "\n",
    "collection2000 = LS5comp2000.map(maskL5sr)\n",
    "composite2000 = collection2000.median()\n",
    "#Map.addLayer(composite2000, {'bands': ['B4',  'B3',  'B2'], 'min': 0, 'max': 0.3}, \"cloudfree composite 2000\")"
   ]
  },
  {
   "cell_type": "code",
   "execution_count": 51,
   "id": "98733af4",
   "metadata": {},
   "outputs": [],
   "source": [
    "#LS5comp2000.aggregate_array('system:id').getInfo()"
   ]
  },
  {
   "cell_type": "code",
   "execution_count": 29,
   "id": "89ac1c48",
   "metadata": {},
   "outputs": [
    {
     "name": "stdout",
     "output_type": "stream",
     "text": [
      "hi\n"
     ]
    }
   ],
   "source": [
    "print(\"hi\")"
   ]
  }
 ],
 "metadata": {
  "kernelspec": {
   "display_name": "feesh",
   "language": "python",
   "name": "feesh"
  },
  "language_info": {
   "codemirror_mode": {
    "name": "ipython",
    "version": 3
   },
   "file_extension": ".py",
   "mimetype": "text/x-python",
   "name": "python",
   "nbconvert_exporter": "python",
   "pygments_lexer": "ipython3",
   "version": "3.9.4"
  }
 },
 "nbformat": 4,
 "nbformat_minor": 5
}
