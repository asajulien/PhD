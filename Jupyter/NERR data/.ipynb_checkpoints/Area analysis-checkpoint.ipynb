{
 "cells": [
  {
   "cell_type": "code",
   "execution_count": null,
   "id": "7df92839",
   "metadata": {},
   "outputs": [],
   "source": [
    "import pandas as pd\n",
    "import numpy as np\n",
    "import matplotlib.pyplot as plt\n",
    "import pdb\n",
    "from IPython.display import display\n",
    "import os\n",
    "import glob"
   ]
  },
  {
   "cell_type": "code",
   "execution_count": null,
   "id": "8f6bfffc",
   "metadata": {},
   "outputs": [],
   "source": [
    "import ee\n",
    "import geemap\n",
    "\n",
    "ee.Initialize()"
   ]
  },
  {
   "cell_type": "code",
   "execution_count": null,
   "id": "588d18ff",
   "metadata": {},
   "outputs": [],
   "source": [
    "#Station coordinates (FLATS around stations?)\n",
    "\n",
    "stazioni = pd.read_csv('C:/Users/arj26323/Documents/Data/NERR data/All_stations2.csv')\n",
    "\n",
    "# print(stazioni['Station Code'].unique())\n",
    "\n",
    "stazioni = stazioni[stazioni['Station Code'].str.contains('nut')]\n",
    "\n",
    "stazioni.rename(columns={\"Latitude \": \"Latitude\", \" Longitude\": \"Longitude\"}, inplace= True)\n",
    "\n",
    "dfs = stazioni[['Station Code', 'Station Name', 'Latitude', 'Longitude']]\n",
    "\n",
    "dfx = dfs[dfs['Station Code']=='sapdcnut  '] #two spaces put in after each code for some stupid fucking reason\n",
    "\n",
    "dfx"
   ]
  },
  {
   "cell_type": "code",
   "execution_count": null,
   "id": "59263fc6",
   "metadata": {},
   "outputs": [],
   "source": [
    "px = ee.Geometry.Point([dfx.iloc[0,3], dfx.iloc[0,2]])\n"
   ]
  },
  {
   "cell_type": "code",
   "execution_count": null,
   "id": "8c784e9a",
   "metadata": {},
   "outputs": [],
   "source": [
    "Map = geemap.Map(center=[31.3896,-81.2789], zoom=16)\n",
    "\n",
    "# Map"
   ]
  },
  {
   "cell_type": "code",
   "execution_count": null,
   "id": "7408996e",
   "metadata": {},
   "outputs": [],
   "source": [
    "##Function to cloud mask from the pixel_qa band of Landsat 5/8 SR data.\n",
    "def maskL5sr(image):\n",
    "    qaMask = image.select('QA_PIXEL').bitwiseAnd(int('11111', 2)).eq(0)\n",
    "    saturationMask = image.select('QA_RADSAT').eq(0)\n",
    "    # Apply the scaling factors to the appropriate bands.\n",
    "    opticalBands = image.select('SR_B.').multiply(0.0000275).add(-0.2)\n",
    "    thermalBands = image.select('ST_B.*').multiply(0.00341802).add(149.0)\n",
    "    # Replace the original bands with the scaled ones and apply the masks.\n",
    "    return image.addBands(opticalBands, None, True) \\\n",
    "    .addBands(thermalBands, None, True) \\\n",
    "    .updateMask(qaMask) \\\n",
    "    .updateMask(saturationMask)\n",
    "\n",
    "def addFLATSL7(image):\n",
    "    flats = ee.Image(0).expression(\n",
    "        '1/(1+2.718281828459045**-(1.51 + 12.5*(RED-SWIR)/(RED+SWIR) - 41.2*(NIR-RED)/(NIR+6*RED-7.5*BLUE+1)))', {\n",
    "            'SWIR': image.select('SR_B5'),\n",
    "            'NIR': image.select('SR_B4'),\n",
    "            'RED': image.select('SR_B3'),\n",
    "            'BLUE': image.select('SR_B1')\n",
    "        })\n",
    "    \n",
    "    return image.addBands(flats.rename('flats'))\n",
    "\n",
    "def addFLATSL5(image):\n",
    "    flats = ee.Image(0).expression(\n",
    "        '1/(1+2.718281828459045**-(1.51 + 12.5*(0.972*(RED-SWIR)/(RED+SWIR)-0.008) - 41.2*(0.991*(NIR-RED)/(NIR+6*RED-7.5*BLUE+1)-0.0014)))', {\n",
    "            'SWIR': image.select('SR_B5'),\n",
    "            'NIR': image.select('SR_B4'),\n",
    "            'RED': image.select('SR_B3'),\n",
    "            'BLUE': image.select('SR_B1')\n",
    "        })\n",
    "    \n",
    "    return image.addBands(flats.rename('flats'))\n",
    "\n",
    "\n",
    "def addFLATSL8(image):\n",
    "    flats = ee.Image(0).expression(\n",
    "        '1/(1+2.718281828459045**-(1.51 + 12.5*(0.841*(RED-SWIR)/(RED+SWIR) - 0.019) - 41.2*(0.771*(NIR-RED)/(NIR+6*RED-7.5*BLUE+1) + 0.011)))', {\n",
    "            'SWIR': image.select('SR_B6'),\n",
    "            'NIR': image.select('SR_B5'),\n",
    "            'RED': image.select('SR_B4'),\n",
    "            'BLUE': image.select('SR_B2')\n",
    "        })\n",
    "    \n",
    "    return image.addBands(flats.rename('flats'))\n",
    "\n",
    "def addFLATSL9(image):\n",
    "    flats = ee.Image(0).expression(\n",
    "        '1/(1+2.718281828459045**-(1.51 + 12.5*(1.225*(RED-SWIR)/(RED+SWIR) + 0.096) - 41.2*(1.038* (NIR-RED)/(NIR+6*RED-7.5*BLUE+1) - 0.004)))', {\n",
    "            'SWIR': image.select('SR_B6'),\n",
    "            'NIR': image.select('SR_B5'),\n",
    "            'RED': image.select('SR_B4'),\n",
    "            'BLUE': image.select('SR_B2')\n",
    "        })\n",
    "    \n",
    "    return image.addBands(flats.rename('flats'))\n",
    "\n",
    "def add_date_band(image):\n",
    "    # Get the acquisition date\n",
    "    date = ee.Date(image.get('system:time_start'))\n",
    "    \n",
    "    # Convert the date to milliseconds since Unix epoch\n",
    "    date_millis = date.millis()\n",
    "    \n",
    "    # Create an image with a single band representing the acquisition date\n",
    "    date_image = ee.Image.constant(date_millis).int64().rename('acquisition_date')\n",
    "    \n",
    "    # Add the date image as a band to the original image\n",
    "    return image.addBands(date_image)\n",
    "\n",
    "gce_lter = geemap.shp_to_ee('F:/Wetlands shapefiles/GCE domain/GCE_LTER_boundary.shp')\n",
    "\n",
    "#Loading gee datasets\n",
    "l8_col = ee.ImageCollection('LANDSAT/LC08/C02/T1_L2') \\\n",
    "    .filter(ee.Filter.calendarRange(1998, 2023,'year')) \\\n",
    "    .filterBounds(gce_lter) \\\n",
    "    .map(maskL5sr).map(addFLATSL8).map(add_date_band)\n",
    "\n",
    "l7_col = ee.ImageCollection('LANDSAT/LE07/C02/T1_L2') \\\n",
    "    .filter(ee.Filter.calendarRange(1984, 2023,'year')) \\\n",
    "    .filterBounds(gce_lter)\\\n",
    "    .map(maskL5sr).map(addFLATSL7).map(add_date_band)\n",
    "\n",
    "l5_col = ee.ImageCollection('LANDSAT/LT05/C02/T1_L2') \\\n",
    "    .filter(ee.Filter.calendarRange(1984, 2023,'year')) \\\n",
    "    .filterBounds(gce_lter)\\\n",
    "    .map(maskL5sr).map(addFLATSL5).map(add_date_band)\n",
    "\n",
    "l9_col = ee.ImageCollection(\"LANDSAT/LC09/C02/T1_L2\") \\\n",
    "    .filter(ee.Filter.calendarRange(1998, 2023,'year')) \\\n",
    "    .filterBounds(gce_lter)\\\n",
    "    .map(maskL5sr).map(addFLATSL9).map(add_date_band)"
   ]
  },
  {
   "cell_type": "code",
   "execution_count": null,
   "id": "d15372a0",
   "metadata": {},
   "outputs": [],
   "source": [
    "dean_nut = geemap.shp_to_ee('F:/Wetlands shapefiles/GCE domain/Dean_creek.shp')\n",
    "\n",
    "Map.addLayer(l8_col.first(), {'bands': ['SR_B5',  'SR_B4',  'SR_B3'], 'min': 0, 'max': 0.2}, 'Landsat 9')\n",
    "\n",
    "Map.addLayer(dean_nut, {}, 'Dean creek')\n",
    "# Map"
   ]
  },
  {
   "cell_type": "code",
   "execution_count": null,
   "id": "a5dd12ef",
   "metadata": {},
   "outputs": [],
   "source": [
    "ultra_col = l5_col.merge(l7_col).merge(l8_col).merge(l9_col)\n",
    "\n",
    "# ultra = ultra_col.filter(ee.Filter.calendarRange(1984, 2023,'year')).filterBounds(flux_ga)\n",
    "ultra = ultra_col.filter(ee.Filter.calendarRange(2004, 2024,'year')).map(lambda image: image.clip(dean_nut)) \\\n",
    "    .filter(ee.Filter.lte('CLOUD_COVER_LAND', 50))"
   ]
  },
  {
   "cell_type": "code",
   "execution_count": null,
   "id": "b7ff9571",
   "metadata": {},
   "outputs": [],
   "source": [
    "def area_extract(image):\n",
    "    \n",
    "    feature = ee.Image(image).reduceRegions(\n",
    "        collection = dean_nut,\n",
    "        reducer = ee.Reducer.mean(),\n",
    "        scale=30\n",
    "    )\n",
    "    \n",
    "    return feature\n",
    "\n",
    "#reduceRegion doesn't work (geometry instead of collection) - why? maybe loop below is the issue"
   ]
  },
  {
   "cell_type": "code",
   "execution_count": null,
   "id": "f5bb444c",
   "metadata": {},
   "outputs": [],
   "source": [
    "im_list = ultra.toList(ultra.size())"
   ]
  },
  {
   "cell_type": "code",
   "execution_count": null,
   "id": "15520a70",
   "metadata": {},
   "outputs": [],
   "source": [
    "# #Extraction - takes a long time!\n",
    "# feature_list = ultra.map(area_extract).flatten().toList(ultra.size())\n",
    "# values_list = []\n",
    "\n",
    "# # Loop through the feature list and extract values\n",
    "# for i in range(feature_list.size().getInfo()):\n",
    "#     feature = ee.Feature(feature_list.get(i))\n",
    "#     properties = feature.toDictionary()\n",
    "#     values_list.append(properties.getInfo())\n",
    "\n",
    "# # Convert the list of dictionaries to a pandas DataFrame\n",
    "# timeseries_df = pd.DataFrame(values_list)\n",
    "\n",
    "# # Print the DataFrame\n",
    "# print(timeseries_df)"
   ]
  },
  {
   "cell_type": "code",
   "execution_count": null,
   "id": "b20e2f86",
   "metadata": {},
   "outputs": [],
   "source": [
    "import os\n",
    "out_dir = os.path.expanduser('C:/Users/arj26323/Documents/Data/NERR data/')\n",
    "out_csv = os.path.join(out_dir, 'timeseries_area.csv')\n",
    "# timeseries_df.to_csv(out_csv, index = False)"
   ]
  },
  {
   "cell_type": "code",
   "execution_count": null,
   "id": "9dc0d61c",
   "metadata": {},
   "outputs": [],
   "source": [
    "timeseries_df = pd.read_csv('C:/Users/arj26323/Documents/Data/NERR data/timeseries_area.csv')\n",
    "\n",
    "timeseries_df['Date'] = pd.to_datetime(timeseries_df['acquisition_date'], unit = 'ms')\n",
    "timeseries_df['DOY'] = timeseries_df['Date'].dt.strftime('%Y-%m-%d')\n",
    "timeseries_df['DOY'] = pd.to_datetime(timeseries_df['DOY'])\n",
    "\n",
    "timeseries_df"
   ]
  },
  {
   "cell_type": "code",
   "execution_count": null,
   "id": "7bf5c4d2",
   "metadata": {},
   "outputs": [],
   "source": [
    "import seaborn as sns\n",
    "sns.scatterplot(data = timeseries_df, x = 'Date', y = 'flats')"
   ]
  }
 ],
 "metadata": {
  "kernelspec": {
   "display_name": "Python [conda env:gee] *",
   "language": "python",
   "name": "conda-env-gee-py"
  },
  "language_info": {
   "codemirror_mode": {
    "name": "ipython",
    "version": 3
   },
   "file_extension": ".py",
   "mimetype": "text/x-python",
   "name": "python",
   "nbconvert_exporter": "python",
   "pygments_lexer": "ipython3",
   "version": "3.10.13"
  }
 },
 "nbformat": 4,
 "nbformat_minor": 5
}
