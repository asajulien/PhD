{
 "cells": [
  {
   "cell_type": "code",
   "execution_count": 1,
   "id": "392a467a",
   "metadata": {},
   "outputs": [],
   "source": [
    "import geemap\n",
    "import ee\n",
    "import os\n",
    "import pandas as pd\n",
    "import rasterio\n",
    "import geopandas as gpd\n",
    "import rasterstats\n",
    "import fiona"
   ]
  },
  {
   "cell_type": "code",
   "execution_count": 2,
   "id": "5ba71187",
   "metadata": {},
   "outputs": [],
   "source": [
    "#ee.Authenticate()\n",
    "# geemap.update_package()"
   ]
  },
  {
   "cell_type": "code",
   "execution_count": 3,
   "id": "f1c45040",
   "metadata": {},
   "outputs": [
    {
     "data": {
      "application/vnd.jupyter.widget-view+json": {
       "model_id": "a30673c26f2e4196af01a2893af9c555",
       "version_major": 2,
       "version_minor": 0
      },
      "text/plain": [
       "Map(center=[40, -100], controls=(WidgetControl(options=['position', 'transparent_bg'], widget=HBox(children=(T…"
      ]
     },
     "metadata": {},
     "output_type": "display_data"
    }
   ],
   "source": [
    "#list of plots in GA LTER dataset (not including broad creek)\n",
    "\n",
    "ee.Initialize()\n",
    "\n",
    "Map = geemap.Map()\n",
    "Map"
   ]
  },
  {
   "cell_type": "code",
   "execution_count": 77,
   "id": "51918d08",
   "metadata": {},
   "outputs": [],
   "source": [
    "##Loading CSVs\n",
    "##PC\n",
    "in_csv = 'C:/Users/arj26323/Documents/Data/Biomass datasets/BMA.csv'\n",
    "df = geemap.csv_to_pandas(in_csv)\n",
    "df = df [['Date', 'Longitude', 'Latitude']]\n",
    "\n",
    "##Load feature class\n",
    "##PC\n",
    "df_fc = 'C:/Users/arj26323/Documents/Data/Biomass datasets/BMA_fc.csv' ##Can only be done once file created; see below\n",
    "\n",
    "bma_points = geemap.xy_to_points(df_fc, latitude = 'Latitude', longitude = 'Longitude')\n",
    "Map.addLayer(bma_points, {}, 'BMA sampling locations')"
   ]
  },
  {
   "cell_type": "code",
   "execution_count": 5,
   "id": "47cf5217",
   "metadata": {},
   "outputs": [
    {
     "name": "stdout",
     "output_type": "stream",
     "text": [
      "      Date  Longitude   Latitude\n",
      "0   29-Sep -81.289612  31.420226\n",
      "1   29-Sep -81.289615  31.420161\n",
      "2   29-Sep -81.289577  31.420091\n",
      "3   29-Sep -81.289622  31.420043\n",
      "4   29-Sep -81.289572  31.419946\n",
      "..     ...        ...        ...\n",
      "95  21-May -81.285426  31.390442\n",
      "96  21-May -81.285451  31.390501\n",
      "97  21-May -81.285515  31.390622\n",
      "98  21-May -81.285523  31.390656\n",
      "99  21-May -81.285584  31.390643\n",
      "\n",
      "[100 rows x 3 columns]\n"
     ]
    }
   ],
   "source": [
    "print(df)\n",
    "# print(df.dtypes)"
   ]
  },
  {
   "cell_type": "code",
   "execution_count": 6,
   "id": "85566697",
   "metadata": {},
   "outputs": [
    {
     "data": {
      "application/vnd.jupyter.widget-view+json": {
       "model_id": "1fb7ee61b33b4f3c9235d9e7825dd958",
       "version_major": 2,
       "version_minor": 0
      },
      "text/plain": [
       "Url()"
      ]
     },
     "metadata": {},
     "output_type": "display_data"
    }
   ],
   "source": [
    "##Load planetdata geotiff imagery\n",
    "##PC\n",
    "dean_may = r'E:/BMA planet data/21_May_2021/files/20210521_151835_36_2444_3B_AnalyticMS_SR_clip.tif'\n",
    "dean_mar_a = r'E:/BMA planet data/22_Mar_2021/files/20210322_154607_103c_3B_AnalyticMS_SR_clip.tif'\n",
    "dean_mar_b = r'E:/BMA planet data/22_Mar_2021/files/20210322_154608_103c_3B_AnalyticMS_SR_clip.tif'\n",
    "dean_sep30_a = r'E:/BMA planet data/22_Mar_2021/files/20200930_154455_1011_3B_AnalyticMS_SR_clip.tif'\n",
    "dean_sep30_b = r'E:/BMA planet data/22_Mar_2021/files/20200930_154456_1011_3B_AnalyticMS_SR_clip.tif'\n",
    "\n",
    "dean_x = ee.Image(dean_may)\n",
    "\n",
    "ls_x = r'C:/Users/arj26323/Downloads/landsat.tif'\n",
    "\n",
    "Map.add_raster(dean_may, bands = [3, 2, 1], layer_name='May 2021') ##Not working-doesn't work if you manually load it either"
   ]
  },
  {
   "cell_type": "code",
   "execution_count": 7,
   "id": "77fe0d87",
   "metadata": {},
   "outputs": [
    {
     "data": {
      "text/plain": [
       "<ee.image.Image at 0x1ed0325bf10>"
      ]
     },
     "execution_count": 7,
     "metadata": {},
     "output_type": "execute_result"
    }
   ],
   "source": [
    "dean_x"
   ]
  },
  {
   "cell_type": "code",
   "execution_count": 8,
   "id": "de66c7fb",
   "metadata": {},
   "outputs": [
    {
     "name": "stdout",
     "output_type": "stream",
     "text": [
      "      Date  Longitude   Latitude\n",
      "0   29-Sep -81.289612  31.420226\n",
      "1   29-Sep -81.289615  31.420161\n",
      "2   29-Sep -81.289577  31.420091\n",
      "3   29-Sep -81.289622  31.420043\n",
      "4   29-Sep -81.289572  31.419946\n",
      "..     ...        ...        ...\n",
      "95  21-May -81.285426  31.390442\n",
      "96  21-May -81.285451  31.390501\n",
      "97  21-May -81.285515  31.390622\n",
      "98  21-May -81.285523  31.390656\n",
      "99  21-May -81.285584  31.390643\n",
      "\n",
      "[100 rows x 3 columns]\n"
     ]
    }
   ],
   "source": [
    "##Export CSV file - to then load as feature class\n",
    "in_fc = df\n",
    "out_dir = os.path.expanduser('~/Documents/Data/Biomass datasets')\n",
    "out_csv = os.path.join(out_dir, 'BMA_fc.csv')\n",
    "#df.to_csv('~/Documents/Data/Biomass datasets/BMA_fc.csv', index = False)\n",
    "print(df)"
   ]
  },
  {
   "cell_type": "code",
   "execution_count": 71,
   "id": "bb31ef5b",
   "metadata": {},
   "outputs": [
    {
     "name": "stdout",
     "output_type": "stream",
     "text": [
      "EPSG:32617\n",
      "4\n",
      "{'driver': 'GTiff', 'dtype': 'uint16', 'nodata': 0.0, 'width': 2393, 'height': 2394, 'count': 4, 'crs': CRS.from_epsg(32617), 'transform': Affine(3.0, 0.0, 470370.0,\n",
      "       0.0, -3.0, 3478281.0)}\n"
     ]
    },
    {
     "data": {
      "text/html": [
       "<div>\n",
       "<style scoped>\n",
       "    .dataframe tbody tr th:only-of-type {\n",
       "        vertical-align: middle;\n",
       "    }\n",
       "\n",
       "    .dataframe tbody tr th {\n",
       "        vertical-align: top;\n",
       "    }\n",
       "\n",
       "    .dataframe thead th {\n",
       "        text-align: right;\n",
       "    }\n",
       "</style>\n",
       "<table border=\"1\" class=\"dataframe\">\n",
       "  <thead>\n",
       "    <tr style=\"text-align: right;\">\n",
       "      <th></th>\n",
       "      <th>Easting</th>\n",
       "      <th>Northing</th>\n",
       "      <th>Longitude</th>\n",
       "      <th>Latitude</th>\n",
       "      <th>geometry</th>\n",
       "      <th>Raster Value</th>\n",
       "    </tr>\n",
       "  </thead>\n",
       "  <tbody>\n",
       "    <tr>\n",
       "      <th>0</th>\n",
       "      <td>472473.81</td>\n",
       "      <td>3476211.27</td>\n",
       "      <td>-81.289612</td>\n",
       "      <td>31.420226</td>\n",
       "      <td>POINT (472473.810 3476211.270)</td>\n",
       "      <td>603</td>\n",
       "    </tr>\n",
       "    <tr>\n",
       "      <th>1</th>\n",
       "      <td>472473.49</td>\n",
       "      <td>3476204.11</td>\n",
       "      <td>-81.289615</td>\n",
       "      <td>31.420161</td>\n",
       "      <td>POINT (472473.490 3476204.110)</td>\n",
       "      <td>649</td>\n",
       "    </tr>\n",
       "    <tr>\n",
       "      <th>2</th>\n",
       "      <td>472477.10</td>\n",
       "      <td>3476196.37</td>\n",
       "      <td>-81.289577</td>\n",
       "      <td>31.420091</td>\n",
       "      <td>POINT (472477.100 3476196.370)</td>\n",
       "      <td>583</td>\n",
       "    </tr>\n",
       "    <tr>\n",
       "      <th>3</th>\n",
       "      <td>472472.80</td>\n",
       "      <td>3476191.07</td>\n",
       "      <td>-81.289622</td>\n",
       "      <td>31.420043</td>\n",
       "      <td>POINT (472472.800 3476191.070)</td>\n",
       "      <td>631</td>\n",
       "    </tr>\n",
       "    <tr>\n",
       "      <th>4</th>\n",
       "      <td>472477.51</td>\n",
       "      <td>3476180.26</td>\n",
       "      <td>-81.289572</td>\n",
       "      <td>31.419946</td>\n",
       "      <td>POINT (472477.510 3476180.260)</td>\n",
       "      <td>566</td>\n",
       "    </tr>\n",
       "    <tr>\n",
       "      <th>...</th>\n",
       "      <td>...</td>\n",
       "      <td>...</td>\n",
       "      <td>...</td>\n",
       "      <td>...</td>\n",
       "      <td>...</td>\n",
       "      <td>...</td>\n",
       "    </tr>\n",
       "    <tr>\n",
       "      <th>95</th>\n",
       "      <td>472863.15</td>\n",
       "      <td>3472909.23</td>\n",
       "      <td>-81.285426</td>\n",
       "      <td>31.390442</td>\n",
       "      <td>POINT (472863.150 3472909.230)</td>\n",
       "      <td>585</td>\n",
       "    </tr>\n",
       "    <tr>\n",
       "      <th>96</th>\n",
       "      <td>472860.75</td>\n",
       "      <td>3472915.76</td>\n",
       "      <td>-81.285451</td>\n",
       "      <td>31.390501</td>\n",
       "      <td>POINT (472860.750 3472915.760)</td>\n",
       "      <td>581</td>\n",
       "    </tr>\n",
       "    <tr>\n",
       "      <th>97</th>\n",
       "      <td>472854.71</td>\n",
       "      <td>3472929.25</td>\n",
       "      <td>-81.285515</td>\n",
       "      <td>31.390622</td>\n",
       "      <td>POINT (472854.710 3472929.250)</td>\n",
       "      <td>601</td>\n",
       "    </tr>\n",
       "    <tr>\n",
       "      <th>98</th>\n",
       "      <td>472853.96</td>\n",
       "      <td>3472933.02</td>\n",
       "      <td>-81.285523</td>\n",
       "      <td>31.390656</td>\n",
       "      <td>POINT (472853.960 3472933.020)</td>\n",
       "      <td>590</td>\n",
       "    </tr>\n",
       "    <tr>\n",
       "      <th>99</th>\n",
       "      <td>472848.13</td>\n",
       "      <td>3472931.53</td>\n",
       "      <td>-81.285584</td>\n",
       "      <td>31.390643</td>\n",
       "      <td>POINT (472848.130 3472931.530)</td>\n",
       "      <td>619</td>\n",
       "    </tr>\n",
       "  </tbody>\n",
       "</table>\n",
       "<p>100 rows × 6 columns</p>\n",
       "</div>"
      ],
      "text/plain": [
       "      Easting    Northing  Longitude   Latitude  \\\n",
       "0   472473.81  3476211.27 -81.289612  31.420226   \n",
       "1   472473.49  3476204.11 -81.289615  31.420161   \n",
       "2   472477.10  3476196.37 -81.289577  31.420091   \n",
       "3   472472.80  3476191.07 -81.289622  31.420043   \n",
       "4   472477.51  3476180.26 -81.289572  31.419946   \n",
       "..        ...         ...        ...        ...   \n",
       "95  472863.15  3472909.23 -81.285426  31.390442   \n",
       "96  472860.75  3472915.76 -81.285451  31.390501   \n",
       "97  472854.71  3472929.25 -81.285515  31.390622   \n",
       "98  472853.96  3472933.02 -81.285523  31.390656   \n",
       "99  472848.13  3472931.53 -81.285584  31.390643   \n",
       "\n",
       "                          geometry  Raster Value  \n",
       "0   POINT (472473.810 3476211.270)           603  \n",
       "1   POINT (472473.490 3476204.110)           649  \n",
       "2   POINT (472477.100 3476196.370)           583  \n",
       "3   POINT (472472.800 3476191.070)           631  \n",
       "4   POINT (472477.510 3476180.260)           566  \n",
       "..                             ...           ...  \n",
       "95  POINT (472863.150 3472909.230)           585  \n",
       "96  POINT (472860.750 3472915.760)           581  \n",
       "97  POINT (472854.710 3472929.250)           601  \n",
       "98  POINT (472853.960 3472933.020)           590  \n",
       "99  POINT (472848.130 3472931.530)           619  \n",
       "\n",
       "[100 rows x 6 columns]"
      ]
     },
     "execution_count": 71,
     "metadata": {},
     "output_type": "execute_result"
    }
   ],
   "source": [
    "##Using geopandas and rasterio to extract point data\n",
    "##need to fix projection issue\n",
    "pts = gpd.read_file('C:/Users/arj26323/Documents/Data/Biomass datasets/Shapefiles/yyy.shp')\n",
    "utms = gpd.read_file('C:/Users/arj26323/Documents/Data/Biomass datasets/Shapefiles/utms.shp')\n",
    "\n",
    "pts = pts[['Latitude', 'Longitude', 'Date', 'geometry']]\n",
    "utms = utms[['Easting', 'Northing', 'Longitude', 'Latitude', 'geometry']]\n",
    "\n",
    "# pts.index = range(len(pts))\n",
    "# coords = [(x,y) for x, y in zip(pts.Latitude, pts.Longitude)]\n",
    "\n",
    "utms.index = range(len(utms))\n",
    "ucoords = [(x,y) for x, y in zip(utms.Easting, utms.Northing)]\n",
    "\n",
    "src = rasterio.open(dean_may)\n",
    "print(src.crs) ##In UTM! Might explain the discrepancy vs epsg 4326 in pts shapefile\n",
    "print(src.count) ##Number of bands\n",
    "print(src.meta)\n",
    "\n",
    "# pts['Raster Value'] = [x[0] for x in src.sample(coords)]\n",
    "utms['Raster Value'] = [x[0] for x in src.sample(ucoords)] ##0 = blue; 1 = green; 2 = red; 3 = NIR\n",
    "\n",
    "from rasterio.plot import show\n",
    "import matplotlib.pyplot as plt\n",
    "# show(src)\n",
    "\n",
    "##another way using rasterstats\n",
    "# from rasterstats import point_query\n",
    "# utms_new = point_query(utms, dean_may)\n",
    "# utms['Band values'] = utms_new ##gives close values to blue band as other method, but not the same - why?\n",
    "\n",
    "utms"
   ]
  },
  {
   "cell_type": "code",
   "execution_count": 73,
   "id": "3a8a28b8",
   "metadata": {},
   "outputs": [
    {
     "data": {
      "image/png": "[encoded data removed]",
      "text/plain": [
       "<Figure size 432x288 with 1 Axes>"
      ]
     },
     "metadata": {
      "needs_background": "light"
     },
     "output_type": "display_data"
    },
    {
     "name": "stderr",
     "output_type": "stream",
     "text": [
      "Clipping input data to the valid range for imshow with RGB data ([0..1] for floats or [0..255] for integers).\n"
     ]
    },
    {
     "data": {
      "image/png": "[encoded data removed]",
      "text/plain": [
       "<Figure size 432x288 with 1 Axes>"
      ]
     },
     "metadata": {
      "needs_background": "light"
     },
     "output_type": "display_data"
    },
    {
     "name": "stdout",
     "output_type": "stream",
     "text": [
      "472473.8099999996 3476211.2700000014\n",
      "472473.4900000002 3476204.1099999994\n",
      "472477.0999999996 3476196.370000001\n",
      "472472.7999999998 3476191.0700000003\n",
      "472477.5100000007 3476180.2600000035\n",
      "472453.31999999937 3476137.830000002\n",
      "472450.11000000034 3476135.869999999\n",
      "472452.38999999966 3476133.420000002\n",
      "472455.9000000013 3476129.8000000007\n",
      "472460.7000000002 3476144.3100000005\n",
      "472361.12000000104 3476238.66\n",
      "472359.6699999999 3476240.26\n",
      "472352.2400000002 3476243.250000002\n",
      "472351.4000000004 3476244.540000003\n",
      "472345.72000000067 3476250.33\n",
      "472204.8799999999 3476236.0900000017\n",
      "472202.69000000134 3476232.2200000025\n",
      "472199.5800000001 3476229.58\n",
      "472194.5800000001 3476226.2200000025\n",
      "472192.29000000097 3476226.5500000007\n",
      "472268.41000000015 3476203.6500000004\n",
      "472267.3300000001 3476201.0199999996\n",
      "472267.2300000023 3476197.4700000025\n",
      "472265.49000000115 3476196.070000002\n",
      "472265.45999999996 3476193.379999999\n",
      "472473.8099999996 3476211.2700000014\n",
      "472473.4900000002 3476204.1099999994\n",
      "472477.0999999996 3476196.370000001\n",
      "472472.7999999998 3476191.0700000003\n",
      "472477.5100000007 3476180.2600000035\n",
      "472453.31999999937 3476137.830000002\n",
      "472450.11000000034 3476135.869999999\n",
      "472452.38999999966 3476133.420000002\n",
      "472455.9000000013 3476129.8000000007\n",
      "472460.7000000002 3476144.3100000005\n",
      "472361.12000000104 3476238.66\n",
      "472359.6699999999 3476240.26\n",
      "472352.2400000002 3476243.250000002\n",
      "472351.4000000004 3476244.540000003\n",
      "472345.72000000067 3476250.33\n",
      "472204.8799999999 3476236.0900000017\n",
      "472202.69000000134 3476232.2200000025\n",
      "472199.5800000001 3476229.58\n",
      "472194.5800000001 3476226.2200000025\n",
      "472192.29000000097 3476226.5500000007\n",
      "472268.41000000015 3476203.6500000004\n",
      "472267.3300000001 3476201.0199999996\n",
      "472267.2300000023 3476197.4700000025\n",
      "472265.49000000115 3476196.070000002\n",
      "472265.45999999996 3476193.379999999\n",
      "473606.9500000002 3472858.2600000016\n",
      "473609.10000000056 3472857.740000002\n",
      "473610.7999999998 3472856.92\n",
      "473612.0800000001 3472855.8200000003\n",
      "473615.35000000056 3472853.8000000045\n",
      "473164.5099999998 3472850.1500000004\n",
      "473165.4000000013 3472849.5200000014\n",
      "473167.9600000009 3472848.580000002\n",
      "473170.3300000001 3472846.570000004\n",
      "473168.54000000004 3472844.1900000013\n",
      "473532.0200000005 3472868.0500000026\n",
      "473529.51999999955 3472866.6500000004\n",
      "473527.4600000009 3472867.7100000028\n",
      "473524.7000000002 3472866.700000001\n",
      "473523.70999999996 3472867.41\n",
      "473530.1400000006 3472830.5600000024\n",
      "473530.7400000021 3472828.9399999995\n",
      "473530.7599999998 3472827.76\n",
      "473531.0999999996 3472825.580000002\n",
      "473531.3499999996 3472824.3600000013\n",
      "473601.82999999914 3472836.210000001\n",
      "473598.68000000063 3472829.7799999993\n",
      "473601.00999999885 3472834.0500000026\n",
      "473602.8799999999 3472820.4800000023\n",
      "473601.2400000021 3472817.320000002\n",
      "472893.8099999996 3472907.080000002\n",
      "472892.4900000002 3472903.5700000003\n",
      "472888.12000000104 3472875.4299999997\n",
      "472886.81999999937 3472872.4700000007\n",
      "472888.54000000097 3472867.83\n",
      "472993.2800000012 3472841.9800000004\n",
      "472996.60000000056 3472841.6799999997\n",
      "472994.41000000015 3472844.41\n",
      "472998.9600000009 3472846.210000001\n",
      "473005.4800000014 3472843.5600000024\n",
      "472787.2400000002 3472938.280000001\n",
      "472781.58999999985 3472940.4600000028\n",
      "472780.04000000097 3472941.1899999976\n",
      "472776.1200000001 3472946.870000001\n",
      "472768.7999999998 3472942.8900000025\n",
      "472689.24000000115 3472954.330000002\n",
      "472690.25000000093 3472956.629999999\n",
      "472697.19000000134 3472953.6500000022\n",
      "472696.08999999985 3472955.670000002\n",
      "472696.8200000003 3472958.8900000006\n",
      "472863.1500000013 3472909.2300000004\n",
      "472860.75000000093 3472915.759999998\n",
      "472854.7100000018 3472929.250000002\n",
      "472853.95999999996 3472933.0199999996\n",
      "472848.1300000008 3472931.530000003\n"
     ]
    }
   ],
   "source": [
    "##Plotting above\n",
    "# fig, ax = plt.subplots(figsize = (12,12))\n",
    "# utms.plot(ax = ax)\n",
    "# show(src, ax = ax)\n",
    "\n",
    "plt.imshow(src.read(4), cmap = 'gray') ##read(4) = NIR band\n",
    "plt.show()\n",
    "show(src)\n",
    "\n",
    "for point in utms['geometry']:\n",
    "    print(point.xy[0][0], point.xy[1][0])\n",
    "    \n",
    "for point in utms['geometry']:\n",
    "    x = point.xy[0][0]\n",
    "    y = point.xy[1][0]"
   ]
  },
  {
   "cell_type": "code",
   "execution_count": 17,
   "id": "cac1e6d5",
   "metadata": {},
   "outputs": [],
   "source": [
    "##Organizing planet imagery for Acolite\n",
    "\n",
    "# import os, shutil\n",
    "\n",
    "# ##PC path\n",
    "# path = (r\"E:\\BMA planet data\\acolite_data\\files\\DN files\")\n",
    "\n",
    "# os.chdir(path)\n",
    "\n",
    "# for f in os.listdir(path):\n",
    "#     folderName = f[:15]\n",
    "    \n",
    "#     if not os.path.exists(folderName):\n",
    "#         os.mkdir(folderName)\n",
    "#         shutil.copy(os.path.join(path, f), folderName)\n",
    "#     else:\n",
    "#         shutil.copy(os.path.join(path, f), folderName)"
   ]
  },
  {
   "cell_type": "code",
   "execution_count": 18,
   "id": "0e98dfc9",
   "metadata": {},
   "outputs": [
    {
     "name": "stdout",
     "output_type": "stream",
     "text": [
      "Found 2 folders in E:\\BMA planet data\\acolite_data\\files\\DN files.\n",
      "Trying E:\\BMA planet data\\acolite_data\\files\\DN files\\20210521_151835\\\n",
      "20210521_151835_36_2444_3B_AnalyticMS_DN_clip.tif\n",
      "20210521_151835_36_2444_3B_AnalyticMS_DN_metadata_clip.xml\n",
      "20210521_151835_36_2444_3B_AnalyticMS_DN_udm_clip.tif\n",
      "20210521_151835_36_2444_3B_udm2_clip.tif\n",
      "Processing planet file\n",
      "20210521_151835_36_2444_3B_AnalyticMS_DN_clip.tif\n",
      "20210521_151835_36_2444_3B_AnalyticMS_DN_metadata_clip.xml\n",
      "20210521_151835_36_2444_3B_AnalyticMS_DN_udm_clip.tif\n",
      "20210521_151835_36_2444_3B_udm2_clip.tif\n"
     ]
    },
    {
     "ename": "TypeError",
     "evalue": "expected str, bytes or os.PathLike object, not NoneType",
     "output_type": "error",
     "traceback": [
      "\u001b[1;31m---------------------------------------------------------------------------\u001b[0m",
      "\u001b[1;31mTypeError\u001b[0m                                 Traceback (most recent call last)",
      "\u001b[1;32m~\\AppData\\Local\\Temp/ipykernel_15992/2474645902.py\u001b[0m in \u001b[0;36m<module>\u001b[1;34m\u001b[0m\n\u001b[0;32m     33\u001b[0m \u001b[1;32mfor\u001b[0m \u001b[0mfile\u001b[0m \u001b[1;32min\u001b[0m \u001b[0mfiles\u001b[0m\u001b[1;33m:\u001b[0m\u001b[1;33m\u001b[0m\u001b[1;33m\u001b[0m\u001b[0m\n\u001b[0;32m     34\u001b[0m     \u001b[0mprint\u001b[0m\u001b[1;33m(\u001b[0m\u001b[1;34m'Trying {}'\u001b[0m\u001b[1;33m.\u001b[0m\u001b[0mformat\u001b[0m\u001b[1;33m(\u001b[0m\u001b[0mfile\u001b[0m\u001b[1;33m)\u001b[0m\u001b[1;33m)\u001b[0m\u001b[1;33m\u001b[0m\u001b[1;33m\u001b[0m\u001b[0m\n\u001b[1;32m---> 35\u001b[1;33m     \u001b[0mac\u001b[0m\u001b[1;33m.\u001b[0m\u001b[0macolite\u001b[0m\u001b[1;33m.\u001b[0m\u001b[0macolite_mr_ac\u001b[0m\u001b[1;33m(\u001b[0m\u001b[0mfile\u001b[0m\u001b[1;33m,\u001b[0m \u001b[0moutput\u001b[0m\u001b[1;33m=\u001b[0m\u001b[0moutput\u001b[0m\u001b[1;33m,\u001b[0m \u001b[0mancillary_data\u001b[0m\u001b[1;33m=\u001b[0m\u001b[0mancillary_data\u001b[0m\u001b[1;33m,\u001b[0m \u001b[0mlimit\u001b[0m\u001b[1;33m=\u001b[0m\u001b[0mlimit\u001b[0m\u001b[1;33m,\u001b[0m\u001b[0mexport_geotiff\u001b[0m\u001b[1;33m=\u001b[0m\u001b[1;32mTrue\u001b[0m\u001b[1;33m)\u001b[0m\u001b[1;33m\u001b[0m\u001b[1;33m\u001b[0m\u001b[0m\n\u001b[0m",
      "\u001b[1;32m~\\Documents\\acolite_mr\\acolite\\acolite\\acolite_mr_ac.py\u001b[0m in \u001b[0;36macolite_mr_ac\u001b[1;34m(bundle, output, limit, ancillary_data, luts, uoz, uwv, ignore_sr_image, map_rgb, map_rgb_rhos, export_geotiff, pan_sharpen_rgb, sky_correction, dem_pressure, elevation, pressure, force_band, fixed_aot550, fixed_lut, dark_spectrum_full_scene)\u001b[0m\n\u001b[0;32m     85\u001b[0m             \u001b[0mluts_\u001b[0m\u001b[1;33m.\u001b[0m\u001b[0mappend\u001b[0m\u001b[1;33m(\u001b[0m\u001b[1;34m'-'\u001b[0m\u001b[1;33m.\u001b[0m\u001b[0mjoin\u001b[0m\u001b[1;33m(\u001b[0m\u001b[0ml\u001b[0m\u001b[1;33m.\u001b[0m\u001b[0msplit\u001b[0m\u001b[1;33m(\u001b[0m\u001b[1;34m'-'\u001b[0m\u001b[1;33m)\u001b[0m\u001b[1;33m[\u001b[0m\u001b[1;36m0\u001b[0m\u001b[1;33m:\u001b[0m\u001b[1;33m-\u001b[0m\u001b[1;36m1\u001b[0m\u001b[1;33m]\u001b[0m\u001b[1;33m)\u001b[0m\u001b[1;33m)\u001b[0m\u001b[1;33m\u001b[0m\u001b[1;33m\u001b[0m\u001b[0m\n\u001b[0;32m     86\u001b[0m \u001b[1;33m\u001b[0m\u001b[0m\n\u001b[1;32m---> 87\u001b[1;33m         ac.planetscope.planetscope_ac(bundle, output=output, limit=limit,\n\u001b[0m\u001b[0;32m     88\u001b[0m                             \u001b[0mancillary_data\u001b[0m\u001b[1;33m=\u001b[0m\u001b[0mancillary_data\u001b[0m\u001b[1;33m,\u001b[0m\u001b[1;33m\u001b[0m\u001b[1;33m\u001b[0m\u001b[0m\n\u001b[0;32m     89\u001b[0m                             \u001b[0mluts\u001b[0m\u001b[1;33m=\u001b[0m\u001b[0mluts_\u001b[0m\u001b[1;33m,\u001b[0m \u001b[0mpressure\u001b[0m\u001b[1;33m=\u001b[0m\u001b[0mpressure\u001b[0m\u001b[1;33m,\u001b[0m\u001b[1;33m\u001b[0m\u001b[1;33m\u001b[0m\u001b[0m\n",
      "\u001b[1;32m~\\Documents\\acolite_mr\\acolite\\planetscope\\planetscope_ac.py\u001b[0m in \u001b[0;36mplanetscope_ac\u001b[1;34m(bundle, output, limit, gas_transmittance, uoz_default, uwv_default, wvlut, ancillary_data, sky_correction, sky_correction_option, lut_pressure, pressure, model_selection, rdark_list_selection, luts, extra_ac_parameters, ignore_sr_image, extend_limit, export_geotiff, keep_l1r_ncdf, map_rgb, map_rgb_rhos, rgb_autorange, rgb_percentiles, rgb_range_min, rgb_range_max, nc_compression)\u001b[0m\n\u001b[0;32m    112\u001b[0m             \u001b[0mmetadata\u001b[0m\u001b[1;33m[\u001b[0m\u001b[1;34m'image_file'\u001b[0m\u001b[1;33m]\u001b[0m \u001b[1;33m=\u001b[0m \u001b[0mimage_file\u001b[0m\u001b[1;33m\u001b[0m\u001b[1;33m\u001b[0m\u001b[0m\n\u001b[0;32m    113\u001b[0m         \u001b[1;32melse\u001b[0m\u001b[1;33m:\u001b[0m\u001b[1;33m\u001b[0m\u001b[1;33m\u001b[0m\u001b[0m\n\u001b[1;32m--> 114\u001b[1;33m             \u001b[0mbn\u001b[0m\u001b[1;33m,\u001b[0m \u001b[0mex\u001b[0m \u001b[1;33m=\u001b[0m \u001b[0mos\u001b[0m\u001b[1;33m.\u001b[0m\u001b[0mpath\u001b[0m\u001b[1;33m.\u001b[0m\u001b[0msplitext\u001b[0m\u001b[1;33m(\u001b[0m\u001b[0mos\u001b[0m\u001b[1;33m.\u001b[0m\u001b[0mpath\u001b[0m\u001b[1;33m.\u001b[0m\u001b[0mbasename\u001b[0m\u001b[1;33m(\u001b[0m\u001b[0mimage_file\u001b[0m\u001b[1;33m)\u001b[0m\u001b[1;33m)\u001b[0m\u001b[1;33m\u001b[0m\u001b[1;33m\u001b[0m\u001b[0m\n\u001b[0m\u001b[0;32m    115\u001b[0m             \u001b[0msp\u001b[0m \u001b[1;33m=\u001b[0m \u001b[0mbn\u001b[0m\u001b[1;33m.\u001b[0m\u001b[0msplit\u001b[0m\u001b[1;33m(\u001b[0m\u001b[1;34m'_'\u001b[0m\u001b[1;33m)\u001b[0m\u001b[1;33m\u001b[0m\u001b[1;33m\u001b[0m\u001b[0m\n\u001b[0;32m    116\u001b[0m             \u001b[0mfdate\u001b[0m \u001b[1;33m=\u001b[0m \u001b[0msp\u001b[0m\u001b[1;33m[\u001b[0m\u001b[1;36m0\u001b[0m\u001b[1;33m]\u001b[0m\u001b[1;33m\u001b[0m\u001b[1;33m\u001b[0m\u001b[0m\n",
      "\u001b[1;32mC:\\ProgramData\\Anaconda3\\envs\\venv\\lib\\ntpath.py\u001b[0m in \u001b[0;36mbasename\u001b[1;34m(p)\u001b[0m\n\u001b[0;32m    214\u001b[0m \u001b[1;32mdef\u001b[0m \u001b[0mbasename\u001b[0m\u001b[1;33m(\u001b[0m\u001b[0mp\u001b[0m\u001b[1;33m)\u001b[0m\u001b[1;33m:\u001b[0m\u001b[1;33m\u001b[0m\u001b[1;33m\u001b[0m\u001b[0m\n\u001b[0;32m    215\u001b[0m     \u001b[1;34m\"\"\"Returns the final component of a pathname\"\"\"\u001b[0m\u001b[1;33m\u001b[0m\u001b[1;33m\u001b[0m\u001b[0m\n\u001b[1;32m--> 216\u001b[1;33m     \u001b[1;32mreturn\u001b[0m \u001b[0msplit\u001b[0m\u001b[1;33m(\u001b[0m\u001b[0mp\u001b[0m\u001b[1;33m)\u001b[0m\u001b[1;33m[\u001b[0m\u001b[1;36m1\u001b[0m\u001b[1;33m]\u001b[0m\u001b[1;33m\u001b[0m\u001b[1;33m\u001b[0m\u001b[0m\n\u001b[0m\u001b[0;32m    217\u001b[0m \u001b[1;33m\u001b[0m\u001b[0m\n\u001b[0;32m    218\u001b[0m \u001b[1;33m\u001b[0m\u001b[0m\n",
      "\u001b[1;32mC:\\ProgramData\\Anaconda3\\envs\\venv\\lib\\ntpath.py\u001b[0m in \u001b[0;36msplit\u001b[1;34m(p)\u001b[0m\n\u001b[0;32m    183\u001b[0m     \u001b[0mReturn\u001b[0m \u001b[0mtuple\u001b[0m \u001b[1;33m(\u001b[0m\u001b[0mhead\u001b[0m\u001b[1;33m,\u001b[0m \u001b[0mtail\u001b[0m\u001b[1;33m)\u001b[0m \u001b[0mwhere\u001b[0m \u001b[0mtail\u001b[0m \u001b[1;32mis\u001b[0m \u001b[0meverything\u001b[0m \u001b[0mafter\u001b[0m \u001b[0mthe\u001b[0m \u001b[0mfinal\u001b[0m \u001b[0mslash\u001b[0m\u001b[1;33m.\u001b[0m\u001b[1;33m\u001b[0m\u001b[1;33m\u001b[0m\u001b[0m\n\u001b[0;32m    184\u001b[0m     Either part may be empty.\"\"\"\n\u001b[1;32m--> 185\u001b[1;33m     \u001b[0mp\u001b[0m \u001b[1;33m=\u001b[0m \u001b[0mos\u001b[0m\u001b[1;33m.\u001b[0m\u001b[0mfspath\u001b[0m\u001b[1;33m(\u001b[0m\u001b[0mp\u001b[0m\u001b[1;33m)\u001b[0m\u001b[1;33m\u001b[0m\u001b[1;33m\u001b[0m\u001b[0m\n\u001b[0m\u001b[0;32m    186\u001b[0m     \u001b[0mseps\u001b[0m \u001b[1;33m=\u001b[0m \u001b[0m_get_bothseps\u001b[0m\u001b[1;33m(\u001b[0m\u001b[0mp\u001b[0m\u001b[1;33m)\u001b[0m\u001b[1;33m\u001b[0m\u001b[1;33m\u001b[0m\u001b[0m\n\u001b[0;32m    187\u001b[0m     \u001b[0md\u001b[0m\u001b[1;33m,\u001b[0m \u001b[0mp\u001b[0m \u001b[1;33m=\u001b[0m \u001b[0msplitdrive\u001b[0m\u001b[1;33m(\u001b[0m\u001b[0mp\u001b[0m\u001b[1;33m)\u001b[0m\u001b[1;33m\u001b[0m\u001b[1;33m\u001b[0m\u001b[0m\n",
      "\u001b[1;31mTypeError\u001b[0m: expected str, bytes or os.PathLike object, not NoneType"
     ]
    }
   ],
   "source": [
    "##Bulk processing planet imagery for Acolite\n",
    "\n",
    "indir = r'E:\\BMA planet data\\acolite_data\\files\\DN files' ##full path to your directory with files\n",
    "\n",
    "output = r'E:\\BMA planet data\\acolite_data\\acolite_output' ## path to put output files\n",
    "\n",
    "path_to_acolite_mr = r'C:\\Users\\arj26323\\Documents\\acolite_mr' ## path to cloned github acolite_mr code\n",
    "\n",
    "## import packages and acolite\n",
    "\n",
    "import sys, os, glob\n",
    "\n",
    "sys.path.append(path_to_acolite_mr)\n",
    "\n",
    "import acolite as ac\n",
    "\n",
    "## make a list of directories in the given indir path\n",
    "\n",
    "files = glob.glob('{}/*/'.format(indir))\n",
    "\n",
    "files.sort()\n",
    "\n",
    "print('Found {} folders in {}.'.format(len(files), indir))\n",
    "\n",
    "## additional keywords can be provided to acolite_mr_ac\n",
    "\n",
    "limit=None ## process full scene, provide a 4 element list with [S, E, N, W] coordinates for processing a ROI\n",
    "\n",
    "ancillary_data=False ## don't get ancillary MET and gas data\n",
    "\n",
    "## run through each folder that was found\n",
    "\n",
    "for file in files:\n",
    "    print('Trying {}'.format(file))\n",
    "    ac.acolite.acolite_mr_ac(file, output=output, ancillary_data=ancillary_data, limit=limit,export_geotiff=True)"
   ]
  },
  {
   "cell_type": "code",
   "execution_count": 7,
   "id": "0cbf98fa",
   "metadata": {},
   "outputs": [
    {
     "data": {
      "text/plain": [
       "<open DatasetReader name='E:/BMA planet data/21_May_2021/files/20210521_151835_36_2444_3B_AnalyticMS_SR_clip.tif' mode='r'>"
      ]
     },
     "execution_count": 7,
     "metadata": {},
     "output_type": "execute_result"
    }
   ],
   "source": [
    "import rasterio\n",
    "src = rasterio.open('E:/BMA planet data/21_May_2021/files/20210521_151835_36_2444_3B_AnalyticMS_SR_clip.tif')\n",
    "src"
   ]
  },
  {
   "cell_type": "code",
   "execution_count": null,
   "id": "3a8cc6c9",
   "metadata": {},
   "outputs": [],
   "source": []
  }
 ],
 "metadata": {
  "kernelspec": {
   "display_name": "Python 3 (ipykernel)",
   "language": "python",
   "name": "python3"
  },
  "language_info": {
   "codemirror_mode": {
    "name": "ipython",
    "version": 3
   },
   "file_extension": ".py",
   "mimetype": "text/x-python",
   "name": "python",
   "nbconvert_exporter": "python",
   "pygments_lexer": "ipython3",
   "version": "3.9.7"
  }
 },
 "nbformat": 4,
 "nbformat_minor": 5
}
