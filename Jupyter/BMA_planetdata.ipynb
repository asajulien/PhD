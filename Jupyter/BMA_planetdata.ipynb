{
 "cells": [
  {
   "cell_type": "code",
   "execution_count": 1,
   "id": "392a467a",
   "metadata": {},
   "outputs": [],
   "source": [
    "import geemap\n",
    "import ee\n",
    "import os\n",
    "import pandas as pd"
   ]
  },
  {
   "cell_type": "code",
   "execution_count": 2,
   "id": "5ba71187",
   "metadata": {},
   "outputs": [],
   "source": [
    "#ee.Authenticate()\n",
    "# geemap.update_package()"
   ]
  },
  {
   "cell_type": "code",
   "execution_count": 3,
   "id": "f1c45040",
   "metadata": {},
   "outputs": [
    {
     "data": {
      "application/vnd.jupyter.widget-view+json": {
       "model_id": "9b492e8db5ff4dc881abff54349672cd",
       "version_major": 2,
       "version_minor": 0
      },
      "text/plain": [
       "Map(center=[40, -100], controls=(WidgetControl(options=['position', 'transparent_bg'], widget=HBox(children=(T…"
      ]
     },
     "metadata": {},
     "output_type": "display_data"
    }
   ],
   "source": [
    "#list of plots in GA LTER dataset (not including broad creek)\n",
    "\n",
    "ee.Initialize()\n",
    "\n",
    "Map = geemap.Map()\n",
    "Map"
   ]
  },
  {
   "cell_type": "code",
   "execution_count": 4,
   "id": "51918d08",
   "metadata": {},
   "outputs": [],
   "source": [
    "##Loading CSVs\n",
    "##PC\n",
    "in_csv = 'C:/Users/arj26323/Documents/Data/Biomass datasets/BMA.csv'\n",
    "df = geemap.csv_to_pandas(in_csv)\n",
    "df = df [['Date', 'Longitude', 'Latitude']]\n",
    "\n",
    "##Load feature class\n",
    "##PC\n",
    "df_fc = 'C:/Users/arj26323/Documents/Data/Biomass datasets/BMA_fc.csv' ##Can only be done once file created; see below\n",
    "\n",
    "bma_points = geemap.xy_to_points(df_fc, latitude = 'Latitude', longitude = 'Longitude')\n",
    "Map.addLayer(bma_points, {}, 'BMA sampling locations')"
   ]
  },
  {
   "cell_type": "code",
   "execution_count": 5,
   "id": "47cf5217",
   "metadata": {},
   "outputs": [
    {
     "name": "stdout",
     "output_type": "stream",
     "text": [
      "      Date  Longitude   Latitude\n",
      "0   29-Sep -81.289612  31.420226\n",
      "1   29-Sep -81.289615  31.420161\n",
      "2   29-Sep -81.289577  31.420091\n",
      "3   29-Sep -81.289622  31.420043\n",
      "4   29-Sep -81.289572  31.419946\n",
      "..     ...        ...        ...\n",
      "95  21-May -81.285426  31.390442\n",
      "96  21-May -81.285451  31.390501\n",
      "97  21-May -81.285515  31.390622\n",
      "98  21-May -81.285523  31.390656\n",
      "99  21-May -81.285584  31.390643\n",
      "\n",
      "[100 rows x 3 columns]\n"
     ]
    }
   ],
   "source": [
    "print(df)\n",
    "# print(df.dtypes)"
   ]
  },
  {
   "cell_type": "code",
   "execution_count": 6,
   "id": "85566697",
   "metadata": {},
   "outputs": [
    {
     "data": {
      "application/vnd.jupyter.widget-view+json": {
       "model_id": "80a5bd6171fe43fd8cd84a2548f8680e",
       "version_major": 2,
       "version_minor": 0
      },
      "text/plain": [
       "Url()"
      ]
     },
     "metadata": {},
     "output_type": "display_data"
    }
   ],
   "source": [
    "##Load planetdata geotiff imagery\n",
    "##PC\n",
    "dean_may = r'E:/BMA planet data/21_May_2021/files/20210521_151835_36_2444_3B_AnalyticMS_SR_clip.tif'\n",
    "dean_mar_a = r'E:/BMA planet data/22_Mar_2021/files/20210322_154607_103c_3B_AnalyticMS_SR_clip.tif'\n",
    "dean_mar_b = r'E:/BMA planet data/22_Mar_2021/files/20210322_154608_103c_3B_AnalyticMS_SR_clip.tif'\n",
    "dean_sep30_a = r'E:/BMA planet data/22_Mar_2021/files/20200930_154455_1011_3B_AnalyticMS_SR_clip.tif'\n",
    "dean_sep30_b = r'E:/BMA planet data/22_Mar_2021/files/20200930_154456_1011_3B_AnalyticMS_SR_clip.tif'\n",
    "\n",
    "dean_x = ee.Image(dean_may)\n",
    "\n",
    "ls_x = r'C:/Users/arj26323/Downloads/landsat.tif'\n",
    "\n",
    "Map.add_raster(dean_may, bands = [3, 2, 1], layer_name='May 2021') ##Not working-doesn't work if you manually load it either"
   ]
  },
  {
   "cell_type": "code",
   "execution_count": 7,
   "id": "77fe0d87",
   "metadata": {},
   "outputs": [
    {
     "data": {
      "text/plain": [
       "<ee.image.Image at 0x2167a82da60>"
      ]
     },
     "execution_count": 7,
     "metadata": {},
     "output_type": "execute_result"
    }
   ],
   "source": [
    "dean_x"
   ]
  },
  {
   "cell_type": "code",
   "execution_count": 8,
   "id": "de66c7fb",
   "metadata": {},
   "outputs": [
    {
     "name": "stdout",
     "output_type": "stream",
     "text": [
      "      Date  Longitude   Latitude\n",
      "0   29-Sep -81.289612  31.420226\n",
      "1   29-Sep -81.289615  31.420161\n",
      "2   29-Sep -81.289577  31.420091\n",
      "3   29-Sep -81.289622  31.420043\n",
      "4   29-Sep -81.289572  31.419946\n",
      "..     ...        ...        ...\n",
      "95  21-May -81.285426  31.390442\n",
      "96  21-May -81.285451  31.390501\n",
      "97  21-May -81.285515  31.390622\n",
      "98  21-May -81.285523  31.390656\n",
      "99  21-May -81.285584  31.390643\n",
      "\n",
      "[100 rows x 3 columns]\n"
     ]
    }
   ],
   "source": [
    "##Export CSV file - to then load as feature class\n",
    "in_fc = df\n",
    "out_dir = os.path.expanduser('~/Documents/Data/Biomass datasets')\n",
    "out_csv = os.path.join(out_dir, 'BMA_fc.csv')\n",
    "#df.to_csv('~/Documents/Data/Biomass datasets/BMA_fc.csv', index = False)\n",
    "print(df)"
   ]
  },
  {
   "cell_type": "code",
   "execution_count": 17,
   "id": "cac1e6d5",
   "metadata": {},
   "outputs": [],
   "source": [
    "##Organizing planet imagery for Acolite\n",
    "\n",
    "import os, shutil\n",
    "\n",
    "##PC path\n",
    "path = (r\"E:\\BMA planet data\\acolite_data\\files\\DN files\")\n",
    "\n",
    "os.chdir(path)\n",
    "\n",
    "for f in os.listdir(path):\n",
    "    folderName = f[:15]\n",
    "    \n",
    "    if not os.path.exists(folderName):\n",
    "        os.mkdir(folderName)\n",
    "        shutil.copy(os.path.join(path, f), folderName)\n",
    "    else:\n",
    "        shutil.copy(os.path.join(path, f), folderName)"
   ]
  },
  {
   "cell_type": "code",
   "execution_count": 18,
   "id": "0e98dfc9",
   "metadata": {},
   "outputs": [
    {
     "name": "stdout",
     "output_type": "stream",
     "text": [
      "Found 2 folders in E:\\BMA planet data\\acolite_data\\files\\DN files.\n",
      "Trying E:\\BMA planet data\\acolite_data\\files\\DN files\\20210521_151835\\\n",
      "20210521_151835_36_2444_3B_AnalyticMS_DN_clip.tif\n",
      "20210521_151835_36_2444_3B_AnalyticMS_DN_metadata_clip.xml\n",
      "20210521_151835_36_2444_3B_AnalyticMS_DN_udm_clip.tif\n",
      "20210521_151835_36_2444_3B_udm2_clip.tif\n",
      "Processing planet file\n",
      "20210521_151835_36_2444_3B_AnalyticMS_DN_clip.tif\n",
      "20210521_151835_36_2444_3B_AnalyticMS_DN_metadata_clip.xml\n",
      "20210521_151835_36_2444_3B_AnalyticMS_DN_udm_clip.tif\n",
      "20210521_151835_36_2444_3B_udm2_clip.tif\n"
     ]
    },
    {
     "ename": "TypeError",
     "evalue": "expected str, bytes or os.PathLike object, not NoneType",
     "output_type": "error",
     "traceback": [
      "\u001b[1;31m---------------------------------------------------------------------------\u001b[0m",
      "\u001b[1;31mTypeError\u001b[0m                                 Traceback (most recent call last)",
      "\u001b[1;32m~\\AppData\\Local\\Temp/ipykernel_15992/2474645902.py\u001b[0m in \u001b[0;36m<module>\u001b[1;34m\u001b[0m\n\u001b[0;32m     33\u001b[0m \u001b[1;32mfor\u001b[0m \u001b[0mfile\u001b[0m \u001b[1;32min\u001b[0m \u001b[0mfiles\u001b[0m\u001b[1;33m:\u001b[0m\u001b[1;33m\u001b[0m\u001b[1;33m\u001b[0m\u001b[0m\n\u001b[0;32m     34\u001b[0m     \u001b[0mprint\u001b[0m\u001b[1;33m(\u001b[0m\u001b[1;34m'Trying {}'\u001b[0m\u001b[1;33m.\u001b[0m\u001b[0mformat\u001b[0m\u001b[1;33m(\u001b[0m\u001b[0mfile\u001b[0m\u001b[1;33m)\u001b[0m\u001b[1;33m)\u001b[0m\u001b[1;33m\u001b[0m\u001b[1;33m\u001b[0m\u001b[0m\n\u001b[1;32m---> 35\u001b[1;33m     \u001b[0mac\u001b[0m\u001b[1;33m.\u001b[0m\u001b[0macolite\u001b[0m\u001b[1;33m.\u001b[0m\u001b[0macolite_mr_ac\u001b[0m\u001b[1;33m(\u001b[0m\u001b[0mfile\u001b[0m\u001b[1;33m,\u001b[0m \u001b[0moutput\u001b[0m\u001b[1;33m=\u001b[0m\u001b[0moutput\u001b[0m\u001b[1;33m,\u001b[0m \u001b[0mancillary_data\u001b[0m\u001b[1;33m=\u001b[0m\u001b[0mancillary_data\u001b[0m\u001b[1;33m,\u001b[0m \u001b[0mlimit\u001b[0m\u001b[1;33m=\u001b[0m\u001b[0mlimit\u001b[0m\u001b[1;33m,\u001b[0m\u001b[0mexport_geotiff\u001b[0m\u001b[1;33m=\u001b[0m\u001b[1;32mTrue\u001b[0m\u001b[1;33m)\u001b[0m\u001b[1;33m\u001b[0m\u001b[1;33m\u001b[0m\u001b[0m\n\u001b[0m",
      "\u001b[1;32m~\\Documents\\acolite_mr\\acolite\\acolite\\acolite_mr_ac.py\u001b[0m in \u001b[0;36macolite_mr_ac\u001b[1;34m(bundle, output, limit, ancillary_data, luts, uoz, uwv, ignore_sr_image, map_rgb, map_rgb_rhos, export_geotiff, pan_sharpen_rgb, sky_correction, dem_pressure, elevation, pressure, force_band, fixed_aot550, fixed_lut, dark_spectrum_full_scene)\u001b[0m\n\u001b[0;32m     85\u001b[0m             \u001b[0mluts_\u001b[0m\u001b[1;33m.\u001b[0m\u001b[0mappend\u001b[0m\u001b[1;33m(\u001b[0m\u001b[1;34m'-'\u001b[0m\u001b[1;33m.\u001b[0m\u001b[0mjoin\u001b[0m\u001b[1;33m(\u001b[0m\u001b[0ml\u001b[0m\u001b[1;33m.\u001b[0m\u001b[0msplit\u001b[0m\u001b[1;33m(\u001b[0m\u001b[1;34m'-'\u001b[0m\u001b[1;33m)\u001b[0m\u001b[1;33m[\u001b[0m\u001b[1;36m0\u001b[0m\u001b[1;33m:\u001b[0m\u001b[1;33m-\u001b[0m\u001b[1;36m1\u001b[0m\u001b[1;33m]\u001b[0m\u001b[1;33m)\u001b[0m\u001b[1;33m)\u001b[0m\u001b[1;33m\u001b[0m\u001b[1;33m\u001b[0m\u001b[0m\n\u001b[0;32m     86\u001b[0m \u001b[1;33m\u001b[0m\u001b[0m\n\u001b[1;32m---> 87\u001b[1;33m         ac.planetscope.planetscope_ac(bundle, output=output, limit=limit,\n\u001b[0m\u001b[0;32m     88\u001b[0m                             \u001b[0mancillary_data\u001b[0m\u001b[1;33m=\u001b[0m\u001b[0mancillary_data\u001b[0m\u001b[1;33m,\u001b[0m\u001b[1;33m\u001b[0m\u001b[1;33m\u001b[0m\u001b[0m\n\u001b[0;32m     89\u001b[0m                             \u001b[0mluts\u001b[0m\u001b[1;33m=\u001b[0m\u001b[0mluts_\u001b[0m\u001b[1;33m,\u001b[0m \u001b[0mpressure\u001b[0m\u001b[1;33m=\u001b[0m\u001b[0mpressure\u001b[0m\u001b[1;33m,\u001b[0m\u001b[1;33m\u001b[0m\u001b[1;33m\u001b[0m\u001b[0m\n",
      "\u001b[1;32m~\\Documents\\acolite_mr\\acolite\\planetscope\\planetscope_ac.py\u001b[0m in \u001b[0;36mplanetscope_ac\u001b[1;34m(bundle, output, limit, gas_transmittance, uoz_default, uwv_default, wvlut, ancillary_data, sky_correction, sky_correction_option, lut_pressure, pressure, model_selection, rdark_list_selection, luts, extra_ac_parameters, ignore_sr_image, extend_limit, export_geotiff, keep_l1r_ncdf, map_rgb, map_rgb_rhos, rgb_autorange, rgb_percentiles, rgb_range_min, rgb_range_max, nc_compression)\u001b[0m\n\u001b[0;32m    112\u001b[0m             \u001b[0mmetadata\u001b[0m\u001b[1;33m[\u001b[0m\u001b[1;34m'image_file'\u001b[0m\u001b[1;33m]\u001b[0m \u001b[1;33m=\u001b[0m \u001b[0mimage_file\u001b[0m\u001b[1;33m\u001b[0m\u001b[1;33m\u001b[0m\u001b[0m\n\u001b[0;32m    113\u001b[0m         \u001b[1;32melse\u001b[0m\u001b[1;33m:\u001b[0m\u001b[1;33m\u001b[0m\u001b[1;33m\u001b[0m\u001b[0m\n\u001b[1;32m--> 114\u001b[1;33m             \u001b[0mbn\u001b[0m\u001b[1;33m,\u001b[0m \u001b[0mex\u001b[0m \u001b[1;33m=\u001b[0m \u001b[0mos\u001b[0m\u001b[1;33m.\u001b[0m\u001b[0mpath\u001b[0m\u001b[1;33m.\u001b[0m\u001b[0msplitext\u001b[0m\u001b[1;33m(\u001b[0m\u001b[0mos\u001b[0m\u001b[1;33m.\u001b[0m\u001b[0mpath\u001b[0m\u001b[1;33m.\u001b[0m\u001b[0mbasename\u001b[0m\u001b[1;33m(\u001b[0m\u001b[0mimage_file\u001b[0m\u001b[1;33m)\u001b[0m\u001b[1;33m)\u001b[0m\u001b[1;33m\u001b[0m\u001b[1;33m\u001b[0m\u001b[0m\n\u001b[0m\u001b[0;32m    115\u001b[0m             \u001b[0msp\u001b[0m \u001b[1;33m=\u001b[0m \u001b[0mbn\u001b[0m\u001b[1;33m.\u001b[0m\u001b[0msplit\u001b[0m\u001b[1;33m(\u001b[0m\u001b[1;34m'_'\u001b[0m\u001b[1;33m)\u001b[0m\u001b[1;33m\u001b[0m\u001b[1;33m\u001b[0m\u001b[0m\n\u001b[0;32m    116\u001b[0m             \u001b[0mfdate\u001b[0m \u001b[1;33m=\u001b[0m \u001b[0msp\u001b[0m\u001b[1;33m[\u001b[0m\u001b[1;36m0\u001b[0m\u001b[1;33m]\u001b[0m\u001b[1;33m\u001b[0m\u001b[1;33m\u001b[0m\u001b[0m\n",
      "\u001b[1;32mC:\\ProgramData\\Anaconda3\\envs\\venv\\lib\\ntpath.py\u001b[0m in \u001b[0;36mbasename\u001b[1;34m(p)\u001b[0m\n\u001b[0;32m    214\u001b[0m \u001b[1;32mdef\u001b[0m \u001b[0mbasename\u001b[0m\u001b[1;33m(\u001b[0m\u001b[0mp\u001b[0m\u001b[1;33m)\u001b[0m\u001b[1;33m:\u001b[0m\u001b[1;33m\u001b[0m\u001b[1;33m\u001b[0m\u001b[0m\n\u001b[0;32m    215\u001b[0m     \u001b[1;34m\"\"\"Returns the final component of a pathname\"\"\"\u001b[0m\u001b[1;33m\u001b[0m\u001b[1;33m\u001b[0m\u001b[0m\n\u001b[1;32m--> 216\u001b[1;33m     \u001b[1;32mreturn\u001b[0m \u001b[0msplit\u001b[0m\u001b[1;33m(\u001b[0m\u001b[0mp\u001b[0m\u001b[1;33m)\u001b[0m\u001b[1;33m[\u001b[0m\u001b[1;36m1\u001b[0m\u001b[1;33m]\u001b[0m\u001b[1;33m\u001b[0m\u001b[1;33m\u001b[0m\u001b[0m\n\u001b[0m\u001b[0;32m    217\u001b[0m \u001b[1;33m\u001b[0m\u001b[0m\n\u001b[0;32m    218\u001b[0m \u001b[1;33m\u001b[0m\u001b[0m\n",
      "\u001b[1;32mC:\\ProgramData\\Anaconda3\\envs\\venv\\lib\\ntpath.py\u001b[0m in \u001b[0;36msplit\u001b[1;34m(p)\u001b[0m\n\u001b[0;32m    183\u001b[0m     \u001b[0mReturn\u001b[0m \u001b[0mtuple\u001b[0m \u001b[1;33m(\u001b[0m\u001b[0mhead\u001b[0m\u001b[1;33m,\u001b[0m \u001b[0mtail\u001b[0m\u001b[1;33m)\u001b[0m \u001b[0mwhere\u001b[0m \u001b[0mtail\u001b[0m \u001b[1;32mis\u001b[0m \u001b[0meverything\u001b[0m \u001b[0mafter\u001b[0m \u001b[0mthe\u001b[0m \u001b[0mfinal\u001b[0m \u001b[0mslash\u001b[0m\u001b[1;33m.\u001b[0m\u001b[1;33m\u001b[0m\u001b[1;33m\u001b[0m\u001b[0m\n\u001b[0;32m    184\u001b[0m     Either part may be empty.\"\"\"\n\u001b[1;32m--> 185\u001b[1;33m     \u001b[0mp\u001b[0m \u001b[1;33m=\u001b[0m \u001b[0mos\u001b[0m\u001b[1;33m.\u001b[0m\u001b[0mfspath\u001b[0m\u001b[1;33m(\u001b[0m\u001b[0mp\u001b[0m\u001b[1;33m)\u001b[0m\u001b[1;33m\u001b[0m\u001b[1;33m\u001b[0m\u001b[0m\n\u001b[0m\u001b[0;32m    186\u001b[0m     \u001b[0mseps\u001b[0m \u001b[1;33m=\u001b[0m \u001b[0m_get_bothseps\u001b[0m\u001b[1;33m(\u001b[0m\u001b[0mp\u001b[0m\u001b[1;33m)\u001b[0m\u001b[1;33m\u001b[0m\u001b[1;33m\u001b[0m\u001b[0m\n\u001b[0;32m    187\u001b[0m     \u001b[0md\u001b[0m\u001b[1;33m,\u001b[0m \u001b[0mp\u001b[0m \u001b[1;33m=\u001b[0m \u001b[0msplitdrive\u001b[0m\u001b[1;33m(\u001b[0m\u001b[0mp\u001b[0m\u001b[1;33m)\u001b[0m\u001b[1;33m\u001b[0m\u001b[1;33m\u001b[0m\u001b[0m\n",
      "\u001b[1;31mTypeError\u001b[0m: expected str, bytes or os.PathLike object, not NoneType"
     ]
    }
   ],
   "source": [
    "##Bulk processing planet imagery for Acolite\n",
    "\n",
    "indir = r'E:\\BMA planet data\\acolite_data\\files\\DN files' ##full path to your directory with files\n",
    "\n",
    "output = r'E:\\BMA planet data\\acolite_data\\acolite_output' ## path to put output files\n",
    "\n",
    "path_to_acolite_mr = r'C:\\Users\\arj26323\\Documents\\acolite_mr' ## path to cloned github acolite_mr code\n",
    "\n",
    "## import packages and acolite\n",
    "\n",
    "import sys, os, glob\n",
    "\n",
    "sys.path.append(path_to_acolite_mr)\n",
    "\n",
    "import acolite as ac\n",
    "\n",
    "## make a list of directories in the given indir path\n",
    "\n",
    "files = glob.glob('{}/*/'.format(indir))\n",
    "\n",
    "files.sort()\n",
    "\n",
    "print('Found {} folders in {}.'.format(len(files), indir))\n",
    "\n",
    "## additional keywords can be provided to acolite_mr_ac\n",
    "\n",
    "limit=None ## process full scene, provide a 4 element list with [S, E, N, W] coordinates for processing a ROI\n",
    "\n",
    "ancillary_data=False ## don't get ancillary MET and gas data\n",
    "\n",
    "## run through each folder that was found\n",
    "\n",
    "for file in files:\n",
    "    print('Trying {}'.format(file))\n",
    "    ac.acolite.acolite_mr_ac(file, output=output, ancillary_data=ancillary_data, limit=limit,export_geotiff=True)"
   ]
  },
  {
   "cell_type": "code",
   "execution_count": 7,
   "id": "0cbf98fa",
   "metadata": {},
   "outputs": [
    {
     "data": {
      "text/plain": [
       "<open DatasetReader name='E:/BMA planet data/21_May_2021/files/20210521_151835_36_2444_3B_AnalyticMS_SR_clip.tif' mode='r'>"
      ]
     },
     "execution_count": 7,
     "metadata": {},
     "output_type": "execute_result"
    }
   ],
   "source": [
    "import rasterio\n",
    "src = rasterio.open('E:/BMA planet data/21_May_2021/files/20210521_151835_36_2444_3B_AnalyticMS_SR_clip.tif')\n",
    "src"
   ]
  },
  {
   "cell_type": "code",
   "execution_count": null,
   "id": "3a8cc6c9",
   "metadata": {},
   "outputs": [],
   "source": []
  }
 ],
 "metadata": {
  "kernelspec": {
   "display_name": "Python 3 (ipykernel)",
   "language": "python",
   "name": "python3"
  },
  "language_info": {
   "codemirror_mode": {
    "name": "ipython",
    "version": 3
   },
   "file_extension": ".py",
   "mimetype": "text/x-python",
   "name": "python",
   "nbconvert_exporter": "python",
   "pygments_lexer": "ipython3",
   "version": "3.9.7"
  }
 },
 "nbformat": 4,
 "nbformat_minor": 5
}
