{
 "cells": [
  {
   "cell_type": "code",
   "execution_count": 15,
   "id": "392a467a",
   "metadata": {},
   "outputs": [],
   "source": [
    "import geemap\n",
    "import ee\n",
    "import os\n",
    "import pandas as pd"
   ]
  },
  {
   "cell_type": "code",
   "execution_count": 16,
   "id": "5ba71187",
   "metadata": {},
   "outputs": [],
   "source": [
    "#ee.Authenticate()\n",
    "#geemap.update_package()"
   ]
  },
  {
   "cell_type": "code",
   "execution_count": 17,
   "id": "f1c45040",
   "metadata": {},
   "outputs": [
    {
     "data": {
      "application/vnd.jupyter.widget-view+json": {
       "model_id": "0a157eb328e9441ea2c801dbd37a6df1",
       "version_major": 2,
       "version_minor": 0
      },
      "text/plain": [
       "Map(center=[40, -100], controls=(WidgetControl(options=['position', 'transparent_bg'], widget=HBox(children=(T…"
      ]
     },
     "metadata": {},
     "output_type": "display_data"
    }
   ],
   "source": [
    "#list of plots in GA LTER dataset (not including broad creek)\n",
    "\n",
    "ee.Initialize()\n",
    "\n",
    "Map = geemap.Map()\n",
    "Map"
   ]
  },
  {
   "cell_type": "code",
   "execution_count": 28,
   "id": "51918d08",
   "metadata": {},
   "outputs": [],
   "source": [
    "in_csv = 'C:/Users/arj26323/Documents/Data/Biomass datasets/BMA.csv' ##PC\n",
    "df = geemap.csv_to_pandas(in_csv)\n",
    "df = df [['Date', 'Longitude', 'Latitude']]\n",
    "in_csv = df\n",
    "\n",
    "# bma_points = geemap.xy_to_points(in_csv, latitude = 'Latitude', longitude = 'Longitude')\n",
    "# Map.addLayer(bma_points, {}, 'csv to ee')\n",
    "\n",
    "# Map.add_xy_data(in_csv, x=\"Longitude\", y=\"Latitude\", layer_name=\"csv to ee\", to_ee=True)\n",
    "# fc = geemap.csv_to_ee(in_csv)\n",
    "# Map.addLayer(fc, {}, 'csv to ee 2')"
   ]
  },
  {
   "cell_type": "code",
   "execution_count": 24,
   "id": "47cf5217",
   "metadata": {},
   "outputs": [
    {
     "name": "stdout",
     "output_type": "stream",
     "text": [
      "      Date  Longitude   Latitude\n",
      "0   29-Sep -81.289612  31.420226\n",
      "1   29-Sep -81.289615  31.420161\n",
      "2   29-Sep -81.289577  31.420091\n",
      "3   29-Sep -81.289622  31.420043\n",
      "4   29-Sep -81.289572  31.419946\n",
      "..     ...        ...        ...\n",
      "95  21-May -81.285426  31.390442\n",
      "96  21-May -81.285451  31.390501\n",
      "97  21-May -81.285515  31.390622\n",
      "98  21-May -81.285523  31.390656\n",
      "99  21-May -81.285584  31.390643\n",
      "\n",
      "[100 rows x 3 columns]\n"
     ]
    }
   ],
   "source": [
    "print(df)\n",
    "# print(df.dtypes)"
   ]
  },
  {
   "cell_type": "code",
   "execution_count": 34,
   "id": "85566697",
   "metadata": {},
   "outputs": [
    {
     "data": {
      "application/vnd.jupyter.widget-view+json": {
       "model_id": "a587343afbd344429cfefd4ea460f50d",
       "version_major": 2,
       "version_minor": 0
      },
      "text/plain": [
       "Url()"
      ]
     },
     "metadata": {},
     "output_type": "display_data"
    }
   ],
   "source": [
    "dean_may = 'E:/BMA planet data/21_May_2021/files/20210521_151835_36_2444_3B_AnalyticMS_SR_clip.tif'\n",
    "dean_mar_a = 'E:/BMA planet data/22_Mar_2021/files/20210322_154607_103c_3B_AnalyticMS_SR_clip.tif'\n",
    "dean_mar_b = 'E:/BMA planet data/22_Mar_2021/files/20210322_154608_103c_3B_AnalyticMS_SR_clip.tif'\n",
    "dean_sep30_a = 'E:/BMA planet data/22_Mar_2021/files/20200930_154455_1011_3B_AnalyticMS_SR_clip.tif'\n",
    "dean_sep30_b = 'E:/BMA planet data/22_Mar_2021/files/20200930_154456_1011_3B_AnalyticMS_SR_clip.tif'\n",
    "\n",
    "Map.add_raster(dean_may, layer_name='May 2021') ##WHY is this not working? Doesn't work if you manually load it wither"
   ]
  },
  {
   "cell_type": "code",
   "execution_count": null,
   "id": "77fe0d87",
   "metadata": {},
   "outputs": [],
   "source": []
  },
  {
   "cell_type": "code",
   "execution_count": 25,
   "id": "de66c7fb",
   "metadata": {},
   "outputs": [
    {
     "name": "stdout",
     "output_type": "stream",
     "text": [
      "      Date  Longitude   Latitude\n",
      "0   29-Sep -81.289612  31.420226\n",
      "1   29-Sep -81.289615  31.420161\n",
      "2   29-Sep -81.289577  31.420091\n",
      "3   29-Sep -81.289622  31.420043\n",
      "4   29-Sep -81.289572  31.419946\n",
      "..     ...        ...        ...\n",
      "95  21-May -81.285426  31.390442\n",
      "96  21-May -81.285451  31.390501\n",
      "97  21-May -81.285515  31.390622\n",
      "98  21-May -81.285523  31.390656\n",
      "99  21-May -81.285584  31.390643\n",
      "\n",
      "[100 rows x 3 columns]\n"
     ]
    }
   ],
   "source": [
    "##Export CSV file - to then load as feature class\n",
    "in_fc = df\n",
    "out_dir = os.path.expanduser('~/Documents/Data/Biomass datasets')\n",
    "out_csv = os.path.join(out_dir, 'BMA_fc.csv')\n",
    "#df.to_csv('~/Documents/Data/Biomass datasets/BMA_fc.csv', index = False)\n",
    "print(df)"
   ]
  },
  {
   "cell_type": "code",
   "execution_count": null,
   "id": "38909600",
   "metadata": {},
   "outputs": [],
   "source": []
  }
 ],
 "metadata": {
  "kernelspec": {
   "display_name": "Python 3",
   "language": "python",
   "name": "python3"
  },
  "language_info": {
   "codemirror_mode": {
    "name": "ipython",
    "version": 3
   },
   "file_extension": ".py",
   "mimetype": "text/x-python",
   "name": "python",
   "nbconvert_exporter": "python",
   "pygments_lexer": "ipython3",
   "version": "3.8.8"
  }
 },
 "nbformat": 4,
 "nbformat_minor": 5
}
