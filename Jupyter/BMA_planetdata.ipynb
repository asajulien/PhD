{
 "cells": [
  {
   "cell_type": "code",
   "execution_count": 4,
   "id": "392a467a",
   "metadata": {},
   "outputs": [],
   "source": [
    "import geemap\n",
    "import ee\n",
    "import os\n",
    "import pandas as pd"
   ]
  },
  {
   "cell_type": "code",
   "execution_count": 5,
   "id": "5ba71187",
   "metadata": {},
   "outputs": [],
   "source": [
    "#ee.Authenticate()\n",
    "#geemap.update_package()"
   ]
  },
  {
   "cell_type": "code",
   "execution_count": 6,
   "id": "f1c45040",
   "metadata": {
    "scrolled": false
   },
   "outputs": [
    {
     "data": {
      "application/vnd.jupyter.widget-view+json": {
       "model_id": "24929b74357d4f988ae8d132ebd62eb7",
       "version_major": 2,
       "version_minor": 0
      },
      "text/plain": [
       "Map(center=[40, -100], controls=(WidgetControl(options=['position', 'transparent_bg'], widget=HBox(children=(T…"
      ]
     },
     "metadata": {},
     "output_type": "display_data"
    }
   ],
   "source": [
    "#list of plots in GA LTER dataset (not including broad creek)\n",
    "\n",
    "ee.Initialize()\n",
    "\n",
    "Map = geemap.Map()\n",
    "Map"
   ]
  },
  {
   "cell_type": "code",
   "execution_count": 11,
   "id": "51918d08",
   "metadata": {},
   "outputs": [
    {
     "name": "stdout",
     "output_type": "stream",
     "text": [
      "Could not convert the geojson to ee.Geometry()\n"
     ]
    },
    {
     "ename": "Exception",
     "evalue": "Unrecognized arguments {'geodesic'} to function: Constructs a new Point from the given x,y coordinates.\n\nArgs:\n  coordinates: The coordinates of this Point in x,y order.\n  crs: The coordinate reference system of the coordinates. The\n      default is the projection of the inputs, where Numbers are\n      assumed to be EPSG:4326.",
     "output_type": "error",
     "traceback": [
      "\u001b[1;31m---------------------------------------------------------------------------\u001b[0m",
      "\u001b[1;31mEEException\u001b[0m                               Traceback (most recent call last)",
      "\u001b[1;32mC:\\ProgramData\\Anaconda3\\lib\\site-packages\\geemap\\common.py\u001b[0m in \u001b[0;36mgeojson_to_ee\u001b[1;34m(geo_json, geodesic, encoding)\u001b[0m\n\u001b[0;32m   1087\u001b[0m                 \u001b[0mfeature\u001b[0m\u001b[1;33m[\u001b[0m\u001b[1;34m\"geometry\"\u001b[0m\u001b[1;33m]\u001b[0m\u001b[1;33m[\u001b[0m\u001b[1;34m\"geodesic\"\u001b[0m\u001b[1;33m]\u001b[0m \u001b[1;33m=\u001b[0m \u001b[0mgeodesic\u001b[0m\u001b[1;33m\u001b[0m\u001b[1;33m\u001b[0m\u001b[0m\n\u001b[1;32m-> 1088\u001b[1;33m             \u001b[0mfeatures\u001b[0m \u001b[1;33m=\u001b[0m \u001b[0mee\u001b[0m\u001b[1;33m.\u001b[0m\u001b[0mFeatureCollection\u001b[0m\u001b[1;33m(\u001b[0m\u001b[0mgeo_json\u001b[0m\u001b[1;33m[\u001b[0m\u001b[1;34m\"features\"\u001b[0m\u001b[1;33m]\u001b[0m\u001b[1;33m)\u001b[0m\u001b[1;33m\u001b[0m\u001b[1;33m\u001b[0m\u001b[0m\n\u001b[0m\u001b[0;32m   1089\u001b[0m             \u001b[1;32mreturn\u001b[0m \u001b[0mfeatures\u001b[0m\u001b[1;33m\u001b[0m\u001b[1;33m\u001b[0m\u001b[0m\n",
      "\u001b[1;32mC:\\ProgramData\\Anaconda3\\lib\\site-packages\\ee\\computedobject.py\u001b[0m in \u001b[0;36m__call__\u001b[1;34m(cls, *args, **kwargs)\u001b[0m\n\u001b[0;32m     31\u001b[0m     \u001b[1;32melse\u001b[0m\u001b[1;33m:\u001b[0m\u001b[1;33m\u001b[0m\u001b[1;33m\u001b[0m\u001b[0m\n\u001b[1;32m---> 32\u001b[1;33m       \u001b[1;32mreturn\u001b[0m \u001b[0mtype\u001b[0m\u001b[1;33m.\u001b[0m\u001b[0m__call__\u001b[0m\u001b[1;33m(\u001b[0m\u001b[0mcls\u001b[0m\u001b[1;33m,\u001b[0m \u001b[1;33m*\u001b[0m\u001b[0margs\u001b[0m\u001b[1;33m,\u001b[0m \u001b[1;33m**\u001b[0m\u001b[0mkwargs\u001b[0m\u001b[1;33m)\u001b[0m\u001b[1;33m\u001b[0m\u001b[1;33m\u001b[0m\u001b[0m\n\u001b[0m\u001b[0;32m     33\u001b[0m \u001b[1;33m\u001b[0m\u001b[0m\n",
      "\u001b[1;32mC:\\ProgramData\\Anaconda3\\lib\\site-packages\\ee\\featurecollection.py\u001b[0m in \u001b[0;36m__init__\u001b[1;34m(self, args, opt_column)\u001b[0m\n\u001b[0;32m     64\u001b[0m           apifunction.ApiFunction.lookup('Collection'), {\n\u001b[1;32m---> 65\u001b[1;33m               \u001b[1;34m'features'\u001b[0m\u001b[1;33m:\u001b[0m \u001b[1;33m[\u001b[0m\u001b[0mfeature\u001b[0m\u001b[1;33m.\u001b[0m\u001b[0mFeature\u001b[0m\u001b[1;33m(\u001b[0m\u001b[0mi\u001b[0m\u001b[1;33m)\u001b[0m \u001b[1;32mfor\u001b[0m \u001b[0mi\u001b[0m \u001b[1;32min\u001b[0m \u001b[0margs\u001b[0m\u001b[1;33m]\u001b[0m\u001b[1;33m\u001b[0m\u001b[1;33m\u001b[0m\u001b[0m\n\u001b[0m\u001b[0;32m     66\u001b[0m           })\n",
      "\u001b[1;32mC:\\ProgramData\\Anaconda3\\lib\\site-packages\\ee\\featurecollection.py\u001b[0m in \u001b[0;36m<listcomp>\u001b[1;34m(.0)\u001b[0m\n\u001b[0;32m     64\u001b[0m           apifunction.ApiFunction.lookup('Collection'), {\n\u001b[1;32m---> 65\u001b[1;33m               \u001b[1;34m'features'\u001b[0m\u001b[1;33m:\u001b[0m \u001b[1;33m[\u001b[0m\u001b[0mfeature\u001b[0m\u001b[1;33m.\u001b[0m\u001b[0mFeature\u001b[0m\u001b[1;33m(\u001b[0m\u001b[0mi\u001b[0m\u001b[1;33m)\u001b[0m \u001b[1;32mfor\u001b[0m \u001b[0mi\u001b[0m \u001b[1;32min\u001b[0m \u001b[0margs\u001b[0m\u001b[1;33m]\u001b[0m\u001b[1;33m\u001b[0m\u001b[1;33m\u001b[0m\u001b[0m\n\u001b[0m\u001b[0;32m     66\u001b[0m           })\n",
      "\u001b[1;32mC:\\ProgramData\\Anaconda3\\lib\\site-packages\\ee\\computedobject.py\u001b[0m in \u001b[0;36m__call__\u001b[1;34m(cls, *args, **kwargs)\u001b[0m\n\u001b[0;32m     31\u001b[0m     \u001b[1;32melse\u001b[0m\u001b[1;33m:\u001b[0m\u001b[1;33m\u001b[0m\u001b[1;33m\u001b[0m\u001b[0m\n\u001b[1;32m---> 32\u001b[1;33m       \u001b[1;32mreturn\u001b[0m \u001b[0mtype\u001b[0m\u001b[1;33m.\u001b[0m\u001b[0m__call__\u001b[0m\u001b[1;33m(\u001b[0m\u001b[0mcls\u001b[0m\u001b[1;33m,\u001b[0m \u001b[1;33m*\u001b[0m\u001b[0margs\u001b[0m\u001b[1;33m,\u001b[0m \u001b[1;33m**\u001b[0m\u001b[0mkwargs\u001b[0m\u001b[1;33m)\u001b[0m\u001b[1;33m\u001b[0m\u001b[1;33m\u001b[0m\u001b[0m\n\u001b[0m\u001b[0;32m     33\u001b[0m \u001b[1;33m\u001b[0m\u001b[0m\n",
      "\u001b[1;32mC:\\ProgramData\\Anaconda3\\lib\\site-packages\\ee\\feature.py\u001b[0m in \u001b[0;36m__init__\u001b[1;34m(self, geom, opt_properties)\u001b[0m\n\u001b[0;32m     69\u001b[0m       super(Feature, self).__init__(feature_constructor, {\n\u001b[1;32m---> 70\u001b[1;33m           \u001b[1;34m'geometry'\u001b[0m\u001b[1;33m:\u001b[0m \u001b[0mgeometry\u001b[0m\u001b[1;33m.\u001b[0m\u001b[0mGeometry\u001b[0m\u001b[1;33m(\u001b[0m\u001b[0mgeom\u001b[0m\u001b[1;33m.\u001b[0m\u001b[0mget\u001b[0m\u001b[1;33m(\u001b[0m\u001b[1;34m'geometry'\u001b[0m\u001b[1;33m,\u001b[0m \u001b[1;32mNone\u001b[0m\u001b[1;33m)\u001b[0m\u001b[1;33m)\u001b[0m\u001b[1;33m,\u001b[0m\u001b[1;33m\u001b[0m\u001b[1;33m\u001b[0m\u001b[0m\n\u001b[0m\u001b[0;32m     71\u001b[0m           \u001b[1;34m'metadata'\u001b[0m\u001b[1;33m:\u001b[0m \u001b[0mproperties\u001b[0m\u001b[1;33m\u001b[0m\u001b[1;33m\u001b[0m\u001b[0m\n",
      "\u001b[1;32mC:\\ProgramData\\Anaconda3\\lib\\site-packages\\ee\\computedobject.py\u001b[0m in \u001b[0;36m__call__\u001b[1;34m(cls, *args, **kwargs)\u001b[0m\n\u001b[0;32m     31\u001b[0m     \u001b[1;32melse\u001b[0m\u001b[1;33m:\u001b[0m\u001b[1;33m\u001b[0m\u001b[1;33m\u001b[0m\u001b[0m\n\u001b[1;32m---> 32\u001b[1;33m       \u001b[1;32mreturn\u001b[0m \u001b[0mtype\u001b[0m\u001b[1;33m.\u001b[0m\u001b[0m__call__\u001b[0m\u001b[1;33m(\u001b[0m\u001b[0mcls\u001b[0m\u001b[1;33m,\u001b[0m \u001b[1;33m*\u001b[0m\u001b[0margs\u001b[0m\u001b[1;33m,\u001b[0m \u001b[1;33m**\u001b[0m\u001b[0mkwargs\u001b[0m\u001b[1;33m)\u001b[0m\u001b[1;33m\u001b[0m\u001b[1;33m\u001b[0m\u001b[0m\n\u001b[0m\u001b[0;32m     33\u001b[0m \u001b[1;33m\u001b[0m\u001b[0m\n",
      "\u001b[1;32mC:\\ProgramData\\Anaconda3\\lib\\site-packages\\ee\\geometry.py\u001b[0m in \u001b[0;36m__init__\u001b[1;34m(self, geo_json, opt_proj, opt_geodesic, opt_evenOdd)\u001b[0m\n\u001b[0;32m    146\u001b[0m       \u001b[0mctor_args\u001b[0m\u001b[1;33m[\u001b[0m\u001b[1;34m'evenOdd'\u001b[0m\u001b[1;33m]\u001b[0m \u001b[1;33m=\u001b[0m \u001b[0mself\u001b[0m\u001b[1;33m.\u001b[0m\u001b[0m_evenOdd\u001b[0m\u001b[1;33m\u001b[0m\u001b[1;33m\u001b[0m\u001b[0m\n\u001b[1;32m--> 147\u001b[1;33m     self._computed_equivalent = apifunction.ApiFunction.lookup(\n\u001b[0m\u001b[0;32m    148\u001b[0m         'GeometryConstructors.' + ctor_name).apply(ctor_args)\n",
      "\u001b[1;32mC:\\ProgramData\\Anaconda3\\lib\\site-packages\\ee\\function.py\u001b[0m in \u001b[0;36mapply\u001b[1;34m(self, named_args)\u001b[0m\n\u001b[0;32m     79\u001b[0m     \"\"\"\n\u001b[1;32m---> 80\u001b[1;33m     \u001b[0mresult\u001b[0m \u001b[1;33m=\u001b[0m \u001b[0mcomputedobject\u001b[0m\u001b[1;33m.\u001b[0m\u001b[0mComputedObject\u001b[0m\u001b[1;33m(\u001b[0m\u001b[0mself\u001b[0m\u001b[1;33m,\u001b[0m \u001b[0mself\u001b[0m\u001b[1;33m.\u001b[0m\u001b[0mpromoteArgs\u001b[0m\u001b[1;33m(\u001b[0m\u001b[0mnamed_args\u001b[0m\u001b[1;33m)\u001b[0m\u001b[1;33m)\u001b[0m\u001b[1;33m\u001b[0m\u001b[1;33m\u001b[0m\u001b[0m\n\u001b[0m\u001b[0;32m     81\u001b[0m     \u001b[1;32mreturn\u001b[0m \u001b[0mFunction\u001b[0m\u001b[1;33m.\u001b[0m\u001b[0m_promoter\u001b[0m\u001b[1;33m(\u001b[0m\u001b[0mresult\u001b[0m\u001b[1;33m,\u001b[0m \u001b[0mself\u001b[0m\u001b[1;33m.\u001b[0m\u001b[0mgetReturnType\u001b[0m\u001b[1;33m(\u001b[0m\u001b[1;33m)\u001b[0m\u001b[1;33m)\u001b[0m\u001b[1;33m\u001b[0m\u001b[1;33m\u001b[0m\u001b[0m\n",
      "\u001b[1;32mC:\\ProgramData\\Anaconda3\\lib\\site-packages\\ee\\function.py\u001b[0m in \u001b[0;36mpromoteArgs\u001b[1;34m(self, args)\u001b[0m\n\u001b[0;32m    115\u001b[0m     \u001b[1;32mif\u001b[0m \u001b[0munknown\u001b[0m\u001b[1;33m:\u001b[0m\u001b[1;33m\u001b[0m\u001b[1;33m\u001b[0m\u001b[0m\n\u001b[1;32m--> 116\u001b[1;33m       raise ee_exception.EEException(\n\u001b[0m\u001b[0;32m    117\u001b[0m           'Unrecognized arguments %s to function: %s' % (unknown, self))\n",
      "\u001b[1;31mEEException\u001b[0m: Unrecognized arguments {'geodesic'} to function: Constructs a new Point from the given x,y coordinates.\n\nArgs:\n  coordinates: The coordinates of this Point in x,y order.\n  crs: The coordinate reference system of the coordinates. The\n      default is the projection of the inputs, where Numbers are\n      assumed to be EPSG:4326.",
      "\nDuring handling of the above exception, another exception occurred:\n",
      "\u001b[1;31mException\u001b[0m                                 Traceback (most recent call last)",
      "\u001b[1;32m<ipython-input-11-30537f4469bd>\u001b[0m in \u001b[0;36m<module>\u001b[1;34m\u001b[0m\n\u001b[0;32m     10\u001b[0m \u001b[0mdf_fc\u001b[0m \u001b[1;33m=\u001b[0m \u001b[1;34m'C:/Users/arj26323/Documents/Data/Biomass datasets/BMA_fc.csv'\u001b[0m \u001b[1;31m##Can only be done once file created; see below\u001b[0m\u001b[1;33m\u001b[0m\u001b[1;33m\u001b[0m\u001b[0m\n\u001b[0;32m     11\u001b[0m \u001b[1;33m\u001b[0m\u001b[0m\n\u001b[1;32m---> 12\u001b[1;33m \u001b[0mbma_points\u001b[0m \u001b[1;33m=\u001b[0m \u001b[0mgeemap\u001b[0m\u001b[1;33m.\u001b[0m\u001b[0mxy_to_points\u001b[0m\u001b[1;33m(\u001b[0m\u001b[0mdf_fc\u001b[0m\u001b[1;33m,\u001b[0m \u001b[0mlatitude\u001b[0m \u001b[1;33m=\u001b[0m \u001b[1;34m'Latitude'\u001b[0m\u001b[1;33m,\u001b[0m \u001b[0mlongitude\u001b[0m \u001b[1;33m=\u001b[0m \u001b[1;34m'Longitude'\u001b[0m\u001b[1;33m)\u001b[0m\u001b[1;33m\u001b[0m\u001b[1;33m\u001b[0m\u001b[0m\n\u001b[0m\u001b[0;32m     13\u001b[0m \u001b[0mMap\u001b[0m\u001b[1;33m.\u001b[0m\u001b[0maddLayer\u001b[0m\u001b[1;33m(\u001b[0m\u001b[0mbma_points\u001b[0m\u001b[1;33m,\u001b[0m \u001b[1;33m{\u001b[0m\u001b[1;33m}\u001b[0m\u001b[1;33m,\u001b[0m \u001b[1;34m'BMA sampling locations'\u001b[0m\u001b[1;33m)\u001b[0m\u001b[1;33m\u001b[0m\u001b[1;33m\u001b[0m\u001b[0m\n",
      "\u001b[1;32mC:\\ProgramData\\Anaconda3\\lib\\site-packages\\geemap\\common.py\u001b[0m in \u001b[0;36mxy_to_points\u001b[1;34m(in_csv, latitude, longitude, encoding)\u001b[0m\n\u001b[0;32m    839\u001b[0m \u001b[1;33m\u001b[0m\u001b[0m\n\u001b[0;32m    840\u001b[0m     \u001b[0mgeojson\u001b[0m \u001b[1;33m=\u001b[0m \u001b[0mcsv_to_geojson\u001b[0m\u001b[1;33m(\u001b[0m\u001b[0min_csv\u001b[0m\u001b[1;33m,\u001b[0m \u001b[1;32mNone\u001b[0m\u001b[1;33m,\u001b[0m \u001b[0mlatitude\u001b[0m\u001b[1;33m,\u001b[0m \u001b[0mlongitude\u001b[0m\u001b[1;33m,\u001b[0m \u001b[0mencoding\u001b[0m\u001b[1;33m)\u001b[0m\u001b[1;33m\u001b[0m\u001b[1;33m\u001b[0m\u001b[0m\n\u001b[1;32m--> 841\u001b[1;33m     \u001b[0mfc\u001b[0m \u001b[1;33m=\u001b[0m \u001b[0mgeojson_to_ee\u001b[0m\u001b[1;33m(\u001b[0m\u001b[0mgeojson\u001b[0m\u001b[1;33m)\u001b[0m\u001b[1;33m\u001b[0m\u001b[1;33m\u001b[0m\u001b[0m\n\u001b[0m\u001b[0;32m    842\u001b[0m     \u001b[1;32mreturn\u001b[0m \u001b[0mfc\u001b[0m\u001b[1;33m\u001b[0m\u001b[1;33m\u001b[0m\u001b[0m\n\u001b[0;32m    843\u001b[0m \u001b[1;33m\u001b[0m\u001b[0m\n",
      "\u001b[1;32mC:\\ProgramData\\Anaconda3\\lib\\site-packages\\geemap\\common.py\u001b[0m in \u001b[0;36mgeojson_to_ee\u001b[1;34m(geo_json, geodesic, encoding)\u001b[0m\n\u001b[0;32m   1110\u001b[0m     \u001b[1;32mexcept\u001b[0m \u001b[0mException\u001b[0m \u001b[1;32mas\u001b[0m \u001b[0me\u001b[0m\u001b[1;33m:\u001b[0m\u001b[1;33m\u001b[0m\u001b[1;33m\u001b[0m\u001b[0m\n\u001b[0;32m   1111\u001b[0m         \u001b[0mprint\u001b[0m\u001b[1;33m(\u001b[0m\u001b[1;34m\"Could not convert the geojson to ee.Geometry()\"\u001b[0m\u001b[1;33m)\u001b[0m\u001b[1;33m\u001b[0m\u001b[1;33m\u001b[0m\u001b[0m\n\u001b[1;32m-> 1112\u001b[1;33m         \u001b[1;32mraise\u001b[0m \u001b[0mException\u001b[0m\u001b[1;33m(\u001b[0m\u001b[0me\u001b[0m\u001b[1;33m)\u001b[0m\u001b[1;33m\u001b[0m\u001b[1;33m\u001b[0m\u001b[0m\n\u001b[0m\u001b[0;32m   1113\u001b[0m \u001b[1;33m\u001b[0m\u001b[0m\n\u001b[0;32m   1114\u001b[0m \u001b[1;33m\u001b[0m\u001b[0m\n",
      "\u001b[1;31mException\u001b[0m: Unrecognized arguments {'geodesic'} to function: Constructs a new Point from the given x,y coordinates.\n\nArgs:\n  coordinates: The coordinates of this Point in x,y order.\n  crs: The coordinate reference system of the coordinates. The\n      default is the projection of the inputs, where Numbers are\n      assumed to be EPSG:4326."
     ]
    }
   ],
   "source": [
    "##Loading CSVs\n",
    "##PC\n",
    "in_csv = 'C:/Users/arj26323/Documents/Data/Biomass datasets/BMA.csv'\n",
    "df = geemap.csv_to_pandas(in_csv)\n",
    "df = df [['Date', 'Longitude', 'Latitude']]\n",
    "in_csv = df\n",
    "\n",
    "##Load feature class\n",
    "##PC\n",
    "df_fc = 'C:/Users/arj26323/Documents/Data/Biomass datasets/BMA_fc.csv' ##Can only be done once file created; see below\n",
    "\n",
    "bma_points = geemap.xy_to_points(df_fc, latitude = 'Latitude', longitude = 'Longitude')\n",
    "Map.addLayer(bma_points, {}, 'BMA sampling locations')"
   ]
  },
  {
   "cell_type": "code",
   "execution_count": 28,
   "id": "47cf5217",
   "metadata": {},
   "outputs": [
    {
     "name": "stdout",
     "output_type": "stream",
     "text": [
      "      Date  Longitude   Latitude\n",
      "0   29-Sep -81.289612  31.420226\n",
      "1   29-Sep -81.289615  31.420161\n",
      "2   29-Sep -81.289577  31.420091\n",
      "3   29-Sep -81.289622  31.420043\n",
      "4   29-Sep -81.289572  31.419946\n",
      "..     ...        ...        ...\n",
      "95  21-May -81.285426  31.390442\n",
      "96  21-May -81.285451  31.390501\n",
      "97  21-May -81.285515  31.390622\n",
      "98  21-May -81.285523  31.390656\n",
      "99  21-May -81.285584  31.390643\n",
      "\n",
      "[100 rows x 3 columns]\n"
     ]
    }
   ],
   "source": [
    "print(df)\n",
    "# print(df.dtypes)"
   ]
  },
  {
   "cell_type": "code",
   "execution_count": 5,
   "id": "85566697",
   "metadata": {},
   "outputs": [
    {
     "data": {
      "application/vnd.jupyter.widget-view+json": {
       "model_id": "550f4935debd41efad8e06b785798212",
       "version_major": 2,
       "version_minor": 0
      },
      "text/plain": [
       "Url()"
      ]
     },
     "metadata": {},
     "output_type": "display_data"
    }
   ],
   "source": [
    "##Load planetdata geotiff imagery\n",
    "##PC\n",
    "dean_may = 'E:/BMA planet data/21_May_2021/files/20210521_151835_36_2444_3B_AnalyticMS_SR_clip.tif'\n",
    "dean_mar_a = 'E:/BMA planet data/22_Mar_2021/files/20210322_154607_103c_3B_AnalyticMS_SR_clip.tif'\n",
    "dean_mar_b = 'E:/BMA planet data/22_Mar_2021/files/20210322_154608_103c_3B_AnalyticMS_SR_clip.tif'\n",
    "dean_sep30_a = 'E:/BMA planet data/22_Mar_2021/files/20200930_154455_1011_3B_AnalyticMS_SR_clip.tif'\n",
    "dean_sep30_b = 'E:/BMA planet data/22_Mar_2021/files/20200930_154456_1011_3B_AnalyticMS_SR_clip.tif'\n",
    "\n",
    "Map.add_raster(dean_may, layer_name='May 2021') ##Not working-doesn't work if you manually load it either"
   ]
  },
  {
   "cell_type": "code",
   "execution_count": null,
   "id": "77fe0d87",
   "metadata": {},
   "outputs": [],
   "source": []
  },
  {
   "cell_type": "code",
   "execution_count": 25,
   "id": "de66c7fb",
   "metadata": {},
   "outputs": [
    {
     "name": "stdout",
     "output_type": "stream",
     "text": [
      "      Date  Longitude   Latitude\n",
      "0   29-Sep -81.289612  31.420226\n",
      "1   29-Sep -81.289615  31.420161\n",
      "2   29-Sep -81.289577  31.420091\n",
      "3   29-Sep -81.289622  31.420043\n",
      "4   29-Sep -81.289572  31.419946\n",
      "..     ...        ...        ...\n",
      "95  21-May -81.285426  31.390442\n",
      "96  21-May -81.285451  31.390501\n",
      "97  21-May -81.285515  31.390622\n",
      "98  21-May -81.285523  31.390656\n",
      "99  21-May -81.285584  31.390643\n",
      "\n",
      "[100 rows x 3 columns]\n"
     ]
    }
   ],
   "source": [
    "##Export CSV file - to then load as feature class\n",
    "in_fc = df\n",
    "out_dir = os.path.expanduser('~/Documents/Data/Biomass datasets')\n",
    "out_csv = os.path.join(out_dir, 'BMA_fc.csv')\n",
    "#df.to_csv('~/Documents/Data/Biomass datasets/BMA_fc.csv', index = False)\n",
    "print(df)"
   ]
  },
  {
   "cell_type": "code",
   "execution_count": 10,
   "id": "38909600",
   "metadata": {},
   "outputs": [],
   "source": [
    "##Planet API \n",
    "os.environ[\"PLANET_API_KEY\"] = \"f740926702c94f5995b0a14b0776efce\"\n"
   ]
  },
  {
   "cell_type": "code",
   "execution_count": null,
   "id": "cac1e6d5",
   "metadata": {},
   "outputs": [],
   "source": []
  }
 ],
 "metadata": {
  "kernelspec": {
   "display_name": "Python 3",
   "language": "python",
   "name": "python3"
  },
  "language_info": {
   "codemirror_mode": {
    "name": "ipython",
    "version": 3
   },
   "file_extension": ".py",
   "mimetype": "text/x-python",
   "name": "python",
   "nbconvert_exporter": "python",
   "pygments_lexer": "ipython3",
   "version": "3.8.8"
  }
 },
 "nbformat": 4,
 "nbformat_minor": 5
}
