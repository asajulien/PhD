{
 "cells": [
  {
   "cell_type": "code",
   "execution_count": 1,
   "id": "0bf4c1d3",
   "metadata": {},
   "outputs": [],
   "source": [
    "import geemap\n",
    "import pandas as pd\n",
    "import numpy as np\n",
    "import matplotlib.pyplot as plt\n",
    "import pdb\n",
    "from IPython.display import display\n",
    "import ee\n",
    "import os"
   ]
  },
  {
   "cell_type": "code",
   "execution_count": 2,
   "id": "6b14bff5",
   "metadata": {},
   "outputs": [],
   "source": [
    "#list of plots in GA LTER dataset (not including broad creek)\n",
    "\n",
    "ee.Initialize()\n",
    "\n",
    "ga_pts = ee.FeatureCollection([\n",
    "  ee.Feature(ee.Geometry.Point([-81.422318, 31.539096]), {'site_id': '1'}),\n",
    "  ee.Feature(ee.Geometry.Point([-81.295564, 31.535967]), {'site_id': '2'}),\n",
    "  ee.Feature(ee.Geometry.Point([-81.229141, 31.518847]), {'site_id': '3'}),\n",
    "  ee.Feature(ee.Geometry.Point([-81.365805, 31.451791]), {'site_id': '4'}),\n",
    "  ee.Feature(ee.Geometry.Point([-81.340722, 31.435814]), {'site_id': '5'}),\n",
    "  ee.Feature(ee.Geometry.Point([-81.280011, 31.387962]), {'site_id': '6'}),\n",
    "  ee.Feature(ee.Geometry.Point([-81.478498, 31.334813]), {'site_id': '7'}),\n",
    "  ee.Feature(ee.Geometry.Point([-81.415535, 31.30824]), {'site_id': '8'}),\n",
    "  ee.Feature(ee.Geometry.Point([-81.333707, 31.351518]), {'site_id': '9'}),\n",
    "  ee.Feature(ee.Geometry.Point([-81.270863, 31.476948]), {'site_id': '10'})\n",
    "])\n",
    "##for GA, lats and longs may differ slightly between years (compare average lat/long to recorded lat/longs in each yr)\n",
    "##These are average lat/longs of the site (see GIS file); as such, need zonal spectral data (not point data)\n",
    "##Lat/longs calculated in GA Biomass dataset Jupyter script"
   ]
  },
  {
   "cell_type": "code",
   "execution_count": 3,
   "id": "b1af8cff",
   "metadata": {},
   "outputs": [
    {
     "name": "stdout",
     "output_type": "stream",
     "text": [
      "25\n"
     ]
    }
   ],
   "source": [
    "##sentinel 2 surface reflectance images - GA LTER\n",
    "\n",
    "gaCollectionS2 = ee.ImageCollection('COPERNICUS/S2_SR') \\\n",
    "    .filter(ee.Filter.calendarRange(2017, 2020,'year')) \\\n",
    "    .filter(ee.Filter.calendarRange(9, 10,'month')) \\\n",
    "    .filterBounds(ga_pts) \\\n",
    "    .sort('CLOUD_COVER', True)\n",
    "\n",
    "vis_param = {'min': 0, \n",
    "             'max': 2000, \n",
    "             'bands': ['B8', 'B4', 'B3'], \n",
    "             'gamma': 1.5}\n",
    "\n",
    "print(gaCollectionS2.size().getInfo())\n",
    "gaimage0 = gaCollectionS2.first()\n",
    "props = geemap.image_props(gaimage0)\n",
    "#props.getInfo()"
   ]
  },
  {
   "cell_type": "code",
   "execution_count": 5,
   "id": "a29ae9b5",
   "metadata": {},
   "outputs": [
    {
     "data": {
      "application/vnd.jupyter.widget-view+json": {
       "model_id": "6846535499b340e09cfeca751939fdfd",
       "version_major": 2,
       "version_minor": 0
      },
      "text/plain": [
       "Map(center=[31.434120927658846, -81.34324597505625], controls=(WidgetControl(options=['position', 'transparent…"
      ]
     },
     "metadata": {},
     "output_type": "display_data"
    }
   ],
   "source": [
    "##Mapping\n",
    "##Add Earth Engine dataset\n",
    "Map = geemap.Map(center=[40,-100], zoom=4)\n",
    "\n",
    "Map.addLayer(gaimage0, vis_param, \"Sentinel 2\")\n",
    "#Map.addLayer(ga18, l8_param, \"Landsat8SR\")\n",
    "\n",
    "Map.centerObject(ga_pts, 10)\n",
    "#Map.set_plot_options(add_marker_cluster = True) ##not sure what this does\n",
    "\n",
    "\n",
    "##add feature collection points for each plot\n",
    "Map.addLayer(ga_pts)\n",
    "\n",
    "Map"
   ]
  },
  {
   "cell_type": "code",
   "execution_count": null,
   "id": "992437b2",
   "metadata": {},
   "outputs": [],
   "source": []
  }
 ],
 "metadata": {
  "kernelspec": {
   "display_name": "feesh",
   "language": "python",
   "name": "feesh"
  },
  "language_info": {
   "codemirror_mode": {
    "name": "ipython",
    "version": 3
   },
   "file_extension": ".py",
   "mimetype": "text/x-python",
   "name": "python",
   "nbconvert_exporter": "python",
   "pygments_lexer": "ipython3",
   "version": "3.9.4"
  }
 },
 "nbformat": 4,
 "nbformat_minor": 5
}
