{
 "cells": [
  {
   "cell_type": "code",
   "execution_count": 1,
   "id": "84aa8244",
   "metadata": {},
   "outputs": [],
   "source": [
    "import geemap\n",
    "import pandas as pd\n",
    "import numpy as np\n",
    "import matplotlib.pyplot as plt\n",
    "import pdb\n",
    "from IPython.display import display\n",
    "import ee\n",
    "import os\n",
    "import glob"
   ]
  },
  {
   "cell_type": "code",
   "execution_count": 2,
   "id": "c57ff3e2",
   "metadata": {},
   "outputs": [
    {
     "data": {
      "text/html": [
       "\n",
       "            <style>\n",
       "                .geemap-dark {\n",
       "                    --jp-widgets-color: white;\n",
       "                    --jp-widgets-label-color: white;\n",
       "                    --jp-ui-font-color1: white;\n",
       "                    --jp-layout-color2: #454545;\n",
       "                    background-color: #383838;\n",
       "                }\n",
       "\n",
       "                .geemap-dark .jupyter-button {\n",
       "                    --jp-layout-color3: #383838;\n",
       "                }\n",
       "\n",
       "                .geemap-colab {\n",
       "                    background-color: var(--colab-primary-surface-color, white);\n",
       "                }\n",
       "\n",
       "                .geemap-colab .jupyter-button {\n",
       "                    --jp-layout-color3: var(--colab-primary-surface-color, white);\n",
       "                }\n",
       "            </style>\n",
       "            "
      ],
      "text/plain": [
       "<IPython.core.display.HTML object>"
      ]
     },
     "metadata": {},
     "output_type": "display_data"
    },
    {
     "name": "stdout",
     "output_type": "stream",
     "text": [
      "0.34.1\n"
     ]
    }
   ],
   "source": [
    "import ee\n",
    "import geemap\n",
    "service_account = ' boba-account@boba-430314.iam.gserviceaccount.com '\n",
    "credentials = ee.ServiceAccountCredentials(service_account,'C:/Users/arj26323/OneDrive - University of Georgia/Documents/GEE AUTH/boba-430314-a19be859bfca.json')\n",
    "\n",
    "ee.Initialize(credentials)\n",
    "\n",
    "print(geemap.__version__)\n"
   ]
  },
  {
   "cell_type": "code",
   "execution_count": 3,
   "id": "9feb0d3a",
   "metadata": {},
   "outputs": [
    {
     "data": {
      "text/html": [
       "\n",
       "            <style>\n",
       "                .geemap-dark {\n",
       "                    --jp-widgets-color: white;\n",
       "                    --jp-widgets-label-color: white;\n",
       "                    --jp-ui-font-color1: white;\n",
       "                    --jp-layout-color2: #454545;\n",
       "                    background-color: #383838;\n",
       "                }\n",
       "\n",
       "                .geemap-dark .jupyter-button {\n",
       "                    --jp-layout-color3: #383838;\n",
       "                }\n",
       "\n",
       "                .geemap-colab {\n",
       "                    background-color: var(--colab-primary-surface-color, white);\n",
       "                }\n",
       "\n",
       "                .geemap-colab .jupyter-button {\n",
       "                    --jp-layout-color3: var(--colab-primary-surface-color, white);\n",
       "                }\n",
       "            </style>\n",
       "            "
      ],
      "text/plain": [
       "<IPython.core.display.HTML object>"
      ]
     },
     "metadata": {},
     "output_type": "display_data"
    },
    {
     "data": {
      "application/vnd.jupyter.widget-view+json": {
       "model_id": "7aa16bfbecdd48759b87707b9a62abff",
       "version_major": 2,
       "version_minor": 0
      },
      "text/plain": [
       "Map(center=[32.0094, -81.0109], controls=(WidgetControl(options=['position', 'transparent_bg'], widget=SearchD…"
      ]
     },
     "metadata": {},
     "output_type": "display_data"
    }
   ],
   "source": [
    "#Savannah salt marsh long-term analysis:\n",
    "bb = ee.Geometry.Point([-81.0109, 32.0094]).buffer(7000)\n",
    "ga_est = geemap.shp_to_ee('F:/Wetlands shapefiles/ga_coastzone.shp')\n",
    "\n",
    "Map = geemap.Map(center=[32.0094,-81.0109], zoom=10)\n",
    "Map.addLayer(bb,{},'ROI')\n",
    "Map.addLayer(ga_est,{},'all_estuaries')\n",
    "\n",
    "Map.addLayer\n",
    "Map"
   ]
  },
  {
   "cell_type": "code",
   "execution_count": 4,
   "id": "fb60c367",
   "metadata": {},
   "outputs": [
    {
     "data": {
      "text/html": [
       "\n",
       "            <style>\n",
       "                .geemap-dark {\n",
       "                    --jp-widgets-color: white;\n",
       "                    --jp-widgets-label-color: white;\n",
       "                    --jp-ui-font-color1: white;\n",
       "                    --jp-layout-color2: #454545;\n",
       "                    background-color: #383838;\n",
       "                }\n",
       "\n",
       "                .geemap-dark .jupyter-button {\n",
       "                    --jp-layout-color3: #383838;\n",
       "                }\n",
       "\n",
       "                .geemap-colab {\n",
       "                    background-color: var(--colab-primary-surface-color, white);\n",
       "                }\n",
       "\n",
       "                .geemap-colab .jupyter-button {\n",
       "                    --jp-layout-color3: var(--colab-primary-surface-color, white);\n",
       "                }\n",
       "            </style>\n",
       "            "
      ],
      "text/plain": [
       "<IPython.core.display.HTML object>"
      ]
     },
     "metadata": {},
     "output_type": "display_data"
    }
   ],
   "source": [
    "#DEM\n",
    "elevation = ee.Image('USGS/3DEP/10m').clip(bb)"
   ]
  },
  {
   "cell_type": "code",
   "execution_count": 5,
   "id": "d950e5ac",
   "metadata": {},
   "outputs": [
    {
     "data": {
      "text/html": [
       "\n",
       "            <style>\n",
       "                .geemap-dark {\n",
       "                    --jp-widgets-color: white;\n",
       "                    --jp-widgets-label-color: white;\n",
       "                    --jp-ui-font-color1: white;\n",
       "                    --jp-layout-color2: #454545;\n",
       "                    background-color: #383838;\n",
       "                }\n",
       "\n",
       "                .geemap-dark .jupyter-button {\n",
       "                    --jp-layout-color3: #383838;\n",
       "                }\n",
       "\n",
       "                .geemap-colab {\n",
       "                    background-color: var(--colab-primary-surface-color, white);\n",
       "                }\n",
       "\n",
       "                .geemap-colab .jupyter-button {\n",
       "                    --jp-layout-color3: var(--colab-primary-surface-color, white);\n",
       "                }\n",
       "            </style>\n",
       "            "
      ],
      "text/plain": [
       "<IPython.core.display.HTML object>"
      ]
     },
     "metadata": {},
     "output_type": "display_data"
    }
   ],
   "source": [
    "#FLATS\n",
    "\n",
    "#12/08/22 - add calibrated flats to images\n",
    "def addFLATSL7(image):\n",
    "    flats = ee.Image(0).expression(\n",
    "        '1/(1+2.718281828459045**-(1.51 + 12.5*(RED-SWIR)/(RED+SWIR) - 41.2*(NIR-RED)/(NIR+6*RED-7.5*BLUE+1)))', {\n",
    "            'SWIR': image.select('SR_B5'),\n",
    "            'NIR': image.select('SR_B4'),\n",
    "            'RED': image.select('SR_B3'),\n",
    "            'BLUE': image.select('SR_B1')\n",
    "        })\n",
    "    \n",
    "    return image.addBands(flats.rename('flats'))\n",
    "\n",
    "def addFLATSL5(image):\n",
    "    flats = ee.Image(0).expression(\n",
    "        '1/(1+2.718281828459045**-(1.51 + 12.5*(0.972*(RED-SWIR)/(RED+SWIR)-0.008) - 41.2*(0.991*(NIR-RED)/(NIR+6*RED-7.5*BLUE+1)-0.0014)))', {\n",
    "            'SWIR': image.select('SR_B5'),\n",
    "            'NIR': image.select('SR_B4'),\n",
    "            'RED': image.select('SR_B3'),\n",
    "            'BLUE': image.select('SR_B1')\n",
    "        })\n",
    "    \n",
    "    return image.addBands(flats.rename('flats'))\n",
    "\n",
    "\n",
    "def addFLATSL8(image):\n",
    "    flats = ee.Image(0).expression(\n",
    "        '1/(1+2.718281828459045**-(1.51 + 12.5*(0.841*(RED-SWIR)/(RED+SWIR) - 0.019) - 41.2*(0.771*(NIR-RED)/(NIR+6*RED-7.5*BLUE+1) + 0.011)))', {\n",
    "            'SWIR': image.select('SR_B6'),\n",
    "            'NIR': image.select('SR_B5'),\n",
    "            'RED': image.select('SR_B4'),\n",
    "            'BLUE': image.select('SR_B2')\n",
    "        })\n",
    "    \n",
    "    return image.addBands(flats.rename('flats'))\n",
    "\n",
    "def addFLATSL9(image):\n",
    "    flats = ee.Image(0).expression(\n",
    "        '1/(1+2.718281828459045**-(1.51 + 12.5*(1.225*(RED-SWIR)/(RED+SWIR) + 0.096) - 41.2*(1.038* (NIR-RED)/(NIR+6*RED-7.5*BLUE+1) - 0.004)))', {\n",
    "            'SWIR': image.select('SR_B6'),\n",
    "            'NIR': image.select('SR_B5'),\n",
    "            'RED': image.select('SR_B4'),\n",
    "            'BLUE': image.select('SR_B2')\n",
    "        })\n",
    "    \n",
    "    return image.addBands(flats.rename('flats'))"
   ]
  },
  {
   "cell_type": "code",
   "execution_count": 6,
   "id": "2caa89dd",
   "metadata": {},
   "outputs": [
    {
     "data": {
      "text/html": [
       "\n",
       "            <style>\n",
       "                .geemap-dark {\n",
       "                    --jp-widgets-color: white;\n",
       "                    --jp-widgets-label-color: white;\n",
       "                    --jp-ui-font-color1: white;\n",
       "                    --jp-layout-color2: #454545;\n",
       "                    background-color: #383838;\n",
       "                }\n",
       "\n",
       "                .geemap-dark .jupyter-button {\n",
       "                    --jp-layout-color3: #383838;\n",
       "                }\n",
       "\n",
       "                .geemap-colab {\n",
       "                    background-color: var(--colab-primary-surface-color, white);\n",
       "                }\n",
       "\n",
       "                .geemap-colab .jupyter-button {\n",
       "                    --jp-layout-color3: var(--colab-primary-surface-color, white);\n",
       "                }\n",
       "            </style>\n",
       "            "
      ],
      "text/plain": [
       "<IPython.core.display.HTML object>"
      ]
     },
     "metadata": {},
     "output_type": "display_data"
    }
   ],
   "source": [
    "# Function to add the date band\n",
    "def add_date_band(image):\n",
    "    # Get the acquisition date\n",
    "    date = ee.Date(image.get('system:time_start'))\n",
    "    \n",
    "    # Convert the date to milliseconds since Unix epoch\n",
    "    date_millis = date.millis()\n",
    "    \n",
    "    # Create an image with a single band representing the acquisition date\n",
    "    date_image = ee.Image.constant(date_millis).int64().rename('acquisition_date')\n",
    "    \n",
    "    # Add the date image as a band to the original image\n",
    "    return image.addBands(date_image)\n",
    "\n",
    "\n",
    "#Function to add elevation\n",
    "\n",
    "def add_elevation(image):\n",
    "    elevation_band = elevation.rename('elevation')\n",
    "    return image.addBands(elevation_band)"
   ]
  },
  {
   "cell_type": "code",
   "execution_count": 7,
   "id": "b8af6a4a",
   "metadata": {},
   "outputs": [
    {
     "data": {
      "text/html": [
       "\n",
       "            <style>\n",
       "                .geemap-dark {\n",
       "                    --jp-widgets-color: white;\n",
       "                    --jp-widgets-label-color: white;\n",
       "                    --jp-ui-font-color1: white;\n",
       "                    --jp-layout-color2: #454545;\n",
       "                    background-color: #383838;\n",
       "                }\n",
       "\n",
       "                .geemap-dark .jupyter-button {\n",
       "                    --jp-layout-color3: #383838;\n",
       "                }\n",
       "\n",
       "                .geemap-colab {\n",
       "                    background-color: var(--colab-primary-surface-color, white);\n",
       "                }\n",
       "\n",
       "                .geemap-colab .jupyter-button {\n",
       "                    --jp-layout-color3: var(--colab-primary-surface-color, white);\n",
       "                }\n",
       "            </style>\n",
       "            "
      ],
      "text/plain": [
       "<IPython.core.display.HTML object>"
      ]
     },
     "metadata": {},
     "output_type": "display_data"
    }
   ],
   "source": [
    "#Function to cloud mask from the pixel_qa band of Landsat 5/8 SR data.\n",
    "def maskL5sr(image):\n",
    "    qaMask = image.select('QA_PIXEL').bitwiseAnd(int('11111', 2)).eq(0)\n",
    "    saturationMask = image.select('QA_RADSAT').eq(0)\n",
    "    # Apply the scaling factors to the appropriate bands.\n",
    "    opticalBands = image.select('SR_B.').multiply(0.0000275).add(-0.2)\n",
    "    thermalBands = image.select('ST_B.*').multiply(0.00341802).add(149.0)\n",
    "    # Replace the original bands with the scaled ones and apply the masks.\n",
    "    return image.addBands(opticalBands, None, True) \\\n",
    "    .addBands(thermalBands, None, True) \\\n",
    "    .updateMask(qaMask) \\\n",
    "    .updateMask(saturationMask)"
   ]
  },
  {
   "cell_type": "code",
   "execution_count": 8,
   "id": "1ef4ece2",
   "metadata": {},
   "outputs": [
    {
     "data": {
      "text/html": [
       "\n",
       "            <style>\n",
       "                .geemap-dark {\n",
       "                    --jp-widgets-color: white;\n",
       "                    --jp-widgets-label-color: white;\n",
       "                    --jp-ui-font-color1: white;\n",
       "                    --jp-layout-color2: #454545;\n",
       "                    background-color: #383838;\n",
       "                }\n",
       "\n",
       "                .geemap-dark .jupyter-button {\n",
       "                    --jp-layout-color3: #383838;\n",
       "                }\n",
       "\n",
       "                .geemap-colab {\n",
       "                    background-color: var(--colab-primary-surface-color, white);\n",
       "                }\n",
       "\n",
       "                .geemap-colab .jupyter-button {\n",
       "                    --jp-layout-color3: var(--colab-primary-surface-color, white);\n",
       "                }\n",
       "            </style>\n",
       "            "
      ],
      "text/plain": [
       "<IPython.core.display.HTML object>"
      ]
     },
     "metadata": {},
     "output_type": "display_data"
    }
   ],
   "source": [
    "#Loading gee datasets\n",
    "l8_col = ee.ImageCollection('LANDSAT/LC08/C02/T1_L2') \\\n",
    "    .filter(ee.Filter.calendarRange(1998, 2023,'year')) \\\n",
    "    .filterBounds(bb) \\\n",
    "    .map(maskL5sr).map(addFLATSL8).map(add_date_band).map(add_elevation)\n",
    "\n",
    "l7_col = ee.ImageCollection('LANDSAT/LE07/C02/T1_L2') \\\n",
    "    .filter(ee.Filter.calendarRange(1984, 2023,'year')) \\\n",
    "    .filterBounds(bb)\\\n",
    "    .map(maskL5sr).map(addFLATSL7).map(add_date_band).map(add_elevation)\n",
    "\n",
    "l5_col = ee.ImageCollection('LANDSAT/LT05/C02/T1_L2') \\\n",
    "    .filter(ee.Filter.calendarRange(1984, 2023,'year')) \\\n",
    "    .filterBounds(bb)\\\n",
    "    .map(maskL5sr).map(addFLATSL5).map(add_date_band).map(add_elevation)\n",
    "\n",
    "l9_col = ee.ImageCollection(\"LANDSAT/LC09/C02/T1_L2\") \\\n",
    "    .filter(ee.Filter.calendarRange(1998, 2023,'year')) \\\n",
    "    .filterBounds(bb)\\\n",
    "    .map(maskL5sr).map(addFLATSL9).map(add_date_band).map(add_elevation)"
   ]
  },
  {
   "cell_type": "code",
   "execution_count": 9,
   "id": "b699ef34",
   "metadata": {},
   "outputs": [
    {
     "data": {
      "text/html": [
       "\n",
       "            <style>\n",
       "                .geemap-dark {\n",
       "                    --jp-widgets-color: white;\n",
       "                    --jp-widgets-label-color: white;\n",
       "                    --jp-ui-font-color1: white;\n",
       "                    --jp-layout-color2: #454545;\n",
       "                    background-color: #383838;\n",
       "                }\n",
       "\n",
       "                .geemap-dark .jupyter-button {\n",
       "                    --jp-layout-color3: #383838;\n",
       "                }\n",
       "\n",
       "                .geemap-colab {\n",
       "                    background-color: var(--colab-primary-surface-color, white);\n",
       "                }\n",
       "\n",
       "                .geemap-colab .jupyter-button {\n",
       "                    --jp-layout-color3: var(--colab-primary-surface-color, white);\n",
       "                }\n",
       "            </style>\n",
       "            "
      ],
      "text/plain": [
       "<IPython.core.display.HTML object>"
      ]
     },
     "metadata": {},
     "output_type": "display_data"
    }
   ],
   "source": [
    "ultra_ga = l8_col.merge(l5_col).merge(l7_col).merge(l9_col)"
   ]
  },
  {
   "cell_type": "code",
   "execution_count": 10,
   "id": "f4dd3ced",
   "metadata": {},
   "outputs": [
    {
     "data": {
      "text/html": [
       "\n",
       "            <style>\n",
       "                .geemap-dark {\n",
       "                    --jp-widgets-color: white;\n",
       "                    --jp-widgets-label-color: white;\n",
       "                    --jp-ui-font-color1: white;\n",
       "                    --jp-layout-color2: #454545;\n",
       "                    background-color: #383838;\n",
       "                }\n",
       "\n",
       "                .geemap-dark .jupyter-button {\n",
       "                    --jp-layout-color3: #383838;\n",
       "                }\n",
       "\n",
       "                .geemap-colab {\n",
       "                    background-color: var(--colab-primary-surface-color, white);\n",
       "                }\n",
       "\n",
       "                .geemap-colab .jupyter-button {\n",
       "                    --jp-layout-color3: var(--colab-primary-surface-color, white);\n",
       "                }\n",
       "            </style>\n",
       "            "
      ],
      "text/plain": [
       "<IPython.core.display.HTML object>"
      ]
     },
     "metadata": {},
     "output_type": "display_data"
    },
    {
     "data": {
      "text/html": [
       "<div>\n",
       "<style scoped>\n",
       "    .dataframe tbody tr th:only-of-type {\n",
       "        vertical-align: middle;\n",
       "    }\n",
       "\n",
       "    .dataframe tbody tr th {\n",
       "        vertical-align: top;\n",
       "    }\n",
       "\n",
       "    .dataframe thead th {\n",
       "        text-align: right;\n",
       "    }\n",
       "</style>\n",
       "<table border=\"1\" class=\"dataframe\">\n",
       "  <thead>\n",
       "    <tr style=\"text-align: right;\">\n",
       "      <th></th>\n",
       "      <th>Date</th>\n",
       "      <th>Time (GMT)</th>\n",
       "      <th>Predicted (m)</th>\n",
       "      <th>Preliminary (m)</th>\n",
       "      <th>Verified (m)</th>\n",
       "      <th>DOY</th>\n",
       "    </tr>\n",
       "  </thead>\n",
       "  <tbody>\n",
       "    <tr>\n",
       "      <th>16</th>\n",
       "      <td>1985/01/02</td>\n",
       "      <td>2025-01-09 16:00:00</td>\n",
       "      <td>0.340</td>\n",
       "      <td>-</td>\n",
       "      <td>0.479</td>\n",
       "      <td>1985-01-02</td>\n",
       "    </tr>\n",
       "    <tr>\n",
       "      <th>40</th>\n",
       "      <td>1985/01/03</td>\n",
       "      <td>2025-01-09 16:00:00</td>\n",
       "      <td>0.275</td>\n",
       "      <td>-</td>\n",
       "      <td>0.406</td>\n",
       "      <td>1985-01-03</td>\n",
       "    </tr>\n",
       "    <tr>\n",
       "      <th>64</th>\n",
       "      <td>1985/01/04</td>\n",
       "      <td>2025-01-09 16:00:00</td>\n",
       "      <td>0.374</td>\n",
       "      <td>-</td>\n",
       "      <td>0.458</td>\n",
       "      <td>1985-01-04</td>\n",
       "    </tr>\n",
       "    <tr>\n",
       "      <th>88</th>\n",
       "      <td>1985/01/05</td>\n",
       "      <td>2025-01-09 16:00:00</td>\n",
       "      <td>0.620</td>\n",
       "      <td>-</td>\n",
       "      <td>0.543</td>\n",
       "      <td>1985-01-05</td>\n",
       "    </tr>\n",
       "    <tr>\n",
       "      <th>112</th>\n",
       "      <td>1985/01/06</td>\n",
       "      <td>2025-01-09 16:00:00</td>\n",
       "      <td>0.967</td>\n",
       "      <td>-</td>\n",
       "      <td>1.162</td>\n",
       "      <td>1985-01-06</td>\n",
       "    </tr>\n",
       "    <tr>\n",
       "      <th>...</th>\n",
       "      <td>...</td>\n",
       "      <td>...</td>\n",
       "      <td>...</td>\n",
       "      <td>...</td>\n",
       "      <td>...</td>\n",
       "      <td>...</td>\n",
       "    </tr>\n",
       "    <tr>\n",
       "      <th>350536</th>\n",
       "      <td>1984/12/28</td>\n",
       "      <td>2025-01-09 16:00:00</td>\n",
       "      <td>1.759</td>\n",
       "      <td>-</td>\n",
       "      <td>1.83</td>\n",
       "      <td>1984-12-28</td>\n",
       "    </tr>\n",
       "    <tr>\n",
       "      <th>350560</th>\n",
       "      <td>1984/12/29</td>\n",
       "      <td>2025-01-09 16:00:00</td>\n",
       "      <td>1.466</td>\n",
       "      <td>-</td>\n",
       "      <td>1.449</td>\n",
       "      <td>1984-12-29</td>\n",
       "    </tr>\n",
       "    <tr>\n",
       "      <th>350584</th>\n",
       "      <td>1984/12/30</td>\n",
       "      <td>2025-01-09 16:00:00</td>\n",
       "      <td>1.148</td>\n",
       "      <td>-</td>\n",
       "      <td>1.104</td>\n",
       "      <td>1984-12-30</td>\n",
       "    </tr>\n",
       "    <tr>\n",
       "      <th>350608</th>\n",
       "      <td>1984/12/31</td>\n",
       "      <td>2025-01-09 16:00:00</td>\n",
       "      <td>0.835</td>\n",
       "      <td>-</td>\n",
       "      <td>0.927</td>\n",
       "      <td>1984-12-31</td>\n",
       "    </tr>\n",
       "    <tr>\n",
       "      <th>350632</th>\n",
       "      <td>1985/01/01</td>\n",
       "      <td>2025-01-09 16:00:00</td>\n",
       "      <td>0.539</td>\n",
       "      <td>-</td>\n",
       "      <td>0.732</td>\n",
       "      <td>1985-01-01</td>\n",
       "    </tr>\n",
       "  </tbody>\n",
       "</table>\n",
       "<p>14610 rows × 6 columns</p>\n",
       "</div>"
      ],
      "text/plain": [
       "              Date          Time (GMT)  Predicted (m) Preliminary (m)  \\\n",
       "16      1985/01/02 2025-01-09 16:00:00          0.340               -   \n",
       "40      1985/01/03 2025-01-09 16:00:00          0.275               -   \n",
       "64      1985/01/04 2025-01-09 16:00:00          0.374               -   \n",
       "88      1985/01/05 2025-01-09 16:00:00          0.620               -   \n",
       "112     1985/01/06 2025-01-09 16:00:00          0.967               -   \n",
       "...            ...                 ...            ...             ...   \n",
       "350536  1984/12/28 2025-01-09 16:00:00          1.759               -   \n",
       "350560  1984/12/29 2025-01-09 16:00:00          1.466               -   \n",
       "350584  1984/12/30 2025-01-09 16:00:00          1.148               -   \n",
       "350608  1984/12/31 2025-01-09 16:00:00          0.835               -   \n",
       "350632  1985/01/01 2025-01-09 16:00:00          0.539               -   \n",
       "\n",
       "       Verified (m)        DOY  \n",
       "16            0.479 1985-01-02  \n",
       "40            0.406 1985-01-03  \n",
       "64            0.458 1985-01-04  \n",
       "88            0.543 1985-01-05  \n",
       "112           1.162 1985-01-06  \n",
       "...             ...        ...  \n",
       "350536         1.83 1984-12-28  \n",
       "350560        1.449 1984-12-29  \n",
       "350584        1.104 1984-12-30  \n",
       "350608        0.927 1984-12-31  \n",
       "350632        0.732 1985-01-01  \n",
       "\n",
       "[14610 rows x 6 columns]"
      ]
     },
     "execution_count": 10,
     "metadata": {},
     "output_type": "execute_result"
    }
   ],
   "source": [
    "#Adding tide\n",
    "import glob\n",
    "import pandas as pd\n",
    "\n",
    "path = r'C:/Users/arj26323/Documents/Data/flats/Tide data' #Ft. Pulaski tide data\n",
    "all_files = glob.glob(path + \"/*.csv\")\n",
    "\n",
    "li = []\n",
    "\n",
    "for filename in all_files:\n",
    "    df = pd.read_csv(filename, index_col=None, header=0)\n",
    "    li.append(df)\n",
    "\n",
    "df = pd.concat(li, axis=0, ignore_index=True)\n",
    "\n",
    "df\n",
    "\n",
    "df2 = df.copy()\n",
    "df2['Time (GMT)'] = pd.to_datetime(df2['Time (GMT)'])\n",
    "df2['DOY'] = pd.to_datetime(df2['Date'])\n",
    "\n",
    "\n",
    "time_mask = (df2['Time (GMT)'].dt.hour == 16)\n",
    "df_time = df2[time_mask]\n",
    "\n",
    "df_time"
   ]
  },
  {
   "cell_type": "code",
   "execution_count": 11,
   "id": "6f39a3cb",
   "metadata": {},
   "outputs": [
    {
     "data": {
      "text/html": [
       "\n",
       "            <style>\n",
       "                .geemap-dark {\n",
       "                    --jp-widgets-color: white;\n",
       "                    --jp-widgets-label-color: white;\n",
       "                    --jp-ui-font-color1: white;\n",
       "                    --jp-layout-color2: #454545;\n",
       "                    background-color: #383838;\n",
       "                }\n",
       "\n",
       "                .geemap-dark .jupyter-button {\n",
       "                    --jp-layout-color3: #383838;\n",
       "                }\n",
       "\n",
       "                .geemap-colab {\n",
       "                    background-color: var(--colab-primary-surface-color, white);\n",
       "                }\n",
       "\n",
       "                .geemap-colab .jupyter-button {\n",
       "                    --jp-layout-color3: var(--colab-primary-surface-color, white);\n",
       "                }\n",
       "            </style>\n",
       "            "
      ],
      "text/plain": [
       "<IPython.core.display.HTML object>"
      ]
     },
     "metadata": {},
     "output_type": "display_data"
    }
   ],
   "source": [
    "##GEORGIA\n",
    "#LOW: < 0.8\n",
    "#Mid: 0.8-1.8\n",
    "#High: > 1.8"
   ]
  },
  {
   "cell_type": "code",
   "execution_count": 12,
   "id": "59d98dad",
   "metadata": {},
   "outputs": [
    {
     "data": {
      "text/html": [
       "\n",
       "            <style>\n",
       "                .geemap-dark {\n",
       "                    --jp-widgets-color: white;\n",
       "                    --jp-widgets-label-color: white;\n",
       "                    --jp-ui-font-color1: white;\n",
       "                    --jp-layout-color2: #454545;\n",
       "                    background-color: #383838;\n",
       "                }\n",
       "\n",
       "                .geemap-dark .jupyter-button {\n",
       "                    --jp-layout-color3: #383838;\n",
       "                }\n",
       "\n",
       "                .geemap-colab {\n",
       "                    background-color: var(--colab-primary-surface-color, white);\n",
       "                }\n",
       "\n",
       "                .geemap-colab .jupyter-button {\n",
       "                    --jp-layout-color3: var(--colab-primary-surface-color, white);\n",
       "                }\n",
       "            </style>\n",
       "            "
      ],
      "text/plain": [
       "<IPython.core.display.HTML object>"
      ]
     },
     "metadata": {},
     "output_type": "display_data"
    }
   ],
   "source": [
    "# Get the image IDs and acquisition dates separately\n",
    "image_ids = ultra_ga.aggregate_array('system:id').getInfo()\n",
    "acquisition_dates = ultra_ga.aggregate_array('system:time_start').getInfo()\n",
    "\n",
    "# Create the DataFrame\n",
    "dfx = pd.DataFrame({'Image': image_ids, 'acquisition_date': acquisition_dates})\n",
    "\n",
    "dfx['Date'] = pd.to_datetime(dfx['acquisition_date'], unit='ms')\n",
    "dfx['DOY'] = dfx['Date'].dt.strftime('%Y-%m-%d')\n",
    "dfx['DOY'] = pd.to_datetime(dfx['DOY'])\n",
    "\n",
    "df_u = pd.merge(dfx, df_time, on = 'DOY')\n",
    "\n",
    "df_u['Verified (m)'] = df_u['Verified (m)'].replace('-', float('nan')).astype('float')\n",
    "\n",
    "# Display the DataFrame\n",
    "# print(dfx)\n",
    "# print(df_u)\n",
    "\n",
    "df_u['Verified (m)'] = df_u['Verified (m)'].replace('-', float('nan')).astype('float')\n",
    "\n",
    "df_low = df_u[df_u['Verified (m)'] <= 0.8]\n",
    "df_mid = df_u[df_u['Verified (m)'].between(0.8, 1.8)]\n",
    "df_high = df_u[df_u['Verified (m)'] >= 1.8]\n",
    "\n",
    "# print(df_high)"
   ]
  },
  {
   "cell_type": "code",
   "execution_count": 13,
   "id": "f5de84fe",
   "metadata": {},
   "outputs": [
    {
     "data": {
      "text/html": [
       "\n",
       "            <style>\n",
       "                .geemap-dark {\n",
       "                    --jp-widgets-color: white;\n",
       "                    --jp-widgets-label-color: white;\n",
       "                    --jp-ui-font-color1: white;\n",
       "                    --jp-layout-color2: #454545;\n",
       "                    background-color: #383838;\n",
       "                }\n",
       "\n",
       "                .geemap-dark .jupyter-button {\n",
       "                    --jp-layout-color3: #383838;\n",
       "                }\n",
       "\n",
       "                .geemap-colab {\n",
       "                    background-color: var(--colab-primary-surface-color, white);\n",
       "                }\n",
       "\n",
       "                .geemap-colab .jupyter-button {\n",
       "                    --jp-layout-color3: var(--colab-primary-surface-color, white);\n",
       "                }\n",
       "            </style>\n",
       "            "
      ],
      "text/plain": [
       "<IPython.core.display.HTML object>"
      ]
     },
     "metadata": {},
     "output_type": "display_data"
    }
   ],
   "source": [
    "#Slope of flats, by pixel\n",
    "\n",
    "# Create a list of image names\n",
    "low_names = df_low['Image'].tolist()\n",
    "mid_names = df_mid['Image'].tolist()\n",
    "high_names = df_high['Image'].tolist()\n",
    "\n",
    "# Initialize separate lists\n",
    "LT05_list = []\n",
    "LE07_list = []\n",
    "LC09_list = []\n",
    "LC08_list = []\n",
    "other_list = []\n",
    "\n",
    "# Iterate through the satellite names and separate them based on keys\n",
    "names = high_names\n",
    "\n",
    "'''\n",
    "NOTE WHICH TIDE\n",
    "'''\n",
    "\n",
    "for name in names:\n",
    "    if 'LT05' in name:\n",
    "        LT05_list.append(name)\n",
    "    elif 'LE07' in name:\n",
    "        LE07_list.append(name)\n",
    "    elif 'LC09' in name:\n",
    "        LC09_list.append(name)\n",
    "    elif 'LC08' in name:\n",
    "        LC08_list.append(name)\n",
    "    else:\n",
    "        other_list.append(name)\n",
    "\n",
    "col5 = ee.ImageCollection(LT05_list).map(maskL5sr).map(addFLATSL5).map(add_elevation)\n",
    "col7 = ee.ImageCollection(LE07_list).map(maskL5sr).map(addFLATSL7).map(add_elevation)\n",
    "col8 = ee.ImageCollection(LC08_list).map(maskL5sr).map(addFLATSL8).map(add_elevation)\n",
    "col9 = ee.ImageCollection(LC09_list).map(maskL5sr).map(addFLATSL9).map(add_elevation)\n",
    "\n",
    "col = col5.merge(col7).merge(col8).merge(col9)\n",
    "\n",
    "# col = col.filter(ee.Filter.calendarRange(1984, 1994,'year')).filterBounds(bb)\n",
    "\n",
    "study_area = bb\n",
    "\n",
    "col = col.filter(ee.Filter.calendarRange(1984, 2023,'year')).map(lambda image: image.clip(bb)) \\\n",
    "    .filter(ee.Filter.lte('CLOUD_COVER_LAND', 50)).filterBounds(study_area)\n",
    "\n",
    "''' \n",
    "ABOVE IS WHERE YOU ADJUST THE YEAR TO PARSE THIS OUT BY DECADE - BE AWARE OF THE DATES\n",
    "'''\n",
    "\n",
    "# Function to calculate linear regression for each pixel\n",
    "def add_time(image):\n",
    "    # Add a band representing time in years\n",
    "    time = image.metadata('system:time_start').divide(31536000000)  # milliseconds to years\n",
    "    return image.addBands(time.rename('time'))\n",
    "\n",
    "colx = col.map(add_time)\n",
    "\n",
    "# Perform linear regression for each pixel\n",
    "linearFit = colx.select(['time', 'flats']).reduce(\n",
    "        reducer=ee.Reducer.linearFit()\n",
    "    )"
   ]
  },
  {
   "cell_type": "code",
   "execution_count": 27,
   "id": "ab39c29d",
   "metadata": {},
   "outputs": [
    {
     "data": {
      "text/html": [
       "\n",
       "            <style>\n",
       "                .geemap-dark {\n",
       "                    --jp-widgets-color: white;\n",
       "                    --jp-widgets-label-color: white;\n",
       "                    --jp-ui-font-color1: white;\n",
       "                    --jp-layout-color2: #454545;\n",
       "                    background-color: #383838;\n",
       "                }\n",
       "\n",
       "                .geemap-dark .jupyter-button {\n",
       "                    --jp-layout-color3: #383838;\n",
       "                }\n",
       "\n",
       "                .geemap-colab {\n",
       "                    background-color: var(--colab-primary-surface-color, white);\n",
       "                }\n",
       "\n",
       "                .geemap-colab .jupyter-button {\n",
       "                    --jp-layout-color3: var(--colab-primary-surface-color, white);\n",
       "                }\n",
       "            </style>\n",
       "            "
      ],
      "text/plain": [
       "<IPython.core.display.HTML object>"
      ]
     },
     "metadata": {},
     "output_type": "display_data"
    },
    {
     "name": "stdout",
     "output_type": "stream",
     "text": [
      "Generating URL ...\n",
      "Downloading data from https://earthengine.googleapis.com/v1/projects/earthengine-legacy/thumbnails/1151e88630eb081e53218e4a6faf75a5-b34d067fcdd93f4d415fac28b5a9c300:getPixels\n",
      "Please wait ...\n",
      "Data downloaded to F:\\Flats imagery\\Savannah tides\\Allyears\n"
     ]
    }
   ],
   "source": [
    "#Directory\n",
    "out_dir = os.path.join(\"F:/Flats imagery/Savannah tides/Allyears\") ##NOTE WHERE\n",
    "\n",
    "image = linearFit\n",
    "filename = os.path.join(out_dir, 'high_84_23.tif') ##NOTE WHICH TIDE AND DECADEs\n",
    "\n",
    "image = image.clip(bb).updateMask(image)\n",
    "\n",
    "# geemap.ee_export_image(\n",
    "#     image.select('scale'), filename=filename, scale=30, region=bb, file_per_band=True\n",
    "# )"
   ]
  },
  {
   "cell_type": "code",
   "execution_count": 21,
   "id": "a838d941",
   "metadata": {},
   "outputs": [
    {
     "data": {
      "text/html": [
       "\n",
       "            <style>\n",
       "                .geemap-dark {\n",
       "                    --jp-widgets-color: white;\n",
       "                    --jp-widgets-label-color: white;\n",
       "                    --jp-ui-font-color1: white;\n",
       "                    --jp-layout-color2: #454545;\n",
       "                    background-color: #383838;\n",
       "                }\n",
       "\n",
       "                .geemap-dark .jupyter-button {\n",
       "                    --jp-layout-color3: #383838;\n",
       "                }\n",
       "\n",
       "                .geemap-colab {\n",
       "                    background-color: var(--colab-primary-surface-color, white);\n",
       "                }\n",
       "\n",
       "                .geemap-colab .jupyter-button {\n",
       "                    --jp-layout-color3: var(--colab-primary-surface-color, white);\n",
       "                }\n",
       "            </style>\n",
       "            "
      ],
      "text/plain": [
       "<IPython.core.display.HTML object>"
      ]
     },
     "metadata": {},
     "output_type": "display_data"
    },
    {
     "ename": "RasterioIOError",
     "evalue": "Read or write failed. F:/Flats imagery/Savannah tides/Allyears/low_84_23.scale.tif, band 1: IReadBlock failed at X offset 0, Y offset 0: TIFFReadEncodedTile() failed.",
     "output_type": "error",
     "traceback": [
      "\u001b[1;31m---------------------------------------------------------------------------\u001b[0m",
      "\u001b[1;31mCPLE_AppDefinedError\u001b[0m                      Traceback (most recent call last)",
      "File \u001b[1;32mrasterio\\_io.pyx:701\u001b[0m, in \u001b[0;36mrasterio._io.DatasetReaderBase._read\u001b[1;34m()\u001b[0m\n",
      "File \u001b[1;32mrasterio\\shim_rasterioex.pxi:162\u001b[0m, in \u001b[0;36mrasterio._shim.io_multi_band\u001b[1;34m()\u001b[0m\n",
      "File \u001b[1;32mrasterio\\_err.pyx:193\u001b[0m, in \u001b[0;36mrasterio._err.exc_wrap_int\u001b[1;34m()\u001b[0m\n",
      "\u001b[1;31mCPLE_AppDefinedError\u001b[0m: F:/Flats imagery/Savannah tides/Allyears/low_84_23.scale.tif, band 1: IReadBlock failed at X offset 0, Y offset 0: TIFFReadEncodedTile() failed.",
      "\nDuring handling of the above exception, another exception occurred:\n",
      "\u001b[1;31mRasterioIOError\u001b[0m                           Traceback (most recent call last)",
      "Cell \u001b[1;32mIn[21], line 59\u001b[0m\n\u001b[0;32m     57\u001b[0m \u001b[38;5;28;01mfor\u001b[39;00m i, ax \u001b[38;5;129;01min\u001b[39;00m \u001b[38;5;28menumerate\u001b[39m(axs\u001b[38;5;241m.\u001b[39mflat):\n\u001b[0;32m     58\u001b[0m     \u001b[38;5;28;01mwith\u001b[39;00m rasterio\u001b[38;5;241m.\u001b[39mopen(slope_paths[i]) \u001b[38;5;28;01mas\u001b[39;00m src:\n\u001b[1;32m---> 59\u001b[0m         data \u001b[38;5;241m=\u001b[39m \u001b[43msrc\u001b[49m\u001b[38;5;241;43m.\u001b[39;49m\u001b[43mread\u001b[49m\u001b[43m(\u001b[49m\u001b[38;5;241;43m1\u001b[39;49m\u001b[43m)\u001b[49m\n\u001b[0;32m     60\u001b[0m         data_min \u001b[38;5;241m=\u001b[39m \u001b[38;5;28mmin\u001b[39m(data_min, np\u001b[38;5;241m.\u001b[39mmin(data))\n\u001b[0;32m     61\u001b[0m         data_max \u001b[38;5;241m=\u001b[39m \u001b[38;5;28mmax\u001b[39m(data_max, np\u001b[38;5;241m.\u001b[39mmax(data))\n",
      "File \u001b[1;32mrasterio\\_io.pyx:367\u001b[0m, in \u001b[0;36mrasterio._io.DatasetReaderBase.read\u001b[1;34m()\u001b[0m\n",
      "File \u001b[1;32mrasterio\\_io.pyx:704\u001b[0m, in \u001b[0;36mrasterio._io.DatasetReaderBase._read\u001b[1;34m()\u001b[0m\n",
      "\u001b[1;31mRasterioIOError\u001b[0m: Read or write failed. F:/Flats imagery/Savannah tides/Allyears/low_84_23.scale.tif, band 1: IReadBlock failed at X offset 0, Y offset 0: TIFFReadEncodedTile() failed."
     ]
    },
    {
     "data": {
      "image/png": "[encoded data removed]",
      "text/plain": [
       "<Figure size 1200x400 with 3 Axes>"
      ]
     },
     "metadata": {},
     "output_type": "display_data"
    }
   ],
   "source": [
    "#FLATS COLOR PERCENTAGE PLOTTING\n",
    "\n",
    "import matplotlib.pyplot as plt\n",
    "import numpy as np\n",
    "import rasterio\n",
    "import geopandas as gpd\n",
    "from geopy.distance import great_circle\n",
    "from matplotlib_scalebar.scalebar import ScaleBar\n",
    "import matplotlib.colors as colors\n",
    "\n",
    "h_x = \"F:/Flats imagery/Savannah tides/Allyears/high_84_23.scale.tif\"\n",
    "m_x = \"F:/Flats imagery/Savannah tides/Allyears/mid_84_23.scale.tif\"\n",
    "l_x = \"F:/Flats imagery/Savannah tides/Allyears/low_84_23.scale.tif\"\n",
    "\n",
    "slope_paths = [l_x, m_x, h_x]\n",
    "\n",
    "def plot_geotiff_with_scale_and_north_arrow(geotiff_path, ax, title, data_min, data_max):\n",
    "    with rasterio.open(geotiff_path) as src:\n",
    "        data = src.read(1)\n",
    "        extent = (src.bounds.left, src.bounds.right, src.bounds.bottom, src.bounds.top)\n",
    "        \n",
    "        gamma = 1\n",
    "        data = data ** gamma \n",
    "\n",
    "        # Normalize the data based on the overall min and max values\n",
    "        data_normalized = (data) / (1)*100\n",
    "        \n",
    "        cmap = 'BrBG'\n",
    "        im = ax.imshow(data_normalized, extent=extent, cmap=cmap, vmin=-2, vmax=2)\n",
    "        \n",
    "        ax.set_xticks([])\n",
    "        ax.set_yticks([])\n",
    "        \n",
    "        scale_bar = ScaleBar(dx=dx, location='lower right')\n",
    "        ax.add_artist(scale_bar)\n",
    "        \n",
    "        ax.annotate('', xy=(0.95, 0.98), xycoords='axes fraction', fontsize=18, ha='center', va='center',\n",
    "                    xytext=(0.95, 0.92), textcoords='axes fraction',\n",
    "                    arrowprops=dict(arrowstyle='->', lw=2, color='black'))\n",
    "        \n",
    "        ax.set_title(title)\n",
    "        \n",
    "        return im\n",
    "\n",
    "# Calculate dx for scale_bar\n",
    "point1 = (32.01, -81.01)\n",
    "point2 = (32.01, -80.01)\n",
    "dx = great_circle(point1, point2).meters\n",
    "\n",
    "fig, axs = plt.subplots(1, 3, figsize=(12, 4))  # Adjusted figsize\n",
    "\n",
    "ims = []\n",
    "titles = ['Low tide imagery', 'Mid tide imagery', 'High tide imagery']\n",
    "data_min = float('inf')\n",
    "data_max = float('-inf')\n",
    "\n",
    "for i, ax in enumerate(axs.flat):\n",
    "    with rasterio.open(slope_paths[i]) as src:\n",
    "        data = src.read(1)\n",
    "        data_min = min(data_min, np.min(data))\n",
    "        data_max = max(data_max, np.max(data))\n",
    "\n",
    "for i, ax in enumerate(axs.flat):\n",
    "    im = plot_geotiff_with_scale_and_north_arrow(slope_paths[i], ax, titles[i], data_min, data_max)\n",
    "    ims.append(im)\n",
    "\n",
    "plt.suptitle('Trend in flooding probability, 1984-2023', fontsize=16)\n",
    "\n",
    "fig.subplots_adjust(right=0.85)\n",
    "plt.subplots_adjust(top=0.85)\n",
    "\n",
    "# cbar.set_ticks([-0.02, -0.01, 0, 0.01, 0.02])\n",
    "cbar_ax = fig.add_axes([0.9, 0.15, 0.02, 0.7])\n",
    "cbar = plt.colorbar(ims[-1], cax=cbar_ax, label='Percent change per year')\n",
    "\n",
    "# Savefig\n",
    "import os\n",
    "os.chdir(\"C:/Users/arj26323/Downloads\")\n",
    "# plt.savefig('percentslopes_trend.png',bbox_inches='tight', dpi = 300)\n",
    "\n",
    "plt.show()"
   ]
  },
  {
   "cell_type": "code",
   "execution_count": 102,
   "id": "3637c4b4",
   "metadata": {},
   "outputs": [
    {
     "data": {
      "text/html": [
       "\n",
       "            <style>\n",
       "                .geemap-dark {\n",
       "                    --jp-widgets-color: white;\n",
       "                    --jp-widgets-label-color: white;\n",
       "                    --jp-ui-font-color1: white;\n",
       "                    --jp-layout-color2: #454545;\n",
       "                    background-color: #383838;\n",
       "                }\n",
       "\n",
       "                .geemap-dark .jupyter-button {\n",
       "                    --jp-layout-color3: #383838;\n",
       "                }\n",
       "\n",
       "                .geemap-colab {\n",
       "                    background-color: var(--colab-primary-surface-color, white);\n",
       "                }\n",
       "\n",
       "                .geemap-colab .jupyter-button {\n",
       "                    --jp-layout-color3: var(--colab-primary-surface-color, white);\n",
       "                }\n",
       "            </style>\n",
       "            "
      ],
      "text/plain": [
       "<IPython.core.display.HTML object>"
      ]
     },
     "metadata": {},
     "output_type": "display_data"
    }
   ],
   "source": [
    "with rasterio.open(h_x) as src:\n",
    "    window = src.window(0, 0, src.width // 2, src.height // 2)  # Example window\n",
    "    data = src.read(1, window=window)\n",
    "    \n",
    "plt.show()"
   ]
  },
  {
   "cell_type": "code",
   "execution_count": null,
   "id": "36ea7175",
   "metadata": {},
   "outputs": [],
   "source": [
    "#Fin"
   ]
  },
  {
   "cell_type": "code",
   "execution_count": 13,
   "id": "2a677a71",
   "metadata": {},
   "outputs": [
    {
     "data": {
      "text/html": [
       "\n",
       "            <style>\n",
       "                .geemap-dark {\n",
       "                    --jp-widgets-color: white;\n",
       "                    --jp-widgets-label-color: white;\n",
       "                    --jp-ui-font-color1: white;\n",
       "                    --jp-layout-color2: #454545;\n",
       "                    background-color: #383838;\n",
       "                }\n",
       "\n",
       "                .geemap-dark .jupyter-button {\n",
       "                    --jp-layout-color3: #383838;\n",
       "                }\n",
       "\n",
       "                .geemap-colab {\n",
       "                    background-color: var(--colab-primary-surface-color, white);\n",
       "                }\n",
       "\n",
       "                .geemap-colab .jupyter-button {\n",
       "                    --jp-layout-color3: var(--colab-primary-surface-color, white);\n",
       "                }\n",
       "            </style>\n",
       "            "
      ],
      "text/plain": [
       "<IPython.core.display.HTML object>"
      ]
     },
     "metadata": {},
     "output_type": "display_data"
    },
    {
     "data": {
      "application/vnd.jupyter.widget-view+json": {
       "model_id": "fce6559f5e3c4236bfd1a8ae449c7c33",
       "version_major": 2,
       "version_minor": 0
      },
      "text/plain": [
       "Map(center=[31.5, -81], controls=(WidgetControl(options=['position', 'transparent_bg'], widget=SearchDataGUI(c…"
      ]
     },
     "metadata": {},
     "output_type": "display_data"
    }
   ],
   "source": [
    "#All GA coast:\n",
    "\n",
    "# Define the Georgia coast bounding box\n",
    "# ga_coast = ee.Geometry.BBox(-81.71, 30.5, -80.8, 32.1)  # Adjust coordinates as needed\n",
    "ga_coast = ga_est  # Adjust coordinates as needed\n",
    "\n",
    "# Create a grid of tiles (e.g., 10km x 10km)\n",
    "grid_size = 7000  # Tile size in meters\n",
    "tiles = geemap.fishnet(ga_coast, rows=12, cols=12, delta = 1)\n",
    "\n",
    "# Visualize the grid on a map (optional)\n",
    "Map = geemap.Map(center=[31.5, -81], zoom=8)\n",
    "Map.addLayer(tiles, {}, \"Tiles\")\n",
    "Map.addLayer(ga_coast, {}, \"Georgia Coast\")\n",
    "Map"
   ]
  },
  {
   "cell_type": "code",
   "execution_count": 17,
   "id": "7c3bbcc3",
   "metadata": {},
   "outputs": [
    {
     "data": {
      "text/html": [
       "\n",
       "            <style>\n",
       "                .geemap-dark {\n",
       "                    --jp-widgets-color: white;\n",
       "                    --jp-widgets-label-color: white;\n",
       "                    --jp-ui-font-color1: white;\n",
       "                    --jp-layout-color2: #454545;\n",
       "                    background-color: #383838;\n",
       "                }\n",
       "\n",
       "                .geemap-dark .jupyter-button {\n",
       "                    --jp-layout-color3: #383838;\n",
       "                }\n",
       "\n",
       "                .geemap-colab {\n",
       "                    background-color: var(--colab-primary-surface-color, white);\n",
       "                }\n",
       "\n",
       "                .geemap-colab .jupyter-button {\n",
       "                    --jp-layout-color3: var(--colab-primary-surface-color, white);\n",
       "                }\n",
       "            </style>\n",
       "            "
      ],
      "text/plain": [
       "<IPython.core.display.HTML object>"
      ]
     },
     "metadata": {},
     "output_type": "display_data"
    }
   ],
   "source": [
    "#Loading gee datasets\n",
    "l8_col = ee.ImageCollection('LANDSAT/LC08/C02/T1_L2') \\\n",
    "    .filter(ee.Filter.calendarRange(1998, 2023,'year')) \\\n",
    "    .filterBounds(ga_coast) \\\n",
    "    .map(maskL5sr).map(addFLATSL8).map(add_date_band).map(add_elevation)\n",
    "\n",
    "l7_col = ee.ImageCollection('LANDSAT/LE07/C02/T1_L2') \\\n",
    "    .filter(ee.Filter.calendarRange(1984, 2023,'year')) \\\n",
    "    .filterBounds(ga_coast)\\\n",
    "    .map(maskL5sr).map(addFLATSL7).map(add_date_band).map(add_elevation)\n",
    "\n",
    "l5_col = ee.ImageCollection('LANDSAT/LT05/C02/T1_L2') \\\n",
    "    .filter(ee.Filter.calendarRange(1984, 2023,'year')) \\\n",
    "    .filterBounds(ga_coast)\\\n",
    "    .map(maskL5sr).map(addFLATSL5).map(add_date_band).map(add_elevation)\n",
    "\n",
    "l9_col = ee.ImageCollection(\"LANDSAT/LC09/C02/T1_L2\") \\\n",
    "    .filter(ee.Filter.calendarRange(1998, 2023,'year')) \\\n",
    "    .filterBounds(ga_coast)\\\n",
    "    .map(maskL5sr).map(addFLATSL9).map(add_date_band).map(add_elevation)"
   ]
  },
  {
   "cell_type": "code",
   "execution_count": 15,
   "id": "bc2742f6",
   "metadata": {},
   "outputs": [
    {
     "data": {
      "text/html": [
       "\n",
       "            <style>\n",
       "                .geemap-dark {\n",
       "                    --jp-widgets-color: white;\n",
       "                    --jp-widgets-label-color: white;\n",
       "                    --jp-ui-font-color1: white;\n",
       "                    --jp-layout-color2: #454545;\n",
       "                    background-color: #383838;\n",
       "                }\n",
       "\n",
       "                .geemap-dark .jupyter-button {\n",
       "                    --jp-layout-color3: #383838;\n",
       "                }\n",
       "\n",
       "                .geemap-colab {\n",
       "                    background-color: var(--colab-primary-surface-color, white);\n",
       "                }\n",
       "\n",
       "                .geemap-colab .jupyter-button {\n",
       "                    --jp-layout-color3: var(--colab-primary-surface-color, white);\n",
       "                }\n",
       "            </style>\n",
       "            "
      ],
      "text/plain": [
       "<IPython.core.display.HTML object>"
      ]
     },
     "metadata": {},
     "output_type": "display_data"
    }
   ],
   "source": [
    "#Note: still using Ft. Pulaski for entire coast - might want to look into other stations. The only other harmonic station\n",
    "#is king's bay pier, right near the ga-fl border\n",
    "\n",
    "ultra_ga = l8_col.merge(l5_col).merge(l7_col).merge(l9_col)\n",
    "\n",
    "# Get the image IDs and acquisition dates separately\n",
    "image_ids = ultra_ga.aggregate_array('system:id').getInfo()\n",
    "acquisition_dates = ultra_ga.aggregate_array('system:time_start').getInfo()\n",
    "\n",
    "# Create the DataFrame\n",
    "dfx = pd.DataFrame({'Image': image_ids, 'acquisition_date': acquisition_dates})\n",
    "\n",
    "dfx['Date'] = pd.to_datetime(dfx['acquisition_date'], unit='ms')\n",
    "dfx['DOY'] = dfx['Date'].dt.strftime('%Y-%m-%d')\n",
    "dfx['DOY'] = pd.to_datetime(dfx['DOY'])\n",
    "\n",
    "df_u = pd.merge(dfx, df_time, on = 'DOY')\n",
    "\n",
    "df_u['Verified (m)'] = df_u['Verified (m)'].replace('-', float('nan')).astype('float')\n",
    "\n",
    "# Display the DataFrame\n",
    "# print(dfx)\n",
    "# print(df_u)\n",
    "\n",
    "df_u['Verified (m)'] = df_u['Verified (m)'].replace('-', float('nan')).astype('float')\n",
    "\n",
    "df_low = df_u[df_u['Verified (m)'] <= 0.8]\n",
    "df_mid = df_u[df_u['Verified (m)'].between(0.8, 1.8)]\n",
    "df_high = df_u[df_u['Verified (m)'] >= 1.8]\n"
   ]
  },
  {
   "cell_type": "code",
   "execution_count": 25,
   "id": "accf1944",
   "metadata": {},
   "outputs": [
    {
     "data": {
      "text/html": [
       "\n",
       "            <style>\n",
       "                .geemap-dark {\n",
       "                    --jp-widgets-color: white;\n",
       "                    --jp-widgets-label-color: white;\n",
       "                    --jp-ui-font-color1: white;\n",
       "                    --jp-layout-color2: #454545;\n",
       "                    background-color: #383838;\n",
       "                }\n",
       "\n",
       "                .geemap-dark .jupyter-button {\n",
       "                    --jp-layout-color3: #383838;\n",
       "                }\n",
       "\n",
       "                .geemap-colab {\n",
       "                    background-color: var(--colab-primary-surface-color, white);\n",
       "                }\n",
       "\n",
       "                .geemap-colab .jupyter-button {\n",
       "                    --jp-layout-color3: var(--colab-primary-surface-color, white);\n",
       "                }\n",
       "            </style>\n",
       "            "
      ],
      "text/plain": [
       "<IPython.core.display.HTML object>"
      ]
     },
     "metadata": {},
     "output_type": "display_data"
    }
   ],
   "source": [
    "# Create a list of image names\n",
    "low_names = df_low['Image'].tolist()\n",
    "mid_names = df_mid['Image'].tolist()\n",
    "high_names = df_high['Image'].tolist()\n",
    "\n",
    "# Initialize separate lists\n",
    "LT05_list = []\n",
    "LE07_list = []\n",
    "LC09_list = []\n",
    "LC08_list = []\n",
    "other_list = []\n",
    "\n",
    "# Iterate through the satellite names and separate them based on keys\n",
    "names = high_names\n",
    "\n",
    "'''\n",
    "NOTE WHICH TIDE\n",
    "'''\n",
    "\n",
    "for name in names:\n",
    "    if 'LT05' in name:\n",
    "        LT05_list.append(name)\n",
    "    elif 'LE07' in name:\n",
    "        LE07_list.append(name)\n",
    "    elif 'LC09' in name:\n",
    "        LC09_list.append(name)\n",
    "    elif 'LC08' in name:\n",
    "        LC08_list.append(name)\n",
    "    else:\n",
    "        other_list.append(name)\n",
    "\n",
    "col5 = ee.ImageCollection(LT05_list).map(maskL5sr).map(addFLATSL5).map(add_elevation)\n",
    "col7 = ee.ImageCollection(LE07_list).map(maskL5sr).map(addFLATSL7).map(add_elevation)\n",
    "col8 = ee.ImageCollection(LC08_list).map(maskL5sr).map(addFLATSL8).map(add_elevation)\n",
    "col9 = ee.ImageCollection(LC09_list).map(maskL5sr).map(addFLATSL9).map(add_elevation)\n",
    "\n",
    "col = col5.merge(col7).merge(col8).merge(col9)\n",
    "\n",
    "col = col.filter(ee.Filter.calendarRange(1984, 2023,'year')).map(lambda image: image.clip(ga_coast)) \\\n",
    "    .filter(ee.Filter.lte('CLOUD_COVER_LAND', 50)).filterBounds(ga_coast)\n",
    "\n",
    "''' \n",
    "ABOVE IS WHERE YOU ADJUST THE YEAR TO PARSE THIS OUT BY DECADE - BE AWARE OF THE DATES\n",
    "'''\n",
    "\n",
    "# Function to calculate linear regression for each pixel\n",
    "def add_time(image):\n",
    "    # Add a band representing time in years\n",
    "    time = image.metadata('system:time_start').divide(31536000000)  # milliseconds to years\n",
    "    return image.addBands(time.rename('time'))\n",
    "\n",
    "\n",
    "# Function to process each tile\n",
    "def process_tile(tile, tile_id):\n",
    "    # Clip the image collection to the tile\n",
    "    col_clipped = col.map(lambda img: img.clip(tile))\n",
    "    \n",
    "    # Add time band\n",
    "    colx = col_clipped.map(add_time)\n",
    "    \n",
    "    # Perform linear regression\n",
    "    linearFit = colx.select(['time', 'flats']).reduce(ee.Reducer.linearFit())\n",
    "    \n",
    "    # Export each tile as GeoTIFF\n",
    "    filename = os.path.join(out_dir, f'tile_{tile_id}_high_84_23.tif')\n",
    "    geemap.ee_export_image(\n",
    "        linearFit.select('scale'),\n",
    "        filename=filename,\n",
    "        scale=30,\n",
    "        region=tile,\n",
    "        file_per_band=True,\n",
    "    )\n",
    "    print(f\"Exported: {filename}\")\n",
    "\n",
    "# Output directory\n",
    "out_dir = \"F:/Flats imagery/Savannah tides/AllTiles\"\n",
    "os.makedirs(out_dir, exist_ok=True)\n"
   ]
  },
  {
   "cell_type": "code",
   "execution_count": 27,
   "id": "2b80b222",
   "metadata": {},
   "outputs": [
    {
     "data": {
      "text/html": [
       "\n",
       "            <style>\n",
       "                .geemap-dark {\n",
       "                    --jp-widgets-color: white;\n",
       "                    --jp-widgets-label-color: white;\n",
       "                    --jp-ui-font-color1: white;\n",
       "                    --jp-layout-color2: #454545;\n",
       "                    background-color: #383838;\n",
       "                }\n",
       "\n",
       "                .geemap-dark .jupyter-button {\n",
       "                    --jp-layout-color3: #383838;\n",
       "                }\n",
       "\n",
       "                .geemap-colab {\n",
       "                    background-color: var(--colab-primary-surface-color, white);\n",
       "                }\n",
       "\n",
       "                .geemap-colab .jupyter-button {\n",
       "                    --jp-layout-color3: var(--colab-primary-surface-color, white);\n",
       "                }\n",
       "            </style>\n",
       "            "
      ],
      "text/plain": [
       "<IPython.core.display.HTML object>"
      ]
     },
     "metadata": {},
     "output_type": "display_data"
    }
   ],
   "source": [
    "# ## Iterate through each tile in the grid\n",
    "# tile_list = tiles.toList(tiles.size())\n",
    "# for i in range(tiles.size().getInfo()):\n",
    "#     tile = ee.Feature(tile_list.get(i)).geometry()\n",
    "#     process_tile(tile, i)"
   ]
  },
  {
   "cell_type": "code",
   "execution_count": 14,
   "id": "db02cff9",
   "metadata": {},
   "outputs": [
    {
     "data": {
      "text/html": [
       "\n",
       "            <style>\n",
       "                .geemap-dark {\n",
       "                    --jp-widgets-color: white;\n",
       "                    --jp-widgets-label-color: white;\n",
       "                    --jp-ui-font-color1: white;\n",
       "                    --jp-layout-color2: #454545;\n",
       "                    background-color: #383838;\n",
       "                }\n",
       "\n",
       "                .geemap-dark .jupyter-button {\n",
       "                    --jp-layout-color3: #383838;\n",
       "                }\n",
       "\n",
       "                .geemap-colab {\n",
       "                    background-color: var(--colab-primary-surface-color, white);\n",
       "                }\n",
       "\n",
       "                .geemap-colab .jupyter-button {\n",
       "                    --jp-layout-color3: var(--colab-primary-surface-color, white);\n",
       "                }\n",
       "            </style>\n",
       "            "
      ],
      "text/plain": [
       "<IPython.core.display.HTML object>"
      ]
     },
     "metadata": {},
     "output_type": "display_data"
    },
    {
     "data": {
      "text/plain": [
       "['F:/Flats imagery/Savannah tides/AllTiles\\\\tile_0_high_84_23.scale.tif',\n",
       " 'F:/Flats imagery/Savannah tides/AllTiles\\\\tile_1_high_84_23.scale.tif',\n",
       " 'F:/Flats imagery/Savannah tides/AllTiles\\\\tile_2_high_84_23.scale.tif',\n",
       " 'F:/Flats imagery/Savannah tides/AllTiles\\\\tile_3_high_84_23.scale.tif',\n",
       " 'F:/Flats imagery/Savannah tides/AllTiles\\\\tile_4_high_84_23.scale.tif',\n",
       " 'F:/Flats imagery/Savannah tides/AllTiles\\\\tile_5_high_84_23.scale.tif',\n",
       " 'F:/Flats imagery/Savannah tides/AllTiles\\\\tile_6_high_84_23.scale.tif',\n",
       " 'F:/Flats imagery/Savannah tides/AllTiles\\\\tile_7_high_84_23.scale.tif',\n",
       " 'F:/Flats imagery/Savannah tides/AllTiles\\\\tile_8_high_84_23.scale.tif',\n",
       " 'F:/Flats imagery/Savannah tides/AllTiles\\\\tile_9_high_84_23.scale.tif',\n",
       " 'F:/Flats imagery/Savannah tides/AllTiles\\\\tile_10_high_84_23.scale.tif',\n",
       " 'F:/Flats imagery/Savannah tides/AllTiles\\\\tile_11_high_84_23.scale.tif',\n",
       " 'F:/Flats imagery/Savannah tides/AllTiles\\\\tile_12_high_84_23.scale.tif',\n",
       " 'F:/Flats imagery/Savannah tides/AllTiles\\\\tile_13_high_84_23.scale.tif',\n",
       " 'F:/Flats imagery/Savannah tides/AllTiles\\\\tile_14_high_84_23.scale.tif',\n",
       " 'F:/Flats imagery/Savannah tides/AllTiles\\\\tile_15_high_84_23.scale.tif',\n",
       " 'F:/Flats imagery/Savannah tides/AllTiles\\\\tile_16_high_84_23.scale.tif',\n",
       " 'F:/Flats imagery/Savannah tides/AllTiles\\\\tile_17_high_84_23.scale.tif',\n",
       " 'F:/Flats imagery/Savannah tides/AllTiles\\\\tile_18_high_84_23.scale.tif',\n",
       " 'F:/Flats imagery/Savannah tides/AllTiles\\\\tile_19_high_84_23.scale.tif',\n",
       " 'F:/Flats imagery/Savannah tides/AllTiles\\\\tile_20_high_84_23.scale.tif',\n",
       " 'F:/Flats imagery/Savannah tides/AllTiles\\\\tile_21_high_84_23.scale.tif',\n",
       " 'F:/Flats imagery/Savannah tides/AllTiles\\\\tile_22_high_84_23.scale.tif',\n",
       " 'F:/Flats imagery/Savannah tides/AllTiles\\\\tile_23_high_84_23.scale.tif',\n",
       " 'F:/Flats imagery/Savannah tides/AllTiles\\\\tile_25_high_84_23.scale.tif',\n",
       " 'F:/Flats imagery/Savannah tides/AllTiles\\\\tile_26_high_84_23.scale.tif',\n",
       " 'F:/Flats imagery/Savannah tides/AllTiles\\\\tile_27_high_84_23.scale.tif',\n",
       " 'F:/Flats imagery/Savannah tides/AllTiles\\\\tile_28_high_84_23.scale.tif',\n",
       " 'F:/Flats imagery/Savannah tides/AllTiles\\\\tile_29_high_84_23.scale.tif',\n",
       " 'F:/Flats imagery/Savannah tides/AllTiles\\\\tile_30_high_84_23.scale.tif',\n",
       " 'F:/Flats imagery/Savannah tides/AllTiles\\\\tile_31_high_84_23.scale.tif',\n",
       " 'F:/Flats imagery/Savannah tides/AllTiles\\\\tile_32_high_84_23.scale.tif',\n",
       " 'F:/Flats imagery/Savannah tides/AllTiles\\\\tile_33_high_84_23.scale.tif',\n",
       " 'F:/Flats imagery/Savannah tides/AllTiles\\\\tile_34_high_84_23.scale.tif',\n",
       " 'F:/Flats imagery/Savannah tides/AllTiles\\\\tile_35_high_84_23.scale.tif',\n",
       " 'F:/Flats imagery/Savannah tides/AllTiles\\\\tile_36_high_84_23.scale.tif',\n",
       " 'F:/Flats imagery/Savannah tides/AllTiles\\\\tile_37_high_84_23.scale.tif',\n",
       " 'F:/Flats imagery/Savannah tides/AllTiles\\\\tile_38_high_84_23.scale.tif',\n",
       " 'F:/Flats imagery/Savannah tides/AllTiles\\\\tile_39_high_84_23.scale.tif',\n",
       " 'F:/Flats imagery/Savannah tides/AllTiles\\\\tile_40_high_84_23.scale.tif',\n",
       " 'F:/Flats imagery/Savannah tides/AllTiles\\\\tile_41_high_84_23.scale.tif',\n",
       " 'F:/Flats imagery/Savannah tides/AllTiles\\\\tile_42_high_84_23.scale.tif',\n",
       " 'F:/Flats imagery/Savannah tides/AllTiles\\\\tile_43_high_84_23.scale.tif',\n",
       " 'F:/Flats imagery/Savannah tides/AllTiles\\\\tile_44_high_84_23.scale.tif',\n",
       " 'F:/Flats imagery/Savannah tides/AllTiles\\\\tile_45_high_84_23.scale.tif',\n",
       " 'F:/Flats imagery/Savannah tides/AllTiles\\\\tile_46_high_84_23.scale.tif',\n",
       " 'F:/Flats imagery/Savannah tides/AllTiles\\\\tile_47_high_84_23.scale.tif',\n",
       " 'F:/Flats imagery/Savannah tides/AllTiles\\\\tile_48_high_84_23.scale.tif',\n",
       " 'F:/Flats imagery/Savannah tides/AllTiles\\\\tile_49_high_84_23.scale.tif',\n",
       " 'F:/Flats imagery/Savannah tides/AllTiles\\\\tile_50_high_84_23.scale.tif',\n",
       " 'F:/Flats imagery/Savannah tides/AllTiles\\\\tile_51_high_84_23.scale.tif',\n",
       " 'F:/Flats imagery/Savannah tides/AllTiles\\\\tile_52_high_84_23.scale.tif',\n",
       " 'F:/Flats imagery/Savannah tides/AllTiles\\\\tile_53_high_84_23.scale.tif',\n",
       " 'F:/Flats imagery/Savannah tides/AllTiles\\\\tile_54_high_84_23.scale.tif',\n",
       " 'F:/Flats imagery/Savannah tides/AllTiles\\\\tile_55_high_84_23.scale.tif',\n",
       " 'F:/Flats imagery/Savannah tides/AllTiles\\\\tile_24_high_84_23.scale.tif']"
      ]
     },
     "execution_count": 14,
     "metadata": {},
     "output_type": "execute_result"
    }
   ],
   "source": [
    "import rasterio\n",
    "from rasterio.merge import merge\n",
    "from rasterio.plot import show\n",
    "import glob\n",
    "import os\n",
    "\n",
    "dirpath = \"F:/Flats imagery/Savannah tides/AllTiles\"\n",
    "out_fp = \"F:/Flats imagery/Savannah tides/AllTiles/Merged\"\n",
    "\n",
    "search_criteria = \"tile*high_84_23.scale.tif\"\n",
    "q = os.path.join(dirpath, search_criteria)\n",
    "\n",
    "high_t = glob.glob(q)\n",
    "high_t"
   ]
  },
  {
   "cell_type": "code",
   "execution_count": 17,
   "id": "518a1f18",
   "metadata": {},
   "outputs": [
    {
     "data": {
      "text/html": [
       "\n",
       "            <style>\n",
       "                .geemap-dark {\n",
       "                    --jp-widgets-color: white;\n",
       "                    --jp-widgets-label-color: white;\n",
       "                    --jp-ui-font-color1: white;\n",
       "                    --jp-layout-color2: #454545;\n",
       "                    background-color: #383838;\n",
       "                }\n",
       "\n",
       "                .geemap-dark .jupyter-button {\n",
       "                    --jp-layout-color3: #383838;\n",
       "                }\n",
       "\n",
       "                .geemap-colab {\n",
       "                    background-color: var(--colab-primary-surface-color, white);\n",
       "                }\n",
       "\n",
       "                .geemap-colab .jupyter-button {\n",
       "                    --jp-layout-color3: var(--colab-primary-surface-color, white);\n",
       "                }\n",
       "            </style>\n",
       "            "
      ],
      "text/plain": [
       "<IPython.core.display.HTML object>"
      ]
     },
     "metadata": {},
     "output_type": "display_data"
    },
    {
     "ename": "RasterioIOError",
     "evalue": "Read or write failed. F:/Flats imagery/Savannah tides/AllTiles/tile_0_high_84_23.scale.tif, band 1: IReadBlock failed at X offset 0, Y offset 0: TIFFReadEncodedTile() failed.",
     "output_type": "error",
     "traceback": [
      "\u001b[1;31m---------------------------------------------------------------------------\u001b[0m",
      "\u001b[1;31mCPLE_AppDefinedError\u001b[0m                      Traceback (most recent call last)",
      "File \u001b[1;32mrasterio\\_io.pyx:701\u001b[0m, in \u001b[0;36mrasterio._io.DatasetReaderBase._read\u001b[1;34m()\u001b[0m\n",
      "File \u001b[1;32mrasterio\\shim_rasterioex.pxi:162\u001b[0m, in \u001b[0;36mrasterio._shim.io_multi_band\u001b[1;34m()\u001b[0m\n",
      "File \u001b[1;32mrasterio\\_err.pyx:193\u001b[0m, in \u001b[0;36mrasterio._err.exc_wrap_int\u001b[1;34m()\u001b[0m\n",
      "\u001b[1;31mCPLE_AppDefinedError\u001b[0m: F:/Flats imagery/Savannah tides/AllTiles/tile_0_high_84_23.scale.tif, band 1: IReadBlock failed at X offset 0, Y offset 0: TIFFReadEncodedTile() failed.",
      "\nDuring handling of the above exception, another exception occurred:\n",
      "\u001b[1;31mRasterioIOError\u001b[0m                           Traceback (most recent call last)",
      "Cell \u001b[1;32mIn[17], line 9\u001b[0m\n\u001b[0;32m      5\u001b[0m     src_files_to_mosaic\u001b[38;5;241m.\u001b[39mappend(src)\n\u001b[0;32m      7\u001b[0m \u001b[38;5;66;03m# src_files_to_mosaic\u001b[39;00m\n\u001b[1;32m----> 9\u001b[0m mosaic, out_trans \u001b[38;5;241m=\u001b[39m \u001b[43mmerge\u001b[49m\u001b[43m(\u001b[49m\u001b[43msrc_files_to_mosaic\u001b[49m\u001b[43m)\u001b[49m\n",
      "File \u001b[1;32mC:\\ProgramData\\Anaconda3\\envs\\gee\\lib\\site-packages\\rasterio\\merge.py:327\u001b[0m, in \u001b[0;36mmerge\u001b[1;34m(datasets, bounds, res, nodata, dtype, precision, indexes, output_count, resampling, method, target_aligned_pixels, dst_path, dst_kwds)\u001b[0m\n\u001b[0;32m    322\u001b[0m     temp_height, temp_width \u001b[38;5;241m=\u001b[39m (\n\u001b[0;32m    323\u001b[0m         dst_window_rnd_off\u001b[38;5;241m.\u001b[39mheight,\n\u001b[0;32m    324\u001b[0m         dst_window_rnd_off\u001b[38;5;241m.\u001b[39mwidth,\n\u001b[0;32m    325\u001b[0m     )\n\u001b[0;32m    326\u001b[0m     temp_shape \u001b[38;5;241m=\u001b[39m (src_count, temp_height, temp_width)\n\u001b[1;32m--> 327\u001b[0m     temp_src \u001b[38;5;241m=\u001b[39m \u001b[43msrc\u001b[49m\u001b[38;5;241;43m.\u001b[39;49m\u001b[43mread\u001b[49m\u001b[43m(\u001b[49m\n\u001b[0;32m    328\u001b[0m \u001b[43m        \u001b[49m\u001b[43mout_shape\u001b[49m\u001b[38;5;241;43m=\u001b[39;49m\u001b[43mtemp_shape\u001b[49m\u001b[43m,\u001b[49m\n\u001b[0;32m    329\u001b[0m \u001b[43m        \u001b[49m\u001b[43mwindow\u001b[49m\u001b[38;5;241;43m=\u001b[39;49m\u001b[43msrc_window_rnd_shp\u001b[49m\u001b[43m,\u001b[49m\n\u001b[0;32m    330\u001b[0m \u001b[43m        \u001b[49m\u001b[43mboundless\u001b[49m\u001b[38;5;241;43m=\u001b[39;49m\u001b[38;5;28;43;01mFalse\u001b[39;49;00m\u001b[43m,\u001b[49m\n\u001b[0;32m    331\u001b[0m \u001b[43m        \u001b[49m\u001b[43mmasked\u001b[49m\u001b[38;5;241;43m=\u001b[39;49m\u001b[38;5;28;43;01mTrue\u001b[39;49;00m\u001b[43m,\u001b[49m\n\u001b[0;32m    332\u001b[0m \u001b[43m        \u001b[49m\u001b[43mindexes\u001b[49m\u001b[38;5;241;43m=\u001b[39;49m\u001b[43mindexes\u001b[49m\u001b[43m,\u001b[49m\n\u001b[0;32m    333\u001b[0m \u001b[43m        \u001b[49m\u001b[43mresampling\u001b[49m\u001b[38;5;241;43m=\u001b[39;49m\u001b[43mresampling\u001b[49m\u001b[43m,\u001b[49m\n\u001b[0;32m    334\u001b[0m \u001b[43m    \u001b[49m\u001b[43m)\u001b[49m\n\u001b[0;32m    336\u001b[0m \u001b[38;5;66;03m# 5. Copy elements of temp into dest\u001b[39;00m\n\u001b[0;32m    337\u001b[0m roff, coff \u001b[38;5;241m=\u001b[39m (\n\u001b[0;32m    338\u001b[0m     \u001b[38;5;28mmax\u001b[39m(\u001b[38;5;241m0\u001b[39m, dst_window_rnd_off\u001b[38;5;241m.\u001b[39mrow_off),\n\u001b[0;32m    339\u001b[0m     \u001b[38;5;28mmax\u001b[39m(\u001b[38;5;241m0\u001b[39m, dst_window_rnd_off\u001b[38;5;241m.\u001b[39mcol_off),\n\u001b[0;32m    340\u001b[0m )\n",
      "File \u001b[1;32mrasterio\\_io.pyx:367\u001b[0m, in \u001b[0;36mrasterio._io.DatasetReaderBase.read\u001b[1;34m()\u001b[0m\n",
      "File \u001b[1;32mrasterio\\_io.pyx:704\u001b[0m, in \u001b[0;36mrasterio._io.DatasetReaderBase._read\u001b[1;34m()\u001b[0m\n",
      "\u001b[1;31mRasterioIOError\u001b[0m: Read or write failed. F:/Flats imagery/Savannah tides/AllTiles/tile_0_high_84_23.scale.tif, band 1: IReadBlock failed at X offset 0, Y offset 0: TIFFReadEncodedTile() failed."
     ]
    }
   ],
   "source": [
    "src_files_to_mosaic = []\n",
    "\n",
    "for fp in high_t:\n",
    "    src = rasterio.open(fp)\n",
    "    src_files_to_mosaic.append(src)\n",
    "\n",
    "# src_files_to_mosaic\n",
    "\n",
    "mosaic, out_trans = merge(src_files_to_mosaic)"
   ]
  },
  {
   "cell_type": "code",
   "execution_count": null,
   "id": "5c33cb2f",
   "metadata": {},
   "outputs": [],
   "source": []
  }
 ],
 "metadata": {
  "kernelspec": {
   "display_name": "Python [conda env:gee] *",
   "language": "python",
   "name": "conda-env-gee-py"
  },
  "language_info": {
   "codemirror_mode": {
    "name": "ipython",
    "version": 3
   },
   "file_extension": ".py",
   "mimetype": "text/x-python",
   "name": "python",
   "nbconvert_exporter": "python",
   "pygments_lexer": "ipython3",
   "version": "3.10.13"
  }
 },
 "nbformat": 4,
 "nbformat_minor": 5
}
