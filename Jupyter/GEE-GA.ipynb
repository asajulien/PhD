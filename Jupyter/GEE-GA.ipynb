{
 "cells": [
  {
   "cell_type": "code",
   "execution_count": 1,
   "id": "290cd9e5",
   "metadata": {},
   "outputs": [],
   "source": [
    "import geemap\n",
    "import pandas as pd\n",
    "import numpy as np\n",
    "import matplotlib.pyplot as plt\n",
    "import pdb\n",
    "from IPython.display import display\n",
    "import ee\n",
    "import os"
   ]
  },
  {
   "cell_type": "code",
   "execution_count": 2,
   "id": "053589de",
   "metadata": {},
   "outputs": [],
   "source": [
    "#ee.Authenticate()\n",
    "#geemap.update_package()"
   ]
  },
  {
   "cell_type": "code",
   "execution_count": 3,
   "id": "0fcf7f3e",
   "metadata": {},
   "outputs": [],
   "source": [
    "#list of plots in GA LTER dataset (not including broad creek)\n",
    "\n",
    "ee.Initialize()\n",
    "\n",
    "ga_pts = ee.FeatureCollection([\n",
    "  ee.Feature(ee.Geometry.Point([-81.422318, 31.539096]), {'site_id': '1'}),\n",
    "  ee.Feature(ee.Geometry.Point([-81.295564, 31.535967]), {'site_id': '2'}),\n",
    "  ee.Feature(ee.Geometry.Point([-81.229141, 31.518847]), {'site_id': '3'}),\n",
    "  ee.Feature(ee.Geometry.Point([-81.365805, 31.451791]), {'site_id': '4'}),\n",
    "  ee.Feature(ee.Geometry.Point([-81.340722, 31.435814]), {'site_id': '5'}),\n",
    "  ee.Feature(ee.Geometry.Point([-81.280011, 31.387962]), {'site_id': '6'}),\n",
    "  ee.Feature(ee.Geometry.Point([-81.478498, 31.334813]), {'site_id': '7'}),\n",
    "  ee.Feature(ee.Geometry.Point([-81.415535, 31.30824]), {'site_id': '8'}),\n",
    "  ee.Feature(ee.Geometry.Point([-81.333707, 31.351518]), {'site_id': '9'}),\n",
    "  ee.Feature(ee.Geometry.Point([-81.270863, 31.476948]), {'site_id': '10'})\n",
    "])\n",
    "##for GA, lats and longs may differ slightly between years (compare average lat/long to recorded lat/longs in each yr)\n",
    "##These are average lat/longs of the site (see GIS file); as such, need zonal spectral data (not point data)\n",
    "##Lat/longs calculated in GA Biomass dataset Jupyter script"
   ]
  },
  {
   "cell_type": "code",
   "execution_count": 4,
   "id": "3b9bf003",
   "metadata": {},
   "outputs": [
    {
     "name": "stdout",
     "output_type": "stream",
     "text": [
      "68\n"
     ]
    }
   ],
   "source": [
    "##landsat 5 surface reflectance images - GA LTER\n",
    "\n",
    "gaCollectionLS5 = ee.ImageCollection('LANDSAT/LT05/C01/T1_SR') \\\n",
    "    .filter(ee.Filter.calendarRange(2000, 2019,'year')) \\\n",
    "    .filter(ee.Filter.calendarRange(9, 10,'month')) \\\n",
    "    .filterBounds(ga_pts) \\\n",
    "    .filterMetadata('CLOUD_COVER', 'less_than', 100) \\\n",
    "    .sort('CLOUD_COVER', True)\n",
    "\n",
    "vis_param = {'min': 0, \n",
    "             'max': 2000, \n",
    "             'bands': ['B4', 'B3', 'B2'], \n",
    "             'gamma': 1.5}\n",
    "\n",
    "print(gaCollectionLS5.size().getInfo())\n",
    "gaimage0 = gaCollectionLS5.first()\n",
    "props = geemap.image_props(gaimage0)\n",
    "#props.getInfo()"
   ]
  },
  {
   "cell_type": "code",
   "execution_count": 5,
   "id": "46399a31",
   "metadata": {},
   "outputs": [
    {
     "name": "stdout",
     "output_type": "stream",
     "text": [
      "20\n"
     ]
    }
   ],
   "source": [
    "##landsat 8 surface reflectance images - GA LTER\n",
    "gaCollectionLS8 = ee.ImageCollection('LANDSAT/LC08/C01/T1_SR') \\\n",
    "    .filter(ee.Filter.calendarRange(2018, 2019,'year')) \\\n",
    "    .filter(ee.Filter.calendarRange(9, 10,'month')) \\\n",
    "    .filterBounds(ga_pts) \\\n",
    "    .filterMetadata('CLOUD_COVER', 'less_than', 100) \\\n",
    "    .sort('CLOUD_COVER', True)\n",
    "\n",
    "\n",
    "l8_param = {'min': 0, \n",
    "             'max': 2000, \n",
    "             'bands': ['B5', 'B4', 'B3'], \n",
    "             'gamma': 1.5} ##be very careful with analysis of l8 vs l5 data - different band numbers!\n",
    "\n",
    "print(gaCollectionLS8.size().getInfo())"
   ]
  },
  {
   "cell_type": "code",
   "execution_count": 6,
   "id": "a6a5b82f",
   "metadata": {},
   "outputs": [],
   "source": [
    "#landsat 7 surface reflectance images - GA LTER - might not be able to use due to striping\n",
    "gaCollectionLS7 = ee.ImageCollection('LANDSAT/LE07/C01/T1_SR') \\\n",
    "    .filter(ee.Filter.calendarRange(2012, 2012,'year')) \\\n",
    "    .filter(ee.Filter.calendarRange(10, 10,'month')) \\\n",
    "    .filterBounds(ga_pts) \\\n",
    "    .filterMetadata('CLOUD_COVER', 'less_than', 100) \\\n",
    "    .sort('CLOUD_COVER', True)"
   ]
  },
  {
   "cell_type": "code",
   "execution_count": 7,
   "id": "ce06dac6",
   "metadata": {},
   "outputs": [
    {
     "data": {
      "text/plain": [
       "['LANDSAT/LC08/C01/T1_SR/LC08_017038_20190927',\n",
       " 'LANDSAT/LC08/C01/T1_SR/LC08_016039_20181003',\n",
       " 'LANDSAT/LC08/C01/T1_SR/LC08_016039_20180901',\n",
       " 'LANDSAT/LC08/C01/T1_SR/LC08_016038_20181003',\n",
       " 'LANDSAT/LC08/C01/T1_SR/LC08_016038_20180901',\n",
       " 'LANDSAT/LC08/C01/T1_SR/LC08_016039_20191022',\n",
       " 'LANDSAT/LC08/C01/T1_SR/LC08_017038_20190911',\n",
       " 'LANDSAT/LC08/C01/T1_SR/LC08_016039_20190920',\n",
       " 'LANDSAT/LC08/C01/T1_SR/LC08_017038_20191013',\n",
       " 'LANDSAT/LC08/C01/T1_SR/LC08_017038_20180908',\n",
       " 'LANDSAT/LC08/C01/T1_SR/LC08_016039_20180917',\n",
       " 'LANDSAT/LC08/C01/T1_SR/LC08_016038_20191022',\n",
       " 'LANDSAT/LC08/C01/T1_SR/LC08_016038_20191006',\n",
       " 'LANDSAT/LC08/C01/T1_SR/LC08_016039_20181019',\n",
       " 'LANDSAT/LC08/C01/T1_SR/LC08_017038_20180924',\n",
       " 'LANDSAT/LC08/C01/T1_SR/LC08_016038_20181019',\n",
       " 'LANDSAT/LC08/C01/T1_SR/LC08_016038_20180917',\n",
       " 'LANDSAT/LC08/C01/T1_SR/LC08_016039_20191006',\n",
       " 'LANDSAT/LC08/C01/T1_SR/LC08_016038_20190920',\n",
       " 'LANDSAT/LC08/C01/T1_SR/LC08_017038_20181010']"
      ]
     },
     "execution_count": 7,
     "metadata": {},
     "output_type": "execute_result"
    }
   ],
   "source": [
    "##get list of image ids in filtered collection for L5, L7, and L8\n",
    "#gaCollectionLS5.aggregate_array('system:id').getInfo()\n",
    "gaCollectionLS8.aggregate_array('system:id').getInfo()\n",
    "#gaCollectionLS7.aggregate_array('system:id').getInfo()"
   ]
  },
  {
   "cell_type": "code",
   "execution_count": 8,
   "id": "2ed75ffb",
   "metadata": {},
   "outputs": [
    {
     "data": {
      "text/plain": [
       "{'CLOUD_COVER': 5,\n",
       " 'CLOUD_COVER_LAND': 5,\n",
       " 'EARTH_SUN_DISTANCE': 0.994431,\n",
       " 'ESPA_VERSION': '2_19_0c',\n",
       " 'GEOMETRIC_RMSE_MODEL': 3.781,\n",
       " 'GEOMETRIC_RMSE_MODEL_X': 2.359,\n",
       " 'GEOMETRIC_RMSE_MODEL_Y': 2.955,\n",
       " 'IMAGE_DATE': '2000-10-24',\n",
       " 'IMAGE_QUALITY': 9,\n",
       " 'LANDSAT_ID': 'LT05_L1TP_017038_20001024_20160918_01_T1',\n",
       " 'LEVEL1_PRODUCTION_DATE': 1474200080000,\n",
       " 'NOMINAL_SCALE': 30,\n",
       " 'PIXEL_QA_VERSION': 'generate_pixel_qa_1.5.0',\n",
       " 'SATELLITE': 'LANDSAT_5',\n",
       " 'SENSING_TIME': '2000-10-24T15:39:31.2120380Z',\n",
       " 'SOLAR_AZIMUTH_ANGLE': 149.348083,\n",
       " 'SOLAR_ZENITH_ANGLE': 49.074329,\n",
       " 'SR_APP_VERSION': 'LEDAPS_3.2.0',\n",
       " 'WRS_PATH': 17,\n",
       " 'WRS_ROW': 38,\n",
       " 'system:asset_size': '342.521984 MB',\n",
       " 'system:band_names': ['B1',\n",
       "  'B2',\n",
       "  'B3',\n",
       "  'B4',\n",
       "  'B5',\n",
       "  'B6',\n",
       "  'B7',\n",
       "  'sr_atmos_opacity',\n",
       "  'sr_cloud_qa',\n",
       "  'pixel_qa',\n",
       "  'radsat_qa'],\n",
       " 'system:id': 'LANDSAT/LT05/C01/T1_SR/LT05_017038_20001024',\n",
       " 'system:index': 'LT05_017038_20001024',\n",
       " 'system:time_end': '2000-10-24 15:39:31',\n",
       " 'system:time_start': '2000-10-24 15:39:31',\n",
       " 'system:version': 1521654126751988}"
      ]
     },
     "execution_count": 8,
     "metadata": {},
     "output_type": "execute_result"
    }
   ],
   "source": [
    "##STILL VA LTER - need to get ga images\n",
    "\n",
    "##landsat 5\n",
    "ga00 = ee.Image('LANDSAT/LT05/C01/T1_SR/LT05_017038_20001024') ##some noise here; no spots near points though\n",
    "ga01 = ee.Image('LANDSAT/LT05/C01/T1_SR/LT05_017038_20011027') \n",
    "ga02 = ee.Image('LANDSAT/LT05/C01/T1_SR/LT05_016038_20021007')\n",
    "ga03 = ee.Image('LANDSAT/LT05/C01/T1_SR/LT05_017038_20030915') ##clouds in oct, expanded to sep\n",
    "ga04 = ee.Image('LANDSAT/LT05/C01/T1_SR/LT05_017038_20040901') ##clouds in oct, expanded to sep\n",
    "ga05 = ee.Image('LANDSAT/LT05/C01/T1_SR/LT05_016038_20051015')\n",
    "ga06 = ee.Image('LANDSAT/LT05/C01/T1_SR/LT05_016038_20061002') \n",
    "ga07 = ee.Image('LANDSAT/LT05/C01/T1_SR/LT05_017038_20070910') ##clouds in oct, expanded to sep\n",
    "ga08 = ee.Image('LANDSAT/LT05/C01/T1_SR/LT05_017038_20081030')\n",
    "ga09 = ee.Image('LANDSAT/LT05/C01/T1_SR/LT05_017038_20091001')\n",
    "ga10 = ee.Image('LANDSAT/LT05/C01/T1_SR/LT05_016038_20101029') \n",
    "ga11 = ee.Image('LANDSAT/LT05/C01/T1_SR/LT05_016038_20111016')\n",
    "\n",
    "##landsat 7\n",
    "ga12 = ee.Image('LANDSAT/LE07/C01/T1_SR/LE07_017038_20121001') ##no more L7\n",
    "\n",
    "##landsat 8\n",
    "ga13 = ee.Image('LANDSAT/LC08/C01/T1_SR/LC08_017038_20131012') \n",
    "ga14 = ee.Image('LANDSAT/LC08/C01/T1_SR/LC08_016038_20141008') \n",
    "ga15 = ee.Image('LANDSAT/LC08/C01/T1_SR/LC08_017038_20151018') \n",
    "ga16 = ee.Image('LANDSAT/LC08/C01/T1_SR/LC08_016038_20161029') \n",
    "ga17 = ee.Image('LANDSAT/LC08/C01/T1_SR/LC08_016038_20171016') \n",
    "ga18 = ee.Image('LANDSAT/LC08/C01/T1_SR/LC08_016038_20181003') \n",
    "ga19 = ee.Image('LANDSAT/LC08/C01/T1_SR/LC08_017038_20190927') ##wrong scene in oct, expanded to sep\n",
    "\n",
    "##Make image collection for each year, then cloud mask? Rather than cloud masking individual images?\n",
    "\n",
    "##determining cloud cover\n",
    "cloudiness = ga00.get('CLOUD_COVER')\n",
    "#print('CLOUD_COVER: ', cloudiness.getInfo())\n",
    "\n",
    "#Map.addLayer(image15, l8_param, \"l82015\")\n",
    "#Map.addLayer(image12, vis_param, \"l72012\")\n",
    "\n",
    "props = geemap.image_props(ga00)\n",
    "props.getInfo()\n",
    "\n",
    "##Need to eliminate high tide images; use Fort Pulaski station? (Near Savannah; nearest harmonic station with data)"
   ]
  },
  {
   "cell_type": "code",
   "execution_count": 18,
   "id": "55108170",
   "metadata": {},
   "outputs": [
    {
     "data": {
      "application/vnd.jupyter.widget-view+json": {
       "model_id": "4edf31785be94a7dae98b91baadaa7c5",
       "version_major": 2,
       "version_minor": 0
      },
      "text/plain": [
       "Map(center=[31.434120927658846, -81.34324597505625], controls=(WidgetControl(options=['position'], widget=HBox…"
      ]
     },
     "metadata": {},
     "output_type": "display_data"
    }
   ],
   "source": [
    "##Mapping\n",
    "##Add Earth Engine dataset\n",
    "Map = geemap.Map(center=[40,-100], zoom=4)\n",
    "\n",
    "Map.addLayer(ga00, vis_param, \"Landsat5SR\")\n",
    "#Map.addLayer(ga18, l8_param, \"Landsat8SR\")\n",
    "\n",
    "Map.centerObject(ga_pts, 10)\n",
    "#Map.set_plot_options(add_marker_cluster = True) ##not sure what this does\n",
    "\n",
    "\n",
    "##add feature collection points for each plot\n",
    "Map.addLayer(ga_pts)\n",
    "\n",
    "Map\n",
    "##what is with all the spots on ga00? Something wrong with image, salt & pepper noise?"
   ]
  },
  {
   "cell_type": "code",
   "execution_count": 19,
   "id": "f7fa27f8",
   "metadata": {},
   "outputs": [],
   "source": [
    "##Water masking\n",
    "\n",
    "##Load or import the Hansen et al. forest change dataset.\n",
    "hansenImage = ee.Image('UMD/hansen/global_forest_change_2015')\n",
    "\n",
    "##Select the land/water mask.\n",
    "datamask = hansenImage.select('datamask')\n",
    "\n",
    "##Create a binary mask.\n",
    "watermask = datamask.eq(1)\n",
    "\n",
    "#watermasked00 = ga00.updateMask(watermask)\n",
    "#Map.addLayer(watermasked00, vis_param, 'masked')\n",
    "\n",
    "##Works! Although it is not perfect. Make sure to turn off background layers to see"
   ]
  },
  {
   "cell_type": "code",
   "execution_count": 20,
   "id": "0e345624",
   "metadata": {},
   "outputs": [],
   "source": [
    "##Function to cloud mask from the pixel_qa band of Landsat 5/8 SR data.\n",
    "def maskL5sr(image):\n",
    "  # Bits 3 and 5 are cloud shadow and cloud, respectively.\n",
    "  cloudShadowBitMask = 1 << 3\n",
    "  cloudsBitMask = 1 << 5\n",
    "\n",
    "  ##Get the pixel QA band.\n",
    "  qa = image.select('pixel_qa')\n",
    "\n",
    "  ##Both flags should be set to zero, indicating clear conditions.\n",
    "  mask = qa.bitwiseAnd(cloudShadowBitMask).eq(0) \\\n",
    "      .And(qa.bitwiseAnd(cloudsBitMask).eq(0))\n",
    "\n",
    "  ##Return the masked image, scaled to reflectance, without the QA bands.\n",
    "  return image.updateMask(mask).divide(10000) \\\n",
    "      .select(\"B[0-9]*\") \\\n",
    "      .copyProperties(image, [\"system:time_start\"])\n",
    "\n",
    "##Map the function over image collection\n",
    "collection = gaCollectionLS5 \\\n",
    "    .map(maskL5sr)\n",
    "\n",
    "composite = collection.median() ##what exactly is this doing? median pixel value?\n",
    "\n",
    "##Display the results.\n",
    "#Map.addLayer(composite, {'bands': ['B4',  'B3',  'B2'], 'min': 0, 'max': 0.2}, \"cloudfree composite\")\n",
    "#Map.addLayer(ga_pts)"
   ]
  },
  {
   "cell_type": "code",
   "execution_count": 21,
   "id": "3254e557",
   "metadata": {},
   "outputs": [],
   "source": [
    "##water-, cloud-, and cloud shadow-masked images - GA LTER :D\n",
    "gamasked00 = ee.Image(maskL5sr(ga00)).updateMask(watermask)\n",
    "gamasked01 = ee.Image(maskL5sr(ga01)).updateMask(watermask)\n",
    "gamasked02 = ee.Image(maskL5sr(ga02)).updateMask(watermask)\n",
    "gamasked03 = ee.Image(maskL5sr(ga03)).updateMask(watermask)\n",
    "gamasked04 = ee.Image(maskL5sr(ga04)).updateMask(watermask)\n",
    "gamasked05 = ee.Image(maskL5sr(ga05)).updateMask(watermask)\n",
    "gamasked06 = ee.Image(maskL5sr(ga06)).updateMask(watermask)\n",
    "gamasked07 = ee.Image(maskL5sr(ga07)).updateMask(watermask)\n",
    "gamasked08 = ee.Image(maskL5sr(ga08)).updateMask(watermask)\n",
    "gamasked09 = ee.Image(maskL5sr(ga09)).updateMask(watermask)\n",
    "gamasked10 = ee.Image(maskL5sr(ga10)).updateMask(watermask)\n",
    "gamasked11 = ee.Image(maskL5sr(ga11)).updateMask(watermask)\n",
    "gamasked12 = ee.Image(maskL5sr(ga12)).updateMask(watermask)\n",
    "gamasked13 = ee.Image(maskL5sr(ga13)).updateMask(watermask)\n",
    "gamasked14 = ee.Image(maskL5sr(ga14)).updateMask(watermask)\n",
    "gamasked15 = ee.Image(maskL5sr(ga15)).updateMask(watermask)\n",
    "gamasked16 = ee.Image(maskL5sr(ga16)).updateMask(watermask)\n",
    "gamasked17 = ee.Image(maskL5sr(ga17)).updateMask(watermask)\n",
    "gamasked18 = ee.Image(maskL5sr(ga18)).updateMask(watermask)\n",
    "gamasked19 = ee.Image(maskL5sr(ga19)).updateMask(watermask)\n",
    "\n",
    "##Check masked images:\n",
    "Map.addLayer(gamasked00, {'bands': ['B4',  'B3',  'B2'], 'min': 0, 'max': 0.2}, \"masked\")\n",
    "Map.addLayer(ga_pts)\n",
    "\n",
    "##Creating an image collection:\n",
    "ga_finalcollection = ee.ImageCollection.fromImages([gamasked00, gamasked01, gamasked02, gamasked03, gamasked04, \\\n",
    "                                                    gamasked05, gamasked06, gamasked07, gamasked08, gamasked09, \\\n",
    "                                                    gamasked10, gamasked11, gamasked12, gamasked13, gamasked14, \\\n",
    "                                                    gamasked15, gamasked16, gamasked17, gamasked18, gamasked19])"
   ]
  },
  {
   "cell_type": "code",
   "execution_count": 14,
   "id": "1516e477",
   "metadata": {},
   "outputs": [],
   "source": [
    "##Exporting pixel values - any way to do zonal averages without manually selecting - GA LTER\n",
    "in_fc = ga_pts\n",
    "\n",
    "##export data\n",
    "out_dir = os.path.expanduser('~/Downloads')\n",
    "out_csv = os.path.join(out_dir, 'gamasked07.csv')\n",
    "#out_shp = os.path.join(out_dir, 'points.shp') ##shapefile exporting\n",
    "#geemap.extract_values_to_points(in_fc, masked07, out_csv) ##projection error when exporting composites"
   ]
  },
  {
   "cell_type": "code",
   "execution_count": 15,
   "id": "ffd75b06",
   "metadata": {},
   "outputs": [],
   "source": [
    "##Exporting pixel values - zonal statistics: Average 3x3 grid for Landsat \\\n",
    "##(radius = 30 or 90 m - is the 'scale' option in zonal_statistics radius???)\n",
    "\n",
    "out_dir = os.path.expanduser('~/Downloads')\n",
    "out_ga_stats = os.path.join(out_dir, 'ga_stats.csv')  \n",
    "\n",
    "#geemap.zonal_statistics(in_value_raster = ga_finalcollection, in_zone_vector = ga_pts, \\\n",
    "                # out_file_path = out_ga_stats, statistics_type='MEAN', \\\n",
    "                # scale = 90)\n",
    "        \n",
    "        ##This ^^ is the right idea, but need to clean up bands selected, and still need to figure out a water mask\n",
    "        ##Also: why the reflectance values so different than VA dataset: Has to do with masking params"
   ]
  },
  {
   "cell_type": "code",
   "execution_count": null,
   "id": "d0d1d7fb",
   "metadata": {},
   "outputs": [],
   "source": []
  }
 ],
 "metadata": {
  "kernelspec": {
   "display_name": "feesh",
   "language": "python",
   "name": "feesh"
  },
  "language_info": {
   "codemirror_mode": {
    "name": "ipython",
    "version": 3
   },
   "file_extension": ".py",
   "mimetype": "text/x-python",
   "name": "python",
   "nbconvert_exporter": "python",
   "pygments_lexer": "ipython3",
   "version": "3.9.4"
  }
 },
 "nbformat": 4,
 "nbformat_minor": 5
}
