{
 "cells": [
  {
   "cell_type": "code",
   "execution_count": 1,
   "id": "04c7cbb7",
   "metadata": {},
   "outputs": [],
   "source": [
    "import pandas as pd\n",
    "import numpy as np\n",
    "import matplotlib.pyplot as plt\n",
    "import rasterio\n",
    "import geopandas as gpd\n",
    "from geopy.distance import great_circle\n"
   ]
  },
  {
   "cell_type": "code",
   "execution_count": 2,
   "id": "40de6a30",
   "metadata": {},
   "outputs": [],
   "source": [
    "deegan_02 = \"F:/Maxar data/geotiffs/02AUG05153314-S3AS-016353375010_01_P001.tif\"\n"
   ]
  },
  {
   "cell_type": "code",
   "execution_count": 3,
   "id": "d3c37589",
   "metadata": {},
   "outputs": [],
   "source": [
    "def plot_geotiff_with_scale_and_north_arrow(geotiff_path, ax, title, data_min, data_max):\n",
    "    with rasterio.open(geotiff_path) as src:\n",
    "        data = src.read(1)\n",
    "        extent = (src.bounds.left, src.bounds.right, src.bounds.bottom, src.bounds.top)\n",
    "        \n",
    "        gamma = 1\n",
    "        data = data ** gamma \n",
    "\n",
    "        # Normalize the data based on the overall min and max values\n",
    "        data_normalized = (data) / (1)*100\n",
    "        \n",
    "        cmap = 'BrBG'\n",
    "        im = ax.imshow(data_normalized, extent=extent, cmap=cmap, vmin=-2, vmax=2)\n",
    "        \n",
    "        ax.set_xticks([])\n",
    "        ax.set_yticks([])\n",
    "        \n",
    "        scale_bar = ScaleBar(dx=dx, location='lower right')\n",
    "        ax.add_artist(scale_bar)\n",
    "        \n",
    "        ax.annotate('', xy=(0.05, 0.98), xycoords='axes fraction', fontsize=18, ha='center', va='center',\n",
    "                    xytext=(0.05, 0.92), textcoords='axes fraction',\n",
    "                    arrowprops=dict(arrowstyle='->', lw=2, color='black'))\n",
    "        \n",
    "        ax.set_title(title)\n",
    "        \n",
    "        return im"
   ]
  },
  {
   "cell_type": "code",
   "execution_count": null,
   "id": "b8284602",
   "metadata": {},
   "outputs": [],
   "source": []
  }
 ],
 "metadata": {
  "kernelspec": {
   "display_name": "Python [conda env:gee] *",
   "language": "python",
   "name": "conda-env-gee-py"
  },
  "language_info": {
   "codemirror_mode": {
    "name": "ipython",
    "version": 3
   },
   "file_extension": ".py",
   "mimetype": "text/x-python",
   "name": "python",
   "nbconvert_exporter": "python",
   "pygments_lexer": "ipython3",
   "version": "3.10.13"
  }
 },
 "nbformat": 4,
 "nbformat_minor": 5
}
