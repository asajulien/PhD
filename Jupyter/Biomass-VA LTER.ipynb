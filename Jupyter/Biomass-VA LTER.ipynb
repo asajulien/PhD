{
 "cells": [
  {
   "cell_type": "code",
   "execution_count": 1,
   "id": "treated-workstation",
   "metadata": {},
   "outputs": [],
   "source": [
    "##libraries\n",
    "import pandas as pd\n",
    "import numpy as np\n",
    "import matplotlib.pyplot as plt\n",
    "import pdb\n",
    "from IPython.display import display\n",
    "import os\n",
    "import seaborn as sns\n",
    "import statsmodels.formula.api as sm\n",
    "from numpy.polynomial.polynomial import polyfit\n",
    "from sklearn.model_selection import train_test_split\n",
    "import sklearn\n",
    "from math import sqrt"
   ]
  },
  {
   "cell_type": "code",
   "execution_count": 2,
   "id": "polish-audio",
   "metadata": {},
   "outputs": [
    {
     "data": {
      "text/plain": [
       "<AxesSubplot:>"
      ]
     },
     "execution_count": 2,
     "metadata": {},
     "output_type": "execute_result"
    },
    {
     "data": {
      "image/png": "[encoded data removed]",
      "text/plain": [
       "<Figure size 432x288 with 1 Axes>"
      ]
     },
     "metadata": {
      "needs_background": "light"
     },
     "output_type": "display_data"
    }
   ],
   "source": [
    "##read data - biomass, Virginia LTER\n",
    "##Mac:\n",
    "# df = pd.read_csv('/Users/asariversjulien/Documents/Data/CSV files/Virginia_ChristianBlum.csv', skiprows=21)\n",
    "# df_wq = pd.read_csv('/Users/asariversjulien/Documents/Data/CSV files/Virginia_WQ.csv', skiprows=21)\n",
    "\n",
    "##PC:\n",
    "df = pd.read_csv('C:/Users/arj26323/Documents/Data/Biomass datasets/Virginia/Virginia_ChristianBlum.csv', skiprows=21)\n",
    "df_wq = pd.read_csv('C:/Users/arj26323/Documents/Data/Biomass datasets/Virginia/Virginia_WQ.csv', skiprows=21, \\\n",
    "                    encoding='cp1252') ##Have no idea what's with this encoding argument but it works\n",
    "\n",
    "##Begin:\n",
    "df = df[df['speciesName'] == 'Spartina alterniflora'] ##only low marsh and creekbank???\n",
    "\n",
    "df = df[['EOYBYear', 'collectDate', 'marshName', 'siteName', 'locationID', 'monitoringPurpose', \\\n",
    "         'Transect', 'Replicate', 'speciesName', 'liveMass', 'deadMass', 'totalMass', 'latitude', 'longitude']]\n",
    "\n",
    "df['collectDate'] = pd.to_datetime(df['collectDate'])\n",
    "\n",
    "df['liveMass'] = 16 * df['liveMass'] ##look at histograms; is averaging the best way?\n",
    "df['deadMass'] = 16 * df['deadMass']\n",
    "df['totalMass'] = 16 * df['totalMass']\n",
    "\n",
    "locations = [1, 2] ## 1 = creekbank; 2 = low marsh\n",
    "#df = df[df['locationID'].isin(locations)] ##MOSTLY Spartina alterniflora-only plots; in other zones plots were mixed\n",
    "\n",
    "df_wq['measureDate'] = pd.to_datetime(df_wq['measureDate'])\n",
    "\n",
    "max(df['liveMass'])\n",
    "\n",
    "#df['liveMass'].hist(by=df['siteName'])\n",
    "df['liveMass'].hist(bins = 50)\n",
    "\n",
    "##IMPORTANT NOTE: 2017 data does not distinguish live from dead biomass due to a freezer failure"
   ]
  },
  {
   "cell_type": "code",
   "execution_count": 6,
   "id": "moderate-conference",
   "metadata": {
    "scrolled": false
   },
   "outputs": [],
   "source": [
    "##summary statistics\n",
    "df_means = df.groupby('EOYBYear', as_index = False).mean()\n",
    "df_sem = df.groupby('EOYBYear').sem()\n",
    "\n",
    "df_means['Year'] = df_means['EOYBYear']\n",
    "#df.groupby('EOYBYear').aggregate([np.mean, np.size])\n",
    "#df_means ##'average lat/long' useless\n",
    "#df_sem"
   ]
  },
  {
   "cell_type": "code",
   "execution_count": 7,
   "id": "smart-tiffany",
   "metadata": {
    "scrolled": false
   },
   "outputs": [
    {
     "name": "stdout",
     "output_type": "stream",
     "text": [
      "      EOYBYear collectDate         marshName  siteName  locationID  \\\n",
      "12        1999         NaT           Bellvue   Bellvue           4   \n",
      "13        1999         NaT           Bellvue   Bellvue           2   \n",
      "14        1999         NaT           Bellvue   Bellvue           2   \n",
      "15        1999         NaT           Bellvue   Bellvue           1   \n",
      "16        1999         NaT           Bellvue   Bellvue           1   \n",
      "...        ...         ...               ...       ...         ...   \n",
      "8203      2017  2017-08-14            Oyster    Oyster           3   \n",
      "8204      2017  2017-08-14            Oyster    Oyster           3   \n",
      "8232      2017  2017-08-04       Gator Tract     Gator           3   \n",
      "8234      2018  2017-08-14          Box Tree  Box_Tree           1   \n",
      "8236      2018  2017-08-14  Hog Island North       Hog           3   \n",
      "\n",
      "     monitoringPurpose Transect Replicate            speciesName  liveMass  \\\n",
      "12                EOYB        D         b  Spartina alterniflora    454.40   \n",
      "13                EOYB        D         b  Spartina alterniflora    884.80   \n",
      "14                EOYB        D         a  Spartina alterniflora    790.40   \n",
      "15                EOYB        D         b  Spartina alterniflora   2136.00   \n",
      "16                EOYB        D         a  Spartina alterniflora   2324.80   \n",
      "...                ...      ...       ...                    ...       ...   \n",
      "8203              EOYB        B         a  Spartina alterniflora       NaN   \n",
      "8204              EOYB        B         b  Spartina alterniflora       NaN   \n",
      "8232              EOYB        C         a  Spartina alterniflora     42.72   \n",
      "8234              EOYB        C         a  Spartina alterniflora    255.04   \n",
      "8236              EOYB        C         b  Spartina alterniflora    382.56   \n",
      "\n",
      "      deadMass  totalMass   latitude  longitude  \n",
      "12         1.6     456.00  37.625273 -75.671577  \n",
      "13       158.4    1043.20  37.625273 -75.671577  \n",
      "14       236.8    1027.20  37.625273 -75.671577  \n",
      "15       185.6    2321.60  37.625273 -75.671577  \n",
      "16       104.0    2428.80  37.625273 -75.671577  \n",
      "...        ...        ...        ...        ...  \n",
      "8203       NaN     156.00  37.287549 -75.929133  \n",
      "8204       NaN      36.16  37.287549 -75.929133  \n",
      "8232       0.0      42.72  37.167409 -75.940586  \n",
      "8234       0.0     255.04  37.395746 -75.876094  \n",
      "8236       0.0     382.56  37.451132 -75.672871  \n",
      "\n",
      "[2451 rows x 14 columns]\n"
     ]
    }
   ],
   "source": [
    "##grouped by site and by year\n",
    "mn_siteyears = df.groupby(['siteName', 'EOYBYear'], as_index = False).aggregate([np.mean, np.size, np.std]).reset_index()\n",
    "se_siteyears = df.groupby(['siteName', 'EOYBYear'], as_index = False).sem()\n",
    "\n",
    "newdf = df.groupby(['siteName', 'EOYBYear'], as_index = False).mean()\n",
    "\n",
    "##rearrange lat and long for GEE\n",
    "mn_siteyears = mn_siteyears[['siteName', 'EOYBYear', 'locationID', 'liveMass', 'longitude', \\\n",
    "                             'latitude', 'deadMass', 'totalMass']]\n",
    "\n",
    "#with pd.option_context('display.max_rows', None, 'display.max_columns', None):  ## more options can be specified also\n",
    "    #print(mn_siteyears)\n",
    "\n",
    "#print(se_siteyears)\n",
    "\n",
    "out_dir = os.path.expanduser('~/Downloads')\n",
    "out_csv = os.path.join(out_dir, 'outx2.csv')\n",
    "#se_siteyears.to_csv(out_csv, index=False) ##set out directory\n",
    "\n",
    "newdf['year'] = newdf['EOYBYear']\n",
    "print(df)"
   ]
  },
  {
   "cell_type": "code",
   "execution_count": 8,
   "id": "several-printing",
   "metadata": {},
   "outputs": [],
   "source": [
    "##some figures\n",
    "#df.boxplot(column='liveMass', by='EOYBYear')\n",
    "#mn_siteyears.boxplot(column='liveMass', by='siteName') ##using averages as individual points"
   ]
  },
  {
   "cell_type": "code",
   "execution_count": 9,
   "id": "f2b36d93",
   "metadata": {},
   "outputs": [
    {
     "name": "stdout",
     "output_type": "stream",
     "text": [
      "hi\n"
     ]
    }
   ],
   "source": [
    "# #my_path = os.path.abspath('/Users/asariversjulien/Documents/Georgia/Project')\n",
    "# #my_file = 'p1.png'\n",
    "# #g.savefig(os.path.join(my_path, my_file), bbox_inches = 'tight')\n",
    "\n",
    "print(\"hi\")"
   ]
  },
  {
   "cell_type": "code",
   "execution_count": null,
   "id": "3d6f2cc0",
   "metadata": {},
   "outputs": [],
   "source": []
  }
 ],
 "metadata": {
  "kernelspec": {
   "display_name": "Python 3 (ipykernel)",
   "language": "python",
   "name": "python3"
  },
  "language_info": {
   "codemirror_mode": {
    "name": "ipython",
    "version": 3
   },
   "file_extension": ".py",
   "mimetype": "text/x-python",
   "name": "python",
   "nbconvert_exporter": "python",
   "pygments_lexer": "ipython3",
   "version": "3.9.7"
  }
 },
 "nbformat": 4,
 "nbformat_minor": 5
}
