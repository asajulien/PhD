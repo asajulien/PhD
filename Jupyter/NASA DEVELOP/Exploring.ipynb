{
 "cells": [
  {
   "cell_type": "code",
   "execution_count": 2,
   "id": "0b323076",
   "metadata": {},
   "outputs": [],
   "source": [
    "import pandas as pd\n",
    "import numpy as np\n",
    "import matplotlib.pyplot as plt\n",
    "import pdb\n",
    "from IPython.display import display\n",
    "import os"
   ]
  },
  {
   "cell_type": "code",
   "execution_count": 3,
   "id": "33174ae8",
   "metadata": {},
   "outputs": [
    {
     "name": "stdout",
     "output_type": "stream",
     "text": [
      "0.34.1\n"
     ]
    }
   ],
   "source": [
    "import ee\n",
    "import geemap\n",
    "service_account = ' boba-account@boba-430314.iam.gserviceaccount.com '\n",
    "credentials = ee.ServiceAccountCredentials(service_account,'C:/Users/arj26323/OneDrive - University of Georgia/Documents/GEE AUTH/boba-430314-a19be859bfca.json')\n",
    "\n",
    "ee.Initialize(credentials)\n",
    "\n",
    "print(geemap.__version__)"
   ]
  },
  {
   "cell_type": "code",
   "execution_count": 4,
   "id": "98906cba",
   "metadata": {},
   "outputs": [
    {
     "data": {
      "text/html": [
       "\n",
       "            <style>\n",
       "                .geemap-dark {\n",
       "                    --jp-widgets-color: white;\n",
       "                    --jp-widgets-label-color: white;\n",
       "                    --jp-ui-font-color1: white;\n",
       "                    --jp-layout-color2: #454545;\n",
       "                    background-color: #383838;\n",
       "                }\n",
       "\n",
       "                .geemap-dark .jupyter-button {\n",
       "                    --jp-layout-color3: #383838;\n",
       "                }\n",
       "\n",
       "                .geemap-colab {\n",
       "                    background-color: var(--colab-primary-surface-color, white);\n",
       "                }\n",
       "\n",
       "                .geemap-colab .jupyter-button {\n",
       "                    --jp-layout-color3: var(--colab-primary-surface-color, white);\n",
       "                }\n",
       "            </style>\n",
       "            "
      ],
      "text/plain": [
       "<IPython.core.display.HTML object>"
      ]
     },
     "metadata": {},
     "output_type": "display_data"
    }
   ],
   "source": [
    "Map = geemap.Map(center=[31.87,-80.82], zoom=10)"
   ]
  },
  {
   "cell_type": "code",
   "execution_count": 57,
   "id": "938998c4",
   "metadata": {},
   "outputs": [
    {
     "data": {
      "text/html": [
       "\n",
       "            <style>\n",
       "                .geemap-dark {\n",
       "                    --jp-widgets-color: white;\n",
       "                    --jp-widgets-label-color: white;\n",
       "                    --jp-ui-font-color1: white;\n",
       "                    --jp-layout-color2: #454545;\n",
       "                    background-color: #383838;\n",
       "                }\n",
       "\n",
       "                .geemap-dark .jupyter-button {\n",
       "                    --jp-layout-color3: #383838;\n",
       "                }\n",
       "\n",
       "                .geemap-colab {\n",
       "                    background-color: var(--colab-primary-surface-color, white);\n",
       "                }\n",
       "\n",
       "                .geemap-colab .jupyter-button {\n",
       "                    --jp-layout-color3: var(--colab-primary-surface-color, white);\n",
       "                }\n",
       "            </style>\n",
       "            "
      ],
      "text/plain": [
       "<IPython.core.display.HTML object>"
      ]
     },
     "metadata": {},
     "output_type": "display_data"
    }
   ],
   "source": [
    "sc_path = 'F:/US states/SouthCarolina/sc_all.shp'\n",
    "\n",
    "roi_path = 'F:/DEVELOP/ROI/ROI.shp'\n",
    "\n",
    "sc_fc = geemap.shp_to_ee(sc_path)\n",
    "\n",
    "roi_fc = geemap.shp_to_ee(roi_path)\n",
    "roi = roi_fc.geometry()\n",
    "\n",
    "Map.addLayer(sc_fc, {}, 'South Carolina')\n",
    "Map.addLayer(roi, {}, 'ROI - Jasper, Berkeley, Horry Counties')\n",
    "\n",
    "# Map"
   ]
  },
  {
   "cell_type": "code",
   "execution_count": 58,
   "id": "ec8aada8",
   "metadata": {},
   "outputs": [
    {
     "data": {
      "text/html": [
       "\n",
       "            <style>\n",
       "                .geemap-dark {\n",
       "                    --jp-widgets-color: white;\n",
       "                    --jp-widgets-label-color: white;\n",
       "                    --jp-ui-font-color1: white;\n",
       "                    --jp-layout-color2: #454545;\n",
       "                    background-color: #383838;\n",
       "                }\n",
       "\n",
       "                .geemap-dark .jupyter-button {\n",
       "                    --jp-layout-color3: #383838;\n",
       "                }\n",
       "\n",
       "                .geemap-colab {\n",
       "                    background-color: var(--colab-primary-surface-color, white);\n",
       "                }\n",
       "\n",
       "                .geemap-colab .jupyter-button {\n",
       "                    --jp-layout-color3: var(--colab-primary-surface-color, white);\n",
       "                }\n",
       "            </style>\n",
       "            "
      ],
      "text/plain": [
       "<IPython.core.display.HTML object>"
      ]
     },
     "metadata": {},
     "output_type": "display_data"
    }
   ],
   "source": [
    "def maskL8sr(image):\n",
    "    qaMask = image.select('QA_PIXEL').bitwiseAnd(int('11111', 2)).eq(0)\n",
    "    saturationMask = image.select('QA_RADSAT').eq(0)\n",
    "    # Apply the scaling factors to the appropriate bands.\n",
    "    opticalBands = image.select('SR_B.').multiply(0.0000275).add(-0.2)\n",
    "    thermalBands = image.select('ST_B.*').multiply(0.00341802).add(149.0)\n",
    "    # Replace the original bands with the scaled ones and apply the masks.\n",
    "    return image.addBands(opticalBands, None, True) \\\n",
    "    .addBands(thermalBands, None, True) \\\n",
    "    .updateMask(qaMask) \\\n",
    "    .updateMask(saturationMask)"
   ]
  },
  {
   "cell_type": "code",
   "execution_count": 59,
   "id": "e9886e4a",
   "metadata": {},
   "outputs": [
    {
     "data": {
      "text/html": [
       "\n",
       "            <style>\n",
       "                .geemap-dark {\n",
       "                    --jp-widgets-color: white;\n",
       "                    --jp-widgets-label-color: white;\n",
       "                    --jp-ui-font-color1: white;\n",
       "                    --jp-layout-color2: #454545;\n",
       "                    background-color: #383838;\n",
       "                }\n",
       "\n",
       "                .geemap-dark .jupyter-button {\n",
       "                    --jp-layout-color3: #383838;\n",
       "                }\n",
       "\n",
       "                .geemap-colab {\n",
       "                    background-color: var(--colab-primary-surface-color, white);\n",
       "                }\n",
       "\n",
       "                .geemap-colab .jupyter-button {\n",
       "                    --jp-layout-color3: var(--colab-primary-surface-color, white);\n",
       "                }\n",
       "            </style>\n",
       "            "
      ],
      "text/plain": [
       "<IPython.core.display.HTML object>"
      ]
     },
     "metadata": {},
     "output_type": "display_data"
    }
   ],
   "source": [
    "#12/08/22 - adding CALIBRATED FLATS\n",
    "def addFLATSL7(image):\n",
    "    flats = ee.Image(0).expression(\n",
    "        '1/(1+2.718281828459045**-(1.51 + 12.5*(RED-SWIR)/(RED+SWIR) - 41.2*(NIR-RED)/(NIR+6*RED-7.5*BLUE+1)))', {\n",
    "            'SWIR': image.select('SR_B5'),\n",
    "            'NIR': image.select('SR_B4'),\n",
    "            'RED': image.select('SR_B3'),\n",
    "            'BLUE': image.select('SR_B1')\n",
    "        })\n",
    "    \n",
    "    return image.addBands(flats.rename('flats'))\n",
    "\n",
    "def addFLATSL5(image):\n",
    "    flats = ee.Image(0).expression(\n",
    "        '1/(1+2.718281828459045**-(1.51 + 12.5*(0.972*(RED-SWIR)/(RED+SWIR)-0.008) - 41.2*(0.991*(NIR-RED)/(NIR+6*RED-7.5*BLUE+1)-0.0014)))', {\n",
    "            'SWIR': image.select('SR_B5'),\n",
    "            'NIR': image.select('SR_B4'),\n",
    "            'RED': image.select('SR_B3'),\n",
    "            'BLUE': image.select('SR_B1')\n",
    "        })\n",
    "    \n",
    "    return image.addBands(flats.rename('flats'))\n",
    "\n",
    "\n",
    "def addFLATSL8(image):\n",
    "    flats = ee.Image(0).expression(\n",
    "        '1/(1+2.718281828459045**-(1.51 + 12.5*(0.841*(RED-SWIR)/(RED+SWIR) - 0.019) - 41.2*(0.771*(NIR-RED)/(NIR+6*RED-7.5*BLUE+1) + 0.011)))', {\n",
    "            'SWIR': image.select('SR_B6'),\n",
    "            'NIR': image.select('SR_B5'),\n",
    "            'RED': image.select('SR_B4'),\n",
    "            'BLUE': image.select('SR_B2')\n",
    "        })\n",
    "    \n",
    "    return image.addBands(flats.rename('flats'))\n",
    "\n",
    "def addFLATSL9(image):\n",
    "    flats = ee.Image(0).expression(\n",
    "        '1/(1+2.718281828459045**-(1.51 + 12.5*(1.225*(RED-SWIR)/(RED+SWIR) + 0.096) - 41.2*(1.038* (NIR-RED)/(NIR+6*RED-7.5*BLUE+1) - 0.004)))', {\n",
    "            'SWIR': image.select('SR_B6'),\n",
    "            'NIR': image.select('SR_B5'),\n",
    "            'RED': image.select('SR_B4'),\n",
    "            'BLUE': image.select('SR_B2')\n",
    "        })\n",
    "    \n",
    "    return image.addBands(flats.rename('flats'))\n",
    "\n",
    "##MASKING FLATS\n",
    "def maskFLATS(image):\n",
    "    mask1 = image.select('flats').lte(0.2)\n",
    "    return image.updateMask(mask1)\n",
    "\n",
    "\n",
    "##ADDING NDVI (for min/max variables)\n",
    "def addL5ndvi(image):\n",
    "    ndvi = image.expression(\n",
    "        '(NIR-RED)/(RED+NIR)', {\n",
    "            'NIR': image.select('SR_B4'),\n",
    "            'RED': image.select('SR_B3'),\n",
    "            'GREEN': image.select('SR_B2')\n",
    "        })\n",
    "    \n",
    "    return image.addBands(ndvi.rename('ndvi'))\n",
    "\n",
    "def addL8ndvi(image):\n",
    "    ndvi = image.expression(\n",
    "        '(NIR-RED)/(RED+NIR)', {\n",
    "            'NIR': image.select('SR_B5'),\n",
    "            'RED': image.select('SR_B4'),\n",
    "            'GREEN': image.select('SR_B3')\n",
    "        })\n",
    "    \n",
    "    return image.addBands(ndvi.rename('ndvi'))\n",
    "\n"
   ]
  },
  {
   "cell_type": "code",
   "execution_count": 41,
   "id": "8ef5ebe4",
   "metadata": {},
   "outputs": [
    {
     "data": {
      "text/html": [
       "\n",
       "            <style>\n",
       "                .geemap-dark {\n",
       "                    --jp-widgets-color: white;\n",
       "                    --jp-widgets-label-color: white;\n",
       "                    --jp-ui-font-color1: white;\n",
       "                    --jp-layout-color2: #454545;\n",
       "                    background-color: #383838;\n",
       "                }\n",
       "\n",
       "                .geemap-dark .jupyter-button {\n",
       "                    --jp-layout-color3: #383838;\n",
       "                }\n",
       "\n",
       "                .geemap-colab {\n",
       "                    background-color: var(--colab-primary-surface-color, white);\n",
       "                }\n",
       "\n",
       "                .geemap-colab .jupyter-button {\n",
       "                    --jp-layout-color3: var(--colab-primary-surface-color, white);\n",
       "                }\n",
       "            </style>\n",
       "            "
      ],
      "text/plain": [
       "<IPython.core.display.HTML object>"
      ]
     },
     "metadata": {},
     "output_type": "display_data"
    }
   ],
   "source": [
    "#Datasets - NOT MASKING FLATS (try again masking later)\n",
    "ls5_collect = ee.ImageCollection('LANDSAT/LT05/C02/T1_L2').filterBounds(sc_fc).map(maskL8sr).map(addFLATSL5)\n",
    "ls7_collect = ee.ImageCollection('LANDSAT/LE07/C02/T1_L2').filterBounds(sc_fc).map(maskL8sr).map(addFLATSL7)\n",
    "ls8_collect = ee.ImageCollection('LANDSAT/LC08/C02/T1_L2').filterBounds(sc_fc).map(maskL8sr).map(addFLATSL8)\n",
    "ls9_collect = ee.ImageCollection('LANDSAT/LC09/C02/T1_L2').filterBounds(sc_fc).map(maskL8sr).map(addFLATSL8)\n",
    "\n",
    "#Merge\n",
    "ultra_col = ls8_collect.merge(ls5_collect).merge(ls7_collect).merge(ls9_collect)"
   ]
  },
  {
   "cell_type": "code",
   "execution_count": 42,
   "id": "3e60935d",
   "metadata": {},
   "outputs": [
    {
     "data": {
      "text/html": [
       "\n",
       "            <style>\n",
       "                .geemap-dark {\n",
       "                    --jp-widgets-color: white;\n",
       "                    --jp-widgets-label-color: white;\n",
       "                    --jp-ui-font-color1: white;\n",
       "                    --jp-layout-color2: #454545;\n",
       "                    background-color: #383838;\n",
       "                }\n",
       "\n",
       "                .geemap-dark .jupyter-button {\n",
       "                    --jp-layout-color3: #383838;\n",
       "                }\n",
       "\n",
       "                .geemap-colab {\n",
       "                    background-color: var(--colab-primary-surface-color, white);\n",
       "                }\n",
       "\n",
       "                .geemap-colab .jupyter-button {\n",
       "                    --jp-layout-color3: var(--colab-primary-surface-color, white);\n",
       "                }\n",
       "            </style>\n",
       "            "
      ],
      "text/plain": [
       "<IPython.core.display.HTML object>"
      ]
     },
     "metadata": {},
     "output_type": "display_data"
    }
   ],
   "source": [
    "landscan = ee.ImageCollection(\"projects/sat-io/open-datasets/ORNL/LANDSCAN_GLOBAL\").filterBounds(sc_fc)\n",
    "\n",
    "popcount_intervals = '''\n",
    "<RasterSymbolizer>\n",
    "  <ColorMap type=\"intervals\" extended=\"false\">\n",
    "    <ColorMapEntry color=\"#CCCCCC\" quantity=\"0\" label=\"No Data\"/>\n",
    "    <ColorMapEntry color=\"#FFFFBE\" quantity=\"5\" label=\"Population Count (Estimate)\"/>\n",
    "    <ColorMapEntry color=\"#FEFF73\" quantity=\"25\" label=\"Population Count (Estimate)\"/>\n",
    "    <ColorMapEntry color=\"#FEFF2C\" quantity=\"50\" label=\"Population Count (Estimate)\"/>\n",
    "    <ColorMapEntry color=\"#FFAA27\" quantity=\"100\" label=\"Population Count (Estimate)\"/>\n",
    "    <ColorMapEntry color=\"#FF6625\" quantity=\"500\" label=\"Population Count (Estimate)\"/>\n",
    "    <ColorMapEntry color=\"#FF0023\" quantity=\"2500\" label=\"Population Count (Estimate)\"/>\n",
    "    <ColorMapEntry color=\"#CC001A\" quantity=\"5000\" label=\"Population Count (Estimate)\"/>\n",
    "    <ColorMapEntry color=\"#730009\" quantity=\"185000\" label=\"Population Count (Estimate)\"/>\n",
    "  </ColorMap>\n",
    "</RasterSymbolizer>\n",
    "'''\n",
    "\n",
    "# Define legend colors and labels\n",
    "legend_dict = {\n",
    "    'names': [\n",
    "        '0', '1–5', '6–25', '26–50', '51–100', '101–500', '501–2500',\n",
    "        '2501–5000', '5001–185000'\n",
    "    ],\n",
    "    'colors': [\n",
    "        '#CCCCCC', '#FFFFBE', '#FEFF73', '#FEFF2C', '#FFAA27',\n",
    "        '#FF6625', '#FF0023', '#CC001A', '#730009'\n",
    "    ]\n",
    "}\n",
    "\n",
    "# Add legend to the map\n",
    "Map.add_legend(\n",
    "    title=\"Population Count (estimate)\",\n",
    "    labels=legend_dict['names'],\n",
    "    colors=legend_dict['colors'],\n",
    "    position='bottomleft'\n",
    ")\n",
    "\n",
    "\n",
    "# Add styled layers for 2000 and 2023\n",
    "pop_2000 = landscan.filter(ee.Filter.calendarRange(2000, 2000, 'year')).first().sldStyle(popcount_intervals).clip(sc_fc)\n",
    "pop_2023 = landscan.filter(ee.Filter.calendarRange(2023, 2023, 'year')).first().sldStyle(popcount_intervals).clip(sc_fc)"
   ]
  },
  {
   "cell_type": "code",
   "execution_count": 43,
   "id": "7df9b709",
   "metadata": {},
   "outputs": [
    {
     "data": {
      "text/html": [
       "\n",
       "            <style>\n",
       "                .geemap-dark {\n",
       "                    --jp-widgets-color: white;\n",
       "                    --jp-widgets-label-color: white;\n",
       "                    --jp-ui-font-color1: white;\n",
       "                    --jp-layout-color2: #454545;\n",
       "                    background-color: #383838;\n",
       "                }\n",
       "\n",
       "                .geemap-dark .jupyter-button {\n",
       "                    --jp-layout-color3: #383838;\n",
       "                }\n",
       "\n",
       "                .geemap-colab {\n",
       "                    background-color: var(--colab-primary-surface-color, white);\n",
       "                }\n",
       "\n",
       "                .geemap-colab .jupyter-button {\n",
       "                    --jp-layout-color3: var(--colab-primary-surface-color, white);\n",
       "                }\n",
       "            </style>\n",
       "            "
      ],
      "text/plain": [
       "<IPython.core.display.HTML object>"
      ]
     },
     "metadata": {},
     "output_type": "display_data"
    }
   ],
   "source": [
    "##DAYMET\n",
    "# daymet = ee.ImageCollection('NASA/ORNL/DAYMET_V4').filterBounds(sc_fc).filterDate('2018', '2018')\n",
    "\n",
    "daymet_og = ee.ImageCollection('NASA/ORNL/DAYMET_V4').filterBounds(sc_fc)\n",
    "\n",
    "#Resampling daymet collection to 30m\n",
    "def resamp_dm(img):\n",
    "    resampled_dm = img.reproject(\n",
    "        crs = 'EPSG:4326',\n",
    "        scale = 30\n",
    "    ).resample('bilinear')\n",
    "    return resampled_dm\n",
    "\n",
    "resamp_daymet = daymet_og.map(resamp_dm)\n",
    "\n",
    "daymet = resamp_daymet \\\n",
    "     .filter(ee.Filter.date('2018-09-01', '2018-09-30')) \\\n",
    "     .mean() \\\n",
    "     .clip(sc_fc)\n",
    "\n",
    "dm_precip = daymet.select('prcp')\n",
    "dm_maxtemp = daymet.select('tmax')\n",
    "dm_mintemp = daymet.select('tmin')\n",
    "dm_daylight = daymet.select('dayl')\n",
    "dm_srad = daymet.select('srad')\n",
    "dm_snow = daymet.select('swe')\n",
    "dm_vapor = daymet.select('vp')\n",
    "\n",
    "prcpVis = {\n",
    "  'min': -40.0,\n",
    "  'max': 30.0,\n",
    "  'palette': ['1621A2', 'white', 'cyan', 'green', 'yellow', 'orange', 'red'],\n",
    "}\n",
    "\n",
    "daylVis = {\n",
    "  'min': 0,\n",
    "  'max': 50000.0,\n",
    "  'palette': ['1621A2', 'white', 'cyan', 'green', 'yellow', 'orange', 'red'],\n",
    "}\n",
    "\n",
    "sradVis = {\n",
    "  'min': 0,\n",
    "  'max': 400.0,\n",
    "  'palette': ['1621A2', 'white', 'cyan', 'green', 'yellow', 'orange', 'red'],\n",
    "}\n",
    "\n",
    "vpVis = {\n",
    "  'min': 0,\n",
    "  'max': 1500,\n",
    "  'palette': ['1621A2', 'white', 'cyan', 'green', 'yellow', 'orange', 'red'],\n",
    "}"
   ]
  },
  {
   "cell_type": "code",
   "execution_count": 68,
   "id": "fb694bc3",
   "metadata": {},
   "outputs": [
    {
     "data": {
      "text/html": [
       "\n",
       "            <style>\n",
       "                .geemap-dark {\n",
       "                    --jp-widgets-color: white;\n",
       "                    --jp-widgets-label-color: white;\n",
       "                    --jp-ui-font-color1: white;\n",
       "                    --jp-layout-color2: #454545;\n",
       "                    background-color: #383838;\n",
       "                }\n",
       "\n",
       "                .geemap-dark .jupyter-button {\n",
       "                    --jp-layout-color3: #383838;\n",
       "                }\n",
       "\n",
       "                .geemap-colab {\n",
       "                    background-color: var(--colab-primary-surface-color, white);\n",
       "                }\n",
       "\n",
       "                .geemap-colab .jupyter-button {\n",
       "                    --jp-layout-color3: var(--colab-primary-surface-color, white);\n",
       "                }\n",
       "            </style>\n",
       "            "
      ],
      "text/plain": [
       "<IPython.core.display.HTML object>"
      ]
     },
     "metadata": {},
     "output_type": "display_data"
    }
   ],
   "source": [
    "dem = ee.Image('USGS/3DEP/10m').clip(roi) ##This is 1/3 arc second, or 10 m.\n",
    "\n",
    "slope = ee.Terrain.slope(dem)\n",
    "\n",
    "dem_params = {\n",
    "    'min': 0,\n",
    "    'max': 1300,\n",
    "    'palette': ['006633', 'E5FFCC', '662A00', 'D8D8D8', 'F5F5F5'],\n",
    "}"
   ]
  },
  {
   "cell_type": "code",
   "execution_count": 51,
   "id": "4ef6743f",
   "metadata": {},
   "outputs": [
    {
     "data": {
      "text/html": [
       "\n",
       "            <style>\n",
       "                .geemap-dark {\n",
       "                    --jp-widgets-color: white;\n",
       "                    --jp-widgets-label-color: white;\n",
       "                    --jp-ui-font-color1: white;\n",
       "                    --jp-layout-color2: #454545;\n",
       "                    background-color: #383838;\n",
       "                }\n",
       "\n",
       "                .geemap-dark .jupyter-button {\n",
       "                    --jp-layout-color3: #383838;\n",
       "                }\n",
       "\n",
       "                .geemap-colab {\n",
       "                    background-color: var(--colab-primary-surface-color, white);\n",
       "                }\n",
       "\n",
       "                .geemap-colab .jupyter-button {\n",
       "                    --jp-layout-color3: var(--colab-primary-surface-color, white);\n",
       "                }\n",
       "            </style>\n",
       "            "
      ],
      "text/plain": [
       "<IPython.core.display.HTML object>"
      ]
     },
     "metadata": {},
     "output_type": "display_data"
    },
    {
     "data": {
      "application/vnd.jupyter.widget-view+json": {
       "model_id": "0d3a376986f8435b90f38df8302484dc",
       "version_major": 2,
       "version_minor": 0
      },
      "text/plain": [
       "Map(bottom=13348.0, center=[34.379712580462204, -81.11202130498351], controls=(WidgetControl(options=['positio…"
      ]
     },
     "metadata": {},
     "output_type": "display_data"
    },
    {
     "name": "stderr",
     "output_type": "stream",
     "text": [
      "No such comm: 2a265326c50b4dd4ac2d823a8e753166\n",
      "No such comm: 326ee8830b62499b9106552876afe5ea\n",
      "No such comm: 326ee8830b62499b9106552876afe5ea\n",
      "No such comm: 555ed812289e4d5bb88ed95d33a59dd1\n",
      "No such comm: 555ed812289e4d5bb88ed95d33a59dd1\n"
     ]
    }
   ],
   "source": [
    "l8_param = {'min': 0, \n",
    "             'max': 0.2, \n",
    "             'bands': ['SR_B5', 'SR_B4', 'SR_B3'], \n",
    "             'gamma': 1.5}\n",
    "\n",
    "\n",
    "# Map.addLayer(ls8_collect.first().select('flats'), {}, 'Landsat 8')\n",
    "# Map.addLayer(landscan.first().clip(sc_fc), {}, 'Landscan population data')\n",
    "\n",
    "# Map.addLayer(pop_2000, {}, 'Population Count Estimate 2000')\n",
    "# Map.addLayer(pop_2023, {}, 'Population Count Estimate 2023')\n",
    "\n",
    "# Map.addLayer(dm_precip, prcpVis, \"Precipitation\")\n",
    "\n",
    "# Map.addLayer(dm_maxtemp, prcpVis, \"Maxtemp\")\n",
    "# Map.addLayer(dm_mintemp, prcpVis, \"Mintemp\")\n",
    "# Map.addLayer(dm_daylight, daylVis, \"Daylight\")\n",
    "# Map.addLayer(dm_srad, sradVis, \"SRAD\")\n",
    "# Map.addLayer(dm_snow, prcpVis, \"Snowpack water?\")\n",
    "# Map.addLayer(dm_vapor, vpVis, \"Vaporpressure\")\n",
    "\n",
    "Map.addLayer(dem, dem_params, 'elevation')\n",
    "\n",
    "Map"
   ]
  },
  {
   "cell_type": "code",
   "execution_count": 66,
   "id": "e89254ea",
   "metadata": {},
   "outputs": [
    {
     "data": {
      "text/html": [
       "\n",
       "            <style>\n",
       "                .geemap-dark {\n",
       "                    --jp-widgets-color: white;\n",
       "                    --jp-widgets-label-color: white;\n",
       "                    --jp-ui-font-color1: white;\n",
       "                    --jp-layout-color2: #454545;\n",
       "                    background-color: #383838;\n",
       "                }\n",
       "\n",
       "                .geemap-dark .jupyter-button {\n",
       "                    --jp-layout-color3: #383838;\n",
       "                }\n",
       "\n",
       "                .geemap-colab {\n",
       "                    background-color: var(--colab-primary-surface-color, white);\n",
       "                }\n",
       "\n",
       "                .geemap-colab .jupyter-button {\n",
       "                    --jp-layout-color3: var(--colab-primary-surface-color, white);\n",
       "                }\n",
       "            </style>\n",
       "            "
      ],
      "text/plain": [
       "<IPython.core.display.HTML object>"
      ]
     },
     "metadata": {},
     "output_type": "display_data"
    }
   ],
   "source": [
    "##Exporting GeoTIFFs\n",
    "\n",
    "# out_dir = os.path.join(os.path.expanduser(\"~\"), \"Downloads\")\n",
    "# filename = os.path.join(out_dir, \"dem10m_roi.tif\")\n",
    "\n",
    "# geemap.ee_export_image(\n",
    "#     dem, filename=filename, scale=10, region=roi, file_per_band=True\n",
    "# )"
   ]
  },
  {
   "cell_type": "code",
   "execution_count": 63,
   "id": "cd362393",
   "metadata": {},
   "outputs": [
    {
     "data": {
      "text/html": [
       "\n",
       "            <style>\n",
       "                .geemap-dark {\n",
       "                    --jp-widgets-color: white;\n",
       "                    --jp-widgets-label-color: white;\n",
       "                    --jp-ui-font-color1: white;\n",
       "                    --jp-layout-color2: #454545;\n",
       "                    background-color: #383838;\n",
       "                }\n",
       "\n",
       "                .geemap-dark .jupyter-button {\n",
       "                    --jp-layout-color3: #383838;\n",
       "                }\n",
       "\n",
       "                .geemap-colab {\n",
       "                    background-color: var(--colab-primary-surface-color, white);\n",
       "                }\n",
       "\n",
       "                .geemap-colab .jupyter-button {\n",
       "                    --jp-layout-color3: var(--colab-primary-surface-color, white);\n",
       "                }\n",
       "            </style>\n",
       "            "
      ],
      "text/plain": [
       "<IPython.core.display.HTML object>"
      ]
     },
     "metadata": {},
     "output_type": "display_data"
    },
    {
     "data": {
      "application/vnd.jupyter.widget-view+json": {
       "model_id": "9695d53391ef4022a5c9caf1bdeb5908",
       "version_major": 2,
       "version_minor": 0
      },
      "text/plain": [
       "Map(center=[31.87, -80.82], controls=(WidgetControl(options=['position', 'transparent_bg'], widget=SearchDataG…"
      ]
     },
     "metadata": {},
     "output_type": "display_data"
    }
   ],
   "source": [
    "# Create a grid of tiles (e.g., 10km x 10km)\n",
    "grid_size = 1000  # Tile size in meters\n",
    "tiles = geemap.fishnet(roi, rows=10, cols=10, delta = 1)\n",
    "\n",
    "## Visualize the grid on a map (optional)\n",
    "# Map = geemap.Map(center=[31.87,-80.82], zoom=10)\n",
    "# Map.addLayer(roi,{}, 'ROI')\n",
    "# Map.addLayer(tiles, {}, \"Tiles\")\n",
    "# Map"
   ]
  },
  {
   "cell_type": "code",
   "execution_count": 69,
   "id": "d5be73cf",
   "metadata": {},
   "outputs": [
    {
     "data": {
      "text/html": [
       "\n",
       "            <style>\n",
       "                .geemap-dark {\n",
       "                    --jp-widgets-color: white;\n",
       "                    --jp-widgets-label-color: white;\n",
       "                    --jp-ui-font-color1: white;\n",
       "                    --jp-layout-color2: #454545;\n",
       "                    background-color: #383838;\n",
       "                }\n",
       "\n",
       "                .geemap-dark .jupyter-button {\n",
       "                    --jp-layout-color3: #383838;\n",
       "                }\n",
       "\n",
       "                .geemap-colab {\n",
       "                    background-color: var(--colab-primary-surface-color, white);\n",
       "                }\n",
       "\n",
       "                .geemap-colab .jupyter-button {\n",
       "                    --jp-layout-color3: var(--colab-primary-surface-color, white);\n",
       "                }\n",
       "            </style>\n",
       "            "
      ],
      "text/plain": [
       "<IPython.core.display.HTML object>"
      ]
     },
     "metadata": {},
     "output_type": "display_data"
    }
   ],
   "source": [
    "# Function to process each tile\n",
    "def process_tile(tile, tile_id):\n",
    "    # Clip the image collection to the tile\n",
    "    slope_clipped = slope.clip(tile)\n",
    "    \n",
    "    # Export each tile as GeoTIFF\n",
    "    filename = os.path.join(out_dir, f'tile_{tile_id}_slope_10m.tif')\n",
    "    geemap.ee_export_image(\n",
    "        slope_clipped,\n",
    "        filename=filename,\n",
    "        scale=10,\n",
    "        region=tile,\n",
    "        file_per_band=True,\n",
    "    )\n",
    "    print(f\"Exported: {filename}\")\n",
    "\n",
    "# Output directory\n",
    "out_dir = \"F:/DEVELOP/SLOPE/Tiles\"\n",
    "os.makedirs(out_dir, exist_ok=True)"
   ]
  },
  {
   "cell_type": "code",
   "execution_count": 71,
   "id": "a40a5a67",
   "metadata": {},
   "outputs": [
    {
     "data": {
      "text/html": [
       "\n",
       "            <style>\n",
       "                .geemap-dark {\n",
       "                    --jp-widgets-color: white;\n",
       "                    --jp-widgets-label-color: white;\n",
       "                    --jp-ui-font-color1: white;\n",
       "                    --jp-layout-color2: #454545;\n",
       "                    background-color: #383838;\n",
       "                }\n",
       "\n",
       "                .geemap-dark .jupyter-button {\n",
       "                    --jp-layout-color3: #383838;\n",
       "                }\n",
       "\n",
       "                .geemap-colab {\n",
       "                    background-color: var(--colab-primary-surface-color, white);\n",
       "                }\n",
       "\n",
       "                .geemap-colab .jupyter-button {\n",
       "                    --jp-layout-color3: var(--colab-primary-surface-color, white);\n",
       "                }\n",
       "            </style>\n",
       "            "
      ],
      "text/plain": [
       "<IPython.core.display.HTML object>"
      ]
     },
     "metadata": {},
     "output_type": "display_data"
    }
   ],
   "source": [
    "# # Iterate through each tile in the grid\n",
    "# tile_list = tiles.toList(tiles.size())\n",
    "# for i in range(tiles.size().getInfo()):\n",
    "#     tile = ee.Feature(tile_list.get(i)).geometry()\n",
    "#     process_tile(tile, i)"
   ]
  }
 ],
 "metadata": {
  "kernelspec": {
   "display_name": "Python [conda env:geeml] *",
   "language": "python",
   "name": "conda-env-geeml-py"
  },
  "language_info": {
   "codemirror_mode": {
    "name": "ipython",
    "version": 3
   },
   "file_extension": ".py",
   "mimetype": "text/x-python",
   "name": "python",
   "nbconvert_exporter": "python",
   "pygments_lexer": "ipython3",
   "version": "3.10.13"
  }
 },
 "nbformat": 4,
 "nbformat_minor": 5
}
