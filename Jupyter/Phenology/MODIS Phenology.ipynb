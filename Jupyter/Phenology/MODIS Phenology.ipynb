{
 "cells": [
  {
   "cell_type": "code",
   "execution_count": 1,
   "id": "f4b809d7",
   "metadata": {},
   "outputs": [],
   "source": [
    "import geemap\n",
    "import pandas as pd\n",
    "import numpy as np\n",
    "import matplotlib.pyplot as plt\n",
    "import pdb\n",
    "from IPython.display import display\n",
    "import ee\n",
    "import os"
   ]
  },
  {
   "cell_type": "code",
   "execution_count": 5,
   "id": "4ccab624",
   "metadata": {},
   "outputs": [
    {
     "data": {
      "application/vnd.jupyter.widget-view+json": {
       "model_id": "8e1632012e4845069625dbec998f349e",
       "version_major": 2,
       "version_minor": 0
      },
      "text/plain": [
       "Map(center=[31.539096, -81.422318], controls=(WidgetControl(options=['position', 'transparent_bg'], widget=HBo…"
      ]
     },
     "metadata": {},
     "output_type": "display_data"
    }
   ],
   "source": [
    "#ee.Authenticate()\n",
    "#geemap.update_package()\n",
    "\n",
    "ee.Initialize()\n",
    "\n",
    "Map = geemap.Map(center=[31.539096,-81.422318], zoom=10)\n",
    "\n",
    "##Adding every plot coordinate\n",
    "allplots_ga = 'C:/Users/arj26323/Documents/Data/Biomass datasets/Sapelo/GA_allplots_NEW.csv'\n",
    "allplots_va= pd.read_csv('C:/Users/arj26323/Documents/Data/Biomass datasets/Virginia/Coordinates and biomass/va_allpoints.csv')\n",
    "allplots_va = allplots_va[allplots_va['liveMass'].notna()]\n",
    "allplots_va = allplots_va[allplots_va['Latitude'].notna()]\n",
    "allplots_va = allplots_va.drop(columns = ['deadMass', 'collectDate', 'totalMass', 'Ell', 'MSL', 'latitude', 'longitude'])\n",
    "df_temp=allplots_va.copy()\n",
    "df_temp = df_temp.groupby(['Year','locationID','Transect','Latitude','Longitude'],as_index = False).aggregate(\n",
    "    {\n",
    "        'liveMass':[np.mean, np.size]\n",
    "    }\n",
    ")\n",
    "df_temp.columns = [\n",
    "    'Year','locationID','Transect','Latitude','Longitude','liveMass','N'\n",
    "]\n",
    "allplots_va = df_temp\n",
    "s_patens = pd.read_csv('C:/Users/arj26323/Documents/Data/Biomass datasets/Massachusetts/LTE-MP-LPP-biomass.csv')\n",
    "s_alterniflora = pd.read_csv('C:/Users/arj26323/Documents/Data/Biomass datasets/Massachusetts/LTE-MP-LPA-biomass.csv')\n",
    "s_patens['Latitude'] = 42.730953216553\n",
    "s_patens['Longitude'] = -70.842918395996\n",
    "s_alterniflora['Latitude'] = 42.731742858887\n",
    "s_alterniflora['Longitude'] = -70.842468261719\n",
    "s_patens.rename(columns={'LIVE biomass':'liveMass'}, inplace=True)\n",
    "s_alterniflora.rename(columns={'MEAN BIOMASS':'liveMass'}, inplace=True)\n",
    "df = pd.concat([s_patens, s_alterniflora])\n",
    "df['Date'] = pd.to_datetime(df[['YEAR', 'MONTH', 'DAY']])\n",
    "dfx =  df.groupby(['SITE', 'Date'], as_index = False).aggregate(\n",
    "    {\n",
    "        'Longitude':[np.mean], 'Latitude':[np.mean], 'liveMass':[np.mean, np.size], \n",
    "        'MONTH':'first', 'YEAR':'first'\n",
    "    }\n",
    ") \n",
    "dfx.columns = [\n",
    "    'Site','Date','Longitude','Latitude','liveMass', 'Sample size','Month', 'Year'\n",
    "]\n",
    "\n",
    "dfx.loc[dfx['Site'] == 'LTE-MP-LPP', 'Latitude'] = 42.730953216553\n",
    "dfx.loc[dfx['Site'] == 'LTE-MP-LPP', 'Longitude'] = -70.842918395996\n",
    "dfx.loc[dfx['Site'] == 'LTE-MP-LPA', 'Latitude'] = 42.731742858887\n",
    "dfx.loc[dfx['Site'] == 'LTE-MP-LPA', 'Longitude'] = -70.842468261719\n",
    "\n",
    "fc_ma = geemap.pandas_to_ee(dfx, latitude = 'Latitude', longitude = 'Longitude')\n",
    "fc_va = geemap.pandas_to_ee(allplots_va, latitude = \"Latitude\", longitude = \"Longitude\")\n",
    "fc_ga = geemap.csv_to_ee(allplots_ga, latitude = \"Latitude\", longitude = \"Longitude\")\n",
    "\n",
    "Map.addLayer(fc_ma, {}, \"MA\")\n",
    "Map.addLayer(fc_va, {}, \"VA\")\n",
    "Map.addLayer(fc_ga, {}, \"GA\")\n",
    "\n",
    "Map"
   ]
  },
  {
   "cell_type": "code",
   "execution_count": 6,
   "id": "392f417f",
   "metadata": {},
   "outputs": [],
   "source": [
    "modis_ma = ee.ImageCollection('LANDSAT/LC08/C01/T1_SR').filterBounds(fc_ma) \\\n",
    "    .filter(ee.Filter.calendarRange(2012, 2012,'year'))\n",
    "\n",
    "modis_ma = ee.ImageCollection('LANDSAT/LC08/C01/T1_SR').filterBounds(fc_va)\n",
    "modis_ma = ee.ImageCollection('LANDSAT/LC08/C01/T1_SR').filterBounds(fc_ga)"
   ]
  },
  {
   "cell_type": "code",
   "execution_count": null,
   "id": "4d673bb1",
   "metadata": {},
   "outputs": [],
   "source": []
  }
 ],
 "metadata": {
  "kernelspec": {
   "display_name": "venv",
   "language": "python",
   "name": "venv"
  },
  "language_info": {
   "codemirror_mode": {
    "name": "ipython",
    "version": 3
   },
   "file_extension": ".py",
   "mimetype": "text/x-python",
   "name": "python",
   "nbconvert_exporter": "python",
   "pygments_lexer": "ipython3",
   "version": "3.9.12"
  }
 },
 "nbformat": 4,
 "nbformat_minor": 5
}
