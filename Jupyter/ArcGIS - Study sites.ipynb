{
 "cells": [
  {
   "cell_type": "code",
   "execution_count": 9,
   "id": "4b0b2848",
   "metadata": {},
   "outputs": [],
   "source": [
    "import arcpy, os, sys, traceback"
   ]
  },
  {
   "cell_type": "code",
   "execution_count": 24,
   "id": "8b974dc1",
   "metadata": {},
   "outputs": [],
   "source": [
    "# arcpy.env.workspace = \"E:/LTER layers\"\n",
    "\n",
    "arcpy.env.overwriteOutput = True\n",
    "aprx = arcpy.mp.ArcGISProject(r\"C:\\Users\\arj26323\\Documents\\Data\\LTER shapefiles\\LTER map\\Lter map.aprx\")\n",
    "lyt = aprx.listMaps(\"*\")[0]\n",
    "\n",
    "gce = r\"C:\\Users\\arj26323\\Documents\\Data\\LTER shapefiles\\GCE - Sapelo\\GCE_LTER_boundary.shp\"\n",
    "# arcpy.LayerToKML_conversion(gce, gcekml)"
   ]
  },
  {
   "cell_type": "code",
   "execution_count": null,
   "id": "100791b3",
   "metadata": {},
   "outputs": [],
   "source": []
  }
 ],
 "metadata": {
  "kernelspec": {
   "display_name": "Python 3",
   "language": "python",
   "name": "python3"
  },
  "language_info": {
   "codemirror_mode": {
    "name": "ipython",
    "version": 3
   },
   "file_extension": ".py",
   "mimetype": "text/x-python",
   "name": "python",
   "nbconvert_exporter": "python",
   "pygments_lexer": "ipython3",
   "version": "3.8.8"
  }
 },
 "nbformat": 4,
 "nbformat_minor": 5
}
