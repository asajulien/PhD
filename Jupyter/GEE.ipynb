{
 "cells": [
  {
   "cell_type": "code",
   "execution_count": 1,
   "id": "black-veteran",
   "metadata": {},
   "outputs": [],
   "source": [
    "import geemap\n",
    "import pandas as pd\n",
    "import numpy as np\n",
    "import matplotlib.pyplot as plt\n",
    "import pdb\n",
    "from IPython.display import display\n",
    "import ee\n",
    "import os"
   ]
  },
  {
   "cell_type": "code",
   "execution_count": 3,
   "id": "everyday-offer",
   "metadata": {
    "scrolled": true
   },
   "outputs": [
    {
     "data": {
      "text/html": [
       "<p>To authorize access needed by Earth Engine, open the following\n",
       "        URL in a web browser and follow the instructions:</p>\n",
       "        <p><a href=https://accounts.google.com/o/oauth2/auth?client_id=517222506229-vsmmajv00ul0bs7p89v5m89qs8eb9359.apps.googleusercontent.com&scope=https%3A%2F%2Fwww.googleapis.com%2Fauth%2Fearthengine+https%3A%2F%2Fwww.googleapis.com%2Fauth%2Fdevstorage.full_control&redirect_uri=urn%3Aietf%3Awg%3Aoauth%3A2.0%3Aoob&response_type=code&code_challenge=FAWXqyqXPMx7oJkoRFg8oLxGvxJjacXmWM3xLTRMl4U&code_challenge_method=S256>https://accounts.google.com/o/oauth2/auth?client_id=517222506229-vsmmajv00ul0bs7p89v5m89qs8eb9359.apps.googleusercontent.com&scope=https%3A%2F%2Fwww.googleapis.com%2Fauth%2Fearthengine+https%3A%2F%2Fwww.googleapis.com%2Fauth%2Fdevstorage.full_control&redirect_uri=urn%3Aietf%3Awg%3Aoauth%3A2.0%3Aoob&response_type=code&code_challenge=FAWXqyqXPMx7oJkoRFg8oLxGvxJjacXmWM3xLTRMl4U&code_challenge_method=S256</a></p>\n",
       "        <p>The authorization workflow will generate a code, which you\n",
       "        should paste in the box below</p>\n",
       "        "
      ],
      "text/plain": [
       "<IPython.core.display.HTML object>"
      ]
     },
     "metadata": {},
     "output_type": "display_data"
    },
    {
     "name": "stdout",
     "output_type": "stream",
     "text": [
      "Enter verification code: 4/1AY0e-g7BNjK5hG3-aB1Iwcmb2TQPqLH8vRCb58rzlFk73YXAl3pfkBw0OSM\n",
      "\n",
      "Successfully saved authorization token.\n"
     ]
    }
   ],
   "source": [
    "#ee.Authenticate()\n",
    "#geemap.update_package()"
   ]
  },
  {
   "cell_type": "code",
   "execution_count": null,
   "id": "alone-villa",
   "metadata": {},
   "outputs": [],
   "source": [
    "#converting javascript code to python - also checking to see if same issue occurs with map (weird white coloration):\n",
    "#js_snippet = \"\"\"\n",
    "#var image1 = ee.Image('LANDSAT/LT05/C01/T1_SR/LT05_014034_20000816'); \n",
    "#Map.addLayer(image1, {bands:['B4', 'B3', 'B2']}, 'ColorIR composite');\n",
    "#\"\"\"\n",
    "#geemap.js_snippet_to_py(js_snippet, add_new_cell = True, import_ee = False, import_geemap = False, show_map = False)"
   ]
  },
  {
   "cell_type": "code",
   "execution_count": 77,
   "id": "helpful-detective",
   "metadata": {},
   "outputs": [],
   "source": [
    "#list of plots in Virginia LTER dataset (not including broad creek)\n",
    "ee.Initialize()\n",
    "\n",
    "plot_pts = ee.FeatureCollection([\n",
    "  ee.Feature(ee.Geometry.Point([-75.372740, 37.903114]), {'site_id': 'Assateague'}), #Assateague\n",
    "  ee.Feature(ee.Geometry.Point([-75.671577, 37.625273]), {'site_id': 'Bellvue'}), #Bellvue\n",
    "  ee.Feature(ee.Geometry.Point([-75.876094, 37.395746]), {'site_id': 'Box_Tree'}), #Box_Tree\n",
    "  ee.Feature(ee.Geometry.Point([-75.652248, 37.709249]), {'site_id': 'Channel_Point'}), #Channel_Point\n",
    "  ee.Feature(ee.Geometry.Point([-75.942331, 37.175055]), {'site_id': 'Cushmans'}), #Cushmans\n",
    "  ee.Feature(ee.Geometry.Point([-75.940586, 37.167409]), {'site_id': 'Gator'}), #Gator\n",
    "  ee.Feature(ee.Geometry.Point([-75.814954, 37.485033]), {'site_id': 'Greens_Creek'}), #Greens_Creek\n",
    "  ee.Feature(ee.Geometry.Point([-75.672871, 37.451132]), {'site_id': 'Hog'}), #Hog\n",
    "  ee.Feature(ee.Geometry.Point([-75.900996, 37.346190]), {'site_id': 'Indiantown'}), #Indiantown\n",
    "  ee.Feature(ee.Geometry.Point([-75.558264, 37.784154]), {'site_id': 'Kegotank'}), #Kegotank\n",
    "  ee.Feature(ee.Geometry.Point([-75.861733, 37.416783]), {'site_id': 'Mill_Creek'}), #Mill_Creek\n",
    "  ee.Feature(ee.Geometry.Point([-75.822928, 37.468043]), {'site_id': 'N_Brownsville'}), #N_Brownsville\n",
    "  ee.Feature(ee.Geometry.Point([-75.929133, 37.287549]), {'site_id': 'Oyster'}), #Oyster\n",
    "  ee.Feature(ee.Geometry.Point([-75.940690, 37.181277]), {'site_id': 'Steelmans'}), #Steelmans\n",
    "  ee.Feature(ee.Geometry.Point([-75.447000, 37.880000]), {'site_id': 'Wallops'}), #Wallops\n",
    "  ee.Feature(ee.Geometry.Point([-75.819360, 37.481998]), {'site_id': 'Woodland_Farm'}) #Woodland_Farm\n",
    "])\n"
   ]
  },
  {
   "cell_type": "code",
   "execution_count": 100,
   "id": "vital-reform",
   "metadata": {},
   "outputs": [
    {
     "name": "stdout",
     "output_type": "stream",
     "text": [
      "37\n"
     ]
    }
   ],
   "source": [
    "#landsat 5 surface reflectance images\n",
    "\n",
    "roi = ee.Geometry.Point(-75.876094, 37.395746)\n",
    "\n",
    "filteredCollectionLS5 = ee.ImageCollection('LANDSAT/LT05/C01/T1_SR') \\\n",
    "    .filter(ee.Filter.calendarRange(1999, 2017,'year')) \\\n",
    "    .filter(ee.Filter.calendarRange(8, 9,'month')) \\\n",
    "    .filterBounds(plot_pts) \\\n",
    "    .filterMetadata('CLOUD_COVER', 'less_than', 100) \\\n",
    "    .sort('CLOUD_COVER', True)\n",
    "\n",
    "vis_param = {'min': 0, \n",
    "             'max': 2000, \n",
    "             'bands': ['B4', 'B3', 'B2'], \n",
    "             'gamma': 1.5}\n",
    "\n",
    "print(filteredCollectionLS5.size().getInfo())\n",
    "image0 = filteredCollectionLS5.first()\n",
    "#print(image0.getInfo())"
   ]
  },
  {
   "cell_type": "code",
   "execution_count": 19,
   "id": "deadly-africa",
   "metadata": {},
   "outputs": [
    {
     "data": {
      "text/plain": [
       "['LANDSAT/LT05/C01/T1_SR/LT05_014034_20060801',\n",
       " 'LANDSAT/LT05/C01/T1_SR/LT05_014034_20070804',\n",
       " 'LANDSAT/LT05/C01/T1_SR/LT05_014034_20070905',\n",
       " 'LANDSAT/LT05/C01/T1_SR/LT05_014034_20110831',\n",
       " 'LANDSAT/LT05/C01/T1_SR/LT05_014034_20030926',\n",
       " 'LANDSAT/LT05/C01/T1_SR/LT05_014034_20060918',\n",
       " 'LANDSAT/LT05/C01/T1_SR/LT05_014034_20010803',\n",
       " 'LANDSAT/LT05/C01/T1_SR/LT05_014034_20040912',\n",
       " 'LANDSAT/LT05/C01/T1_SR/LT05_014034_20050814',\n",
       " 'LANDSAT/LT05/C01/T1_SR/LT05_014034_20090809',\n",
       " 'LANDSAT/LT05/C01/T1_SR/LT05_014034_20030825',\n",
       " 'LANDSAT/LT05/C01/T1_SR/LT05_014034_20040811',\n",
       " 'LANDSAT/LT05/C01/T1_SR/LT05_014034_20040827',\n",
       " 'LANDSAT/LT05/C01/T1_SR/LT05_014034_20080822',\n",
       " 'LANDSAT/LT05/C01/T1_SR/LT05_014034_20110815',\n",
       " 'LANDSAT/LT05/C01/T1_SR/LT05_014034_20090825',\n",
       " 'LANDSAT/LT05/C01/T1_SR/LT05_014034_20020907',\n",
       " 'LANDSAT/LT05/C01/T1_SR/LT05_014034_20100828',\n",
       " 'LANDSAT/LT05/C01/T1_SR/LT05_014034_20000901',\n",
       " 'LANDSAT/LT05/C01/T1_SR/LT05_014034_20000816',\n",
       " 'LANDSAT/LT05/C01/T1_SR/LT05_014034_20100913',\n",
       " 'LANDSAT/LT05/C01/T1_SR/LT05_014034_20020822',\n",
       " 'LANDSAT/LT05/C01/T1_SR/LT05_014034_20060817',\n",
       " 'LANDSAT/LT05/C01/T1_SR/LT05_014034_20030910',\n",
       " 'LANDSAT/LT05/C01/T1_SR/LT05_014034_20080907',\n",
       " 'LANDSAT/LT05/C01/T1_SR/LT05_014034_20000917',\n",
       " 'LANDSAT/LT05/C01/T1_SR/LT05_014034_20020806',\n",
       " 'LANDSAT/LT05/C01/T1_SR/LT05_014034_20080923',\n",
       " 'LANDSAT/LT05/C01/T1_SR/LT05_014034_20010904',\n",
       " 'LANDSAT/LT05/C01/T1_SR/LT05_014034_20080806',\n",
       " 'LANDSAT/LT05/C01/T1_SR/LT05_014034_20110916',\n",
       " 'LANDSAT/LT05/C01/T1_SR/LT05_014034_20050915',\n",
       " 'LANDSAT/LT05/C01/T1_SR/LT05_014034_20010819',\n",
       " 'LANDSAT/LT05/C01/T1_SR/LT05_014034_20070820',\n",
       " 'LANDSAT/LT05/C01/T1_SR/LT05_014034_20100812',\n",
       " 'LANDSAT/LT05/C01/T1_SR/LT05_014034_20020923',\n",
       " 'LANDSAT/LT05/C01/T1_SR/LT05_014034_20050830']"
      ]
     },
     "execution_count": 19,
     "metadata": {},
     "output_type": "execute_result"
    }
   ],
   "source": [
    "#get list of image ids in filtered collection\n",
    "filteredCollectionLS5.aggregate_array('system:id').getInfo()\n",
    "\n",
    "#figure out image dates!!"
   ]
  },
  {
   "cell_type": "code",
   "execution_count": 96,
   "id": "6498160a",
   "metadata": {},
   "outputs": [
    {
     "name": "stdout",
     "output_type": "stream",
     "text": [
      "CLOUD_COVER:  24\n"
     ]
    },
    {
     "data": {
      "text/plain": [
       "{'CLOUD_COVER': 24,\n",
       " 'CLOUD_COVER_LAND': 11,\n",
       " 'EARTH_SUN_DISTANCE': 1.012384,\n",
       " 'ESPA_VERSION': '2_19_0c',\n",
       " 'GEOMETRIC_RMSE_MODEL': 5.246,\n",
       " 'GEOMETRIC_RMSE_MODEL_X': 2.992,\n",
       " 'GEOMETRIC_RMSE_MODEL_Y': 4.309,\n",
       " 'IMAGE_DATE': '2006-08-17',\n",
       " 'IMAGE_QUALITY': 9,\n",
       " 'LANDSAT_ID': 'LT05_L1TP_014034_20060817_20160910_01_T1',\n",
       " 'LEVEL1_PRODUCTION_DATE': 1473520194000,\n",
       " 'NOMINAL_SCALE': 30,\n",
       " 'PIXEL_QA_VERSION': 'generate_pixel_qa_1.5.0',\n",
       " 'SATELLITE': 'LANDSAT_5',\n",
       " 'SENSING_TIME': '2006-08-17T15:34:06.9000810Z',\n",
       " 'SOLAR_AZIMUTH_ANGLE': 133.230423,\n",
       " 'SOLAR_ZENITH_ANGLE': 31.816601,\n",
       " 'SR_APP_VERSION': 'LEDAPS_3.2.0',\n",
       " 'WRS_PATH': 14,\n",
       " 'WRS_ROW': 34,\n",
       " 'system:asset_size': '288.941016 MB',\n",
       " 'system:band_names': ['B1',\n",
       "  'B2',\n",
       "  'B3',\n",
       "  'B4',\n",
       "  'B5',\n",
       "  'B6',\n",
       "  'B7',\n",
       "  'sr_atmos_opacity',\n",
       "  'sr_cloud_qa',\n",
       "  'pixel_qa',\n",
       "  'radsat_qa'],\n",
       " 'system:id': 'LANDSAT/LT05/C01/T1_SR/LT05_014034_20060817',\n",
       " 'system:index': 'LT05_014034_20060817',\n",
       " 'system:time_end': '2006-08-17 15:34:06',\n",
       " 'system:time_start': '2006-08-17 15:34:06',\n",
       " 'system:version': 1521655428660334}"
      ]
     },
     "execution_count": 96,
     "metadata": {},
     "output_type": "execute_result"
    }
   ],
   "source": [
    "#add image number for each of the images in the filtered collection - closer to 8/15 is best\n",
    "image00 = ee.Image('LANDSAT/LT05/C01/T1_SR/LT05_014034_20000901') #pushed to later date bc clouds\n",
    "image01 = ee.Image('LANDSAT/LT05/C01/T1_SR/LT05_014034_20010803') #clouds over some points\n",
    "image02 = ee.Image('LANDSAT/LT05/C01/T1_SR/LT05_014034_20020822') #CLOUDS - make composite??? how\n",
    "image03 = ee.Image('LANDSAT/LT05/C01/T1_SR/LT05_014034_20030825') #clouds?\n",
    "image04 = ee.Image('LANDSAT/LT05/C01/T1_SR/LT05_014034_20040811')\n",
    "image05 = ee.Image('LANDSAT/LT05/C01/T1_SR/LT05_014034_20050814')\n",
    "image06 = ee.Image('LANDSAT/LT05/C01/T1_SR/LT05_014034_20060817') #image0 is 2006 - lower cloud coverage, maybe use?\n",
    "image07 = ee.Image('LANDSAT/LT05/C01/T1_SR/LT05_014034_20070804')\n",
    "image08 = ee.Image('LANDSAT/LT05/C01/T1_SR/LT05_014034_20080822')\n",
    "image09 = ee.Image('LANDSAT/LT05/C01/T1_SR/LT05_014034_20090809')\n",
    "image10 = ee.Image('LANDSAT/LT05/C01/T1_SR/LT05_014034_20100828') #CLOUDS?\n",
    "image11 = ee.Image('LANDSAT/LT05/C01/T1_SR/LT05_014034_20110815')\n",
    "\n",
    "#image12 = ee.Image()\n",
    "#image13 = ee.Image()\n",
    "#landsat 8?\n",
    "\n",
    "#determining cloud cover\n",
    "cloudiness = image06.get('CLOUD_COVER')\n",
    "print('CLOUD_COVER: ', cloudiness.getInfo())\n",
    "props = geemap.image_props(image06)\n",
    "props.getInfo()\n"
   ]
  },
  {
   "cell_type": "code",
   "execution_count": null,
   "id": "293cba10",
   "metadata": {},
   "outputs": [],
   "source": [
    "#Cloud masking images 01-11"
   ]
  },
  {
   "cell_type": "code",
   "execution_count": 79,
   "id": "a3f921a0",
   "metadata": {},
   "outputs": [
    {
     "data": {
      "application/vnd.jupyter.widget-view+json": {
       "model_id": "7e4e4ab2361f47bd963eb1669de0475b",
       "version_major": 2,
       "version_minor": 0
      },
      "text/plain": [
       "Map(center=[37.485005614872954, -75.76448856851104], controls=(WidgetControl(options=['position'], widget=HBox…"
      ]
     },
     "metadata": {},
     "output_type": "display_data"
    }
   ],
   "source": [
    "#Mapping\n",
    "#Add Earth Engine dataset\n",
    "Map = geemap.Map(center=[40,-100], zoom=4)\n",
    "\n",
    "Map.addLayer(image07, vis_param, \"Landsat5SR\")\n",
    "\n",
    "Map.centerObject(plot_pts, 10)\n",
    "Map.set_plot_options(add_marker_cluster = True) #not sure what this does\n",
    "\n",
    "#calculate ndvi\n",
    "ndvi = image00.normalizedDifference(['B4', 'B3']).rename('NDVI')\n",
    "vis_ndvi = {'min': -1, \n",
    "             'max': 1, \n",
    "             'palette': ['blue', 'white', 'green']}\n",
    "#Map.addLayer(ndvi, vis_ndvi, \"NDVI\")\n",
    "\n",
    "#add feature collection points for each plot\n",
    "Map.addLayer(plot_pts)\n",
    "\n",
    "Map"
   ]
  },
  {
   "cell_type": "code",
   "execution_count": 11,
   "id": "6679456c",
   "metadata": {
    "scrolled": false
   },
   "outputs": [],
   "source": [
    "#extracting raster values for points; \n",
    "#from: https://developers.google.com/earth-engine/tutorials/community/extract-raster-values-for-points\n",
    "#buffering points\n"
   ]
  },
  {
   "cell_type": "code",
   "execution_count": 70,
   "id": "8c47fcaf",
   "metadata": {},
   "outputs": [
    {
     "name": "stdout",
     "output_type": "stream",
     "text": [
      "The image must be an instance of ee.Image.\n"
     ]
    }
   ],
   "source": [
    "#Exporting pixel values - any way to do this without manually selecting \n",
    "in_fc = plot_pts\n",
    "\n",
    "#export data\n",
    "out_dir = os.path.expanduser('~/Downloads')\n",
    "out_csv = os.path.join(out_dir, 'ndvipoints00.csv')\n",
    "#out_shp = os.path.join(out_dir, 'points.shp') #shapefile exporting\n",
    "geemap.extract_values_to_points(in_fc, image00, out_csv)"
   ]
  },
  {
   "cell_type": "code",
   "execution_count": 118,
   "id": "58b3c209",
   "metadata": {},
   "outputs": [],
   "source": [
    "\n",
    "# This example demonstrates the use of the pixel QA band to mask\n",
    "# clouds in surface reflectance (SR) data.  It is suitable\n",
    "# for use with any of the Landsat SR datasets.\n",
    "\n",
    "# Function to cloud mask from the pixel_qa band of Landsat 8 SR data.\n",
    "def maskL5sr(image):\n",
    "  # Bits 3 and 5 are cloud shadow and cloud, respectively.\n",
    "  cloudShadowBitMask = 1 << 3\n",
    "  cloudsBitMask = 1 << 5\n",
    "\n",
    "  # Get the pixel QA band.\n",
    "  qa = image.select('pixel_qa')\n",
    "\n",
    "  # Both flags should be set to zero, indicating clear conditions.\n",
    "  mask = qa.bitwiseAnd(cloudShadowBitMask).eq(0) \\\n",
    "      .And(qa.bitwiseAnd(cloudsBitMask).eq(0))\n",
    "\n",
    "  # Return the masked image, scaled to reflectance, without the QA bands.\n",
    "  return image.updateMask(mask).divide(10000) \\\n",
    "      .select(\"B[0-9]*\") \\\n",
    "      .copyProperties(image, [\"system:time_start\"])\n",
    "\n",
    "# Map the function over image collection\n",
    "collection = filteredCollectionLS5 \\\n",
    "    .map(maskL5sr)\n",
    "\n",
    "composite = collection.median()\n",
    "\n",
    "# Display the results.\n",
    "Map.addLayer(composite, {'bands': ['B4',  'B3',  'B2'], 'min': 0, 'max': 0.3}, \"cloudfree composite\")\n"
   ]
  },
  {
   "cell_type": "code",
   "execution_count": 129,
   "id": "fa2ae78a",
   "metadata": {},
   "outputs": [],
   "source": [
    "masked00 = ee.Image(maskL5sr(image00))\n",
    "Map.addLayer(masked00, {'bands': ['B4',  'B3',  'B2'], 'min': 0, 'max': 0.3}, \"2000 masked\") #isn't perfect but good\n",
    "Map.addLayer(image00, vis_param, \"2000 unmasked\")\n",
    "Map.addLayer(collection.first(), {'bands': ['B4',  'B3',  'B2'], 'min': 0, 'max': 0.3}, \"masked???\")\n"
   ]
  },
  {
   "cell_type": "code",
   "execution_count": 128,
   "id": "f44cc185",
   "metadata": {},
   "outputs": [
    {
     "name": "stdout",
     "output_type": "stream",
     "text": [
      "hi\n"
     ]
    }
   ],
   "source": [
    "print(\"hi\")"
   ]
  },
  {
   "cell_type": "code",
   "execution_count": null,
   "id": "348d5ca0",
   "metadata": {},
   "outputs": [],
   "source": []
  }
 ],
 "metadata": {
  "kernelspec": {
   "display_name": "feesh",
   "language": "python",
   "name": "feesh"
  },
  "language_info": {
   "codemirror_mode": {
    "name": "ipython",
    "version": 3
   },
   "file_extension": ".py",
   "mimetype": "text/x-python",
   "name": "python",
   "nbconvert_exporter": "python",
   "pygments_lexer": "ipython3",
   "version": "3.9.4"
  }
 },
 "nbformat": 4,
 "nbformat_minor": 5
}
