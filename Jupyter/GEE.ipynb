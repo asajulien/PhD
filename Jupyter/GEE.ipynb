{
 "cells": [
  {
   "cell_type": "code",
   "execution_count": 1,
   "id": "black-veteran",
   "metadata": {},
   "outputs": [],
   "source": [
    "import geemap\n",
    "import pandas as pd\n",
    "import numpy as np\n",
    "import matplotlib.pyplot as plt\n",
    "import pdb\n",
    "from IPython.display import display\n",
    "import ee\n",
    "import os"
   ]
  },
  {
   "cell_type": "code",
   "execution_count": 15,
   "id": "everyday-offer",
   "metadata": {
    "scrolled": true
   },
   "outputs": [
    {
     "data": {
      "text/html": [
       "<p>To authorize access needed by Earth Engine, open the following\n",
       "        URL in a web browser and follow the instructions:</p>\n",
       "        <p><a href=https://accounts.google.com/o/oauth2/auth?client_id=517222506229-vsmmajv00ul0bs7p89v5m89qs8eb9359.apps.googleusercontent.com&scope=https%3A%2F%2Fwww.googleapis.com%2Fauth%2Fearthengine+https%3A%2F%2Fwww.googleapis.com%2Fauth%2Fdevstorage.full_control&redirect_uri=urn%3Aietf%3Awg%3Aoauth%3A2.0%3Aoob&response_type=code&code_challenge=QCPV0WBqAMM2sjHb2vprii3Oh2DP5oqSbtvdPR9QgL4&code_challenge_method=S256>https://accounts.google.com/o/oauth2/auth?client_id=517222506229-vsmmajv00ul0bs7p89v5m89qs8eb9359.apps.googleusercontent.com&scope=https%3A%2F%2Fwww.googleapis.com%2Fauth%2Fearthengine+https%3A%2F%2Fwww.googleapis.com%2Fauth%2Fdevstorage.full_control&redirect_uri=urn%3Aietf%3Awg%3Aoauth%3A2.0%3Aoob&response_type=code&code_challenge=QCPV0WBqAMM2sjHb2vprii3Oh2DP5oqSbtvdPR9QgL4&code_challenge_method=S256</a></p>\n",
       "        <p>The authorization workflow will generate a code, which you\n",
       "        should paste in the box below</p>\n",
       "        "
      ],
      "text/plain": [
       "<IPython.core.display.HTML object>"
      ]
     },
     "metadata": {},
     "output_type": "display_data"
    },
    {
     "name": "stdout",
     "output_type": "stream",
     "text": [
      "Enter verification code: 4/1AY0e-g6yZ1pT0HkOg1nazV4AMY5B8uvsIQd2Q-e2TPfOe3YirdKtAXTelrs\n",
      "\n",
      "Successfully saved authorization token.\n"
     ]
    }
   ],
   "source": [
    "\n",
    "#ee.Authenticate()\n"
   ]
  },
  {
   "cell_type": "code",
   "execution_count": 2,
   "id": "decimal-gambling",
   "metadata": {},
   "outputs": [],
   "source": [
    "# Add Earth Engine dataset\n",
    "Map = geemap.Map(center=[40,-100], zoom=4)"
   ]
  },
  {
   "cell_type": "code",
   "execution_count": null,
   "id": "alone-villa",
   "metadata": {},
   "outputs": [],
   "source": []
  },
  {
   "cell_type": "code",
   "execution_count": 17,
   "id": "brilliant-johnston",
   "metadata": {},
   "outputs": [],
   "source": []
  },
  {
   "cell_type": "code",
   "execution_count": 18,
   "id": "helpful-detective",
   "metadata": {},
   "outputs": [],
   "source": [
    "#Map.addLayer(dem, dem_vis, 'SRTM DEM', True, 0.5)\n",
    "#Map.addLayer(landcover, {}, 'Land cover')\n",
    "#Map.addLayer(landsat7, landsat_vis, 'Landsat 7')\n",
    "#Map.addLayer(states, {}, \"US States\")"
   ]
  },
  {
   "cell_type": "code",
   "execution_count": 3,
   "id": "vital-reform",
   "metadata": {},
   "outputs": [
    {
     "name": "stdout",
     "output_type": "stream",
     "text": [
      "1\n"
     ]
    },
    {
     "data": {
      "application/vnd.jupyter.widget-view+json": {
       "model_id": "3c4c29bf28fc47459b11f3dbcb09793e",
       "version_major": 2,
       "version_minor": 0
      },
      "text/plain": [
       "Map(center=[37.487031596916054, -75.81430378610305], controls=(WidgetControl(options=['position'], widget=HBox…"
      ]
     },
     "metadata": {},
     "output_type": "display_data"
    }
   ],
   "source": [
    "#landsat 5 surface reflectance images\n",
    "roi = ee.Geometry.Point(-75.876094, 37.395746)\n",
    "\n",
    "filteredCollectionLS5 = ee.ImageCollection('LANDSAT/LT05/C01/T1_SR') \\\n",
    "    .filterDate('2005-08-01', '2005-09-01') \\\n",
    "    .filterBounds(roi) \\\n",
    "    .filterMetadata('CLOUD_COVER', 'less_than', 50) \\\n",
    "    .sort('CLOUD_COVER', True)\n",
    "\n",
    "vis_param = {'min': 0, \n",
    "             'max': 2000, \n",
    "             'bands': ['B4', 'B3', 'B2'], \n",
    "             'gamma': 1.5}\n",
    "\n",
    "print(filteredCollectionLS5.size().getInfo())\n",
    "image2 = filteredCollectionLS5.first()\n",
    "#print(image2.getInfo())\n",
    "Map.addLayer(image2, vis_param, \"Landsat5SR\")\n",
    "Map.centerObject(image2, 6)\n",
    "Map.set_plot_options(add_marker_cluster=True) #not sure what this does\n",
    "Map\n",
    "\n"
   ]
  },
  {
   "cell_type": "code",
   "execution_count": 33,
   "id": "satisfied-helicopter",
   "metadata": {},
   "outputs": [
    {
     "name": "stdout",
     "output_type": "stream",
     "text": [
      "CLOUD_COVER:  5\n"
     ]
    }
   ],
   "source": [
    "#determining cloud cover\n",
    "cloudiness = image2.get('CLOUD_COVER')\n",
    "print('CLOUD_COVER: ', cloudiness.getInfo())"
   ]
  },
  {
   "cell_type": "code",
   "execution_count": 88,
   "id": "commercial-routine",
   "metadata": {},
   "outputs": [
    {
     "name": "stdout",
     "output_type": "stream",
     "text": [
      "The csv file has been saved to: /Users/asajulien 1/Downloads/points.csv\n"
     ]
    }
   ],
   "source": [
    "#Exporting pixel values - spend more time with this\n",
    "\n",
    "#export data\n",
    "out_dir = os.path.expanduser('~/Downloads')\n",
    "out_csv = os.path.join(out_dir, 'points.csv')\n",
    "#out_shp = os.path.join(out_dir, 'points.shp') #shapefile exporting\n",
    "#Map.extract_values_to_points(out_csv)\n",
    "\n"
   ]
  },
  {
   "cell_type": "code",
   "execution_count": 30,
   "id": "deadly-africa",
   "metadata": {},
   "outputs": [],
   "source": [
    "#converting javascript code to python - also checking to see if same issue occurs with map (weird white coloration)\n",
    "\n",
    "js_snippet = \"\"\"\n",
    "\n",
    "var image1 = ee.Image('LANDSAT/LT05/C01/T1_SR/LT05_014034_20000816'); \n",
    "\n",
    "Map.addLayer(image1, {bands:['B4', 'B3', 'B2']}, 'ColorIR composite');\n",
    "\n",
    "\"\"\"\n",
    "\n",
    "geemap.js_snippet_to_py(js_snippet, add_new_cell = True, import_ee = True, import_geemap = True, show_map = True)"
   ]
  },
  {
   "cell_type": "code",
   "execution_count": 31,
   "id": "6679456c",
   "metadata": {
    "scrolled": false
   },
   "outputs": [
    {
     "data": {
      "application/vnd.jupyter.widget-view+json": {
       "model_id": "e5f45fb9f2f246faaf47eed34e2a37ec",
       "version_major": 2,
       "version_minor": 0
      },
      "text/plain": [
       "Map(center=[40, -100], controls=(WidgetControl(options=['position'], widget=HBox(children=(ToggleButton(value=…"
      ]
     },
     "metadata": {},
     "output_type": "display_data"
    }
   ],
   "source": [
    "import ee\n",
    "import geemap\n",
    "\n",
    "Map = geemap.Map()\n",
    "\n",
    "image1 = ee.Image('LANDSAT/LT05/C01/T1_SR/LT05_014034_20000816')\n",
    "\n",
    "Map.addLayer(image1, {'bands':['B4', 'B3', 'B2']}, 'ColorIR composite')\n",
    "Map\n"
   ]
  },
  {
   "cell_type": "code",
   "execution_count": null,
   "id": "8c47fcaf",
   "metadata": {},
   "outputs": [],
   "source": [
    "\n"
   ]
  },
  {
   "cell_type": "code",
   "execution_count": 24,
   "id": "9b642764",
   "metadata": {},
   "outputs": [
    {
     "data": {
      "application/vnd.jupyter.widget-view+json": {
       "model_id": "882a32a1bb8a41efb411d18d06b63a38",
       "version_major": 2,
       "version_minor": 0
      },
      "text/plain": [
       "Map(center=[40, -100], controls=(WidgetControl(options=['position'], widget=HBox(children=(ToggleButton(value=…"
      ]
     },
     "metadata": {},
     "output_type": "display_data"
    }
   ],
   "source": []
  },
  {
   "cell_type": "code",
   "execution_count": null,
   "id": "651f7172",
   "metadata": {},
   "outputs": [],
   "source": []
  }
 ],
 "metadata": {
  "kernelspec": {
   "display_name": "feesh",
   "language": "python",
   "name": "feesh"
  },
  "language_info": {
   "codemirror_mode": {
    "name": "ipython",
    "version": 3
   },
   "file_extension": ".py",
   "mimetype": "text/x-python",
   "name": "python",
   "nbconvert_exporter": "python",
   "pygments_lexer": "ipython3",
   "version": "3.9.4"
  }
 },
 "nbformat": 4,
 "nbformat_minor": 5
}
