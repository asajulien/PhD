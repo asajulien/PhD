{
 "cells": [
  {
   "cell_type": "code",
   "execution_count": 79,
   "id": "black-veteran",
   "metadata": {},
   "outputs": [],
   "source": [
    "import pandas as pd\n",
    "import numpy as np\n",
    "import matplotlib.pyplot as plt\n",
    "import pdb\n",
    "from IPython.display import display\n",
    "import ee\n",
    "import geemap\n",
    "import os"
   ]
  },
  {
   "cell_type": "code",
   "execution_count": 80,
   "id": "everyday-offer",
   "metadata": {
    "scrolled": true
   },
   "outputs": [
    {
     "data": {
      "text/html": [
       "<p>To authorize access needed by Earth Engine, open the following\n",
       "        URL in a web browser and follow the instructions:</p>\n",
       "        <p><a href=https://accounts.google.com/o/oauth2/auth?client_id=517222506229-vsmmajv00ul0bs7p89v5m89qs8eb9359.apps.googleusercontent.com&scope=https%3A%2F%2Fwww.googleapis.com%2Fauth%2Fearthengine+https%3A%2F%2Fwww.googleapis.com%2Fauth%2Fdevstorage.full_control&redirect_uri=urn%3Aietf%3Awg%3Aoauth%3A2.0%3Aoob&response_type=code&code_challenge=VmwioHjrwgrg41u69AZG3llc2RinOIR1VxId4Ps61zk&code_challenge_method=S256>https://accounts.google.com/o/oauth2/auth?client_id=517222506229-vsmmajv00ul0bs7p89v5m89qs8eb9359.apps.googleusercontent.com&scope=https%3A%2F%2Fwww.googleapis.com%2Fauth%2Fearthengine+https%3A%2F%2Fwww.googleapis.com%2Fauth%2Fdevstorage.full_control&redirect_uri=urn%3Aietf%3Awg%3Aoauth%3A2.0%3Aoob&response_type=code&code_challenge=VmwioHjrwgrg41u69AZG3llc2RinOIR1VxId4Ps61zk&code_challenge_method=S256</a></p>\n",
       "        <p>The authorization workflow will generate a code, which you\n",
       "        should paste in the box below</p>\n",
       "        "
      ],
      "text/plain": [
       "<IPython.core.display.HTML object>"
      ]
     },
     "metadata": {},
     "output_type": "display_data"
    },
    {
     "name": "stdout",
     "output_type": "stream",
     "text": [
      "Enter verification code: 4/1AY0e-g6i93-NGk3a5sIGZYVW19qH0v8yDA6LLrIzYlodv4iNYDatrIjIVdU\n",
      "\n",
      "Successfully saved authorization token.\n"
     ]
    }
   ],
   "source": [
    "\n",
    "ee.Authenticate()\n"
   ]
  },
  {
   "cell_type": "code",
   "execution_count": 81,
   "id": "decimal-gambling",
   "metadata": {},
   "outputs": [],
   "source": [
    "# Add Earth Engine dataset\n",
    "Map = geemap.Map(center=[40,-100], zoom=4)"
   ]
  },
  {
   "cell_type": "code",
   "execution_count": null,
   "id": "alone-villa",
   "metadata": {},
   "outputs": [],
   "source": []
  },
  {
   "cell_type": "code",
   "execution_count": 82,
   "id": "brilliant-johnston",
   "metadata": {},
   "outputs": [],
   "source": [
    "dem_vis = {\n",
    "'min': 0,\n",
    "'max': 4000,\n",
    "'palette': ['006633', 'E5FFCC', '662A00', 'D8D8D8', 'F5F5F5']}\n",
    "\n",
    "truecolor_vis = {\n",
    "    'min': 20,\n",
    "    'max': 200,\n",
    "    'bands': ['B3', 'B2', 'B1']\n",
    "}\n",
    "\n",
    "falsecolor_vis = {\n",
    "    'min': 20,\n",
    "    'max': 200,\n",
    "    'bands': ['B4', 'B3', 'B2']\n",
    "}"
   ]
  },
  {
   "cell_type": "code",
   "execution_count": 60,
   "id": "helpful-detective",
   "metadata": {},
   "outputs": [],
   "source": [
    "#Map.addLayer(dem, dem_vis, 'SRTM DEM', True, 0.5)\n",
    "#Map.addLayer(landcover, {}, 'Land cover')\n",
    "#Map.addLayer(landsat7, landsat_vis, 'Landsat 7')\n",
    "#Map.addLayer(states, {}, \"US States\")"
   ]
  },
  {
   "cell_type": "code",
   "execution_count": 83,
   "id": "vital-reform",
   "metadata": {},
   "outputs": [
    {
     "name": "stdout",
     "output_type": "stream",
     "text": [
      "3\n"
     ]
    },
    {
     "data": {
      "application/vnd.jupyter.widget-view+json": {
       "model_id": "224eef49efa240159d2bf73d1b827f46",
       "version_major": 2,
       "version_minor": 0
      },
      "text/plain": [
       "Map(center=[37.485848283528206, -75.80940904710519], controls=(WidgetControl(options=['position'], widget=HBox…"
      ]
     },
     "metadata": {},
     "output_type": "display_data"
    }
   ],
   "source": [
    "roi = ee.Geometry.Point(-75.876094, 37.395746)\n",
    "\n",
    "filteredCollectionLS5 = ee.ImageCollection('LANDSAT/LT05/C01/T1_SR') \\\n",
    "    .filterDate('2000-08-01', '2000-09-30') \\\n",
    "    .filterBounds(roi) \\\n",
    "    .filterMetadata('CLOUD_COVER', 'less_than', 50) \\\n",
    "    .sort('CLOUD_COVER', True)\n",
    "\n",
    "print(filteredCollectionLS5.size().getInfo())\n",
    "image2 = filteredCollectionLS5.first()\n",
    "Map.addLayer(image2, truecolor_vis, \"Landsat5SR\")\n",
    "Map.centerObject(image2, 6)\n",
    "Map.set_plot_options(add_marker_cluster=True) #not sure what this does\n",
    "Map\n",
    "\n"
   ]
  },
  {
   "cell_type": "code",
   "execution_count": 84,
   "id": "satisfied-helicopter",
   "metadata": {},
   "outputs": [
    {
     "name": "stdout",
     "output_type": "stream",
     "text": [
      "CLOUD_COVER:  18\n"
     ]
    }
   ],
   "source": [
    "#determining cloud cover\n",
    "cloudiness = image2.get('CLOUD_COVER')\n",
    "print('CLOUD_COVER: ', cloudiness.getInfo())"
   ]
  },
  {
   "cell_type": "code",
   "execution_count": 88,
   "id": "commercial-routine",
   "metadata": {},
   "outputs": [
    {
     "name": "stdout",
     "output_type": "stream",
     "text": [
      "The csv file has been saved to: /Users/asajulien 1/Downloads/points.csv\n"
     ]
    }
   ],
   "source": [
    "#Exporting pixel values - spend more time with this\n",
    "\n",
    "#export data\n",
    "out_dir = os.path.expanduser('~/Downloads')\n",
    "out_csv = os.path.join(out_dir, 'points.csv')\n",
    "#out_shp = os.path.join(out_dir, 'points.shp') #shapefile exporting\n",
    "Map.extract_values_to_points(out_csv)\n",
    "\n"
   ]
  },
  {
   "cell_type": "code",
   "execution_count": null,
   "id": "deadly-africa",
   "metadata": {},
   "outputs": [],
   "source": []
  }
 ],
 "metadata": {
  "kernelspec": {
   "display_name": "Python 3",
   "language": "python",
   "name": "python3"
  },
  "language_info": {
   "codemirror_mode": {
    "name": "ipython",
    "version": 3
   },
   "file_extension": ".py",
   "mimetype": "text/x-python",
   "name": "python",
   "nbconvert_exporter": "python",
   "pygments_lexer": "ipython3",
   "version": "3.8.2"
  }
 },
 "nbformat": 4,
 "nbformat_minor": 5
}
