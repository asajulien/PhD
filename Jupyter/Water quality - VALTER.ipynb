{
 "cells": [
  {
   "cell_type": "code",
   "execution_count": 2,
   "id": "f72d1d64",
   "metadata": {},
   "outputs": [],
   "source": [
    "import pandas as pd\n",
    "import numpy as np\n",
    "import matplotlib.pyplot as plt\n",
    "import pdb\n",
    "from IPython.display import display\n",
    "import os\n",
    "import seaborn as sns\n",
    "import statsmodels.formula.api as sm\n",
    "from numpy.polynomial.polynomial import polyfit"
   ]
  },
  {
   "cell_type": "code",
   "execution_count": 3,
   "id": "566a1134",
   "metadata": {},
   "outputs": [
    {
     "data": {
      "text/plain": [
       "193.96"
      ]
     },
     "execution_count": 3,
     "metadata": {},
     "output_type": "execute_result"
    }
   ],
   "source": [
    "##read data - biomass, Virginia LTER\n",
    "df = pd.read_csv('/Users/asariversjulien/Documents/Data/CSV files/Virginia_ChristianBlum.csv', skiprows=21)\n",
    "df = df[df['speciesName'] == 'Spartina alterniflora']\n",
    "df = df[['EOYBYear', 'collectDate', 'marshName', 'siteName', 'marshRegion', 'monitoringPurpose', 'Transect', 'Replicate', 'speciesName', 'liveMass', 'deadMass', 'totalMass', 'latitude', 'longitude']]\n",
    "df['collectDate'] = pd.to_datetime(df['collectDate'])\n",
    "\n",
    "##water quality dataset, Virginia LTER\n",
    "df_wq = pd.read_csv('/Users/asariversjulien/Documents/Data/CSV files/Virginia_WQ.csv', skiprows=21)\n",
    "df_wq['measureDate'] = pd.to_datetime(df_wq['measureDate'])\n",
    "\n",
    "max(df['liveMass'])\n",
    "\n",
    "#df\n",
    "##IMPORTANT NOTE: 2017 data does not distinguish live from dead biomass due to a freezer failure"
   ]
  },
  {
   "cell_type": "code",
   "execution_count": 5,
   "id": "109d8edf",
   "metadata": {},
   "outputs": [
    {
     "data": {
      "text/html": [
       "<div>\n",
       "<style scoped>\n",
       "    .dataframe tbody tr th:only-of-type {\n",
       "        vertical-align: middle;\n",
       "    }\n",
       "\n",
       "    .dataframe tbody tr th {\n",
       "        vertical-align: top;\n",
       "    }\n",
       "\n",
       "    .dataframe thead th {\n",
       "        text-align: right;\n",
       "    }\n",
       "</style>\n",
       "<table border=\"1\" class=\"dataframe\">\n",
       "  <thead>\n",
       "    <tr style=\"text-align: right;\">\n",
       "      <th></th>\n",
       "      <th>Year</th>\n",
       "      <th>no3_no2</th>\n",
       "    </tr>\n",
       "  </thead>\n",
       "  <tbody>\n",
       "    <tr>\n",
       "      <th>0</th>\n",
       "      <td>1992</td>\n",
       "      <td>2.601233</td>\n",
       "    </tr>\n",
       "    <tr>\n",
       "      <th>1</th>\n",
       "      <td>1993</td>\n",
       "      <td>3.808109</td>\n",
       "    </tr>\n",
       "    <tr>\n",
       "      <th>2</th>\n",
       "      <td>1994</td>\n",
       "      <td>2.663925</td>\n",
       "    </tr>\n",
       "    <tr>\n",
       "      <th>3</th>\n",
       "      <td>1995</td>\n",
       "      <td>1.603958</td>\n",
       "    </tr>\n",
       "    <tr>\n",
       "      <th>4</th>\n",
       "      <td>1996</td>\n",
       "      <td>5.986033</td>\n",
       "    </tr>\n",
       "    <tr>\n",
       "      <th>5</th>\n",
       "      <td>1997</td>\n",
       "      <td>3.406682</td>\n",
       "    </tr>\n",
       "    <tr>\n",
       "      <th>6</th>\n",
       "      <td>1998</td>\n",
       "      <td>5.860571</td>\n",
       "    </tr>\n",
       "    <tr>\n",
       "      <th>7</th>\n",
       "      <td>1999</td>\n",
       "      <td>3.152909</td>\n",
       "    </tr>\n",
       "    <tr>\n",
       "      <th>8</th>\n",
       "      <td>2000</td>\n",
       "      <td>3.116027</td>\n",
       "    </tr>\n",
       "    <tr>\n",
       "      <th>9</th>\n",
       "      <td>2001</td>\n",
       "      <td>2.273680</td>\n",
       "    </tr>\n",
       "    <tr>\n",
       "      <th>10</th>\n",
       "      <td>2002</td>\n",
       "      <td>1.693059</td>\n",
       "    </tr>\n",
       "    <tr>\n",
       "      <th>11</th>\n",
       "      <td>2003</td>\n",
       "      <td>8.146280</td>\n",
       "    </tr>\n",
       "    <tr>\n",
       "      <th>12</th>\n",
       "      <td>2004</td>\n",
       "      <td>5.337644</td>\n",
       "    </tr>\n",
       "    <tr>\n",
       "      <th>13</th>\n",
       "      <td>2005</td>\n",
       "      <td>8.498819</td>\n",
       "    </tr>\n",
       "    <tr>\n",
       "      <th>14</th>\n",
       "      <td>2006</td>\n",
       "      <td>10.855605</td>\n",
       "    </tr>\n",
       "    <tr>\n",
       "      <th>15</th>\n",
       "      <td>2007</td>\n",
       "      <td>12.512302</td>\n",
       "    </tr>\n",
       "    <tr>\n",
       "      <th>17</th>\n",
       "      <td>2009</td>\n",
       "      <td>5.403489</td>\n",
       "    </tr>\n",
       "    <tr>\n",
       "      <th>18</th>\n",
       "      <td>2010</td>\n",
       "      <td>13.360000</td>\n",
       "    </tr>\n",
       "    <tr>\n",
       "      <th>19</th>\n",
       "      <td>2011</td>\n",
       "      <td>3.698624</td>\n",
       "    </tr>\n",
       "    <tr>\n",
       "      <th>20</th>\n",
       "      <td>2012</td>\n",
       "      <td>3.154562</td>\n",
       "    </tr>\n",
       "    <tr>\n",
       "      <th>21</th>\n",
       "      <td>2013</td>\n",
       "      <td>1.419545</td>\n",
       "    </tr>\n",
       "    <tr>\n",
       "      <th>22</th>\n",
       "      <td>2014</td>\n",
       "      <td>2.781570</td>\n",
       "    </tr>\n",
       "    <tr>\n",
       "      <th>23</th>\n",
       "      <td>2015</td>\n",
       "      <td>2.325116</td>\n",
       "    </tr>\n",
       "    <tr>\n",
       "      <th>24</th>\n",
       "      <td>2016</td>\n",
       "      <td>1.775180</td>\n",
       "    </tr>\n",
       "    <tr>\n",
       "      <th>25</th>\n",
       "      <td>2017</td>\n",
       "      <td>0.925321</td>\n",
       "    </tr>\n",
       "    <tr>\n",
       "      <th>26</th>\n",
       "      <td>2018</td>\n",
       "      <td>0.983472</td>\n",
       "    </tr>\n",
       "    <tr>\n",
       "      <th>27</th>\n",
       "      <td>2019</td>\n",
       "      <td>1.492509</td>\n",
       "    </tr>\n",
       "    <tr>\n",
       "      <th>28</th>\n",
       "      <td>2020</td>\n",
       "      <td>1.164274</td>\n",
       "    </tr>\n",
       "  </tbody>\n",
       "</table>\n",
       "</div>"
      ],
      "text/plain": [
       "    Year    no3_no2\n",
       "0   1992   2.601233\n",
       "1   1993   3.808109\n",
       "2   1994   2.663925\n",
       "3   1995   1.603958\n",
       "4   1996   5.986033\n",
       "5   1997   3.406682\n",
       "6   1998   5.860571\n",
       "7   1999   3.152909\n",
       "8   2000   3.116027\n",
       "9   2001   2.273680\n",
       "10  2002   1.693059\n",
       "11  2003   8.146280\n",
       "12  2004   5.337644\n",
       "13  2005   8.498819\n",
       "14  2006  10.855605\n",
       "15  2007  12.512302\n",
       "17  2009   5.403489\n",
       "18  2010  13.360000\n",
       "19  2011   3.698624\n",
       "20  2012   3.154562\n",
       "21  2013   1.419545\n",
       "22  2014   2.781570\n",
       "23  2015   2.325116\n",
       "24  2016   1.775180\n",
       "25  2017   0.925321\n",
       "26  2018   0.983472\n",
       "27  2019   1.492509\n",
       "28  2020   1.164274"
      ]
     },
     "execution_count": 5,
     "metadata": {},
     "output_type": "execute_result"
    }
   ],
   "source": [
    "df_wq['Year'] = pd.DatetimeIndex(df_wq['measureDate']).year\n",
    "new_dfwq = df_wq.groupby('Year', as_index = False).mean()\n",
    "no3 = new_dfwq[['Year', 'no3_no2']]\n",
    "no3 = no3[no3['no3_no2'] < 80] #removed one year where there appears to be a massive outlier \n",
    "no3\n"
   ]
  },
  {
   "cell_type": "code",
   "execution_count": 6,
   "id": "cd5285b8",
   "metadata": {},
   "outputs": [
    {
     "data": {
      "text/plain": [
       "<seaborn.axisgrid.FacetGrid at 0x7fb322b6ab20>"
      ]
     },
     "execution_count": 6,
     "metadata": {},
     "output_type": "execute_result"
    },
    {
     "data": {
      "image/png": "[encoded data removed]",
      "text/plain": [
       "<Figure size 360x360 with 1 Axes>"
      ]
     },
     "metadata": {
      "needs_background": "light"
     },
     "output_type": "display_data"
    }
   ],
   "source": [
    "##summary statistics\n",
    "df_means = df.groupby('EOYBYear', as_index = False).mean()\n",
    "df_sem = df.groupby('EOYBYear').sem()\n",
    "\n",
    "df_means['Year'] = df_means['EOYBYear']\n",
    "#df.groupby('EOYBYear').aggregate([np.mean, np.size])\n",
    "df_means ##'average lat/long' useless\n",
    "\n",
    "list(df_means)\n",
    "mn_mass = df_means[['Year', 'liveMass']]\n",
    "mn_mass\n",
    "xxx = pd.merge(mn_mass, no3, on='Year')\n",
    "xxx\n",
    "\n",
    "g = sns.lmplot(x = 'no3_no2', y = 'liveMass', ci = 95, data = xxx)\n",
    "g.set_axis_labels(\"µmol/L NO$_3$\", \"Yearly average biomass (g/$m^2$)\")\n",
    "\n",
    "##nitrate/nitrite units: micromols per Liter"
   ]
  },
  {
   "cell_type": "code",
   "execution_count": 5,
   "id": "a20b58fd",
   "metadata": {},
   "outputs": [
    {
     "name": "stdout",
     "output_type": "stream",
     "text": [
      "Intercept    25.533419\n",
      "no3_no2       0.549470\n",
      "dtype: float64\n",
      "                            OLS Regression Results                            \n",
      "==============================================================================\n",
      "Dep. Variable:               liveMass   R-squared:                       0.102\n",
      "Model:                            OLS   Adj. R-squared:                  0.046\n",
      "Method:                 Least Squares   F-statistic:                     1.824\n",
      "Date:                Mon, 03 May 2021   Prob (F-statistic):              0.196\n",
      "Time:                        09:32:13   Log-Likelihood:                -57.701\n",
      "No. Observations:                  18   AIC:                             119.4\n",
      "Df Residuals:                      16   BIC:                             121.2\n",
      "Df Model:                           1                                         \n",
      "Covariance Type:            nonrobust                                         \n",
      "==============================================================================\n",
      "                 coef    std err          t      P>|t|      [0.025      0.975]\n",
      "------------------------------------------------------------------------------\n",
      "Intercept     25.5334      2.354     10.846      0.000      20.543      30.524\n",
      "no3_no2        0.5495      0.407      1.351      0.196      -0.313       1.412\n",
      "==============================================================================\n",
      "Omnibus:                        0.812   Durbin-Watson:                   1.812\n",
      "Prob(Omnibus):                  0.666   Jarque-Bera (JB):                0.797\n",
      "Skew:                          -0.394   Prob(JB):                        0.671\n",
      "Kurtosis:                       2.335   Cond. No.                         9.29\n",
      "==============================================================================\n",
      "\n",
      "Notes:\n",
      "[1] Standard Errors assume that the covariance matrix of the errors is correctly specified.\n"
     ]
    },
    {
     "name": "stderr",
     "output_type": "stream",
     "text": [
      "/Users/asariversjulien/PhD/venv/lib/python3.9/site-packages/scipy/stats/stats.py:1603: UserWarning: kurtosistest only valid for n>=20 ... continuing anyway, n=18\n",
      "  warnings.warn(\"kurtosistest only valid for n>=20 ... continuing \"\n"
     ]
    },
    {
     "data": {
      "text/plain": [
       "0.3199222514980952"
      ]
     },
     "execution_count": 5,
     "metadata": {},
     "output_type": "execute_result"
    }
   ],
   "source": [
    "result = sm.ols(formula=\"liveMass ~ no3_no2\", data = xxx).fit()\n",
    "print(result.params)\n",
    "print(result.summary()) ##no sig relationship - due to small sample size?\n",
    "\n",
    "xxx['liveMass'].corr(xxx['no3_no2'], method = 'pearson')"
   ]
  },
  {
   "cell_type": "code",
   "execution_count": null,
   "id": "e3a43d9d",
   "metadata": {},
   "outputs": [],
   "source": []
  }
 ],
 "metadata": {
  "kernelspec": {
   "display_name": "feesh",
   "language": "python",
   "name": "feesh"
  },
  "language_info": {
   "codemirror_mode": {
    "name": "ipython",
    "version": 3
   },
   "file_extension": ".py",
   "mimetype": "text/x-python",
   "name": "python",
   "nbconvert_exporter": "python",
   "pygments_lexer": "ipython3",
   "version": "3.9.4"
  }
 },
 "nbformat": 4,
 "nbformat_minor": 5
}
