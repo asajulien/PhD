{
 "cells": [
  {
   "cell_type": "code",
   "execution_count": 1,
   "id": "5b05c8b3",
   "metadata": {},
   "outputs": [],
   "source": [
    "import geemap\n",
    "import pandas as pd\n",
    "import numpy as np\n",
    "import matplotlib.pyplot as plt\n",
    "import pdb\n",
    "from IPython.display import display\n",
    "import ee\n",
    "import os"
   ]
  },
  {
   "cell_type": "code",
   "execution_count": 2,
   "id": "df853d60",
   "metadata": {},
   "outputs": [],
   "source": [
    "#ee.Authenticate()\n",
    "#geemap.update_package()"
   ]
  },
  {
   "cell_type": "code",
   "execution_count": null,
   "id": "72d18dea",
   "metadata": {},
   "outputs": [],
   "source": [
    "ee.Initialize()\n",
    "\n"
   ]
  }
 ],
 "metadata": {
  "kernelspec": {
   "display_name": "venv",
   "language": "python",
   "name": "venv"
  },
  "language_info": {
   "codemirror_mode": {
    "name": "ipython",
    "version": 3
   },
   "file_extension": ".py",
   "mimetype": "text/x-python",
   "name": "python",
   "nbconvert_exporter": "python",
   "pygments_lexer": "ipython3",
   "version": "3.9.7"
  }
 },
 "nbformat": 4,
 "nbformat_minor": 5
}
