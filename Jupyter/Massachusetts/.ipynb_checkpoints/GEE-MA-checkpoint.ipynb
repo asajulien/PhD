{
 "cells": [
  {
   "cell_type": "code",
   "execution_count": 2,
   "id": "5b05c8b3",
   "metadata": {},
   "outputs": [],
   "source": [
    "import geemap\n",
    "import pandas as pd\n",
    "import numpy as np\n",
    "import matplotlib.pyplot as plt\n",
    "import pdb\n",
    "from IPython.display import display\n",
    "import ee\n",
    "import os"
   ]
  },
  {
   "cell_type": "code",
   "execution_count": 3,
   "id": "df853d60",
   "metadata": {},
   "outputs": [],
   "source": [
    "#ee.Authenticate()\n",
    "#geemap.update_package()"
   ]
  },
  {
   "cell_type": "code",
   "execution_count": 24,
   "id": "72d18dea",
   "metadata": {},
   "outputs": [],
   "source": [
    "ee.Initialize()\n",
    "\n",
    "ma_pts = ee.FeatureCollection(\n",
    "    [ee.Feature(ee.Geometry.Point([-70.842918395996, 42.730953216553]), {'site_id': 'LP HM'}),\n",
    "     ee.Feature(ee.Geometry.Point([-70.842468261719, 42.731742858887]), {'site_id': 'LP LM'}) ##NOT RIGHT?\n",
    "    ]\n",
    ")"
   ]
  },
  {
   "cell_type": "code",
   "execution_count": 12,
   "id": "f92fe91d",
   "metadata": {},
   "outputs": [
    {
     "name": "stdout",
     "output_type": "stream",
     "text": [
      "114\n"
     ]
    }
   ],
   "source": [
    "##landsat 5 surface reflectance images - MA LTER\n",
    "\n",
    "maCollectionLS5 = ee.ImageCollection('LANDSAT/LT05/C01/T1_SR') \\\n",
    "    .filter(ee.Filter.calendarRange(1999, 2012,'year')) \\\n",
    "    .filter(ee.Filter.calendarRange(5, 11,'month')) \\\n",
    "    .filterBounds(ma_pts) \\\n",
    "    .sort('CLOUD_COVER', True)\n",
    "\n",
    "vis_param = {'min': 0, \n",
    "             'max': 2000, \n",
    "             'bands': ['B4', 'B3', 'B2'], \n",
    "             'gamma': 1.5}\n",
    "\n",
    "print(maCollectionLS5.size().getInfo())\n"
   ]
  },
  {
   "cell_type": "code",
   "execution_count": 10,
   "id": "f06f4483",
   "metadata": {},
   "outputs": [
    {
     "name": "stdout",
     "output_type": "stream",
     "text": [
      "98\n"
     ]
    }
   ],
   "source": [
    "##landsat 8 surface reflectance images - MA LTER\n",
    "maCollectionLS8 = ee.ImageCollection('LANDSAT/LC08/C01/T1_SR') \\\n",
    "    .filter(ee.Filter.calendarRange(2013, 2021,'year')) \\\n",
    "    .filter(ee.Filter.calendarRange(5, 11,'month')) \\\n",
    "    .filterBounds(ma_pts) \\\n",
    "    .filterMetadata('CLOUD_COVER', 'less_than', 100) \\\n",
    "    .sort('CLOUD_COVER', True)\n",
    "\n",
    "l8_param = {'min': 0, \n",
    "             'max': 2000, \n",
    "             'bands': ['B5', 'B4', 'B3'], \n",
    "             'gamma': 1.5} ##be very careful with analysis of l8 vs l5 data - different band numbers!\n",
    "\n",
    "print(maCollectionLS8.size().getInfo())"
   ]
  },
  {
   "cell_type": "code",
   "execution_count": 15,
   "id": "c64ca1ca",
   "metadata": {},
   "outputs": [],
   "source": [
    "##Vis params\n",
    "\n",
    "l5_param = {'min': 0, \n",
    "             'max': 2000, \n",
    "             'bands': ['B4', 'B3', 'B2'], \n",
    "             'gamma': 1.5}\n",
    "\n",
    "l8_param = {'min': 0, \n",
    "             'max': 2000, \n",
    "             'bands': ['B5', 'B4', 'B3'], \n",
    "             'gamma': 1.5}"
   ]
  },
  {
   "cell_type": "code",
   "execution_count": 21,
   "id": "0e9484ea",
   "metadata": {},
   "outputs": [
    {
     "data": {
      "text/plain": [
       "['LANDSAT/LT05/C01/T1_SR/LT05_012030_19990715',\n",
       " 'LANDSAT/LT05/C01/T1_SR/LT05_012030_20020504',\n",
       " 'LANDSAT/LT05/C01/T1_SR/LT05_012030_20020621',\n",
       " 'LANDSAT/LT05/C01/T1_SR/LT05_012030_20070923',\n",
       " 'LANDSAT/LT05/C01/T1_SR/LT05_012030_20081011',\n",
       " 'LANDSAT/LT05/C01/T1_SR/LT05_012030_20090710',\n",
       " 'LANDSAT/LT05/C01/T1_SR/LT05_012030_20100830',\n",
       " 'LANDSAT/LT05/C01/T1_SR/LT05_012030_19990512',\n",
       " 'LANDSAT/LT05/C01/T1_SR/LT05_012030_20010618',\n",
       " 'LANDSAT/LT05/C01/T1_SR/LT05_012030_20040914',\n",
       " 'LANDSAT/LT05/C01/T1_SR/LT05_012030_20110716',\n",
       " 'LANDSAT/LT05/C01/T1_SR/LT05_012030_20110817',\n",
       " 'LANDSAT/LT05/C01/T1_SR/LT05_012030_19990528',\n",
       " 'LANDSAT/LT05/C01/T1_SR/LT05_012030_20050512',\n",
       " 'LANDSAT/LT05/C01/T1_SR/LT05_012030_20090608',\n",
       " 'LANDSAT/LT05/C01/T1_SR/LT05_012030_20030827',\n",
       " 'LANDSAT/LT05/C01/T1_SR/LT05_012030_20031115',\n",
       " 'LANDSAT/LT05/C01/T1_SR/LT05_012030_20060920',\n",
       " 'LANDSAT/LT05/C01/T1_SR/LT05_012030_20100526',\n",
       " 'LANDSAT/LT05/C01/T1_SR/LT05_012030_20111105',\n",
       " 'LANDSAT/LT05/C01/T1_SR/LT05_012030_20020723',\n",
       " 'LANDSAT/LT05/C01/T1_SR/LT05_012030_20080520',\n",
       " 'LANDSAT/LT05/C01/T1_SR/LT05_012030_20100814',\n",
       " 'LANDSAT/LT05/C01/T1_SR/LT05_012030_20000701',\n",
       " 'LANDSAT/LT05/C01/T1_SR/LT05_012030_20020909',\n",
       " 'LANDSAT/LT05/C01/T1_SR/LT05_012030_20050715',\n",
       " 'LANDSAT/LT05/C01/T1_SR/LT05_012030_20051120',\n",
       " 'LANDSAT/LT05/C01/T1_SR/LT05_012030_20090827',\n",
       " 'LANDSAT/LT05/C01/T1_SR/LT05_012030_20110801',\n",
       " 'LANDSAT/LT05/C01/T1_SR/LT05_012030_20021128',\n",
       " 'LANDSAT/LT05/C01/T1_SR/LT05_012030_20030912',\n",
       " 'LANDSAT/LT05/C01/T1_SR/LT05_012030_20060616',\n",
       " 'LANDSAT/LT05/C01/T1_SR/LT05_012030_20110902',\n",
       " 'LANDSAT/LT05/C01/T1_SR/LT05_012030_20021027',\n",
       " 'LANDSAT/LT05/C01/T1_SR/LT05_012030_20001021',\n",
       " 'LANDSAT/LT05/C01/T1_SR/LT05_012030_20070907',\n",
       " 'LANDSAT/LT05/C01/T1_SR/LT05_012030_19990816',\n",
       " 'LANDSAT/LT05/C01/T1_SR/LT05_012030_20050528',\n",
       " 'LANDSAT/LT05/C01/T1_SR/LT05_012030_20051003',\n",
       " 'LANDSAT/LT05/C01/T1_SR/LT05_012030_20010501',\n",
       " 'LANDSAT/LT05/C01/T1_SR/LT05_012030_20091014',\n",
       " 'LANDSAT/LT05/C01/T1_SR/LT05_012030_20020707',\n",
       " 'LANDSAT/LT05/C01/T1_SR/LT05_012030_20050901',\n",
       " 'LANDSAT/LT05/C01/T1_SR/LT05_012030_19991019',\n",
       " 'LANDSAT/LT05/C01/T1_SR/LT05_012030_20000530',\n",
       " 'LANDSAT/LT05/C01/T1_SR/LT05_012030_20041016',\n",
       " 'LANDSAT/LT05/C01/T1_SR/LT05_012030_19990901',\n",
       " 'LANDSAT/LT05/C01/T1_SR/LT05_012030_20070619',\n",
       " 'LANDSAT/LT05/C01/T1_SR/LT05_012030_20081027',\n",
       " 'LANDSAT/LT05/C01/T1_SR/LT05_012030_20090928',\n",
       " 'LANDSAT/LT05/C01/T1_SR/LT05_012030_20101118',\n",
       " 'LANDSAT/LT05/C01/T1_SR/LT05_012030_20101017',\n",
       " 'LANDSAT/LT05/C01/T1_SR/LT05_012030_20000818',\n",
       " 'LANDSAT/LT05/C01/T1_SR/LT05_012030_20110513',\n",
       " 'LANDSAT/LT05/C01/T1_SR/LT05_012030_20060718',\n",
       " 'LANDSAT/LT05/C01/T1_SR/LT05_012030_20061022',\n",
       " 'LANDSAT/LT05/C01/T1_SR/LT05_012030_20080824',\n",
       " 'LANDSAT/LT05/C01/T1_SR/LT05_012030_20020520',\n",
       " 'LANDSAT/LT05/C01/T1_SR/LT05_012030_20041101',\n",
       " 'LANDSAT/LT05/C01/T1_SR/LT05_012030_20000514',\n",
       " 'LANDSAT/LT05/C01/T1_SR/LT05_012030_20080621',\n",
       " 'LANDSAT/LT05/C01/T1_SR/LT05_012030_20020925',\n",
       " 'LANDSAT/LT05/C01/T1_SR/LT05_012030_20050816',\n",
       " 'LANDSAT/LT05/C01/T1_SR/LT05_012030_20100729',\n",
       " 'LANDSAT/LT05/C01/T1_SR/LT05_012030_20011109',\n",
       " 'LANDSAT/LT05/C01/T1_SR/LT05_012030_20040930',\n",
       " 'LANDSAT/LT05/C01/T1_SR/LT05_012030_20041117',\n",
       " 'LANDSAT/LT05/C01/T1_SR/LT05_012030_20070502',\n",
       " 'LANDSAT/LT05/C01/T1_SR/LT05_012030_20100915',\n",
       " 'LANDSAT/LT05/C01/T1_SR/LT05_012030_19990731',\n",
       " 'LANDSAT/LT05/C01/T1_SR/LT05_012030_20001122',\n",
       " 'LANDSAT/LT05/C01/T1_SR/LT05_012030_20110630',\n",
       " 'LANDSAT/LT05/C01/T1_SR/LT05_012030_20070822',\n",
       " 'LANDSAT/LT05/C01/T1_SR/LT05_012030_20030507',\n",
       " 'LANDSAT/LT05/C01/T1_SR/LT05_012030_20051104',\n",
       " 'LANDSAT/LT05/C01/T1_SR/LT05_012030_19991120',\n",
       " 'LANDSAT/LT05/C01/T1_SR/LT05_012030_20010704',\n",
       " 'LANDSAT/LT05/C01/T1_SR/LT05_012030_20030726',\n",
       " 'LANDSAT/LT05/C01/T1_SR/LT05_012030_20061006',\n",
       " 'LANDSAT/LT05/C01/T1_SR/LT05_012030_19991104',\n",
       " 'LANDSAT/LT05/C01/T1_SR/LT05_012030_20060531',\n",
       " 'LANDSAT/LT05/C01/T1_SR/LT05_012030_20060803',\n",
       " 'LANDSAT/LT05/C01/T1_SR/LT05_012030_20030710',\n",
       " 'LANDSAT/LT05/C01/T1_SR/LT05_012030_20011125',\n",
       " 'LANDSAT/LT05/C01/T1_SR/LT05_012030_20010922',\n",
       " 'LANDSAT/LT05/C01/T1_SR/LT05_012030_20100510',\n",
       " 'LANDSAT/LT05/C01/T1_SR/LT05_012030_20100611',\n",
       " 'LANDSAT/LT05/C01/T1_SR/LT05_012030_20040829',\n",
       " 'LANDSAT/LT05/C01/T1_SR/LT05_012030_20031014',\n",
       " 'LANDSAT/LT05/C01/T1_SR/LT05_012030_20030811',\n",
       " 'LANDSAT/LT05/C01/T1_SR/LT05_012030_20090811',\n",
       " 'LANDSAT/LT05/C01/T1_SR/LT05_012030_20100713',\n",
       " 'LANDSAT/LT05/C01/T1_SR/LT05_012030_19990629',\n",
       " 'LANDSAT/LT05/C01/T1_SR/LT05_012030_20110529',\n",
       " 'LANDSAT/LT05/C01/T1_SR/LT05_012030_20040712',\n",
       " 'LANDSAT/LT05/C01/T1_SR/LT05_012030_20070705',\n",
       " 'LANDSAT/LT05/C01/T1_SR/LT05_012030_20080707',\n",
       " 'LANDSAT/LT05/C01/T1_SR/LT05_012030_19990613',\n",
       " 'LANDSAT/LT05/C01/T1_SR/LT05_012030_20110918',\n",
       " 'LANDSAT/LT05/C01/T1_SR/LT05_012030_20061123',\n",
       " 'LANDSAT/LT05/C01/T1_SR/LT05_012030_20070721',\n",
       " 'LANDSAT/LT05/C01/T1_SR/LT05_012030_20001005',\n",
       " 'LANDSAT/LT05/C01/T1_SR/LT05_012030_20000919',\n",
       " 'LANDSAT/LT05/C01/T1_SR/LT05_012030_20050731',\n",
       " 'LANDSAT/LT05/C01/T1_SR/LT05_012030_20051019',\n",
       " 'LANDSAT/LT05/C01/T1_SR/LT05_012030_20080925',\n",
       " 'LANDSAT/LT05/C01/T1_SR/LT05_012030_19991003',\n",
       " 'LANDSAT/LT05/C01/T1_SR/LT05_012030_20011024',\n",
       " 'LANDSAT/LT05/C01/T1_SR/LT05_012030_20060904',\n",
       " 'LANDSAT/LT05/C01/T1_SR/LT05_012030_20050613',\n",
       " 'LANDSAT/LT05/C01/T1_SR/LT05_012030_20100627',\n",
       " 'LANDSAT/LT05/C01/T1_SR/LT05_012030_20050629',\n",
       " 'LANDSAT/LT05/C01/T1_SR/LT05_012030_20060702',\n",
       " 'LANDSAT/LT05/C01/T1_SR/LT05_012030_20061107']"
      ]
     },
     "execution_count": 21,
     "metadata": {},
     "output_type": "execute_result"
    }
   ],
   "source": [
    "maCollectionLS5.aggregate_array('system:id').getInfo()"
   ]
  },
  {
   "cell_type": "code",
   "execution_count": 22,
   "id": "fa060acb",
   "metadata": {},
   "outputs": [],
   "source": [
    "##Images????\n",
    "ma199907 = ee.Image('LANDSAT/LT05/C01/T1_SR/LT05_012030_19990715')"
   ]
  },
  {
   "cell_type": "code",
   "execution_count": 25,
   "id": "40930039",
   "metadata": {},
   "outputs": [
    {
     "data": {
      "application/vnd.jupyter.widget-view+json": {
       "model_id": "dfa1bb2e95a048da8436bb9f5f88955f",
       "version_major": 2,
       "version_minor": 0
      },
      "text/plain": [
       "Map(center=[42.73134803794033, -70.84269333029023], controls=(WidgetControl(options=['position', 'transparent_…"
      ]
     },
     "metadata": {},
     "output_type": "display_data"
    }
   ],
   "source": [
    "##Mapping\n",
    "##Add Earth Engine dataset\n",
    "Map = geemap.Map(center=[40,-100], zoom=4)\n",
    "\n",
    "Map.addLayer(ma199907, l5_param, \"June 1999\")\n",
    "\n",
    "Map.centerObject(ma_pts, 10)\n",
    "#Map.set_plot_options(add_marker_cluster = True)\n",
    "\n",
    "##add feature collection points for each plot\n",
    "Map.addLayer(ma_pts, {}, \"plots\")\n",
    "\n",
    "Map"
   ]
  },
  {
   "cell_type": "code",
   "execution_count": null,
   "id": "7b3f6d2d",
   "metadata": {},
   "outputs": [],
   "source": []
  }
 ],
 "metadata": {
  "kernelspec": {
   "display_name": "venv",
   "language": "python",
   "name": "venv"
  },
  "language_info": {
   "codemirror_mode": {
    "name": "ipython",
    "version": 3
   },
   "file_extension": ".py",
   "mimetype": "text/x-python",
   "name": "python",
   "nbconvert_exporter": "python",
   "pygments_lexer": "ipython3",
   "version": "3.9.12"
  }
 },
 "nbformat": 4,
 "nbformat_minor": 5
}
