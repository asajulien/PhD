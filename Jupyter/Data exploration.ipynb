{
 "cells": [
  {
   "cell_type": "code",
   "execution_count": 1,
   "id": "treated-workstation",
   "metadata": {},
   "outputs": [],
   "source": [
    "##libraries\n",
    "import pandas as pd\n",
    "import numpy as np\n",
    "import matplotlib.pyplot as plt\n",
    "import pdb\n",
    "from IPython.display import display\n",
    "import os\n",
    "import seaborn as sns\n",
    "import statsmodels.formula.api as sm\n",
    "from numpy.polynomial.polynomial import polyfit\n",
    "from sklearn.model_selection import train_test_split\n",
    "import sklearn\n",
    "from math import sqrt"
   ]
  },
  {
   "cell_type": "code",
   "execution_count": 2,
   "id": "polish-audio",
   "metadata": {},
   "outputs": [
    {
     "data": {
      "text/plain": [
       "193.96"
      ]
     },
     "execution_count": 2,
     "metadata": {},
     "output_type": "execute_result"
    }
   ],
   "source": [
    "##read data - biomass, Virginia LTER\n",
    "df = pd.read_csv('/Users/asariversjulien/Documents/Data/CSV files/Virginia_ChristianBlum.csv', skiprows=21)\n",
    "df = df[df['speciesName'] == 'Spartina alterniflora']\n",
    "df = df[['EOYBYear', 'collectDate', 'marshName', 'siteName', 'marshRegion', 'monitoringPurpose', 'Transect', 'Replicate', 'speciesName', 'liveMass', 'deadMass', 'totalMass', 'latitude', 'longitude']]\n",
    "df['collectDate'] = pd.to_datetime(df['collectDate'])\n",
    "\n",
    "##water quality dataset, Virginia LTER\n",
    "df_wq = pd.read_csv('/Users/asariversjulien/Documents/Data/CSV files/Virginia_WQ.csv', skiprows=21)\n",
    "df_wq['measureDate'] = pd.to_datetime(df_wq['measureDate'])\n",
    "\n",
    "max(df['liveMass'])\n",
    "\n",
    "#df\n",
    "##IMPORTANT NOTE: 2017 data does not distinguish live from dead biomass due to a freezer failure"
   ]
  },
  {
   "cell_type": "code",
   "execution_count": 3,
   "id": "future-composite",
   "metadata": {},
   "outputs": [
    {
     "data": {
      "text/html": [
       "<div>\n",
       "<style scoped>\n",
       "    .dataframe tbody tr th:only-of-type {\n",
       "        vertical-align: middle;\n",
       "    }\n",
       "\n",
       "    .dataframe tbody tr th {\n",
       "        vertical-align: top;\n",
       "    }\n",
       "\n",
       "    .dataframe thead th {\n",
       "        text-align: right;\n",
       "    }\n",
       "</style>\n",
       "<table border=\"1\" class=\"dataframe\">\n",
       "  <thead>\n",
       "    <tr style=\"text-align: right;\">\n",
       "      <th></th>\n",
       "      <th>Year</th>\n",
       "      <th>no3_no2</th>\n",
       "    </tr>\n",
       "  </thead>\n",
       "  <tbody>\n",
       "    <tr>\n",
       "      <th>0</th>\n",
       "      <td>1992</td>\n",
       "      <td>2.601233</td>\n",
       "    </tr>\n",
       "    <tr>\n",
       "      <th>1</th>\n",
       "      <td>1993</td>\n",
       "      <td>3.808109</td>\n",
       "    </tr>\n",
       "    <tr>\n",
       "      <th>2</th>\n",
       "      <td>1994</td>\n",
       "      <td>2.663925</td>\n",
       "    </tr>\n",
       "    <tr>\n",
       "      <th>3</th>\n",
       "      <td>1995</td>\n",
       "      <td>1.603958</td>\n",
       "    </tr>\n",
       "    <tr>\n",
       "      <th>4</th>\n",
       "      <td>1996</td>\n",
       "      <td>5.986033</td>\n",
       "    </tr>\n",
       "    <tr>\n",
       "      <th>5</th>\n",
       "      <td>1997</td>\n",
       "      <td>3.406682</td>\n",
       "    </tr>\n",
       "    <tr>\n",
       "      <th>6</th>\n",
       "      <td>1998</td>\n",
       "      <td>5.860571</td>\n",
       "    </tr>\n",
       "    <tr>\n",
       "      <th>7</th>\n",
       "      <td>1999</td>\n",
       "      <td>3.152909</td>\n",
       "    </tr>\n",
       "    <tr>\n",
       "      <th>8</th>\n",
       "      <td>2000</td>\n",
       "      <td>3.116027</td>\n",
       "    </tr>\n",
       "    <tr>\n",
       "      <th>9</th>\n",
       "      <td>2001</td>\n",
       "      <td>2.273680</td>\n",
       "    </tr>\n",
       "    <tr>\n",
       "      <th>10</th>\n",
       "      <td>2002</td>\n",
       "      <td>1.693059</td>\n",
       "    </tr>\n",
       "    <tr>\n",
       "      <th>11</th>\n",
       "      <td>2003</td>\n",
       "      <td>8.146280</td>\n",
       "    </tr>\n",
       "    <tr>\n",
       "      <th>12</th>\n",
       "      <td>2004</td>\n",
       "      <td>5.337644</td>\n",
       "    </tr>\n",
       "    <tr>\n",
       "      <th>13</th>\n",
       "      <td>2005</td>\n",
       "      <td>8.498819</td>\n",
       "    </tr>\n",
       "    <tr>\n",
       "      <th>14</th>\n",
       "      <td>2006</td>\n",
       "      <td>10.855605</td>\n",
       "    </tr>\n",
       "    <tr>\n",
       "      <th>15</th>\n",
       "      <td>2007</td>\n",
       "      <td>12.512302</td>\n",
       "    </tr>\n",
       "    <tr>\n",
       "      <th>17</th>\n",
       "      <td>2009</td>\n",
       "      <td>5.403489</td>\n",
       "    </tr>\n",
       "    <tr>\n",
       "      <th>18</th>\n",
       "      <td>2010</td>\n",
       "      <td>13.360000</td>\n",
       "    </tr>\n",
       "    <tr>\n",
       "      <th>19</th>\n",
       "      <td>2011</td>\n",
       "      <td>3.698624</td>\n",
       "    </tr>\n",
       "    <tr>\n",
       "      <th>20</th>\n",
       "      <td>2012</td>\n",
       "      <td>3.154562</td>\n",
       "    </tr>\n",
       "    <tr>\n",
       "      <th>21</th>\n",
       "      <td>2013</td>\n",
       "      <td>1.419545</td>\n",
       "    </tr>\n",
       "    <tr>\n",
       "      <th>22</th>\n",
       "      <td>2014</td>\n",
       "      <td>2.781570</td>\n",
       "    </tr>\n",
       "    <tr>\n",
       "      <th>23</th>\n",
       "      <td>2015</td>\n",
       "      <td>2.325116</td>\n",
       "    </tr>\n",
       "    <tr>\n",
       "      <th>24</th>\n",
       "      <td>2016</td>\n",
       "      <td>1.775180</td>\n",
       "    </tr>\n",
       "    <tr>\n",
       "      <th>25</th>\n",
       "      <td>2017</td>\n",
       "      <td>0.925321</td>\n",
       "    </tr>\n",
       "    <tr>\n",
       "      <th>26</th>\n",
       "      <td>2018</td>\n",
       "      <td>0.983472</td>\n",
       "    </tr>\n",
       "    <tr>\n",
       "      <th>27</th>\n",
       "      <td>2019</td>\n",
       "      <td>1.492509</td>\n",
       "    </tr>\n",
       "    <tr>\n",
       "      <th>28</th>\n",
       "      <td>2020</td>\n",
       "      <td>1.164274</td>\n",
       "    </tr>\n",
       "  </tbody>\n",
       "</table>\n",
       "</div>"
      ],
      "text/plain": [
       "    Year    no3_no2\n",
       "0   1992   2.601233\n",
       "1   1993   3.808109\n",
       "2   1994   2.663925\n",
       "3   1995   1.603958\n",
       "4   1996   5.986033\n",
       "5   1997   3.406682\n",
       "6   1998   5.860571\n",
       "7   1999   3.152909\n",
       "8   2000   3.116027\n",
       "9   2001   2.273680\n",
       "10  2002   1.693059\n",
       "11  2003   8.146280\n",
       "12  2004   5.337644\n",
       "13  2005   8.498819\n",
       "14  2006  10.855605\n",
       "15  2007  12.512302\n",
       "17  2009   5.403489\n",
       "18  2010  13.360000\n",
       "19  2011   3.698624\n",
       "20  2012   3.154562\n",
       "21  2013   1.419545\n",
       "22  2014   2.781570\n",
       "23  2015   2.325116\n",
       "24  2016   1.775180\n",
       "25  2017   0.925321\n",
       "26  2018   0.983472\n",
       "27  2019   1.492509\n",
       "28  2020   1.164274"
      ]
     },
     "execution_count": 3,
     "metadata": {},
     "output_type": "execute_result"
    }
   ],
   "source": [
    "df_wq['Year'] = pd.DatetimeIndex(df_wq['measureDate']).year\n",
    "new_dfwq = df_wq.groupby('Year', as_index = False).mean()\n",
    "no3 = new_dfwq[['Year', 'no3_no2']]\n",
    "no3 = no3[no3['no3_no2'] < 80] #removed one year where there appears to be a massive outlier \n",
    "no3\n"
   ]
  },
  {
   "cell_type": "code",
   "execution_count": 4,
   "id": "moderate-conference",
   "metadata": {
    "scrolled": false
   },
   "outputs": [
    {
     "data": {
      "text/plain": [
       "<seaborn.axisgrid.FacetGrid at 0x7fab50bb5dc0>"
      ]
     },
     "execution_count": 4,
     "metadata": {},
     "output_type": "execute_result"
    },
    {
     "data": {
      "image/png": "[encoded data removed]",
      "text/plain": [
       "<Figure size 360x360 with 1 Axes>"
      ]
     },
     "metadata": {
      "needs_background": "light"
     },
     "output_type": "display_data"
    }
   ],
   "source": [
    "##summary statistics\n",
    "df_means = df.groupby('EOYBYear', as_index = False).mean()\n",
    "df_sem = df.groupby('EOYBYear').sem()\n",
    "\n",
    "df_means['Year'] = df_means['EOYBYear']\n",
    "#df.groupby('EOYBYear').aggregate([np.mean, np.size])\n",
    "df_means ##'average lat/long' useless\n",
    "\n",
    "list(df_means)\n",
    "mn_mass = df_means[['Year', 'liveMass']]\n",
    "mn_mass\n",
    "xxx = pd.merge(mn_mass, no3, on='Year')\n",
    "xxx\n",
    "\n",
    "g = sns.lmplot(x = 'no3_no2', y = 'liveMass', ci = 95, data = xxx)\n",
    "g.set_axis_labels(\"µmol/L NO$_3$\", \"Yearly average biomass (g/$m^2$)\")\n",
    "\n",
    "##nitrate/nitrite units: micromols per Liter\n"
   ]
  },
  {
   "cell_type": "code",
   "execution_count": 5,
   "id": "ebb8ccf7",
   "metadata": {},
   "outputs": [
    {
     "name": "stdout",
     "output_type": "stream",
     "text": [
      "Intercept    25.533419\n",
      "no3_no2       0.549470\n",
      "dtype: float64\n",
      "                            OLS Regression Results                            \n",
      "==============================================================================\n",
      "Dep. Variable:               liveMass   R-squared:                       0.102\n",
      "Model:                            OLS   Adj. R-squared:                  0.046\n",
      "Method:                 Least Squares   F-statistic:                     1.824\n",
      "Date:                Fri, 30 Apr 2021   Prob (F-statistic):              0.196\n",
      "Time:                        14:33:16   Log-Likelihood:                -57.701\n",
      "No. Observations:                  18   AIC:                             119.4\n",
      "Df Residuals:                      16   BIC:                             121.2\n",
      "Df Model:                           1                                         \n",
      "Covariance Type:            nonrobust                                         \n",
      "==============================================================================\n",
      "                 coef    std err          t      P>|t|      [0.025      0.975]\n",
      "------------------------------------------------------------------------------\n",
      "Intercept     25.5334      2.354     10.846      0.000      20.543      30.524\n",
      "no3_no2        0.5495      0.407      1.351      0.196      -0.313       1.412\n",
      "==============================================================================\n",
      "Omnibus:                        0.812   Durbin-Watson:                   1.812\n",
      "Prob(Omnibus):                  0.666   Jarque-Bera (JB):                0.797\n",
      "Skew:                          -0.394   Prob(JB):                        0.671\n",
      "Kurtosis:                       2.335   Cond. No.                         9.29\n",
      "==============================================================================\n",
      "\n",
      "Notes:\n",
      "[1] Standard Errors assume that the covariance matrix of the errors is correctly specified.\n"
     ]
    },
    {
     "name": "stderr",
     "output_type": "stream",
     "text": [
      "/Users/asariversjulien/PhD/venv/lib/python3.9/site-packages/scipy/stats/stats.py:1603: UserWarning: kurtosistest only valid for n>=20 ... continuing anyway, n=18\n",
      "  warnings.warn(\"kurtosistest only valid for n>=20 ... continuing \"\n"
     ]
    },
    {
     "data": {
      "text/plain": [
       "0.3199222514980952"
      ]
     },
     "execution_count": 5,
     "metadata": {},
     "output_type": "execute_result"
    }
   ],
   "source": [
    "result = sm.ols(formula=\"liveMass ~ no3_no2\", data = xxx).fit()\n",
    "print(result.params)\n",
    "print(result.summary()) ##no sig relationship - due to small sample size?\n",
    "\n",
    "xxx['liveMass'].corr(xxx['no3_no2'], method = 'pearson')"
   ]
  },
  {
   "cell_type": "code",
   "execution_count": 6,
   "id": "assisted-aviation",
   "metadata": {},
   "outputs": [],
   "source": [
    "#df_sem"
   ]
  },
  {
   "cell_type": "code",
   "execution_count": 48,
   "id": "smart-tiffany",
   "metadata": {
    "scrolled": false
   },
   "outputs": [],
   "source": [
    "##grouped by site and by year\n",
    "mn_siteyears = df.groupby(['siteName', 'EOYBYear'], as_index = False).aggregate([np.mean, np.size]).reset_index()\n",
    "se_siteyears = df.groupby(['siteName', 'EOYBYear'], as_index = False).sem()\n",
    "\n",
    "newdf = df.groupby(['siteName', 'EOYBYear'], as_index = False).mean()\n",
    "\n",
    "##rearrange lat and long for GEE\n",
    "mn_siteyears = mn_siteyears[['siteName', 'EOYBYear', 'marshRegion', 'liveMass', 'longitude', \\\n",
    "                             'latitude', 'deadMass', 'totalMass']]\n",
    "\n",
    "#with pd.option_context('display.max_rows', None, 'display.max_columns', None):  ## more options can be specified also\n",
    "    #print(mn_siteyears)\n",
    "    \n",
    "out_dir = os.path.expanduser('~/Downloads')\n",
    "out_csv = os.path.join(out_dir, 'outx2.csv')\n",
    "#se_siteyears.to_csv(out_csv, index=False) ##set out directory\n",
    "\n",
    "newdf['year'] = newdf['EOYBYear']"
   ]
  },
  {
   "cell_type": "code",
   "execution_count": 8,
   "id": "defined-operation",
   "metadata": {
    "scrolled": true
   },
   "outputs": [],
   "source": [
    "#print(se_siteyears)"
   ]
  },
  {
   "cell_type": "code",
   "execution_count": 9,
   "id": "several-printing",
   "metadata": {},
   "outputs": [],
   "source": [
    "##some figures\n",
    "#df.boxplot(column='liveMass', by='EOYBYear')\n",
    "#mn_siteyears.boxplot(column='liveMass', by='siteName') ##using averages as individual points"
   ]
  },
  {
   "cell_type": "code",
   "execution_count": 50,
   "id": "a39d0cb7",
   "metadata": {},
   "outputs": [
    {
     "name": "stdout",
     "output_type": "stream",
     "text": [
      "          siteName   EOYBYear  marshRegion   liveMass   deadMass  totalMass  \\\n",
      "0       Assateague 2000-01-01            1  11.100000   4.418182  15.518182   \n",
      "1       Assateague 2001-01-01            1  25.415833   6.442500  31.858333   \n",
      "3         Box_Tree 2000-01-01            1  38.183333  12.766667  50.950000   \n",
      "4         Box_Tree 2001-01-01            1  59.606250  12.647500  72.253750   \n",
      "5         Box_Tree 2002-01-01            1  29.087500  16.209167  45.296667   \n",
      "6         Box_Tree 2004-01-01            1  30.342778  10.673889  41.016667   \n",
      "7         Box_Tree 2007-01-01            1  23.378125   6.331875  29.710000   \n",
      "8         Box_Tree 2009-01-01            1  27.724167   5.664167  33.388333   \n",
      "9         Box_Tree 2011-01-01            1  21.977222   4.658333  26.635556   \n",
      "10        Box_Tree 2012-01-01            1  31.903077   6.178462  38.081538   \n",
      "11        Box_Tree 2013-01-01            1  24.810714   0.000000  24.810714   \n",
      "12        Box_Tree 2015-01-01            1  20.482000   0.000000  20.482000   \n",
      "13        Box_Tree 2016-01-01            1  25.433846   0.000000  25.433846   \n",
      "14        Box_Tree 2017-01-01            1  15.140000   0.000000  15.254286   \n",
      "15   Channel_Point 2001-01-01            1  45.598125  24.439375  70.037500   \n",
      "16        Cushmans 2001-01-01            1  23.525882  14.422353  37.948235   \n",
      "17        Cushmans 2002-01-01            1  17.778182   8.511818  26.290000   \n",
      "18        Cushmans 2005-01-01            1  35.262000   9.019500  44.281500   \n",
      "19        Cushmans 2010-01-01            1  26.552667   6.377333  32.930000   \n",
      "20        Cushmans 2011-01-01            1  33.964375  10.021250  43.985625   \n",
      "21        Cushmans 2012-01-01            1  15.295333   4.936000  20.231333   \n",
      "22        Cushmans 2013-01-01            1  25.689286   0.000000  25.689286   \n",
      "23        Cushmans 2015-01-01            1  18.032778   0.000000  18.032778   \n",
      "24        Cushmans 2016-01-01            1  27.162500   0.000000  27.162500   \n",
      "25        Cushmans 2017-01-01            1  11.702222   0.000000  12.221579   \n",
      "26           Gator 2000-01-01            1  17.768750   9.737500  27.506250   \n",
      "27           Gator 2001-01-01            1  14.356500   5.673000  20.029500   \n",
      "28           Gator 2002-01-01            1  11.115714   4.327857  15.443571   \n",
      "29           Gator 2003-01-01            1  16.205556   2.844444  19.050000   \n",
      "30           Gator 2004-01-01            1  23.732000   6.236000  29.968000   \n",
      "31           Gator 2005-01-01            1  34.086667   9.272222  43.358889   \n",
      "32           Gator 2007-01-01            1  32.970714  13.451429  46.422143   \n",
      "33           Gator 2008-01-01            1  26.096000  11.956000  38.052000   \n",
      "34           Gator 2009-01-01            1  19.209286   4.355000  23.564286   \n",
      "35           Gator 2010-01-01            1  26.112143   9.120714  35.232857   \n",
      "36           Gator 2011-01-01            1  39.247937   6.522687  45.770625   \n",
      "37           Gator 2012-01-01            1  40.335294  11.442941  51.778235   \n",
      "38           Gator 2013-01-01            1  30.754706   0.000000  30.754706   \n",
      "39           Gator 2015-01-01            1  18.418824   0.000000  18.418824   \n",
      "40           Gator 2016-01-01            1  22.456923   0.000000  22.456923   \n",
      "41           Gator 2017-01-01            1  10.301667   0.000000  10.301667   \n",
      "42    Greens_Creek 2000-01-01            1  23.092308  14.323077  37.415385   \n",
      "43             Hog 2000-01-01            1  35.248485  12.515152  47.763636   \n",
      "44             Hog 2001-01-01            1  41.019459  16.210541  57.230000   \n",
      "45             Hog 2007-01-01            1  29.585000  10.918182  40.503182   \n",
      "46             Hog 2008-01-01            1  36.473214  13.076071  49.549286   \n",
      "47             Hog 2009-01-01            1  31.507931   8.132414  39.640345   \n",
      "48             Hog 2010-01-01            1  41.482143   6.513214  47.995357   \n",
      "49             Hog 2011-01-01            1  48.691786  15.760357  64.452143   \n",
      "50             Hog 2012-01-01            1  50.734704   8.958778  59.693481   \n",
      "51             Hog 2013-01-01            1  37.329444   0.668333  37.997778   \n",
      "52             Hog 2015-01-01            1  32.718148   0.000000  32.718148   \n",
      "53             Hog 2016-01-01            1  29.530000   0.000000  29.530000   \n",
      "54             Hog 2017-01-01            1  11.740667   0.000000  12.226333   \n",
      "55      Indiantown 2000-01-01            1  36.100000  16.786667  52.886667   \n",
      "56      Indiantown 2001-01-01            1  32.725000  15.740000  48.465000   \n",
      "57      Indiantown 2002-01-01            1  14.539545   7.687273  22.226818   \n",
      "58      Indiantown 2003-01-01            1  24.766667  11.876190  36.642857   \n",
      "59      Indiantown 2004-01-01            1  32.583333  12.152222  44.735556   \n",
      "60      Indiantown 2007-01-01            1  28.940556  12.312222  41.252778   \n",
      "61      Indiantown 2008-01-01            1  39.339167  11.470833  50.810000   \n",
      "62      Indiantown 2009-01-01            1  47.105500  26.021500  73.127000   \n",
      "63      Indiantown 2011-01-01            1  27.606923   8.082615  35.689538   \n",
      "64      Indiantown 2012-01-01            1  20.313889   4.080000  24.393889   \n",
      "65      Indiantown 2013-01-01            1  38.113333   2.955000  41.068333   \n",
      "66      Indiantown 2015-01-01            1  24.503333   0.000000  24.503333   \n",
      "67      Indiantown 2016-01-01            1  30.642222   0.000000  30.642222   \n",
      "68        Kegotank 2001-01-01            1  27.480909  14.010000  41.490909   \n",
      "69      Mill_Creek 2000-01-01            1  27.945455  11.668182  39.613636   \n",
      "70      Mill_Creek 2001-01-01            1  26.703529  13.171176  39.874706   \n",
      "71   N_Brownsville 2003-01-01            1  21.380000  14.560000  35.940000   \n",
      "72   N_Brownsville 2004-01-01            1   6.254000   7.592000  13.846000   \n",
      "73   N_Brownsville 2007-01-01            1   0.433750   7.635438   8.069187   \n",
      "74   N_Brownsville 2009-01-01            1  28.902857  19.585714  48.488571   \n",
      "75   N_Brownsville 2010-01-01            1  15.430000  35.530000  50.960000   \n",
      "76   N_Brownsville 2011-01-01            1  52.980000   3.604000  56.584000   \n",
      "77   N_Brownsville 2012-01-01            1  31.820600   0.000000  21.513250   \n",
      "78          Oyster 2000-01-01            1  49.522222  16.883333  66.405556   \n",
      "79          Oyster 2001-01-01            1  43.932143  16.127143  60.059286   \n",
      "80          Oyster 2002-01-01            1  21.449412   6.758235  28.207647   \n",
      "81          Oyster 2003-01-01            1  41.370588   7.129412  48.500000   \n",
      "82          Oyster 2004-01-01            1  22.336471  16.001765  38.338235   \n",
      "83          Oyster 2005-01-01            1  37.091765   6.522941  43.614706   \n",
      "84          Oyster 2007-01-01            1  30.605455  10.483636  41.089091   \n",
      "85          Oyster 2008-01-01            1  28.562000   9.125333  37.687333   \n",
      "86          Oyster 2009-01-01            1  49.368571  10.509286  59.877857   \n",
      "87          Oyster 2010-01-01            1  33.148462   9.100769  42.249231   \n",
      "88          Oyster 2011-01-01            1  35.010429  10.776000  45.786429   \n",
      "89          Oyster 2013-01-01            1  34.738667   2.943333  37.682000   \n",
      "90          Oyster 2015-01-01            1  25.210000   0.000000  25.210000   \n",
      "91          Oyster 2016-01-01            1  36.220667   0.000000  36.220667   \n",
      "92          Oyster 2017-01-01            1  17.173333   0.000000  17.173333   \n",
      "93       Steelmans 2001-01-01            1  20.655556   8.071667  28.727222   \n",
      "94       Steelmans 2002-01-01            1  24.963125  18.616875  43.580000   \n",
      "95       Steelmans 2003-01-01            1  28.041176   3.906471  31.947647   \n",
      "96       Steelmans 2004-01-01            1  35.964667   7.922000  43.886667   \n",
      "97       Steelmans 2005-01-01            1  31.836154   3.882308  35.718462   \n",
      "98       Steelmans 2009-01-01            1  30.291333   7.883333  38.174667   \n",
      "99         Wallops 2001-01-01            1  36.838571  17.465000  54.303571   \n",
      "100  Woodland_Farm 2000-01-01            1  47.050000  23.750000  70.800000   \n",
      "\n",
      "      latitude  longitude  year  imagedate      ndvi  \n",
      "0    37.903114 -75.372740  2000 2000-09-01  0.509642  \n",
      "1    37.903114 -75.372740  2001 2001-08-03  0.665590  \n",
      "3    37.395746 -75.876094  2000 2000-09-01  0.621991  \n",
      "4    37.395746 -75.876094  2001 2001-08-03  0.618052  \n",
      "5    37.395746 -75.876094  2002 2002-08-22  0.636505  \n",
      "6    37.395746 -75.876094  2004 2004-08-11  0.644678  \n",
      "7    37.395746 -75.876094  2007 2007-08-04  0.593487  \n",
      "8    37.395746 -75.876094  2009 2009-08-09  0.646122  \n",
      "9    37.395746 -75.876094  2011 2011-08-15  0.612982  \n",
      "10   37.395746 -75.876094  2012 2012-09-26  0.539427  \n",
      "11   37.395746 -75.876094  2013 2013-09-05  0.642720  \n",
      "12   37.395746 -75.876094  2015 2015-09-27  0.551374  \n",
      "13   37.395746 -75.876094  2016 2016-08-12  0.683584  \n",
      "14   37.395746 -75.876094  2017 2017-08-31  0.633483  \n",
      "15   37.709249 -75.652248  2001 2001-08-03  0.496251  \n",
      "16   37.175055 -75.942331  2001 2001-08-03  0.386437  \n",
      "17   37.175055 -75.942331  2002 2002-08-22  0.295809  \n",
      "18   37.175055 -75.942331  2005 2005-08-14  0.439460  \n",
      "19   37.175055 -75.942331  2010 2010-08-28  0.444648  \n",
      "20   37.175055 -75.942331  2011 2011-08-15  0.331357  \n",
      "21   37.175055 -75.942331  2012 2012-09-26  0.360704  \n",
      "22   37.175055 -75.942331  2013 2013-09-05  0.443385  \n",
      "23   37.175055 -75.942331  2015 2015-09-27  0.485568  \n",
      "24   37.175055 -75.942331  2016 2016-08-12  0.525762  \n",
      "25   37.175055 -75.942331  2017 2017-09-01  0.387450  \n",
      "26   37.167409 -75.940586  2000 2000-09-01  0.288312  \n",
      "27   37.167409 -75.940586  2001 2001-08-03  0.333333  \n",
      "28   37.167409 -75.940586  2002 2002-08-22  0.244989  \n",
      "29   37.167409 -75.940586  2003 2003-08-25  0.391007  \n",
      "30   37.167409 -75.940586  2004 2004-08-11  0.339492  \n",
      "31   37.167409 -75.940586  2005 2005-08-14  0.428066  \n",
      "32   37.167409 -75.940586  2007 2007-08-04  0.297999  \n",
      "33   37.167409 -75.940586  2008 2008-08-22  0.268380  \n",
      "34   37.167409 -75.940586  2009 2009-08-09  0.362972  \n",
      "35   37.167409 -75.940586  2010 2010-08-28  0.335043  \n",
      "36   37.167409 -75.940586  2011 2011-08-15  0.377821  \n",
      "37   37.167409 -75.940586  2012 2012-09-26  0.302623  \n",
      "38   37.167409 -75.940586  2013 2013-09-05  0.453433  \n",
      "39   37.167409 -75.940586  2015 2015-09-27  0.486792  \n",
      "40   37.167409 -75.940586  2016 2016-08-12  0.475716  \n",
      "41   37.167409 -75.940586  2017 2017-09-02  0.432685  \n",
      "42   37.485033 -75.814954  2000 2000-09-01  0.147857  \n",
      "43   37.428746 -75.685951  2000 2000-09-01  0.599175  \n",
      "44   37.433515 -75.683165  2001 2001-08-03  0.604986  \n",
      "45   37.431379 -75.684412  2007 2007-08-04  0.505618  \n",
      "46   37.430956 -75.684660  2008 2008-08-22  0.581775  \n",
      "47   37.428655 -75.686004  2009 2009-08-09  0.585012  \n",
      "48   37.426300 -75.687380  2010 2010-08-28  0.556100  \n",
      "49   37.430956 -75.684660  2011 2011-08-15  0.578809  \n",
      "50   37.428599 -75.686037  2012 2012-09-26  0.468161  \n",
      "51   37.426990 -75.686977  2013 2013-09-05  0.530910  \n",
      "52   37.425380 -75.687918  2015 2015-09-27  0.478495  \n",
      "53   37.429404 -75.685567  2016 2016-08-12  0.641445  \n",
      "54   37.425058 -75.688106  2017 2017-09-04  0.570392  \n",
      "55   37.346190 -75.900996  2000 2000-09-01  0.589503  \n",
      "56   37.346190 -75.900996  2001 2001-08-03  0.573576  \n",
      "57   37.346190 -75.900996  2002 2002-08-22  0.552430  \n",
      "58   37.346190 -75.900996  2003 2003-08-25  0.590877  \n",
      "59   37.346190 -75.900996  2004 2004-08-11  0.550491  \n",
      "60   37.346190 -75.900996  2007 2007-08-04  0.556508  \n",
      "61   37.346190 -75.900996  2008 2008-08-22  0.651752  \n",
      "62   37.346190 -75.900996  2009 2009-08-09  0.554311  \n",
      "63   37.346190 -75.900996  2011 2011-08-15  0.554170  \n",
      "64   37.346190 -75.900996  2012 2012-09-26  0.490314  \n",
      "65   37.346190 -75.900996  2013 2013-09-05  0.649275  \n",
      "66   37.346190 -75.900996  2015 2015-09-27  0.663415  \n",
      "67   37.346190 -75.900996  2016 2016-08-12  0.722614  \n",
      "68   37.784154 -75.558264  2001 2001-08-03  0.373904  \n",
      "69   37.416783 -75.861733  2000 2000-09-01  0.440892  \n",
      "70   37.416783 -75.861733  2001 2001-08-03  0.322237  \n",
      "71   37.468043 -75.822928  2003 2003-08-25  0.482814  \n",
      "72   37.468043 -75.822928  2004 2004-08-11  0.569004  \n",
      "73   37.468043 -75.822928  2007 2007-08-04  0.431818  \n",
      "74   37.468043 -75.822928  2009 2009-08-09  0.543343  \n",
      "75   37.468043 -75.822928  2010 2010-08-28  0.545587  \n",
      "76   37.468043 -75.822928  2011 2011-08-15  0.612719  \n",
      "77   37.468043 -75.822928  2012 2012-09-26  0.593207  \n",
      "78   37.287549 -75.929133  2000 2000-09-01  0.493475  \n",
      "79   37.287549 -75.929133  2001 2001-08-03  0.593750  \n",
      "80   37.287549 -75.929133  2002 2002-08-22  0.490315  \n",
      "81   37.287549 -75.929133  2003 2003-08-25  0.602631  \n",
      "82   37.287549 -75.929133  2004 2004-08-11  0.556611  \n",
      "83   37.287549 -75.929133  2005 2005-08-14  0.644000  \n",
      "84   37.287549 -75.929133  2007 2007-08-04  0.503250  \n",
      "85   37.287549 -75.929133  2008 2008-08-22  0.561523  \n",
      "86   37.287549 -75.929133  2009 2009-08-09  0.580379  \n",
      "87   37.287549 -75.929133  2010 2010-08-28  0.557626  \n",
      "88   37.287549 -75.929133  2011 2011-08-15  0.535471  \n",
      "89   37.287549 -75.929133  2013 2013-09-05  0.617809  \n",
      "90   37.287549 -75.929133  2015 2015-09-27  0.569265  \n",
      "91   37.287549 -75.929133  2016 2016-08-12  0.633275  \n",
      "92   37.287549 -75.929133  2017 2017-09-08  0.642857  \n",
      "93   37.181277 -75.940690  2001 2001-08-03  0.287518  \n",
      "94   37.181277 -75.940690  2002 2002-08-22  0.141827  \n",
      "95   37.181277 -75.940690  2003 2003-08-25  0.316956  \n",
      "96   37.181277 -75.940690  2004 2004-08-11  0.296640  \n",
      "97   37.181277 -75.940690  2005 2005-08-14  0.362842  \n",
      "98   37.181277 -75.940690  2009 2009-08-09  0.212219  \n",
      "99   37.880000 -75.447000  2001 2001-08-03  0.479899  \n",
      "100  37.481998 -75.819360  2000 2000-09-01  0.374861  \n"
     ]
    }
   ],
   "source": [
    "##data analysis with cloud-masked data\n",
    "#masked_ndvi = pd.read_csv('/Users/asariversjulien/Documents/Data/CSV files/masked_ndvi.csv')\n",
    "l5l7l8 = pd.read_csv('/Users/asariversjulien/Documents/Data/CSV files/L5L7L8_combined.csv')\n",
    "masked_ndvi = pd.merge(newdf, l5l7l8, on=['year', 'siteName'])   \n",
    "    \n",
    "masked_ndvi['EOYBYear'] = pd.to_datetime(masked_ndvi['EOYBYear'], format = '%Y')\n",
    "masked_ndvi['imagedate'] = pd.to_datetime(masked_ndvi['imagedate'], format = '%m/%d/%y')\n",
    "masked_ndvi['year'] = pd.DatetimeIndex(pd.to_datetime(round(masked_ndvi['year']), format = '%Y')).year\n",
    "\n",
    "masked_ndvi = masked_ndvi[masked_ndvi['ndvi'] > 0] ##Gets rid of obviously flooded pixels and NA values\n",
    "\n",
    "with pd.option_context('display.max_rows', None, 'display.max_columns', None):  ## more options can be specified also\n",
    "    print(masked_ndvi)"
   ]
  },
  {
   "cell_type": "code",
   "execution_count": 26,
   "id": "1ca27853",
   "metadata": {},
   "outputs": [],
   "source": []
  },
  {
   "cell_type": "code",
   "execution_count": 14,
   "id": "e54baac9",
   "metadata": {},
   "outputs": [],
   "source": [
    "##Training and testing biomass ~ ndvi: getting datasets\n",
    "#train, test = train_test_split(masked_ndvi, test_size = 0.3) ##have to redo next chunk every time you run this\n"
   ]
  },
  {
   "cell_type": "code",
   "execution_count": 15,
   "id": "e6e31c6b",
   "metadata": {},
   "outputs": [
    {
     "name": "stdout",
     "output_type": "stream",
     "text": [
      "Intercept    16.066138\n",
      "ndvi         23.765770\n",
      "dtype: float64\n",
      "                            OLS Regression Results                            \n",
      "==============================================================================\n",
      "Dep. Variable:               liveMass   R-squared:                       0.075\n",
      "Model:                            OLS   Adj. R-squared:                  0.061\n",
      "Method:                 Least Squares   F-statistic:                     5.493\n",
      "Date:                Fri, 30 Apr 2021   Prob (F-statistic):             0.0220\n",
      "Time:                        14:34:06   Log-Likelihood:                -263.60\n",
      "No. Observations:                  70   AIC:                             531.2\n",
      "Df Residuals:                      68   BIC:                             535.7\n",
      "Df Model:                           1                                         \n",
      "Covariance Type:            nonrobust                                         \n",
      "==============================================================================\n",
      "                 coef    std err          t      P>|t|      [0.025      0.975]\n",
      "------------------------------------------------------------------------------\n",
      "Intercept     16.0661      5.235      3.069      0.003       5.620      26.513\n",
      "ndvi          23.7658     10.140      2.344      0.022       3.532      44.000\n",
      "==============================================================================\n",
      "Omnibus:                        1.357   Durbin-Watson:                   2.116\n",
      "Prob(Omnibus):                  0.507   Jarque-Bera (JB):                1.142\n",
      "Skew:                           0.311   Prob(JB):                        0.565\n",
      "Kurtosis:                       2.940   Cond. No.                         10.0\n",
      "==============================================================================\n",
      "\n",
      "Notes:\n",
      "[1] Standard Errors assume that the covariance matrix of the errors is correctly specified.\n"
     ]
    },
    {
     "name": "stderr",
     "output_type": "stream",
     "text": [
      "<ipython-input-15-e1599d91e8da>:10: SettingWithCopyWarning: \n",
      "A value is trying to be set on a copy of a slice from a DataFrame.\n",
      "Try using .loc[row_indexer,col_indexer] = value instead\n",
      "\n",
      "See the caveats in the documentation: https://pandas.pydata.org/pandas-docs/stable/user_guide/indexing.html#returning-a-view-versus-a-copy\n",
      "  test['predicted'] = 22.95 * test['ndvi'] + 17.93\n"
     ]
    },
    {
     "data": {
      "text/plain": [
       "10.287647086717048"
      ]
     },
     "execution_count": 15,
     "metadata": {},
     "output_type": "execute_result"
    },
    {
     "data": {
      "image/png": "[encoded data removed]",
      "text/plain": [
       "<Figure size 360x360 with 1 Axes>"
      ]
     },
     "metadata": {
      "needs_background": "light"
     },
     "output_type": "display_data"
    },
    {
     "data": {
      "image/png": "[encoded data removed]",
      "text/plain": [
       "<Figure size 360x360 with 1 Axes>"
      ]
     },
     "metadata": {
      "needs_background": "light"
     },
     "output_type": "display_data"
    }
   ],
   "source": [
    "##Training and testing biomass ~ ndvi\n",
    "result = sm.ols(formula=\"liveMass ~ ndvi\", data = train).fit() #mass = 22.95 * ndvi + 17.93\n",
    "print(result.params)\n",
    "print(result.summary())\n",
    "\n",
    "g = sns.lmplot(x = \"ndvi\", y = \"liveMass\", ci = 95, data=train) ##CI seems a little too small?\n",
    "g.set_axis_labels(\"NDVI value\", \"Average biomass (g/$m^2$)\")\n",
    "g.set(ylim=(0, None), xlim=(0, 1))\n",
    "\n",
    "test['predicted'] = 22.95 * test['ndvi'] + 17.93\n",
    "x = sns.lmplot(x = \"liveMass\", y = \"predicted\", ci = 1, data=test)\n",
    "x.set_axis_labels(\"Predicted biomass (g/$m^2$)\", \"Observed biomass (g/$m^2$)\")\n",
    "x.set(ylim=(0, None), xlim=(0, None))\n",
    "\n",
    "actual = test['liveMass']\n",
    "predicted = test['predicted']\n",
    "\n",
    "mse = sklearn.metrics.mean_squared_error(actual, predicted)\n",
    "sqrt(mse)"
   ]
  },
  {
   "cell_type": "code",
   "execution_count": 16,
   "id": "accepting-traveler",
   "metadata": {},
   "outputs": [
    {
     "data": {
      "text/plain": [
       "0.23069209766255905"
      ]
     },
     "execution_count": 16,
     "metadata": {},
     "output_type": "execute_result"
    },
    {
     "data": {
      "image/png": "[encoded data removed]",
      "text/plain": [
       "<Figure size 360x360 with 1 Axes>"
      ]
     },
     "metadata": {
      "needs_background": "light"
     },
     "output_type": "display_data"
    }
   ],
   "source": [
    "##Plots\n",
    "\n",
    "g = sns.lmplot(x = \"ndvi\", y = \"liveMass\", ci = 95, data=masked_ndvi) ##CI seems a little too small?\n",
    "g.set_axis_labels(\"NDVI value\", \"Average biomass (g/$m^2$)\")\n",
    "g.set(ylim=(0, None), xlim=(0, 1))\n",
    "\n",
    "masked_ndvi['ndvi'].corr(masked_ndvi['liveMass'], method = 'pearson')\n",
    "\n",
    "#my_path = os.path.abspath('/Users/asariversjulien/Documents/Georgia/Project')\n",
    "#my_file = 'p1.png'\n",
    "#g.savefig(os.path.join(my_path, my_file), bbox_inches = 'tight')\n",
    "\n",
    "##FLOODED PLOTS. something to consider with image collection that you have\n",
    "##Error bars???"
   ]
  },
  {
   "cell_type": "code",
   "execution_count": 17,
   "id": "751575f0",
   "metadata": {},
   "outputs": [
    {
     "name": "stdout",
     "output_type": "stream",
     "text": [
      "Intercept    19.298030\n",
      "ndvi         19.349946\n",
      "dtype: float64\n",
      "                            OLS Regression Results                            \n",
      "==============================================================================\n",
      "Dep. Variable:               liveMass   R-squared:                       0.053\n",
      "Model:                            OLS   Adj. R-squared:                  0.044\n",
      "Method:                 Least Squares   F-statistic:                     5.509\n",
      "Date:                Fri, 30 Apr 2021   Prob (F-statistic):             0.0209\n",
      "Time:                        14:34:40   Log-Likelihood:                -376.61\n",
      "No. Observations:                 100   AIC:                             757.2\n",
      "Df Residuals:                      98   BIC:                             762.4\n",
      "Df Model:                           1                                         \n",
      "Covariance Type:            nonrobust                                         \n",
      "==============================================================================\n",
      "                 coef    std err          t      P>|t|      [0.025      0.975]\n",
      "------------------------------------------------------------------------------\n",
      "Intercept     19.2980      4.218      4.575      0.000      10.927      27.669\n",
      "ndvi          19.3499      8.244      2.347      0.021       2.989      35.711\n",
      "==============================================================================\n",
      "Omnibus:                        0.663   Durbin-Watson:                   1.385\n",
      "Prob(Omnibus):                  0.718   Jarque-Bera (JB):                0.378\n",
      "Skew:                           0.142   Prob(JB):                        0.828\n",
      "Kurtosis:                       3.101   Cond. No.                         9.75\n",
      "==============================================================================\n",
      "\n",
      "Notes:\n",
      "[1] Standard Errors assume that the covariance matrix of the errors is correctly specified.\n"
     ]
    }
   ],
   "source": [
    "result = sm.ols(formula=\"liveMass ~ ndvi\", data = masked_ndvi).fit()\n",
    "print(result.params)\n",
    "print(result.summary())"
   ]
  },
  {
   "cell_type": "code",
   "execution_count": 18,
   "id": "through-gender",
   "metadata": {},
   "outputs": [
    {
     "data": {
      "text/plain": [
       "<seaborn.axisgrid.FacetGrid at 0x7fab433455b0>"
      ]
     },
     "execution_count": 18,
     "metadata": {},
     "output_type": "execute_result"
    },
    {
     "data": {
      "image/png": "[encoded data removed]",
      "text/plain": [
       "<Figure size 864x432 with 8 Axes>"
      ]
     },
     "metadata": {
      "needs_background": "light"
     },
     "output_type": "display_data"
    }
   ],
   "source": [
    "site_list = ['Box_Tree', 'Cushmans', 'Gator', 'Hog', 'Indiantown', 'N_Brownsville', 'Oyster', 'Steelmans']\n",
    "df2 = masked_ndvi[masked_ndvi['siteName'].isin(site_list)]\n",
    "g = sns.FacetGrid(df2, col=\"siteName\", col_wrap=4,  sharex=False)\n",
    "#g = sns.FacetGrid(masked_ndvi[masked_ndvi['siteName'] == 'Box_Tree'], col=\"siteName\",  sharex=False)\n",
    "g = g.map(plt.scatter, 'year', 'liveMass') ##interesting patterns here!!\n",
    "g.set_axis_labels(\"Year\", \"Biomass (g/$m^2$)\")\n",
    "##Boxtree/Cushmans/Hog/Oyster = steady decrease in biomass over time\n",
    "##Gator cyclical. Steelmans the only site that increased, but low N\n"
   ]
  },
  {
   "cell_type": "code",
   "execution_count": 69,
   "id": "35272004",
   "metadata": {},
   "outputs": [
    {
     "data": {
      "image/png": "[encoded data removed]",
      "text/plain": [
       "<Figure size 864x432 with 8 Axes>"
      ]
     },
     "metadata": {
      "needs_background": "light"
     },
     "output_type": "display_data"
    }
   ],
   "source": [
    "x_x = sns.FacetGrid(df2, col=\"siteName\", col_wrap=4,  sharex=False)\n",
    "g_x = x_x.map(plt.scatter, 'year', 'ndvi')"
   ]
  },
  {
   "cell_type": "code",
   "execution_count": 15,
   "id": "be108aba",
   "metadata": {},
   "outputs": [
    {
     "data": {
      "image/png": "[encoded data removed]",
      "text/plain": [
       "<Figure size 1728x216 with 8 Axes>"
      ]
     },
     "metadata": {
      "needs_background": "light"
     },
     "output_type": "display_data"
    }
   ],
   "source": [
    "y_y = sns.FacetGrid(df2, col=\"siteName\",  sharex=False) ##the way I'm doing things, ndvi bad predictor!!\n",
    "g_y = y_y.map(plt.scatter, 'ndvi', 'liveMass')"
   ]
  },
  {
   "cell_type": "code",
   "execution_count": 25,
   "id": "3833ec34",
   "metadata": {},
   "outputs": [
    {
     "name": "stdout",
     "output_type": "stream",
     "text": [
      "hi\n"
     ]
    }
   ],
   "source": [
    "##training/testing datasets!!! not really worth doing?"
   ]
  },
  {
   "cell_type": "code",
   "execution_count": 26,
   "id": "f2b36d93",
   "metadata": {},
   "outputs": [
    {
     "name": "stdout",
     "output_type": "stream",
     "text": [
      "hi\n"
     ]
    }
   ],
   "source": [
    "print(\"hi\")"
   ]
  }
 ],
 "metadata": {
  "kernelspec": {
   "display_name": "feesh",
   "language": "python",
   "name": "feesh"
  },
  "language_info": {
   "codemirror_mode": {
    "name": "ipython",
    "version": 3
   },
   "file_extension": ".py",
   "mimetype": "text/x-python",
   "name": "python",
   "nbconvert_exporter": "python",
   "pygments_lexer": "ipython3",
   "version": "3.9.4"
  }
 },
 "nbformat": 4,
 "nbformat_minor": 5
}
