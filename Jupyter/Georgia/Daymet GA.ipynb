{
 "cells": [
  {
   "cell_type": "code",
   "execution_count": 1,
   "id": "bf46606f",
   "metadata": {},
   "outputs": [],
   "source": [
    "import geemap\n",
    "import pandas as pd\n",
    "import numpy as np\n",
    "import matplotlib.pyplot as plt\n",
    "import pdb\n",
    "from IPython.display import display\n",
    "import ee\n",
    "import os"
   ]
  },
  {
   "cell_type": "code",
   "execution_count": 14,
   "id": "c9575399",
   "metadata": {},
   "outputs": [
    {
     "data": {
      "application/vnd.jupyter.widget-view+json": {
       "model_id": "4417d901cd4043dd85ff210dce83ba9a",
       "version_major": 2,
       "version_minor": 0
      },
      "text/plain": [
       "Map(center=[40, -100], controls=(WidgetControl(options=['position', 'transparent_bg'], widget=HBox(children=(T…"
      ]
     },
     "metadata": {},
     "output_type": "display_data"
    },
    {
     "data": {
      "application/javascript": [
       "\n",
       "        var code = IPython.notebook.insert_cell_below('code');\n",
       "        code.set_text(atob(\"aW1wb3J0IGdlZW1hcAoKTWFwID0gZ2VlbWFwLk1hcCgpCgpzYW1wbGVzID0gY2g0LmFkZEJhbmRzKGVlLkltYWdlLnBpeGVsTG9uTGF0KCkpIFwKICAuc2FtcGxlKHtyZWdpb246IGFvaSwgbnVtUGl4ZWxzOiAxNTAwLAogICAgJ3NjYWxlJzoxMDAwLCAncHJvamVjdGlvbic6ICdFUFNHOjQzMjYnfSkKCmRlZiBmdW5jX3hrdihzYW1wbGUpOgogICAgbGF0ID0gc2FtcGxlLmdldCgnbGF0aXR1ZGUnKQogICAgbG9uID0gc2FtcGxlLmdldCgnbG9uZ2l0dWRlJykKICAgIGNoNCA9IHNhbXBsZS5nZXQoJ2NoNCcpCiAgICByZXR1cm4gZWUuRmVhdHVyZShlZS5HZW9tZXRyeS5Qb2ludChbbG9uLCBsYXRdKSwgeydjaDQnOiBjaDR9KSBcCiAgLm1hcChmdW5jX3hrdikKCiMgQ29tYmluZSBtZWFuIGFuZCBzdGFuZGFyZCBkZXZpYXRpb24gcmVkdWNlcnMgZm9yIGVmZmljaWVuY3kuCmNvbWJpbmVkUmVkdWNlciA9IGVlLlJlZHVjZXIubWVhbigpLmNvbWJpbmUoewogICdyZWR1Y2VyMic6IGVlLlJlZHVjZXIuc3RkRGV2KCksCiAgJ3NoYXJlZElucHV0cyc6IFRydWV9KQoKIyBFc3RpbWF0ZSBnbG9iYWwgbWVhbiBhbmQgc3RhbmRhcmQgZGV2aWF0aW9uIGZyb20gdGhlIHBvaW50cy4Kc3RhdHMgPSBzYW1wbGVzLnJlZHVjZUNvbHVtbnMoewogICdyZWR1Y2VyJzogY29tYmluZWRSZWR1Y2VyLAogICdzZWxlY3RvcnMnOiBbJ2NoNCddfSkKCiMgRG8gdGhlIGludGVycG9sYXRpb24sIHZhbGlkIHRvIDcwIGtpbG9tZXRlcnMuCmludGVycG9sYXRlZCA9IHNhbXBsZXMuaW52ZXJzZURpc3RhbmNlKHsKICAncmFuZ2UnOiA3ZTQsCiAgJ3Byb3BlcnR5TmFtZSc6ICdjaDQnLAogICdtZWFuJzogc3RhdHMuZ2V0KCdtZWFuJyksCiAgJ3N0ZERldic6IHN0YXRzLmdldCgnc3RkRGV2JyksCiAgJ2dhbW1hJzogMC4zfSkKCiMgRGVmaW5lIHZpc3VhbGl6YXRpb24gYXJndW1lbnRzLgpiYW5kX3ZpeiA9IHsKICAnbWluJzogMTgwMCwKICAnbWF4JzogMTkwMCwKICAncGFsZXR0ZSc6IFsnMEQwODg3JywgJzVCMDJBMycsICc5QTE3OUInLCAnQ0I0Njc4JywKICAgICAgICAgICAgJ0VCNzg1MicsICdGQkIzMkYnLCAnRjBGOTIxJ119CgojIERpc3BsYXkgdG8gbWFwLgpNYXAuY2VudGVyT2JqZWN0KGFvaSwgNykKTWFwLmFkZExheWVyKGNoNCwgYmFuZF92aXosICdDSDQnKQpNYXAuYWRkTGF5ZXIoaW50ZXJwb2xhdGVkLCBiYW5kX3ZpeiwgJ0NINCBJbnRlcnBvbGF0ZWQnKQpNYXA=\"));\n",
       "    "
      ],
      "text/plain": [
       "<IPython.core.display.Javascript object>"
      ]
     },
     "metadata": {},
     "output_type": "display_data"
    }
   ],
   "source": [
    "ee.Initialize()\n",
    "\n",
    "daymet = ee.ImageCollection('NASA/ORNL/DAYMET_V4') \\\n",
    "     .filter(ee.Filter.date('2019-01-01', '2019-12-31')) \\\n",
    "     .mean() ##Will mess up the toBands() function if mean is included - see below (daymet2) for this operation\n",
    "##Note: there are 7 measurements per day (2555 per year except on leapyears) \n",
    "\n",
    "# daymet2 = ee.ImageCollection('NASA/ORNL/DAYMET_V4') \\\n",
    "#      .filter(ee.Filter.date('2000-01-01', '2000-12-31'))\n",
    "\n",
    "roi = ee.Geometry.Polygon(\n",
    "        [\n",
    "            [\n",
    "                [-81.1093, 31.6045],\n",
    "                [-81.2000, 31.2060],\n",
    "                [-81.5351, 31.2623],\n",
    "                [-81.4280, 31.6349]\n",
    "            ]\n",
    "        ]\n",
    "    )\n",
    "\n",
    "dm_precip = daymet.select('prcp')\n",
    "dm_maxtemp = daymet.select('tmax')\n",
    "dm_mintemp = daymet.select('tmin')\n",
    "dm_daylight = daymet.select('dayl')\n",
    "dm_srad = daymet.select('srad')\n",
    "dm_snow = daymet.select('swe')\n",
    "dm_vapor = daymet.select('vp')\n",
    "\n",
    "prcpVis = {\n",
    "  'min': -40.0,\n",
    "  'max': 30.0,\n",
    "  'palette': ['1621A2', 'white', 'cyan', 'green', 'yellow', 'orange', 'red'],\n",
    "}\n",
    "\n",
    "daylVis = {\n",
    "  'min': 0,\n",
    "  'max': 50000.0,\n",
    "  'palette': ['1621A2', 'white', 'cyan', 'green', 'yellow', 'orange', 'red'],\n",
    "}\n",
    "\n",
    "sradVis = {\n",
    "  'min': 0,\n",
    "  'max': 400.0,\n",
    "  'palette': ['1621A2', 'white', 'cyan', 'green', 'yellow', 'orange', 'red'],\n",
    "}\n",
    "\n",
    "vpVis = {\n",
    "  'min': 0,\n",
    "  'max': 1500,\n",
    "  'palette': ['1621A2', 'white', 'cyan', 'green', 'yellow', 'orange', 'red'],\n",
    "}\n",
    "\n",
    "Map = geemap.Map(center=[40,-100], zoom=4)\n",
    "Map.addLayer(dm_precip, prcpVis, \"Precipitation\")\n",
    "Map.addLayer(dm_maxtemp, prcpVis, \"Maxtemp\")\n",
    "Map.addLayer(dm_mintemp, prcpVis, \"Mintemp\")\n",
    "Map.addLayer(dm_daylight, daylVis, \"Daylight\")\n",
    "Map.addLayer(dm_srad, sradVis, \"SRAD\")\n",
    "Map.addLayer(dm_snow, prcpVis, \"Snowpack water?\")\n",
    "Map.addLayer(dm_vapor, vpVis, \"Vaporpressure\")\n",
    "\n",
    "Map.addLayer(roi, name = \"Region of interest\")\n",
    "\n",
    "Map\n",
    "\n",
    "##For the year 2000, site near blackbeard creek entrance is missing daymet data! Check to see if that's the same for all years\n",
    "##EDIT: it looks like it's going to be for all years"
   ]
  },
  {
   "cell_type": "code",
   "execution_count": 15,
   "id": "f12686d6",
   "metadata": {},
   "outputs": [],
   "source": [
    "# daymet.getInfo()\n",
    "# daymet2.getInfo()"
   ]
  },
  {
   "cell_type": "code",
   "execution_count": 4,
   "id": "0043935c",
   "metadata": {},
   "outputs": [],
   "source": [
    "##Convert imagecollection to bands/ee.image, from: \n",
    "##https://ecodata.nrel.colostate.edu/gdpe-gee-remote-sensing-lessons/module4-interoperability.html#daySmet-weather-data\n",
    "\n",
    "# DaymetImage = daymet2.toBands()\n",
    "\n",
    "##check this site out to try to average bands for analysis: \n",
    "##https://gis.stackexchange.com/questions/384421/temporally-reducing-image-bands-using-google-earth-engine\n",
    "\n",
    "# Mean_dm = daymet \\\n",
    "#   .toBands() \\\n",
    "#   .filterBounds(geometry)\n",
    "\n",
    "# print(DaymetImage, \"DaymetImage\")"
   ]
  },
  {
   "cell_type": "code",
   "execution_count": 5,
   "id": "c76efca1",
   "metadata": {
    "scrolled": true
   },
   "outputs": [],
   "source": [
    "##Exporting pixel values from points\n",
    "coords_year = 'C:/Users/arj26323/Documents/Data/Biomass datasets/Daymet/GA/Coords_year/NoFlower/coords_2019.csv'\n",
    "##NoFlower folder is identical to Coords_year folder, with flowering status removed (confuses csv_to_ee function)\n",
    "fc_coords = geemap.csv_to_ee(coords_year, latitude = \"Latitude\", longitude = \"Longitude\")\n",
    "\n",
    "Map.addLayer(fc_coords, {}, \"fc_coords\")\n",
    "\n",
    "##export data\n",
    "out_dir = os.path.expanduser('~/Downloads')\n",
    "out_csv = os.path.join(out_dir, 'daymet2019.csv')\n",
    "\n",
    "# geemap.extract_values_to_points(fc_coords, daymet, out_csv, scale = 500) #Scale specified due to error.MAKE SURE it's right\n",
    "\n",
    "##note: scale = 500 was chosen because 1000 yielded more NaNs. Same results as scale = 1000\n",
    "\n",
    "##Deprecated:\n",
    "# geemap.extract_values_to_points(fc_coords, DaymetImage, out_csv)\n",
    "#out_shp = os.path.join(out_dir, 'points.shp') ##shapefile exporting"
   ]
  },
  {
   "cell_type": "code",
   "execution_count": 23,
   "id": "ccc17c62",
   "metadata": {},
   "outputs": [
    {
     "ename": "EEException",
     "evalue": "Invalid GeoJSON geometry.",
     "output_type": "error",
     "traceback": [
      "\u001b[1;31m---------------------------------------------------------------------------\u001b[0m",
      "\u001b[1;31mEEException\u001b[0m                               Traceback (most recent call last)",
      "\u001b[1;32m~\\AppData\\Local\\Temp/ipykernel_12220/493808793.py\u001b[0m in \u001b[0;36m<module>\u001b[1;34m\u001b[0m\n\u001b[0;32m      1\u001b[0m \u001b[1;31m##Interpolating daymet data for missing site\u001b[0m\u001b[1;33m\u001b[0m\u001b[1;33m\u001b[0m\u001b[0m\n\u001b[0;32m      2\u001b[0m \u001b[1;33m\u001b[0m\u001b[0m\n\u001b[1;32m----> 3\u001b[1;33m \u001b[0msamples\u001b[0m \u001b[1;33m=\u001b[0m \u001b[0mdaymet\u001b[0m\u001b[1;33m.\u001b[0m\u001b[0maddBands\u001b[0m\u001b[1;33m(\u001b[0m\u001b[0mee\u001b[0m\u001b[1;33m.\u001b[0m\u001b[0mImage\u001b[0m\u001b[1;33m.\u001b[0m\u001b[0mpixelLonLat\u001b[0m\u001b[1;33m(\u001b[0m\u001b[1;33m)\u001b[0m\u001b[1;33m)\u001b[0m\u001b[0;31m \u001b[0m\u001b[0;31m\\\u001b[0m\u001b[1;33m\u001b[0m\u001b[1;33m\u001b[0m\u001b[0m\n\u001b[0m\u001b[0;32m      4\u001b[0m   \u001b[1;33m.\u001b[0m\u001b[0msample\u001b[0m\u001b[1;33m(\u001b[0m\u001b[1;33m{\u001b[0m\u001b[1;34m'region'\u001b[0m\u001b[1;33m:\u001b[0m \u001b[0mroi\u001b[0m\u001b[1;33m,\u001b[0m \u001b[1;34m'numPixels'\u001b[0m\u001b[1;33m:\u001b[0m \u001b[1;36m100\u001b[0m\u001b[1;33m}\u001b[0m\u001b[1;33m)\u001b[0m\u001b[1;33m\u001b[0m\u001b[1;33m\u001b[0m\u001b[0m\n\u001b[0;32m      5\u001b[0m \u001b[1;33m\u001b[0m\u001b[0m\n",
      "\u001b[1;32mC:\\ProgramData\\Anaconda3\\envs\\venv\\lib\\site-packages\\ee\\apifunction.py\u001b[0m in \u001b[0;36m<lambda>\u001b[1;34m(*args, **kwargs)\u001b[0m\n\u001b[0;32m    203\u001b[0m         \u001b[1;32mdef\u001b[0m \u001b[0mMakeBoundFunction\u001b[0m\u001b[1;33m(\u001b[0m\u001b[0mfunc\u001b[0m\u001b[1;33m)\u001b[0m\u001b[1;33m:\u001b[0m\u001b[1;33m\u001b[0m\u001b[1;33m\u001b[0m\u001b[0m\n\u001b[0;32m    204\u001b[0m           \u001b[1;31m# We need the lambda to capture \"func\" from the enclosing scope.\u001b[0m\u001b[1;33m\u001b[0m\u001b[1;33m\u001b[0m\u001b[0m\n\u001b[1;32m--> 205\u001b[1;33m           \u001b[1;32mreturn\u001b[0m \u001b[1;32mlambda\u001b[0m \u001b[1;33m*\u001b[0m\u001b[0margs\u001b[0m\u001b[1;33m,\u001b[0m \u001b[1;33m**\u001b[0m\u001b[0mkwargs\u001b[0m\u001b[1;33m:\u001b[0m \u001b[0mfunc\u001b[0m\u001b[1;33m.\u001b[0m\u001b[0mcall\u001b[0m\u001b[1;33m(\u001b[0m\u001b[1;33m*\u001b[0m\u001b[0margs\u001b[0m\u001b[1;33m,\u001b[0m \u001b[1;33m**\u001b[0m\u001b[0mkwargs\u001b[0m\u001b[1;33m)\u001b[0m  \u001b[1;31m# pylint: disable=unnecessary-lambda\u001b[0m\u001b[1;33m\u001b[0m\u001b[1;33m\u001b[0m\u001b[0m\n\u001b[0m\u001b[0;32m    206\u001b[0m         \u001b[0mbound_function\u001b[0m \u001b[1;33m=\u001b[0m \u001b[0mMakeBoundFunction\u001b[0m\u001b[1;33m(\u001b[0m\u001b[0mapi_func\u001b[0m\u001b[1;33m)\u001b[0m\u001b[1;33m\u001b[0m\u001b[1;33m\u001b[0m\u001b[0m\n\u001b[0;32m    207\u001b[0m \u001b[1;33m\u001b[0m\u001b[0m\n",
      "\u001b[1;32mC:\\ProgramData\\Anaconda3\\envs\\venv\\lib\\site-packages\\ee\\function.py\u001b[0m in \u001b[0;36mcall\u001b[1;34m(self, *args, **kwargs)\u001b[0m\n\u001b[0;32m     65\u001b[0m       \u001b[0mto\u001b[0m \u001b[0mthat\u001b[0m \u001b[0mtype\u001b[0m\u001b[1;33m.\u001b[0m\u001b[1;33m\u001b[0m\u001b[1;33m\u001b[0m\u001b[0m\n\u001b[0;32m     66\u001b[0m     \"\"\"\n\u001b[1;32m---> 67\u001b[1;33m     \u001b[1;32mreturn\u001b[0m \u001b[0mself\u001b[0m\u001b[1;33m.\u001b[0m\u001b[0mapply\u001b[0m\u001b[1;33m(\u001b[0m\u001b[0mself\u001b[0m\u001b[1;33m.\u001b[0m\u001b[0mnameArgs\u001b[0m\u001b[1;33m(\u001b[0m\u001b[0margs\u001b[0m\u001b[1;33m,\u001b[0m \u001b[0mkwargs\u001b[0m\u001b[1;33m)\u001b[0m\u001b[1;33m)\u001b[0m\u001b[1;33m\u001b[0m\u001b[1;33m\u001b[0m\u001b[0m\n\u001b[0m\u001b[0;32m     68\u001b[0m \u001b[1;33m\u001b[0m\u001b[0m\n\u001b[0;32m     69\u001b[0m   \u001b[1;32mdef\u001b[0m \u001b[0mapply\u001b[0m\u001b[1;33m(\u001b[0m\u001b[0mself\u001b[0m\u001b[1;33m,\u001b[0m \u001b[0mnamed_args\u001b[0m\u001b[1;33m)\u001b[0m\u001b[1;33m:\u001b[0m\u001b[1;33m\u001b[0m\u001b[1;33m\u001b[0m\u001b[0m\n",
      "\u001b[1;32mC:\\ProgramData\\Anaconda3\\envs\\venv\\lib\\site-packages\\ee\\function.py\u001b[0m in \u001b[0;36mapply\u001b[1;34m(self, named_args)\u001b[0m\n\u001b[0;32m     78\u001b[0m       \u001b[0mto\u001b[0m \u001b[0mthat\u001b[0m \u001b[0mtype\u001b[0m\u001b[1;33m.\u001b[0m\u001b[1;33m\u001b[0m\u001b[1;33m\u001b[0m\u001b[0m\n\u001b[0;32m     79\u001b[0m     \"\"\"\n\u001b[1;32m---> 80\u001b[1;33m     \u001b[0mresult\u001b[0m \u001b[1;33m=\u001b[0m \u001b[0mcomputedobject\u001b[0m\u001b[1;33m.\u001b[0m\u001b[0mComputedObject\u001b[0m\u001b[1;33m(\u001b[0m\u001b[0mself\u001b[0m\u001b[1;33m,\u001b[0m \u001b[0mself\u001b[0m\u001b[1;33m.\u001b[0m\u001b[0mpromoteArgs\u001b[0m\u001b[1;33m(\u001b[0m\u001b[0mnamed_args\u001b[0m\u001b[1;33m)\u001b[0m\u001b[1;33m)\u001b[0m\u001b[1;33m\u001b[0m\u001b[1;33m\u001b[0m\u001b[0m\n\u001b[0m\u001b[0;32m     81\u001b[0m     \u001b[1;32mreturn\u001b[0m \u001b[0mFunction\u001b[0m\u001b[1;33m.\u001b[0m\u001b[0m_promoter\u001b[0m\u001b[1;33m(\u001b[0m\u001b[0mresult\u001b[0m\u001b[1;33m,\u001b[0m \u001b[0mself\u001b[0m\u001b[1;33m.\u001b[0m\u001b[0mgetReturnType\u001b[0m\u001b[1;33m(\u001b[0m\u001b[1;33m)\u001b[0m\u001b[1;33m)\u001b[0m\u001b[1;33m\u001b[0m\u001b[1;33m\u001b[0m\u001b[0m\n\u001b[0;32m     82\u001b[0m \u001b[1;33m\u001b[0m\u001b[0m\n",
      "\u001b[1;32mC:\\ProgramData\\Anaconda3\\envs\\venv\\lib\\site-packages\\ee\\function.py\u001b[0m in \u001b[0;36mpromoteArgs\u001b[1;34m(self, args)\u001b[0m\n\u001b[0;32m    105\u001b[0m       \u001b[0mname\u001b[0m \u001b[1;33m=\u001b[0m \u001b[0mspec\u001b[0m\u001b[1;33m[\u001b[0m\u001b[1;34m'name'\u001b[0m\u001b[1;33m]\u001b[0m\u001b[1;33m\u001b[0m\u001b[1;33m\u001b[0m\u001b[0m\n\u001b[0;32m    106\u001b[0m       \u001b[1;32mif\u001b[0m \u001b[0mname\u001b[0m \u001b[1;32min\u001b[0m \u001b[0margs\u001b[0m\u001b[1;33m:\u001b[0m\u001b[1;33m\u001b[0m\u001b[1;33m\u001b[0m\u001b[0m\n\u001b[1;32m--> 107\u001b[1;33m         \u001b[0mpromoted_args\u001b[0m\u001b[1;33m[\u001b[0m\u001b[0mname\u001b[0m\u001b[1;33m]\u001b[0m \u001b[1;33m=\u001b[0m \u001b[0mFunction\u001b[0m\u001b[1;33m.\u001b[0m\u001b[0m_promoter\u001b[0m\u001b[1;33m(\u001b[0m\u001b[0margs\u001b[0m\u001b[1;33m[\u001b[0m\u001b[0mname\u001b[0m\u001b[1;33m]\u001b[0m\u001b[1;33m,\u001b[0m \u001b[0mspec\u001b[0m\u001b[1;33m[\u001b[0m\u001b[1;34m'type'\u001b[0m\u001b[1;33m]\u001b[0m\u001b[1;33m)\u001b[0m\u001b[1;33m\u001b[0m\u001b[1;33m\u001b[0m\u001b[0m\n\u001b[0m\u001b[0;32m    108\u001b[0m       \u001b[1;32melif\u001b[0m \u001b[1;32mnot\u001b[0m \u001b[0mspec\u001b[0m\u001b[1;33m.\u001b[0m\u001b[0mget\u001b[0m\u001b[1;33m(\u001b[0m\u001b[1;34m'optional'\u001b[0m\u001b[1;33m)\u001b[0m\u001b[1;33m:\u001b[0m\u001b[1;33m\u001b[0m\u001b[1;33m\u001b[0m\u001b[0m\n\u001b[0;32m    109\u001b[0m         raise ee_exception.EEException(\n",
      "\u001b[1;32mC:\\ProgramData\\Anaconda3\\envs\\venv\\lib\\site-packages\\ee\\__init__.py\u001b[0m in \u001b[0;36m_Promote\u001b[1;34m(arg, klass)\u001b[0m\n\u001b[0;32m    229\u001b[0m       \u001b[1;32mreturn\u001b[0m \u001b[0mApiFunction\u001b[0m\u001b[1;33m.\u001b[0m\u001b[0mcall_\u001b[0m\u001b[1;33m(\u001b[0m\u001b[1;34m'Collection.geometry'\u001b[0m\u001b[1;33m,\u001b[0m \u001b[0marg\u001b[0m\u001b[1;33m)\u001b[0m\u001b[1;33m\u001b[0m\u001b[1;33m\u001b[0m\u001b[0m\n\u001b[0;32m    230\u001b[0m     \u001b[1;32melse\u001b[0m\u001b[1;33m:\u001b[0m\u001b[1;33m\u001b[0m\u001b[1;33m\u001b[0m\u001b[0m\n\u001b[1;32m--> 231\u001b[1;33m       \u001b[1;32mreturn\u001b[0m \u001b[0mGeometry\u001b[0m\u001b[1;33m(\u001b[0m\u001b[0marg\u001b[0m\u001b[1;33m)\u001b[0m\u001b[1;33m\u001b[0m\u001b[1;33m\u001b[0m\u001b[0m\n\u001b[0m\u001b[0;32m    232\u001b[0m   \u001b[1;32melif\u001b[0m \u001b[0mklass\u001b[0m \u001b[1;32min\u001b[0m \u001b[1;33m(\u001b[0m\u001b[1;34m'FeatureCollection'\u001b[0m\u001b[1;33m,\u001b[0m \u001b[1;34m'Collection'\u001b[0m\u001b[1;33m)\u001b[0m\u001b[1;33m:\u001b[0m\u001b[1;33m\u001b[0m\u001b[1;33m\u001b[0m\u001b[0m\n\u001b[0;32m    233\u001b[0m     \u001b[1;31m# For now Collection is synonymous with FeatureCollection.\u001b[0m\u001b[1;33m\u001b[0m\u001b[1;33m\u001b[0m\u001b[0m\n",
      "\u001b[1;32mC:\\ProgramData\\Anaconda3\\envs\\venv\\lib\\site-packages\\ee\\computedobject.py\u001b[0m in \u001b[0;36m__call__\u001b[1;34m(cls, *args, **kwargs)\u001b[0m\n\u001b[0;32m     30\u001b[0m       \u001b[1;32mreturn\u001b[0m \u001b[0margs\u001b[0m\u001b[1;33m[\u001b[0m\u001b[1;36m0\u001b[0m\u001b[1;33m]\u001b[0m\u001b[1;33m\u001b[0m\u001b[1;33m\u001b[0m\u001b[0m\n\u001b[0;32m     31\u001b[0m     \u001b[1;32melse\u001b[0m\u001b[1;33m:\u001b[0m\u001b[1;33m\u001b[0m\u001b[1;33m\u001b[0m\u001b[0m\n\u001b[1;32m---> 32\u001b[1;33m       \u001b[1;32mreturn\u001b[0m \u001b[0mtype\u001b[0m\u001b[1;33m.\u001b[0m\u001b[0m__call__\u001b[0m\u001b[1;33m(\u001b[0m\u001b[0mcls\u001b[0m\u001b[1;33m,\u001b[0m \u001b[1;33m*\u001b[0m\u001b[0margs\u001b[0m\u001b[1;33m,\u001b[0m \u001b[1;33m**\u001b[0m\u001b[0mkwargs\u001b[0m\u001b[1;33m)\u001b[0m\u001b[1;33m\u001b[0m\u001b[1;33m\u001b[0m\u001b[0m\n\u001b[0m\u001b[0;32m     33\u001b[0m \u001b[1;33m\u001b[0m\u001b[0m\n\u001b[0;32m     34\u001b[0m \u001b[1;33m\u001b[0m\u001b[0m\n",
      "\u001b[1;32mC:\\ProgramData\\Anaconda3\\envs\\venv\\lib\\site-packages\\ee\\geometry.py\u001b[0m in \u001b[0;36m__init__\u001b[1;34m(self, geo_json, opt_proj, opt_geodesic, opt_evenOdd)\u001b[0m\n\u001b[0;32m     82\u001b[0m \u001b[1;33m\u001b[0m\u001b[0m\n\u001b[0;32m     83\u001b[0m     \u001b[1;32mif\u001b[0m \u001b[1;32mnot\u001b[0m \u001b[0mGeometry\u001b[0m\u001b[1;33m.\u001b[0m\u001b[0m_isValidGeometry\u001b[0m\u001b[1;33m(\u001b[0m\u001b[0mgeo_json\u001b[0m\u001b[1;33m)\u001b[0m\u001b[1;33m:\u001b[0m\u001b[1;33m\u001b[0m\u001b[1;33m\u001b[0m\u001b[0m\n\u001b[1;32m---> 84\u001b[1;33m       \u001b[1;32mraise\u001b[0m \u001b[0mee_exception\u001b[0m\u001b[1;33m.\u001b[0m\u001b[0mEEException\u001b[0m\u001b[1;33m(\u001b[0m\u001b[1;34m'Invalid GeoJSON geometry.'\u001b[0m\u001b[1;33m)\u001b[0m\u001b[1;33m\u001b[0m\u001b[1;33m\u001b[0m\u001b[0m\n\u001b[0m\u001b[0;32m     85\u001b[0m \u001b[1;33m\u001b[0m\u001b[0m\n\u001b[0;32m     86\u001b[0m     \u001b[0msuper\u001b[0m\u001b[1;33m(\u001b[0m\u001b[0mGeometry\u001b[0m\u001b[1;33m,\u001b[0m \u001b[0mself\u001b[0m\u001b[1;33m)\u001b[0m\u001b[1;33m.\u001b[0m\u001b[0m__init__\u001b[0m\u001b[1;33m(\u001b[0m\u001b[1;32mNone\u001b[0m\u001b[1;33m,\u001b[0m \u001b[1;32mNone\u001b[0m\u001b[1;33m)\u001b[0m\u001b[1;33m\u001b[0m\u001b[1;33m\u001b[0m\u001b[0m\n",
      "\u001b[1;31mEEException\u001b[0m: Invalid GeoJSON geometry."
     ]
    }
   ],
   "source": [
    "##Interpolating daymet data for missing site\n",
    "\n",
    "##NOT SURE HOW THIS WILL WORK\n",
    "\n",
    "samples = daymet.addBands(ee.Image.pixelLonLat()) \\\n",
    "  .sample({'region': roi, 'numPixels': 1500,\n",
    "    'scale':1000, 'projection': 'EPSG:4326'})\n",
    "\n",
    "def func_xkv(sample):\n",
    "    lat = sample.get('latitude')\n",
    "    lon = sample.get('longitude')\n",
    "    prcp = sample.get('prcp')\n",
    "    tmax = sample.get('tmax')\n",
    "    tmin = sample.get('tmin')\n",
    "    srad = sample.get('srad')\n",
    "    vp = sample.get('vp')\n",
    "    swe = sample.get('swe')\n",
    "    dayl = sample.get('dayl')\n",
    "    return ee.Feature(ee.Geometry.Point([lon, lat]), {'prcp': prcp}, {'tmax': tmax}, {'tmin': tmin}, {'srad': srad} \\\n",
    "                     , {'vp': vp}, {'swe': swe}, {'dayl': dayl}) \\\n",
    "  .map(func_xkv)\n",
    "\n",
    "# Combine mean and standard deviation reducers for efficiency.\n",
    "combinedReducer = ee.Reducer.mean().combine({\n",
    "  'reducer2': ee.Reducer.stdDev(),\n",
    "  'sharedInputs': True})\n",
    "\n",
    "# Estimate global mean and standard deviation from the points.\n",
    "stats = samples.reduceColumns({\n",
    "  'reducer': combinedReducer,\n",
    "  'selectors': ['prcp', 'tmax', 'tmin', 'srad', 'vp', 'swe', 'dayl']})\n",
    "\n",
    "# Do the interpolation, valid to 70 kilometers.\n",
    "interpolated = samples.inverseDistance({\n",
    "  'range': 10,\n",
    "  'propertyName': 'ch4',\n",
    "  'mean': stats.get('mean'),\n",
    "  'stdDev': stats.get('stdDev'),\n",
    "  'gamma': 0.3})\n",
    "\n",
    "# Define visualization arguments.\n",
    "band_viz = {\n",
    "  'min': 1800,\n",
    "  'max': 1900,\n",
    "  'palette': ['0D0887', '5B02A3', '9A179B', 'CB4678',\n",
    "            'EB7852', 'FBB32F', 'F0F921']}\n",
    "\n",
    "# Display to map.\n",
    "Map.centerObject(aoi, 7)\n",
    "Map.addLayer(ch4, band_viz, 'CH4')\n",
    "Map.addLayer(interpolated, band_viz, 'CH4 Interpolated')\n",
    "Map"
   ]
  },
  {
   "cell_type": "code",
   "execution_count": 6,
   "id": "6eee5b79",
   "metadata": {},
   "outputs": [],
   "source": [
    "# DaymetImage.getInfo()"
   ]
  },
  {
   "cell_type": "code",
   "execution_count": 7,
   "id": "5794b3fc",
   "metadata": {},
   "outputs": [],
   "source": [
    "##Seasonal, rather than yearly, averages\n",
    "\n",
    "dm_season = ee.ImageCollection('NASA/ORNL/DAYMET_V4') \\\n",
    "     .filter(ee.Filter.date('2000-03-01', '2000-10-31')) \\\n",
    "     .mean()\n",
    "\n",
    "season_precip = dm_season.select('prcp')\n",
    "Map.addLayer(season_precip, prcpVis, \"Growing season prcp\")\n",
    "\n",
    "##Note: there are 7 measurements per day (2555 per year except on leapyears) \n",
    "\n",
    "##Exporting pixel values from points\n",
    "coords_year = 'C:/Users/arj26323/Documents/Data/Biomass datasets/Daymet/GA/Coords_year/NoFlower/coords_2000.csv'\n",
    "##NoFlower folder is identical to Coords_year folder, with flowering status removed (confuses csv_to_ee function)\n",
    "sn_coords = geemap.csv_to_ee(coords_year, latitude = \"Latitude\", longitude = \"Longitude\")\n",
    "\n",
    "Map.addLayer(fc_coords, {}, \"sn_coords\")\n",
    "\n",
    "##export data\n",
    "out_dir = os.path.expanduser('~/Downloads')\n",
    "out_csv = os.path.join(out_dir, 'dmseason2000.csv')\n",
    "\n",
    "# geemap.extract_values_to_points(sn_coords, dm_season, out_csv, scale = 500) #Scale specified due to error.MAKE SURE it's right\n"
   ]
  },
  {
   "cell_type": "code",
   "execution_count": null,
   "id": "e6bc9c75",
   "metadata": {},
   "outputs": [],
   "source": []
  }
 ],
 "metadata": {
  "kernelspec": {
   "display_name": "venv",
   "language": "python",
   "name": "venv"
  },
  "language_info": {
   "codemirror_mode": {
    "name": "ipython",
    "version": 3
   },
   "file_extension": ".py",
   "mimetype": "text/x-python",
   "name": "python",
   "nbconvert_exporter": "python",
   "pygments_lexer": "ipython3",
   "version": "3.9.12"
  }
 },
 "nbformat": 4,
 "nbformat_minor": 5
}
