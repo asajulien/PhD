{
 "cells": [
  {
   "cell_type": "code",
   "execution_count": 2,
   "id": "bf46606f",
   "metadata": {},
   "outputs": [],
   "source": [
    "import geemap\n",
    "import pandas as pd\n",
    "import numpy as np\n",
    "import matplotlib.pyplot as plt\n",
    "import pdb\n",
    "from IPython.display import display\n",
    "import ee\n",
    "import os"
   ]
  },
  {
   "cell_type": "code",
   "execution_count": 3,
   "id": "c9575399",
   "metadata": {},
   "outputs": [
    {
     "data": {
      "application/vnd.jupyter.widget-view+json": {
       "model_id": "fc7e0cd672cd4a248fda5bb1459a6d55",
       "version_major": 2,
       "version_minor": 0
      },
      "text/plain": [
       "Map(center=[40, -100], controls=(WidgetControl(options=['position', 'transparent_bg'], widget=HBox(children=(T…"
      ]
     },
     "metadata": {},
     "output_type": "display_data"
    }
   ],
   "source": [
    "ee.Initialize()\n",
    "\n",
    "daymet = ee.ImageCollection('NASA/ORNL/DAYMET_V4') \\\n",
    "     .filter(ee.Filter.date('2019-01-01', '2019-12-31')) \\\n",
    "     .mean() ##Will mess up the toBands() function if mean is included - see below (daymet2) for this operation\n",
    "##Note: there are 7 measurements per day (2555 per year except on leapyears) \n",
    "\n",
    "# daymet2 = ee.ImageCollection('NASA/ORNL/DAYMET_V4') \\\n",
    "#      .filter(ee.Filter.date('2000-01-01', '2000-12-31'))\n",
    "\n",
    "daymet3 = ee.ImageCollection('NASA/ORNL/DAYMET_V4') \\\n",
    "     .geometry = ee.Geometry.Polygon(\n",
    "        [\n",
    "            [\n",
    "                [-81.1641, 31.5554],\n",
    "                [-81.2959, 31.2036],\n",
    "                [-81.7464, 31.2835],\n",
    "                [-81.7464, 31.6817]\n",
    "            ]\n",
    "        ]\n",
    "    )\n",
    "\n",
    "dm_precip = daymet.select('prcp')\n",
    "dm_maxtemp = daymet.select('tmax')\n",
    "dm_mintemp = daymet.select('tmin')\n",
    "dm_daylight = daymet.select('dayl')\n",
    "dm_srad = daymet.select('srad')\n",
    "dm_snow = daymet.select('swe')\n",
    "dm_vapor = daymet.select('vp')\n",
    "\n",
    "prcpVis = {\n",
    "  'min': -40.0,\n",
    "  'max': 30.0,\n",
    "  'palette': ['1621A2', 'white', 'cyan', 'green', 'yellow', 'orange', 'red'],\n",
    "}\n",
    "\n",
    "daylVis = {\n",
    "  'min': 0,\n",
    "  'max': 50000.0,\n",
    "  'palette': ['1621A2', 'white', 'cyan', 'green', 'yellow', 'orange', 'red'],\n",
    "}\n",
    "\n",
    "sradVis = {\n",
    "  'min': 0,\n",
    "  'max': 400.0,\n",
    "  'palette': ['1621A2', 'white', 'cyan', 'green', 'yellow', 'orange', 'red'],\n",
    "}\n",
    "\n",
    "vpVis = {\n",
    "  'min': 0,\n",
    "  'max': 1500,\n",
    "  'palette': ['1621A2', 'white', 'cyan', 'green', 'yellow', 'orange', 'red'],\n",
    "}\n",
    "\n",
    "Map = geemap.Map(center=[40,-100], zoom=4)\n",
    "Map.addLayer(dm_precip, prcpVis, \"Precipitation\")\n",
    "Map.addLayer(dm_maxtemp, prcpVis, \"Maxtemp\")\n",
    "Map.addLayer(dm_mintemp, prcpVis, \"Mintemp\")\n",
    "Map.addLayer(dm_daylight, daylVis, \"Daylight\")\n",
    "Map.addLayer(dm_srad, sradVis, \"SRAD\")\n",
    "Map.addLayer(dm_snow, prcpVis, \"Snowpack water?\")\n",
    "Map.addLayer(dm_vapor, vpVis, \"Vaporpressure\")\n",
    "\n",
    "Map\n",
    "\n",
    "##For the year 2000, site near blackbeard creek entrance is missing daymet data! Check to see if that's the same for all years\n",
    "##EDIT: it looks like it's going to be for all years"
   ]
  },
  {
   "cell_type": "code",
   "execution_count": 1,
   "id": "f12686d6",
   "metadata": {},
   "outputs": [],
   "source": [
    "# daymet.getInfo()\n",
    "# daymet2.getInfo()\n",
    "# daymet3.getInfo()"
   ]
  },
  {
   "cell_type": "code",
   "execution_count": 2,
   "id": "0043935c",
   "metadata": {},
   "outputs": [],
   "source": [
    "##Convert imagecollection to bands/ee.image, from: \n",
    "##https://ecodata.nrel.colostate.edu/gdpe-gee-remote-sensing-lessons/module4-interoperability.html#daySmet-weather-data\n",
    "\n",
    "# DaymetImage = daymet2.toBands()\n",
    "\n",
    "##check this site out to try to average bands for analysis: \n",
    "##https://gis.stackexchange.com/questions/384421/temporally-reducing-image-bands-using-google-earth-engine\n",
    "\n",
    "# Mean_dm = daymet \\\n",
    "#   .toBands() \\\n",
    "#   .filterBounds(geometry)\n",
    "\n",
    "# print(DaymetImage, \"DaymetImage\")"
   ]
  },
  {
   "cell_type": "code",
   "execution_count": 4,
   "id": "c76efca1",
   "metadata": {
    "scrolled": true
   },
   "outputs": [],
   "source": [
    "##Exporting pixel values from points\n",
    "coords_year = 'C:/Users/arj26323/Documents/Data/Biomass datasets/Daymet/GA/Coords_year/NoFlower/coords_2019.csv'\n",
    "##NoFlower folder is identical to Coords_year folder, with flowering status removed (confuses csv_to_ee function)\n",
    "fc_coords = geemap.csv_to_ee(coords_year, latitude = \"Latitude\", longitude = \"Longitude\")\n",
    "\n",
    "Map.addLayer(fc_coords, {}, \"fc_coords\")\n",
    "\n",
    "##export data\n",
    "out_dir = os.path.expanduser('~/Downloads')\n",
    "out_csv = os.path.join(out_dir, 'daymet2019.csv')\n",
    "\n",
    "# geemap.extract_values_to_points(fc_coords, daymet, out_csv, scale = 500) #Scale specified due to error.MAKE SURE it's right\n",
    "\n",
    "##note: scale = 500 was chosen because 1000 yielded more NaNs. Same results as scale = 1000\n",
    "\n",
    "##Deprecated:\n",
    "# geemap.extract_values_to_points(fc_coords, DaymetImage, out_csv)\n",
    "#out_shp = os.path.join(out_dir, 'points.shp') ##shapefile exporting"
   ]
  },
  {
   "cell_type": "code",
   "execution_count": 3,
   "id": "6eee5b79",
   "metadata": {},
   "outputs": [],
   "source": [
    "# DaymetImage.getInfo()"
   ]
  },
  {
   "cell_type": "code",
   "execution_count": 5,
   "id": "5794b3fc",
   "metadata": {},
   "outputs": [],
   "source": [
    "##Seasonal, rather than yearly, averages\n",
    "\n",
    "dm_season = ee.ImageCollection('NASA/ORNL/DAYMET_V4') \\\n",
    "     .filter(ee.Filter.date('2000-03-01', '2000-10-31')) \\\n",
    "     .mean()\n",
    "\n",
    "season_precip = dm_season.select('prcp')\n",
    "Map.addLayer(season_precip, prcpVis, \"Growing season prcp\")\n",
    "\n",
    "##Note: there are 7 measurements per day (2555 per year except on leapyears) \n",
    "\n",
    "##Exporting pixel values from points\n",
    "coords_year = 'C:/Users/arj26323/Documents/Data/Biomass datasets/Daymet/GA/Coords_year/NoFlower/coords_2000.csv'\n",
    "##NoFlower folder is identical to Coords_year folder, with flowering status removed (confuses csv_to_ee function)\n",
    "sn_coords = geemap.csv_to_ee(coords_year, latitude = \"Latitude\", longitude = \"Longitude\")\n",
    "\n",
    "Map.addLayer(fc_coords, {}, \"sn_coords\")\n",
    "\n",
    "##export data\n",
    "out_dir = os.path.expanduser('~/Downloads')\n",
    "out_csv = os.path.join(out_dir, 'dmseason2000.csv')\n",
    "\n",
    "# geemap.extract_values_to_points(fc_coords, daymet, out_csv, scale = 500) #Scale specified due to error.MAKE SURE it's right\n"
   ]
  },
  {
   "cell_type": "code",
   "execution_count": null,
   "id": "e6bc9c75",
   "metadata": {},
   "outputs": [],
   "source": []
  }
 ],
 "metadata": {
  "kernelspec": {
   "display_name": "venv",
   "language": "python",
   "name": "venv"
  },
  "language_info": {
   "codemirror_mode": {
    "name": "ipython",
    "version": 3
   },
   "file_extension": ".py",
   "mimetype": "text/x-python",
   "name": "python",
   "nbconvert_exporter": "python",
   "pygments_lexer": "ipython3",
   "version": "3.9.12"
  }
 },
 "nbformat": 4,
 "nbformat_minor": 5
}
