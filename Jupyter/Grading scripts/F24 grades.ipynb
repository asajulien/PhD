{
 "cells": [
  {
   "cell_type": "code",
   "execution_count": 1,
   "id": "21026f6f",
   "metadata": {},
   "outputs": [],
   "source": [
    "import pandas as pd\n",
    "import numpy as np"
   ]
  },
  {
   "cell_type": "code",
   "execution_count": 1,
   "id": "cd54366f",
   "metadata": {},
   "outputs": [
    {
     "ename": "NameError",
     "evalue": "name 'pd' is not defined",
     "output_type": "error",
     "traceback": [
      "\u001b[1;31m---------------------------------------------------------------------------\u001b[0m",
      "\u001b[1;31mNameError\u001b[0m                                 Traceback (most recent call last)",
      "Cell \u001b[1;32mIn[1], line 2\u001b[0m\n\u001b[0;32m      1\u001b[0m \u001b[38;5;66;03m# df = pd.read_csv('C:/Users/arj26323/Documents/Asa_teach/CSVfinalgradesF24.csv').reset_index()\u001b[39;00m\n\u001b[1;32m----> 2\u001b[0m df \u001b[38;5;241m=\u001b[39m \u001b[43mpd\u001b[49m\u001b[38;5;241m.\u001b[39mread_csv(\u001b[38;5;124m'\u001b[39m\u001b[38;5;124mC:/Users/arj26323/Documents/Asa_teach/NOTREAL.csv\u001b[39m\u001b[38;5;124m'\u001b[39m)\u001b[38;5;241m.\u001b[39mreset_index()\n\u001b[0;32m      3\u001b[0m df\n",
      "\u001b[1;31mNameError\u001b[0m: name 'pd' is not defined"
     ]
    }
   ],
   "source": [
    "# df = pd.read_csv('C:/Users/arj26323/Documents/Asa_teach/CSVfinalgradesF24.csv').reset_index()\n",
    "df = pd.read_csv('C:/Users/arj26323/Documents/Asa_teach/NOTREAL.csv').reset_index()\n",
    "df"
   ]
  },
  {
   "cell_type": "code",
   "execution_count": 2,
   "id": "80ef8a29",
   "metadata": {},
   "outputs": [
    {
     "ename": "NameError",
     "evalue": "name 'df' is not defined",
     "output_type": "error",
     "traceback": [
      "\u001b[1;31m---------------------------------------------------------------------------\u001b[0m",
      "\u001b[1;31mNameError\u001b[0m                                 Traceback (most recent call last)",
      "Cell \u001b[1;32mIn[2], line 1\u001b[0m\n\u001b[1;32m----> 1\u001b[0m df\u001b[38;5;241m.\u001b[39miloc[ :, \u001b[38;5;241m3\u001b[39m:\u001b[38;5;241m17\u001b[39m] \u001b[38;5;241m=\u001b[39m \u001b[43mdf\u001b[49m\u001b[38;5;241m.\u001b[39miloc[ :, \u001b[38;5;241m3\u001b[39m:\u001b[38;5;241m17\u001b[39m]\u001b[38;5;241m.\u001b[39mastype(\u001b[38;5;28mint\u001b[39m)\n",
      "\u001b[1;31mNameError\u001b[0m: name 'df' is not defined"
     ]
    }
   ],
   "source": [
    "df.iloc[ :, 3:17] = df.iloc[ :, 3:17].astype(int)"
   ]
  },
  {
   "cell_type": "code",
   "execution_count": 3,
   "id": "9796904c",
   "metadata": {},
   "outputs": [
    {
     "ename": "NameError",
     "evalue": "name 'df' is not defined",
     "output_type": "error",
     "traceback": [
      "\u001b[1;31m---------------------------------------------------------------------------\u001b[0m",
      "\u001b[1;31mNameError\u001b[0m                                 Traceback (most recent call last)",
      "Cell \u001b[1;32mIn[3], line 4\u001b[0m\n\u001b[0;32m      1\u001b[0m \u001b[38;5;28;01mimport\u001b[39;00m \u001b[38;5;21;01mos\u001b[39;00m\n\u001b[0;32m      3\u001b[0m \u001b[38;5;66;03m# Extract the lab columns\u001b[39;00m\n\u001b[1;32m----> 4\u001b[0m lab_columns \u001b[38;5;241m=\u001b[39m [col \u001b[38;5;28;01mfor\u001b[39;00m col \u001b[38;5;129;01min\u001b[39;00m \u001b[43mdf\u001b[49m\u001b[38;5;241m.\u001b[39mcolumns \u001b[38;5;28;01mif\u001b[39;00m col\u001b[38;5;241m.\u001b[39mstartswith(\u001b[38;5;124m'\u001b[39m\u001b[38;5;124mLab\u001b[39m\u001b[38;5;124m'\u001b[39m)]\n\u001b[0;32m      6\u001b[0m \u001b[38;5;66;03m# Maximum possible score for labs, attendance, and extra credit\u001b[39;00m\n\u001b[0;32m      7\u001b[0m max_lab_score \u001b[38;5;241m=\u001b[39m \u001b[38;5;241m13\u001b[39m \u001b[38;5;241m*\u001b[39m \u001b[38;5;241m20\u001b[39m  \n",
      "\u001b[1;31mNameError\u001b[0m: name 'df' is not defined"
     ]
    }
   ],
   "source": [
    "import os\n",
    "\n",
    "# Extract the lab columns\n",
    "lab_columns = [col for col in df.columns if col.startswith('Lab')]\n",
    "\n",
    "# Maximum possible score for labs, attendance, and extra credit\n",
    "max_lab_score = 13 * 20  \n",
    "max_attendance = 24      # Example: Attendance worth 10 points\n",
    "max_extra_credit = 2     # Example: Extra credit worth 5 points\n",
    "max_possible_score = max_lab_score + max_attendance - 20  # Drop 1 lab\n",
    "\n",
    "# Define a grading scale\n",
    "grade_scale = {\n",
    "    93: 'A', 90: 'A-', 87: 'B+', 83: 'B', 80: 'B-', 77: 'C+', 73: 'C', 70: 'C-', 60: 'D', 0: 'F'\n",
    "}\n",
    "\n",
    "def assign_grade(percentage):\n",
    "    for score, grade in sorted(grade_scale.items(), reverse=True):\n",
    "        if percentage >= score:\n",
    "            return grade\n",
    "    return 'F'\n",
    "\n",
    "# Create new columns for dropped lab and total score\n",
    "dropped_labs = []\n",
    "final_scores = []\n",
    "\n",
    "for _, row in df.iterrows():\n",
    "    # Find the lowest lab score and its index\n",
    "    lab_scores = row[lab_columns]\n",
    "    lowest_lab_score = lab_scores.min()\n",
    "    lab_to_drop = lab_scores.idxmin()  # Get the column name of the lowest score\n",
    "    \n",
    "    # Drop one lowest lab score\n",
    "    remaining_score = lab_scores.sum() - lowest_lab_score + row['Attendance'] + row['Extra']\n",
    "    \n",
    "    # Calculate percentage\n",
    "    percentage = (remaining_score / max_possible_score) * 100\n",
    "    \n",
    "    # Append results\n",
    "    dropped_labs.append(lab_to_drop)\n",
    "    final_scores.append((remaining_score, percentage))\n",
    "\n",
    "# Assign results back to dataframe\n",
    "df['Dropped Lab'] = dropped_labs\n",
    "df['Total Score'] = [score for score, _ in final_scores]\n",
    "df['Percentage'] = [percentage for _, percentage in final_scores]\n",
    "df['Grade'] = df['Percentage'].apply(assign_grade)\n",
    "\n",
    "# Display results\n",
    "print(df[['Last Name', 'Last Name check', 'Dropped Lab', 'Total Score', 'Percentage', 'Grade']])\n",
    "\n",
    "## Save to CSV\n",
    "out_dir = os.path.expanduser('~/Downloads')\n",
    "out_csv = os.path.join(out_dir, 'graded_output.csv')\n",
    "#df.to_csv(out_csv, index=False)"
   ]
  },
  {
   "cell_type": "code",
   "execution_count": 4,
   "id": "476b93e3",
   "metadata": {},
   "outputs": [
    {
     "ename": "NameError",
     "evalue": "name 'df' is not defined",
     "output_type": "error",
     "traceback": [
      "\u001b[1;31m---------------------------------------------------------------------------\u001b[0m",
      "\u001b[1;31mNameError\u001b[0m                                 Traceback (most recent call last)",
      "Cell \u001b[1;32mIn[4], line 1\u001b[0m\n\u001b[1;32m----> 1\u001b[0m \u001b[43mdf\u001b[49m\n",
      "\u001b[1;31mNameError\u001b[0m: name 'df' is not defined"
     ]
    }
   ],
   "source": [
    "df"
   ]
  }
 ],
 "metadata": {
  "kernelspec": {
   "display_name": "Python [conda env:gee] *",
   "language": "python",
   "name": "conda-env-gee-py"
  },
  "language_info": {
   "codemirror_mode": {
    "name": "ipython",
    "version": 3
   },
   "file_extension": ".py",
   "mimetype": "text/x-python",
   "name": "python",
   "nbconvert_exporter": "python",
   "pygments_lexer": "ipython3",
   "version": "3.10.13"
  }
 },
 "nbformat": 4,
 "nbformat_minor": 5
}
