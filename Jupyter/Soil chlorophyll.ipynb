{
 "cells": [
  {
   "cell_type": "code",
   "execution_count": 9,
   "id": "fallen-holly",
   "metadata": {},
   "outputs": [],
   "source": [
    "import pandas as pd\n",
    "import numpy as np\n",
    "import matplotlib.pyplot as plt\n",
    "import pdb\n",
    "from IPython.display import display\n",
    "import seaborn as sns"
   ]
  },
  {
   "cell_type": "code",
   "execution_count": 12,
   "id": "advised-fields",
   "metadata": {},
   "outputs": [
    {
     "name": "stdout",
     "output_type": "stream",
     "text": [
      "        Date/Time    Date TideID VegID  PlotID  PairID   Seq SVCseq  665pre  \\\n",
      "0   9/29/20 13:18  29-Sep    Ebb    JR     1.0     1.0   1.0      2   0.082   \n",
      "1   9/29/20 13:24  29-Sep    Ebb    JR     2.0     2.0   2.0      3   0.120   \n",
      "2   9/29/20 13:33  29-Sep    Ebb    JR     3.0     3.0   3.0      7   0.142   \n",
      "3   9/29/20 13:37  29-Sep    Ebb    JR     4.0     4.0   4.0      8   0.111   \n",
      "4   9/29/20 13:42  29-Sep    Ebb    JR     5.0     5.0   5.0      9   0.210   \n",
      "..            ...     ...    ...   ...     ...     ...   ...    ...     ...   \n",
      "73        3/22/21  22-Mar  Flood    SS     4.0     NaN  19.0    NaN   0.105   \n",
      "74        3/22/21  22-Mar  Flood    SS     5.0     NaN  20.0    NaN   0.114   \n",
      "75            NaN     NaN    NaN   NaN     NaN     NaN   NaN    NaN     NaN   \n",
      "76            NaN     NaN    NaN   NaN     NaN     NaN   NaN    NaN     NaN   \n",
      "77            NaN     NaN    NaN   NaN     NaN     NaN   NaN    NaN     NaN   \n",
      "\n",
      "    665post  ...  BenthoConc  Reflection   Latitude  Longitude  \\\n",
      "0     0.047  ...        0.44        10.0  31.420026 -81.289688   \n",
      "1     0.065  ...        0.77        13.0  31.420138 -81.289643   \n",
      "2     0.079  ...        0.88        10.0  31.420070 -81.289601   \n",
      "3     0.062  ...        1.49        11.0  31.420043 -81.289633   \n",
      "4     0.109  ...        1.18        15.0  31.419918 -81.289576   \n",
      "..      ...  ...         ...         ...        ...        ...   \n",
      "73    0.066  ...         NaN         NaN        NaN        NaN   \n",
      "74    0.076  ...         NaN         NaN        NaN        NaN   \n",
      "75      NaN  ...         NaN         NaN        NaN        NaN   \n",
      "76      NaN  ...         NaN         NaN        NaN        NaN   \n",
      "77      NaN  ...         NaN         NaN        NaN        NaN   \n",
      "\n",
      "                      Benthotorchnotes       ChlA      Phaeo   Elevation  \\\n",
      "0   Look at cyano content in MF and JR   5.820868  16.233755       1.137   \n",
      "1                                  NaN   8.731303  22.879247       1.094   \n",
      "2                                  NaN  10.509901  27.374251       1.087   \n",
      "3                                  NaN   7.922849  20.938957       1.035   \n",
      "4                                  NaN  16.654151  41.328166       1.083   \n",
      "..                                 ...        ...        ...         ...   \n",
      "73                                 NaN   9.800734  28.748820  154389.718   \n",
      "74                                 NaN   9.800734  30.055585  154386.538   \n",
      "75                                 NaN   0.000000   2.776875         NaN   \n",
      "76                                 NaN   0.000000   2.940220         NaN   \n",
      "77                                 NaN        NaN        NaN  175224.082   \n",
      "\n",
      "    Unnamed: 23 Unnamed: 24  \n",
      "0           NaN         NaN  \n",
      "1           NaN         NaN  \n",
      "2           NaN         NaN  \n",
      "3           NaN         NaN  \n",
      "4           NaN         NaN  \n",
      "..          ...         ...  \n",
      "73   284551.482       0.779  \n",
      "74   284549.869       0.768  \n",
      "75          NaN         NaN  \n",
      "76          NaN         NaN  \n",
      "77   278787.753      14.234  \n",
      "\n",
      "[78 rows x 25 columns]\n"
     ]
    }
   ],
   "source": [
    "mud_df = pd.read_csv('/Users/asariversjulien/Documents/Data/CSV files/Mud.csv')\n",
    "print(mud_df)"
   ]
  },
  {
   "cell_type": "code",
   "execution_count": 14,
   "id": "ef2a2b01",
   "metadata": {},
   "outputs": [
    {
     "data": {
      "text/plain": [
       "<seaborn.axisgrid.FacetGrid at 0x7f9c505c1f70>"
      ]
     },
     "execution_count": 14,
     "metadata": {},
     "output_type": "execute_result"
    },
    {
     "data": {
      "image/png": "[encoded data removed]",
      "text/plain": [
       "<Figure size 648x216 with 3 Axes>"
      ]
     },
     "metadata": {
      "needs_background": "light"
     },
     "output_type": "display_data"
    }
   ],
   "source": [
    "g = sns.FacetGrid(mud_df, col=\"Date\", sharex=False)\n",
    "g.map(sns.boxplot, 'VegID', 'ChlA', order=[\"JR\", \"TS\", \"MS\", \"SS\", \"MF\"])"
   ]
  },
  {
   "cell_type": "code",
   "execution_count": null,
   "id": "9da40e8b",
   "metadata": {},
   "outputs": [],
   "source": []
  }
 ],
 "metadata": {
  "kernelspec": {
   "display_name": "Python 3",
   "language": "python",
   "name": "python3"
  },
  "language_info": {
   "codemirror_mode": {
    "name": "ipython",
    "version": 3
   },
   "file_extension": ".py",
   "mimetype": "text/x-python",
   "name": "python",
   "nbconvert_exporter": "python",
   "pygments_lexer": "ipython3",
   "version": "3.9.4"
  }
 },
 "nbformat": 4,
 "nbformat_minor": 5
}
