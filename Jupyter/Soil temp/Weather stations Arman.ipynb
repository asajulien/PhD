{
 "cells": [
  {
   "cell_type": "code",
   "execution_count": 1,
   "id": "9207e18c",
   "metadata": {},
   "outputs": [],
   "source": [
    "import pandas as pd\n",
    "import numpy as np\n",
    "import matplotlib.pyplot as plt\n",
    "import pdb\n",
    "from IPython.display import display\n",
    "import ee\n",
    "import os"
   ]
  },
  {
   "cell_type": "code",
   "execution_count": 2,
   "id": "085ce105",
   "metadata": {},
   "outputs": [
    {
     "name": "stdout",
     "output_type": "stream",
     "text": [
      "0.34.1\n"
     ]
    }
   ],
   "source": [
    "import ee\n",
    "import geemap\n",
    "service_account = ' boba-account@boba-430314.iam.gserviceaccount.com '\n",
    "credentials = ee.ServiceAccountCredentials(service_account,'C:/Users/arj26323/OneDrive - University of Georgia/Documents/GEE AUTH/boba-430314-a19be859bfca.json')\n",
    "\n",
    "ee.Initialize(credentials)\n",
    "\n",
    "print(geemap.__version__)"
   ]
  },
  {
   "cell_type": "code",
   "execution_count": 4,
   "id": "5c983546",
   "metadata": {},
   "outputs": [
    {
     "data": {
      "text/html": [
       "\n",
       "            <style>\n",
       "                .geemap-dark {\n",
       "                    --jp-widgets-color: white;\n",
       "                    --jp-widgets-label-color: white;\n",
       "                    --jp-ui-font-color1: white;\n",
       "                    --jp-layout-color2: #454545;\n",
       "                    background-color: #383838;\n",
       "                }\n",
       "\n",
       "                .geemap-dark .jupyter-button {\n",
       "                    --jp-layout-color3: #383838;\n",
       "                }\n",
       "\n",
       "                .geemap-colab {\n",
       "                    background-color: var(--colab-primary-surface-color, white);\n",
       "                }\n",
       "\n",
       "                .geemap-colab .jupyter-button {\n",
       "                    --jp-layout-color3: var(--colab-primary-surface-color, white);\n",
       "                }\n",
       "            </style>\n",
       "            "
      ],
      "text/plain": [
       "<IPython.core.display.HTML object>"
      ]
     },
     "metadata": {},
     "output_type": "display_data"
    }
   ],
   "source": [
    "stations_fc = 'C:/Users/arj26323/Documents/Data/Phenology/Weather_stations/stations_ga.csv'\n",
    "fc_stations = geemap.csv_to_ee(stations_fc, latitude = \"Latitude\", longitude = \"Longitude\")"
   ]
  },
  {
   "cell_type": "code",
   "execution_count": 5,
   "id": "780e3389",
   "metadata": {},
   "outputs": [
    {
     "data": {
      "text/html": [
       "\n",
       "            <style>\n",
       "                .geemap-dark {\n",
       "                    --jp-widgets-color: white;\n",
       "                    --jp-widgets-label-color: white;\n",
       "                    --jp-ui-font-color1: white;\n",
       "                    --jp-layout-color2: #454545;\n",
       "                    background-color: #383838;\n",
       "                }\n",
       "\n",
       "                .geemap-dark .jupyter-button {\n",
       "                    --jp-layout-color3: #383838;\n",
       "                }\n",
       "\n",
       "                .geemap-colab {\n",
       "                    background-color: var(--colab-primary-surface-color, white);\n",
       "                }\n",
       "\n",
       "                .geemap-colab .jupyter-button {\n",
       "                    --jp-layout-color3: var(--colab-primary-surface-color, white);\n",
       "                }\n",
       "            </style>\n",
       "            "
      ],
      "text/plain": [
       "<IPython.core.display.HTML object>"
      ]
     },
     "metadata": {},
     "output_type": "display_data"
    }
   ],
   "source": [
    "##Pixel extraction functions - Daymet\n",
    "\n",
    "# def rasterExtraction(image):\n",
    "#     feature = image.sampleRegions(\n",
    "#         collection = fc_stations,\n",
    "#         scale = 1000,\n",
    "#         tileScale = 8 \n",
    "#     ).map(lambda f: f.set('date', image.date().format('YYYY-MM-dd')))\n",
    "#     return feature"
   ]
  },
  {
   "cell_type": "code",
   "execution_count": 6,
   "id": "26eea4c1",
   "metadata": {},
   "outputs": [
    {
     "data": {
      "text/html": [
       "\n",
       "            <style>\n",
       "                .geemap-dark {\n",
       "                    --jp-widgets-color: white;\n",
       "                    --jp-widgets-label-color: white;\n",
       "                    --jp-ui-font-color1: white;\n",
       "                    --jp-layout-color2: #454545;\n",
       "                    background-color: #383838;\n",
       "                }\n",
       "\n",
       "                .geemap-dark .jupyter-button {\n",
       "                    --jp-layout-color3: #383838;\n",
       "                }\n",
       "\n",
       "                .geemap-colab {\n",
       "                    background-color: var(--colab-primary-surface-color, white);\n",
       "                }\n",
       "\n",
       "                .geemap-colab .jupyter-button {\n",
       "                    --jp-layout-color3: var(--colab-primary-surface-color, white);\n",
       "                }\n",
       "            </style>\n",
       "            "
      ],
      "text/plain": [
       "<IPython.core.display.HTML object>"
      ]
     },
     "metadata": {},
     "output_type": "display_data"
    }
   ],
   "source": [
    "##Load Daymet collection\n",
    "daymet = ee.ImageCollection('NASA/ORNL/DAYMET_V4').filterBounds(fc_stations).filterdate\n"
   ]
  },
  {
   "cell_type": "code",
   "execution_count": 7,
   "id": "437b4724",
   "metadata": {},
   "outputs": [
    {
     "data": {
      "text/html": [
       "\n",
       "            <style>\n",
       "                .geemap-dark {\n",
       "                    --jp-widgets-color: white;\n",
       "                    --jp-widgets-label-color: white;\n",
       "                    --jp-ui-font-color1: white;\n",
       "                    --jp-layout-color2: #454545;\n",
       "                    background-color: #383838;\n",
       "                }\n",
       "\n",
       "                .geemap-dark .jupyter-button {\n",
       "                    --jp-layout-color3: #383838;\n",
       "                }\n",
       "\n",
       "                .geemap-colab {\n",
       "                    background-color: var(--colab-primary-surface-color, white);\n",
       "                }\n",
       "\n",
       "                .geemap-colab .jupyter-button {\n",
       "                    --jp-layout-color3: var(--colab-primary-surface-color, white);\n",
       "                }\n",
       "            </style>\n",
       "            "
      ],
      "text/plain": [
       "<IPython.core.display.HTML object>"
      ]
     },
     "metadata": {},
     "output_type": "display_data"
    }
   ],
   "source": [
    "#Daily:\n",
    "# years_dm = range(2013, 2025)\n",
    "\n",
    "# daymet_list = daymet.toList(daymet.size())\n",
    "\n",
    "# result_list = []\n",
    "\n",
    "# for i in range(daymet.size().getInfo()):  \n",
    "#     daily_image = ee.Image(daymet_list.get(i))\n",
    "#     extracted_data = rasterExtraction(daily_image)\n",
    "    \n",
    "#     # Convert to dictionary\n",
    "#     fc_dict = extracted_data.getInfo()\n",
    "    \n",
    "#     # Extract feature properties and store in DataFrame\n",
    "#     features = [feature['properties'] for feature in fc_dict['features']]\n",
    "#     df = pd.DataFrame(features)\n",
    "#     result_list.append(df)\n",
    "    \n",
    "# station_extract = pd.concat(result_list, ignore_index=True)\n",
    "\n",
    "# station_extract['date'] = pd.to_datetime(station_extract['date'])\n",
    "\n",
    "# print(station_extract.head())"
   ]
  },
  {
   "cell_type": "code",
   "execution_count": 12,
   "id": "f82cf897",
   "metadata": {},
   "outputs": [
    {
     "data": {
      "text/html": [
       "\n",
       "            <style>\n",
       "                .geemap-dark {\n",
       "                    --jp-widgets-color: white;\n",
       "                    --jp-widgets-label-color: white;\n",
       "                    --jp-ui-font-color1: white;\n",
       "                    --jp-layout-color2: #454545;\n",
       "                    background-color: #383838;\n",
       "                }\n",
       "\n",
       "                .geemap-dark .jupyter-button {\n",
       "                    --jp-layout-color3: #383838;\n",
       "                }\n",
       "\n",
       "                .geemap-colab {\n",
       "                    background-color: var(--colab-primary-surface-color, white);\n",
       "                }\n",
       "\n",
       "                .geemap-colab .jupyter-button {\n",
       "                    --jp-layout-color3: var(--colab-primary-surface-color, white);\n",
       "                }\n",
       "            </style>\n",
       "            "
      ],
      "text/plain": [
       "<IPython.core.display.HTML object>"
      ]
     },
     "metadata": {},
     "output_type": "display_data"
    },
    {
     "name": "stdout",
     "output_type": "stream",
     "text": [
      "Processing 2013 to 2013...\n",
      "Saved C:\\Users\\arj26323/Downloads\\daymet_2013_2013.csv\n",
      "Processing 2014 to 2014...\n",
      "Saved C:\\Users\\arj26323/Downloads\\daymet_2014_2014.csv\n",
      "Processing 2015 to 2015...\n",
      "Saved C:\\Users\\arj26323/Downloads\\daymet_2015_2015.csv\n",
      "Processing 2016 to 2016...\n",
      "Saved C:\\Users\\arj26323/Downloads\\daymet_2016_2016.csv\n",
      "Processing 2017 to 2017...\n",
      "Saved C:\\Users\\arj26323/Downloads\\daymet_2017_2017.csv\n",
      "Processing 2018 to 2018...\n",
      "Saved C:\\Users\\arj26323/Downloads\\daymet_2018_2018.csv\n",
      "Processing 2019 to 2019...\n",
      "Saved C:\\Users\\arj26323/Downloads\\daymet_2019_2019.csv\n",
      "Processing 2020 to 2020...\n",
      "Saved C:\\Users\\arj26323/Downloads\\daymet_2020_2020.csv\n",
      "Processing 2021 to 2021...\n",
      "Saved C:\\Users\\arj26323/Downloads\\daymet_2021_2021.csv\n",
      "Processing 2022 to 2022...\n",
      "Saved C:\\Users\\arj26323/Downloads\\daymet_2022_2022.csv\n",
      "Processing 2023 to 2023...\n",
      "Saved C:\\Users\\arj26323/Downloads\\daymet_2023_2023.csv\n",
      "Processing 2024 to 2024...\n"
     ]
    },
    {
     "ename": "KeyError",
     "evalue": "'date'",
     "output_type": "error",
     "traceback": [
      "\u001b[1;31m---------------------------------------------------------------------------\u001b[0m",
      "\u001b[1;31mKeyError\u001b[0m                                  Traceback (most recent call last)",
      "Cell \u001b[1;32mIn[12], line 26\u001b[0m\n\u001b[0;32m     24\u001b[0m features \u001b[38;5;241m=\u001b[39m [feature[\u001b[38;5;124m'\u001b[39m\u001b[38;5;124mproperties\u001b[39m\u001b[38;5;124m'\u001b[39m] \u001b[38;5;28;01mfor\u001b[39;00m feature \u001b[38;5;129;01min\u001b[39;00m fc_dict[\u001b[38;5;124m'\u001b[39m\u001b[38;5;124mfeatures\u001b[39m\u001b[38;5;124m'\u001b[39m]]\n\u001b[0;32m     25\u001b[0m df \u001b[38;5;241m=\u001b[39m pd\u001b[38;5;241m.\u001b[39mDataFrame(features)\n\u001b[1;32m---> 26\u001b[0m df[\u001b[38;5;124m'\u001b[39m\u001b[38;5;124mdate\u001b[39m\u001b[38;5;124m'\u001b[39m] \u001b[38;5;241m=\u001b[39m pd\u001b[38;5;241m.\u001b[39mto_datetime(\u001b[43mdf\u001b[49m\u001b[43m[\u001b[49m\u001b[38;5;124;43m'\u001b[39;49m\u001b[38;5;124;43mdate\u001b[39;49m\u001b[38;5;124;43m'\u001b[39;49m\u001b[43m]\u001b[49m)\n\u001b[0;32m     28\u001b[0m \u001b[38;5;66;03m# Save file in the specified directory\u001b[39;00m\n\u001b[0;32m     29\u001b[0m filename \u001b[38;5;241m=\u001b[39m os\u001b[38;5;241m.\u001b[39mpath\u001b[38;5;241m.\u001b[39mjoin(out_dir, \u001b[38;5;124mf\u001b[39m\u001b[38;5;124m\"\u001b[39m\u001b[38;5;124mdaymet_\u001b[39m\u001b[38;5;132;01m{\u001b[39;00mstart_year\u001b[38;5;132;01m}\u001b[39;00m\u001b[38;5;124m_\u001b[39m\u001b[38;5;132;01m{\u001b[39;00mend_year\u001b[38;5;132;01m}\u001b[39;00m\u001b[38;5;124m.csv\u001b[39m\u001b[38;5;124m\"\u001b[39m)\n",
      "File \u001b[1;32mC:\\ProgramData\\Anaconda3\\envs\\gee\\lib\\site-packages\\pandas\\core\\frame.py:3896\u001b[0m, in \u001b[0;36mDataFrame.__getitem__\u001b[1;34m(self, key)\u001b[0m\n\u001b[0;32m   3894\u001b[0m \u001b[38;5;28;01mif\u001b[39;00m \u001b[38;5;28mself\u001b[39m\u001b[38;5;241m.\u001b[39mcolumns\u001b[38;5;241m.\u001b[39mnlevels \u001b[38;5;241m>\u001b[39m \u001b[38;5;241m1\u001b[39m:\n\u001b[0;32m   3895\u001b[0m     \u001b[38;5;28;01mreturn\u001b[39;00m \u001b[38;5;28mself\u001b[39m\u001b[38;5;241m.\u001b[39m_getitem_multilevel(key)\n\u001b[1;32m-> 3896\u001b[0m indexer \u001b[38;5;241m=\u001b[39m \u001b[38;5;28;43mself\u001b[39;49m\u001b[38;5;241;43m.\u001b[39;49m\u001b[43mcolumns\u001b[49m\u001b[38;5;241;43m.\u001b[39;49m\u001b[43mget_loc\u001b[49m\u001b[43m(\u001b[49m\u001b[43mkey\u001b[49m\u001b[43m)\u001b[49m\n\u001b[0;32m   3897\u001b[0m \u001b[38;5;28;01mif\u001b[39;00m is_integer(indexer):\n\u001b[0;32m   3898\u001b[0m     indexer \u001b[38;5;241m=\u001b[39m [indexer]\n",
      "File \u001b[1;32mC:\\ProgramData\\Anaconda3\\envs\\gee\\lib\\site-packages\\pandas\\core\\indexes\\range.py:418\u001b[0m, in \u001b[0;36mRangeIndex.get_loc\u001b[1;34m(self, key)\u001b[0m\n\u001b[0;32m    416\u001b[0m         \u001b[38;5;28;01mraise\u001b[39;00m \u001b[38;5;167;01mKeyError\u001b[39;00m(key) \u001b[38;5;28;01mfrom\u001b[39;00m \u001b[38;5;21;01merr\u001b[39;00m\n\u001b[0;32m    417\u001b[0m \u001b[38;5;28;01mif\u001b[39;00m \u001b[38;5;28misinstance\u001b[39m(key, Hashable):\n\u001b[1;32m--> 418\u001b[0m     \u001b[38;5;28;01mraise\u001b[39;00m \u001b[38;5;167;01mKeyError\u001b[39;00m(key)\n\u001b[0;32m    419\u001b[0m \u001b[38;5;28mself\u001b[39m\u001b[38;5;241m.\u001b[39m_check_indexing_error(key)\n\u001b[0;32m    420\u001b[0m \u001b[38;5;28;01mraise\u001b[39;00m \u001b[38;5;167;01mKeyError\u001b[39;00m(key)\n",
      "\u001b[1;31mKeyError\u001b[0m: 'date'"
     ]
    }
   ],
   "source": [
    "def rasterExtraction(image):\n",
    "    return image.sampleRegions(\n",
    "        collection=fc_stations,\n",
    "        scale=1000,\n",
    "        tileScale=8  # Reducing from 16 to 8 to improve efficiency\n",
    "    ).map(lambda f: f.set('date', image.date().format('YYYY-MM-dd')))\n",
    "\n",
    "\n",
    "out_dir = os.path.expanduser('~/Downloads')\n",
    "\n",
    "# Process in 5-year batches\n",
    "years = list(range(2013, 2025, 1))\n",
    "\n",
    "for start_year in years:\n",
    "    end_year = start_year\n",
    "    print(f\"Processing {start_year} to {end_year}...\")\n",
    "\n",
    "    # Filter data for the 5-year range\n",
    "    daymet_subset = ee.ImageCollection('NASA/ORNL/DAYMET_V4').filterDate(f\"{start_year}-01-01\", f\"{end_year}-12-31\")\n",
    "\n",
    "    extracted_features = daymet_subset.map(rasterExtraction).flatten()\n",
    "    fc_dict = extracted_features.getInfo()\n",
    "\n",
    "    features = [feature['properties'] for feature in fc_dict['features']]\n",
    "    df = pd.DataFrame(features)\n",
    "    df['date'] = pd.to_datetime(df['date'])\n",
    "\n",
    "    # Save file in the specified directory\n",
    "    filename = os.path.join(out_dir, f\"daymet_{start_year}_{end_year}.csv\")\n",
    "    df.to_csv(filename, index=False)\n",
    "    print(f\"Saved {filename}\")\n",
    "\n",
    "print(\"All batches processed!\")"
   ]
  },
  {
   "cell_type": "code",
   "execution_count": null,
   "id": "4ba87d21",
   "metadata": {},
   "outputs": [],
   "source": [
    "#EXPORT\n",
    "out_dir = os.path.expanduser('~/Downloads')\n",
    "out_csv = os.path.join(out_dir, 'daymet_stationdata_2013.csv')\n",
    "# station_extract.to_csv(out_csv, index = False)"
   ]
  },
  {
   "cell_type": "code",
   "execution_count": null,
   "id": "d6acff29",
   "metadata": {},
   "outputs": [],
   "source": [
    "#Fin"
   ]
  }
 ],
 "metadata": {
  "kernelspec": {
   "display_name": "Python [conda env:gee]",
   "language": "python",
   "name": "conda-env-gee-py"
  },
  "language_info": {
   "codemirror_mode": {
    "name": "ipython",
    "version": 3
   },
   "file_extension": ".py",
   "mimetype": "text/x-python",
   "name": "python",
   "nbconvert_exporter": "python",
   "pygments_lexer": "ipython3",
   "version": "3.10.13"
  }
 },
 "nbformat": 4,
 "nbformat_minor": 5
}
