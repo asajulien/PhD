{
 "cells": [
  {
   "cell_type": "code",
   "execution_count": 1,
   "id": "9785ca14",
   "metadata": {},
   "outputs": [],
   "source": [
    "import geemap\n",
    "import pandas as pd\n",
    "import numpy as np\n",
    "import matplotlib.pyplot as plt\n",
    "import pdb\n",
    "from IPython.display import display\n",
    "import ee\n",
    "import os"
   ]
  },
  {
   "cell_type": "code",
   "execution_count": 132,
   "id": "ad224ddc",
   "metadata": {},
   "outputs": [],
   "source": [
    "ee.Initialize()\n",
    "\n",
    "Map = geemap.Map(center=[31.539096,-81.422318], zoom=10)"
   ]
  },
  {
   "cell_type": "code",
   "execution_count": 154,
   "id": "05ffca40",
   "metadata": {},
   "outputs": [],
   "source": [
    "#Note 1/18/23: Flux tower footprint (fluxproper) OR expanded flux area (fluxdiss) OR all gce (gce_clip)\n",
    "\n",
    "gce_clip = 'F:/Wetlands shapefiles/GA_shapefile_wetlands/GA_sapelodissolve.shp'\n",
    "\n",
    "gce_fluxdiss = 'F:/Wetlands shapefiles/GA_shapefile_wetlands/GA_fluxdissolve.shp'\n",
    "\n",
    "gce_fluxproper = 'F:/Wetlands shapefiles/GCE flux tower/2014-climatology.shp'\n",
    "\n",
    "flux_ga = geemap.shp_to_ee(gce_fluxdiss) ##loop shapefile rows into gee to get around file size issue"
   ]
  },
  {
   "cell_type": "code",
   "execution_count": 156,
   "id": "0fefc62f",
   "metadata": {},
   "outputs": [
    {
     "data": {
      "application/vnd.jupyter.widget-view+json": {
       "model_id": "c1b5c5946ca4447196e93df03c5a8bc9",
       "version_major": 2,
       "version_minor": 0
      },
      "text/plain": [
       "Map(bottom=1710206.0, center=[31.516391457940514, -81.2139401288038], controls=(WidgetControl(options=['positi…"
      ]
     },
     "metadata": {},
     "output_type": "display_data"
    }
   ],
   "source": [
    "Map.addLayer(flux_ga)\n",
    "Map"
   ]
  },
  {
   "cell_type": "code",
   "execution_count": 137,
   "id": "efe9f5b4",
   "metadata": {},
   "outputs": [],
   "source": [
    "# Function to mask clouds using Sentinel-2 QA60 band\n",
    "##NOTE: CHECK TO MAKE SURE THIS WORKS - from chat gpt lol\n",
    "def mask_clouds(image):\n",
    "    # Select the QA60 band\n",
    "    QA60 = image.select(['QA60'])\n",
    "    # Create a cloud mask by bitwise AND-ing with 1 shifted left by 10 bits\n",
    "    cloud_mask = QA60.bitwiseAnd(1 << 10).eq(0)\n",
    "    # Update the image mask and return it\n",
    "    return image.updateMask(cloud_mask)"
   ]
  },
  {
   "cell_type": "code",
   "execution_count": 138,
   "id": "ba47ad25",
   "metadata": {},
   "outputs": [],
   "source": [
    "##FLATS masking NOTE: original flats:\n",
    "\n",
    "def addSENTINELFLATS(image):\n",
    "    flats = ee.Image(0).expression(\n",
    "        '1/(1+2.718281828459045**-(-1.57 + 20*(RED-SWIR)/(RED+SWIR) + 68.6*(GREEN-RED)/(GREEN+RED)))', {\n",
    "            'SWIR': image.select('B8'),\n",
    "            'RED': image.select('B4'),\n",
    "            'GREEN': image.select('B3')\n",
    "        })\n",
    "    \n",
    "    return image.addBands(flats.rename('flats'))\n",
    "\n",
    "##MASKING FLATS\n",
    "def maskSENTINELFLATS(image):\n",
    "    mask1 = image.select('flats').lte(0.2)\n",
    "    return image.updateMask(mask1)"
   ]
  },
  {
   "cell_type": "code",
   "execution_count": 139,
   "id": "7a0425f6",
   "metadata": {},
   "outputs": [],
   "source": [
    "##sentinel 2 surface reflectance images - GA LTER\n",
    "\n",
    "gaCollectionS2 = ee.ImageCollection('COPERNICUS/S2_SR') \\\n",
    "    .filterBounds(flux_ga) \\\n",
    "    .filter(ee.Filter.calendarRange(2017, 2019,'year')) \\\n",
    "    .filter(ee.Filter.calendarRange(8, 10,'month')) \\\n",
    "    .map(mask_clouds).map(addSENTINELFLATS).map(maskSENTINELFLATS)\n",
    "\n",
    "##TO MASK FLOODED PIXELS, ADD:\n",
    "#.map(maskSENTINELFLATS)\n",
    "\n",
    "vis_param = {'min': 0, \n",
    "             'max': 2000, \n",
    "             'bands': ['B8', 'B4', 'B3'], \n",
    "             'gamma': 1.5}\n"
   ]
  },
  {
   "cell_type": "code",
   "execution_count": 140,
   "id": "58a5b106",
   "metadata": {},
   "outputs": [],
   "source": [
    "# list_s2 = gaCollectionS2.toList(gaCollectionS2.size())\n",
    "\n",
    "# x = ee.Image(list_s2.get(0))\n",
    "\n",
    "# Map.addLayer(x, vis_param, 'S2')\n",
    "# Map.addLayer(flux_ga)\n",
    "\n",
    "# Map"
   ]
  },
  {
   "cell_type": "code",
   "execution_count": 141,
   "id": "a5792ba5",
   "metadata": {},
   "outputs": [],
   "source": [
    "# list_s2.getInfo()"
   ]
  },
  {
   "cell_type": "code",
   "execution_count": 142,
   "id": "e46d4fe0",
   "metadata": {},
   "outputs": [],
   "source": [
    "##Pixel extraction functions - addDate for dateless images/collections\n",
    "def addDate(image):\n",
    "    img_date = ee.Date(image.date())\n",
    "    img_date = ee.Number.parse(img_date.format('YYYYMMdd'))\n",
    "    return image.addBands(ee.Image(img_date).rename('imagedate').toInt())\n"
   ]
  },
  {
   "cell_type": "code",
   "execution_count": 143,
   "id": "1f0a0502",
   "metadata": {},
   "outputs": [],
   "source": [
    "##Adding DEM\n",
    "dem = ee.Image('USGS/3DEP/10m') ##This is 1/3 arc second, or 10 m.\n",
    "dem1 = ee.ImageCollection('USGS/3DEP/1m')\n",
    "\n",
    "##Set visualization parameters.\n",
    "dem_params = {\n",
    "    'min': 0,\n",
    "    'max': 4000,\n",
    "    'palette': ['006633', 'E5FFCC', '662A00', 'D8D8D8', 'F5F5F5'],\n",
    "}\n",
    "\n",
    "Map.addLayer(dem, dem_params, '10m DEM')\n",
    "# Map.addLayer(dem1, dem_params, '1m DEM')"
   ]
  },
  {
   "cell_type": "code",
   "execution_count": 144,
   "id": "d0c54bca",
   "metadata": {},
   "outputs": [],
   "source": [
    "#Elevation\n",
    "# dem_vals = geemap.ee_to_pandas(demExtraction(dem)) ##10m dataset"
   ]
  },
  {
   "cell_type": "code",
   "execution_count": 145,
   "id": "4d29daef",
   "metadata": {},
   "outputs": [],
   "source": [
    "# raster_vals = geemap.ee_to_pandas(gaCollectionS2.map(rasterExtraction))"
   ]
  },
  {
   "cell_type": "code",
   "execution_count": 157,
   "id": "21f7fb3e",
   "metadata": {},
   "outputs": [
    {
     "name": "stdout",
     "output_type": "stream",
     "text": [
      "                        WETLAND_TY  TCI_B   latitude  QA10   B8A   WVP  \\\n",
      "0     Estuarine and Marine Wetland    139  31.414295     0  2695  2956   \n",
      "1     Estuarine and Marine Wetland    167  31.414295     0  2695  2956   \n",
      "2     Estuarine and Marine Wetland    176  31.414296     0  3008  2956   \n",
      "3     Estuarine and Marine Wetland    182  31.414296     0  3008  2956   \n",
      "4     Estuarine and Marine Wetland    170  31.414296     0  3315  2956   \n",
      "...                            ...    ...        ...   ...   ...   ...   \n",
      "4053  Estuarine and Marine Wetland    126  31.405626     0  1452  2956   \n",
      "4054  Estuarine and Marine Wetland    137  31.405627     0  1399  2956   \n",
      "4055  Estuarine and Marine Wetland    124  31.405536     0  1452  2956   \n",
      "4056  Estuarine and Marine Wetland    135  31.405536     0  1452  2956   \n",
      "4057  Estuarine and Marine Wetland    142  31.405536     0  1399  2956   \n",
      "\n",
      "         flats  longitude   B11   B12  ...    B4  TCI_R    B5    B6    B7  \\\n",
      "0     0.002538 -81.293684  2106  1704  ...  1672    170  2061  2356  2564   \n",
      "1     0.072007 -81.293579  2106  1704  ...  1742    177  2061  2356  2564   \n",
      "2     0.068613 -81.293474  2348  2034  ...  1772    181  2243  2594  2845   \n",
      "3     0.002188 -81.293369  2348  2034  ...  1922    196  2243  2594  2845   \n",
      "4     0.000579 -81.293264  2680  2331  ...  2012    205  2599  3039  3217   \n",
      "...        ...        ...   ...   ...  ...   ...    ...   ...   ...   ...   \n",
      "4053  0.367361 -81.296708  1269  1121  ...  1322    135  1394  1441  1492   \n",
      "4054  0.341379 -81.296603  1344  1216  ...  1432    146  1545  1505  1464   \n",
      "4055  0.081904 -81.296813  1269  1121  ...  1176    120  1394  1441  1492   \n",
      "4056  0.592379 -81.296708  1269  1121  ...  1256    128  1394  1441  1492   \n",
      "4057  0.497446 -81.296603  1344  1216  ...  1386    141  1545  1505  1464   \n",
      "\n",
      "        B8    B9  MSK_SNWPRB  SCL  TCI_G  \n",
      "0     2452  2446           0    8    167  \n",
      "1     2652  2446           0    8    195  \n",
      "2     2688  2446           0    8    197  \n",
      "3     2666  2446           0    8    188  \n",
      "4     2524  2446           0    8    184  \n",
      "...    ...   ...         ...  ...    ...  \n",
      "4053  1424  1563           0    6    142  \n",
      "4054  1484  1563           0    6    151  \n",
      "4055  1396  1563           0    6    123  \n",
      "4056  1486  1563           0    6    142  \n",
      "4057  1548  1563           0    6    153  \n",
      "\n",
      "[4058 rows x 28 columns]\n"
     ]
    }
   ],
   "source": [
    "## Extracting sentinel pixel values\n",
    "collection = gaCollectionS2\n",
    "\n",
    "df = pd.DataFrame(collection.aggregate_array('system:id').getInfo(),columns = ['Image'], index = None)\n",
    "\n",
    "#print(df)\n",
    "\n",
    "calibr = []\n",
    "for i in range(len(df)):\n",
    "    image = ee.Image(addSENTINELFLATS(mask_clouds(addDate(ee.Image(df.loc[i, 'Image'])))))\n",
    "    try:\n",
    "        region = flux_ga\n",
    "        samplex = geemap.ee_to_pandas(image.addBands(image.pixelLonLat()).sampleRegions(collection = region, scale = 10, geometries = True))\n",
    "        calibr.append(samplex) \n",
    "    except Exception:\n",
    "        continue #Unless this exception is included, images with no pixels in shapefile (due to clouds) will result in error\n",
    "\n",
    "image_list = pd.concat(calibr)\n",
    "\n",
    "print(image_list)"
   ]
  },
  {
   "cell_type": "code",
   "execution_count": 158,
   "id": "ff34d552",
   "metadata": {},
   "outputs": [],
   "source": [
    "\n",
    "##Export as csv\n",
    "in_fc = image_list\n",
    "out_dir = os.path.expanduser('~/Downloads')\n",
    "out_csv = os.path.join(out_dir, 'sentinel_soil.csv')\n",
    "# image_list.to_csv(out_csv, index = False)"
   ]
  },
  {
   "cell_type": "code",
   "execution_count": 148,
   "id": "b99cd287",
   "metadata": {},
   "outputs": [
    {
     "name": "stdout",
     "output_type": "stream",
     "text": [
      "percent\n",
      "TCI_B\n",
      "latitude\n",
      "QA10\n",
      "B8A\n",
      "WVP\n",
      "flats\n",
      "longitude\n",
      "B11\n",
      "B12\n",
      "AOT\n",
      "imagedate\n",
      "QA20\n",
      "MSK_CLDPRB\n",
      "B1\n",
      "QA60\n",
      "B2\n",
      "B3\n",
      "B4\n",
      "TCI_R\n",
      "B5\n",
      "B6\n",
      "B7\n",
      "B8\n",
      "B9\n",
      "MSK_SNWPRB\n",
      "SCL\n",
      "TCI_G\n"
     ]
    }
   ],
   "source": [
    "for cols in x_list.columns:\n",
    "    print(cols)"
   ]
  },
  {
   "cell_type": "code",
   "execution_count": 152,
   "id": "8b6cd255",
   "metadata": {},
   "outputs": [
    {
     "ename": "Exception",
     "evalue": "Collection query aborted after accumulating over 5000 elements.",
     "output_type": "error",
     "traceback": [
      "\u001b[1;31m---------------------------------------------------------------------------\u001b[0m",
      "\u001b[1;31mHttpError\u001b[0m                                 Traceback (most recent call last)",
      "\u001b[1;32mC:\\ProgramData\\Anaconda3\\envs\\venv\\lib\\site-packages\\ee\\data.py\u001b[0m in \u001b[0;36m_execute_cloud_call\u001b[1;34m(call, num_retries)\u001b[0m\n\u001b[0;32m    342\u001b[0m   \u001b[1;32mtry\u001b[0m\u001b[1;33m:\u001b[0m\u001b[1;33m\u001b[0m\u001b[1;33m\u001b[0m\u001b[0m\n\u001b[1;32m--> 343\u001b[1;33m     \u001b[1;32mreturn\u001b[0m \u001b[0mcall\u001b[0m\u001b[1;33m.\u001b[0m\u001b[0mexecute\u001b[0m\u001b[1;33m(\u001b[0m\u001b[0mnum_retries\u001b[0m\u001b[1;33m=\u001b[0m\u001b[0mnum_retries\u001b[0m\u001b[1;33m)\u001b[0m\u001b[1;33m\u001b[0m\u001b[1;33m\u001b[0m\u001b[0m\n\u001b[0m\u001b[0;32m    344\u001b[0m   \u001b[1;32mexcept\u001b[0m \u001b[0mgoogleapiclient\u001b[0m\u001b[1;33m.\u001b[0m\u001b[0merrors\u001b[0m\u001b[1;33m.\u001b[0m\u001b[0mHttpError\u001b[0m \u001b[1;32mas\u001b[0m \u001b[0me\u001b[0m\u001b[1;33m:\u001b[0m\u001b[1;33m\u001b[0m\u001b[1;33m\u001b[0m\u001b[0m\n",
      "\u001b[1;32mC:\\ProgramData\\Anaconda3\\envs\\venv\\lib\\site-packages\\googleapiclient\\_helpers.py\u001b[0m in \u001b[0;36mpositional_wrapper\u001b[1;34m(*args, **kwargs)\u001b[0m\n\u001b[0;32m    133\u001b[0m                     \u001b[0mlogger\u001b[0m\u001b[1;33m.\u001b[0m\u001b[0mwarning\u001b[0m\u001b[1;33m(\u001b[0m\u001b[0mmessage\u001b[0m\u001b[1;33m)\u001b[0m\u001b[1;33m\u001b[0m\u001b[1;33m\u001b[0m\u001b[0m\n\u001b[1;32m--> 134\u001b[1;33m             \u001b[1;32mreturn\u001b[0m \u001b[0mwrapped\u001b[0m\u001b[1;33m(\u001b[0m\u001b[1;33m*\u001b[0m\u001b[0margs\u001b[0m\u001b[1;33m,\u001b[0m \u001b[1;33m**\u001b[0m\u001b[0mkwargs\u001b[0m\u001b[1;33m)\u001b[0m\u001b[1;33m\u001b[0m\u001b[1;33m\u001b[0m\u001b[0m\n\u001b[0m\u001b[0;32m    135\u001b[0m \u001b[1;33m\u001b[0m\u001b[0m\n",
      "\u001b[1;32mC:\\ProgramData\\Anaconda3\\envs\\venv\\lib\\site-packages\\googleapiclient\\http.py\u001b[0m in \u001b[0;36mexecute\u001b[1;34m(self, http, num_retries)\u001b[0m\n\u001b[0;32m    914\u001b[0m         \u001b[1;32mif\u001b[0m \u001b[0mresp\u001b[0m\u001b[1;33m.\u001b[0m\u001b[0mstatus\u001b[0m \u001b[1;33m>=\u001b[0m \u001b[1;36m300\u001b[0m\u001b[1;33m:\u001b[0m\u001b[1;33m\u001b[0m\u001b[1;33m\u001b[0m\u001b[0m\n\u001b[1;32m--> 915\u001b[1;33m             \u001b[1;32mraise\u001b[0m \u001b[0mHttpError\u001b[0m\u001b[1;33m(\u001b[0m\u001b[0mresp\u001b[0m\u001b[1;33m,\u001b[0m \u001b[0mcontent\u001b[0m\u001b[1;33m,\u001b[0m \u001b[0muri\u001b[0m\u001b[1;33m=\u001b[0m\u001b[0mself\u001b[0m\u001b[1;33m.\u001b[0m\u001b[0muri\u001b[0m\u001b[1;33m)\u001b[0m\u001b[1;33m\u001b[0m\u001b[1;33m\u001b[0m\u001b[0m\n\u001b[0m\u001b[0;32m    916\u001b[0m         \u001b[1;32mreturn\u001b[0m \u001b[0mself\u001b[0m\u001b[1;33m.\u001b[0m\u001b[0mpostproc\u001b[0m\u001b[1;33m(\u001b[0m\u001b[0mresp\u001b[0m\u001b[1;33m,\u001b[0m \u001b[0mcontent\u001b[0m\u001b[1;33m)\u001b[0m\u001b[1;33m\u001b[0m\u001b[1;33m\u001b[0m\u001b[0m\n",
      "\u001b[1;31mHttpError\u001b[0m: <HttpError 400 when requesting https://earthengine.googleapis.com/v1/projects/earthengine-legacy/value:compute?prettyPrint=false&alt=json returned \"Collection query aborted after accumulating over 5000 elements.\". Details: \"Collection query aborted after accumulating over 5000 elements.\">",
      "\nDuring handling of the above exception, another exception occurred:\n",
      "\u001b[1;31mEEException\u001b[0m                               Traceback (most recent call last)",
      "\u001b[1;32mC:\\ProgramData\\Anaconda3\\envs\\venv\\lib\\site-packages\\geemap\\common.py\u001b[0m in \u001b[0;36mee_to_df\u001b[1;34m(ee_object, col_names, **kwargs)\u001b[0m\n\u001b[0;32m   7533\u001b[0m         \u001b[0mdata\u001b[0m \u001b[1;33m=\u001b[0m \u001b[0mee_object\u001b[0m\u001b[1;33m.\u001b[0m\u001b[0mmap\u001b[0m\u001b[1;33m(\u001b[0m\u001b[1;32mlambda\u001b[0m \u001b[0mf\u001b[0m\u001b[1;33m:\u001b[0m \u001b[0mee\u001b[0m\u001b[1;33m.\u001b[0m\u001b[0mFeature\u001b[0m\u001b[1;33m(\u001b[0m\u001b[1;32mNone\u001b[0m\u001b[1;33m,\u001b[0m \u001b[0mf\u001b[0m\u001b[1;33m.\u001b[0m\u001b[0mtoDictionary\u001b[0m\u001b[1;33m(\u001b[0m\u001b[1;33m)\u001b[0m\u001b[1;33m)\u001b[0m\u001b[1;33m)\u001b[0m\u001b[1;33m\u001b[0m\u001b[1;33m\u001b[0m\u001b[0m\n\u001b[1;32m-> 7534\u001b[1;33m         \u001b[0mdata\u001b[0m \u001b[1;33m=\u001b[0m \u001b[1;33m[\u001b[0m\u001b[0mx\u001b[0m\u001b[1;33m[\u001b[0m\u001b[1;34m\"properties\"\u001b[0m\u001b[1;33m]\u001b[0m \u001b[1;32mfor\u001b[0m \u001b[0mx\u001b[0m \u001b[1;32min\u001b[0m \u001b[0mdata\u001b[0m\u001b[1;33m.\u001b[0m\u001b[0mgetInfo\u001b[0m\u001b[1;33m(\u001b[0m\u001b[1;33m)\u001b[0m\u001b[1;33m[\u001b[0m\u001b[1;34m\"features\"\u001b[0m\u001b[1;33m]\u001b[0m\u001b[1;33m]\u001b[0m\u001b[1;33m\u001b[0m\u001b[1;33m\u001b[0m\u001b[0m\n\u001b[0m\u001b[0;32m   7535\u001b[0m         \u001b[0mdf\u001b[0m \u001b[1;33m=\u001b[0m \u001b[0mpd\u001b[0m\u001b[1;33m.\u001b[0m\u001b[0mDataFrame\u001b[0m\u001b[1;33m(\u001b[0m\u001b[0mdata\u001b[0m\u001b[1;33m)\u001b[0m\u001b[1;33m\u001b[0m\u001b[1;33m\u001b[0m\u001b[0m\n",
      "\u001b[1;32mC:\\ProgramData\\Anaconda3\\envs\\venv\\lib\\site-packages\\ee\\collection.py\u001b[0m in \u001b[0;36mgetInfo\u001b[1;34m(self)\u001b[0m\n\u001b[0;32m    130\u001b[0m     \"\"\"\n\u001b[1;32m--> 131\u001b[1;33m     \u001b[1;32mreturn\u001b[0m \u001b[0msuper\u001b[0m\u001b[1;33m(\u001b[0m\u001b[1;33m)\u001b[0m\u001b[1;33m.\u001b[0m\u001b[0mgetInfo\u001b[0m\u001b[1;33m(\u001b[0m\u001b[1;33m)\u001b[0m\u001b[1;33m\u001b[0m\u001b[1;33m\u001b[0m\u001b[0m\n\u001b[0m\u001b[0;32m    132\u001b[0m \u001b[1;33m\u001b[0m\u001b[0m\n",
      "\u001b[1;32mC:\\ProgramData\\Anaconda3\\envs\\venv\\lib\\site-packages\\ee\\computedobject.py\u001b[0m in \u001b[0;36mgetInfo\u001b[1;34m(self)\u001b[0m\n\u001b[0;32m     93\u001b[0m     \"\"\"\n\u001b[1;32m---> 94\u001b[1;33m     \u001b[1;32mreturn\u001b[0m \u001b[0mdata\u001b[0m\u001b[1;33m.\u001b[0m\u001b[0mcomputeValue\u001b[0m\u001b[1;33m(\u001b[0m\u001b[0mself\u001b[0m\u001b[1;33m)\u001b[0m\u001b[1;33m\u001b[0m\u001b[1;33m\u001b[0m\u001b[0m\n\u001b[0m\u001b[0;32m     95\u001b[0m \u001b[1;33m\u001b[0m\u001b[0m\n",
      "\u001b[1;32mC:\\ProgramData\\Anaconda3\\envs\\venv\\lib\\site-packages\\ee\\data.py\u001b[0m in \u001b[0;36mcomputeValue\u001b[1;34m(obj)\u001b[0m\n\u001b[0;32m    951\u001b[0m \u001b[1;33m\u001b[0m\u001b[0m\n\u001b[1;32m--> 952\u001b[1;33m   return _execute_cloud_call(\n\u001b[0m\u001b[0;32m    953\u001b[0m       \u001b[0m_get_cloud_projects\u001b[0m\u001b[1;33m(\u001b[0m\u001b[1;33m)\u001b[0m\u001b[1;33m\u001b[0m\u001b[1;33m\u001b[0m\u001b[0m\n",
      "\u001b[1;32mC:\\ProgramData\\Anaconda3\\envs\\venv\\lib\\site-packages\\ee\\data.py\u001b[0m in \u001b[0;36m_execute_cloud_call\u001b[1;34m(call, num_retries)\u001b[0m\n\u001b[0;32m    344\u001b[0m   \u001b[1;32mexcept\u001b[0m \u001b[0mgoogleapiclient\u001b[0m\u001b[1;33m.\u001b[0m\u001b[0merrors\u001b[0m\u001b[1;33m.\u001b[0m\u001b[0mHttpError\u001b[0m \u001b[1;32mas\u001b[0m \u001b[0me\u001b[0m\u001b[1;33m:\u001b[0m\u001b[1;33m\u001b[0m\u001b[1;33m\u001b[0m\u001b[0m\n\u001b[1;32m--> 345\u001b[1;33m     \u001b[1;32mraise\u001b[0m \u001b[0m_translate_cloud_exception\u001b[0m\u001b[1;33m(\u001b[0m\u001b[0me\u001b[0m\u001b[1;33m)\u001b[0m\u001b[1;33m\u001b[0m\u001b[1;33m\u001b[0m\u001b[0m\n\u001b[0m\u001b[0;32m    346\u001b[0m \u001b[1;33m\u001b[0m\u001b[0m\n",
      "\u001b[1;31mEEException\u001b[0m: Collection query aborted after accumulating over 5000 elements.",
      "\nDuring handling of the above exception, another exception occurred:\n",
      "\u001b[1;31mException\u001b[0m                                 Traceback (most recent call last)",
      "\u001b[1;32m~\\AppData\\Local\\Temp/ipykernel_8940/1382932616.py\u001b[0m in \u001b[0;36m<module>\u001b[1;34m\u001b[0m\n\u001b[0;32m      1\u001b[0m \u001b[1;31m#DEM\u001b[0m\u001b[1;33m\u001b[0m\u001b[1;33m\u001b[0m\u001b[0m\n\u001b[0;32m      2\u001b[0m \u001b[0mregion\u001b[0m \u001b[1;33m=\u001b[0m \u001b[0mflux_ga\u001b[0m\u001b[1;33m\u001b[0m\u001b[1;33m\u001b[0m\u001b[0m\n\u001b[1;32m----> 3\u001b[1;33m \u001b[0mdem_df\u001b[0m \u001b[1;33m=\u001b[0m \u001b[0mgeemap\u001b[0m\u001b[1;33m.\u001b[0m\u001b[0mee_to_pandas\u001b[0m\u001b[1;33m(\u001b[0m\u001b[0mdem\u001b[0m\u001b[1;33m.\u001b[0m\u001b[0maddBands\u001b[0m\u001b[1;33m(\u001b[0m\u001b[0mdem\u001b[0m\u001b[1;33m.\u001b[0m\u001b[0mpixelLonLat\u001b[0m\u001b[1;33m(\u001b[0m\u001b[1;33m)\u001b[0m\u001b[1;33m)\u001b[0m\u001b[1;33m.\u001b[0m\u001b[0msampleRegions\u001b[0m\u001b[1;33m(\u001b[0m\u001b[0mcollection\u001b[0m \u001b[1;33m=\u001b[0m \u001b[0mregion\u001b[0m\u001b[1;33m,\u001b[0m \u001b[0mscale\u001b[0m \u001b[1;33m=\u001b[0m \u001b[1;36m10\u001b[0m\u001b[1;33m,\u001b[0m \u001b[0mgeometries\u001b[0m \u001b[1;33m=\u001b[0m \u001b[1;32mTrue\u001b[0m\u001b[1;33m)\u001b[0m\u001b[1;33m)\u001b[0m\u001b[1;33m\u001b[0m\u001b[1;33m\u001b[0m\u001b[0m\n\u001b[0m\u001b[0;32m      4\u001b[0m \u001b[1;33m\u001b[0m\u001b[0m\n\u001b[0;32m      5\u001b[0m \u001b[0mprint\u001b[0m\u001b[1;33m(\u001b[0m\u001b[0mdem_df\u001b[0m\u001b[1;33m)\u001b[0m\u001b[1;33m\u001b[0m\u001b[1;33m\u001b[0m\u001b[0m\n",
      "\u001b[1;32mC:\\ProgramData\\Anaconda3\\envs\\venv\\lib\\site-packages\\geemap\\common.py\u001b[0m in \u001b[0;36mee_to_df\u001b[1;34m(ee_object, col_names, **kwargs)\u001b[0m\n\u001b[0;32m   7545\u001b[0m         \u001b[1;32mreturn\u001b[0m \u001b[0mdf\u001b[0m\u001b[1;33m\u001b[0m\u001b[1;33m\u001b[0m\u001b[0m\n\u001b[0;32m   7546\u001b[0m     \u001b[1;32mexcept\u001b[0m \u001b[0mException\u001b[0m \u001b[1;32mas\u001b[0m \u001b[0me\u001b[0m\u001b[1;33m:\u001b[0m\u001b[1;33m\u001b[0m\u001b[1;33m\u001b[0m\u001b[0m\n\u001b[1;32m-> 7547\u001b[1;33m         \u001b[1;32mraise\u001b[0m \u001b[0mException\u001b[0m\u001b[1;33m(\u001b[0m\u001b[0me\u001b[0m\u001b[1;33m)\u001b[0m\u001b[1;33m\u001b[0m\u001b[1;33m\u001b[0m\u001b[0m\n\u001b[0m\u001b[0;32m   7548\u001b[0m \u001b[1;33m\u001b[0m\u001b[0m\n\u001b[0;32m   7549\u001b[0m \u001b[1;33m\u001b[0m\u001b[0m\n",
      "\u001b[1;31mException\u001b[0m: Collection query aborted after accumulating over 5000 elements."
     ]
    }
   ],
   "source": [
    "#DEM\n",
    "region = flux_ga\n",
    "dem_df = geemap.ee_to_pandas(dem.addBands(dem.pixelLonLat()).sampleRegions(collection = region, scale = 10, geometries = True))\n",
    "\n",
    "print(dem_df)\n",
    "\n",
    "##Export as csv\n",
    "in_fc = dem_df\n",
    "out_dir = os.path.expanduser('~/Downloads')\n",
    "out_csv = os.path.join(out_dir, 'DEM_soil.csv')\n",
    "# dem_df.to_csv(out_csv, index = False)"
   ]
  },
  {
   "cell_type": "code",
   "execution_count": null,
   "id": "c7d9b205",
   "metadata": {},
   "outputs": [],
   "source": []
  }
 ],
 "metadata": {
  "kernelspec": {
   "display_name": "venv",
   "language": "python",
   "name": "venv"
  },
  "language_info": {
   "codemirror_mode": {
    "name": "ipython",
    "version": 3
   },
   "file_extension": ".py",
   "mimetype": "text/x-python",
   "name": "python",
   "nbconvert_exporter": "python",
   "pygments_lexer": "ipython3",
   "version": "3.9.12"
  }
 },
 "nbformat": 4,
 "nbformat_minor": 5
}
