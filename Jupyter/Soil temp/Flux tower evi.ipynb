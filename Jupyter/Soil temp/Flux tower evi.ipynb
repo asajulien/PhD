{
 "cells": [
  {
   "cell_type": "code",
   "execution_count": 1,
   "id": "72bb69c6",
   "metadata": {},
   "outputs": [],
   "source": [
    "import geemap\n",
    "import pandas as pd\n",
    "import numpy as np\n",
    "import matplotlib.pyplot as plt\n",
    "import pdb\n",
    "from IPython.display import display\n",
    "import ee\n",
    "import os\n",
    "import glob"
   ]
  },
  {
   "cell_type": "code",
   "execution_count": 2,
   "id": "58f03dc8",
   "metadata": {},
   "outputs": [],
   "source": [
    "ee.Initialize()\n",
    "\n",
    "Map = geemap.Map(center=[31.539096,-81.422318], zoom=10)"
   ]
  },
  {
   "cell_type": "code",
   "execution_count": 3,
   "id": "61e2e68c",
   "metadata": {},
   "outputs": [],
   "source": [
    "#Note 1/18/23: Flux tower footprint (fluxproper) OR expanded flux area (fluxdiss) OR all gce (gce_clip)\n",
    "\n",
    "# gce_clip = 'F:/Wetlands shapefiles/GA_shapefile_wetlands/GA_sapelodissolve.shp'\n",
    "\n",
    "# gce_fluxdiss = 'F:/Wetlands shapefiles/GA_shapefile_wetlands/GA_fluxdissolve.shp'\n",
    "\n",
    "# gce_fluxproper = 'F:/Wetlands shapefiles/GCE flux tower/2014-climatology.shp'\n",
    "\n",
    "gce_expandedflux = 'F:/Wetlands shapefiles/GCE flux tower/expanded_flux.shp' ## Added 9/18/23 - fix shapefile problems!\n",
    "\n",
    "flux_ga = geemap.shp_to_ee(gce_expandedflux)\n",
    "\n",
    "## DEM\n",
    "elevation = ee.Image('USGS/3DEP/10m').clip(flux_ga) ##This is 1/3 arc second, or 10 m."
   ]
  },
  {
   "cell_type": "code",
   "execution_count": 5,
   "id": "690416e2",
   "metadata": {},
   "outputs": [],
   "source": [
    "def addFLATSL8(image):\n",
    "    flats = ee.Image(0).expression(\n",
    "        '1/(1+2.718281828459045**-(1.51 + 12.5*(0.841*(RED-SWIR)/(RED+SWIR) - 0.019) - 41.2*(0.771*(NIR-RED)/(NIR+6*RED-7.5*BLUE+1) + 0.011)))', {\n",
    "            'SWIR': image.select('SR_B6'),\n",
    "            'NIR': image.select('SR_B5'),\n",
    "            'RED': image.select('SR_B4'),\n",
    "            'BLUE': image.select('SR_B2')\n",
    "        })\n",
    "    \n",
    "    return image.addBands(flats.rename('flats'))\n",
    "\n",
    "#MASKING FLATS\n",
    "def maskFLATS(image):\n",
    "    mask1 = image.select('flats').lte(0.1) #less than or equal to 0.1 - change?\n",
    "    return image.updateMask(mask1)"
   ]
  },
  {
   "cell_type": "code",
   "execution_count": 6,
   "id": "dd866b5e",
   "metadata": {},
   "outputs": [],
   "source": [
    "# Function to add the date band\n",
    "def add_date_band(image):\n",
    "    # Get the acquisition date\n",
    "    date = ee.Date(image.get('system:time_start'))\n",
    "    \n",
    "    # Convert the date to milliseconds since Unix epoch\n",
    "    date_millis = date.millis()\n",
    "    \n",
    "    # Create an image with a single band representing the acquisition date\n",
    "    date_image = ee.Image.constant(date_millis).int64().rename('acquisition_date')\n",
    "    \n",
    "    # Add the date image as a band to the original image\n",
    "    return image.addBands(date_image)\n"
   ]
  },
  {
   "cell_type": "code",
   "execution_count": 7,
   "id": "2a8a6e7b",
   "metadata": {},
   "outputs": [],
   "source": [
    "##Function to cloud mask from the pixel_qa band of Landsat 5/8 SR data.\n",
    "def maskL5sr(image):\n",
    "    qaMask = image.select('QA_PIXEL').bitwiseAnd(int('11111', 2)).eq(0)\n",
    "    saturationMask = image.select('QA_RADSAT').eq(0)\n",
    "    # Apply the scaling factors to the appropriate bands.\n",
    "    opticalBands = image.select('SR_B.').multiply(0.0000275).add(-0.2)\n",
    "    thermalBands = image.select('ST_B.*').multiply(0.00341802).add(149.0)\n",
    "    # Replace the original bands with the scaled ones and apply the masks.\n",
    "    return image.addBands(opticalBands, None, True) \\\n",
    "    .addBands(thermalBands, None, True) \\\n",
    "    .updateMask(qaMask) \\\n",
    "    .updateMask(saturationMask)"
   ]
  },
  {
   "cell_type": "code",
   "execution_count": 8,
   "id": "5807fe12",
   "metadata": {},
   "outputs": [],
   "source": [
    "def addevi(image):\n",
    "    evi = ee.Image(0).expression(\n",
    "        '(NIR-RED)/(NIR+6*RED-7.5*BLUE+1)', {\n",
    "            'RED': image.select('SR_B4'),\n",
    "            'NIR': image.select('SR_B5'),\n",
    "            'BLUE': image.select('SR_B2'),\n",
    "\n",
    "        })\n",
    "    \n",
    "    return image.addBands(evi.rename('evi'))"
   ]
  },
  {
   "cell_type": "code",
   "execution_count": 10,
   "id": "0102c3b6",
   "metadata": {},
   "outputs": [],
   "source": [
    "#Loading gee datasets\n",
    "l8_col = ee.ImageCollection('LANDSAT/LC08/C02/T1_L2') \\\n",
    "    .filter(ee.Filter.calendarRange(2013, 2023,'year')) \\\n",
    "    .filterBounds(flux_ga) \\\n",
    "    .map(maskL5sr).map(addFLATSL8).map(add_date_band)"
   ]
  },
  {
   "cell_type": "code",
   "execution_count": 13,
   "id": "c9448af6",
   "metadata": {},
   "outputs": [],
   "source": [
    "# Display the percentage image on the map\n",
    "# Map = geemap.Map()\n",
    "# Map.centerObject(flux_ga, 8)\n",
    "# Map.addLayer(l8_col.first())\n",
    "# Map.addLayer(flux_ga)\n",
    "# Map"
   ]
  },
  {
   "cell_type": "code",
   "execution_count": 15,
   "id": "2ed7de07",
   "metadata": {},
   "outputs": [
    {
     "name": "stdout",
     "output_type": "stream",
     "text": [
      "       Shape_Leng ATTRIBUTE    Shape_Area    Shape_Le_1  \\\n",
      "0    14200.477256    E2EM1N  1.761018e+06  14200.477256   \n",
      "1    14200.477256    E2EM1N  1.761018e+06  14200.477256   \n",
      "2    14200.477256    E2EM1N  1.761018e+06  14200.477256   \n",
      "3    14200.477256    E2EM1N  1.761018e+06  14200.477256   \n",
      "4    14200.477256    E2EM1N  1.761018e+06  14200.477256   \n",
      "..            ...       ...           ...           ...   \n",
      "986  14200.477256    E2EM1N  1.761018e+06  14200.477256   \n",
      "987  14200.477256    E2EM1N  1.761018e+06  14200.477256   \n",
      "988  14200.477256    E2EM1N  1.761018e+06  14200.477256   \n",
      "989  14200.477256    E2EM1N  1.761018e+06  14200.477256   \n",
      "990  14200.477256    E2EM1N  1.761018e+06  14200.477256   \n",
      "\n",
      "                       WETLAND_TY       ACRES  ST_EMSD  ST_URAD   latitude  \\\n",
      "0    Estuarine and Marine Wetland  435.156601        0      576  31.459578   \n",
      "1    Estuarine and Marine Wetland  435.156601        0      576  31.459307   \n",
      "2    Estuarine and Marine Wetland  435.156601        0      576  31.459037   \n",
      "3    Estuarine and Marine Wetland  435.156601       64      576  31.458766   \n",
      "4    Estuarine and Marine Wetland  435.156601       64      576  31.458495   \n",
      "..                            ...         ...      ...      ...        ...   \n",
      "986  Estuarine and Marine Wetland  435.156601       50     3026  31.439545   \n",
      "987  Estuarine and Marine Wetland  435.156601       50     3026  31.439545   \n",
      "988  Estuarine and Marine Wetland  435.156601       64     3026  31.439273   \n",
      "989  Estuarine and Marine Wetland  435.156601       50     3026  31.439273   \n",
      "990  Estuarine and Marine Wetland  435.156601       50     3026  31.439274   \n",
      "\n",
      "     acquisition_date  ...  SR_QA_AEROSOL     SR_B4  ST_ATRAN     SR_B5  \\\n",
      "0       1364486167945  ...             96  0.059710      9010  0.113142   \n",
      "1       1364486167945  ...             96  0.054513      9010  0.102913   \n",
      "2       1364486167945  ...             96  0.057428      9010  0.109183   \n",
      "3       1364486167945  ...             96  0.057758      9010  0.124940   \n",
      "4       1364486167945  ...             96  0.054457      9010  0.061305   \n",
      "..                ...  ...            ...       ...       ...       ...   \n",
      "986     1694016045517  ...             96  0.036060      6414  0.124472   \n",
      "987     1694016045517  ...             96  0.035867      6414  0.127690   \n",
      "988     1694016045517  ...            160  0.045850      6414  0.122713   \n",
      "989     1694016045517  ...            160  0.037050      6414  0.118862   \n",
      "990     1694016045517  ...             96  0.033722      6414  0.107120   \n",
      "\n",
      "        SR_B6     SR_B7      ST_B10  QA_PIXEL  ST_CDIST     SR_B1  \n",
      "0    0.089355  0.054045  288.414200     21824       390  0.042137  \n",
      "1    0.077750  0.046923  288.547503     21824       388  0.041505  \n",
      "2    0.077420  0.046235  288.667133     21824       386  0.043733  \n",
      "3    0.086330  0.053000  289.733555     21824       384  0.042605  \n",
      "4    0.053385  0.033475  289.337065     21952       380  0.038370  \n",
      "..        ...       ...         ...       ...       ...       ...  \n",
      "986  0.094415  0.051625  297.208765     21824         9  0.017690  \n",
      "987  0.089877  0.048682  297.704378     21824         7  0.021622  \n",
      "988  0.090345  0.055173  298.818653     21824         3  0.024180  \n",
      "989  0.091775  0.052148  297.984656     21824         6  0.012795  \n",
      "990  0.074340  0.041120  297.892369     21824         9  0.013318  \n",
      "\n",
      "[420763 rows x 30 columns]\n"
     ]
    }
   ],
   "source": [
    "## Extracting sentinel pixel values\n",
    "collection = l8_col\n",
    "\n",
    "df = pd.DataFrame(collection.aggregate_array('system:id').getInfo(),columns = ['Image'], index = None)\n",
    "\n",
    "#print(df)\n",
    "\n",
    "calibr = []\n",
    "for i in range(len(df)):\n",
    "    image = ee.Image(addevi(maskFLATS(addFLATSL8(maskL5sr(add_date_band(ee.Image(df.loc[i, 'Image'])))))))\n",
    "    try:\n",
    "        region = flux_ga\n",
    "        samplex = geemap.ee_to_pandas(image.addBands(image.pixelLonLat()).sampleRegions(collection = region, scale = 30, geometries = True))\n",
    "        calibr.append(samplex) \n",
    "    except Exception:\n",
    "        continue #Unless this exception is included, images with no pixels in shapefile (due to clouds) will result in error\n",
    "\n",
    "image_list = pd.concat(calibr)\n",
    "\n",
    "print(image_list)"
   ]
  },
  {
   "cell_type": "code",
   "execution_count": 16,
   "id": "33e80a84",
   "metadata": {},
   "outputs": [
    {
     "data": {
      "text/plain": [
       "0     2013-03-28 15:56:07.945\n",
       "1     2013-03-28 15:56:07.945\n",
       "2     2013-03-28 15:56:07.945\n",
       "3     2013-03-28 15:56:07.945\n",
       "4     2013-03-28 15:56:07.945\n",
       "                ...          \n",
       "986   2023-09-06 16:00:45.517\n",
       "987   2023-09-06 16:00:45.517\n",
       "988   2023-09-06 16:00:45.517\n",
       "989   2023-09-06 16:00:45.517\n",
       "990   2023-09-06 16:00:45.517\n",
       "Name: Date, Length: 420763, dtype: datetime64[ns]"
      ]
     },
     "execution_count": 16,
     "metadata": {},
     "output_type": "execute_result"
    }
   ],
   "source": [
    "image_list['Date'] = pd.to_datetime(image_list['acquisition_date'], unit='ms')\n",
    "image_list['Date']"
   ]
  },
  {
   "cell_type": "code",
   "execution_count": 17,
   "id": "785503cd",
   "metadata": {},
   "outputs": [],
   "source": [
    "##Export as csv\n",
    "in_fc = image_list\n",
    "out_dir = os.path.expanduser('~/Downloads')\n",
    "out_csv = os.path.join(out_dir, 'flux_evi.csv')\n",
    "# image_list.to_csv(out_csv, index = False)"
   ]
  }
 ],
 "metadata": {
  "kernelspec": {
   "display_name": "Python [conda env:gee] *",
   "language": "python",
   "name": "conda-env-gee-py"
  },
  "language_info": {
   "codemirror_mode": {
    "name": "ipython",
    "version": 3
   },
   "file_extension": ".py",
   "mimetype": "text/x-python",
   "name": "python",
   "nbconvert_exporter": "python",
   "pygments_lexer": "ipython3",
   "version": "3.10.13"
  }
 },
 "nbformat": 4,
 "nbformat_minor": 5
}
