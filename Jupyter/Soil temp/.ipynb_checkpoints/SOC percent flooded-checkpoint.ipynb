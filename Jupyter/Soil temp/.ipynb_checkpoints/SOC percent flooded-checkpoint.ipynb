{
 "cells": [
  {
   "cell_type": "code",
   "execution_count": 1,
   "id": "8962707d",
   "metadata": {},
   "outputs": [],
   "source": [
    "import geemap\n",
    "import pandas as pd\n",
    "import numpy as np\n",
    "import matplotlib.pyplot as plt\n",
    "import pdb\n",
    "from IPython.display import display\n",
    "import ee\n",
    "import os\n",
    "import glob"
   ]
  },
  {
   "cell_type": "code",
   "execution_count": 2,
   "id": "beac6273",
   "metadata": {},
   "outputs": [
    {
     "data": {
      "text/html": [
       "\n",
       "            <style>\n",
       "                .geemap-dark {\n",
       "                    --jp-widgets-color: white;\n",
       "                    --jp-widgets-label-color: white;\n",
       "                    --jp-ui-font-color1: white;\n",
       "                    --jp-layout-color2: #454545;\n",
       "                    background-color: #383838;\n",
       "                }\n",
       "\n",
       "                .geemap-dark .jupyter-button {\n",
       "                    --jp-layout-color3: #383838;\n",
       "                }\n",
       "\n",
       "                .geemap-colab {\n",
       "                    background-color: var(--colab-primary-surface-color, white);\n",
       "                }\n",
       "\n",
       "                .geemap-colab .jupyter-button {\n",
       "                    --jp-layout-color3: var(--colab-primary-surface-color, white);\n",
       "                }\n",
       "            </style>\n",
       "            "
      ],
      "text/plain": [
       "<IPython.core.display.HTML object>"
      ]
     },
     "metadata": {},
     "output_type": "display_data"
    },
    {
     "name": "stdout",
     "output_type": "stream",
     "text": [
      "0.34.1\n"
     ]
    }
   ],
   "source": [
    "import ee\n",
    "import geemap\n",
    "service_account = ' boba-account@boba-430314.iam.gserviceaccount.com '\n",
    "credentials = ee.ServiceAccountCredentials(service_account,'C:/Users/arj26323/OneDrive - University of Georgia/Documents/GEE AUTH/boba-430314-a19be859bfca.json')\n",
    "\n",
    "ee.Initialize(credentials)\n",
    "\n",
    "print(geemap.__version__)\n",
    "\n",
    "# ee.Initialize()\n",
    "\n",
    "Map = geemap.Map(center=[31.539096,-81.422318], zoom=10)\n",
    "\n",
    "# bb = ee.Geometry.Polygon([[-81.29, 31.425], [-81.29, 31.46], [-81.27, 31.46],[-81.27, 31.425]])"
   ]
  },
  {
   "cell_type": "code",
   "execution_count": 17,
   "id": "42a40d23",
   "metadata": {},
   "outputs": [
    {
     "data": {
      "text/html": [
       "\n",
       "            <style>\n",
       "                .geemap-dark {\n",
       "                    --jp-widgets-color: white;\n",
       "                    --jp-widgets-label-color: white;\n",
       "                    --jp-ui-font-color1: white;\n",
       "                    --jp-layout-color2: #454545;\n",
       "                    background-color: #383838;\n",
       "                }\n",
       "\n",
       "                .geemap-dark .jupyter-button {\n",
       "                    --jp-layout-color3: #383838;\n",
       "                }\n",
       "\n",
       "                .geemap-colab {\n",
       "                    background-color: var(--colab-primary-surface-color, white);\n",
       "                }\n",
       "\n",
       "                .geemap-colab .jupyter-button {\n",
       "                    --jp-layout-color3: var(--colab-primary-surface-color, white);\n",
       "                }\n",
       "            </style>\n",
       "            "
      ],
      "text/plain": [
       "<IPython.core.display.HTML object>"
      ]
     },
     "metadata": {},
     "output_type": "display_data"
    }
   ],
   "source": [
    "#Note 1/18/23: Flux tower footprint (fluxproper) OR expanded flux area (fluxdiss) OR all gce (gce_clip)\n",
    "\n",
    "AM_clip = 'F:/Iowa BMP/SOC/Site_Boundries_Rajneesh/AM_Boundry.shp'\n",
    "DBR_clip = 'F:/Iowa BMP/SOC/Site_Boundries_Rajneesh/DBR_Boundry.shp'\n",
    "SBR_clip = 'F:/Iowa BMP/SOC/Site_Boundries_Rajneesh/SBR_Boundry.shp'\n",
    "SKDnorth_clip = 'F:/Iowa BMP/SOC/Site_Boundries_Rajneesh/SKD_North_Boundry.shp'\n",
    "SKDsouth_clip = 'F:/Iowa BMP/SOC/Site_Boundries_Rajneesh/SKD_South_Boundry.shp'\n",
    "SN_clip = 'F:/Iowa BMP/SOC/Site_Boundries_Rajneesh/SN_Boundry.shp'\n",
    "DC_clip = 'F:/Iowa BMP/SOC/Site_Boundries_Rajneesh/DC_Boundry.shp'\n",
    "\n",
    "flux_ga = geemap.shp_to_ee(AM_clip)\n",
    "bb = flux_ga.geometry()\n",
    "\n",
    "## DEM\n",
    "elevation = ee.Image('USGS/3DEP/10m').clip(flux_ga) ##This is 1/3 arc second, or 10 m."
   ]
  },
  {
   "cell_type": "code",
   "execution_count": 18,
   "id": "c9d06605",
   "metadata": {},
   "outputs": [
    {
     "data": {
      "text/html": [
       "\n",
       "            <style>\n",
       "                .geemap-dark {\n",
       "                    --jp-widgets-color: white;\n",
       "                    --jp-widgets-label-color: white;\n",
       "                    --jp-ui-font-color1: white;\n",
       "                    --jp-layout-color2: #454545;\n",
       "                    background-color: #383838;\n",
       "                }\n",
       "\n",
       "                .geemap-dark .jupyter-button {\n",
       "                    --jp-layout-color3: #383838;\n",
       "                }\n",
       "\n",
       "                .geemap-colab {\n",
       "                    background-color: var(--colab-primary-surface-color, white);\n",
       "                }\n",
       "\n",
       "                .geemap-colab .jupyter-button {\n",
       "                    --jp-layout-color3: var(--colab-primary-surface-color, white);\n",
       "                }\n",
       "            </style>\n",
       "            "
      ],
      "text/plain": [
       "<IPython.core.display.HTML object>"
      ]
     },
     "metadata": {},
     "output_type": "display_data"
    }
   ],
   "source": [
    "cen_bb = bb.dissolve()\n",
    "Map = geemap.Map()\n",
    "Map.addLayer(bb)\n",
    "Map.centerObject(flux_ga,12)\n",
    "# Map\n",
    "\n",
    "# print(bb.projection().getInfo())"
   ]
  },
  {
   "cell_type": "code",
   "execution_count": 19,
   "id": "03c318c9",
   "metadata": {},
   "outputs": [
    {
     "data": {
      "text/html": [
       "\n",
       "            <style>\n",
       "                .geemap-dark {\n",
       "                    --jp-widgets-color: white;\n",
       "                    --jp-widgets-label-color: white;\n",
       "                    --jp-ui-font-color1: white;\n",
       "                    --jp-layout-color2: #454545;\n",
       "                    background-color: #383838;\n",
       "                }\n",
       "\n",
       "                .geemap-dark .jupyter-button {\n",
       "                    --jp-layout-color3: #383838;\n",
       "                }\n",
       "\n",
       "                .geemap-colab {\n",
       "                    background-color: var(--colab-primary-surface-color, white);\n",
       "                }\n",
       "\n",
       "                .geemap-colab .jupyter-button {\n",
       "                    --jp-layout-color3: var(--colab-primary-surface-color, white);\n",
       "                }\n",
       "            </style>\n",
       "            "
      ],
      "text/plain": [
       "<IPython.core.display.HTML object>"
      ]
     },
     "metadata": {},
     "output_type": "display_data"
    },
    {
     "data": {
      "text/plain": [
       "{'QA_PIXEL': 255,\n",
       " 'QA_RADSAT': 255,\n",
       " 'SR_ATMOS_OPACITY': 255,\n",
       " 'SR_B1': 255,\n",
       " 'SR_B2': 255,\n",
       " 'SR_B3': 255,\n",
       " 'SR_B4': 255,\n",
       " 'SR_B5': 255,\n",
       " 'SR_B7': 255,\n",
       " 'SR_CLOUD_QA': 106,\n",
       " 'ST_ATRAN': 255,\n",
       " 'ST_B6': 255,\n",
       " 'ST_CDIST': 255,\n",
       " 'ST_DRAD': 255,\n",
       " 'ST_EMIS': 255,\n",
       " 'ST_EMSD': 255,\n",
       " 'ST_QA': 255,\n",
       " 'ST_TRAD': 255,\n",
       " 'ST_URAD': 255}"
      ]
     },
     "execution_count": 19,
     "metadata": {},
     "output_type": "execute_result"
    }
   ],
   "source": [
    "#Pixel counts of each region:\n",
    "image = ee.Image('LANDSAT/LT05/C02/T1_L2/LT05_016038_19990711')\n",
    "x = image.reduceRegion(geometry=flux_ga, reducer=ee.Reducer.count(), scale=30)\n",
    "x.getInfo()"
   ]
  },
  {
   "cell_type": "code",
   "execution_count": 20,
   "id": "1b4f4f00",
   "metadata": {},
   "outputs": [
    {
     "data": {
      "text/html": [
       "\n",
       "            <style>\n",
       "                .geemap-dark {\n",
       "                    --jp-widgets-color: white;\n",
       "                    --jp-widgets-label-color: white;\n",
       "                    --jp-ui-font-color1: white;\n",
       "                    --jp-layout-color2: #454545;\n",
       "                    background-color: #383838;\n",
       "                }\n",
       "\n",
       "                .geemap-dark .jupyter-button {\n",
       "                    --jp-layout-color3: #383838;\n",
       "                }\n",
       "\n",
       "                .geemap-colab {\n",
       "                    background-color: var(--colab-primary-surface-color, white);\n",
       "                }\n",
       "\n",
       "                .geemap-colab .jupyter-button {\n",
       "                    --jp-layout-color3: var(--colab-primary-surface-color, white);\n",
       "                }\n",
       "            </style>\n",
       "            "
      ],
      "text/plain": [
       "<IPython.core.display.HTML object>"
      ]
     },
     "metadata": {},
     "output_type": "display_data"
    }
   ],
   "source": [
    "##FLATS\n",
    "\n",
    "#12/08/22 - add calibrated flats to images\n",
    "def addFLATSL7(image):\n",
    "    flats = ee.Image(0).expression(\n",
    "        '1/(1+2.718281828459045**-(1.51 + 12.5*(RED-SWIR)/(RED+SWIR) - 41.2*(NIR-RED)/(NIR+6*RED-7.5*BLUE+1)))', {\n",
    "            'SWIR': image.select('SR_B5'),\n",
    "            'NIR': image.select('SR_B4'),\n",
    "            'RED': image.select('SR_B3'),\n",
    "            'BLUE': image.select('SR_B1')\n",
    "        })\n",
    "    \n",
    "    return image.addBands(flats.rename('flats'))\n",
    "\n",
    "def addFLATSL5(image):\n",
    "    flats = ee.Image(0).expression(\n",
    "        '1/(1+2.718281828459045**-(1.51 + 12.5*(0.972*(RED-SWIR)/(RED+SWIR)-0.008) - 41.2*(0.991*(NIR-RED)/(NIR+6*RED-7.5*BLUE+1)-0.0014)))', {\n",
    "            'SWIR': image.select('SR_B5'),\n",
    "            'NIR': image.select('SR_B4'),\n",
    "            'RED': image.select('SR_B3'),\n",
    "            'BLUE': image.select('SR_B1')\n",
    "        })\n",
    "    \n",
    "    return image.addBands(flats.rename('flats'))\n",
    "\n",
    "\n",
    "def addFLATSL8(image):\n",
    "    flats = ee.Image(0).expression(\n",
    "        '1/(1+2.718281828459045**-(1.51 + 12.5*(0.841*(RED-SWIR)/(RED+SWIR) - 0.019) - 41.2*(0.771*(NIR-RED)/(NIR+6*RED-7.5*BLUE+1) + 0.011)))', {\n",
    "            'SWIR': image.select('SR_B6'),\n",
    "            'NIR': image.select('SR_B5'),\n",
    "            'RED': image.select('SR_B4'),\n",
    "            'BLUE': image.select('SR_B2')\n",
    "        })\n",
    "    \n",
    "    return image.addBands(flats.rename('flats'))\n",
    "\n",
    "def addFLATSL9(image):\n",
    "    flats = ee.Image(0).expression(\n",
    "        '1/(1+2.718281828459045**-(1.51 + 12.5*(1.225*(RED-SWIR)/(RED+SWIR) + 0.096) - 41.2*(1.038* (NIR-RED)/(NIR+6*RED-7.5*BLUE+1) - 0.004)))', {\n",
    "            'SWIR': image.select('SR_B6'),\n",
    "            'NIR': image.select('SR_B5'),\n",
    "            'RED': image.select('SR_B4'),\n",
    "            'BLUE': image.select('SR_B2')\n",
    "        })\n",
    "    \n",
    "    return image.addBands(flats.rename('flats'))"
   ]
  },
  {
   "cell_type": "code",
   "execution_count": 21,
   "id": "dd57d1e8",
   "metadata": {},
   "outputs": [
    {
     "data": {
      "text/html": [
       "\n",
       "            <style>\n",
       "                .geemap-dark {\n",
       "                    --jp-widgets-color: white;\n",
       "                    --jp-widgets-label-color: white;\n",
       "                    --jp-ui-font-color1: white;\n",
       "                    --jp-layout-color2: #454545;\n",
       "                    background-color: #383838;\n",
       "                }\n",
       "\n",
       "                .geemap-dark .jupyter-button {\n",
       "                    --jp-layout-color3: #383838;\n",
       "                }\n",
       "\n",
       "                .geemap-colab {\n",
       "                    background-color: var(--colab-primary-surface-color, white);\n",
       "                }\n",
       "\n",
       "                .geemap-colab .jupyter-button {\n",
       "                    --jp-layout-color3: var(--colab-primary-surface-color, white);\n",
       "                }\n",
       "            </style>\n",
       "            "
      ],
      "text/plain": [
       "<IPython.core.display.HTML object>"
      ]
     },
     "metadata": {},
     "output_type": "display_data"
    }
   ],
   "source": [
    "##Function to cloud mask from the pixel_qa band of Landsat 5/8 SR data.\n",
    "def maskL5sr(image):\n",
    "    qaMask = image.select('QA_PIXEL').bitwiseAnd(int('11111', 2)).eq(0)\n",
    "    saturationMask = image.select('QA_RADSAT').eq(0)\n",
    "    # Apply the scaling factors to the appropriate bands.\n",
    "    opticalBands = image.select('SR_B.').multiply(0.0000275).add(-0.2)\n",
    "    thermalBands = image.select('ST_B.*').multiply(0.00341802).add(149.0)\n",
    "    # Replace the original bands with the scaled ones and apply the masks.\n",
    "    return image.addBands(opticalBands, None, True) \\\n",
    "    .addBands(thermalBands, None, True) \\\n",
    "    .updateMask(qaMask) \\\n",
    "    .updateMask(saturationMask)"
   ]
  },
  {
   "cell_type": "code",
   "execution_count": 22,
   "id": "70cc39d9",
   "metadata": {},
   "outputs": [
    {
     "data": {
      "text/html": [
       "\n",
       "            <style>\n",
       "                .geemap-dark {\n",
       "                    --jp-widgets-color: white;\n",
       "                    --jp-widgets-label-color: white;\n",
       "                    --jp-ui-font-color1: white;\n",
       "                    --jp-layout-color2: #454545;\n",
       "                    background-color: #383838;\n",
       "                }\n",
       "\n",
       "                .geemap-dark .jupyter-button {\n",
       "                    --jp-layout-color3: #383838;\n",
       "                }\n",
       "\n",
       "                .geemap-colab {\n",
       "                    background-color: var(--colab-primary-surface-color, white);\n",
       "                }\n",
       "\n",
       "                .geemap-colab .jupyter-button {\n",
       "                    --jp-layout-color3: var(--colab-primary-surface-color, white);\n",
       "                }\n",
       "            </style>\n",
       "            "
      ],
      "text/plain": [
       "<IPython.core.display.HTML object>"
      ]
     },
     "metadata": {},
     "output_type": "display_data"
    }
   ],
   "source": [
    "# Function to add the date band\n",
    "def add_date_band(image):\n",
    "    # Get the acquisition date\n",
    "    date = ee.Date(image.get('system:time_start'))\n",
    "    \n",
    "    # Convert the date to milliseconds since Unix epoch\n",
    "    date_millis = date.millis()\n",
    "    \n",
    "    # Create an image with a single band representing the acquisition date\n",
    "    date_image = ee.Image.constant(date_millis).int64().rename('acquisition_date')\n",
    "    \n",
    "    # Add the date image as a band to the original image\n",
    "    return image.addBands(date_image)\n",
    "\n",
    "\n",
    "#Function to add elevation\n",
    "\n",
    "def add_elevation(image):\n",
    "    elevation_band = elevation.rename('elevation')\n",
    "    return image.addBands(elevation_band)"
   ]
  },
  {
   "cell_type": "code",
   "execution_count": 23,
   "id": "f491011c",
   "metadata": {},
   "outputs": [
    {
     "data": {
      "text/html": [
       "\n",
       "            <style>\n",
       "                .geemap-dark {\n",
       "                    --jp-widgets-color: white;\n",
       "                    --jp-widgets-label-color: white;\n",
       "                    --jp-ui-font-color1: white;\n",
       "                    --jp-layout-color2: #454545;\n",
       "                    background-color: #383838;\n",
       "                }\n",
       "\n",
       "                .geemap-dark .jupyter-button {\n",
       "                    --jp-layout-color3: #383838;\n",
       "                }\n",
       "\n",
       "                .geemap-colab {\n",
       "                    background-color: var(--colab-primary-surface-color, white);\n",
       "                }\n",
       "\n",
       "                .geemap-colab .jupyter-button {\n",
       "                    --jp-layout-color3: var(--colab-primary-surface-color, white);\n",
       "                }\n",
       "            </style>\n",
       "            "
      ],
      "text/plain": [
       "<IPython.core.display.HTML object>"
      ]
     },
     "metadata": {},
     "output_type": "display_data"
    }
   ],
   "source": [
    "#Loading gee datasets\n",
    "l8_col = ee.ImageCollection('LANDSAT/LC08/C02/T1_L2') \\\n",
    "    .filter(ee.Filter.calendarRange(1998, 2023,'year')) \\\n",
    "    .filterBounds(flux_ga) \\\n",
    "    .map(maskL5sr).map(addFLATSL8).map(add_date_band).map(add_elevation)\n",
    "\n",
    "# l7_col = ee.ImageCollection('LANDSAT/LE07/C02/T1_L2') \\\n",
    "#     .filter(ee.Filter.calendarRange(1984, 2023,'year')) \\\n",
    "#     .filterBounds(flux_ga)\\\n",
    "#     .map(maskL5sr).map(addFLATSL7).map(add_date_band).map(add_elevation)\n",
    "\n",
    "# l5_col = ee.ImageCollection('LANDSAT/LT05/C02/T1_L2') \\\n",
    "#     .filter(ee.Filter.calendarRange(1984, 2023,'year')) \\\n",
    "#     .filterBounds(flux_ga)\\\n",
    "#     .map(maskL5sr).map(addFLATSL5).map(add_date_band).map(add_elevation)\n",
    "\n",
    "l9_col = ee.ImageCollection(\"LANDSAT/LC09/C02/T1_L2\") \\\n",
    "    .filter(ee.Filter.calendarRange(1998, 2023,'year')) \\\n",
    "    .filterBounds(flux_ga)\\\n",
    "    .map(maskL5sr).map(addFLATSL9).map(add_date_band).map(add_elevation)"
   ]
  },
  {
   "cell_type": "code",
   "execution_count": null,
   "id": "65d5f405",
   "metadata": {},
   "outputs": [
    {
     "data": {
      "text/html": [
       "\n",
       "            <style>\n",
       "                .geemap-dark {\n",
       "                    --jp-widgets-color: white;\n",
       "                    --jp-widgets-label-color: white;\n",
       "                    --jp-ui-font-color1: white;\n",
       "                    --jp-layout-color2: #454545;\n",
       "                    background-color: #383838;\n",
       "                }\n",
       "\n",
       "                .geemap-dark .jupyter-button {\n",
       "                    --jp-layout-color3: #383838;\n",
       "                }\n",
       "\n",
       "                .geemap-colab {\n",
       "                    background-color: var(--colab-primary-surface-color, white);\n",
       "                }\n",
       "\n",
       "                .geemap-colab .jupyter-button {\n",
       "                    --jp-layout-color3: var(--colab-primary-surface-color, white);\n",
       "                }\n",
       "            </style>\n",
       "            "
      ],
      "text/plain": [
       "<IPython.core.display.HTML object>"
      ]
     },
     "metadata": {},
     "output_type": "display_data"
    }
   ],
   "source": [
    "# NO VARIABLE THRESHOLD\n",
    "# ultra_col = l8_col.merge(l5_col).merge(l7_col).merge(l9_col)\n",
    "ultra_col = l8_col\n",
    "\n",
    "# ultra = ultra_col.filter(ee.Filter.calendarRange(1984, 2023,'year')).filterBounds(flux_ga)\n",
    "ultra = ultra_col.filter(ee.Filter.calendarRange(1984, 2024,'year')).map(lambda image: image.clip(bb)) \\\n",
    "    .filter(ee.Filter.lte('CLOUD_COVER_LAND', 50))\n",
    "\n",
    "#Percentage of pixels in study area flagged, ALL\n",
    "\n",
    "study_area = flux_ga.geometry()\n",
    "\n",
    "# Define the threshold value\n",
    "threshold = 0.2\n",
    "\n",
    "# Function to calculate binary image for 'flats' values greater than the threshold\n",
    "def calculate_binary_image(image):\n",
    "    flats_band = image.select('flats')\n",
    "    binary_image = flats_band.gt(threshold)\n",
    "    return binary_image\n",
    "\n",
    "# Map the function over the collection to get binary images\n",
    "binary_images = ultra.map(calculate_binary_image)\n",
    "\n",
    "# Function to count valid pixels\n",
    "def count_valid_pixels(image):\n",
    "    valid_pixel_count = image.reduceRegion(\n",
    "        reducer=ee.Reducer.sum(),\n",
    "        geometry=study_area,\n",
    "        scale=30 \n",
    "    ).get('flats')\n",
    "    return image.set('valid_pixel_count', valid_pixel_count)\n",
    "\n",
    "# Map the function over the binary images to count valid pixels\n",
    "binary_images_with_count = binary_images.map(count_valid_pixels)\n",
    "\n",
    "# Filter the collection to exclude scenes with fewer than 100 valid pixels\n",
    "filtered_images = binary_images_with_count.filter(ee.Filter.gte('valid_pixel_count', 0))\n",
    "\n",
    "# Reduce the filtered collection to a single image with pixel count\n",
    "total_count_image = filtered_images.sum()\n",
    "\n",
    "# Calculate the percentage of times each pixel exceeded the threshold\n",
    "total_images = filtered_images.size()\n",
    "percentage_image = total_count_image.divide(total_images).multiply(100)\n",
    "\n",
    "Map = geemap.Map()\n",
    "Map.centerObject(flux_ga, 12)\n",
    "Map.addLayer(bb)\n",
    "Map.addLayer(percentage_image, {\n",
    "    'min': 0,\n",
    "    'max': 100,\n",
    "    'palette': ['brown', 'aqua']\n",
    "}, 'Percentage of Times > 0.2')\n",
    "Map"
   ]
  },
  {
   "cell_type": "code",
   "execution_count": 16,
   "id": "9a1fcbbe",
   "metadata": {},
   "outputs": [
    {
     "data": {
      "text/html": [
       "\n",
       "            <style>\n",
       "                .geemap-dark {\n",
       "                    --jp-widgets-color: white;\n",
       "                    --jp-widgets-label-color: white;\n",
       "                    --jp-ui-font-color1: white;\n",
       "                    --jp-layout-color2: #454545;\n",
       "                    background-color: #383838;\n",
       "                }\n",
       "\n",
       "                .geemap-dark .jupyter-button {\n",
       "                    --jp-layout-color3: #383838;\n",
       "                }\n",
       "\n",
       "                .geemap-colab {\n",
       "                    background-color: var(--colab-primary-surface-color, white);\n",
       "                }\n",
       "\n",
       "                .geemap-colab .jupyter-button {\n",
       "                    --jp-layout-color3: var(--colab-primary-surface-color, white);\n",
       "                }\n",
       "            </style>\n",
       "            "
      ],
      "text/plain": [
       "<IPython.core.display.HTML object>"
      ]
     },
     "metadata": {},
     "output_type": "display_data"
    },
    {
     "name": "stdout",
     "output_type": "stream",
     "text": [
      "Generating URL ...\n",
      "Downloading data from https://earthengine.googleapis.com/v1/projects/earthengine-legacy/thumbnails/26b57b75d3b8c23f21bfad63c4351385-6c9da6d315f293f6e8da55adafd0cbe6:getPixels\n",
      "Please wait ...\n",
      "Data downloaded to F:\\Iowa BMP\\SOC\\Flatspercent\n"
     ]
    }
   ],
   "source": [
    "#Directory\n",
    "out_dir = os.path.join(\"F:/Iowa BMP/SOC/Flatspercent\")\n",
    "##Draw geometry for exported images! It will look better\n",
    "\n",
    "image = percentage_image\n",
    "filename = os.path.join(out_dir, 'AM_40yr.tif')\n",
    "\n",
    "image = image.clip(bb).unmask()\n",
    "\n",
    "# geemap.ee_export_image(\n",
    "#     image.select('flats'), filename=filename, scale=30, region=flux_ga.geometry(), file_per_band=True\n",
    "# )"
   ]
  },
  {
   "cell_type": "code",
   "execution_count": 133,
   "id": "62ad48c4",
   "metadata": {},
   "outputs": [
    {
     "data": {
      "text/html": [
       "\n",
       "            <style>\n",
       "                .geemap-dark {\n",
       "                    --jp-widgets-color: white;\n",
       "                    --jp-widgets-label-color: white;\n",
       "                    --jp-ui-font-color1: white;\n",
       "                    --jp-layout-color2: #454545;\n",
       "                    background-color: #383838;\n",
       "                }\n",
       "\n",
       "                .geemap-dark .jupyter-button {\n",
       "                    --jp-layout-color3: #383838;\n",
       "                }\n",
       "\n",
       "                .geemap-colab {\n",
       "                    background-color: var(--colab-primary-surface-color, white);\n",
       "                }\n",
       "\n",
       "                .geemap-colab .jupyter-button {\n",
       "                    --jp-layout-color3: var(--colab-primary-surface-color, white);\n",
       "                }\n",
       "            </style>\n",
       "            "
      ],
      "text/plain": [
       "<IPython.core.display.HTML object>"
      ]
     },
     "metadata": {},
     "output_type": "display_data"
    },
    {
     "name": "stdout",
     "output_type": "stream",
     "text": [
      "EPSG:4326\n"
     ]
    },
    {
     "data": {
      "image/png": "[encoded data removed]",
      "text/plain": [
       "<Figure size 1200x1000 with 2 Axes>"
      ]
     },
     "metadata": {},
     "output_type": "display_data"
    }
   ],
   "source": [
    "#Plotting\n",
    "import matplotlib.colors as colors\n",
    "from matplotlib_scalebar.scalebar import ScaleBar\n",
    "import rasterio\n",
    "import geopandas as gpd\n",
    "\n",
    "geotiff_path = \"F:/Iowa BMP/SOC/AM_5yr.flats.tif\"\n",
    "geotiff_path = \"F:/Iowa BMP/SOC/AM_40yr.flats.tif\"\n",
    "\n",
    "geotiff_path = \"F:/Iowa BMP/SOC/DBR_5yr.flats.tif\"\n",
    "geotiff_path = \"F:/Iowa BMP/SOC/DBR_40yr.flats.tif\"\n",
    "\n",
    "# geotiff_path = \"F:/Iowa BMP/SOC/SBR_5yr.flats.tif\"\n",
    "# geotiff_path = \"F:/Iowa BMP/SOC/SBR_40yr.flats.tif\"\n",
    "\n",
    "# geotiff_path = \"F:/Iowa BMP/SOC/SKDNorth_5yr.flats.tif\"\n",
    "# geotiff_path = \"F:/Iowa BMP/SOC/SKDNorth_40yr.flats.tif\"\n",
    "\n",
    "# geotiff_path = \"F:/Iowa BMP/SOC/SKDSouth_5yr.flats.tif\"\n",
    "# geotiff_path = \"F:/Iowa BMP/SOC/SKDSouth_40yr.flats.tif\"\n",
    "\n",
    "# geotiff_path = \"F:/Iowa BMP/SOC/SN_5yr.flats.tif\"\n",
    "# geotiff_path = \"F:/Iowa BMP/SOC/SN_40yr.flats.tif\"\n",
    "\n",
    "#Calculating dx for scale_bar\n",
    "from geopy.distance import great_circle\n",
    "point1 = (31.425,-81.29) \n",
    "point2 = (31.425,-80.29)  \n",
    "dx = great_circle(point1, point2).meters\n",
    "\n",
    "with rasterio.open(geotiff_path) as src:\n",
    "        data = src.read(1)  # Assuming it's a single-band image\n",
    "        extent = (src.bounds.left, src.bounds.right, src.bounds.bottom, src.bounds.top)    \n",
    "        \n",
    "        # Use a colormap with better visibility\n",
    "        cmap = colors.LinearSegmentedColormap.from_list('custom',  [(0, '#F5DEB3'), (1, '#5F9EA0')])\n",
    "        \n",
    "        fig, ax = plt.subplots(nrows=1,ncols=1, figsize=(12,10))\n",
    "        \n",
    "        # Plot the GeoTIFF data using imshow\n",
    "        im = ax.imshow(data, extent=extent, cmap=cmap, vmin=0, vmax=100)\n",
    "\n",
    "        # Remove coordinate labels to make the plots larger\n",
    "#         ax.set_xticks([])\n",
    "#         ax.set_yticks([])\n",
    "\n",
    "        # Add a scale bar\n",
    "        # Calculate the scale factor based on the pixel size (assuming meters)\n",
    "        pixel_size_x = 30  # 30 meters in the x-direction\n",
    "        scale_factor = pixel_size_x\n",
    "\n",
    "        # Add a scale bar using the calculated scale factor\n",
    "        scale_bar = ScaleBar(dx=dx, location='lower right')\n",
    "        ax.add_artist(scale_bar)\n",
    "\n",
    "        # Enhance the visibility of the north arrow\n",
    "        ax.annotate('', xy=(0.95, 0.98), xycoords='axes fraction', fontsize=18, ha='center', va='center',\n",
    "                    xytext=(0.95, 0.92), textcoords='axes fraction',\n",
    "                    arrowprops=dict(arrowstyle='->', lw=2, color='white'))\n",
    "        \n",
    "        fig.subplots_adjust(right=0.95)\n",
    "        cbar_ax = fig.add_axes([0.92, 0.15, 0.02, 0.7])\n",
    "        fig.colorbar(im, cax=cbar_ax, label = 'Flooding proportion', cmap = \\\n",
    "                          colors.LinearSegmentedColormap.from_list('custom_gray',  [(0, '#F5DEB3'), (1, '#5F9EA0')]))\n",
    "        \n",
    "        \n",
    "print(src.crs)\n",
    "\n",
    "# Savefig\n",
    "import os\n",
    "os.chdir(\"C:/Users/arj26323/Downloads\")\n",
    "# plt.savefig('all_variable.png',bbox_inches='tight', dpi = 300)"
   ]
  },
  {
   "cell_type": "code",
   "execution_count": null,
   "id": "e77ab5a0",
   "metadata": {},
   "outputs": [],
   "source": []
  }
 ],
 "metadata": {
  "kernelspec": {
   "display_name": "Python [conda env:gee] *",
   "language": "python",
   "name": "conda-env-gee-py"
  },
  "language_info": {
   "codemirror_mode": {
    "name": "ipython",
    "version": 3
   },
   "file_extension": ".py",
   "mimetype": "text/x-python",
   "name": "python",
   "nbconvert_exporter": "python",
   "pygments_lexer": "ipython3",
   "version": "3.10.13"
  }
 },
 "nbformat": 4,
 "nbformat_minor": 5
}
