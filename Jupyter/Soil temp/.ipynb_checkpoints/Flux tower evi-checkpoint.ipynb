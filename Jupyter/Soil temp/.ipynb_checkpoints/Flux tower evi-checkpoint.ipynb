{
 "cells": [
  {
   "cell_type": "code",
   "execution_count": 1,
   "id": "6e3b795e",
   "metadata": {},
   "outputs": [],
   "source": [
    "import geemap\n",
    "import pandas as pd\n",
    "import numpy as np\n",
    "import matplotlib.pyplot as plt\n",
    "import pdb\n",
    "from IPython.display import display\n",
    "import ee\n",
    "import os\n",
    "import glob"
   ]
  },
  {
   "cell_type": "code",
   "execution_count": 2,
   "id": "61279174",
   "metadata": {},
   "outputs": [],
   "source": [
    "ee.Initialize()\n",
    "\n",
    "Map = geemap.Map(center=[31.539096,-81.422318], zoom=10)"
   ]
  },
  {
   "cell_type": "code",
   "execution_count": 3,
   "id": "1f70c27b",
   "metadata": {},
   "outputs": [],
   "source": [
    "#Note 1/18/23: Flux tower footprint (fluxproper) OR expanded flux area (fluxdiss) OR all gce (gce_clip)\n",
    "\n",
    "# gce_clip = 'F:/Wetlands shapefiles/GA_shapefile_wetlands/GA_sapelodissolve.shp'\n",
    "\n",
    "# gce_fluxdiss = 'F:/Wetlands shapefiles/GA_shapefile_wetlands/GA_fluxdissolve.shp'\n",
    "\n",
    "# gce_fluxproper = 'F:/Wetlands shapefiles/GCE flux tower/2014-climatology.shp'\n",
    "\n",
    "gce_expandedflux = 'F:/Wetlands shapefiles/GCE flux tower/expanded_flux.shp' ## Added 9/18/23 - fix shapefile problems!\n",
    "\n",
    "flux_ga = geemap.shp_to_ee(gce_expandedflux)\n",
    "\n",
    "## DEM\n",
    "elevation = ee.Image('USGS/3DEP/10m').clip(flux_ga) ##This is 1/3 arc second, or 10 m."
   ]
  },
  {
   "cell_type": "code",
   "execution_count": 5,
   "id": "01b6bc5b",
   "metadata": {},
   "outputs": [],
   "source": [
    "def addFLATSL8(image):\n",
    "    flats = ee.Image(0).expression(\n",
    "        '1/(1+2.718281828459045**-(1.51 + 12.5*(0.841*(RED-SWIR)/(RED+SWIR) - 0.019) - 41.2*(0.771*(NIR-RED)/(NIR+6*RED-7.5*BLUE+1) + 0.011)))', {\n",
    "            'SWIR': image.select('SR_B6'),\n",
    "            'NIR': image.select('SR_B5'),\n",
    "            'RED': image.select('SR_B4'),\n",
    "            'BLUE': image.select('SR_B2')\n",
    "        })\n",
    "    \n",
    "    return image.addBands(flats.rename('flats'))\n",
    "\n",
    "#MASKING FLATS\n",
    "def maskFLATS(image):\n",
    "    mask1 = image.select('flats').lte(0.1) #less than or equal to 0.1 - change?\n",
    "    return image.updateMask(mask1)"
   ]
  },
  {
   "cell_type": "code",
   "execution_count": 6,
   "id": "6adc9ddc",
   "metadata": {},
   "outputs": [],
   "source": [
    "# Function to add the date band\n",
    "def add_date_band(image):\n",
    "    # Get the acquisition date\n",
    "    date = ee.Date(image.get('system:time_start'))\n",
    "    \n",
    "    # Convert the date to milliseconds since Unix epoch\n",
    "    date_millis = date.millis()\n",
    "    \n",
    "    # Create an image with a single band representing the acquisition date\n",
    "    date_image = ee.Image.constant(date_millis).int64().rename('acquisition_date')\n",
    "    \n",
    "    # Add the date image as a band to the original image\n",
    "    return image.addBands(date_image)\n"
   ]
  },
  {
   "cell_type": "code",
   "execution_count": 7,
   "id": "d1b3c678",
   "metadata": {},
   "outputs": [],
   "source": [
    "##Function to cloud mask from the pixel_qa band of Landsat 5/8 SR data.\n",
    "def maskL5sr(image):\n",
    "    qaMask = image.select('QA_PIXEL').bitwiseAnd(int('11111', 2)).eq(0)\n",
    "    saturationMask = image.select('QA_RADSAT').eq(0)\n",
    "    # Apply the scaling factors to the appropriate bands.\n",
    "    opticalBands = image.select('SR_B.').multiply(0.0000275).add(-0.2)\n",
    "    thermalBands = image.select('ST_B.*').multiply(0.00341802).add(149.0)\n",
    "    # Replace the original bands with the scaled ones and apply the masks.\n",
    "    return image.addBands(opticalBands, None, True) \\\n",
    "    .addBands(thermalBands, None, True) \\\n",
    "    .updateMask(qaMask) \\\n",
    "    .updateMask(saturationMask)"
   ]
  },
  {
   "cell_type": "code",
   "execution_count": 8,
   "id": "2212623f",
   "metadata": {},
   "outputs": [],
   "source": [
    "def addevi(image):\n",
    "    evi = ee.Image(0).expression(\n",
    "        '(NIR-RED)/(NIR+6*RED-7.5*BLUE+1)', {\n",
    "            'RED': image.select('SR_B4'),\n",
    "            'NIR': image.select('SR_B5'),\n",
    "            'BLUE': image.select('SR_B2'),\n",
    "\n",
    "        })\n",
    "    \n",
    "    return image.addBands(evi.rename('evi'))"
   ]
  },
  {
   "cell_type": "code",
   "execution_count": 10,
   "id": "77f1cc05",
   "metadata": {},
   "outputs": [],
   "source": [
    "#Loading gee datasets\n",
    "l8_col = ee.ImageCollection('LANDSAT/LC08/C02/T1_L2') \\\n",
    "    .filter(ee.Filter.calendarRange(2013, 2023,'year')) \\\n",
    "    .filterBounds(flux_ga) \\\n",
    "    .map(maskL5sr).map(addFLATSL8).map(add_date_band)"
   ]
  },
  {
   "cell_type": "code",
   "execution_count": 13,
   "id": "dfe720f9",
   "metadata": {},
   "outputs": [],
   "source": [
    "# Display the percentage image on the map\n",
    "# Map = geemap.Map()\n",
    "# Map.centerObject(flux_ga, 8)\n",
    "# Map.addLayer(l8_col.first())\n",
    "# Map.addLayer(flux_ga)\n",
    "# Map"
   ]
  },
  {
   "cell_type": "code",
   "execution_count": null,
   "id": "dde819ca",
   "metadata": {},
   "outputs": [],
   "source": [
    "## Extracting sentinel pixel values\n",
    "collection = l8_col\n",
    "\n",
    "df = pd.DataFrame(collection.aggregate_array('system:id').getInfo(),columns = ['Image'], index = None)\n",
    "\n",
    "#print(df)\n",
    "\n",
    "calibr = []\n",
    "for i in range(len(df)):\n",
    "    image = ee.Image(addevi(addFLATSL8(maskL5sr(add_date_band(ee.Image(df.loc[i, 'Image']))))))\n",
    "    try:\n",
    "        region = flux_ga\n",
    "        samplex = geemap.ee_to_pandas(image.addBands(image.pixelLonLat()).sampleRegions(collection = region, scale = 30, geometries = True))\n",
    "        calibr.append(samplex) \n",
    "    except Exception:\n",
    "        continue #Unless this exception is included, images with no pixels in shapefile (due to clouds) will result in error\n",
    "\n",
    "image_list = pd.concat(calibr)\n",
    "\n",
    "print(image_list)"
   ]
  },
  {
   "cell_type": "code",
   "execution_count": null,
   "id": "0d0d4e47",
   "metadata": {},
   "outputs": [],
   "source": [
    "##Export as csv\n",
    "in_fc = image_list\n",
    "out_dir = os.path.expanduser('~/Downloads')\n",
    "out_csv = os.path.join(out_dir, 'sentinel_soil.csv')\n",
    "# image_list.to_csv(out_csv, index = False)"
   ]
  }
 ],
 "metadata": {
  "kernelspec": {
   "display_name": "Python [conda env:gee] *",
   "language": "python",
   "name": "conda-env-gee-py"
  },
  "language_info": {
   "codemirror_mode": {
    "name": "ipython",
    "version": 3
   },
   "file_extension": ".py",
   "mimetype": "text/x-python",
   "name": "python",
   "nbconvert_exporter": "python",
   "pygments_lexer": "ipython3",
   "version": "3.10.13"
  }
 },
 "nbformat": 4,
 "nbformat_minor": 5
}
