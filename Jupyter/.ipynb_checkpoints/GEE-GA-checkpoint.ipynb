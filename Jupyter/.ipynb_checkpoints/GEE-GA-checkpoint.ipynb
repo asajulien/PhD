{
 "cells": [
  {
   "cell_type": "code",
   "execution_count": 1,
   "id": "f376686e",
   "metadata": {},
   "outputs": [],
   "source": [
    "import geemap\n",
    "import pandas as pd\n",
    "import numpy as np\n",
    "import matplotlib.pyplot as plt\n",
    "import pdb\n",
    "from IPython.display import display\n",
    "import ee\n",
    "import os"
   ]
  },
  {
   "cell_type": "code",
   "execution_count": 2,
   "id": "36e5e939",
   "metadata": {},
   "outputs": [],
   "source": [
    "#ee.Authenticate()\n",
    "#geemap.update_package()"
   ]
  },
  {
   "cell_type": "code",
   "execution_count": 3,
   "id": "691b25de",
   "metadata": {},
   "outputs": [],
   "source": [
    "#list of plots in GA LTER dataset (not including broad creek)\n",
    "\n",
    "ee.Initialize()\n",
    "\n",
    "ga_pts = ee.FeatureCollection([\n",
    "  ee.Feature(ee.Geometry.Point([-81.422318, 31.539096]), {'site_id': '1'}),\n",
    "  ee.Feature(ee.Geometry.Point([-81.295564, 31.535967]), {'site_id': '2'}),\n",
    "  ee.Feature(ee.Geometry.Point([-81.229141, 31.518847]), {'site_id': '3'}),\n",
    "  ee.Feature(ee.Geometry.Point([-81.365805, 31.451791]), {'site_id': '4'}),\n",
    "  ee.Feature(ee.Geometry.Point([-81.340722, 31.435814]), {'site_id': '5'}),\n",
    "  ee.Feature(ee.Geometry.Point([-81.280011, 31.387962]), {'site_id': '6'}),\n",
    "  ee.Feature(ee.Geometry.Point([-81.478498, 31.334813]), {'site_id': '7'}),\n",
    "  ee.Feature(ee.Geometry.Point([-81.415535, 31.30824]), {'site_id': '8'}),\n",
    "  ee.Feature(ee.Geometry.Point([-81.333707, 31.351518]), {'site_id': '9'}),\n",
    "  ee.Feature(ee.Geometry.Point([-81.270863, 31.476948]), {'site_id': '10'})\n",
    "])\n",
    "##for GA, lats and longs may differ slightly between years (compare average lat/long to recorded lat/longs in each yr)"
   ]
  },
  {
   "cell_type": "code",
   "execution_count": 44,
   "id": "cdac1202",
   "metadata": {},
   "outputs": [
    {
     "name": "stdout",
     "output_type": "stream",
     "text": [
      "68\n"
     ]
    }
   ],
   "source": [
    "##landsat 5 surface reflectance images - GA LTER\n",
    "\n",
    "gaCollectionLS5 = ee.ImageCollection('LANDSAT/LT05/C01/T1_SR') \\\n",
    "    .filter(ee.Filter.calendarRange(2000, 2019,'year')) \\\n",
    "    .filter(ee.Filter.calendarRange(9, 10,'month')) \\\n",
    "    .filterBounds(ga_pts) \\\n",
    "    .filterMetadata('CLOUD_COVER', 'less_than', 100) \\\n",
    "    .sort('CLOUD_COVER', True)\n",
    "\n",
    "vis_param = {'min': 0, \n",
    "             'max': 2000, \n",
    "             'bands': ['B4', 'B3', 'B2'], \n",
    "             'gamma': 1.5}\n",
    "\n",
    "print(gaCollectionLS5.size().getInfo())\n",
    "gaimage0 = gaCollectionLS5.first()\n",
    "props = geemap.image_props(gaimage0)\n",
    "#props.getInfo()"
   ]
  },
  {
   "cell_type": "code",
   "execution_count": 42,
   "id": "86b5f262",
   "metadata": {},
   "outputs": [
    {
     "name": "stdout",
     "output_type": "stream",
     "text": [
      "67\n"
     ]
    }
   ],
   "source": [
    "##landsat 8 surface reflectance images - VA LTER\n",
    "gaCollectionLS8 = ee.ImageCollection('LANDSAT/LC08/C01/T1_SR') \\\n",
    "    .filter(ee.Filter.calendarRange(2000, 2019,'year')) \\\n",
    "    .filter(ee.Filter.calendarRange(10, 10,'month')) \\\n",
    "    .filterBounds(ga_pts) \\\n",
    "    .filterMetadata('CLOUD_COVER', 'less_than', 100) \\\n",
    "    .sort('CLOUD_COVER', True)\n",
    "\n",
    "vis_param = {'min': 0, \n",
    "             'max': 2000, \n",
    "             'bands': ['B4', 'B3', 'B2'], \n",
    "             'gamma': 1.5}\n",
    "\n",
    "print(gaCollectionLS8.size().getInfo())"
   ]
  },
  {
   "cell_type": "code",
   "execution_count": 45,
   "id": "acf7114d",
   "metadata": {},
   "outputs": [
    {
     "data": {
      "text/plain": [
       "['LANDSAT/LT05/C01/T1_SR/LT05_016038_20051015',\n",
       " 'LANDSAT/LT05/C01/T1_SR/LT05_016038_20101029',\n",
       " 'LANDSAT/LT05/C01/T1_SR/LT05_016038_20111016',\n",
       " 'LANDSAT/LT05/C01/T1_SR/LT05_017038_20011027',\n",
       " 'LANDSAT/LT05/C01/T1_SR/LT05_017038_20081030',\n",
       " 'LANDSAT/LT05/C01/T1_SR/LT05_016038_20101013',\n",
       " 'LANDSAT/LT05/C01/T1_SR/LT05_017038_20080928',\n",
       " 'LANDSAT/LT05/C01/T1_SR/LT05_016038_20021007',\n",
       " 'LANDSAT/LT05/C01/T1_SR/LT05_017038_20060923',\n",
       " 'LANDSAT/LT05/C01/T1_SR/LT05_017038_20091001',\n",
       " 'LANDSAT/LT05/C01/T1_SR/LT05_017038_20111023',\n",
       " 'LANDSAT/LT05/C01/T1_SR/LT05_016038_20011004',\n",
       " 'LANDSAT/LT05/C01/T1_SR/LT05_017038_20001024',\n",
       " 'LANDSAT/LT05/C01/T1_SR/LT05_017038_20020912',\n",
       " 'LANDSAT/LT05/C01/T1_SR/LT05_017038_20101004',\n",
       " 'LANDSAT/LT05/C01/T1_SR/LT05_016038_20010918',\n",
       " 'LANDSAT/LT05/C01/T1_SR/LT05_016038_20061002',\n",
       " 'LANDSAT/LT05/C01/T1_SR/LT05_017038_20050904',\n",
       " 'LANDSAT/LT05/C01/T1_SR/LT05_017038_20100918',\n",
       " 'LANDSAT/LT05/C01/T1_SR/LT05_016038_20090908',\n",
       " 'LANDSAT/LT05/C01/T1_SR/LT05_016038_20100911',\n",
       " 'LANDSAT/LT05/C01/T1_SR/LT05_016038_20050929',\n",
       " 'LANDSAT/LT05/C01/T1_SR/LT05_017038_20100902',\n",
       " 'LANDSAT/LT05/C01/T1_SR/LT05_017038_20030915',\n",
       " 'LANDSAT/LT05/C01/T1_SR/LT05_016038_20001017',\n",
       " 'LANDSAT/LT05/C01/T1_SR/LT05_016038_20060916',\n",
       " 'LANDSAT/LT05/C01/T1_SR/LT05_017038_20040901',\n",
       " 'LANDSAT/LT05/C01/T1_SR/LT05_016038_20011020',\n",
       " 'LANDSAT/LT05/C01/T1_SR/LT05_016038_20090924',\n",
       " 'LANDSAT/LT05/C01/T1_SR/LT05_016038_20091010',\n",
       " 'LANDSAT/LT05/C01/T1_SR/LT05_016038_20020921',\n",
       " 'LANDSAT/LT05/C01/T1_SR/LT05_016038_20110914',\n",
       " 'LANDSAT/LT05/C01/T1_SR/LT05_016038_20110930',\n",
       " 'LANDSAT/LT05/C01/T1_SR/LT05_016038_20051031',\n",
       " 'LANDSAT/LT05/C01/T1_SR/LT05_017038_20050920',\n",
       " 'LANDSAT/LT05/C01/T1_SR/LT05_017038_20070910',\n",
       " 'LANDSAT/LT05/C01/T1_SR/LT05_017038_20031001',\n",
       " 'LANDSAT/LT05/C01/T1_SR/LT05_017038_20051022',\n",
       " 'LANDSAT/LT05/C01/T1_SR/LT05_017038_20081014',\n",
       " 'LANDSAT/LT05/C01/T1_SR/LT05_016038_20000915',\n",
       " 'LANDSAT/LT05/C01/T1_SR/LT05_017038_20101020',\n",
       " 'LANDSAT/LT05/C01/T1_SR/LT05_017038_20020928',\n",
       " 'LANDSAT/LT05/C01/T1_SR/LT05_017038_20111007',\n",
       " 'LANDSAT/LT05/C01/T1_SR/LT05_017038_20070926',\n",
       " 'LANDSAT/LT05/C01/T1_SR/LT05_017038_20041003',\n",
       " 'LANDSAT/LT05/C01/T1_SR/LT05_016038_20001001',\n",
       " 'LANDSAT/LT05/C01/T1_SR/LT05_016038_20070903',\n",
       " 'LANDSAT/LT05/C01/T1_SR/LT05_016038_20030924',\n",
       " 'LANDSAT/LT05/C01/T1_SR/LT05_016038_20081007',\n",
       " 'LANDSAT/LT05/C01/T1_SR/LT05_017038_20040917',\n",
       " 'LANDSAT/LT05/C01/T1_SR/LT05_017038_20090915',\n",
       " 'LANDSAT/LT05/C01/T1_SR/LT05_017038_20110921',\n",
       " 'LANDSAT/LT05/C01/T1_SR/LT05_017038_20061025',\n",
       " 'LANDSAT/LT05/C01/T1_SR/LT05_017038_20021030',\n",
       " 'LANDSAT/LT05/C01/T1_SR/LT05_017038_20010925',\n",
       " 'LANDSAT/LT05/C01/T1_SR/LT05_017038_20080912',\n",
       " 'LANDSAT/LT05/C01/T1_SR/LT05_016038_20031026',\n",
       " 'LANDSAT/LT05/C01/T1_SR/LT05_016038_20050913',\n",
       " 'LANDSAT/LT05/C01/T1_SR/LT05_017038_20091017',\n",
       " 'LANDSAT/LT05/C01/T1_SR/LT05_017038_20031017',\n",
       " 'LANDSAT/LT05/C01/T1_SR/LT05_016038_20031010',\n",
       " 'LANDSAT/LT05/C01/T1_SR/LT05_017038_20010909',\n",
       " 'LANDSAT/LT05/C01/T1_SR/LT05_016038_20071005',\n",
       " 'LANDSAT/LT05/C01/T1_SR/LT05_016038_20041012',\n",
       " 'LANDSAT/LT05/C01/T1_SR/LT05_016038_20070919',\n",
       " 'LANDSAT/LT05/C01/T1_SR/LT05_017038_20110905',\n",
       " 'LANDSAT/LT05/C01/T1_SR/LT05_017038_20041019',\n",
       " 'LANDSAT/LT05/C01/T1_SR/LT05_016038_20041028']"
      ]
     },
     "execution_count": 45,
     "metadata": {},
     "output_type": "execute_result"
    }
   ],
   "source": [
    "##get list of image ids in filtered collection for L5, L7, and L8\n",
    "gaCollectionLS5.aggregate_array('system:id').getInfo()\n",
    "#gaCollectionLS8.aggregate_array('system:id').getInfo()\n",
    "#gaCollectionLS7.aggregate_array('system:id').getInfo()"
   ]
  },
  {
   "cell_type": "code",
   "execution_count": 29,
   "id": "039b0f35",
   "metadata": {},
   "outputs": [
    {
     "data": {
      "text/plain": [
       "{'CLOUD_COVER': 5,\n",
       " 'CLOUD_COVER_LAND': 5,\n",
       " 'EARTH_SUN_DISTANCE': 0.994431,\n",
       " 'ESPA_VERSION': '2_19_0c',\n",
       " 'GEOMETRIC_RMSE_MODEL': 3.781,\n",
       " 'GEOMETRIC_RMSE_MODEL_X': 2.359,\n",
       " 'GEOMETRIC_RMSE_MODEL_Y': 2.955,\n",
       " 'IMAGE_DATE': '2000-10-24',\n",
       " 'IMAGE_QUALITY': 9,\n",
       " 'LANDSAT_ID': 'LT05_L1TP_017038_20001024_20160918_01_T1',\n",
       " 'LEVEL1_PRODUCTION_DATE': 1474200080000,\n",
       " 'NOMINAL_SCALE': 30,\n",
       " 'PIXEL_QA_VERSION': 'generate_pixel_qa_1.5.0',\n",
       " 'SATELLITE': 'LANDSAT_5',\n",
       " 'SENSING_TIME': '2000-10-24T15:39:31.2120380Z',\n",
       " 'SOLAR_AZIMUTH_ANGLE': 149.348083,\n",
       " 'SOLAR_ZENITH_ANGLE': 49.074329,\n",
       " 'SR_APP_VERSION': 'LEDAPS_3.2.0',\n",
       " 'WRS_PATH': 17,\n",
       " 'WRS_ROW': 38,\n",
       " 'system:asset_size': '342.521984 MB',\n",
       " 'system:band_names': ['B1',\n",
       "  'B2',\n",
       "  'B3',\n",
       "  'B4',\n",
       "  'B5',\n",
       "  'B6',\n",
       "  'B7',\n",
       "  'sr_atmos_opacity',\n",
       "  'sr_cloud_qa',\n",
       "  'pixel_qa',\n",
       "  'radsat_qa'],\n",
       " 'system:id': 'LANDSAT/LT05/C01/T1_SR/LT05_017038_20001024',\n",
       " 'system:index': 'LT05_017038_20001024',\n",
       " 'system:time_end': '2000-10-24 15:39:31',\n",
       " 'system:time_start': '2000-10-24 15:39:31',\n",
       " 'system:version': 1521654126751988}"
      ]
     },
     "execution_count": 29,
     "metadata": {},
     "output_type": "execute_result"
    }
   ],
   "source": [
    "##STILL VA LTER - need to get ga images\n",
    "\n",
    "##landsat 5\n",
    "ga00 = ee.Image('LANDSAT/LT05/C01/T1_SR/LT05_017038_20001024') \n",
    "ga01 = ee.Image('LANDSAT/LT05/C01/T1_SR/LT05_017038_20011027') \n",
    "ga02 = ee.Image('LANDSAT/LT05/C01/T1_SR/LT05_016038_20021007')\n",
    "ga03 = ee.Image('LANDSAT/LT05/C01/T1_SR/LT05_017038_20030915') ##clouds in oct, expanded to sep\n",
    "ga04 = ee.Image('LANDSAT/LT05/C01/T1_SR/LT05_017038_20040901') ##clouds in oct, expanded to sep\n",
    "ga05 = ee.Image('LANDSAT/LT05/C01/T1_SR/LT05_016038_20051015')\n",
    "ga06 = ee.Image('LANDSAT/LT05/C01/T1_SR/LT05_016038_20061002') \n",
    "ga07 = ee.Image('LANDSAT/LT05/C01/T1_SR/LT05_017038_20070910') ##clouds in oct, expanded to sep\n",
    "ga08 = ee.Image('LANDSAT/LT05/C01/T1_SR/LT05_017038_20081030')\n",
    "ga09 = ee.Image('LANDSAT/LT05/C01/T1_SR/LT05_017038_20091001')\n",
    "ga10 = ee.Image('LANDSAT/LT05/C01/T1_SR/LT05_016038_20101029') \n",
    "ga11 = ee.Image('LANDSAT/LT05/C01/T1_SR/LT05_016038_20111016')\n",
    "\n",
    "##landsat 7\n",
    "ga12 = ee.Image('LANDSAT/LE07/C01/T1_SR/LE07_014034_20120926') ##no more L7\n",
    "\n",
    "##landsat 8\n",
    "ga13 = ee.Image('LANDSAT/LC08/C01/T1_SR/LC08_014034_20130905') \n",
    "ga14 = ee.Image('LANDSAT/LC08/C01/T1_SR/LC08_014034_20140807') \n",
    "ga15 = ee.Image('LANDSAT/LC08/C01/T1_SR/LC08_014034_20150826') \n",
    "ga16 = ee.Image('LANDSAT/LC08/C01/T1_SR/LC08_014034_20160812') \n",
    "ga17 = ee.Image('LANDSAT/LC08/C01/T1_SR/LC08_014034_20170831') \n",
    "ga18 = ee.Image('LANDSAT/LC08/C01/T1_SR/LC08_014034_20170831') \n",
    "ga19 = ee.Image('LANDSAT/LC08/C01/T1_SR/LC08_014034_20170831') \n",
    "\n",
    "##Make image collection for each year, then cloud mask? Rather than cloud masking individual images?\n",
    "\n",
    "##determining cloud cover\n",
    "cloudiness = ga00.get('CLOUD_COVER')\n",
    "#print('CLOUD_COVER: ', cloudiness.getInfo())\n",
    "\n",
    "l8_param = {'min': 0, \n",
    "             'max': 2000, \n",
    "             'bands': ['B5', 'B4', 'B3'], \n",
    "             'gamma': 1.5} ##be very careful with analysis of l8 vs l5 data - different band numbers!\n",
    "\n",
    "#Map.addLayer(image15, l8_param, \"l82015\")\n",
    "#Map.addLayer(image12, vis_param, \"l72012\")\n",
    "\n",
    "props = geemap.image_props(ga00)\n",
    "props.getInfo()"
   ]
  },
  {
   "cell_type": "code",
   "execution_count": 41,
   "id": "38198e9b",
   "metadata": {},
   "outputs": [
    {
     "data": {
      "application/vnd.jupyter.widget-view+json": {
       "model_id": "073bc2c8b03943f89594bc27f51e2c6f",
       "version_major": 2,
       "version_minor": 0
      },
      "text/plain": [
       "Map(center=[31.434120927658846, -81.34324597505625], controls=(WidgetControl(options=['position'], widget=HBox…"
      ]
     },
     "metadata": {},
     "output_type": "display_data"
    }
   ],
   "source": [
    "##Mapping\n",
    "##Add Earth Engine dataset\n",
    "Map = geemap.Map(center=[40,-100], zoom=4)\n",
    "\n",
    "Map.addLayer(ga11, vis_param, \"Landsat5SR\")\n",
    "\n",
    "Map.centerObject(ga_pts, 10)\n",
    "#Map.set_plot_options(add_marker_cluster = True) ##not sure what this does\n",
    "\n",
    "\n",
    "##add feature collection points for each plot\n",
    "Map.addLayer(ga_pts)\n",
    "\n",
    "Map"
   ]
  },
  {
   "cell_type": "code",
   "execution_count": 9,
   "id": "91b5f4d1",
   "metadata": {},
   "outputs": [],
   "source": [
    "##Function to cloud mask from the pixel_qa band of Landsat 5/8 SR data.\n",
    "def maskL5sr(image):\n",
    "  # Bits 3 and 5 are cloud shadow and cloud, respectively.\n",
    "  cloudShadowBitMask = 1 << 3\n",
    "  cloudsBitMask = 1 << 5\n",
    "\n",
    "  ##Get the pixel QA band.\n",
    "  qa = image.select('pixel_qa')\n",
    "\n",
    "  ##Both flags should be set to zero, indicating clear conditions.\n",
    "  mask = qa.bitwiseAnd(cloudShadowBitMask).eq(0) \\\n",
    "      .And(qa.bitwiseAnd(cloudsBitMask).eq(0))\n",
    "\n",
    "  ##Return the masked image, scaled to reflectance, without the QA bands.\n",
    "  return image.updateMask(mask).divide(10000) \\\n",
    "      .select(\"B[0-9]*\") \\\n",
    "      .copyProperties(image, [\"system:time_start\"])\n",
    "\n",
    "##Map the function over image collection\n",
    "collection = gaCollectionLS5 \\\n",
    "    .map(maskL5sr)\n",
    "\n",
    "composite = collection.median() #what exactly is this doing? median pixel value?\n",
    "\n",
    "##Display the results.\n",
    "#Map.addLayer(composite, {'bands': ['B4',  'B3',  'B2'], 'min': 0, 'max': 0.2}, \"cloudfree composite\")\n",
    "#Map.addLayer(ga_pts)"
   ]
  },
  {
   "cell_type": "code",
   "execution_count": 10,
   "id": "b2c0da9d",
   "metadata": {},
   "outputs": [
    {
     "ename": "NameError",
     "evalue": "name 'image00' is not defined",
     "output_type": "error",
     "traceback": [
      "\u001b[0;31m---------------------------------------------------------------------------\u001b[0m",
      "\u001b[0;31mNameError\u001b[0m                                 Traceback (most recent call last)",
      "\u001b[0;32m<ipython-input-10-d8127035890b>\u001b[0m in \u001b[0;36m<module>\u001b[0;34m\u001b[0m\n\u001b[0;32m----> 1\u001b[0;31m \u001b[0mmasked00\u001b[0m \u001b[0;34m=\u001b[0m \u001b[0mee\u001b[0m\u001b[0;34m.\u001b[0m\u001b[0mImage\u001b[0m\u001b[0;34m(\u001b[0m\u001b[0mmaskL5sr\u001b[0m\u001b[0;34m(\u001b[0m\u001b[0mimage00\u001b[0m\u001b[0;34m)\u001b[0m\u001b[0;34m)\u001b[0m\u001b[0;34m\u001b[0m\u001b[0;34m\u001b[0m\u001b[0m\n\u001b[0m\u001b[1;32m      2\u001b[0m \u001b[0mMap\u001b[0m\u001b[0;34m.\u001b[0m\u001b[0maddLayer\u001b[0m\u001b[0;34m(\u001b[0m\u001b[0mcomposite\u001b[0m\u001b[0;34m)\u001b[0m \u001b[0;31m#using cloud mask on cloudfree composite with default vis param as gray background\u001b[0m\u001b[0;34m\u001b[0m\u001b[0;34m\u001b[0m\u001b[0m\n\u001b[1;32m      3\u001b[0m \u001b[0mMap\u001b[0m\u001b[0;34m.\u001b[0m\u001b[0maddLayer\u001b[0m\u001b[0;34m(\u001b[0m\u001b[0mmasked00\u001b[0m\u001b[0;34m,\u001b[0m \u001b[0;34m{\u001b[0m\u001b[0;34m'bands'\u001b[0m\u001b[0;34m:\u001b[0m \u001b[0;34m[\u001b[0m\u001b[0;34m'B4'\u001b[0m\u001b[0;34m,\u001b[0m  \u001b[0;34m'B3'\u001b[0m\u001b[0;34m,\u001b[0m  \u001b[0;34m'B2'\u001b[0m\u001b[0;34m]\u001b[0m\u001b[0;34m,\u001b[0m \u001b[0;34m'min'\u001b[0m\u001b[0;34m:\u001b[0m \u001b[0;36m0\u001b[0m\u001b[0;34m,\u001b[0m \u001b[0;34m'max'\u001b[0m\u001b[0;34m:\u001b[0m \u001b[0;36m0.2\u001b[0m\u001b[0;34m}\u001b[0m\u001b[0;34m,\u001b[0m \u001b[0;34m\"2000 masked\"\u001b[0m\u001b[0;34m)\u001b[0m \u001b[0;31m#isn't perfect but good\u001b[0m\u001b[0;34m\u001b[0m\u001b[0;34m\u001b[0m\u001b[0m\n\u001b[1;32m      4\u001b[0m \u001b[0mMap\u001b[0m\u001b[0;34m.\u001b[0m\u001b[0maddLayer\u001b[0m\u001b[0;34m(\u001b[0m\u001b[0mimage00\u001b[0m\u001b[0;34m,\u001b[0m \u001b[0mvis_param\u001b[0m\u001b[0;34m,\u001b[0m \u001b[0;34m\"2000 unmasked\"\u001b[0m\u001b[0;34m)\u001b[0m\u001b[0;34m\u001b[0m\u001b[0;34m\u001b[0m\u001b[0m\n\u001b[1;32m      5\u001b[0m \u001b[0;31m#Map.addLayer(collection.first(), {'bands': ['B4',  'B3',  'B2'], 'min': 0, 'max': 0.3}, \"masked???\")\u001b[0m\u001b[0;34m\u001b[0m\u001b[0;34m\u001b[0m\u001b[0;34m\u001b[0m\u001b[0m\n",
      "\u001b[0;31mNameError\u001b[0m: name 'image00' is not defined"
     ]
    }
   ],
   "source": [
    "masked00 = ee.Image(maskL5sr(image00))\n",
    "Map.addLayer(composite) ##using cloud mask on cloudfree composite with default vis param as gray background\n",
    "Map.addLayer(masked00, {'bands': ['B4',  'B3',  'B2'], 'min': 0, 'max': 0.2}, \"2000 masked\") #isn't perfect but good\n",
    "Map.addLayer(image00, vis_param, \"2000 unmasked\")\n",
    "#Map.addLayer(collection.first(), {'bands': ['B4',  'B3',  'B2'], 'min': 0, 'max': 0.3}, \"masked???\")\n",
    "Map.addLayer(plot_pts)"
   ]
  },
  {
   "cell_type": "code",
   "execution_count": 14,
   "id": "9d01500d",
   "metadata": {},
   "outputs": [
    {
     "ename": "NameError",
     "evalue": "name 'image00' is not defined",
     "output_type": "error",
     "traceback": [
      "\u001b[0;31m---------------------------------------------------------------------------\u001b[0m",
      "\u001b[0;31mNameError\u001b[0m                                 Traceback (most recent call last)",
      "\u001b[0;32m<ipython-input-14-5f9fda62be14>\u001b[0m in \u001b[0;36m<module>\u001b[0;34m\u001b[0m\n\u001b[1;32m      1\u001b[0m \u001b[0;31m##cloud- and cloud shadow-masked images - VA LTER :D\u001b[0m\u001b[0;34m\u001b[0m\u001b[0;34m\u001b[0m\u001b[0;34m\u001b[0m\u001b[0m\n\u001b[0;32m----> 2\u001b[0;31m \u001b[0mmasked00\u001b[0m \u001b[0;34m=\u001b[0m \u001b[0mee\u001b[0m\u001b[0;34m.\u001b[0m\u001b[0mImage\u001b[0m\u001b[0;34m(\u001b[0m\u001b[0mmaskL5sr\u001b[0m\u001b[0;34m(\u001b[0m\u001b[0mimage00\u001b[0m\u001b[0;34m)\u001b[0m\u001b[0;34m)\u001b[0m\u001b[0;34m\u001b[0m\u001b[0;34m\u001b[0m\u001b[0m\n\u001b[0m\u001b[1;32m      3\u001b[0m \u001b[0mmasked01\u001b[0m \u001b[0;34m=\u001b[0m \u001b[0mee\u001b[0m\u001b[0;34m.\u001b[0m\u001b[0mImage\u001b[0m\u001b[0;34m(\u001b[0m\u001b[0mmaskL5sr\u001b[0m\u001b[0;34m(\u001b[0m\u001b[0mimage01\u001b[0m\u001b[0;34m)\u001b[0m\u001b[0;34m)\u001b[0m\u001b[0;34m\u001b[0m\u001b[0;34m\u001b[0m\u001b[0m\n\u001b[1;32m      4\u001b[0m \u001b[0mmasked02\u001b[0m \u001b[0;34m=\u001b[0m \u001b[0mee\u001b[0m\u001b[0;34m.\u001b[0m\u001b[0mImage\u001b[0m\u001b[0;34m(\u001b[0m\u001b[0mmaskL5sr\u001b[0m\u001b[0;34m(\u001b[0m\u001b[0mimage02\u001b[0m\u001b[0;34m)\u001b[0m\u001b[0;34m)\u001b[0m\u001b[0;34m\u001b[0m\u001b[0;34m\u001b[0m\u001b[0m\n\u001b[1;32m      5\u001b[0m \u001b[0mmasked03\u001b[0m \u001b[0;34m=\u001b[0m \u001b[0mee\u001b[0m\u001b[0;34m.\u001b[0m\u001b[0mImage\u001b[0m\u001b[0;34m(\u001b[0m\u001b[0mmaskL5sr\u001b[0m\u001b[0;34m(\u001b[0m\u001b[0mimage03\u001b[0m\u001b[0;34m)\u001b[0m\u001b[0;34m)\u001b[0m\u001b[0;34m\u001b[0m\u001b[0;34m\u001b[0m\u001b[0m\n",
      "\u001b[0;31mNameError\u001b[0m: name 'image00' is not defined"
     ]
    }
   ],
   "source": [
    "##STILL VA LTER!!!\n",
    "\n",
    "##cloud- and cloud shadow-masked images - GA LTER :D\n",
    "masked00 = ee.Image(maskL5sr(image00))\n",
    "masked01 = ee.Image(maskL5sr(image01))\n",
    "masked02 = ee.Image(maskL5sr(image02))\n",
    "masked03 = ee.Image(maskL5sr(image03))\n",
    "masked04 = ee.Image(maskL5sr(image04))\n",
    "masked05 = ee.Image(maskL5sr(image05))\n",
    "masked06 = ee.Image(maskL5sr(image06))\n",
    "masked07 = ee.Image(maskL5sr(image07))\n",
    "masked08 = ee.Image(maskL5sr(image08))\n",
    "masked09 = ee.Image(maskL5sr(image09))\n",
    "masked10 = ee.Image(maskL5sr(image10))\n",
    "masked11 = ee.Image(maskL5sr(image11))\n",
    "masked12 = ee.Image(maskL5sr(image12))\n",
    "masked13 = ee.Image(maskL5sr(image13))\n",
    "masked14 = ee.Image(maskL5sr(image14))\n",
    "masked15 = ee.Image(maskL5sr(image15))\n",
    "masked16 = ee.Image(maskL5sr(image16))\n",
    "masked17 = ee.Image(maskL5sr(image17))"
   ]
  },
  {
   "cell_type": "code",
   "execution_count": null,
   "id": "714fa1fa",
   "metadata": {},
   "outputs": [],
   "source": [
    "##Exporting pixel values - any way to do zonal averages without manually selecting - VA LTER\n",
    "in_fc = plot_pts\n",
    "\n",
    "##export data\n",
    "out_dir = os.path.expanduser('~/Downloads')\n",
    "out_csv = os.path.join(out_dir, 'masked07.csv')\n",
    "#out_shp = os.path.join(out_dir, 'points.shp') ##shapefile exporting\n",
    "#geemap.extract_values_to_points(in_fc, masked07, out_csv) ##projection error when exporting composites"
   ]
  }
 ],
 "metadata": {
  "kernelspec": {
   "display_name": "feesh",
   "language": "python",
   "name": "feesh"
  },
  "language_info": {
   "codemirror_mode": {
    "name": "ipython",
    "version": 3
   },
   "file_extension": ".py",
   "mimetype": "text/x-python",
   "name": "python",
   "nbconvert_exporter": "python",
   "pygments_lexer": "ipython3",
   "version": "3.9.4"
  }
 },
 "nbformat": 4,
 "nbformat_minor": 5
}
