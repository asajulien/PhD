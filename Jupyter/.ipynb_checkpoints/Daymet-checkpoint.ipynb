{
 "cells": [
  {
   "cell_type": "code",
   "execution_count": 7,
   "id": "bf46606f",
   "metadata": {},
   "outputs": [],
   "source": [
    "import geemap\n",
    "import pandas as pd\n",
    "import numpy as np\n",
    "import matplotlib.pyplot as plt\n",
    "import pdb\n",
    "from IPython.display import display\n",
    "import ee\n",
    "import os"
   ]
  },
  {
   "cell_type": "code",
   "execution_count": 54,
   "id": "c9575399",
   "metadata": {},
   "outputs": [
    {
     "data": {
      "application/vnd.jupyter.widget-view+json": {
       "model_id": "e10b296ccfe4415ea296dfc8c7089cf0",
       "version_major": 2,
       "version_minor": 0
      },
      "text/plain": [
       "Map(center=[40, -100], controls=(WidgetControl(options=['position', 'transparent_bg'], widget=HBox(children=(T…"
      ]
     },
     "metadata": {},
     "output_type": "display_data"
    }
   ],
   "source": [
    "ee.Initialize()\n",
    "\n",
    "daymet = ee.ImageCollection('NASA/ORNL/DAYMET_V4') \\\n",
    "     .filter(ee.Filter.date('2000-01-01', '2000-12-31')) \\\n",
    "     .mean() ##Will mess up the toBands() function if mean is included - see below (daymet2) for this operation\n",
    "\n",
    "daymet2 = ee.ImageCollection('NASA/ORNL/DAYMET_V4') \\\n",
    "     .filter(ee.Filter.date('2000-01-01', '2000-12-31'))\n",
    "\n",
    "daymet3 = ee.ImageCollection('NASA/ORNL/DAYMET_V4') \\\n",
    "     .geometry = ee.Geometry.Polygon(\n",
    "        [\n",
    "            [\n",
    "                [-81.1641, 31.5554],\n",
    "                [-81.2959, 31.2036],\n",
    "                [-81.7464, 31.2835],\n",
    "                [-81.7464, 31.6817]\n",
    "            ]\n",
    "        ]\n",
    "    )\n",
    "\n",
    "dm_precip = daymet.select('prcp')\n",
    "dm_maxtemp = daymet.select('tmax')\n",
    "dm_mintemp = daymet.select('tmin')\n",
    "dm_daylight = daymet.select('dayl')\n",
    "dm_srad = daymet.select('srad')\n",
    "dm_snow = daymet.select('swe')\n",
    "dm_vapor = daymet.select('vp')\n",
    "\n",
    "prcpVis = {\n",
    "  'min': -40.0,\n",
    "  'max': 30.0,\n",
    "  'palette': ['1621A2', 'white', 'cyan', 'green', 'yellow', 'orange', 'red'],\n",
    "}\n",
    "\n",
    "daylVis = {\n",
    "  'min': 0,\n",
    "  'max': 50000.0,\n",
    "  'palette': ['1621A2', 'white', 'cyan', 'green', 'yellow', 'orange', 'red'],\n",
    "}\n",
    "\n",
    "sradVis = {\n",
    "  'min': 0,\n",
    "  'max': 400.0,\n",
    "  'palette': ['1621A2', 'white', 'cyan', 'green', 'yellow', 'orange', 'red'],\n",
    "}\n",
    "\n",
    "vpVis = {\n",
    "  'min': 0,\n",
    "  'max': 1500,\n",
    "  'palette': ['1621A2', 'white', 'cyan', 'green', 'yellow', 'orange', 'red'],\n",
    "}\n",
    "\n",
    "Map = geemap.Map(center=[40,-100], zoom=4)\n",
    "Map.addLayer(dm_precip, prcpVis, \"Precipitation\")\n",
    "Map.addLayer(dm_maxtemp, prcpVis, \"Maxtemp\")\n",
    "Map.addLayer(dm_mintemp, prcpVis, \"Mintemp\")\n",
    "Map.addLayer(dm_daylight, daylVis, \"Daylight\")\n",
    "Map.addLayer(dm_srad, sradVis, \"SRAD\")\n",
    "Map.addLayer(dm_snow, prcpVis, \"Snowpack water?\")\n",
    "Map.addLayer(dm_vapor, vpVis, \"Vaporpressure\")\n",
    "\n",
    "Map\n",
    "\n",
    "##For the year 2000, site near blackbeard creek entrance is missing daymet data! Check to see if that's the same for all years\n",
    "##EDIT: it looks like it's going to be for all years"
   ]
  },
  {
   "cell_type": "code",
   "execution_count": 47,
   "id": "f12686d6",
   "metadata": {},
   "outputs": [
    {
     "data": {
      "text/plain": [
       "{'type': 'Polygon',\n",
       " 'coordinates': [[[-81.1641, 31.5554],\n",
       "   [-81.7464, 31.6817],\n",
       "   [-81.7464, 31.2835],\n",
       "   [-81.2959, 31.2036],\n",
       "   [-81.1641, 31.5554]]]}"
      ]
     },
     "execution_count": 47,
     "metadata": {},
     "output_type": "execute_result"
    }
   ],
   "source": [
    "daymet.getInfo()\n",
    "daymet2.getInfo()\n",
    "daymet3.getInfo()"
   ]
  },
  {
   "cell_type": "code",
   "execution_count": 43,
   "id": "0043935c",
   "metadata": {},
   "outputs": [
    {
     "ename": "AttributeError",
     "evalue": "'Image' object has no attribute 'toBands'",
     "output_type": "error",
     "traceback": [
      "\u001b[1;31m---------------------------------------------------------------------------\u001b[0m",
      "\u001b[1;31mAttributeError\u001b[0m                            Traceback (most recent call last)",
      "\u001b[1;32m~\\AppData\\Local\\Temp/ipykernel_7292/124789692.py\u001b[0m in \u001b[0;36m<module>\u001b[1;34m\u001b[0m\n\u001b[0;32m      4\u001b[0m \u001b[0mDaymetImage\u001b[0m \u001b[1;33m=\u001b[0m \u001b[0mdaymet2\u001b[0m\u001b[1;33m.\u001b[0m\u001b[0mtoBands\u001b[0m\u001b[1;33m(\u001b[0m\u001b[1;33m)\u001b[0m\u001b[1;33m\u001b[0m\u001b[1;33m\u001b[0m\u001b[0m\n\u001b[0;32m      5\u001b[0m \u001b[1;33m\u001b[0m\u001b[0m\n\u001b[1;32m----> 6\u001b[1;33m \u001b[0mDaymetImageMean\u001b[0m \u001b[1;33m=\u001b[0m \u001b[0mdaymet_x\u001b[0m\u001b[1;33m.\u001b[0m\u001b[0mtoBands\u001b[0m\u001b[1;33m(\u001b[0m\u001b[1;33m)\u001b[0m\u001b[1;33m\u001b[0m\u001b[1;33m\u001b[0m\u001b[0m\n\u001b[0m\u001b[0;32m      7\u001b[0m \u001b[1;33m\u001b[0m\u001b[0m\n\u001b[0;32m      8\u001b[0m \u001b[1;31m# DaymetImage = daymet \\\u001b[0m\u001b[1;33m\u001b[0m\u001b[1;33m\u001b[0m\u001b[0m\n",
      "\u001b[1;31mAttributeError\u001b[0m: 'Image' object has no attribute 'toBands'"
     ]
    }
   ],
   "source": [
    "##Convert imagecollection to bands/ee.image, from: \n",
    "##https://ecodata.nrel.colostate.edu/gdpe-gee-remote-sensing-lessons/module4-interoperability.html#daySmet-weather-data\n",
    "\n",
    "DaymetImage = daymet2.toBands()\n",
    "\n",
    "##check this site out to try to average bands for analysis: \n",
    "##https://gis.stackexchange.com/questions/384421/temporally-reducing-image-bands-using-google-earth-engine\n",
    "\n",
    "# DaymetImage = daymet \\\n",
    "#   .toBands() \\\n",
    "#   .filterBounds(geometry)\n",
    "\n",
    "# print(DaymetImage, \"DaymetImage\")"
   ]
  },
  {
   "cell_type": "code",
   "execution_count": 44,
   "id": "c76efca1",
   "metadata": {
    "scrolled": true
   },
   "outputs": [],
   "source": [
    "##Exporting pixel values from points\n",
    "coords_year = 'C:/Users/arj26323/Documents/Data/Biomass datasets/Daymet/GA/Coords_year/NoFlower/coords_2000.csv'\n",
    "##NoFlower folder is identical to Coords_year folder, with flowering status removed (confuses csv_to_ee function)\n",
    "fc_coords = geemap.csv_to_ee(coords_year, latitude = \"Latitude\", longitude = \"Longitude\")\n",
    "\n",
    "Map.addLayer(fc_coords, {}, \"fc_coords\")\n",
    "\n",
    "##export data\n",
    "out_dir = os.path.expanduser('~/Downloads')\n",
    "out_csv = os.path.join(out_dir, 'daymet2000.csv')\n",
    "#out_shp = os.path.join(out_dir, 'points.shp') ##shapefile exporting\n",
    "\n",
    "# geemap.extract_values_to_points(fc_coords, DaymetImage, out_csv) ##only works for single images - maybe for loop?\n"
   ]
  },
  {
   "cell_type": "code",
   "execution_count": 5,
   "id": "5794b3fc",
   "metadata": {},
   "outputs": [
    {
     "name": "stdout",
     "output_type": "stream",
     "text": [
      "dict_keys(['pred', 'obs', 'stns', 'station_id', 'station_name', 'stnx', 'stny', 'stnz', 'time', 'time_bnds', 'stn_lon', 'stn_lat'])\n"
     ]
    },
    {
     "data": {
      "text/plain": [
       "masked_array(\n",
       "  data=[[--, --, --, ..., --, --, --],\n",
       "        [0.3, 0.0, 0.0, ..., 0.0, 0.0, 0.0],\n",
       "        [0.0, 0.0, 0.0, ..., --, --, --],\n",
       "        ...,\n",
       "        [0.0, 0.0, 0.0, ..., 0.0, 0.0, 0.0],\n",
       "        [0.0, 0.0, 0.0, ..., 0.0, 0.5, 0.0],\n",
       "        [0.0, 0.0, 0.0, ..., 0.0, 0.0, 0.0]],\n",
       "  mask=[[ True,  True,  True, ...,  True,  True,  True],\n",
       "        [False, False, False, ..., False, False, False],\n",
       "        [False, False, False, ...,  True,  True,  True],\n",
       "        ...,\n",
       "        [False, False, False, ..., False, False, False],\n",
       "        [False, False, False, ..., False, False, False],\n",
       "        [False, False, False, ..., False, False, False]],\n",
       "  fill_value=-9999.0)"
      ]
     },
     "metadata": {},
     "output_type": "display_data"
    }
   ],
   "source": [
    "##From website: https://towardsdatascience.com/read-netcdf-data-with-python-901f7ff61648\n",
    "##Also try: http://unidata.github.io/netcdf4-python/\n",
    "\n",
    "## Also see: https://stackoverflow.com/questions/44359869/convert-netcdf-file-to-csv-or-text-using-python\n",
    "import netCDF4 as nc4\n",
    "import pandas as pd\n",
    "fn = 'E:/Daymet/Daymet_V4_Stn_Level_CrossVal_1850/data/daymet_v4_stnxval_prcp_hi_2000.nc'\n",
    "nc = nc4.Dataset(fn, mode='r')\n",
    "print(nc.variables.keys())\n",
    "\n",
    "lat = nc.variables['stn_lat'][:]\n",
    "lon = nc.variables['stn_lon'][:]\n",
    "\n",
    "time_var = nc.variables['time']\n",
    "dtime = nc4.num2date(time_var[:],time_var.units)\n",
    "precip = nc.variables['obs'][:] ##'obs' was originally 'precip' in example - make sure this is what you want\n",
    "\n",
    "display(precip)\n",
    "##a pandas.Series designed for time series of a 2D lat,lon grid\n",
    "# precip_ts = pd.Series(precip, index=dtime) \n",
    "# display(precip_ts)\n",
    "\n",
    "# precip_ts.to_csv('precip.csv',index=True, header=True)\n"
   ]
  },
  {
   "cell_type": "code",
   "execution_count": null,
   "id": "b59337e1",
   "metadata": {},
   "outputs": [],
   "source": []
  },
  {
   "cell_type": "code",
   "execution_count": null,
   "id": "8ce067e6",
   "metadata": {},
   "outputs": [],
   "source": []
  }
 ],
 "metadata": {
  "kernelspec": {
   "display_name": "venv",
   "language": "python",
   "name": "venv"
  },
  "language_info": {
   "codemirror_mode": {
    "name": "ipython",
    "version": 3
   },
   "file_extension": ".py",
   "mimetype": "text/x-python",
   "name": "python",
   "nbconvert_exporter": "python",
   "pygments_lexer": "ipython3",
   "version": "3.9.12"
  }
 },
 "nbformat": 4,
 "nbformat_minor": 5
}
