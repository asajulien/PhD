{
 "cells": [
  {
   "cell_type": "code",
   "execution_count": 4,
   "id": "e6063985",
   "metadata": {},
   "outputs": [],
   "source": [
    "import matplotlib.pyplot as plt\n",
    "import pydaymet as daymet ##I'm worried these are all out of date and useless\n",
    "# from pynhd import NLDI"
   ]
  },
  {
   "cell_type": "code",
   "execution_count": 6,
   "id": "b6b34571",
   "metadata": {},
   "outputs": [
    {
     "ename": "NameError",
     "evalue": "name 'geometry' is not defined",
     "output_type": "error",
     "traceback": [
      "\u001b[1;31m---------------------------------------------------------------------------\u001b[0m",
      "\u001b[1;31mNameError\u001b[0m                                 Traceback (most recent call last)",
      "\u001b[1;32m~\\AppData\\Local\\Temp/ipykernel_512/3693349699.py\u001b[0m in \u001b[0;36m<module>\u001b[1;34m\u001b[0m\n\u001b[0;32m      4\u001b[0m \u001b[0mdates\u001b[0m \u001b[1;33m=\u001b[0m \u001b[1;33m(\u001b[0m\u001b[1;34m\"2000-01-01\"\u001b[0m\u001b[1;33m,\u001b[0m \u001b[1;34m\"2000-06-30\"\u001b[0m\u001b[1;33m)\u001b[0m\u001b[1;33m\u001b[0m\u001b[1;33m\u001b[0m\u001b[0m\n\u001b[0;32m      5\u001b[0m \u001b[1;33m\u001b[0m\u001b[0m\n\u001b[1;32m----> 6\u001b[1;33m \u001b[0mdaily\u001b[0m \u001b[1;33m=\u001b[0m \u001b[0mdaymet\u001b[0m\u001b[1;33m.\u001b[0m\u001b[0mget_bygeom\u001b[0m\u001b[1;33m(\u001b[0m\u001b[0mgeometry\u001b[0m\u001b[1;33m,\u001b[0m \u001b[0mdates\u001b[0m\u001b[1;33m,\u001b[0m \u001b[0mvariables\u001b[0m\u001b[1;33m=\u001b[0m\u001b[0mvar\u001b[0m\u001b[1;33m,\u001b[0m \u001b[0mpet\u001b[0m\u001b[1;33m=\u001b[0m\u001b[1;34m\"priestley_taylor\"\u001b[0m\u001b[1;33m,\u001b[0m \u001b[0msnow\u001b[0m\u001b[1;33m=\u001b[0m\u001b[1;32mTrue\u001b[0m\u001b[1;33m)\u001b[0m\u001b[1;33m\u001b[0m\u001b[1;33m\u001b[0m\u001b[0m\n\u001b[0m\u001b[0;32m      7\u001b[0m \u001b[0mmonthly\u001b[0m \u001b[1;33m=\u001b[0m \u001b[0mdaymet\u001b[0m\u001b[1;33m.\u001b[0m\u001b[0mget_bygeom\u001b[0m\u001b[1;33m(\u001b[0m\u001b[0mgeometry\u001b[0m\u001b[1;33m,\u001b[0m \u001b[0mdates\u001b[0m\u001b[1;33m,\u001b[0m \u001b[0mvariables\u001b[0m\u001b[1;33m=\u001b[0m\u001b[0mvar\u001b[0m\u001b[1;33m,\u001b[0m \u001b[0mtime_scale\u001b[0m\u001b[1;33m=\u001b[0m\u001b[1;34m\"monthly\"\u001b[0m\u001b[1;33m)\u001b[0m\u001b[1;33m\u001b[0m\u001b[1;33m\u001b[0m\u001b[0m\n",
      "\u001b[1;31mNameError\u001b[0m: name 'geometry' is not defined"
     ]
    }
   ],
   "source": [
    "# geometry = NLDI().get_basins(\"01031500\").geometry[0]\n",
    "\n",
    "var = [\"prcp\", \"tmin\"]\n",
    "dates = (\"2000-01-01\", \"2000-06-30\")\n",
    "\n",
    "daily = daymet.get_bygeom(geometry, dates, variables=var, pet=\"priestley_taylor\", snow=True)\n",
    "monthly = daymet.get_bygeom(geometry, dates, variables=var, time_scale=\"monthly\")"
   ]
  },
  {
   "cell_type": "code",
   "execution_count": 8,
   "id": "cd7b9bc6",
   "metadata": {},
   "outputs": [],
   "source": [
    "coords = (-1431147.7928, 318483.4618)\n",
    "crs = \"epsg:3542\"\n",
    "dates = (\"2000-01-01\", \"2006-12-31\")\n",
    "annual = daymet.get_bycoords(coords, dates, variables=var, crs=crs, time_scale=\"annual\")"
   ]
  },
  {
   "cell_type": "code",
   "execution_count": null,
   "id": "c09176fe",
   "metadata": {},
   "outputs": [],
   "source": [
    "daymet.get_bycoords()"
   ]
  }
 ],
 "metadata": {
  "kernelspec": {
   "display_name": "venv",
   "language": "python",
   "name": "venv"
  },
  "language_info": {
   "codemirror_mode": {
    "name": "ipython",
    "version": 3
   },
   "file_extension": ".py",
   "mimetype": "text/x-python",
   "name": "python",
   "nbconvert_exporter": "python",
   "pygments_lexer": "ipython3",
   "version": "3.9.7"
  }
 },
 "nbformat": 4,
 "nbformat_minor": 5
}
