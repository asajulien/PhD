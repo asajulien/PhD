{
 "cells": [
  {
   "cell_type": "code",
   "execution_count": 1,
   "id": "1b28bc15",
   "metadata": {},
   "outputs": [],
   "source": [
    "import geemap\n",
    "import pandas as pd\n",
    "import numpy as np\n",
    "import matplotlib.pyplot as plt\n",
    "import pdb\n",
    "from IPython.display import display\n",
    "import ee\n",
    "import os"
   ]
  },
  {
   "cell_type": "code",
   "execution_count": 3,
   "id": "80b7682d",
   "metadata": {},
   "outputs": [],
   "source": [
    "ee.Initialize()\n",
    "\n",
    "study_area = ee.Geometry.Point([-83.426759, 35.260398])"
   ]
  },
  {
   "cell_type": "code",
   "execution_count": 8,
   "id": "1c6748de",
   "metadata": {},
   "outputs": [
    {
     "name": "stdout",
     "output_type": "stream",
     "text": [
      "24\n"
     ]
    },
    {
     "data": {
      "text/plain": [
       "['COPERNICUS/S2_SR/20210728T161829_20210728T163242_T17SKV',\n",
       " 'COPERNICUS/S2_SR/20210703T161901_20210703T162312_T17SKV',\n",
       " 'COPERNICUS/S2_SR/20210824T160829_20210824T161729_T17SKV',\n",
       " 'COPERNICUS/S2_SR/20210723T161901_20210723T162233_T17SKV',\n",
       " 'COPERNICUS/S2_SR/20210802T161901_20210802T162233_T17SKV',\n",
       " 'COPERNICUS/S2_SR/20210827T161829_20210827T163324_T17SKV',\n",
       " 'COPERNICUS/S2_SR/20210705T160829_20210705T162039_T17SKV',\n",
       " 'COPERNICUS/S2_SR/20210814T160829_20210814T161737_T17SKV',\n",
       " 'COPERNICUS/S2_SR/20210829T160901_20210829T161735_T17SKV',\n",
       " 'COPERNICUS/S2_SR/20210715T160829_20210715T161739_T17SKV',\n",
       " 'COPERNICUS/S2_SR/20210822T161901_20210822T162232_T17SKV',\n",
       " 'COPERNICUS/S2_SR/20210725T160829_20210725T161735_T17SKV',\n",
       " 'COPERNICUS/S2_SR/20210809T160901_20210809T162326_T17SKV',\n",
       " 'COPERNICUS/S2_SR/20210718T161829_20210718T162725_T17SKV',\n",
       " 'COPERNICUS/S2_SR/20210807T161829_20210807T162738_T17SKV',\n",
       " 'COPERNICUS/S2_SR/20210804T160829_20210804T161533_T17SKV',\n",
       " 'COPERNICUS/S2_SR/20210708T161829_20210708T162738_T17SKV',\n",
       " 'COPERNICUS/S2_SR/20210812T161901_20210812T162229_T17SKV',\n",
       " 'COPERNICUS/S2_SR/20210819T160901_20210819T161939_T17SKV',\n",
       " 'COPERNICUS/S2_SR/20210710T160901_20210710T161939_T17SKV',\n",
       " 'COPERNICUS/S2_SR/20210730T160911_20210730T161940_T17SKV',\n",
       " 'COPERNICUS/S2_SR/20210720T160911_20210720T161940_T17SKV',\n",
       " 'COPERNICUS/S2_SR/20210713T161901_20210713T162244_T17SKV',\n",
       " 'COPERNICUS/S2_SR/20210817T161829_20210817T162711_T17SKV']"
      ]
     },
     "execution_count": 8,
     "metadata": {},
     "output_type": "execute_result"
    }
   ],
   "source": [
    "CollectionS2 = ee.ImageCollection('COPERNICUS/S2_SR') \\\n",
    "    .filter(ee.Filter.calendarRange(2021, 2022,'year')) \\\n",
    "    .filter(ee.Filter.calendarRange(7,8,'month')) \\\n",
    "    .filterBounds(study_area) \\\n",
    "    .sort('CLOUDY_PIXEL_PERCENTAGE', True)\n",
    "\n",
    "vis_param = {'min': 0, \n",
    "             'max': 2000, \n",
    "             'bands': ['B8', 'B4', 'B3'], \n",
    "             'gamma': 1.5}\n",
    "\n",
    "print(CollectionS2.size().getInfo())\n",
    "image0 = ee.Image('COPERNICUS/S2_SR/20210728T161829_20210728T163242_T17SKV')\n",
    "CollectionS2.aggregate_array('system:id').getInfo()"
   ]
  },
  {
   "cell_type": "code",
   "execution_count": 11,
   "id": "56482ca4",
   "metadata": {},
   "outputs": [
    {
     "data": {
      "application/vnd.jupyter.widget-view+json": {
       "model_id": "2a077f1686704c429f01cd495ee45fd3",
       "version_major": 2,
       "version_minor": 0
      },
      "text/plain": [
       "Map(center=[35.260398, -83.426759], controls=(WidgetControl(options=['position', 'transparent_bg'], widget=HBo…"
      ]
     },
     "metadata": {},
     "output_type": "display_data"
    }
   ],
   "source": [
    "##Mapping\n",
    "##Add Earth Engine dataset\n",
    "Map = geemap.Map(center=[40,-100], zoom=4)\n",
    "\n",
    "Map.addLayer(image0, vis_param, \"Sentinel 2\")\n",
    "#Map.addLayer(ga18, l8_param, \"Landsat8SR\")\n",
    "\n",
    "Map.centerObject(study_area, 10)\n",
    "\n",
    "Map"
   ]
  }
 ],
 "metadata": {
  "kernelspec": {
   "display_name": "venv",
   "language": "python",
   "name": "venv"
  },
  "language_info": {
   "codemirror_mode": {
    "name": "ipython",
    "version": 3
   },
   "file_extension": ".py",
   "mimetype": "text/x-python",
   "name": "python",
   "nbconvert_exporter": "python",
   "pygments_lexer": "ipython3",
   "version": "3.9.7"
  }
 },
 "nbformat": 4,
 "nbformat_minor": 5
}
