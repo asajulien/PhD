{
 "cells": [
  {
   "cell_type": "code",
   "execution_count": 1,
   "id": "treated-workstation",
   "metadata": {},
   "outputs": [],
   "source": [
    "##libraries\n",
    "import pandas as pd\n",
    "import numpy as np\n",
    "import matplotlib.pyplot as plt\n",
    "import pdb\n",
    "from IPython.display import display\n",
    "import os\n",
    "import seaborn as sns\n",
    "import statsmodels.formula.api as sm\n",
    "from numpy.polynomial.polynomial import polyfit\n",
    "from sklearn.model_selection import train_test_split\n",
    "import sklearn\n",
    "from math import sqrt"
   ]
  },
  {
   "cell_type": "code",
   "execution_count": 20,
   "id": "polish-audio",
   "metadata": {},
   "outputs": [
    {
     "data": {
      "text/plain": [
       "<AxesSubplot:>"
      ]
     },
     "execution_count": 20,
     "metadata": {},
     "output_type": "execute_result"
    },
    {
     "data": {
      "image/png": "[encoded data removed]",
      "text/plain": [
       "<Figure size 432x288 with 1 Axes>"
      ]
     },
     "metadata": {
      "needs_background": "light"
     },
     "output_type": "display_data"
    }
   ],
   "source": [
    "##read data - biomass, Virginia LTER\n",
    "df = pd.read_csv('/Users/asariversjulien/Documents/Data/CSV files/Virginia_ChristianBlum.csv', skiprows=21)\n",
    "df = df[df['speciesName'] == 'Spartina alterniflora'] ##only low marsh and creekbank???\n",
    "df = df[['EOYBYear', 'collectDate', 'marshName', 'siteName', 'locationID', 'monitoringPurpose', \\\n",
    "         'Transect', 'Replicate', 'speciesName', 'liveMass', 'deadMass', 'totalMass', 'latitude', 'longitude']]\n",
    "df['collectDate'] = pd.to_datetime(df['collectDate'])\n",
    "df['liveMass'] = 16 * df['liveMass'] ##look at histograms; is averaging the best way?\n",
    "df['deadMass'] = 16 * df['deadMass']\n",
    "df['totalMass'] = 16 * df['totalMass']\n",
    "locations = [1, 2] ## 1 = creekbank; 2 = low marsh\n",
    "#df = df[df['locationID'].isin(locations)] ##MOSTLY Spartina alterniflora-only plots; in other zones plots were mixed\n",
    "\n",
    "##water quality dataset, Virginia LTER\n",
    "df_wq = pd.read_csv('/Users/asariversjulien/Documents/Data/CSV files/Virginia_WQ.csv', skiprows=21)\n",
    "df_wq['measureDate'] = pd.to_datetime(df_wq['measureDate'])\n",
    "\n",
    "max(df['liveMass'])\n",
    "\n",
    "#df\n",
    "\n",
    "#df['liveMass'].hist(by=df['siteName'])\n",
    "df['liveMass'].hist(bins = 50)\n",
    "\n",
    "##IMPORTANT NOTE: 2017 data does not distinguish live from dead biomass due to a freezer failure"
   ]
  },
  {
   "cell_type": "code",
   "execution_count": 8,
   "id": "moderate-conference",
   "metadata": {
    "scrolled": false
   },
   "outputs": [],
   "source": [
    "##summary statistics\n",
    "df_means = df.groupby('EOYBYear', as_index = False).mean()\n",
    "df_sem = df.groupby('EOYBYear').sem()\n",
    "\n",
    "df_means['Year'] = df_means['EOYBYear']\n",
    "#df.groupby('EOYBYear').aggregate([np.mean, np.size])\n",
    "#df_means ##'average lat/long' useless\n",
    "#df_sem"
   ]
  },
  {
   "cell_type": "code",
   "execution_count": 9,
   "id": "smart-tiffany",
   "metadata": {
    "scrolled": false
   },
   "outputs": [],
   "source": [
    "##grouped by site and by year\n",
    "mn_siteyears = df.groupby(['siteName', 'EOYBYear'], as_index = False).aggregate([np.mean, np.size, np.std]).reset_index()\n",
    "se_siteyears = df.groupby(['siteName', 'EOYBYear'], as_index = False).sem()\n",
    "\n",
    "newdf = df.groupby(['siteName', 'EOYBYear'], as_index = False).mean()\n",
    "\n",
    "##rearrange lat and long for GEE\n",
    "mn_siteyears = mn_siteyears[['siteName', 'EOYBYear', 'locationID', 'liveMass', 'longitude', \\\n",
    "                             'latitude', 'deadMass', 'totalMass']]\n",
    "\n",
    "#with pd.option_context('display.max_rows', None, 'display.max_columns', None):  ## more options can be specified also\n",
    "    #print(mn_siteyears)\n",
    "\n",
    "#print(se_siteyears)\n",
    "\n",
    "out_dir = os.path.expanduser('~/Downloads')\n",
    "out_csv = os.path.join(out_dir, 'outx2.csv')\n",
    "#se_siteyears.to_csv(out_csv, index=False) ##set out directory\n",
    "\n",
    "newdf['year'] = newdf['EOYBYear']"
   ]
  },
  {
   "cell_type": "code",
   "execution_count": 10,
   "id": "several-printing",
   "metadata": {},
   "outputs": [],
   "source": [
    "##some figures\n",
    "#df.boxplot(column='liveMass', by='EOYBYear')\n",
    "#mn_siteyears.boxplot(column='liveMass', by='siteName') ##using averages as individual points"
   ]
  },
  {
   "cell_type": "code",
   "execution_count": 11,
   "id": "a39d0cb7",
   "metadata": {},
   "outputs": [
    {
     "name": "stdout",
     "output_type": "stream",
     "text": [
      "         siteName   EOYBYear  locationID    liveMass    deadMass    totalMass  \\\n",
      "1      Assateague 2001-01-01    1.500000  406.653333  103.080000   509.733333   \n",
      "4        Box_Tree 2001-01-01    1.500000  953.700000  202.360000  1156.060000   \n",
      "6        Box_Tree 2004-01-01    2.000000  485.484444  170.782222   656.266667   \n",
      "7        Box_Tree 2007-01-01    1.875000  374.050000  101.310000   475.360000   \n",
      "10       Box_Tree 2012-01-01    1.461538  510.449231   98.855385   609.304615   \n",
      "11       Box_Tree 2013-01-01    1.714286  396.971429    0.000000   396.971429   \n",
      "12       Box_Tree 2016-01-01    1.692308  406.941538    0.000000   406.941538   \n",
      "14  Channel_Point 2001-01-01    1.875000  729.570000  391.030000  1120.600000   \n",
      "15       Cushmans 2001-01-01    2.058824  376.414118  230.757647   607.171765   \n",
      "17       Cushmans 2005-01-01    2.200000  564.192000  144.312000   708.504000   \n",
      "18       Cushmans 2007-01-01    1.875000  513.360000  388.230000   901.590000   \n",
      "21       Cushmans 2012-01-01    1.800000  244.725333   78.976000   323.701333   \n",
      "22       Cushmans 2013-01-01    1.857143  411.028571    0.000000   411.028571   \n",
      "23       Cushmans 2016-01-01    1.500000  434.600000    0.000000   434.600000   \n",
      "26          Gator 2001-01-01    2.200000  229.704000   90.768000   320.472000   \n",
      "28          Gator 2003-01-01    2.000000  259.288889   45.511111   304.800000   \n",
      "29          Gator 2004-01-01    2.200000  379.712000   99.776000   479.488000   \n",
      "30          Gator 2005-01-01    2.000000  545.386667  148.355556   693.742222   \n",
      "31          Gator 2007-01-01    1.714286  527.531429  215.222857   742.754286   \n",
      "36          Gator 2012-01-01    1.941176  645.364706  183.087059   828.451765   \n",
      "37          Gator 2013-01-01    2.000000  492.075294    0.000000   492.075294   \n",
      "38          Gator 2016-01-01    1.692308  359.310769    0.000000   359.310769   \n",
      "42            Hog 2001-01-01    2.216216  656.311351  259.368649   915.680000   \n",
      "43            Hog 2007-01-01    1.545455  473.360000  174.690909   648.050909   \n",
      "48            Hog 2012-01-01    1.703704  811.755259  143.340444   955.095704   \n",
      "49            Hog 2013-01-01    2.111111  597.271111   10.693333   607.964444   \n",
      "50            Hog 2016-01-01    1.821429  472.480000    0.000000   472.480000   \n",
      "53     Indiantown 2001-01-01    1.857143  523.600000  251.840000   775.440000   \n",
      "55     Indiantown 2003-01-01    2.428571  396.266667  190.019048   586.285714   \n",
      "56     Indiantown 2004-01-01    2.055556  521.333333  194.435556   715.768889   \n",
      "57     Indiantown 2007-01-01    2.000000  463.048889  196.995556   660.044444   \n",
      "61     Indiantown 2012-01-01    2.111111  325.022222   65.280000   390.302222   \n",
      "62     Indiantown 2013-01-01    2.000000  609.813333   47.280000   657.093333   \n",
      "63     Indiantown 2016-01-01    2.055556  490.275556    0.000000   490.275556   \n",
      "64       Kegotank 2001-01-01    2.454545  439.694545  224.160000   663.854545   \n",
      "66     Mill_Creek 2001-01-01    2.000000  427.256471  210.738824   637.995294   \n",
      "67  N_Brownsville 2003-01-01    3.200000  342.080000  232.960000   575.040000   \n",
      "68  N_Brownsville 2004-01-01    1.400000  100.064000  121.472000   221.536000   \n",
      "69  N_Brownsville 2007-01-01    1.500000    6.940000  122.167000   129.107000   \n",
      "73  N_Brownsville 2012-01-01    3.400000  509.129600    0.000000   344.212000   \n",
      "75         Oyster 2001-01-01    3.000000  702.914286  258.034286   960.948571   \n",
      "77         Oyster 2003-01-01    2.176471  661.929412  114.070588   776.000000   \n",
      "78         Oyster 2004-01-01    2.000000  357.383529  256.028235   613.411765   \n",
      "79         Oyster 2005-01-01    1.941176  593.468235  104.367059   697.835294   \n",
      "80         Oyster 2007-01-01    1.545455  489.687273  167.738182   657.425455   \n",
      "85         Oyster 2013-01-01    1.866667  555.818667   47.093333   602.912000   \n",
      "86         Oyster 2016-01-01    1.800000  579.530667    0.000000   579.530667   \n",
      "88      Steelmans 2001-01-01    2.111111  330.488889  129.146667   459.635556   \n",
      "90      Steelmans 2003-01-01    2.058824  448.658824   62.503529   511.162353   \n",
      "91      Steelmans 2004-01-01    1.800000  575.434667  126.752000   702.186667   \n",
      "92      Steelmans 2005-01-01    1.615385  509.378462   62.116923   571.495385   \n",
      "93      Steelmans 2007-01-01    1.500000  387.986667  146.706667   534.693333   \n",
      "95        Wallops 2001-01-01    1.857143  589.417143  279.440000   868.857143   \n",
      "\n",
      "     latitude  longitude  year  imagedate      ndvi      SAVI     MSAVI  \\\n",
      "1   37.903114 -75.372740  2001 2001-08-03  0.665590  0.330658  0.395285   \n",
      "4   37.395746 -75.876094  2001 2001-08-03  0.618052  0.390202  0.549488   \n",
      "6   37.395746 -75.876094  2004 2004-08-11  0.644678  0.417888  0.585070   \n",
      "7   37.395746 -75.876094  2007 2007-09-05  0.577348  0.363689  0.530284   \n",
      "10  37.395746 -75.876094  2012 2012-09-26  0.539427  0.324509  0.478443   \n",
      "11  37.395746 -75.876094  2013 2013-09-05  0.642720  0.405711  0.559931   \n",
      "12  37.395746 -75.876094  2016 2016-08-12  0.683584  0.424123  0.561954   \n",
      "14  37.709249 -75.652248  2001 2001-08-03  0.496251  0.232214  0.318261   \n",
      "15  37.175055 -75.942331  2001 2001-08-03  0.386437  0.157043  0.238878   \n",
      "17  37.175055 -75.942331  2005 2005-08-14  0.439460  0.193199  0.278275   \n",
      "18  37.175055 -75.942331  2007 2007-09-05  0.358580  0.135874  0.212396   \n",
      "21  37.175055 -75.942331  2012 2012-09-26  0.360704  0.137584  0.214651   \n",
      "22  37.175055 -75.942331  2013 2013-09-05  0.443385  0.167116  0.227095   \n",
      "23  37.175055 -75.942331  2016 2016-08-12  0.525762  0.209184  0.260922   \n",
      "26  37.167409 -75.940586  2001 2001-08-03  0.333333  0.111439  0.176685   \n",
      "28  37.167409 -75.940586  2003 2003-08-25  0.391007  0.152509  0.227095   \n",
      "29  37.167409 -75.940586  2004 2004-08-11  0.339492  0.131016  0.213811   \n",
      "30  37.167409 -75.940586  2005 2005-08-14  0.428066  0.162634  0.226524   \n",
      "31  37.167409 -75.940586  2007 2007-09-05  0.232628  0.073055  0.148289   \n",
      "36  37.167409 -75.940586  2012 2012-09-26  0.302623  0.108106  0.186844   \n",
      "37  37.167409 -75.940586  2013 2013-09-05  0.453433  0.154613  0.201218   \n",
      "38  37.167409 -75.940586  2016 2016-08-12  0.475716  0.173479  0.223447   \n",
      "42  37.433515 -75.683165  2001 2001-08-03  0.604986  0.307850  0.391181   \n",
      "43  37.431379 -75.684412  2007 2007-09-05  0.512677  0.244234  0.330817   \n",
      "48  37.428599 -75.686037  2012 2012-09-26  0.468161  0.216598  0.306037   \n",
      "49  37.426990 -75.686977  2013 2013-09-05  0.530910  0.277155  0.383226   \n",
      "50  37.429404 -75.685567  2016 2016-08-12  0.641445  0.305487  0.365373   \n",
      "53  37.346190 -75.900996  2001 2001-08-03  0.573576  0.288921  0.376199   \n",
      "55  37.346190 -75.900996  2003 2003-08-25  0.590877  0.318601  0.421591   \n",
      "56  37.346190 -75.900996  2004 2004-08-11  0.550491  0.299924  0.414815   \n",
      "57  37.346190 -75.900996  2007 2007-09-05  0.576124  0.299137  0.394054   \n",
      "61  37.346190 -75.900996  2012 2012-09-26  0.490314  0.233306  0.324297   \n",
      "62  37.346190 -75.900996  2013 2013-09-05  0.649275  0.346392  0.433828   \n",
      "63  37.346190 -75.900996  2016 2016-08-12  0.722614  0.416646  0.515459   \n",
      "64  37.784154 -75.558264  2001 2001-08-03  0.373904  0.149912  0.232012   \n",
      "66  37.416783 -75.861733  2001 2001-08-03  0.322237  0.111658  0.183024   \n",
      "67  37.468043 -75.822928  2003 2003-08-25  0.482814  0.241536  0.346258   \n",
      "68  37.468043 -75.822928  2004 2004-08-11  0.569004  0.300000  0.400833   \n",
      "69  37.468043 -75.822928  2007 2007-09-05  0.441558  0.227619  0.349314   \n",
      "73  37.468043 -75.822928  2012 2012-09-26  0.593207  0.303715  0.391160   \n",
      "75  37.287549 -75.929133  2001 2001-08-03  0.593750  0.296558  0.377441   \n",
      "77  37.287549 -75.929133  2003 2003-08-25  0.602631  0.331031  0.437489   \n",
      "78  37.287549 -75.929133  2004 2004-08-11  0.556611  0.295425  0.400872   \n",
      "79  37.287549 -75.929133  2005 2005-08-14  0.644000  0.362250  0.468101   \n",
      "80  37.287549 -75.929133  2007 2007-09-05  0.508380  0.254596  0.354155   \n",
      "85  37.287549 -75.929133  2013 2013-09-05  0.617809  0.264681  0.309568   \n",
      "86  37.287549 -75.929133  2016 2016-08-12  0.633275  0.298931  0.358591   \n",
      "88  37.181277 -75.940690  2001 2001-08-03  0.287518  0.095705  0.168330   \n",
      "90  37.181277 -75.940690  2003 2003-08-25  0.316956  0.118983  0.201944   \n",
      "91  37.181277 -75.940690  2004 2004-08-11  0.296640  0.114184  0.204719   \n",
      "92  37.181277 -75.940690  2005 2005-08-14  0.362842  0.139125  0.216545   \n",
      "93  37.181277 -75.940690  2007 2007-09-05  0.300138  0.100993  0.172709   \n",
      "95  37.880000 -75.447000  2001 2001-08-03  0.479899  0.173847  0.222292   \n",
      "\n",
      "        RDVI      VDVI     GNDVI   sqrtLive  \n",
      "1   0.331194  0.199337  0.583109  20.165647  \n",
      "4   0.372578  0.171894  0.598695  30.882034  \n",
      "6   0.397668  0.160449  0.592366  22.033712  \n",
      "7   0.347370  0.144247  0.552474  19.340372  \n",
      "10  0.312122  0.108467  0.529831  22.593124  \n",
      "11  0.387395  0.147176  0.610796  19.924142  \n",
      "12  0.405971  0.197542  0.626404  20.172792  \n",
      "14  0.236280  0.149723  0.463330  27.010553  \n",
      "15  0.166572  0.053857  0.406881  19.401395  \n",
      "17  0.200087  0.047157  0.430489  23.752726  \n",
      "18  0.147411  0.075248  0.357776  22.657449  \n",
      "21  0.148941  0.103510  0.308517  15.643699  \n",
      "22  0.181626  0.057128  0.419695  20.273840  \n",
      "23  0.223371  0.086142  0.519868  20.847062  \n",
      "26  0.126227  0.047780  0.344585  15.155989  \n",
      "28  0.163897  0.057374  0.325380  16.102450  \n",
      "29  0.141287  0.098973  0.268453  19.486200  \n",
      "30  0.176288  0.077891  0.369910  23.353515  \n",
      "31  0.084646  0.064825  0.239180  22.968052  \n",
      "36  0.119641  0.049853  0.309325  25.404029  \n",
      "37  0.173908  0.063882  0.423435  22.182770  \n",
      "38  0.190643  0.076008  0.488693  18.955494  \n",
      "42  0.306520  0.129167  0.583397  25.618574  \n",
      "43  0.247310  0.088333  0.506849  21.756838  \n",
      "48  0.221079  0.049606  0.486155  28.491319  \n",
      "49  0.274281  0.048889  0.551842  24.439131  \n",
      "50  0.309360  0.127820  0.618482  21.736605  \n",
      "53  0.288390  0.114943  0.547258  22.882308  \n",
      "55  0.312997  0.058576  0.560839  19.906448  \n",
      "56  0.293985  0.091326  0.511795  22.832725  \n",
      "57  0.296410  0.109229  0.522072  21.518571  \n",
      "61  0.236319  0.087791  0.444305  18.028373  \n",
      "62  0.341101  0.112767  0.605078  24.694399  \n",
      "63  0.403759  0.161145  0.677480  22.142167  \n",
      "64  0.159688  0.033793  0.395323  20.968895  \n",
      "66  0.124885  0.071050  0.325768  20.670183  \n",
      "67  0.241503  0.083862  0.391598  18.495405  \n",
      "68  0.296210  0.098436  0.561513  10.003199  \n",
      "69  0.225930  0.049304  0.460526   2.634388  \n",
      "73  0.301954  0.083095  0.568985  22.563900  \n",
      "75  0.296637  0.152255  0.571090  26.512531  \n",
      "77  0.323910  0.125938  0.548495  25.727989  \n",
      "78  0.291252  0.034086  0.569797  18.904590  \n",
      "79  0.352733  0.112405  0.597668  24.361203  \n",
      "80  0.254495  0.112467  0.495253  22.128879  \n",
      "85  0.276223  0.104262  0.586850  23.575807  \n",
      "86  0.303444  0.135593  0.599829  24.073443  \n",
      "88  0.108574  0.096416  0.256674  18.179353  \n",
      "90  0.129487  0.039813  0.245326  21.181568  \n",
      "91  0.123239  0.114241  0.222283  23.988219  \n",
      "92  0.150350  0.096718  0.296399  22.569414  \n",
      "93  0.114132  0.072593  0.267701  19.697377  \n",
      "95  0.191479  0.095574  0.467913  24.277915  \n"
     ]
    }
   ],
   "source": [
    "##data analysis with cloud-masked data\n",
    "#masked_ndvi = pd.read_csv('/Users/asariversjulien/Documents/Data/CSV files/masked_ndvi.csv')\n",
    "l5l7l8 = pd.read_csv('/Users/asariversjulien/Documents/Data/CSV files/L5L7L8_combined.csv')\n",
    "masked_ndvi = pd.merge(newdf, l5l7l8, on=['year', 'siteName'])   \n",
    "    \n",
    "masked_ndvi['EOYBYear'] = pd.to_datetime(masked_ndvi['EOYBYear'], format = '%Y')\n",
    "masked_ndvi['imagedate'] = pd.to_datetime(masked_ndvi['imagedate'], format = '%m/%d/%y')\n",
    "masked_ndvi['year'] = pd.DatetimeIndex(pd.to_datetime(round(masked_ndvi['year']), format = '%Y')).year\n",
    "\n",
    "masked_ndvi['sqrtLive'] = np.sqrt(masked_ndvi['liveMass']) ##in case 'liveMass' does not meet assumptions\n",
    "xxyrs = [2001, 2003, 2004, 2005, 2006, 2007, 2012, 2013, 2014, 2015, 2016]\n",
    "masked_ndvi = masked_ndvi[masked_ndvi['year'].isin(xxyrs)] ##filtering out years where high tide -> flooded pixels\n",
    "\n",
    "masked_ndvi = masked_ndvi[masked_ndvi['ndvi'] > 0] ##Gets rid of obviously flooded pixels and NA values\n",
    "\n",
    "with pd.option_context('display.max_rows', None, 'display.max_columns', None):  ## more options can be specified also\n",
    "    print(masked_ndvi)"
   ]
  },
  {
   "cell_type": "code",
   "execution_count": 12,
   "id": "e54baac9",
   "metadata": {},
   "outputs": [],
   "source": [
    "##Training and testing biomass ~ ndvi: getting datasets\n",
    "#train, test = train_test_split(masked_ndvi, test_size = 0.2) ##have to redo next chunk every time you run this"
   ]
  },
  {
   "cell_type": "code",
   "execution_count": 13,
   "id": "e6e31c6b",
   "metadata": {},
   "outputs": [
    {
     "ename": "NameError",
     "evalue": "name 'train' is not defined",
     "output_type": "error",
     "traceback": [
      "\u001b[0;31m---------------------------------------------------------------------------\u001b[0m",
      "\u001b[0;31mNameError\u001b[0m                                 Traceback (most recent call last)",
      "\u001b[0;32m<ipython-input-13-621548172ae6>\u001b[0m in \u001b[0;36m<module>\u001b[0;34m\u001b[0m\n\u001b[1;32m      1\u001b[0m \u001b[0;31m##Training and testing biomass ~ ndvi\u001b[0m\u001b[0;34m\u001b[0m\u001b[0;34m\u001b[0m\u001b[0;34m\u001b[0m\u001b[0m\n\u001b[0;32m----> 2\u001b[0;31m \u001b[0mresult\u001b[0m \u001b[0;34m=\u001b[0m \u001b[0msm\u001b[0m\u001b[0;34m.\u001b[0m\u001b[0mols\u001b[0m\u001b[0;34m(\u001b[0m\u001b[0mformula\u001b[0m\u001b[0;34m=\u001b[0m\u001b[0;34m\"liveMass ~ VDVI\"\u001b[0m\u001b[0;34m,\u001b[0m \u001b[0mdata\u001b[0m \u001b[0;34m=\u001b[0m \u001b[0mtrain\u001b[0m\u001b[0;34m)\u001b[0m\u001b[0;34m.\u001b[0m\u001b[0mfit\u001b[0m\u001b[0;34m(\u001b[0m\u001b[0;34m)\u001b[0m \u001b[0;31m#mass = 1809.7 * vdvi + 311.5\u001b[0m\u001b[0;34m\u001b[0m\u001b[0;34m\u001b[0m\u001b[0m\n\u001b[0m\u001b[1;32m      3\u001b[0m \u001b[0mprint\u001b[0m\u001b[0;34m(\u001b[0m\u001b[0mresult\u001b[0m\u001b[0;34m.\u001b[0m\u001b[0mparams\u001b[0m\u001b[0;34m)\u001b[0m\u001b[0;34m\u001b[0m\u001b[0;34m\u001b[0m\u001b[0m\n\u001b[1;32m      4\u001b[0m \u001b[0mprint\u001b[0m\u001b[0;34m(\u001b[0m\u001b[0mresult\u001b[0m\u001b[0;34m.\u001b[0m\u001b[0msummary\u001b[0m\u001b[0;34m(\u001b[0m\u001b[0;34m)\u001b[0m\u001b[0;34m)\u001b[0m\u001b[0;34m\u001b[0m\u001b[0;34m\u001b[0m\u001b[0m\n\u001b[1;32m      5\u001b[0m \u001b[0;34m\u001b[0m\u001b[0m\n",
      "\u001b[0;31mNameError\u001b[0m: name 'train' is not defined"
     ]
    }
   ],
   "source": [
    "##Training and testing biomass ~ ndvi\n",
    "result = sm.ols(formula=\"liveMass ~ VDVI\", data = train).fit() #mass = 1809.7 * vdvi + 311.5\n",
    "print(result.params)\n",
    "print(result.summary())\n",
    "\n",
    "g = sns.lmplot(x = \"VDVI\", y = \"liveMass\", ci = 95, data=train) ##CI seems a little too small?\n",
    "g.set_axis_labels(\"VDVI\", \"Average biomass (g/$m^2$)\")\n",
    "g.set(ylim=(0, None))"
   ]
  },
  {
   "cell_type": "code",
   "execution_count": 14,
   "id": "e7ed5b08",
   "metadata": {},
   "outputs": [
    {
     "ename": "NameError",
     "evalue": "name 'test' is not defined",
     "output_type": "error",
     "traceback": [
      "\u001b[0;31m---------------------------------------------------------------------------\u001b[0m",
      "\u001b[0;31mNameError\u001b[0m                                 Traceback (most recent call last)",
      "\u001b[0;32m<ipython-input-14-0bed1b206d24>\u001b[0m in \u001b[0;36m<module>\u001b[0;34m\u001b[0m\n\u001b[1;32m      1\u001b[0m \u001b[0;31m##plot observed vs predicted\u001b[0m\u001b[0;34m\u001b[0m\u001b[0;34m\u001b[0m\u001b[0;34m\u001b[0m\u001b[0m\n\u001b[0;32m----> 2\u001b[0;31m \u001b[0mtest\u001b[0m\u001b[0;34m[\u001b[0m\u001b[0;34m'predicted'\u001b[0m\u001b[0;34m]\u001b[0m \u001b[0;34m=\u001b[0m \u001b[0;36m1809.7\u001b[0m \u001b[0;34m*\u001b[0m \u001b[0mtest\u001b[0m\u001b[0;34m[\u001b[0m\u001b[0;34m'VDVI'\u001b[0m\u001b[0;34m]\u001b[0m \u001b[0;34m+\u001b[0m \u001b[0;36m311.5\u001b[0m\u001b[0;34m\u001b[0m\u001b[0;34m\u001b[0m\u001b[0m\n\u001b[0m\u001b[1;32m      3\u001b[0m \u001b[0mx\u001b[0m \u001b[0;34m=\u001b[0m \u001b[0msns\u001b[0m\u001b[0;34m.\u001b[0m\u001b[0mlmplot\u001b[0m\u001b[0;34m(\u001b[0m\u001b[0mx\u001b[0m \u001b[0;34m=\u001b[0m \u001b[0;34m\"liveMass\"\u001b[0m\u001b[0;34m,\u001b[0m \u001b[0my\u001b[0m \u001b[0;34m=\u001b[0m \u001b[0;34m\"predicted\"\u001b[0m\u001b[0;34m,\u001b[0m \u001b[0mfit_reg\u001b[0m\u001b[0;34m=\u001b[0m\u001b[0;32mFalse\u001b[0m\u001b[0;34m,\u001b[0m \u001b[0mdata\u001b[0m\u001b[0;34m=\u001b[0m\u001b[0mtest\u001b[0m\u001b[0;34m)\u001b[0m\u001b[0;34m\u001b[0m\u001b[0;34m\u001b[0m\u001b[0m\n\u001b[1;32m      4\u001b[0m \u001b[0mx\u001b[0m\u001b[0;34m.\u001b[0m\u001b[0mset_axis_labels\u001b[0m\u001b[0;34m(\u001b[0m\u001b[0;34m\"Predicted biomass (g/$m^2$)\"\u001b[0m\u001b[0;34m,\u001b[0m \u001b[0;34m\"Observed biomass (g/$m^2$)\"\u001b[0m\u001b[0;34m)\u001b[0m\u001b[0;34m\u001b[0m\u001b[0;34m\u001b[0m\u001b[0m\n\u001b[1;32m      5\u001b[0m \u001b[0mx\u001b[0m\u001b[0;34m.\u001b[0m\u001b[0mset\u001b[0m\u001b[0;34m(\u001b[0m\u001b[0mylim\u001b[0m\u001b[0;34m=\u001b[0m\u001b[0;34m(\u001b[0m\u001b[0;36m0\u001b[0m\u001b[0;34m,\u001b[0m \u001b[0;32mNone\u001b[0m\u001b[0;34m)\u001b[0m\u001b[0;34m)\u001b[0m\u001b[0;34m\u001b[0m\u001b[0;34m\u001b[0m\u001b[0m\n",
      "\u001b[0;31mNameError\u001b[0m: name 'test' is not defined"
     ]
    }
   ],
   "source": [
    "##plot observed vs predicted\n",
    "test['predicted'] = 1809.7 * test['VDVI'] + 311.5\n",
    "x = sns.lmplot(x = \"liveMass\", y = \"predicted\", fit_reg=False, data=test)\n",
    "x.set_axis_labels(\"Predicted biomass (g/$m^2$)\", \"Observed biomass (g/$m^2$)\")\n",
    "x.set(ylim=(0, None))\n",
    "\n",
    "plt.plot([100, 700], [100, 700], '--')\n",
    "\n",
    "##RMSE\n",
    "actual = test['liveMass']\n",
    "predicted = test['predicted']\n",
    "\n",
    "mse = sklearn.metrics.mean_squared_error(actual, predicted)\n",
    "sqrt(mse)"
   ]
  },
  {
   "cell_type": "code",
   "execution_count": 15,
   "id": "accepting-traveler",
   "metadata": {},
   "outputs": [
    {
     "data": {
      "text/plain": [
       "0.2769120743079044"
      ]
     },
     "execution_count": 15,
     "metadata": {},
     "output_type": "execute_result"
    },
    {
     "data": {
      "image/png": "[encoded data removed]",
      "text/plain": [
       "<Figure size 360x360 with 1 Axes>"
      ]
     },
     "metadata": {
      "needs_background": "light"
     },
     "output_type": "display_data"
    }
   ],
   "source": [
    "##Plots - all data together (no train/test)\n",
    "g = sns.lmplot(x = \"VDVI\", y = \"liveMass\", ci = 95, data=masked_ndvi) ##CI seems a little too small?\n",
    "g.set_axis_labels(\"NDVI value\", \"Average biomass (g/$m^2$)\")\n",
    "g.set(ylim=(0, None))\n",
    "\n",
    "masked_ndvi['VDVI'].corr(masked_ndvi['liveMass'], method = 'pearson')\n",
    "\n",
    "#my_path = os.path.abspath('/Users/asariversjulien/Documents/Georgia/Project')\n",
    "#my_file = 'p1.png'\n",
    "#g.savefig(os.path.join(my_path, my_file), bbox_inches = 'tight')\n",
    "\n",
    "##FLOODED PLOTS. something to consider with image collection that you have\n",
    "##Error bars???"
   ]
  },
  {
   "cell_type": "code",
   "execution_count": 16,
   "id": "751575f0",
   "metadata": {},
   "outputs": [
    {
     "name": "stdout",
     "output_type": "stream",
     "text": [
      "Intercept     370.539827\n",
      "VDVI         1082.992397\n",
      "dtype: float64\n",
      "                            OLS Regression Results                            \n",
      "==============================================================================\n",
      "Dep. Variable:               liveMass   R-squared:                       0.077\n",
      "Model:                            OLS   Adj. R-squared:                  0.059\n",
      "Method:                 Least Squares   F-statistic:                     4.235\n",
      "Date:                Mon, 24 May 2021   Prob (F-statistic):             0.0447\n",
      "Time:                        10:38:42   Log-Likelihood:                -341.86\n",
      "No. Observations:                  53   AIC:                             687.7\n",
      "Df Residuals:                      51   BIC:                             691.7\n",
      "Df Model:                           1                                         \n",
      "Covariance Type:            nonrobust                                         \n",
      "==============================================================================\n",
      "                 coef    std err          t      P>|t|      [0.025      0.975]\n",
      "------------------------------------------------------------------------------\n",
      "Intercept    370.5398     55.264      6.705      0.000     259.593     481.486\n",
      "VDVI        1082.9924    526.229      2.058      0.045      26.544    2139.440\n",
      "==============================================================================\n",
      "Omnibus:                        2.675   Durbin-Watson:                   1.681\n",
      "Prob(Omnibus):                  0.262   Jarque-Bera (JB):                2.052\n",
      "Skew:                          -0.069   Prob(JB):                        0.358\n",
      "Kurtosis:                       3.954   Cond. No.                         24.8\n",
      "==============================================================================\n",
      "\n",
      "Notes:\n",
      "[1] Standard Errors assume that the covariance matrix of the errors is correctly specified.\n"
     ]
    }
   ],
   "source": [
    "result = sm.ols(formula=\"liveMass ~ VDVI\", data = masked_ndvi).fit()\n",
    "print(result.params)\n",
    "print(result.summary())"
   ]
  },
  {
   "cell_type": "code",
   "execution_count": 18,
   "id": "through-gender",
   "metadata": {},
   "outputs": [
    {
     "ename": "ValueError",
     "evalue": "Supply a 'c' argument or a 'color' kwarg but not both; they differ but their functionalities overlap.",
     "output_type": "error",
     "traceback": [
      "\u001b[0;31m---------------------------------------------------------------------------\u001b[0m",
      "\u001b[0;31mValueError\u001b[0m                                Traceback (most recent call last)",
      "\u001b[0;32m<ipython-input-18-601ab2dd737a>\u001b[0m in \u001b[0;36m<module>\u001b[0;34m\u001b[0m\n\u001b[1;32m      3\u001b[0m \u001b[0mg\u001b[0m \u001b[0;34m=\u001b[0m \u001b[0msns\u001b[0m\u001b[0;34m.\u001b[0m\u001b[0mFacetGrid\u001b[0m\u001b[0;34m(\u001b[0m\u001b[0mdf2\u001b[0m\u001b[0;34m,\u001b[0m \u001b[0mcol\u001b[0m\u001b[0;34m=\u001b[0m\u001b[0;34m\"siteName\"\u001b[0m\u001b[0;34m,\u001b[0m \u001b[0mcol_wrap\u001b[0m\u001b[0;34m=\u001b[0m\u001b[0;36m4\u001b[0m\u001b[0;34m,\u001b[0m  \u001b[0msharex\u001b[0m\u001b[0;34m=\u001b[0m\u001b[0;32mFalse\u001b[0m\u001b[0;34m)\u001b[0m\u001b[0;34m\u001b[0m\u001b[0;34m\u001b[0m\u001b[0m\n\u001b[1;32m      4\u001b[0m \u001b[0;31m#g = sns.FacetGrid(masked_ndvi[masked_ndvi['siteName'] == 'Box_Tree'], col=\"siteName\",  sharex=False)\u001b[0m\u001b[0;34m\u001b[0m\u001b[0;34m\u001b[0m\u001b[0;34m\u001b[0m\u001b[0m\n\u001b[0;32m----> 5\u001b[0;31m \u001b[0mg\u001b[0m \u001b[0;34m=\u001b[0m \u001b[0mg\u001b[0m\u001b[0;34m.\u001b[0m\u001b[0mmap\u001b[0m\u001b[0;34m(\u001b[0m\u001b[0mplt\u001b[0m\u001b[0;34m.\u001b[0m\u001b[0mscatter\u001b[0m\u001b[0;34m,\u001b[0m \u001b[0;34m'EOYBYear'\u001b[0m\u001b[0;34m,\u001b[0m \u001b[0;34m'liveMass'\u001b[0m\u001b[0;34m)\u001b[0m \u001b[0;31m##interesting patterns here!!\u001b[0m\u001b[0;34m\u001b[0m\u001b[0;34m\u001b[0m\u001b[0m\n\u001b[0m\u001b[1;32m      6\u001b[0m \u001b[0mg\u001b[0m\u001b[0;34m.\u001b[0m\u001b[0mset_axis_labels\u001b[0m\u001b[0;34m(\u001b[0m\u001b[0;34m\"Year\"\u001b[0m\u001b[0;34m,\u001b[0m \u001b[0;34m\"Biomass (g/$m^2$)\"\u001b[0m\u001b[0;34m)\u001b[0m\u001b[0;34m\u001b[0m\u001b[0;34m\u001b[0m\u001b[0m\n\u001b[1;32m      7\u001b[0m \u001b[0;31m##Boxtree/Cushmans/Hog/Oyster = steady decrease in biomass over time\u001b[0m\u001b[0;34m\u001b[0m\u001b[0;34m\u001b[0m\u001b[0;34m\u001b[0m\u001b[0m\n",
      "\u001b[0;32m~/PhD/venv/lib/python3.9/site-packages/seaborn/axisgrid.py\u001b[0m in \u001b[0;36mmap\u001b[0;34m(self, func, *args, **kwargs)\u001b[0m\n\u001b[1;32m    681\u001b[0m \u001b[0;34m\u001b[0m\u001b[0m\n\u001b[1;32m    682\u001b[0m             \u001b[0;31m# Draw the plot\u001b[0m\u001b[0;34m\u001b[0m\u001b[0;34m\u001b[0m\u001b[0;34m\u001b[0m\u001b[0m\n\u001b[0;32m--> 683\u001b[0;31m             \u001b[0mself\u001b[0m\u001b[0;34m.\u001b[0m\u001b[0m_facet_plot\u001b[0m\u001b[0;34m(\u001b[0m\u001b[0mfunc\u001b[0m\u001b[0;34m,\u001b[0m \u001b[0max\u001b[0m\u001b[0;34m,\u001b[0m \u001b[0mplot_args\u001b[0m\u001b[0;34m,\u001b[0m \u001b[0mkwargs\u001b[0m\u001b[0;34m)\u001b[0m\u001b[0;34m\u001b[0m\u001b[0;34m\u001b[0m\u001b[0m\n\u001b[0m\u001b[1;32m    684\u001b[0m \u001b[0;34m\u001b[0m\u001b[0m\n\u001b[1;32m    685\u001b[0m         \u001b[0;31m# Finalize the annotations and layout\u001b[0m\u001b[0;34m\u001b[0m\u001b[0;34m\u001b[0m\u001b[0;34m\u001b[0m\u001b[0m\n",
      "\u001b[0;32m~/PhD/venv/lib/python3.9/site-packages/seaborn/axisgrid.py\u001b[0m in \u001b[0;36m_facet_plot\u001b[0;34m(self, func, ax, plot_args, plot_kwargs)\u001b[0m\n\u001b[1;32m    773\u001b[0m             \u001b[0mplot_args\u001b[0m \u001b[0;34m=\u001b[0m \u001b[0;34m[\u001b[0m\u001b[0;34m]\u001b[0m\u001b[0;34m\u001b[0m\u001b[0;34m\u001b[0m\u001b[0m\n\u001b[1;32m    774\u001b[0m             \u001b[0mplot_kwargs\u001b[0m\u001b[0;34m[\u001b[0m\u001b[0;34m\"ax\"\u001b[0m\u001b[0;34m]\u001b[0m \u001b[0;34m=\u001b[0m \u001b[0max\u001b[0m\u001b[0;34m\u001b[0m\u001b[0;34m\u001b[0m\u001b[0m\n\u001b[0;32m--> 775\u001b[0;31m         \u001b[0mfunc\u001b[0m\u001b[0;34m(\u001b[0m\u001b[0;34m*\u001b[0m\u001b[0mplot_args\u001b[0m\u001b[0;34m,\u001b[0m \u001b[0;34m**\u001b[0m\u001b[0mplot_kwargs\u001b[0m\u001b[0;34m)\u001b[0m\u001b[0;34m\u001b[0m\u001b[0;34m\u001b[0m\u001b[0m\n\u001b[0m\u001b[1;32m    776\u001b[0m \u001b[0;34m\u001b[0m\u001b[0m\n\u001b[1;32m    777\u001b[0m         \u001b[0;31m# Sort out the supporting information\u001b[0m\u001b[0;34m\u001b[0m\u001b[0;34m\u001b[0m\u001b[0;34m\u001b[0m\u001b[0m\n",
      "\u001b[0;32m~/PhD/venv/lib/python3.9/site-packages/matplotlib/pyplot.py\u001b[0m in \u001b[0;36mscatter\u001b[0;34m(x, y, s, c, marker, cmap, norm, vmin, vmax, alpha, linewidths, edgecolors, plotnonfinite, data, **kwargs)\u001b[0m\n\u001b[1;32m   3035\u001b[0m         \u001b[0mvmin\u001b[0m\u001b[0;34m=\u001b[0m\u001b[0;32mNone\u001b[0m\u001b[0;34m,\u001b[0m \u001b[0mvmax\u001b[0m\u001b[0;34m=\u001b[0m\u001b[0;32mNone\u001b[0m\u001b[0;34m,\u001b[0m \u001b[0malpha\u001b[0m\u001b[0;34m=\u001b[0m\u001b[0;32mNone\u001b[0m\u001b[0;34m,\u001b[0m \u001b[0mlinewidths\u001b[0m\u001b[0;34m=\u001b[0m\u001b[0;32mNone\u001b[0m\u001b[0;34m,\u001b[0m \u001b[0;34m*\u001b[0m\u001b[0;34m,\u001b[0m\u001b[0;34m\u001b[0m\u001b[0;34m\u001b[0m\u001b[0m\n\u001b[1;32m   3036\u001b[0m         edgecolors=None, plotnonfinite=False, data=None, **kwargs):\n\u001b[0;32m-> 3037\u001b[0;31m     __ret = gca().scatter(\n\u001b[0m\u001b[1;32m   3038\u001b[0m         \u001b[0mx\u001b[0m\u001b[0;34m,\u001b[0m \u001b[0my\u001b[0m\u001b[0;34m,\u001b[0m \u001b[0ms\u001b[0m\u001b[0;34m=\u001b[0m\u001b[0ms\u001b[0m\u001b[0;34m,\u001b[0m \u001b[0mc\u001b[0m\u001b[0;34m=\u001b[0m\u001b[0mc\u001b[0m\u001b[0;34m,\u001b[0m \u001b[0mmarker\u001b[0m\u001b[0;34m=\u001b[0m\u001b[0mmarker\u001b[0m\u001b[0;34m,\u001b[0m \u001b[0mcmap\u001b[0m\u001b[0;34m=\u001b[0m\u001b[0mcmap\u001b[0m\u001b[0;34m,\u001b[0m \u001b[0mnorm\u001b[0m\u001b[0;34m=\u001b[0m\u001b[0mnorm\u001b[0m\u001b[0;34m,\u001b[0m\u001b[0;34m\u001b[0m\u001b[0;34m\u001b[0m\u001b[0m\n\u001b[1;32m   3039\u001b[0m         \u001b[0mvmin\u001b[0m\u001b[0;34m=\u001b[0m\u001b[0mvmin\u001b[0m\u001b[0;34m,\u001b[0m \u001b[0mvmax\u001b[0m\u001b[0;34m=\u001b[0m\u001b[0mvmax\u001b[0m\u001b[0;34m,\u001b[0m \u001b[0malpha\u001b[0m\u001b[0;34m=\u001b[0m\u001b[0malpha\u001b[0m\u001b[0;34m,\u001b[0m \u001b[0mlinewidths\u001b[0m\u001b[0;34m=\u001b[0m\u001b[0mlinewidths\u001b[0m\u001b[0;34m,\u001b[0m\u001b[0;34m\u001b[0m\u001b[0;34m\u001b[0m\u001b[0m\n",
      "\u001b[0;32m~/PhD/venv/lib/python3.9/site-packages/matplotlib/__init__.py\u001b[0m in \u001b[0;36minner\u001b[0;34m(ax, data, *args, **kwargs)\u001b[0m\n\u001b[1;32m   1350\u001b[0m     \u001b[0;32mdef\u001b[0m \u001b[0minner\u001b[0m\u001b[0;34m(\u001b[0m\u001b[0max\u001b[0m\u001b[0;34m,\u001b[0m \u001b[0;34m*\u001b[0m\u001b[0margs\u001b[0m\u001b[0;34m,\u001b[0m \u001b[0mdata\u001b[0m\u001b[0;34m=\u001b[0m\u001b[0;32mNone\u001b[0m\u001b[0;34m,\u001b[0m \u001b[0;34m**\u001b[0m\u001b[0mkwargs\u001b[0m\u001b[0;34m)\u001b[0m\u001b[0;34m:\u001b[0m\u001b[0;34m\u001b[0m\u001b[0;34m\u001b[0m\u001b[0m\n\u001b[1;32m   1351\u001b[0m         \u001b[0;32mif\u001b[0m \u001b[0mdata\u001b[0m \u001b[0;32mis\u001b[0m \u001b[0;32mNone\u001b[0m\u001b[0;34m:\u001b[0m\u001b[0;34m\u001b[0m\u001b[0;34m\u001b[0m\u001b[0m\n\u001b[0;32m-> 1352\u001b[0;31m             \u001b[0;32mreturn\u001b[0m \u001b[0mfunc\u001b[0m\u001b[0;34m(\u001b[0m\u001b[0max\u001b[0m\u001b[0;34m,\u001b[0m \u001b[0;34m*\u001b[0m\u001b[0mmap\u001b[0m\u001b[0;34m(\u001b[0m\u001b[0msanitize_sequence\u001b[0m\u001b[0;34m,\u001b[0m \u001b[0margs\u001b[0m\u001b[0;34m)\u001b[0m\u001b[0;34m,\u001b[0m \u001b[0;34m**\u001b[0m\u001b[0mkwargs\u001b[0m\u001b[0;34m)\u001b[0m\u001b[0;34m\u001b[0m\u001b[0;34m\u001b[0m\u001b[0m\n\u001b[0m\u001b[1;32m   1353\u001b[0m \u001b[0;34m\u001b[0m\u001b[0m\n\u001b[1;32m   1354\u001b[0m         \u001b[0mbound\u001b[0m \u001b[0;34m=\u001b[0m \u001b[0mnew_sig\u001b[0m\u001b[0;34m.\u001b[0m\u001b[0mbind\u001b[0m\u001b[0;34m(\u001b[0m\u001b[0max\u001b[0m\u001b[0;34m,\u001b[0m \u001b[0;34m*\u001b[0m\u001b[0margs\u001b[0m\u001b[0;34m,\u001b[0m \u001b[0;34m**\u001b[0m\u001b[0mkwargs\u001b[0m\u001b[0;34m)\u001b[0m\u001b[0;34m\u001b[0m\u001b[0;34m\u001b[0m\u001b[0m\n",
      "\u001b[0;32m~/PhD/venv/lib/python3.9/site-packages/matplotlib/axes/_axes.py\u001b[0m in \u001b[0;36mscatter\u001b[0;34m(self, x, y, s, c, marker, cmap, norm, vmin, vmax, alpha, linewidths, edgecolors, plotnonfinite, **kwargs)\u001b[0m\n\u001b[1;32m   4494\u001b[0m             \u001b[0morig_edgecolor\u001b[0m \u001b[0;34m=\u001b[0m \u001b[0mkwargs\u001b[0m\u001b[0;34m.\u001b[0m\u001b[0mget\u001b[0m\u001b[0;34m(\u001b[0m\u001b[0;34m'edgecolor'\u001b[0m\u001b[0;34m,\u001b[0m \u001b[0;32mNone\u001b[0m\u001b[0;34m)\u001b[0m\u001b[0;34m\u001b[0m\u001b[0;34m\u001b[0m\u001b[0m\n\u001b[1;32m   4495\u001b[0m         \u001b[0mc\u001b[0m\u001b[0;34m,\u001b[0m \u001b[0mcolors\u001b[0m\u001b[0;34m,\u001b[0m \u001b[0medgecolors\u001b[0m \u001b[0;34m=\u001b[0m\u001b[0;31m \u001b[0m\u001b[0;31m\\\u001b[0m\u001b[0;34m\u001b[0m\u001b[0;34m\u001b[0m\u001b[0m\n\u001b[0;32m-> 4496\u001b[0;31m             self._parse_scatter_color_args(\n\u001b[0m\u001b[1;32m   4497\u001b[0m                 \u001b[0mc\u001b[0m\u001b[0;34m,\u001b[0m \u001b[0medgecolors\u001b[0m\u001b[0;34m,\u001b[0m \u001b[0mkwargs\u001b[0m\u001b[0;34m,\u001b[0m \u001b[0mx\u001b[0m\u001b[0;34m.\u001b[0m\u001b[0msize\u001b[0m\u001b[0;34m,\u001b[0m\u001b[0;34m\u001b[0m\u001b[0;34m\u001b[0m\u001b[0m\n\u001b[1;32m   4498\u001b[0m                 get_next_color_func=self._get_patches_for_fill.get_next_color)\n",
      "\u001b[0;32m~/PhD/venv/lib/python3.9/site-packages/matplotlib/axes/_axes.py\u001b[0m in \u001b[0;36m_parse_scatter_color_args\u001b[0;34m(c, edgecolors, kwargs, xsize, get_next_color_func)\u001b[0m\n\u001b[1;32m   4261\u001b[0m \u001b[0;34m\u001b[0m\u001b[0m\n\u001b[1;32m   4262\u001b[0m         \u001b[0;32mif\u001b[0m \u001b[0mkwcolor\u001b[0m \u001b[0;32mis\u001b[0m \u001b[0;32mnot\u001b[0m \u001b[0;32mNone\u001b[0m \u001b[0;32mand\u001b[0m \u001b[0mc\u001b[0m \u001b[0;32mis\u001b[0m \u001b[0;32mnot\u001b[0m \u001b[0;32mNone\u001b[0m\u001b[0;34m:\u001b[0m\u001b[0;34m\u001b[0m\u001b[0;34m\u001b[0m\u001b[0m\n\u001b[0;32m-> 4263\u001b[0;31m             raise ValueError(\"Supply a 'c' argument or a 'color'\"\n\u001b[0m\u001b[1;32m   4264\u001b[0m                              \u001b[0;34m\" kwarg but not both; they differ but\"\u001b[0m\u001b[0;34m\u001b[0m\u001b[0;34m\u001b[0m\u001b[0m\n\u001b[1;32m   4265\u001b[0m                              \" their functionalities overlap.\")\n",
      "\u001b[0;31mValueError\u001b[0m: Supply a 'c' argument or a 'color' kwarg but not both; they differ but their functionalities overlap."
     ]
    },
    {
     "data": {
      "image/png": "[encoded data removed]",
      "text/plain": [
       "<Figure size 864x216 with 3 Axes>"
      ]
     },
     "metadata": {
      "needs_background": "light"
     },
     "output_type": "display_data"
    }
   ],
   "source": [
    "site_list = ['Box_Tree', 'Gator', 'Oyster']\n",
    "df2 = mn_siteyears[mn_siteyears['siteName'].isin(site_list)]\n",
    "g = sns.FacetGrid(df2, col=\"siteName\", col_wrap=4,  sharex=False)\n",
    "#g = sns.FacetGrid(masked_ndvi[masked_ndvi['siteName'] == 'Box_Tree'], col=\"siteName\",  sharex=False)\n",
    "g = g.map(plt.scatter, 'EOYBYear', 'liveMass') ##interesting patterns here!!\n",
    "g.set_axis_labels(\"Year\", \"Biomass (g/$m^2$)\")\n",
    "##Boxtree/Cushmans/Hog/Oyster = steady decrease in biomass over time\n",
    "##Gator cyclical. Steelmans the only site that increased, but low N"
   ]
  },
  {
   "cell_type": "code",
   "execution_count": 69,
   "id": "35272004",
   "metadata": {},
   "outputs": [
    {
     "data": {
      "image/png": "[encoded data removed]",
      "text/plain": [
       "<Figure size 864x432 with 8 Axes>"
      ]
     },
     "metadata": {
      "needs_background": "light"
     },
     "output_type": "display_data"
    }
   ],
   "source": [
    "x_x = sns.FacetGrid(df2, col=\"siteName\", col_wrap=4,  sharex=False)\n",
    "g_x = x_x.map(plt.scatter, 'year', 'ndvi')"
   ]
  },
  {
   "cell_type": "code",
   "execution_count": 15,
   "id": "be108aba",
   "metadata": {},
   "outputs": [
    {
     "data": {
      "image/png": "[encoded data removed]",
      "text/plain": [
       "<Figure size 1728x216 with 8 Axes>"
      ]
     },
     "metadata": {
      "needs_background": "light"
     },
     "output_type": "display_data"
    }
   ],
   "source": [
    "y_y = sns.FacetGrid(df2, col=\"siteName\",  sharex=False) ##the way I'm doing things, ndvi bad predictor!!\n",
    "g_y = y_y.map(plt.scatter, 'ndvi', 'liveMass')"
   ]
  },
  {
   "cell_type": "code",
   "execution_count": 26,
   "id": "f2b36d93",
   "metadata": {},
   "outputs": [
    {
     "name": "stdout",
     "output_type": "stream",
     "text": [
      "hi\n"
     ]
    }
   ],
   "source": [
    "print(\"hi\")"
   ]
  }
 ],
 "metadata": {
  "kernelspec": {
   "display_name": "feesh",
   "language": "python",
   "name": "feesh"
  },
  "language_info": {
   "codemirror_mode": {
    "name": "ipython",
    "version": 3
   },
   "file_extension": ".py",
   "mimetype": "text/x-python",
   "name": "python",
   "nbconvert_exporter": "python",
   "pygments_lexer": "ipython3",
   "version": "3.9.4"
  }
 },
 "nbformat": 4,
 "nbformat_minor": 5
}
