{
 "cells": [
  {
   "cell_type": "code",
   "execution_count": 7,
   "id": "392a467a",
   "metadata": {},
   "outputs": [],
   "source": [
    "import geemap\n",
    "import ee\n",
    "import os\n",
    "import pandas as pd\n",
    "import rasterio\n",
    "import geopandas as gpd\n",
    "import rasterstats\n",
    "import fiona"
   ]
  },
  {
   "cell_type": "code",
   "execution_count": 8,
   "id": "5ba71187",
   "metadata": {},
   "outputs": [],
   "source": [
    "#ee.Authenticate()\n",
    "# geemap.update_package()"
   ]
  },
  {
   "cell_type": "code",
   "execution_count": 9,
   "id": "f1c45040",
   "metadata": {},
   "outputs": [
    {
     "data": {
      "application/vnd.jupyter.widget-view+json": {
       "model_id": "097c83b6ea6d4d888515be4e7f520f80",
       "version_major": 2,
       "version_minor": 0
      },
      "text/plain": [
       "Map(center=[40, -100], controls=(WidgetControl(options=['position', 'transparent_bg'], widget=HBox(children=(T…"
      ]
     },
     "metadata": {},
     "output_type": "display_data"
    }
   ],
   "source": [
    "#list of plots in GA LTER dataset (not including broad creek)\n",
    "\n",
    "ee.Initialize()\n",
    "\n",
    "Map = geemap.Map()\n",
    "Map"
   ]
  },
  {
   "cell_type": "code",
   "execution_count": 10,
   "id": "51918d08",
   "metadata": {},
   "outputs": [],
   "source": [
    "##Loading CSVs\n",
    "##PC\n",
    "in_csv = 'C:/Users/arj26323/Documents/Data/Biomass datasets/BMA.csv'\n",
    "df = geemap.csv_to_pandas(in_csv)\n",
    "df = df [['Date', 'Longitude', 'Latitude']]\n",
    "\n",
    "##Load feature class\n",
    "##PC\n",
    "df_fc = 'C:/Users/arj26323/Documents/Data/Biomass datasets/BMA_fc.csv' ##Can only be done once file created; see below\n",
    "\n",
    "bma_points = geemap.xy_to_points(df_fc, latitude = 'Latitude', longitude = 'Longitude')\n",
    "Map.addLayer(bma_points, {}, 'BMA sampling locations')"
   ]
  },
  {
   "cell_type": "code",
   "execution_count": 11,
   "id": "47cf5217",
   "metadata": {},
   "outputs": [
    {
     "name": "stdout",
     "output_type": "stream",
     "text": [
      "      Date  Longitude   Latitude\n",
      "0   29-Sep -81.289612  31.420226\n",
      "1   29-Sep -81.289615  31.420161\n",
      "2   29-Sep -81.289577  31.420091\n",
      "3   29-Sep -81.289622  31.420043\n",
      "4   29-Sep -81.289572  31.419946\n",
      "..     ...        ...        ...\n",
      "95  21-May -81.285426  31.390442\n",
      "96  21-May -81.285451  31.390501\n",
      "97  21-May -81.285515  31.390622\n",
      "98  21-May -81.285523  31.390656\n",
      "99  21-May -81.285584  31.390643\n",
      "\n",
      "[100 rows x 3 columns]\n"
     ]
    }
   ],
   "source": [
    "print(df)\n",
    "# print(df.dtypes)"
   ]
  },
  {
   "cell_type": "code",
   "execution_count": 12,
   "id": "85566697",
   "metadata": {},
   "outputs": [
    {
     "data": {
      "application/vnd.jupyter.widget-view+json": {
       "model_id": "789f80e6e67644b7bebbc9f1c618ed47",
       "version_major": 2,
       "version_minor": 0
      },
      "text/plain": [
       "Url()"
      ]
     },
     "metadata": {},
     "output_type": "display_data"
    }
   ],
   "source": [
    "##Load planetdata geotiff imagery\n",
    "##PC\n",
    "dean_may = r'E:/BMA planet data/21_May_2021/files/20210521_151835_36_2444_3B_AnalyticMS_SR_clip.tif'\n",
    "dean_mar_a = r'E:/BMA planet data/22_Mar_2021/files/20210322_154607_103c_3B_AnalyticMS_SR_clip.tif'\n",
    "dean_mar_b = r'E:/BMA planet data/22_Mar_2021/files/20210322_154608_103c_3B_AnalyticMS_SR_clip.tif'\n",
    "dean_sep30_a = r'E:/BMA planet data/22_Mar_2021/files/20200930_154455_1011_3B_AnalyticMS_SR_clip.tif'\n",
    "dean_sep30_b = r'E:/BMA planet data/22_Mar_2021/files/20200930_154456_1011_3B_AnalyticMS_SR_clip.tif'\n",
    "\n",
    "dean_x = ee.Image(dean_may)\n",
    "\n",
    "ls_x = r'C:/Users/arj26323/Downloads/landsat.tif'\n",
    "\n",
    "Map.add_raster(dean_may, bands = [3, 2, 1], layer_name='May 2021') ##Not working-doesn't work if you manually load it either"
   ]
  },
  {
   "cell_type": "code",
   "execution_count": 13,
   "id": "77fe0d87",
   "metadata": {},
   "outputs": [
    {
     "data": {
      "text/plain": [
       "<ee.image.Image at 0x1aa7c83acd0>"
      ]
     },
     "execution_count": 13,
     "metadata": {},
     "output_type": "execute_result"
    }
   ],
   "source": [
    "dean_x"
   ]
  },
  {
   "cell_type": "code",
   "execution_count": 14,
   "id": "de66c7fb",
   "metadata": {},
   "outputs": [
    {
     "name": "stdout",
     "output_type": "stream",
     "text": [
      "      Date  Longitude   Latitude\n",
      "0   29-Sep -81.289612  31.420226\n",
      "1   29-Sep -81.289615  31.420161\n",
      "2   29-Sep -81.289577  31.420091\n",
      "3   29-Sep -81.289622  31.420043\n",
      "4   29-Sep -81.289572  31.419946\n",
      "..     ...        ...        ...\n",
      "95  21-May -81.285426  31.390442\n",
      "96  21-May -81.285451  31.390501\n",
      "97  21-May -81.285515  31.390622\n",
      "98  21-May -81.285523  31.390656\n",
      "99  21-May -81.285584  31.390643\n",
      "\n",
      "[100 rows x 3 columns]\n"
     ]
    }
   ],
   "source": [
    "##Export CSV file - to then load as feature class\n",
    "in_fc = df\n",
    "out_dir = os.path.expanduser('~/Documents/Data/Biomass datasets')\n",
    "out_csv = os.path.join(out_dir, 'BMA_fc.csv')\n",
    "#df.to_csv('~/Documents/Data/Biomass datasets/BMA_fc.csv', index = False)\n",
    "print(df)"
   ]
  },
  {
   "cell_type": "code",
   "execution_count": 40,
   "id": "bb31ef5b",
   "metadata": {},
   "outputs": [
    {
     "name": "stdout",
     "output_type": "stream",
     "text": [
      "EPSG:32617\n",
      "4\n"
     ]
    },
    {
     "data": {
      "text/html": [
       "<div>\n",
       "<style scoped>\n",
       "    .dataframe tbody tr th:only-of-type {\n",
       "        vertical-align: middle;\n",
       "    }\n",
       "\n",
       "    .dataframe tbody tr th {\n",
       "        vertical-align: top;\n",
       "    }\n",
       "\n",
       "    .dataframe thead th {\n",
       "        text-align: right;\n",
       "    }\n",
       "</style>\n",
       "<table border=\"1\" class=\"dataframe\">\n",
       "  <thead>\n",
       "    <tr style=\"text-align: right;\">\n",
       "      <th></th>\n",
       "      <th>Latitude</th>\n",
       "      <th>Longitude</th>\n",
       "      <th>Date</th>\n",
       "      <th>geometry</th>\n",
       "      <th>Raster Value</th>\n",
       "    </tr>\n",
       "  </thead>\n",
       "  <tbody>\n",
       "    <tr>\n",
       "      <th>0</th>\n",
       "      <td>31.420226</td>\n",
       "      <td>-81.289612</td>\n",
       "      <td>29-Sep</td>\n",
       "      <td>POINT (-81.28961 31.42023)</td>\n",
       "      <td>0</td>\n",
       "    </tr>\n",
       "    <tr>\n",
       "      <th>1</th>\n",
       "      <td>31.420161</td>\n",
       "      <td>-81.289615</td>\n",
       "      <td>29-Sep</td>\n",
       "      <td>POINT (-81.28962 31.42016)</td>\n",
       "      <td>0</td>\n",
       "    </tr>\n",
       "    <tr>\n",
       "      <th>2</th>\n",
       "      <td>31.420091</td>\n",
       "      <td>-81.289577</td>\n",
       "      <td>29-Sep</td>\n",
       "      <td>POINT (-81.28958 31.42009)</td>\n",
       "      <td>0</td>\n",
       "    </tr>\n",
       "    <tr>\n",
       "      <th>3</th>\n",
       "      <td>31.420043</td>\n",
       "      <td>-81.289622</td>\n",
       "      <td>29-Sep</td>\n",
       "      <td>POINT (-81.28962 31.42004)</td>\n",
       "      <td>0</td>\n",
       "    </tr>\n",
       "    <tr>\n",
       "      <th>4</th>\n",
       "      <td>31.419946</td>\n",
       "      <td>-81.289572</td>\n",
       "      <td>29-Sep</td>\n",
       "      <td>POINT (-81.28957 31.41995)</td>\n",
       "      <td>0</td>\n",
       "    </tr>\n",
       "    <tr>\n",
       "      <th>...</th>\n",
       "      <td>...</td>\n",
       "      <td>...</td>\n",
       "      <td>...</td>\n",
       "      <td>...</td>\n",
       "      <td>...</td>\n",
       "    </tr>\n",
       "    <tr>\n",
       "      <th>95</th>\n",
       "      <td>31.390442</td>\n",
       "      <td>-81.285426</td>\n",
       "      <td>21-May</td>\n",
       "      <td>POINT (-81.28543 31.39044)</td>\n",
       "      <td>0</td>\n",
       "    </tr>\n",
       "    <tr>\n",
       "      <th>96</th>\n",
       "      <td>31.390501</td>\n",
       "      <td>-81.285451</td>\n",
       "      <td>21-May</td>\n",
       "      <td>POINT (-81.28545 31.39050)</td>\n",
       "      <td>0</td>\n",
       "    </tr>\n",
       "    <tr>\n",
       "      <th>97</th>\n",
       "      <td>31.390622</td>\n",
       "      <td>-81.285515</td>\n",
       "      <td>21-May</td>\n",
       "      <td>POINT (-81.28551 31.39062)</td>\n",
       "      <td>0</td>\n",
       "    </tr>\n",
       "    <tr>\n",
       "      <th>98</th>\n",
       "      <td>31.390656</td>\n",
       "      <td>-81.285523</td>\n",
       "      <td>21-May</td>\n",
       "      <td>POINT (-81.28552 31.39066)</td>\n",
       "      <td>0</td>\n",
       "    </tr>\n",
       "    <tr>\n",
       "      <th>99</th>\n",
       "      <td>31.390643</td>\n",
       "      <td>-81.285584</td>\n",
       "      <td>21-May</td>\n",
       "      <td>POINT (-81.28558 31.39064)</td>\n",
       "      <td>0</td>\n",
       "    </tr>\n",
       "  </tbody>\n",
       "</table>\n",
       "<p>100 rows × 5 columns</p>\n",
       "</div>"
      ],
      "text/plain": [
       "     Latitude  Longitude    Date                    geometry  Raster Value\n",
       "0   31.420226 -81.289612  29-Sep  POINT (-81.28961 31.42023)             0\n",
       "1   31.420161 -81.289615  29-Sep  POINT (-81.28962 31.42016)             0\n",
       "2   31.420091 -81.289577  29-Sep  POINT (-81.28958 31.42009)             0\n",
       "3   31.420043 -81.289622  29-Sep  POINT (-81.28962 31.42004)             0\n",
       "4   31.419946 -81.289572  29-Sep  POINT (-81.28957 31.41995)             0\n",
       "..        ...        ...     ...                         ...           ...\n",
       "95  31.390442 -81.285426  21-May  POINT (-81.28543 31.39044)             0\n",
       "96  31.390501 -81.285451  21-May  POINT (-81.28545 31.39050)             0\n",
       "97  31.390622 -81.285515  21-May  POINT (-81.28551 31.39062)             0\n",
       "98  31.390656 -81.285523  21-May  POINT (-81.28552 31.39066)             0\n",
       "99  31.390643 -81.285584  21-May  POINT (-81.28558 31.39064)             0\n",
       "\n",
       "[100 rows x 5 columns]"
      ]
     },
     "execution_count": 40,
     "metadata": {},
     "output_type": "execute_result"
    }
   ],
   "source": [
    "##Using geopandas and rasterio to extract point data\n",
    "##need to fix projection issue\n",
    "pts = gpd.read_file('C:/Users/arj26323/Documents/Data/Biomass datasets/Shapefiles/yyy.shp')\n",
    "\n",
    "pts = pts[['Latitude', 'Longitude', 'Date', 'geometry']]\n",
    "\n",
    "pts.index = range(len(pts))\n",
    "coords = [(x,y) for x, y in zip(pts.Latitude, pts.Longitude)]\n",
    "\n",
    "src = rasterio.open(dean_may)\n",
    "print(src.crs) ##In UTM! Might explain the discrepancy vs epsg 4326 in shapefile\n",
    "print(src.count) ##Number of bands\n",
    "\n",
    "pts['Raster Value'] = [x[0] for x in src.sample(coords)]\n",
    "\n",
    "from rasterio.plot import show\n",
    "import matplotlib.pyplot as plt\n",
    "# show(src)\n",
    "\n",
    "pts\n",
    "\n",
    "##another way using rasterstats\n",
    "# from rasterstats import point_query\n",
    "# pts_new = point_query(pts, dean_may)\n",
    "# pts['Band values'] = pts_new\n",
    "\n",
    "pts"
   ]
  },
  {
   "cell_type": "code",
   "execution_count": 37,
   "id": "3a8a28b8",
   "metadata": {},
   "outputs": [
    {
     "name": "stderr",
     "output_type": "stream",
     "text": [
      "Clipping input data to the valid range for imshow with RGB data ([0..1] for floats or [0..255] for integers).\n"
     ]
    },
    {
     "name": "stdout",
     "output_type": "stream",
     "text": [
      "-81.28961199999998 31.420225600000038\n",
      "-81.28961519999996 31.420161000000064\n",
      "-81.28957699999995 31.420091300000024\n",
      "-81.28962209999997 31.42004330000003\n",
      "-81.28957219999995 31.419945900000073\n",
      "-81.28982549999995 31.41956250000004\n",
      "-81.28985929999999 31.41954480000004\n",
      "-81.28983519999997 31.419522700000073\n",
      "-81.28979819999995 31.419490100000075\n",
      "-81.28974809999994 31.41962120000005\n",
      "-81.29079839999997 31.420470100000045\n",
      "-81.29081369999994 31.420484500000043\n",
      "-81.29089199999999 31.420511300000044\n",
      "-81.29090079999997 31.420522900000037\n",
      "-81.29096069999997 31.420575000000042\n",
      "-81.29244219999998 31.420443100000057\n",
      "-81.29246509999996 31.420408200000054\n",
      "-81.29249769999996 31.420384300000023\n",
      "-81.29255019999994 31.420353800000044\n",
      "-81.29257439999998 31.420356800000036\n",
      "-81.29177279999999 31.42015200000003\n",
      "-81.29178409999997 31.42012820000008\n",
      "-81.29178509999997 31.420096200000046\n",
      "-81.29180329999997 31.420083500000032\n",
      "-81.29180359999998 31.420059200000026\n",
      "-81.28961199999998 31.420225600000038\n",
      "-81.28961519999996 31.420161000000064\n",
      "-81.28957699999995 31.420091300000024\n",
      "-81.28962209999997 31.42004330000003\n",
      "-81.28957219999995 31.419945900000073\n",
      "-81.28982549999995 31.41956250000004\n",
      "-81.28985929999999 31.41954480000004\n",
      "-81.28983519999997 31.419522700000073\n",
      "-81.28979819999995 31.419490100000075\n",
      "-81.28974809999994 31.41962120000005\n",
      "-81.29079839999997 31.420470100000045\n",
      "-81.29081369999994 31.420484500000043\n",
      "-81.29089199999999 31.420511300000044\n",
      "-81.29090079999997 31.420522900000037\n",
      "-81.29096069999997 31.420575000000042\n",
      "-81.29244219999998 31.420443100000057\n",
      "-81.29246509999996 31.420408200000054\n",
      "-81.29249769999996 31.420384300000023\n",
      "-81.29255019999994 31.420353800000044\n",
      "-81.29257439999998 31.420356800000036\n",
      "-81.29177279999999 31.42015200000003\n",
      "-81.29178409999997 31.42012820000008\n",
      "-81.29178509999997 31.420096200000046\n",
      "-81.29180329999997 31.420083500000032\n",
      "-81.29180359999998 31.420059200000026\n",
      "-81.27760095999997 31.389999330000023\n",
      "-81.27757823999997 31.38999468000003\n",
      "-81.27756033999998 31.38998729000008\n",
      "-81.27754687999999 31.389977430000044\n",
      "-81.27751248999994 31.389959280000028\n",
      "-81.28225424999994 31.389915950000045\n",
      "-81.28224480999995 31.389910280000038\n",
      "-81.28221787999996 31.38990190000004\n",
      "-81.28219286999996 31.38988382000008\n",
      "-81.28221170999996 31.389862330000028\n",
      "-81.27838928999995 31.39008596000008\n",
      "-81.27841554999998 31.390073220000033\n",
      "-81.27843722999995 31.390082780000057\n",
      "-81.27846622999994 31.390073620000067\n",
      "-81.27847664999996 31.39007993000007\n",
      "-81.27840802999998 31.389747630000045\n",
      "-81.27840166999994 31.389733050000075\n",
      "-81.27840149999997 31.389722350000056\n",
      "-81.27839778999999 31.389702680000028\n",
      "-81.27839512999998 31.38969171000008\n",
      "-81.27765414999999 31.38980023000005\n",
      "-81.27768713999995 31.38974213000006\n",
      "-81.27766271999997 31.389780700000074\n",
      "-81.27764268999994 31.389658320000024\n",
      "-81.27765990999995 31.389629760000048\n",
      "-81.28510289999997 31.39042335000005\n",
      "-81.28511672999997 31.39039162000006\n",
      "-81.28516193999997 31.39013766000005\n",
      "-81.28517547999996 31.390110940000056\n",
      "-81.28515727999996 31.390069030000063\n",
      "-81.28405491999996 31.38983827000004\n",
      "-81.28402002999997 31.389835680000033\n",
      "-81.28404313999994 31.38986021000005\n",
      "-81.28399528999995 31.389876540000046\n",
      "-81.28392667999998 31.389852830000052\n",
      "-81.28622469999993 31.39070231000005\n",
      "-81.28628419999995 31.390721840000026\n",
      "-81.28630048999997 31.390728400000057\n",
      "-81.28634182999997 31.39077959000008\n",
      "-81.28641871999997 31.390743490000034\n",
      "-81.28725588999998 31.390844850000065\n",
      "-81.28724529999994 31.39086560000004\n",
      "-81.28717222999995 31.390838890000055\n",
      "-81.28718390999995 31.39085711000007\n",
      "-81.28717629999994 31.39088619000006\n",
      "-81.28542550999998 31.390442050000047\n",
      "-81.28545092999997 31.390500880000047\n",
      "-81.28551476999996 31.390622420000057\n",
      "-81.28552274999998 31.390656440000043\n",
      "-81.28558406999997 31.390642890000038\n"
     ]
    },
    {
     "ename": "NameError",
     "evalue": "name 'row' is not defined",
     "output_type": "error",
     "traceback": [
      "\u001b[1;31m---------------------------------------------------------------------------\u001b[0m",
      "\u001b[1;31mNameError\u001b[0m                                 Traceback (most recent call last)",
      "\u001b[1;32m~\\AppData\\Local\\Temp/ipykernel_1524/1492901635.py\u001b[0m in \u001b[0;36m<module>\u001b[1;34m\u001b[0m\n\u001b[0;32m     10\u001b[0m     \u001b[0mx\u001b[0m \u001b[1;33m=\u001b[0m \u001b[0mpoint\u001b[0m\u001b[1;33m.\u001b[0m\u001b[0mxy\u001b[0m\u001b[1;33m[\u001b[0m\u001b[1;36m0\u001b[0m\u001b[1;33m]\u001b[0m\u001b[1;33m[\u001b[0m\u001b[1;36m0\u001b[0m\u001b[1;33m]\u001b[0m\u001b[1;33m\u001b[0m\u001b[1;33m\u001b[0m\u001b[0m\n\u001b[0;32m     11\u001b[0m     \u001b[0my\u001b[0m \u001b[1;33m=\u001b[0m \u001b[0mpoint\u001b[0m\u001b[1;33m.\u001b[0m\u001b[0mxy\u001b[0m\u001b[1;33m[\u001b[0m\u001b[1;36m1\u001b[0m\u001b[1;33m]\u001b[0m\u001b[1;33m[\u001b[0m\u001b[1;36m0\u001b[0m\u001b[1;33m]\u001b[0m\u001b[1;33m\u001b[0m\u001b[1;33m\u001b[0m\u001b[0m\n\u001b[1;32m---> 12\u001b[1;33m     \u001b[0mrow\u001b[0m\u001b[1;33m\u001b[0m\u001b[1;33m\u001b[0m\u001b[0m\n\u001b[0m",
      "\u001b[1;31mNameError\u001b[0m: name 'row' is not defined"
     ]
    },
    {
     "data": {
      "image/png": "[encoded data removed]",
      "text/plain": [
       "<Figure size 864x864 with 1 Axes>"
      ]
     },
     "metadata": {
      "needs_background": "light"
     },
     "output_type": "display_data"
    }
   ],
   "source": [
    "##Plotting above\n",
    "fig, ax = plt.subplots(figsize = (12,12))\n",
    "pts.plot(ax = ax)\n",
    "show(src, ax = ax)\n",
    "\n",
    "for point in pts['geometry']:\n",
    "    print(point.xy[0][0], point.xy[1][0])\n",
    "    \n",
    "for point in pts['geometry']:\n",
    "    x = point.xy[0][0]\n",
    "    y = point.xy[1][0]\n",
    "    row"
   ]
  },
  {
   "cell_type": "code",
   "execution_count": 17,
   "id": "cac1e6d5",
   "metadata": {},
   "outputs": [],
   "source": [
    "##Organizing planet imagery for Acolite\n",
    "\n",
    "# import os, shutil\n",
    "\n",
    "# ##PC path\n",
    "# path = (r\"E:\\BMA planet data\\acolite_data\\files\\DN files\")\n",
    "\n",
    "# os.chdir(path)\n",
    "\n",
    "# for f in os.listdir(path):\n",
    "#     folderName = f[:15]\n",
    "    \n",
    "#     if not os.path.exists(folderName):\n",
    "#         os.mkdir(folderName)\n",
    "#         shutil.copy(os.path.join(path, f), folderName)\n",
    "#     else:\n",
    "#         shutil.copy(os.path.join(path, f), folderName)"
   ]
  },
  {
   "cell_type": "code",
   "execution_count": 18,
   "id": "0e98dfc9",
   "metadata": {},
   "outputs": [
    {
     "name": "stdout",
     "output_type": "stream",
     "text": [
      "Found 2 folders in E:\\BMA planet data\\acolite_data\\files\\DN files.\n",
      "Trying E:\\BMA planet data\\acolite_data\\files\\DN files\\20210521_151835\\\n",
      "20210521_151835_36_2444_3B_AnalyticMS_DN_clip.tif\n",
      "20210521_151835_36_2444_3B_AnalyticMS_DN_metadata_clip.xml\n",
      "20210521_151835_36_2444_3B_AnalyticMS_DN_udm_clip.tif\n",
      "20210521_151835_36_2444_3B_udm2_clip.tif\n",
      "Processing planet file\n",
      "20210521_151835_36_2444_3B_AnalyticMS_DN_clip.tif\n",
      "20210521_151835_36_2444_3B_AnalyticMS_DN_metadata_clip.xml\n",
      "20210521_151835_36_2444_3B_AnalyticMS_DN_udm_clip.tif\n",
      "20210521_151835_36_2444_3B_udm2_clip.tif\n"
     ]
    },
    {
     "ename": "TypeError",
     "evalue": "expected str, bytes or os.PathLike object, not NoneType",
     "output_type": "error",
     "traceback": [
      "\u001b[1;31m---------------------------------------------------------------------------\u001b[0m",
      "\u001b[1;31mTypeError\u001b[0m                                 Traceback (most recent call last)",
      "\u001b[1;32m~\\AppData\\Local\\Temp/ipykernel_15992/2474645902.py\u001b[0m in \u001b[0;36m<module>\u001b[1;34m\u001b[0m\n\u001b[0;32m     33\u001b[0m \u001b[1;32mfor\u001b[0m \u001b[0mfile\u001b[0m \u001b[1;32min\u001b[0m \u001b[0mfiles\u001b[0m\u001b[1;33m:\u001b[0m\u001b[1;33m\u001b[0m\u001b[1;33m\u001b[0m\u001b[0m\n\u001b[0;32m     34\u001b[0m     \u001b[0mprint\u001b[0m\u001b[1;33m(\u001b[0m\u001b[1;34m'Trying {}'\u001b[0m\u001b[1;33m.\u001b[0m\u001b[0mformat\u001b[0m\u001b[1;33m(\u001b[0m\u001b[0mfile\u001b[0m\u001b[1;33m)\u001b[0m\u001b[1;33m)\u001b[0m\u001b[1;33m\u001b[0m\u001b[1;33m\u001b[0m\u001b[0m\n\u001b[1;32m---> 35\u001b[1;33m     \u001b[0mac\u001b[0m\u001b[1;33m.\u001b[0m\u001b[0macolite\u001b[0m\u001b[1;33m.\u001b[0m\u001b[0macolite_mr_ac\u001b[0m\u001b[1;33m(\u001b[0m\u001b[0mfile\u001b[0m\u001b[1;33m,\u001b[0m \u001b[0moutput\u001b[0m\u001b[1;33m=\u001b[0m\u001b[0moutput\u001b[0m\u001b[1;33m,\u001b[0m \u001b[0mancillary_data\u001b[0m\u001b[1;33m=\u001b[0m\u001b[0mancillary_data\u001b[0m\u001b[1;33m,\u001b[0m \u001b[0mlimit\u001b[0m\u001b[1;33m=\u001b[0m\u001b[0mlimit\u001b[0m\u001b[1;33m,\u001b[0m\u001b[0mexport_geotiff\u001b[0m\u001b[1;33m=\u001b[0m\u001b[1;32mTrue\u001b[0m\u001b[1;33m)\u001b[0m\u001b[1;33m\u001b[0m\u001b[1;33m\u001b[0m\u001b[0m\n\u001b[0m",
      "\u001b[1;32m~\\Documents\\acolite_mr\\acolite\\acolite\\acolite_mr_ac.py\u001b[0m in \u001b[0;36macolite_mr_ac\u001b[1;34m(bundle, output, limit, ancillary_data, luts, uoz, uwv, ignore_sr_image, map_rgb, map_rgb_rhos, export_geotiff, pan_sharpen_rgb, sky_correction, dem_pressure, elevation, pressure, force_band, fixed_aot550, fixed_lut, dark_spectrum_full_scene)\u001b[0m\n\u001b[0;32m     85\u001b[0m             \u001b[0mluts_\u001b[0m\u001b[1;33m.\u001b[0m\u001b[0mappend\u001b[0m\u001b[1;33m(\u001b[0m\u001b[1;34m'-'\u001b[0m\u001b[1;33m.\u001b[0m\u001b[0mjoin\u001b[0m\u001b[1;33m(\u001b[0m\u001b[0ml\u001b[0m\u001b[1;33m.\u001b[0m\u001b[0msplit\u001b[0m\u001b[1;33m(\u001b[0m\u001b[1;34m'-'\u001b[0m\u001b[1;33m)\u001b[0m\u001b[1;33m[\u001b[0m\u001b[1;36m0\u001b[0m\u001b[1;33m:\u001b[0m\u001b[1;33m-\u001b[0m\u001b[1;36m1\u001b[0m\u001b[1;33m]\u001b[0m\u001b[1;33m)\u001b[0m\u001b[1;33m)\u001b[0m\u001b[1;33m\u001b[0m\u001b[1;33m\u001b[0m\u001b[0m\n\u001b[0;32m     86\u001b[0m \u001b[1;33m\u001b[0m\u001b[0m\n\u001b[1;32m---> 87\u001b[1;33m         ac.planetscope.planetscope_ac(bundle, output=output, limit=limit,\n\u001b[0m\u001b[0;32m     88\u001b[0m                             \u001b[0mancillary_data\u001b[0m\u001b[1;33m=\u001b[0m\u001b[0mancillary_data\u001b[0m\u001b[1;33m,\u001b[0m\u001b[1;33m\u001b[0m\u001b[1;33m\u001b[0m\u001b[0m\n\u001b[0;32m     89\u001b[0m                             \u001b[0mluts\u001b[0m\u001b[1;33m=\u001b[0m\u001b[0mluts_\u001b[0m\u001b[1;33m,\u001b[0m \u001b[0mpressure\u001b[0m\u001b[1;33m=\u001b[0m\u001b[0mpressure\u001b[0m\u001b[1;33m,\u001b[0m\u001b[1;33m\u001b[0m\u001b[1;33m\u001b[0m\u001b[0m\n",
      "\u001b[1;32m~\\Documents\\acolite_mr\\acolite\\planetscope\\planetscope_ac.py\u001b[0m in \u001b[0;36mplanetscope_ac\u001b[1;34m(bundle, output, limit, gas_transmittance, uoz_default, uwv_default, wvlut, ancillary_data, sky_correction, sky_correction_option, lut_pressure, pressure, model_selection, rdark_list_selection, luts, extra_ac_parameters, ignore_sr_image, extend_limit, export_geotiff, keep_l1r_ncdf, map_rgb, map_rgb_rhos, rgb_autorange, rgb_percentiles, rgb_range_min, rgb_range_max, nc_compression)\u001b[0m\n\u001b[0;32m    112\u001b[0m             \u001b[0mmetadata\u001b[0m\u001b[1;33m[\u001b[0m\u001b[1;34m'image_file'\u001b[0m\u001b[1;33m]\u001b[0m \u001b[1;33m=\u001b[0m \u001b[0mimage_file\u001b[0m\u001b[1;33m\u001b[0m\u001b[1;33m\u001b[0m\u001b[0m\n\u001b[0;32m    113\u001b[0m         \u001b[1;32melse\u001b[0m\u001b[1;33m:\u001b[0m\u001b[1;33m\u001b[0m\u001b[1;33m\u001b[0m\u001b[0m\n\u001b[1;32m--> 114\u001b[1;33m             \u001b[0mbn\u001b[0m\u001b[1;33m,\u001b[0m \u001b[0mex\u001b[0m \u001b[1;33m=\u001b[0m \u001b[0mos\u001b[0m\u001b[1;33m.\u001b[0m\u001b[0mpath\u001b[0m\u001b[1;33m.\u001b[0m\u001b[0msplitext\u001b[0m\u001b[1;33m(\u001b[0m\u001b[0mos\u001b[0m\u001b[1;33m.\u001b[0m\u001b[0mpath\u001b[0m\u001b[1;33m.\u001b[0m\u001b[0mbasename\u001b[0m\u001b[1;33m(\u001b[0m\u001b[0mimage_file\u001b[0m\u001b[1;33m)\u001b[0m\u001b[1;33m)\u001b[0m\u001b[1;33m\u001b[0m\u001b[1;33m\u001b[0m\u001b[0m\n\u001b[0m\u001b[0;32m    115\u001b[0m             \u001b[0msp\u001b[0m \u001b[1;33m=\u001b[0m \u001b[0mbn\u001b[0m\u001b[1;33m.\u001b[0m\u001b[0msplit\u001b[0m\u001b[1;33m(\u001b[0m\u001b[1;34m'_'\u001b[0m\u001b[1;33m)\u001b[0m\u001b[1;33m\u001b[0m\u001b[1;33m\u001b[0m\u001b[0m\n\u001b[0;32m    116\u001b[0m             \u001b[0mfdate\u001b[0m \u001b[1;33m=\u001b[0m \u001b[0msp\u001b[0m\u001b[1;33m[\u001b[0m\u001b[1;36m0\u001b[0m\u001b[1;33m]\u001b[0m\u001b[1;33m\u001b[0m\u001b[1;33m\u001b[0m\u001b[0m\n",
      "\u001b[1;32mC:\\ProgramData\\Anaconda3\\envs\\venv\\lib\\ntpath.py\u001b[0m in \u001b[0;36mbasename\u001b[1;34m(p)\u001b[0m\n\u001b[0;32m    214\u001b[0m \u001b[1;32mdef\u001b[0m \u001b[0mbasename\u001b[0m\u001b[1;33m(\u001b[0m\u001b[0mp\u001b[0m\u001b[1;33m)\u001b[0m\u001b[1;33m:\u001b[0m\u001b[1;33m\u001b[0m\u001b[1;33m\u001b[0m\u001b[0m\n\u001b[0;32m    215\u001b[0m     \u001b[1;34m\"\"\"Returns the final component of a pathname\"\"\"\u001b[0m\u001b[1;33m\u001b[0m\u001b[1;33m\u001b[0m\u001b[0m\n\u001b[1;32m--> 216\u001b[1;33m     \u001b[1;32mreturn\u001b[0m \u001b[0msplit\u001b[0m\u001b[1;33m(\u001b[0m\u001b[0mp\u001b[0m\u001b[1;33m)\u001b[0m\u001b[1;33m[\u001b[0m\u001b[1;36m1\u001b[0m\u001b[1;33m]\u001b[0m\u001b[1;33m\u001b[0m\u001b[1;33m\u001b[0m\u001b[0m\n\u001b[0m\u001b[0;32m    217\u001b[0m \u001b[1;33m\u001b[0m\u001b[0m\n\u001b[0;32m    218\u001b[0m \u001b[1;33m\u001b[0m\u001b[0m\n",
      "\u001b[1;32mC:\\ProgramData\\Anaconda3\\envs\\venv\\lib\\ntpath.py\u001b[0m in \u001b[0;36msplit\u001b[1;34m(p)\u001b[0m\n\u001b[0;32m    183\u001b[0m     \u001b[0mReturn\u001b[0m \u001b[0mtuple\u001b[0m \u001b[1;33m(\u001b[0m\u001b[0mhead\u001b[0m\u001b[1;33m,\u001b[0m \u001b[0mtail\u001b[0m\u001b[1;33m)\u001b[0m \u001b[0mwhere\u001b[0m \u001b[0mtail\u001b[0m \u001b[1;32mis\u001b[0m \u001b[0meverything\u001b[0m \u001b[0mafter\u001b[0m \u001b[0mthe\u001b[0m \u001b[0mfinal\u001b[0m \u001b[0mslash\u001b[0m\u001b[1;33m.\u001b[0m\u001b[1;33m\u001b[0m\u001b[1;33m\u001b[0m\u001b[0m\n\u001b[0;32m    184\u001b[0m     Either part may be empty.\"\"\"\n\u001b[1;32m--> 185\u001b[1;33m     \u001b[0mp\u001b[0m \u001b[1;33m=\u001b[0m \u001b[0mos\u001b[0m\u001b[1;33m.\u001b[0m\u001b[0mfspath\u001b[0m\u001b[1;33m(\u001b[0m\u001b[0mp\u001b[0m\u001b[1;33m)\u001b[0m\u001b[1;33m\u001b[0m\u001b[1;33m\u001b[0m\u001b[0m\n\u001b[0m\u001b[0;32m    186\u001b[0m     \u001b[0mseps\u001b[0m \u001b[1;33m=\u001b[0m \u001b[0m_get_bothseps\u001b[0m\u001b[1;33m(\u001b[0m\u001b[0mp\u001b[0m\u001b[1;33m)\u001b[0m\u001b[1;33m\u001b[0m\u001b[1;33m\u001b[0m\u001b[0m\n\u001b[0;32m    187\u001b[0m     \u001b[0md\u001b[0m\u001b[1;33m,\u001b[0m \u001b[0mp\u001b[0m \u001b[1;33m=\u001b[0m \u001b[0msplitdrive\u001b[0m\u001b[1;33m(\u001b[0m\u001b[0mp\u001b[0m\u001b[1;33m)\u001b[0m\u001b[1;33m\u001b[0m\u001b[1;33m\u001b[0m\u001b[0m\n",
      "\u001b[1;31mTypeError\u001b[0m: expected str, bytes or os.PathLike object, not NoneType"
     ]
    }
   ],
   "source": [
    "##Bulk processing planet imagery for Acolite\n",
    "\n",
    "indir = r'E:\\BMA planet data\\acolite_data\\files\\DN files' ##full path to your directory with files\n",
    "\n",
    "output = r'E:\\BMA planet data\\acolite_data\\acolite_output' ## path to put output files\n",
    "\n",
    "path_to_acolite_mr = r'C:\\Users\\arj26323\\Documents\\acolite_mr' ## path to cloned github acolite_mr code\n",
    "\n",
    "## import packages and acolite\n",
    "\n",
    "import sys, os, glob\n",
    "\n",
    "sys.path.append(path_to_acolite_mr)\n",
    "\n",
    "import acolite as ac\n",
    "\n",
    "## make a list of directories in the given indir path\n",
    "\n",
    "files = glob.glob('{}/*/'.format(indir))\n",
    "\n",
    "files.sort()\n",
    "\n",
    "print('Found {} folders in {}.'.format(len(files), indir))\n",
    "\n",
    "## additional keywords can be provided to acolite_mr_ac\n",
    "\n",
    "limit=None ## process full scene, provide a 4 element list with [S, E, N, W] coordinates for processing a ROI\n",
    "\n",
    "ancillary_data=False ## don't get ancillary MET and gas data\n",
    "\n",
    "## run through each folder that was found\n",
    "\n",
    "for file in files:\n",
    "    print('Trying {}'.format(file))\n",
    "    ac.acolite.acolite_mr_ac(file, output=output, ancillary_data=ancillary_data, limit=limit,export_geotiff=True)"
   ]
  },
  {
   "cell_type": "code",
   "execution_count": 7,
   "id": "0cbf98fa",
   "metadata": {},
   "outputs": [
    {
     "data": {
      "text/plain": [
       "<open DatasetReader name='E:/BMA planet data/21_May_2021/files/20210521_151835_36_2444_3B_AnalyticMS_SR_clip.tif' mode='r'>"
      ]
     },
     "execution_count": 7,
     "metadata": {},
     "output_type": "execute_result"
    }
   ],
   "source": [
    "import rasterio\n",
    "src = rasterio.open('E:/BMA planet data/21_May_2021/files/20210521_151835_36_2444_3B_AnalyticMS_SR_clip.tif')\n",
    "src"
   ]
  },
  {
   "cell_type": "code",
   "execution_count": null,
   "id": "3a8cc6c9",
   "metadata": {},
   "outputs": [],
   "source": []
  }
 ],
 "metadata": {
  "kernelspec": {
   "display_name": "Python 3 (ipykernel)",
   "language": "python",
   "name": "python3"
  },
  "language_info": {
   "codemirror_mode": {
    "name": "ipython",
    "version": 3
   },
   "file_extension": ".py",
   "mimetype": "text/x-python",
   "name": "python",
   "nbconvert_exporter": "python",
   "pygments_lexer": "ipython3",
   "version": "3.9.7"
  }
 },
 "nbformat": 4,
 "nbformat_minor": 5
}
