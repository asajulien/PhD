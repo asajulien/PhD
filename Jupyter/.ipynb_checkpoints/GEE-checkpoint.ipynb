{
 "cells": [
  {
   "cell_type": "code",
   "execution_count": 1,
   "id": "black-veteran",
   "metadata": {},
   "outputs": [],
   "source": [
    "import geemap\n",
    "import pandas as pd\n",
    "import numpy as np\n",
    "import matplotlib.pyplot as plt\n",
    "import pdb\n",
    "from IPython.display import display\n",
    "import ee\n",
    "import os"
   ]
  },
  {
   "cell_type": "code",
   "execution_count": 15,
   "id": "everyday-offer",
   "metadata": {
    "scrolled": true
   },
   "outputs": [
    {
     "data": {
      "text/html": [
       "<p>To authorize access needed by Earth Engine, open the following\n",
       "        URL in a web browser and follow the instructions:</p>\n",
       "        <p><a href=https://accounts.google.com/o/oauth2/auth?client_id=517222506229-vsmmajv00ul0bs7p89v5m89qs8eb9359.apps.googleusercontent.com&scope=https%3A%2F%2Fwww.googleapis.com%2Fauth%2Fearthengine+https%3A%2F%2Fwww.googleapis.com%2Fauth%2Fdevstorage.full_control&redirect_uri=urn%3Aietf%3Awg%3Aoauth%3A2.0%3Aoob&response_type=code&code_challenge=QCPV0WBqAMM2sjHb2vprii3Oh2DP5oqSbtvdPR9QgL4&code_challenge_method=S256>https://accounts.google.com/o/oauth2/auth?client_id=517222506229-vsmmajv00ul0bs7p89v5m89qs8eb9359.apps.googleusercontent.com&scope=https%3A%2F%2Fwww.googleapis.com%2Fauth%2Fearthengine+https%3A%2F%2Fwww.googleapis.com%2Fauth%2Fdevstorage.full_control&redirect_uri=urn%3Aietf%3Awg%3Aoauth%3A2.0%3Aoob&response_type=code&code_challenge=QCPV0WBqAMM2sjHb2vprii3Oh2DP5oqSbtvdPR9QgL4&code_challenge_method=S256</a></p>\n",
       "        <p>The authorization workflow will generate a code, which you\n",
       "        should paste in the box below</p>\n",
       "        "
      ],
      "text/plain": [
       "<IPython.core.display.HTML object>"
      ]
     },
     "metadata": {},
     "output_type": "display_data"
    },
    {
     "name": "stdout",
     "output_type": "stream",
     "text": [
      "Enter verification code: 4/1AY0e-g6yZ1pT0HkOg1nazV4AMY5B8uvsIQd2Q-e2TPfOe3YirdKtAXTelrs\n",
      "\n",
      "Successfully saved authorization token.\n"
     ]
    }
   ],
   "source": [
    "#ee.Authenticate()\n",
    "#geemap.update_package()"
   ]
  },
  {
   "cell_type": "code",
   "execution_count": 2,
   "id": "decimal-gambling",
   "metadata": {},
   "outputs": [],
   "source": [
    "# Add Earth Engine dataset\n",
    "Map = geemap.Map(center=[40,-100], zoom=4)"
   ]
  },
  {
   "cell_type": "code",
   "execution_count": null,
   "id": "alone-villa",
   "metadata": {},
   "outputs": [],
   "source": [
    "#converting javascript code to python - also checking to see if same issue occurs with map (weird white coloration):\n",
    "#js_snippet = \"\"\"\n",
    "#var image1 = ee.Image('LANDSAT/LT05/C01/T1_SR/LT05_014034_20000816'); \n",
    "#Map.addLayer(image1, {bands:['B4', 'B3', 'B2']}, 'ColorIR composite');\n",
    "#\"\"\"\n",
    "#geemap.js_snippet_to_py(js_snippet, add_new_cell = True, import_ee = True, import_geemap = True, show_map = True)"
   ]
  },
  {
   "cell_type": "code",
   "execution_count": null,
   "id": "brilliant-johnston",
   "metadata": {},
   "outputs": [],
   "source": []
  },
  {
   "cell_type": "code",
   "execution_count": 3,
   "id": "helpful-detective",
   "metadata": {},
   "outputs": [],
   "source": [
    "#list of plots in Virginia LTER dataset (not including broad creek)\n",
    "plot_pts = ee.FeatureCollection([\n",
    "  ee.Feature(ee.Geometry.Point([-75.372740, 37.903114]), {'plot_id': 1}),\n",
    "  ee.Feature(ee.Geometry.Point([-75.671577, 37.625273]), {'plot_id': 2}),\n",
    "  ee.Feature(ee.Geometry.Point([-75.876094, 37.395746]), {'plot_id': 3}),\n",
    "  ee.Feature(ee.Geometry.Point([-75.652248, 37.709249]), {'plot_id': 4}),\n",
    "  ee.Feature(ee.Geometry.Point([-75.942331, 37.175055]), {'plot_id': 5}),\n",
    "  ee.Feature(ee.Geometry.Point([-75.940586, 37.167409]), {'plot_id': 6}),\n",
    "  ee.Feature(ee.Geometry.Point([-75.814954, 37.485033]), {'plot_id': 7}),\n",
    "  ee.Feature(ee.Geometry.Point([-75.672871, 37.451132]), {'plot_id': 8}),\n",
    "  ee.Feature(ee.Geometry.Point([-75.900996, 37.346190]), {'plot_id': 9}),\n",
    "  ee.Feature(ee.Geometry.Point([-75.558264, 37.784154]), {'plot_id': 10}),\n",
    "  ee.Feature(ee.Geometry.Point([-75.861733, 37.416783]), {'plot_id': 11}),\n",
    "  ee.Feature(ee.Geometry.Point([-75.822928, 37.468043]), {'plot_id': 12}),\n",
    "  ee.Feature(ee.Geometry.Point([-75.929133, 37.287549]), {'plot_id': 13}),\n",
    "  ee.Feature(ee.Geometry.Point([-75.940690, 37.181277]), {'plot_id': 14}),\n",
    "  ee.Feature(ee.Geometry.Point([-75.447000, 37.880000]), {'plot_id': 15}),\n",
    "  ee.Feature(ee.Geometry.Point([-75.819360, 37.481998]), {'plot_id': 16})\n",
    "])\n"
   ]
  },
  {
   "cell_type": "code",
   "execution_count": 22,
   "id": "vital-reform",
   "metadata": {},
   "outputs": [
    {
     "name": "stdout",
     "output_type": "stream",
     "text": [
      "26\n"
     ]
    },
    {
     "data": {
      "application/vnd.jupyter.widget-view+json": {
       "model_id": "e973fecec5b048d1838368304fd9cdca",
       "version_major": 2,
       "version_minor": 0
      },
      "text/plain": [
       "Map(bottom=25757.70703125, center=[37.395746, -75.876094], controls=(WidgetControl(options=['position'], widge…"
      ]
     },
     "metadata": {},
     "output_type": "display_data"
    }
   ],
   "source": [
    "#landsat 5 surface reflectance images\n",
    "\n",
    "roi = ee.Geometry.Point(-75.876094, 37.395746)\n",
    "\n",
    "filteredCollectionLS5 = ee.ImageCollection('LANDSAT/LT05/C01/T1_SR') \\\n",
    "    .filter(ee.Filter.calendarRange(1999, 2017,'year')) \\\n",
    "    .filter(ee.Filter.calendarRange(8, 9,'month')) \\\n",
    "    .filterBounds(plot_pts) \\\n",
    "    .filterMetadata('CLOUD_COVER', 'less_than', 50) \\\n",
    "    .sort('CLOUD_COVER', True)\n",
    "\n",
    "vis_param = {'min': 0, \n",
    "             'max': 2000, \n",
    "             'bands': ['B4', 'B3', 'B2'], \n",
    "             'gamma': 1.5}\n",
    "\n",
    "print(filteredCollectionLS5.size().getInfo())\n",
    "image2 = filteredCollectionLS5.first()\n",
    "#print(image2.getInfo())\n",
    "Map.addLayer(image2, vis_param, \"Landsat5SR\")\n",
    "Map.centerObject(roi, 10)\n",
    "Map.set_plot_options(add_marker_cluster = True) #not sure what this does\n",
    "Map\n"
   ]
  },
  {
   "cell_type": "code",
   "execution_count": 14,
   "id": "satisfied-helicopter",
   "metadata": {},
   "outputs": [
    {
     "name": "stdout",
     "output_type": "stream",
     "text": [
      "CLOUD_COVER:  0\n"
     ]
    }
   ],
   "source": [
    "#determining cloud cover\n",
    "cloudiness = image2.get('CLOUD_COVER')\n",
    "print('CLOUD_COVER: ', cloudiness.getInfo())"
   ]
  },
  {
   "cell_type": "code",
   "execution_count": 24,
   "id": "deca87c8",
   "metadata": {},
   "outputs": [],
   "source": [
    "#calculate ndvi\n",
    "ndvi = image2.normalizedDifference(['B4', 'B3']).rename('NDVI')\n",
    "vis_ndvi = {'min': -1, \n",
    "             'max': 1, \n",
    "             'palette': ['blue', 'white', 'green']}\n",
    "Map.addLayer(ndvi, vis_ndvi, \"NDVI\")\n"
   ]
  },
  {
   "cell_type": "code",
   "execution_count": 22,
   "id": "commercial-routine",
   "metadata": {
    "scrolled": true
   },
   "outputs": [
    {
     "name": "stdout",
     "output_type": "stream",
     "text": [
      "The csv file has been saved to: /Users/asariversjulien/Downloads/ndvipoints.csv\n"
     ]
    }
   ],
   "source": [
    "print(\"hi\")\n"
   ]
  },
  {
   "cell_type": "code",
   "execution_count": 17,
   "id": "deadly-africa",
   "metadata": {},
   "outputs": [
    {
     "data": {
      "text/plain": [
       "['LANDSAT/LT05/C01/T1_SR/LT05_014034_20060801',\n",
       " 'LANDSAT/LT05/C01/T1_SR/LT05_014034_20070804',\n",
       " 'LANDSAT/LT05/C01/T1_SR/LT05_014034_20070905',\n",
       " 'LANDSAT/LT05/C01/T1_SR/LT05_014034_20110831',\n",
       " 'LANDSAT/LT05/C01/T1_SR/LT05_014034_20030926',\n",
       " 'LANDSAT/LT05/C01/T1_SR/LT05_014034_20060918',\n",
       " 'LANDSAT/LT05/C01/T1_SR/LT05_014034_20010803',\n",
       " 'LANDSAT/LT05/C01/T1_SR/LT05_014034_20040912',\n",
       " 'LANDSAT/LT05/C01/T1_SR/LT05_014034_20050814',\n",
       " 'LANDSAT/LT05/C01/T1_SR/LT05_014034_20090809',\n",
       " 'LANDSAT/LT05/C01/T1_SR/LT05_014034_20030825',\n",
       " 'LANDSAT/LT05/C01/T1_SR/LT05_014034_20040811',\n",
       " 'LANDSAT/LT05/C01/T1_SR/LT05_014034_20040827',\n",
       " 'LANDSAT/LT05/C01/T1_SR/LT05_014034_20080822',\n",
       " 'LANDSAT/LT05/C01/T1_SR/LT05_014034_20110815',\n",
       " 'LANDSAT/LT05/C01/T1_SR/LT05_014034_20090825',\n",
       " 'LANDSAT/LT05/C01/T1_SR/LT05_014034_20020907',\n",
       " 'LANDSAT/LT05/C01/T1_SR/LT05_014034_20100828',\n",
       " 'LANDSAT/LT05/C01/T1_SR/LT05_014034_20000901',\n",
       " 'LANDSAT/LT05/C01/T1_SR/LT05_014034_20000816',\n",
       " 'LANDSAT/LT05/C01/T1_SR/LT05_014034_20100913',\n",
       " 'LANDSAT/LT05/C01/T1_SR/LT05_014034_20020822',\n",
       " 'LANDSAT/LT05/C01/T1_SR/LT05_014034_20060817',\n",
       " 'LANDSAT/LT05/C01/T1_SR/LT05_014034_20030910',\n",
       " 'LANDSAT/LT05/C01/T1_SR/LT05_014034_20080907',\n",
       " 'LANDSAT/LT05/C01/T1_SR/LT05_014034_20000917']"
      ]
     },
     "execution_count": 17,
     "metadata": {},
     "output_type": "execute_result"
    }
   ],
   "source": [
    "#get list of image ids in filtered collection\n",
    "filteredCollectionLS5.aggregate_array('system:id').getInfo()\n",
    "\n",
    "#figure out image dates!!\n"
   ]
  },
  {
   "cell_type": "code",
   "execution_count": 25,
   "id": "6498160a",
   "metadata": {},
   "outputs": [],
   "source": [
    "#add feature collection points for each plot\n",
    "Map.addLayer(plot_pts)"
   ]
  },
  {
   "cell_type": "code",
   "execution_count": 34,
   "id": "6679456c",
   "metadata": {
    "scrolled": false
   },
   "outputs": [
    {
     "ename": "IndentationError",
     "evalue": "unexpected indent (<ipython-input-34-82779dc9620e>, line 5)",
     "output_type": "error",
     "traceback": [
      "\u001b[0;36m  File \u001b[0;32m\"<ipython-input-34-82779dc9620e>\"\u001b[0;36m, line \u001b[0;32m5\u001b[0m\n\u001b[0;31m    pt = ee.Feature(pt)\u001b[0m\n\u001b[0m    ^\u001b[0m\n\u001b[0;31mIndentationError\u001b[0m\u001b[0;31m:\u001b[0m unexpected indent\n"
     ]
    }
   ],
   "source": [
    "#extracting raster values for points; \n",
    "#from: https://developers.google.com/earth-engine/tutorials/community/extract-raster-values-for-points\n",
    "#buffering points\n"
   ]
  },
  {
   "cell_type": "code",
   "execution_count": 45,
   "id": "8c47fcaf",
   "metadata": {},
   "outputs": [
    {
     "name": "stdout",
     "output_type": "stream",
     "text": [
      "The image must be an instance of ee.Image.\n"
     ]
    }
   ],
   "source": [
    "#Exporting pixel values - any way to do this without manually selecting \n",
    "in_fc = plot_pts\n",
    "\n",
    "#export data\n",
    "out_dir = os.path.expanduser('~/Downloads')\n",
    "out_csv = os.path.join(out_dir, 'ndvipoints.csv')\n",
    "#out_shp = os.path.join(out_dir, 'points.shp') #shapefile exporting\n",
    "geemap.extract_values_to_points(in_fc, image2, out_csv)"
   ]
  },
  {
   "cell_type": "code",
   "execution_count": 39,
   "id": "9b642764",
   "metadata": {},
   "outputs": [],
   "source": [
    "print(\"hi\")"
   ]
  },
  {
   "cell_type": "code",
   "execution_count": 38,
   "id": "d9c42182",
   "metadata": {},
   "outputs": [
    {
     "ename": "SyntaxError",
     "evalue": "illegal target for annotation (<ipython-input-38-5082071b65d2>, line 4)",
     "output_type": "error",
     "traceback": [
      "\u001b[0;36m  File \u001b[0;32m\"<ipython-input-38-5082071b65d2>\"\u001b[0;36m, line \u001b[0;32m4\u001b[0m\n\u001b[0;31m    'return bounds ? pt.buffer(radius).bounds()' : pt.buffer(radius)\u001b[0m\n\u001b[0m    ^\u001b[0m\n\u001b[0;31mSyntaxError\u001b[0m\u001b[0;31m:\u001b[0m illegal target for annotation\n"
     ]
    }
   ],
   "source": [
    "print(\"hi\")\n"
   ]
  },
  {
   "cell_type": "code",
   "execution_count": null,
   "id": "778624f8",
   "metadata": {},
   "outputs": [],
   "source": [
    "print(\"hi\")"
   ]
  },
  {
   "cell_type": "code",
   "execution_count": null,
   "id": "958cd581",
   "metadata": {},
   "outputs": [],
   "source": [
    "print(\"hi\")"
   ]
  },
  {
   "cell_type": "code",
   "execution_count": 13,
   "id": "651f7172",
   "metadata": {},
   "outputs": [
    {
     "name": "stdout",
     "output_type": "stream",
     "text": [
      "hi\n"
     ]
    }
   ],
   "source": [
    "print(\"hi\")"
   ]
  },
  {
   "cell_type": "code",
   "execution_count": null,
   "id": "5f9ee077",
   "metadata": {},
   "outputs": [],
   "source": []
  }
 ],
 "metadata": {
  "kernelspec": {
   "display_name": "feesh",
   "language": "python",
   "name": "feesh"
  },
  "language_info": {
   "codemirror_mode": {
    "name": "ipython",
    "version": 3
   },
   "file_extension": ".py",
   "mimetype": "text/x-python",
   "name": "python",
   "nbconvert_exporter": "python",
   "pygments_lexer": "ipython3",
   "version": "3.9.4"
  }
 },
 "nbformat": 4,
 "nbformat_minor": 5
}
