{
 "cells": [
  {
   "cell_type": "code",
   "execution_count": 1,
   "id": "black-veteran",
   "metadata": {},
   "outputs": [],
   "source": [
    "import geemap\n",
    "import pandas as pd\n",
    "import numpy as np\n",
    "import matplotlib.pyplot as plt\n",
    "import pdb\n",
    "from IPython.display import display\n",
    "import ee\n",
    "import os"
   ]
  },
  {
   "cell_type": "code",
   "execution_count": 15,
   "id": "everyday-offer",
   "metadata": {
    "scrolled": true
   },
   "outputs": [
    {
     "data": {
      "text/html": [
       "<p>To authorize access needed by Earth Engine, open the following\n",
       "        URL in a web browser and follow the instructions:</p>\n",
       "        <p><a href=https://accounts.google.com/o/oauth2/auth?client_id=517222506229-vsmmajv00ul0bs7p89v5m89qs8eb9359.apps.googleusercontent.com&scope=https%3A%2F%2Fwww.googleapis.com%2Fauth%2Fearthengine+https%3A%2F%2Fwww.googleapis.com%2Fauth%2Fdevstorage.full_control&redirect_uri=urn%3Aietf%3Awg%3Aoauth%3A2.0%3Aoob&response_type=code&code_challenge=QCPV0WBqAMM2sjHb2vprii3Oh2DP5oqSbtvdPR9QgL4&code_challenge_method=S256>https://accounts.google.com/o/oauth2/auth?client_id=517222506229-vsmmajv00ul0bs7p89v5m89qs8eb9359.apps.googleusercontent.com&scope=https%3A%2F%2Fwww.googleapis.com%2Fauth%2Fearthengine+https%3A%2F%2Fwww.googleapis.com%2Fauth%2Fdevstorage.full_control&redirect_uri=urn%3Aietf%3Awg%3Aoauth%3A2.0%3Aoob&response_type=code&code_challenge=QCPV0WBqAMM2sjHb2vprii3Oh2DP5oqSbtvdPR9QgL4&code_challenge_method=S256</a></p>\n",
       "        <p>The authorization workflow will generate a code, which you\n",
       "        should paste in the box below</p>\n",
       "        "
      ],
      "text/plain": [
       "<IPython.core.display.HTML object>"
      ]
     },
     "metadata": {},
     "output_type": "display_data"
    },
    {
     "name": "stdout",
     "output_type": "stream",
     "text": [
      "Enter verification code: 4/1AY0e-g6yZ1pT0HkOg1nazV4AMY5B8uvsIQd2Q-e2TPfOe3YirdKtAXTelrs\n",
      "\n",
      "Successfully saved authorization token.\n"
     ]
    }
   ],
   "source": [
    "#ee.Authenticate()\n",
    "#geemap.update_package()"
   ]
  },
  {
   "cell_type": "code",
   "execution_count": null,
   "id": "alone-villa",
   "metadata": {},
   "outputs": [],
   "source": [
    "#converting javascript code to python - also checking to see if same issue occurs with map (weird white coloration):\n",
    "#js_snippet = \"\"\"\n",
    "#var image1 = ee.Image('LANDSAT/LT05/C01/T1_SR/LT05_014034_20000816'); \n",
    "#Map.addLayer(image1, {bands:['B4', 'B3', 'B2']}, 'ColorIR composite');\n",
    "#\"\"\"\n",
    "#geemap.js_snippet_to_py(js_snippet, add_new_cell = True, import_ee = True, import_geemap = True, show_map = True)"
   ]
  },
  {
   "cell_type": "code",
   "execution_count": 76,
   "id": "helpful-detective",
   "metadata": {},
   "outputs": [],
   "source": [
    "#list of plots in Virginia LTER dataset (not including broad creek)\n",
    "plot_pts = ee.FeatureCollection([\n",
    "  ee.Feature(ee.Geometry.Point([-75.372740, 37.903114]), {'plot_id': 1}), #Assateague\n",
    "  ee.Feature(ee.Geometry.Point([-75.671577, 37.625273]), {'plot_id': 2}), #Bellvue\n",
    "  ee.Feature(ee.Geometry.Point([-75.876094, 37.395746]), {'plot_id': 3}), #Box_Tree\n",
    "  ee.Feature(ee.Geometry.Point([-75.652248, 37.709249]), {'plot_id': 4}), #Channel_Point\n",
    "  ee.Feature(ee.Geometry.Point([-75.942331, 37.175055]), {'plot_id': 5}), #Cushmans\n",
    "  ee.Feature(ee.Geometry.Point([-75.940586, 37.167409]), {'plot_id': 6}), #Gator\n",
    "  ee.Feature(ee.Geometry.Point([-75.814954, 37.485033]), {'plot_id': 7}), #Greens_Creek\n",
    "  ee.Feature(ee.Geometry.Point([-75.672871, 37.451132]), {'plot_id': 8}), #Hog\n",
    "  ee.Feature(ee.Geometry.Point([-75.900996, 37.346190]), {'plot_id': 9}), #Indiantown\n",
    "  ee.Feature(ee.Geometry.Point([-75.558264, 37.784154]), {'plot_id': 10}), #Kegotank\n",
    "  ee.Feature(ee.Geometry.Point([-75.861733, 37.416783]), {'plot_id': 11}), #Mill_Creek\n",
    "  ee.Feature(ee.Geometry.Point([-75.822928, 37.468043]), {'plot_id': 12}), #N_Brownsville\n",
    "  ee.Feature(ee.Geometry.Point([-75.929133, 37.287549]), {'plot_id': 13}), #Oyster\n",
    "  ee.Feature(ee.Geometry.Point([-75.940690, 37.181277]), {'plot_id': 14}), #Steelmans\n",
    "  ee.Feature(ee.Geometry.Point([-75.447000, 37.880000]), {'plot_id': 15}), #Wallops\n",
    "  ee.Feature(ee.Geometry.Point([-75.819360, 37.481998]), {'plot_id': 16}) #Woodland_Farm\n",
    "])\n"
   ]
  },
  {
   "cell_type": "code",
   "execution_count": 56,
   "id": "vital-reform",
   "metadata": {},
   "outputs": [
    {
     "name": "stdout",
     "output_type": "stream",
     "text": [
      "37\n"
     ]
    }
   ],
   "source": [
    "#landsat 5 surface reflectance images\n",
    "\n",
    "roi = ee.Geometry.Point(-75.876094, 37.395746)\n",
    "\n",
    "filteredCollectionLS5 = ee.ImageCollection('LANDSAT/LT05/C01/T1_SR') \\\n",
    "    .filter(ee.Filter.calendarRange(1999, 2017,'year')) \\\n",
    "    .filter(ee.Filter.calendarRange(8, 9,'month')) \\\n",
    "    .filterBounds(plot_pts) \\\n",
    "    .filterMetadata('CLOUD_COVER', 'less_than', 100) \\\n",
    "    .sort('CLOUD_COVER', True)\n",
    "\n",
    "vis_param = {'min': 0, \n",
    "             'max': 2000, \n",
    "             'bands': ['B4', 'B3', 'B2'], \n",
    "             'gamma': 1.5}\n",
    "\n",
    "print(filteredCollectionLS5.size().getInfo())\n",
    "image0 = filteredCollectionLS5.first()\n",
    "#print(image0.getInfo())"
   ]
  },
  {
   "cell_type": "code",
   "execution_count": 33,
   "id": "satisfied-helicopter",
   "metadata": {},
   "outputs": [
    {
     "name": "stdout",
     "output_type": "stream",
     "text": [
      "CLOUD_COVER:  24\n"
     ]
    }
   ],
   "source": [
    "#determining cloud cover\n",
    "cloudiness = image06.get('CLOUD_COVER')\n",
    "print('CLOUD_COVER: ', cloudiness.getInfo())"
   ]
  },
  {
   "cell_type": "code",
   "execution_count": 57,
   "id": "deadly-africa",
   "metadata": {},
   "outputs": [
    {
     "data": {
      "text/plain": [
       "['LANDSAT/LT05/C01/T1_SR/LT05_014034_20060801',\n",
       " 'LANDSAT/LT05/C01/T1_SR/LT05_014034_20070804',\n",
       " 'LANDSAT/LT05/C01/T1_SR/LT05_014034_20070905',\n",
       " 'LANDSAT/LT05/C01/T1_SR/LT05_014034_20110831',\n",
       " 'LANDSAT/LT05/C01/T1_SR/LT05_014034_20030926',\n",
       " 'LANDSAT/LT05/C01/T1_SR/LT05_014034_20060918',\n",
       " 'LANDSAT/LT05/C01/T1_SR/LT05_014034_20010803',\n",
       " 'LANDSAT/LT05/C01/T1_SR/LT05_014034_20040912',\n",
       " 'LANDSAT/LT05/C01/T1_SR/LT05_014034_20050814',\n",
       " 'LANDSAT/LT05/C01/T1_SR/LT05_014034_20090809',\n",
       " 'LANDSAT/LT05/C01/T1_SR/LT05_014034_20030825',\n",
       " 'LANDSAT/LT05/C01/T1_SR/LT05_014034_20040811',\n",
       " 'LANDSAT/LT05/C01/T1_SR/LT05_014034_20040827',\n",
       " 'LANDSAT/LT05/C01/T1_SR/LT05_014034_20080822',\n",
       " 'LANDSAT/LT05/C01/T1_SR/LT05_014034_20110815',\n",
       " 'LANDSAT/LT05/C01/T1_SR/LT05_014034_20090825',\n",
       " 'LANDSAT/LT05/C01/T1_SR/LT05_014034_20020907',\n",
       " 'LANDSAT/LT05/C01/T1_SR/LT05_014034_20100828',\n",
       " 'LANDSAT/LT05/C01/T1_SR/LT05_014034_20000901',\n",
       " 'LANDSAT/LT05/C01/T1_SR/LT05_014034_20000816',\n",
       " 'LANDSAT/LT05/C01/T1_SR/LT05_014034_20100913',\n",
       " 'LANDSAT/LT05/C01/T1_SR/LT05_014034_20020822',\n",
       " 'LANDSAT/LT05/C01/T1_SR/LT05_014034_20060817',\n",
       " 'LANDSAT/LT05/C01/T1_SR/LT05_014034_20030910',\n",
       " 'LANDSAT/LT05/C01/T1_SR/LT05_014034_20080907',\n",
       " 'LANDSAT/LT05/C01/T1_SR/LT05_014034_20000917',\n",
       " 'LANDSAT/LT05/C01/T1_SR/LT05_014034_20020806',\n",
       " 'LANDSAT/LT05/C01/T1_SR/LT05_014034_20080923',\n",
       " 'LANDSAT/LT05/C01/T1_SR/LT05_014034_20010904',\n",
       " 'LANDSAT/LT05/C01/T1_SR/LT05_014034_20080806',\n",
       " 'LANDSAT/LT05/C01/T1_SR/LT05_014034_20110916',\n",
       " 'LANDSAT/LT05/C01/T1_SR/LT05_014034_20050915',\n",
       " 'LANDSAT/LT05/C01/T1_SR/LT05_014034_20010819',\n",
       " 'LANDSAT/LT05/C01/T1_SR/LT05_014034_20070820',\n",
       " 'LANDSAT/LT05/C01/T1_SR/LT05_014034_20100812',\n",
       " 'LANDSAT/LT05/C01/T1_SR/LT05_014034_20020923',\n",
       " 'LANDSAT/LT05/C01/T1_SR/LT05_014034_20050830']"
      ]
     },
     "execution_count": 57,
     "metadata": {},
     "output_type": "execute_result"
    }
   ],
   "source": [
    "#get list of image ids in filtered collection\n",
    "filteredCollectionLS5.aggregate_array('system:id').getInfo()\n",
    "\n",
    "#figure out image dates!!"
   ]
  },
  {
   "cell_type": "code",
   "execution_count": 61,
   "id": "6498160a",
   "metadata": {},
   "outputs": [],
   "source": [
    "#add image number for each of the images in the filtered collection - closer to 8/15 is best\n",
    "image00 = ee.Image('LANDSAT/LT05/C01/T1_SR/LT05_014034_20000901') #pushed to later date bc clouds\n",
    "image01 = ee.Image('LANDSAT/LT05/C01/T1_SR/LT05_014034_20010803') #clouds over some points\n",
    "image02 = ee.Image('LANDSAT/LT05/C01/T1_SR/LT05_014034_20020822') #CLOUDS - make composite??? how\n",
    "image03 = ee.Image('LANDSAT/LT05/C01/T1_SR/LT05_014034_20030825') #clouds?\n",
    "image04 = ee.Image('LANDSAT/LT05/C01/T1_SR/LT05_014034_20040811')\n",
    "image05 = ee.Image('LANDSAT/LT05/C01/T1_SR/LT05_014034_20050814')\n",
    "image06 = ee.Image('LANDSAT/LT05/C01/T1_SR/LT05_014034_20060817') #image0 is 2006 - lower cloud coverage, maybe use?\n",
    "image07 = ee.Image('LANDSAT/LT05/C01/T1_SR/LT05_014034_20070804')\n",
    "image08 = ee.Image('LANDSAT/LT05/C01/T1_SR/LT05_014034_20080822')\n",
    "image09 = ee.Image('LANDSAT/LT05/C01/T1_SR/LT05_014034_20090809')\n",
    "image10 = ee.Image('LANDSAT/LT05/C01/T1_SR/LT05_014034_20100828') #CLOUDS?\n",
    "image11 = ee.Image('LANDSAT/LT05/C01/T1_SR/LT05_014034_20110815')\n",
    "#image12 = ee.Image()\n",
    "#image13 = ee.Image()\n",
    "#landsat 8?"
   ]
  },
  {
   "cell_type": "code",
   "execution_count": 79,
   "id": "a3f921a0",
   "metadata": {},
   "outputs": [
    {
     "data": {
      "application/vnd.jupyter.widget-view+json": {
       "model_id": "774e55f3af364cc0a82045870b53f37d",
       "version_major": 2,
       "version_minor": 0
      },
      "text/plain": [
       "Map(center=[37.395746, -75.876094], controls=(WidgetControl(options=['position'], widget=HBox(children=(Toggle…"
      ]
     },
     "metadata": {},
     "output_type": "display_data"
    }
   ],
   "source": [
    "#Mapping\n",
    "#Add Earth Engine dataset\n",
    "Map = geemap.Map(center=[40,-100], zoom=4)\n",
    "\n",
    "Map.addLayer(image07, vis_param, \"Landsat5SR\")\n",
    "\n",
    "Map.centerObject(roi, 10)\n",
    "Map.set_plot_options(add_marker_cluster = True) #not sure what this does\n",
    "\n",
    "#calculate ndvi\n",
    "ndvi = image00.normalizedDifference(['B4', 'B3']).rename('NDVI')\n",
    "vis_ndvi = {'min': -1, \n",
    "             'max': 1, \n",
    "             'palette': ['blue', 'white', 'green']}\n",
    "#Map.addLayer(ndvi, vis_ndvi, \"NDVI\")\n",
    "\n",
    "#add feature collection points for each plot\n",
    "Map.addLayer(plot_pts)\n",
    "\n",
    "Map"
   ]
  },
  {
   "cell_type": "code",
   "execution_count": 11,
   "id": "6679456c",
   "metadata": {
    "scrolled": false
   },
   "outputs": [],
   "source": [
    "#extracting raster values for points; \n",
    "#from: https://developers.google.com/earth-engine/tutorials/community/extract-raster-values-for-points\n",
    "#buffering points\n"
   ]
  },
  {
   "cell_type": "code",
   "execution_count": 75,
   "id": "8c47fcaf",
   "metadata": {},
   "outputs": [
    {
     "name": "stdout",
     "output_type": "stream",
     "text": [
      "Generating URL ...\n",
      "Downloading data from https://earthengine.googleapis.com/v1alpha/projects/earthengine-legacy/tables/f49bb239931dfbf8de8a238ae9c7f5af-0de970a34c0e8ae3acb25e6f2432d7df:getFeatures\n",
      "Please wait ...\n",
      "Data downloaded to /Users/asariversjulien/Downloads/ndvipoints11.csv\n"
     ]
    }
   ],
   "source": [
    "#Exporting pixel values - any way to do this without manually selecting \n",
    "in_fc = plot_pts\n",
    "\n",
    "#export data\n",
    "out_dir = os.path.expanduser('~/Downloads')\n",
    "out_csv = os.path.join(out_dir, 'ndvipoints0.csv')\n",
    "#out_shp = os.path.join(out_dir, 'points.shp') #shapefile exporting\n",
    "geemap.extract_values_to_points(in_fc, image0, out_csv)"
   ]
  },
  {
   "cell_type": "code",
   "execution_count": 39,
   "id": "9b642764",
   "metadata": {},
   "outputs": [],
   "source": [
    "print(\"hi\")"
   ]
  },
  {
   "cell_type": "code",
   "execution_count": 13,
   "id": "d9c42182",
   "metadata": {},
   "outputs": [
    {
     "name": "stdout",
     "output_type": "stream",
     "text": [
      "hi\n"
     ]
    }
   ],
   "source": [
    "print(\"hi\")\n"
   ]
  },
  {
   "cell_type": "code",
   "execution_count": null,
   "id": "5f9ee077",
   "metadata": {},
   "outputs": [],
   "source": []
  }
 ],
 "metadata": {
  "kernelspec": {
   "display_name": "feesh",
   "language": "python",
   "name": "feesh"
  },
  "language_info": {
   "codemirror_mode": {
    "name": "ipython",
    "version": 3
   },
   "file_extension": ".py",
   "mimetype": "text/x-python",
   "name": "python",
   "nbconvert_exporter": "python",
   "pygments_lexer": "ipython3",
   "version": "3.9.4"
  }
 },
 "nbformat": 4,
 "nbformat_minor": 5
}
