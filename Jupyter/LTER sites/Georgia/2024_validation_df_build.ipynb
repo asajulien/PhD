{
 "cells": [
  {
   "cell_type": "code",
   "execution_count": 29,
   "id": "c064186f",
   "metadata": {},
   "outputs": [
    {
     "data": {
      "text/html": [
       "\n",
       "            <style>\n",
       "                .geemap-dark {\n",
       "                    --jp-widgets-color: white;\n",
       "                    --jp-widgets-label-color: white;\n",
       "                    --jp-ui-font-color1: white;\n",
       "                    --jp-layout-color2: #454545;\n",
       "                    background-color: #383838;\n",
       "                }\n",
       "\n",
       "                .geemap-dark .jupyter-button {\n",
       "                    --jp-layout-color3: #383838;\n",
       "                }\n",
       "\n",
       "                .geemap-colab {\n",
       "                    background-color: var(--colab-primary-surface-color, white);\n",
       "                }\n",
       "\n",
       "                .geemap-colab .jupyter-button {\n",
       "                    --jp-layout-color3: var(--colab-primary-surface-color, white);\n",
       "                }\n",
       "            </style>\n",
       "            "
      ],
      "text/plain": [
       "<IPython.core.display.HTML object>"
      ]
     },
     "metadata": {},
     "output_type": "display_data"
    }
   ],
   "source": [
    "import pandas as pd\n",
    "import numpy as np\n",
    "import matplotlib.pyplot as plt\n",
    "import pdb\n",
    "from IPython.display import display\n",
    "import os\n",
    "import seaborn as sns\n",
    "import statsmodels.formula.api as sm\n",
    "from numpy.polynomial.polynomial import polyfit\n",
    "from sklearn.model_selection import train_test_split\n",
    "import sklearn\n",
    "from math import sqrt\n",
    "import glob"
   ]
  },
  {
   "cell_type": "code",
   "execution_count": 30,
   "id": "443b127d",
   "metadata": {},
   "outputs": [
    {
     "data": {
      "text/html": [
       "\n",
       "            <style>\n",
       "                .geemap-dark {\n",
       "                    --jp-widgets-color: white;\n",
       "                    --jp-widgets-label-color: white;\n",
       "                    --jp-ui-font-color1: white;\n",
       "                    --jp-layout-color2: #454545;\n",
       "                    background-color: #383838;\n",
       "                }\n",
       "\n",
       "                .geemap-dark .jupyter-button {\n",
       "                    --jp-layout-color3: #383838;\n",
       "                }\n",
       "\n",
       "                .geemap-colab {\n",
       "                    background-color: var(--colab-primary-surface-color, white);\n",
       "                }\n",
       "\n",
       "                .geemap-colab .jupyter-button {\n",
       "                    --jp-layout-color3: var(--colab-primary-surface-color, white);\n",
       "                }\n",
       "            </style>\n",
       "            "
      ],
      "text/plain": [
       "<IPython.core.display.HTML object>"
      ]
     },
     "metadata": {},
     "output_type": "display_data"
    }
   ],
   "source": [
    "##PC:\n",
    "path = r'C:/Users/arj26323/Documents/Data/Biomass datasets/Pennings/Validation_2024' \n",
    "all_files = glob.glob(path + \"/*.csv\")\n",
    "\n",
    "li = []\n",
    "\n",
    "for filename in all_files:\n",
    "    df = pd.read_csv(filename, index_col=None, header=0)\n",
    "    li.append(df)\n",
    "\n",
    "df = pd.concat(li, axis=0, ignore_index=True)"
   ]
  },
  {
   "cell_type": "code",
   "execution_count": 11,
   "id": "a1f7bc67",
   "metadata": {},
   "outputs": [
    {
     "name": "stderr",
     "output_type": "stream",
     "text": [
      "C:\\Users\\arj26323\\AppData\\Local\\Temp\\ipykernel_8232\\3621018739.py:9: FutureWarning: The provided callable <function sum at 0x000002ACC1D9FE20> is currently using SeriesGroupBy.sum. In a future version of pandas, the provided callable will be used directly. To keep current behavior pass 'sum' instead.\n",
      "  df_sum = df.groupby(['Plot','Latitude', 'Longitude', 'Year'], as_index = False).aggregate(\n",
      "C:\\Users\\arj26323\\AppData\\Local\\Temp\\ipykernel_8232\\3621018739.py:9: FutureWarning: The provided callable <function mean at 0x000002ACC1DDCDC0> is currently using SeriesGroupBy.mean. In a future version of pandas, the provided callable will be used directly. To keep current behavior pass 'mean' instead.\n",
      "  df_sum = df.groupby(['Plot','Latitude', 'Longitude', 'Year'], as_index = False).aggregate(\n"
     ]
    },
    {
     "name": "stdout",
     "output_type": "stream",
     "text": [
      "4036.388\n"
     ]
    },
    {
     "data": {
      "image/png": "[encoded data removed]",
      "text/plain": [
       "<Figure size 640x480 with 1 Axes>"
      ]
     },
     "metadata": {},
     "output_type": "display_data"
    }
   ],
   "source": [
    "df['Date'] = pd.to_datetime(df[['Year', 'Month', 'Day']])\n",
    "\n",
    "#df = df[df['Species_Code'] == 'A1'] ##Remove all non-Spartina alterniflora plots - messes up unique coordinates section\n",
    "##Need to filter out other species later!\n",
    "\n",
    "df = df[df['Zone'] >= 0] ##Zone \"-1\" in 2013 needs to be addressed - refers to old plot location that was relocated\n",
    "\n",
    "\n",
    "df_sum = df.groupby(['Plot','Latitude', 'Longitude', 'Year'], as_index = False).aggregate(\n",
    "    {\n",
    "        'Plant_Biomass':[np.sum, np.size], 'Quadrat_Area':[np.mean], \n",
    "        'Species_Code':'first', 'Flowering_Status':'first','Date':'first'\n",
    "    }\n",
    ") \n",
    "\n",
    "\n",
    "df_sum.columns = [\n",
    "    'Plot','Latitude','Longitude','Year','Plant_Biomass', 'Sample_Size', 'Quadrat_Area', 'Species_Code',\n",
    "    'Flowering_Status', 'Date'\n",
    "]\n",
    "\n",
    "\n",
    "df_sum['Plant_Biomass'] = df_sum['Plant_Biomass']/df_sum['Quadrat_Area']\n",
    "\n",
    "df_sum['Plant_Biomass'].hist(bins = 50)\n",
    "\n",
    "df_sum\n",
    "print(max(df_sum['Plant_Biomass']))\n"
   ]
  },
  {
   "cell_type": "code",
   "execution_count": 31,
   "id": "64589657",
   "metadata": {},
   "outputs": [
    {
     "data": {
      "text/html": [
       "\n",
       "            <style>\n",
       "                .geemap-dark {\n",
       "                    --jp-widgets-color: white;\n",
       "                    --jp-widgets-label-color: white;\n",
       "                    --jp-ui-font-color1: white;\n",
       "                    --jp-layout-color2: #454545;\n",
       "                    background-color: #383838;\n",
       "                }\n",
       "\n",
       "                .geemap-dark .jupyter-button {\n",
       "                    --jp-layout-color3: #383838;\n",
       "                }\n",
       "\n",
       "                .geemap-colab {\n",
       "                    background-color: var(--colab-primary-surface-color, white);\n",
       "                }\n",
       "\n",
       "                .geemap-colab .jupyter-button {\n",
       "                    --jp-layout-color3: var(--colab-primary-surface-color, white);\n",
       "                }\n",
       "            </style>\n",
       "            "
      ],
      "text/plain": [
       "<IPython.core.display.HTML object>"
      ]
     },
     "metadata": {},
     "output_type": "display_data"
    }
   ],
   "source": [
    "##Exporting coordinates\n",
    "\n",
    "out_dir = os.path.expanduser('~/Downloads')\n",
    "out_csv = os.path.join(out_dir, '2024_validation.csv')\n",
    "\n",
    "#df_sum.to_csv(out_csv)"
   ]
  },
  {
   "cell_type": "code",
   "execution_count": 14,
   "id": "290dabc8",
   "metadata": {},
   "outputs": [
    {
     "data": {
      "text/html": [
       "<div>\n",
       "<style scoped>\n",
       "    .dataframe tbody tr th:only-of-type {\n",
       "        vertical-align: middle;\n",
       "    }\n",
       "\n",
       "    .dataframe tbody tr th {\n",
       "        vertical-align: top;\n",
       "    }\n",
       "\n",
       "    .dataframe thead th {\n",
       "        text-align: right;\n",
       "    }\n",
       "</style>\n",
       "<table border=\"1\" class=\"dataframe\">\n",
       "  <thead>\n",
       "    <tr style=\"text-align: right;\">\n",
       "      <th></th>\n",
       "      <th>Latitude</th>\n",
       "      <th>Longitude</th>\n",
       "      <th>Year</th>\n",
       "      <th>Plant_Biomass</th>\n",
       "      <th>Species_Code</th>\n",
       "      <th>Date</th>\n",
       "    </tr>\n",
       "  </thead>\n",
       "  <tbody>\n",
       "    <tr>\n",
       "      <th>0</th>\n",
       "      <td>31.335090</td>\n",
       "      <td>-81.478689</td>\n",
       "      <td>2024</td>\n",
       "      <td>770.690</td>\n",
       "      <td>A4</td>\n",
       "      <td>2024-10-14</td>\n",
       "    </tr>\n",
       "    <tr>\n",
       "      <th>1</th>\n",
       "      <td>31.335155</td>\n",
       "      <td>-81.478596</td>\n",
       "      <td>2024</td>\n",
       "      <td>815.772</td>\n",
       "      <td>A4</td>\n",
       "      <td>2024-10-14</td>\n",
       "    </tr>\n",
       "    <tr>\n",
       "      <th>2</th>\n",
       "      <td>31.351197</td>\n",
       "      <td>-81.333752</td>\n",
       "      <td>2024</td>\n",
       "      <td>1625.696</td>\n",
       "      <td>A1</td>\n",
       "      <td>2024-10-17</td>\n",
       "    </tr>\n",
       "    <tr>\n",
       "      <th>3</th>\n",
       "      <td>31.388340</td>\n",
       "      <td>-81.280132</td>\n",
       "      <td>2024</td>\n",
       "      <td>378.160</td>\n",
       "      <td>A1</td>\n",
       "      <td>2024-10-11</td>\n",
       "    </tr>\n",
       "    <tr>\n",
       "      <th>4</th>\n",
       "      <td>31.436011</td>\n",
       "      <td>-81.340698</td>\n",
       "      <td>2024</td>\n",
       "      <td>585.600</td>\n",
       "      <td>A1</td>\n",
       "      <td>2024-10-15</td>\n",
       "    </tr>\n",
       "    <tr>\n",
       "      <th>...</th>\n",
       "      <td>...</td>\n",
       "      <td>...</td>\n",
       "      <td>...</td>\n",
       "      <td>...</td>\n",
       "      <td>...</td>\n",
       "      <td>...</td>\n",
       "    </tr>\n",
       "    <tr>\n",
       "      <th>163</th>\n",
       "      <td>31.388004</td>\n",
       "      <td>-81.279872</td>\n",
       "      <td>2024</td>\n",
       "      <td>929.688</td>\n",
       "      <td>A1</td>\n",
       "      <td>2024-10-11</td>\n",
       "    </tr>\n",
       "    <tr>\n",
       "      <th>164</th>\n",
       "      <td>31.387745</td>\n",
       "      <td>-81.279730</td>\n",
       "      <td>2024</td>\n",
       "      <td>303.892</td>\n",
       "      <td>A1</td>\n",
       "      <td>2024-10-11</td>\n",
       "    </tr>\n",
       "    <tr>\n",
       "      <th>165</th>\n",
       "      <td>31.307682</td>\n",
       "      <td>-81.415608</td>\n",
       "      <td>2024</td>\n",
       "      <td>1571.188</td>\n",
       "      <td>A13</td>\n",
       "      <td>2024-10-14</td>\n",
       "    </tr>\n",
       "    <tr>\n",
       "      <th>166</th>\n",
       "      <td>31.538427</td>\n",
       "      <td>-81.422332</td>\n",
       "      <td>2024</td>\n",
       "      <td>198.556</td>\n",
       "      <td>A1</td>\n",
       "      <td>2024-10-12</td>\n",
       "    </tr>\n",
       "    <tr>\n",
       "      <th>167</th>\n",
       "      <td>31.535648</td>\n",
       "      <td>-81.295100</td>\n",
       "      <td>2024</td>\n",
       "      <td>2616.320</td>\n",
       "      <td>A1</td>\n",
       "      <td>2024-10-15</td>\n",
       "    </tr>\n",
       "  </tbody>\n",
       "</table>\n",
       "<p>168 rows × 6 columns</p>\n",
       "</div>"
      ],
      "text/plain": [
       "      Latitude  Longitude  Year  Plant_Biomass Species_Code       Date\n",
       "0    31.335090 -81.478689  2024        770.690           A4 2024-10-14\n",
       "1    31.335155 -81.478596  2024        815.772           A4 2024-10-14\n",
       "2    31.351197 -81.333752  2024       1625.696           A1 2024-10-17\n",
       "3    31.388340 -81.280132  2024        378.160           A1 2024-10-11\n",
       "4    31.436011 -81.340698  2024        585.600           A1 2024-10-15\n",
       "..         ...        ...   ...            ...          ...        ...\n",
       "163  31.388004 -81.279872  2024        929.688           A1 2024-10-11\n",
       "164  31.387745 -81.279730  2024        303.892           A1 2024-10-11\n",
       "165  31.307682 -81.415608  2024       1571.188          A13 2024-10-14\n",
       "166  31.538427 -81.422332  2024        198.556           A1 2024-10-12\n",
       "167  31.535648 -81.295100  2024       2616.320           A1 2024-10-15\n",
       "\n",
       "[168 rows x 6 columns]"
      ]
     },
     "execution_count": 14,
     "metadata": {},
     "output_type": "execute_result"
    }
   ],
   "source": [
    "df_sum\n",
    "df0 = df_sum[['Latitude', 'Longitude', 'Year', 'Plant_Biomass', 'Species_Code', 'Date']]\n",
    "df0"
   ]
  },
  {
   "cell_type": "code",
   "execution_count": 15,
   "id": "df22b729",
   "metadata": {},
   "outputs": [
    {
     "name": "stdout",
     "output_type": "stream",
     "text": [
      "0.34.1\n"
     ]
    },
    {
     "name": "stderr",
     "output_type": "stream",
     "text": [
      "*** Earth Engine *** Share your feedback by taking our Annual Developer Satisfaction Survey: https://google.qualtrics.com/jfe/form/SV_7TDKVSyKvBdmMqW?ref=4i2o6\n"
     ]
    }
   ],
   "source": [
    "import ee\n",
    "import geemap\n",
    "service_account = ' boba-account@boba-430314.iam.gserviceaccount.com '\n",
    "credentials = ee.ServiceAccountCredentials(service_account,'C:/Users/arj26323/OneDrive - University of Georgia/Documents/GEE AUTH/boba-430314-a19be859bfca.json')\n",
    "\n",
    "ee.Initialize(credentials)\n",
    "\n",
    "print(geemap.__version__)"
   ]
  },
  {
   "cell_type": "code",
   "execution_count": 19,
   "id": "d536ba92",
   "metadata": {},
   "outputs": [
    {
     "data": {
      "text/html": [
       "\n",
       "            <style>\n",
       "                .geemap-dark {\n",
       "                    --jp-widgets-color: white;\n",
       "                    --jp-widgets-label-color: white;\n",
       "                    --jp-ui-font-color1: white;\n",
       "                    --jp-layout-color2: #454545;\n",
       "                    background-color: #383838;\n",
       "                }\n",
       "\n",
       "                .geemap-dark .jupyter-button {\n",
       "                    --jp-layout-color3: #383838;\n",
       "                }\n",
       "\n",
       "                .geemap-colab {\n",
       "                    background-color: var(--colab-primary-surface-color, white);\n",
       "                }\n",
       "\n",
       "                .geemap-colab .jupyter-button {\n",
       "                    --jp-layout-color3: var(--colab-primary-surface-color, white);\n",
       "                }\n",
       "            </style>\n",
       "            "
      ],
      "text/plain": [
       "<IPython.core.display.HTML object>"
      ]
     },
     "metadata": {},
     "output_type": "display_data"
    }
   ],
   "source": [
    "fc_all = geemap.pandas_to_ee(df0, latitude = \"Latitude\", longitude = \"Longitude\")"
   ]
  },
  {
   "cell_type": "code",
   "execution_count": 20,
   "id": "4af90d42",
   "metadata": {},
   "outputs": [
    {
     "data": {
      "text/html": [
       "\n",
       "            <style>\n",
       "                .geemap-dark {\n",
       "                    --jp-widgets-color: white;\n",
       "                    --jp-widgets-label-color: white;\n",
       "                    --jp-ui-font-color1: white;\n",
       "                    --jp-layout-color2: #454545;\n",
       "                    background-color: #383838;\n",
       "                }\n",
       "\n",
       "                .geemap-dark .jupyter-button {\n",
       "                    --jp-layout-color3: #383838;\n",
       "                }\n",
       "\n",
       "                .geemap-colab {\n",
       "                    background-color: var(--colab-primary-surface-color, white);\n",
       "                }\n",
       "\n",
       "                .geemap-colab .jupyter-button {\n",
       "                    --jp-layout-color3: var(--colab-primary-surface-color, white);\n",
       "                }\n",
       "            </style>\n",
       "            "
      ],
      "text/plain": [
       "<IPython.core.display.HTML object>"
      ]
     },
     "metadata": {},
     "output_type": "display_data"
    },
    {
     "ename": "TraitError",
     "evalue": "The 'east' trait of a Map instance expected a float, not the NoneType None.",
     "output_type": "error",
     "traceback": [
      "\u001b[1;31m---------------------------------------------------------------------------\u001b[0m",
      "\u001b[1;31mTraitError\u001b[0m                                Traceback (most recent call last)",
      "File \u001b[1;32mC:\\ProgramData\\Anaconda3\\envs\\geeml\\lib\\site-packages\\ipywidgets\\widgets\\widget.py:676\u001b[0m, in \u001b[0;36mWidget._handle_msg\u001b[1;34m(self, msg)\u001b[0m\n\u001b[0;32m    674\u001b[0m         \u001b[38;5;28;01mif\u001b[39;00m \u001b[38;5;124m'\u001b[39m\u001b[38;5;124mbuffer_paths\u001b[39m\u001b[38;5;124m'\u001b[39m \u001b[38;5;129;01min\u001b[39;00m data:\n\u001b[0;32m    675\u001b[0m             _put_buffers(state, data[\u001b[38;5;124m'\u001b[39m\u001b[38;5;124mbuffer_paths\u001b[39m\u001b[38;5;124m'\u001b[39m], msg[\u001b[38;5;124m'\u001b[39m\u001b[38;5;124mbuffers\u001b[39m\u001b[38;5;124m'\u001b[39m])\n\u001b[1;32m--> 676\u001b[0m         \u001b[38;5;28;43mself\u001b[39;49m\u001b[38;5;241;43m.\u001b[39;49m\u001b[43mset_state\u001b[49m\u001b[43m(\u001b[49m\u001b[43mstate\u001b[49m\u001b[43m)\u001b[49m\n\u001b[0;32m    678\u001b[0m \u001b[38;5;66;03m# Handle a state request.\u001b[39;00m\n\u001b[0;32m    679\u001b[0m \u001b[38;5;28;01melif\u001b[39;00m method \u001b[38;5;241m==\u001b[39m \u001b[38;5;124m'\u001b[39m\u001b[38;5;124mrequest_state\u001b[39m\u001b[38;5;124m'\u001b[39m:\n",
      "File \u001b[1;32mC:\\ProgramData\\Anaconda3\\envs\\geeml\\lib\\site-packages\\ipywidgets\\widgets\\widget.py:545\u001b[0m, in \u001b[0;36mWidget.set_state\u001b[1;34m(self, sync_data)\u001b[0m\n\u001b[0;32m    542\u001b[0m \u001b[38;5;28;01mif\u001b[39;00m name \u001b[38;5;129;01min\u001b[39;00m \u001b[38;5;28mself\u001b[39m\u001b[38;5;241m.\u001b[39mkeys:\n\u001b[0;32m    543\u001b[0m     from_json \u001b[38;5;241m=\u001b[39m \u001b[38;5;28mself\u001b[39m\u001b[38;5;241m.\u001b[39mtrait_metadata(name, \u001b[38;5;124m'\u001b[39m\u001b[38;5;124mfrom_json\u001b[39m\u001b[38;5;124m'\u001b[39m,\n\u001b[0;32m    544\u001b[0m                                     \u001b[38;5;28mself\u001b[39m\u001b[38;5;241m.\u001b[39m_trait_from_json)\n\u001b[1;32m--> 545\u001b[0m     \u001b[38;5;28;43mself\u001b[39;49m\u001b[38;5;241;43m.\u001b[39;49m\u001b[43mset_trait\u001b[49m\u001b[43m(\u001b[49m\u001b[43mname\u001b[49m\u001b[43m,\u001b[49m\u001b[43m \u001b[49m\u001b[43mfrom_json\u001b[49m\u001b[43m(\u001b[49m\u001b[43msync_data\u001b[49m\u001b[43m[\u001b[49m\u001b[43mname\u001b[49m\u001b[43m]\u001b[49m\u001b[43m,\u001b[49m\u001b[43m \u001b[49m\u001b[38;5;28;43mself\u001b[39;49m\u001b[43m)\u001b[49m\u001b[43m)\u001b[49m\n",
      "File \u001b[1;32mC:\\ProgramData\\Anaconda3\\envs\\geeml\\lib\\site-packages\\traitlets\\traitlets.py:1738\u001b[0m, in \u001b[0;36mHasTraits.set_trait\u001b[1;34m(self, name, value)\u001b[0m\n\u001b[0;32m   1736\u001b[0m     \u001b[38;5;28;01mraise\u001b[39;00m TraitError(\u001b[38;5;124mf\u001b[39m\u001b[38;5;124m\"\u001b[39m\u001b[38;5;124mClass \u001b[39m\u001b[38;5;132;01m{\u001b[39;00m\u001b[38;5;28mcls\u001b[39m\u001b[38;5;241m.\u001b[39m\u001b[38;5;18m__name__\u001b[39m\u001b[38;5;132;01m}\u001b[39;00m\u001b[38;5;124m does not have a trait named \u001b[39m\u001b[38;5;132;01m{\u001b[39;00mname\u001b[38;5;132;01m}\u001b[39;00m\u001b[38;5;124m\"\u001b[39m)\n\u001b[0;32m   1737\u001b[0m \u001b[38;5;28;01melse\u001b[39;00m:\n\u001b[1;32m-> 1738\u001b[0m     \u001b[38;5;28;43mgetattr\u001b[39;49m\u001b[43m(\u001b[49m\u001b[38;5;28;43mcls\u001b[39;49m\u001b[43m,\u001b[49m\u001b[43m \u001b[49m\u001b[43mname\u001b[49m\u001b[43m)\u001b[49m\u001b[38;5;241;43m.\u001b[39;49m\u001b[43mset\u001b[49m\u001b[43m(\u001b[49m\u001b[38;5;28;43mself\u001b[39;49m\u001b[43m,\u001b[49m\u001b[43m \u001b[49m\u001b[43mvalue\u001b[49m\u001b[43m)\u001b[49m\n",
      "File \u001b[1;32mC:\\ProgramData\\Anaconda3\\envs\\geeml\\lib\\site-packages\\traitlets\\traitlets.py:703\u001b[0m, in \u001b[0;36mTraitType.set\u001b[1;34m(self, obj, value)\u001b[0m\n\u001b[0;32m    702\u001b[0m \u001b[38;5;28;01mdef\u001b[39;00m \u001b[38;5;21mset\u001b[39m(\u001b[38;5;28mself\u001b[39m, obj, value):\n\u001b[1;32m--> 703\u001b[0m     new_value \u001b[38;5;241m=\u001b[39m \u001b[38;5;28;43mself\u001b[39;49m\u001b[38;5;241;43m.\u001b[39;49m\u001b[43m_validate\u001b[49m\u001b[43m(\u001b[49m\u001b[43mobj\u001b[49m\u001b[43m,\u001b[49m\u001b[43m \u001b[49m\u001b[43mvalue\u001b[49m\u001b[43m)\u001b[49m\n\u001b[0;32m    704\u001b[0m     \u001b[38;5;28;01mtry\u001b[39;00m:\n\u001b[0;32m    705\u001b[0m         old_value \u001b[38;5;241m=\u001b[39m obj\u001b[38;5;241m.\u001b[39m_trait_values[\u001b[38;5;28mself\u001b[39m\u001b[38;5;241m.\u001b[39mname]\n",
      "File \u001b[1;32mC:\\ProgramData\\Anaconda3\\envs\\geeml\\lib\\site-packages\\traitlets\\traitlets.py:735\u001b[0m, in \u001b[0;36mTraitType._validate\u001b[1;34m(self, obj, value)\u001b[0m\n\u001b[0;32m    733\u001b[0m     \u001b[38;5;28;01mreturn\u001b[39;00m value\n\u001b[0;32m    734\u001b[0m \u001b[38;5;28;01mif\u001b[39;00m \u001b[38;5;28mhasattr\u001b[39m(\u001b[38;5;28mself\u001b[39m, \u001b[38;5;124m\"\u001b[39m\u001b[38;5;124mvalidate\u001b[39m\u001b[38;5;124m\"\u001b[39m):\n\u001b[1;32m--> 735\u001b[0m     value \u001b[38;5;241m=\u001b[39m \u001b[38;5;28;43mself\u001b[39;49m\u001b[38;5;241;43m.\u001b[39;49m\u001b[43mvalidate\u001b[49m\u001b[43m(\u001b[49m\u001b[43mobj\u001b[49m\u001b[43m,\u001b[49m\u001b[43m \u001b[49m\u001b[43mvalue\u001b[49m\u001b[43m)\u001b[49m\n\u001b[0;32m    736\u001b[0m \u001b[38;5;28;01mif\u001b[39;00m obj\u001b[38;5;241m.\u001b[39m_cross_validation_lock \u001b[38;5;129;01mis\u001b[39;00m \u001b[38;5;28;01mFalse\u001b[39;00m:\n\u001b[0;32m    737\u001b[0m     value \u001b[38;5;241m=\u001b[39m \u001b[38;5;28mself\u001b[39m\u001b[38;5;241m.\u001b[39m_cross_validate(obj, value)\n",
      "File \u001b[1;32mC:\\ProgramData\\Anaconda3\\envs\\geeml\\lib\\site-packages\\traitlets\\traitlets.py:2417\u001b[0m, in \u001b[0;36mFloat.validate\u001b[1;34m(self, obj, value)\u001b[0m\n\u001b[0;32m   2415\u001b[0m     value \u001b[38;5;241m=\u001b[39m \u001b[38;5;28mfloat\u001b[39m(value)\n\u001b[0;32m   2416\u001b[0m \u001b[38;5;28;01mif\u001b[39;00m \u001b[38;5;129;01mnot\u001b[39;00m \u001b[38;5;28misinstance\u001b[39m(value, \u001b[38;5;28mfloat\u001b[39m):\n\u001b[1;32m-> 2417\u001b[0m     \u001b[38;5;28;43mself\u001b[39;49m\u001b[38;5;241;43m.\u001b[39;49m\u001b[43merror\u001b[49m\u001b[43m(\u001b[49m\u001b[43mobj\u001b[49m\u001b[43m,\u001b[49m\u001b[43m \u001b[49m\u001b[43mvalue\u001b[49m\u001b[43m)\u001b[49m\n\u001b[0;32m   2418\u001b[0m \u001b[38;5;28;01mreturn\u001b[39;00m _validate_bounds(\u001b[38;5;28mself\u001b[39m, obj, value)\n",
      "File \u001b[1;32mC:\\ProgramData\\Anaconda3\\envs\\geeml\\lib\\site-packages\\traitlets\\traitlets.py:841\u001b[0m, in \u001b[0;36mTraitType.error\u001b[1;34m(self, obj, value, error, info)\u001b[0m\n\u001b[0;32m    835\u001b[0m \u001b[38;5;28;01melse\u001b[39;00m:\n\u001b[0;32m    836\u001b[0m     e \u001b[38;5;241m=\u001b[39m \u001b[38;5;124m\"\u001b[39m\u001b[38;5;124mThe \u001b[39m\u001b[38;5;124m'\u001b[39m\u001b[38;5;132;01m{}\u001b[39;00m\u001b[38;5;124m'\u001b[39m\u001b[38;5;124m trait expected \u001b[39m\u001b[38;5;132;01m{}\u001b[39;00m\u001b[38;5;124m, not \u001b[39m\u001b[38;5;132;01m{}\u001b[39;00m\u001b[38;5;124m.\u001b[39m\u001b[38;5;124m\"\u001b[39m\u001b[38;5;241m.\u001b[39mformat(\n\u001b[0;32m    837\u001b[0m         \u001b[38;5;28mself\u001b[39m\u001b[38;5;241m.\u001b[39mname,\n\u001b[0;32m    838\u001b[0m         \u001b[38;5;28mself\u001b[39m\u001b[38;5;241m.\u001b[39minfo(),\n\u001b[0;32m    839\u001b[0m         describe(\u001b[38;5;124m\"\u001b[39m\u001b[38;5;124mthe\u001b[39m\u001b[38;5;124m\"\u001b[39m, value),\n\u001b[0;32m    840\u001b[0m     )\n\u001b[1;32m--> 841\u001b[0m \u001b[38;5;28;01mraise\u001b[39;00m TraitError(e)\n",
      "\u001b[1;31mTraitError\u001b[0m: The 'east' trait of a Map instance expected a float, not the NoneType None."
     ]
    }
   ],
   "source": [
    "Map = geemap.Map(center=[31.539096,-81.422318], zoom=10)\n",
    "# Map.addLayer(fc_all, {}, 'points')\n",
    "# Map"
   ]
  },
  {
   "cell_type": "code",
   "execution_count": 21,
   "id": "2f492b9a",
   "metadata": {},
   "outputs": [
    {
     "data": {
      "text/html": [
       "\n",
       "            <style>\n",
       "                .geemap-dark {\n",
       "                    --jp-widgets-color: white;\n",
       "                    --jp-widgets-label-color: white;\n",
       "                    --jp-ui-font-color1: white;\n",
       "                    --jp-layout-color2: #454545;\n",
       "                    background-color: #383838;\n",
       "                }\n",
       "\n",
       "                .geemap-dark .jupyter-button {\n",
       "                    --jp-layout-color3: #383838;\n",
       "                }\n",
       "\n",
       "                .geemap-colab {\n",
       "                    background-color: var(--colab-primary-surface-color, white);\n",
       "                }\n",
       "\n",
       "                .geemap-colab .jupyter-button {\n",
       "                    --jp-layout-color3: var(--colab-primary-surface-color, white);\n",
       "                }\n",
       "            </style>\n",
       "            "
      ],
      "text/plain": [
       "<IPython.core.display.HTML object>"
      ]
     },
     "metadata": {},
     "output_type": "display_data"
    }
   ],
   "source": [
    "def maskL8sr(image):\n",
    "    qaMask = image.select('QA_PIXEL').bitwiseAnd(int('11111', 2)).eq(0)\n",
    "    saturationMask = image.select('QA_RADSAT').eq(0)\n",
    "    # Apply the scaling factors to the appropriate bands.\n",
    "    opticalBands = image.select('SR_B.').multiply(0.0000275).add(-0.2)\n",
    "    thermalBands = image.select('ST_B.*').multiply(0.00341802).add(149.0)\n",
    "    # Replace the original bands with the scaled ones and apply the masks.\n",
    "    return image.addBands(opticalBands, None, True) \\\n",
    "    .addBands(thermalBands, None, True) \\\n",
    "    .updateMask(qaMask) \\\n",
    "    .updateMask(saturationMask)"
   ]
  },
  {
   "cell_type": "code",
   "execution_count": 22,
   "id": "1f136d83",
   "metadata": {},
   "outputs": [
    {
     "data": {
      "text/html": [
       "\n",
       "            <style>\n",
       "                .geemap-dark {\n",
       "                    --jp-widgets-color: white;\n",
       "                    --jp-widgets-label-color: white;\n",
       "                    --jp-ui-font-color1: white;\n",
       "                    --jp-layout-color2: #454545;\n",
       "                    background-color: #383838;\n",
       "                }\n",
       "\n",
       "                .geemap-dark .jupyter-button {\n",
       "                    --jp-layout-color3: #383838;\n",
       "                }\n",
       "\n",
       "                .geemap-colab {\n",
       "                    background-color: var(--colab-primary-surface-color, white);\n",
       "                }\n",
       "\n",
       "                .geemap-colab .jupyter-button {\n",
       "                    --jp-layout-color3: var(--colab-primary-surface-color, white);\n",
       "                }\n",
       "            </style>\n",
       "            "
      ],
      "text/plain": [
       "<IPython.core.display.HTML object>"
      ]
     },
     "metadata": {},
     "output_type": "display_data"
    }
   ],
   "source": [
    "def addFLATSL8(image):\n",
    "    flats = ee.Image(0).expression(\n",
    "        '1/(1+2.718281828459045**-(1.51 + 12.5*(0.841*(RED-SWIR)/(RED+SWIR) - 0.019) - 41.2*(0.771*(NIR-RED)/(NIR+6*RED-7.5*BLUE+1) + 0.011)))', {\n",
    "            'SWIR': image.select('SR_B6'),\n",
    "            'NIR': image.select('SR_B5'),\n",
    "            'RED': image.select('SR_B4'),\n",
    "            'BLUE': image.select('SR_B2')\n",
    "        })\n",
    "    \n",
    "    return image.addBands(flats.rename('flats'))\n",
    "\n",
    "def addFLATSL9(image):\n",
    "    flats = ee.Image(0).expression(\n",
    "        '1/(1+2.718281828459045**-(1.51 + 12.5*(1.225*(RED-SWIR)/(RED+SWIR) + 0.096) - 41.2*(1.038* (NIR-RED)/(NIR+6*RED-7.5*BLUE+1) - 0.004)))', {\n",
    "            'SWIR': image.select('SR_B6'),\n",
    "            'NIR': image.select('SR_B5'),\n",
    "            'RED': image.select('SR_B4'),\n",
    "            'BLUE': image.select('SR_B2')\n",
    "        })\n",
    "    \n",
    "    return image.addBands(flats.rename('flats'))\n",
    "\n",
    "##MASKING FLATS\n",
    "def maskFLATS(image):\n",
    "    mask1 = image.select('flats').lte(0.2)\n",
    "    return image.updateMask(mask1)\n",
    "\n",
    "##ADDING NDVI (for min/max variables)\n",
    "def addL5ndvi(image):\n",
    "    ndvi = image.expression(\n",
    "        '(NIR-RED)/(RED+NIR)', {\n",
    "            'NIR': image.select('SR_B4'),\n",
    "            'RED': image.select('SR_B3'),\n",
    "            'GREEN': image.select('SR_B2')\n",
    "        })\n",
    "    \n",
    "    return image.addBands(ndvi.rename('ndvi'))\n",
    "\n",
    "def addL8ndvi(image):\n",
    "    ndvi = image.expression(\n",
    "        '(NIR-RED)/(RED+NIR)', {\n",
    "            'NIR': image.select('SR_B5'),\n",
    "            'RED': image.select('SR_B4'),\n",
    "            'GREEN': image.select('SR_B3')\n",
    "        })\n",
    "    \n",
    "    return image.addBands(ndvi.rename('ndvi'))"
   ]
  },
  {
   "cell_type": "code",
   "execution_count": 23,
   "id": "60b2f51b",
   "metadata": {},
   "outputs": [
    {
     "data": {
      "text/html": [
       "\n",
       "            <style>\n",
       "                .geemap-dark {\n",
       "                    --jp-widgets-color: white;\n",
       "                    --jp-widgets-label-color: white;\n",
       "                    --jp-ui-font-color1: white;\n",
       "                    --jp-layout-color2: #454545;\n",
       "                    background-color: #383838;\n",
       "                }\n",
       "\n",
       "                .geemap-dark .jupyter-button {\n",
       "                    --jp-layout-color3: #383838;\n",
       "                }\n",
       "\n",
       "                .geemap-colab {\n",
       "                    background-color: var(--colab-primary-surface-color, white);\n",
       "                }\n",
       "\n",
       "                .geemap-colab .jupyter-button {\n",
       "                    --jp-layout-color3: var(--colab-primary-surface-color, white);\n",
       "                }\n",
       "            </style>\n",
       "            "
      ],
      "text/plain": [
       "<IPython.core.display.HTML object>"
      ]
     },
     "metadata": {},
     "output_type": "display_data"
    }
   ],
   "source": [
    "##Pixel extraction functions - addDate for dateless images/collections\n",
    "def addDate(image):\n",
    "    img_date = ee.Date(image.date())\n",
    "    img_date = ee.Number.parse(img_date.format('YYYYMMdd'))\n",
    "    return image.addBands(ee.Image(img_date).rename('imagedate').toInt())\n",
    "\n",
    "##For Landsat images:\n",
    "# def rasterExtraction(image):\n",
    "#     feature = image.sampleRegions(\n",
    "#         collection = fc_all,\n",
    "#         scale = 30,\n",
    "#         tileScale = 16 #ADDED 10/6/2022 - make sure it doesn't affect results (see thread below)\n",
    "#     )\n",
    "#     return feature\n",
    "\n",
    "\n",
    "def rasterExtraction(image, fc_subset):\n",
    "    return image.sampleRegions(\n",
    "        collection=fc_subset,  # Use the subset of locations\n",
    "        scale=30,\n",
    "        tileScale=8  # Adjust tile scale for performance\n",
    "    ).map(lambda f: f.set('date', image.date().format('YYYY-MM-dd')))\n",
    "\n",
    "\n",
    "##FOR 10m DEM:\n",
    "def demExtraction(image):\n",
    "    feature = image.sampleRegions(\n",
    "        collection = fc_all,\n",
    "        scale = 10 \n",
    "    )\n",
    "    return feature\n",
    "\n",
    "##FOR 1m DEM:\n",
    "def dem1Extraction(image):\n",
    "    feature = image.sampleRegions(\n",
    "        collection = fc_all,\n",
    "        scale = 1, \n",
    "        tileScale = 16 #ADDED 11/7/2022\n",
    "\n",
    "    )\n",
    "    return feature"
   ]
  },
  {
   "cell_type": "code",
   "execution_count": 24,
   "id": "1a63dd86",
   "metadata": {},
   "outputs": [
    {
     "data": {
      "text/html": [
       "\n",
       "            <style>\n",
       "                .geemap-dark {\n",
       "                    --jp-widgets-color: white;\n",
       "                    --jp-widgets-label-color: white;\n",
       "                    --jp-ui-font-color1: white;\n",
       "                    --jp-layout-color2: #454545;\n",
       "                    background-color: #383838;\n",
       "                }\n",
       "\n",
       "                .geemap-dark .jupyter-button {\n",
       "                    --jp-layout-color3: #383838;\n",
       "                }\n",
       "\n",
       "                .geemap-colab {\n",
       "                    background-color: var(--colab-primary-surface-color, white);\n",
       "                }\n",
       "\n",
       "                .geemap-colab .jupyter-button {\n",
       "                    --jp-layout-color3: var(--colab-primary-surface-color, white);\n",
       "                }\n",
       "            </style>\n",
       "            "
      ],
      "text/plain": [
       "<IPython.core.display.HTML object>"
      ]
     },
     "metadata": {},
     "output_type": "display_data"
    }
   ],
   "source": [
    "ls8_collect = ee.ImageCollection('LANDSAT/LC08/C02/T1_L2').filterBounds(fc_all).map(maskL8sr).map(addFLATSL8)\n",
    "ls9_collect = ee.ImageCollection('LANDSAT/LC09/C02/T1_L2').filterBounds(fc_all).map(maskL8sr).map(addFLATSL8)\n",
    "\n",
    "#Merge\n",
    "ultra_col = ls8_collect.merge(ls9_collect)"
   ]
  },
  {
   "cell_type": "code",
   "execution_count": null,
   "id": "badaaa1a",
   "metadata": {},
   "outputs": [],
   "source": [
    "##Adding DEM\n",
    "dem = ee.Image('USGS/3DEP/10m') ##This is 1/3 arc second, or 10 m.\n",
    "dem1 = ee.ImageCollection('USGS/3DEP/1m')\n",
    "\n",
    "##Set visualization parameters.\n",
    "dem_params = {\n",
    "    'min': 0,\n",
    "    'max': 4000,\n",
    "    'palette': ['006633', 'E5FFCC', '662A00', 'D8D8D8', 'F5F5F5'],\n",
    "}\n",
    "\n",
    "Map.addLayer(dem, dem_params, '10m DEM')"
   ]
  },
  {
   "cell_type": "code",
   "execution_count": 25,
   "id": "e71f444a",
   "metadata": {},
   "outputs": [
    {
     "data": {
      "text/html": [
       "\n",
       "            <style>\n",
       "                .geemap-dark {\n",
       "                    --jp-widgets-color: white;\n",
       "                    --jp-widgets-label-color: white;\n",
       "                    --jp-ui-font-color1: white;\n",
       "                    --jp-layout-color2: #454545;\n",
       "                    background-color: #383838;\n",
       "                }\n",
       "\n",
       "                .geemap-dark .jupyter-button {\n",
       "                    --jp-layout-color3: #383838;\n",
       "                }\n",
       "\n",
       "                .geemap-colab {\n",
       "                    background-color: var(--colab-primary-surface-color, white);\n",
       "                }\n",
       "\n",
       "                .geemap-colab .jupyter-button {\n",
       "                    --jp-layout-color3: var(--colab-primary-surface-color, white);\n",
       "                }\n",
       "            </style>\n",
       "            "
      ],
      "text/plain": [
       "<IPython.core.display.HTML object>"
      ]
     },
     "metadata": {},
     "output_type": "display_data"
    },
    {
     "name": "stdout",
     "output_type": "stream",
     "text": [
      "Processing 2024, Batch 1/3...\n",
      "Saved C:\\Users\\arj26323/Documents/All extract/2024_Validation\\GALandsat_2024_batch1.csv\n",
      "Processing 2024, Batch 2/3...\n",
      "Saved C:\\Users\\arj26323/Documents/All extract/2024_Validation\\GALandsat_2024_batch2.csv\n",
      "Processing 2024, Batch 3/3...\n",
      "Saved C:\\Users\\arj26323/Documents/All extract/2024_Validation\\GALandsat_2024_batch3.csv\n",
      "All batches processed!\n"
     ]
    }
   ],
   "source": [
    "#LANDSAT extraction\n",
    "\n",
    "def rasterExtraction(image, fc_subset):\n",
    "    return image.sampleRegions(\n",
    "        collection=fc_subset,  # Use the subset of locations\n",
    "        scale=30,\n",
    "        tileScale=8  # Adjust tile scale for performance\n",
    "    ).map(lambda f: f.set('date', image.date().format('YYYY-MM-dd')))\n",
    "\n",
    "out_dir = os.path.expanduser('~/Documents/All extract/2024_Validation')\n",
    "\n",
    "# Split locations into batches of 100\n",
    "batch_size = 70\n",
    "fc_list = fc_all.toList(fc_all.size())  # Convert to list\n",
    "num_features = fc_all.size().getInfo()\n",
    "\n",
    "# Calculate the number of batches without math.ceil()\n",
    "num_batches = (num_features + batch_size - 1) // batch_size  # Equivalent to math.ceil(num_features / batch_size)\n",
    "\n",
    "years = range(2024, 2025)\n",
    "\n",
    "for year in years:\n",
    "    for batch in range(num_batches):\n",
    "        # Subset locations for this batch\n",
    "        fc_subset = ee.FeatureCollection(fc_list.slice(batch * batch_size, (batch + 1) * batch_size))\n",
    "\n",
    "        print(f\"Processing {year}, Batch {batch + 1}/{num_batches}...\")\n",
    "\n",
    "        # Filter Landsat images for the year\n",
    "        subset = ultra_col.filterDate(f\"{year}-01-01\", f\"{year}-12-31\")\n",
    "\n",
    "        # Fix: Use a lambda function to pass `fc_subset` properly\n",
    "        extracted_features = subset.map(lambda img: rasterExtraction(img, fc_subset)).flatten()\n",
    "\n",
    "        fc_dict = extracted_features.getInfo()\n",
    "        features = [feature['properties'] for feature in fc_dict['features']]\n",
    "        df = pd.DataFrame(features)\n",
    "        df['date'] = pd.to_datetime(df['date'])\n",
    "\n",
    "        # Save file in the specified directory\n",
    "        filename = os.path.join(out_dir, f\"GALandsat_{year}_batch{batch + 1}.csv\")\n",
    "        df.to_csv(filename, index=False)\n",
    "        print(f\"Saved {filename}\")\n",
    "\n",
    "print(\"All batches processed!\")\n",
    "\n",
    "#2013 onward - need to reduce batch size from 200"
   ]
  },
  {
   "cell_type": "code",
   "execution_count": 28,
   "id": "b14f67f2",
   "metadata": {},
   "outputs": [
    {
     "data": {
      "text/html": [
       "\n",
       "            <style>\n",
       "                .geemap-dark {\n",
       "                    --jp-widgets-color: white;\n",
       "                    --jp-widgets-label-color: white;\n",
       "                    --jp-ui-font-color1: white;\n",
       "                    --jp-layout-color2: #454545;\n",
       "                    background-color: #383838;\n",
       "                }\n",
       "\n",
       "                .geemap-dark .jupyter-button {\n",
       "                    --jp-layout-color3: #383838;\n",
       "                }\n",
       "\n",
       "                .geemap-colab {\n",
       "                    background-color: var(--colab-primary-surface-color, white);\n",
       "                }\n",
       "\n",
       "                .geemap-colab .jupyter-button {\n",
       "                    --jp-layout-color3: var(--colab-primary-surface-color, white);\n",
       "                }\n",
       "            </style>\n",
       "            "
      ],
      "text/plain": [
       "<IPython.core.display.HTML object>"
      ]
     },
     "metadata": {},
     "output_type": "display_data"
    },
    {
     "name": "stdout",
     "output_type": "stream",
     "text": [
      "Processing 2024, Batch 1/3...\n"
     ]
    },
    {
     "ename": "EEException",
     "evalue": "Collection query aborted after accumulating over 5000 elements.",
     "output_type": "error",
     "traceback": [
      "\u001b[1;31m---------------------------------------------------------------------------\u001b[0m",
      "\u001b[1;31mHttpError\u001b[0m                                 Traceback (most recent call last)",
      "File \u001b[1;32mC:\\ProgramData\\Anaconda3\\envs\\geeml\\lib\\site-packages\\ee\\data.py:352\u001b[0m, in \u001b[0;36m_execute_cloud_call\u001b[1;34m(call, num_retries)\u001b[0m\n\u001b[0;32m    351\u001b[0m \u001b[38;5;28;01mtry\u001b[39;00m:\n\u001b[1;32m--> 352\u001b[0m   \u001b[38;5;28;01mreturn\u001b[39;00m \u001b[43mcall\u001b[49m\u001b[38;5;241;43m.\u001b[39;49m\u001b[43mexecute\u001b[49m\u001b[43m(\u001b[49m\u001b[43mnum_retries\u001b[49m\u001b[38;5;241;43m=\u001b[39;49m\u001b[43mnum_retries\u001b[49m\u001b[43m)\u001b[49m\n\u001b[0;32m    353\u001b[0m \u001b[38;5;28;01mexcept\u001b[39;00m googleapiclient\u001b[38;5;241m.\u001b[39merrors\u001b[38;5;241m.\u001b[39mHttpError \u001b[38;5;28;01mas\u001b[39;00m e:\n",
      "File \u001b[1;32mC:\\ProgramData\\Anaconda3\\envs\\geeml\\lib\\site-packages\\googleapiclient\\_helpers.py:130\u001b[0m, in \u001b[0;36mpositional.<locals>.positional_decorator.<locals>.positional_wrapper\u001b[1;34m(*args, **kwargs)\u001b[0m\n\u001b[0;32m    129\u001b[0m         logger\u001b[38;5;241m.\u001b[39mwarning(message)\n\u001b[1;32m--> 130\u001b[0m \u001b[38;5;28;01mreturn\u001b[39;00m wrapped(\u001b[38;5;241m*\u001b[39margs, \u001b[38;5;241m*\u001b[39m\u001b[38;5;241m*\u001b[39mkwargs)\n",
      "File \u001b[1;32mC:\\ProgramData\\Anaconda3\\envs\\geeml\\lib\\site-packages\\googleapiclient\\http.py:938\u001b[0m, in \u001b[0;36mHttpRequest.execute\u001b[1;34m(self, http, num_retries)\u001b[0m\n\u001b[0;32m    937\u001b[0m \u001b[38;5;28;01mif\u001b[39;00m resp\u001b[38;5;241m.\u001b[39mstatus \u001b[38;5;241m>\u001b[39m\u001b[38;5;241m=\u001b[39m \u001b[38;5;241m300\u001b[39m:\n\u001b[1;32m--> 938\u001b[0m     \u001b[38;5;28;01mraise\u001b[39;00m HttpError(resp, content, uri\u001b[38;5;241m=\u001b[39m\u001b[38;5;28mself\u001b[39m\u001b[38;5;241m.\u001b[39muri)\n\u001b[0;32m    939\u001b[0m \u001b[38;5;28;01mreturn\u001b[39;00m \u001b[38;5;28mself\u001b[39m\u001b[38;5;241m.\u001b[39mpostproc(resp, content)\n",
      "\u001b[1;31mHttpError\u001b[0m: <HttpError 400 when requesting https://earthengine.googleapis.com/v1/projects/earthengine-legacy/value:compute?prettyPrint=false&alt=json returned \"Collection query aborted after accumulating over 5000 elements.\". Details: \"Collection query aborted after accumulating over 5000 elements.\">",
      "\nDuring handling of the above exception, another exception occurred:\n",
      "\u001b[1;31mEEException\u001b[0m                               Traceback (most recent call last)",
      "Cell \u001b[1;32mIn[28], line 62\u001b[0m\n\u001b[0;32m     59\u001b[0m \u001b[38;5;66;03m# Fix: Use a lambda function to pass `fc_subset` properly\u001b[39;00m\n\u001b[0;32m     60\u001b[0m extracted_features \u001b[38;5;241m=\u001b[39m subset\u001b[38;5;241m.\u001b[39mmap(\u001b[38;5;28;01mlambda\u001b[39;00m img: rasterExtraction(img, fc_subset))\u001b[38;5;241m.\u001b[39mflatten()\n\u001b[1;32m---> 62\u001b[0m fc_dict \u001b[38;5;241m=\u001b[39m \u001b[43mextracted_features\u001b[49m\u001b[38;5;241;43m.\u001b[39;49m\u001b[43mgetInfo\u001b[49m\u001b[43m(\u001b[49m\u001b[43m)\u001b[49m\n\u001b[0;32m     63\u001b[0m features \u001b[38;5;241m=\u001b[39m [feature[\u001b[38;5;124m'\u001b[39m\u001b[38;5;124mproperties\u001b[39m\u001b[38;5;124m'\u001b[39m] \u001b[38;5;28;01mfor\u001b[39;00m feature \u001b[38;5;129;01min\u001b[39;00m fc_dict[\u001b[38;5;124m'\u001b[39m\u001b[38;5;124mfeatures\u001b[39m\u001b[38;5;124m'\u001b[39m]]\n\u001b[0;32m     64\u001b[0m df \u001b[38;5;241m=\u001b[39m pd\u001b[38;5;241m.\u001b[39mDataFrame(features)\n",
      "File \u001b[1;32mC:\\ProgramData\\Anaconda3\\envs\\geeml\\lib\\site-packages\\ee\\collection.py:141\u001b[0m, in \u001b[0;36mCollection.getInfo\u001b[1;34m(self)\u001b[0m\n\u001b[0;32m    128\u001b[0m \u001b[38;5;28;01mdef\u001b[39;00m \u001b[38;5;21mgetInfo\u001b[39m(\u001b[38;5;28mself\u001b[39m) \u001b[38;5;241m-\u001b[39m\u001b[38;5;241m>\u001b[39m Optional[Any]:\n\u001b[0;32m    129\u001b[0m   \u001b[38;5;124;03m\"\"\"Returns all the known information about this collection.\u001b[39;00m\n\u001b[0;32m    130\u001b[0m \n\u001b[0;32m    131\u001b[0m \u001b[38;5;124;03m  This function makes an REST call to to retrieve all the known information\u001b[39;00m\n\u001b[1;32m   (...)\u001b[0m\n\u001b[0;32m    139\u001b[0m \u001b[38;5;124;03m         properties.\u001b[39;00m\n\u001b[0;32m    140\u001b[0m \u001b[38;5;124;03m  \"\"\"\u001b[39;00m\n\u001b[1;32m--> 141\u001b[0m   \u001b[38;5;28;01mreturn\u001b[39;00m \u001b[38;5;28;43msuper\u001b[39;49m\u001b[43m(\u001b[49m\u001b[43m)\u001b[49m\u001b[38;5;241;43m.\u001b[39;49m\u001b[43mgetInfo\u001b[49m\u001b[43m(\u001b[49m\u001b[43m)\u001b[49m\n",
      "File \u001b[1;32mC:\\ProgramData\\Anaconda3\\envs\\geeml\\lib\\site-packages\\ee\\computedobject.py:103\u001b[0m, in \u001b[0;36mComputedObject.getInfo\u001b[1;34m(self)\u001b[0m\n\u001b[0;32m     97\u001b[0m \u001b[38;5;28;01mdef\u001b[39;00m \u001b[38;5;21mgetInfo\u001b[39m(\u001b[38;5;28mself\u001b[39m) \u001b[38;5;241m-\u001b[39m\u001b[38;5;241m>\u001b[39m Optional[Any]:\n\u001b[0;32m     98\u001b[0m   \u001b[38;5;124;03m\"\"\"Fetch and return information about this object.\u001b[39;00m\n\u001b[0;32m     99\u001b[0m \n\u001b[0;32m    100\u001b[0m \u001b[38;5;124;03m  Returns:\u001b[39;00m\n\u001b[0;32m    101\u001b[0m \u001b[38;5;124;03m    The object can evaluate to anything.\u001b[39;00m\n\u001b[0;32m    102\u001b[0m \u001b[38;5;124;03m  \"\"\"\u001b[39;00m\n\u001b[1;32m--> 103\u001b[0m   \u001b[38;5;28;01mreturn\u001b[39;00m \u001b[43mdata\u001b[49m\u001b[38;5;241;43m.\u001b[39;49m\u001b[43mcomputeValue\u001b[49m\u001b[43m(\u001b[49m\u001b[38;5;28;43mself\u001b[39;49m\u001b[43m)\u001b[49m\n",
      "File \u001b[1;32mC:\\ProgramData\\Anaconda3\\envs\\geeml\\lib\\site-packages\\ee\\data.py:971\u001b[0m, in \u001b[0;36mcomputeValue\u001b[1;34m(obj)\u001b[0m\n\u001b[0;32m    968\u001b[0m body \u001b[38;5;241m=\u001b[39m {\u001b[38;5;124m'\u001b[39m\u001b[38;5;124mexpression\u001b[39m\u001b[38;5;124m'\u001b[39m: serializer\u001b[38;5;241m.\u001b[39mencode(obj, for_cloud_api\u001b[38;5;241m=\u001b[39m\u001b[38;5;28;01mTrue\u001b[39;00m)}\n\u001b[0;32m    969\u001b[0m _maybe_populate_workload_tag(body)\n\u001b[1;32m--> 971\u001b[0m \u001b[38;5;28;01mreturn\u001b[39;00m \u001b[43m_execute_cloud_call\u001b[49m\u001b[43m(\u001b[49m\n\u001b[0;32m    972\u001b[0m \u001b[43m    \u001b[49m\u001b[43m_get_cloud_projects\u001b[49m\u001b[43m(\u001b[49m\u001b[43m)\u001b[49m\n\u001b[0;32m    973\u001b[0m \u001b[43m    \u001b[49m\u001b[38;5;241;43m.\u001b[39;49m\u001b[43mvalue\u001b[49m\u001b[43m(\u001b[49m\u001b[43m)\u001b[49m\n\u001b[0;32m    974\u001b[0m \u001b[43m    \u001b[49m\u001b[38;5;241;43m.\u001b[39;49m\u001b[43mcompute\u001b[49m\u001b[43m(\u001b[49m\u001b[43mbody\u001b[49m\u001b[38;5;241;43m=\u001b[39;49m\u001b[43mbody\u001b[49m\u001b[43m,\u001b[49m\u001b[43m \u001b[49m\u001b[43mproject\u001b[49m\u001b[38;5;241;43m=\u001b[39;49m\u001b[43m_get_projects_path\u001b[49m\u001b[43m(\u001b[49m\u001b[43m)\u001b[49m\u001b[43m,\u001b[49m\u001b[43m \u001b[49m\u001b[43mprettyPrint\u001b[49m\u001b[38;5;241;43m=\u001b[39;49m\u001b[38;5;28;43;01mFalse\u001b[39;49;00m\u001b[43m)\u001b[49m\n\u001b[0;32m    975\u001b[0m \u001b[43m\u001b[49m\u001b[43m)\u001b[49m[\u001b[38;5;124m'\u001b[39m\u001b[38;5;124mresult\u001b[39m\u001b[38;5;124m'\u001b[39m]\n",
      "File \u001b[1;32mC:\\ProgramData\\Anaconda3\\envs\\geeml\\lib\\site-packages\\ee\\data.py:354\u001b[0m, in \u001b[0;36m_execute_cloud_call\u001b[1;34m(call, num_retries)\u001b[0m\n\u001b[0;32m    352\u001b[0m   \u001b[38;5;28;01mreturn\u001b[39;00m call\u001b[38;5;241m.\u001b[39mexecute(num_retries\u001b[38;5;241m=\u001b[39mnum_retries)\n\u001b[0;32m    353\u001b[0m \u001b[38;5;28;01mexcept\u001b[39;00m googleapiclient\u001b[38;5;241m.\u001b[39merrors\u001b[38;5;241m.\u001b[39mHttpError \u001b[38;5;28;01mas\u001b[39;00m e:\n\u001b[1;32m--> 354\u001b[0m   \u001b[38;5;28;01mraise\u001b[39;00m _translate_cloud_exception(e)\n",
      "\u001b[1;31mEEException\u001b[0m: Collection query aborted after accumulating over 5000 elements."
     ]
    }
   ],
   "source": [
    "##DAYMET\n",
    "daymet = ee.ImageCollection('NASA/ORNL/DAYMET_V4').filterBounds(fc_all).filterDate('2023', '2025')\n",
    "\n",
    "# def dmExtraction(image, fc_subset):\n",
    "#     return image.sampleRegions(\n",
    "#         collection=fc_subset,\n",
    "#         scale=1000,\n",
    "#         tileScale=8  # Reducing from 16 to 8 to improve efficiency\n",
    "#     ).map(lambda f: f.set('date', image.date().format('YYYY-MM-dd')))\n",
    "\n",
    "#Resampling daymet collection to 30m\n",
    "def resamp_dm(img):\n",
    "    resampled_dm = img.reproject(\n",
    "        crs = 'EPSG:4326',\n",
    "        scale = 30\n",
    "    ).resample('bilinear')\n",
    "    return resampled_dm\n",
    "resamp_daymet = daymet.map(resamp_dm).map(addDate) #not sure if anything is actually changed\n",
    "\n",
    "out_dir = os.path.expanduser('~/Documents/All extract/2024_Validation')\n",
    "\n",
    "\n",
    "\n",
    "def xxx(image):\n",
    "    return image.sampleRegions(\n",
    "        collection=fc_all,\n",
    "        scale=1000,\n",
    "        tileScale=8  # Reducing from 16 to 8 to improve efficiency\n",
    "    ).map(lambda f: f.set('date', image.date().format('YYYY-MM-dd')))\n",
    "\n",
    "\n",
    "extracted_features = resamp_daymet.map(xxx)\n",
    "fc_dict = extracted_features.getInfo()   \n",
    "features = [feature['properties'] for feature in fc_dict['features']]\n",
    "df = pd.DataFrame(features)\n",
    "df\n",
    "\n",
    "\n",
    "# Split locations into batches of 100\n",
    "batch_size = 70\n",
    "fc_list = fc_all.toList(fc_all.size())  # Convert to list\n",
    "num_features = fc_all.size().getInfo()\n",
    "\n",
    "# Calculate the number of batches without math.ceil()\n",
    "num_batches = (num_features + batch_size - 1) // batch_size  # Equivalent to math.ceil(num_features / batch_size)\n",
    "\n",
    "years = range(2024, 2025)\n",
    "\n",
    "for year in years:\n",
    "    for batch in range(num_batches):\n",
    "        # Subset locations for this batch\n",
    "        fc_subset = ee.FeatureCollection(fc_list.slice(batch * batch_size, (batch + 1) * batch_size))\n",
    "\n",
    "        print(f\"Processing {year}, Batch {batch + 1}/{num_batches}...\")\n",
    "\n",
    "        # Filter Landsat images for the year\n",
    "        subset = resamp_daymet.filterDate(f\"{year}-01-01\", f\"{year}-12-31\")\n",
    "\n",
    "        # Fix: Use a lambda function to pass `fc_subset` properly\n",
    "        extracted_features = subset.map(lambda img: rasterExtraction(img, fc_subset)).flatten()\n",
    "\n",
    "        fc_dict = extracted_features.getInfo()\n",
    "        features = [feature['properties'] for feature in fc_dict['features']]\n",
    "        df = pd.DataFrame(features)\n",
    "        df['date'] = pd.to_datetime(df['date'])\n",
    "\n",
    "        # Save file in the specified directory\n",
    "        filename = os.path.join(out_dir, f\"GADaymet_{year}_batch{batch + 1}.csv\")\n",
    "        df.to_csv(filename, index=False)\n",
    "        print(f\"Saved {filename}\")\n",
    "\n",
    "print(\"All batches processed!\")"
   ]
  },
  {
   "cell_type": "code",
   "execution_count": null,
   "id": "7f238fc8",
   "metadata": {},
   "outputs": [],
   "source": [
    "##GRIDMET\n",
    "gridmet = ee.ImageCollection('GRIDMET/DROUGHT').filterBounds(fc_all)\n",
    "\n",
    "resamp_gridmet = gridmet.map(resamp_dm).map(addDate)\n",
    "\n",
    "out_dir = os.path.expanduser('~/Documents/All extract/2024_Validation')\n",
    "\n",
    "# Split locations into batches of 100\n",
    "batch_size = 100\n",
    "fc_list = fc_all.toList(fc_all.size())  # Convert to list\n",
    "num_features = fc_all.size().getInfo()\n",
    "\n",
    "# Calculate the number of batches without math.ceil()\n",
    "num_batches = (num_features + batch_size - 1) // batch_size  # Equivalent to math.ceil(num_features / batch_size)\n",
    "\n",
    "years = range(2024, 2025)\n",
    "\n",
    "for year in years:\n",
    "    for batch in range(num_batches):\n",
    "        # Subset locations for this batch\n",
    "        fc_subset = ee.FeatureCollection(fc_list.slice(batch * batch_size, (batch + 1) * batch_size))\n",
    "\n",
    "        print(f\"Processing {year}, Batch {batch + 1}/{num_batches}...\")\n",
    "\n",
    "        # Filter Landsat images for the year\n",
    "        subset = resamp_gridmet.filterDate(f\"{year}-01-01\", f\"{year}-12-31\")\n",
    "\n",
    "        # Fix: Use a lambda function to pass `fc_subset` properly\n",
    "        extracted_features = subset.map(lambda img: rasterExtraction(img, fc_subset)).flatten()\n",
    "\n",
    "        fc_dict = extracted_features.getInfo()\n",
    "        features = [feature['properties'] for feature in fc_dict['features']]\n",
    "        df = pd.DataFrame(features)\n",
    "        df['date'] = pd.to_datetime(df['date'])\n",
    "\n",
    "        # Save file in the specified directory\n",
    "        filename = os.path.join(out_dir, f\"GAGridmet_{year}_batch{batch + 1}.csv\")\n",
    "        df.to_csv(filename, index=False)\n",
    "        print(f\"Saved {filename}\")\n",
    "\n",
    "print(\"All batches processed!\")"
   ]
  },
  {
   "cell_type": "code",
   "execution_count": null,
   "id": "0cf1fa46",
   "metadata": {},
   "outputs": [],
   "source": [
    "#Elevation\n",
    "\n",
    "##FOR 10m DEM:\n",
    "def demExtraction(image):\n",
    "    feature = image.sampleRegions(\n",
    "        collection = fc_all,\n",
    "        scale = 10 \n",
    "    )\n",
    "    return feature\n",
    "\n",
    "dem = ee.Image('USGS/3DEP/10m') ##This is 1/3 arc second, or 10 m.\n",
    "\n",
    "#Elevation\n",
    "dem_extract = demExtraction(dem)\n",
    "# dem_vals = geemap.ee_to_csv(dem_extract, 'dem.csv') ##10m dataset\n",
    "\n",
    "dem_dict = dem_extract.getInfo()\n",
    "\n",
    "# Extract the properties of the features into a list of dictionaries\n",
    "features = [feature['properties'] for feature in dem_dict['features']]\n",
    "\n",
    "# Convert the list of dictionaries into a pandas DataFrame\n",
    "dem_vals = pd.DataFrame(features)\n",
    "dem_vals\n",
    "\n",
    "# out_dir = os.path.expanduser('~/Documents/All extract/2024_Validation')\n",
    "\n",
    "# filename = os.path.join(out_dir, \"elev.csv\")\n",
    "\n",
    "# dem_vals.to_csv(filename, index=False)"
   ]
  },
  {
   "cell_type": "code",
   "execution_count": null,
   "id": "34ce0042",
   "metadata": {},
   "outputs": [],
   "source": [
    "##Slope\n",
    "slope = ee.Terrain.slope(dem);\n",
    "\n",
    "#Elevation\n",
    "slope_extract = demExtraction(slope)\n",
    "\n",
    "slope_dict = slope_extract.getInfo()\n",
    "\n",
    "# Extract the properties of the features into a list of dictionaries\n",
    "features = [feature['properties'] for feature in slope_dict['features']]\n",
    "\n",
    "# Convert the list of dictionaries into a pandas DataFrame\n",
    "slope_vals = pd.DataFrame(features)\n",
    "slope_vals\n",
    "\n",
    "# out_dir = os.path.expanduser('~/Documents/All extract/2024_Validation')\n",
    "\n",
    "# filename = os.path.join(out_dir, \"slope.csv\")\n",
    "\n",
    "# slope_vals.to_csv(filename, index=False)"
   ]
  }
 ],
 "metadata": {
  "kernelspec": {
   "display_name": "Python [conda env:geeml] *",
   "language": "python",
   "name": "conda-env-geeml-py"
  },
  "language_info": {
   "codemirror_mode": {
    "name": "ipython",
    "version": 3
   },
   "file_extension": ".py",
   "mimetype": "text/x-python",
   "name": "python",
   "nbconvert_exporter": "python",
   "pygments_lexer": "ipython3",
   "version": "3.10.13"
  }
 },
 "nbformat": 4,
 "nbformat_minor": 5
}
