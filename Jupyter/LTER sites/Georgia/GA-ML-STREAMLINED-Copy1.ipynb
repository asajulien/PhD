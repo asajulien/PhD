{
 "cells": [
  {
   "cell_type": "code",
   "execution_count": 1,
   "id": "e4a7af18",
   "metadata": {},
   "outputs": [],
   "source": [
    "import pandas as pd\n",
    "import numpy as np\n",
    "import matplotlib.pyplot as plt\n",
    "import pdb\n",
    "from IPython.display import display\n",
    "import os\n",
    "import seaborn as sns\n",
    "import statsmodels.formula.api as sm\n",
    "from numpy.polynomial.polynomial import polyfit\n",
    "from sklearn.model_selection import train_test_split\n",
    "import sklearn\n",
    "from math import sqrt\n",
    "import glob"
   ]
  },
  {
   "cell_type": "code",
   "execution_count": 2,
   "id": "0e67ad4b",
   "metadata": {},
   "outputs": [
    {
     "name": "stdout",
     "output_type": "stream",
     "text": [
      "0.34.1\n"
     ]
    }
   ],
   "source": [
    "import ee\n",
    "import geemap\n",
    "service_account = ' boba-account@boba-430314.iam.gserviceaccount.com '\n",
    "credentials = ee.ServiceAccountCredentials(service_account,'C:/Users/arj26323/OneDrive - University of Georgia/Documents/GEE AUTH/boba-430314-a19be859bfca.json')\n",
    "\n",
    "ee.Initialize(credentials)\n",
    "\n",
    "print(geemap.__version__)"
   ]
  },
  {
   "cell_type": "code",
   "execution_count": 3,
   "id": "f7eeccef",
   "metadata": {},
   "outputs": [
    {
     "data": {
      "text/html": [
       "\n",
       "            <style>\n",
       "                .geemap-dark {\n",
       "                    --jp-widgets-color: white;\n",
       "                    --jp-widgets-label-color: white;\n",
       "                    --jp-ui-font-color1: white;\n",
       "                    --jp-layout-color2: #454545;\n",
       "                    background-color: #383838;\n",
       "                }\n",
       "\n",
       "                .geemap-dark .jupyter-button {\n",
       "                    --jp-layout-color3: #383838;\n",
       "                }\n",
       "\n",
       "                .geemap-colab {\n",
       "                    background-color: var(--colab-primary-surface-color, white);\n",
       "                }\n",
       "\n",
       "                .geemap-colab .jupyter-button {\n",
       "                    --jp-layout-color3: var(--colab-primary-surface-color, white);\n",
       "                }\n",
       "            </style>\n",
       "            "
      ],
      "text/plain": [
       "<IPython.core.display.HTML object>"
      ]
     },
     "metadata": {},
     "output_type": "display_data"
    }
   ],
   "source": [
    "#ADD: PDSI and Evaporation potential!"
   ]
  },
  {
   "cell_type": "code",
   "execution_count": 4,
   "id": "83e8f2d3",
   "metadata": {},
   "outputs": [
    {
     "data": {
      "text/html": [
       "\n",
       "            <style>\n",
       "                .geemap-dark {\n",
       "                    --jp-widgets-color: white;\n",
       "                    --jp-widgets-label-color: white;\n",
       "                    --jp-ui-font-color1: white;\n",
       "                    --jp-layout-color2: #454545;\n",
       "                    background-color: #383838;\n",
       "                }\n",
       "\n",
       "                .geemap-dark .jupyter-button {\n",
       "                    --jp-layout-color3: #383838;\n",
       "                }\n",
       "\n",
       "                .geemap-colab {\n",
       "                    background-color: var(--colab-primary-surface-color, white);\n",
       "                }\n",
       "\n",
       "                .geemap-colab .jupyter-button {\n",
       "                    --jp-layout-color3: var(--colab-primary-surface-color, white);\n",
       "                }\n",
       "            </style>\n",
       "            "
      ],
      "text/plain": [
       "<IPython.core.display.HTML object>"
      ]
     },
     "metadata": {},
     "output_type": "display_data"
    },
    {
     "data": {
      "text/html": [
       "<div>\n",
       "<style scoped>\n",
       "    .dataframe tbody tr th:only-of-type {\n",
       "        vertical-align: middle;\n",
       "    }\n",
       "\n",
       "    .dataframe tbody tr th {\n",
       "        vertical-align: top;\n",
       "    }\n",
       "\n",
       "    .dataframe thead th {\n",
       "        text-align: right;\n",
       "    }\n",
       "</style>\n",
       "<table border=\"1\" class=\"dataframe\">\n",
       "  <thead>\n",
       "    <tr style=\"text-align: right;\">\n",
       "      <th></th>\n",
       "      <th>Site</th>\n",
       "      <th>Species_Code</th>\n",
       "      <th>Year</th>\n",
       "      <th>Zone</th>\n",
       "      <th>Plot</th>\n",
       "      <th>Latitude</th>\n",
       "      <th>Plant_Biomass</th>\n",
       "      <th>Sample_Size</th>\n",
       "      <th>Longitude</th>\n",
       "      <th>Date</th>\n",
       "      <th>...</th>\n",
       "      <th>nd_swir2_nir_sepoct</th>\n",
       "      <th>nd_swir2_r_sepoct</th>\n",
       "      <th>ndvi</th>\n",
       "      <th>savi</th>\n",
       "      <th>wdrvi5</th>\n",
       "      <th>nd_r_g</th>\n",
       "      <th>nd_g_b</th>\n",
       "      <th>nd_swir2_nir</th>\n",
       "      <th>nd_swir2_r</th>\n",
       "      <th>ident</th>\n",
       "    </tr>\n",
       "  </thead>\n",
       "  <tbody>\n",
       "    <tr>\n",
       "      <th>0</th>\n",
       "      <td>1</td>\n",
       "      <td>A1</td>\n",
       "      <td>2000</td>\n",
       "      <td>1</td>\n",
       "      <td>1</td>\n",
       "      <td>31.538627</td>\n",
       "      <td>516.324</td>\n",
       "      <td>23</td>\n",
       "      <td>-81.422539</td>\n",
       "      <td>10/11/2000</td>\n",
       "      <td>...</td>\n",
       "      <td>-0.255463</td>\n",
       "      <td>0.050628</td>\n",
       "      <td>0.302182</td>\n",
       "      <td>0.087219</td>\n",
       "      <td>-0.034640</td>\n",
       "      <td>-0.003197</td>\n",
       "      <td>0.074486</td>\n",
       "      <td>-0.255463</td>\n",
       "      <td>0.050628</td>\n",
       "      <td>0.031457</td>\n",
       "    </tr>\n",
       "    <tr>\n",
       "      <th>1</th>\n",
       "      <td>3</td>\n",
       "      <td>A1</td>\n",
       "      <td>2000</td>\n",
       "      <td>1</td>\n",
       "      <td>1</td>\n",
       "      <td>31.518920</td>\n",
       "      <td>710.396</td>\n",
       "      <td>20</td>\n",
       "      <td>-81.228956</td>\n",
       "      <td>10/18/2000</td>\n",
       "      <td>...</td>\n",
       "      <td>NaN</td>\n",
       "      <td>NaN</td>\n",
       "      <td>NaN</td>\n",
       "      <td>NaN</td>\n",
       "      <td>NaN</td>\n",
       "      <td>NaN</td>\n",
       "      <td>NaN</td>\n",
       "      <td>NaN</td>\n",
       "      <td>NaN</td>\n",
       "      <td>NaN</td>\n",
       "    </tr>\n",
       "    <tr>\n",
       "      <th>2</th>\n",
       "      <td>4</td>\n",
       "      <td>A1</td>\n",
       "      <td>2000</td>\n",
       "      <td>1</td>\n",
       "      <td>1</td>\n",
       "      <td>31.451676</td>\n",
       "      <td>1534.304</td>\n",
       "      <td>25</td>\n",
       "      <td>-81.365498</td>\n",
       "      <td>10/10/2000</td>\n",
       "      <td>...</td>\n",
       "      <td>-0.399095</td>\n",
       "      <td>-0.118194</td>\n",
       "      <td>0.294807</td>\n",
       "      <td>0.085244</td>\n",
       "      <td>-0.042724</td>\n",
       "      <td>0.034398</td>\n",
       "      <td>0.110169</td>\n",
       "      <td>-0.399095</td>\n",
       "      <td>-0.118194</td>\n",
       "      <td>0.025622</td>\n",
       "    </tr>\n",
       "    <tr>\n",
       "      <th>3</th>\n",
       "      <td>5</td>\n",
       "      <td>A1</td>\n",
       "      <td>2000</td>\n",
       "      <td>1</td>\n",
       "      <td>1</td>\n",
       "      <td>31.436090</td>\n",
       "      <td>2022.264</td>\n",
       "      <td>25</td>\n",
       "      <td>-81.339919</td>\n",
       "      <td>10/10/2000</td>\n",
       "      <td>...</td>\n",
       "      <td>-0.428496</td>\n",
       "      <td>0.027896</td>\n",
       "      <td>0.451001</td>\n",
       "      <td>0.184322</td>\n",
       "      <td>0.138487</td>\n",
       "      <td>-0.061616</td>\n",
       "      <td>0.216527</td>\n",
       "      <td>-0.428496</td>\n",
       "      <td>0.027896</td>\n",
       "      <td>0.091632</td>\n",
       "    </tr>\n",
       "    <tr>\n",
       "      <th>4</th>\n",
       "      <td>6</td>\n",
       "      <td>A1</td>\n",
       "      <td>2000</td>\n",
       "      <td>1</td>\n",
       "      <td>1</td>\n",
       "      <td>31.388423</td>\n",
       "      <td>1032.632</td>\n",
       "      <td>20</td>\n",
       "      <td>-81.279792</td>\n",
       "      <td>10/12/2000</td>\n",
       "      <td>...</td>\n",
       "      <td>-0.515328</td>\n",
       "      <td>-0.230591</td>\n",
       "      <td>0.323136</td>\n",
       "      <td>0.115771</td>\n",
       "      <td>-0.011429</td>\n",
       "      <td>0.000000</td>\n",
       "      <td>0.135829</td>\n",
       "      <td>-0.515328</td>\n",
       "      <td>-0.230591</td>\n",
       "      <td>0.027201</td>\n",
       "    </tr>\n",
       "    <tr>\n",
       "      <th>...</th>\n",
       "      <td>...</td>\n",
       "      <td>...</td>\n",
       "      <td>...</td>\n",
       "      <td>...</td>\n",
       "      <td>...</td>\n",
       "      <td>...</td>\n",
       "      <td>...</td>\n",
       "      <td>...</td>\n",
       "      <td>...</td>\n",
       "      <td>...</td>\n",
       "      <td>...</td>\n",
       "      <td>...</td>\n",
       "      <td>...</td>\n",
       "      <td>...</td>\n",
       "      <td>...</td>\n",
       "      <td>...</td>\n",
       "      <td>...</td>\n",
       "      <td>...</td>\n",
       "      <td>...</td>\n",
       "      <td>...</td>\n",
       "      <td>...</td>\n",
       "    </tr>\n",
       "    <tr>\n",
       "      <th>2907</th>\n",
       "      <td>7</td>\n",
       "      <td>A4</td>\n",
       "      <td>2019</td>\n",
       "      <td>2</td>\n",
       "      <td>8</td>\n",
       "      <td>31.334597</td>\n",
       "      <td>2365.620</td>\n",
       "      <td>14</td>\n",
       "      <td>-81.478039</td>\n",
       "      <td>10/8/2019</td>\n",
       "      <td>...</td>\n",
       "      <td>NaN</td>\n",
       "      <td>NaN</td>\n",
       "      <td>NaN</td>\n",
       "      <td>NaN</td>\n",
       "      <td>NaN</td>\n",
       "      <td>NaN</td>\n",
       "      <td>NaN</td>\n",
       "      <td>NaN</td>\n",
       "      <td>NaN</td>\n",
       "      <td>NaN</td>\n",
       "    </tr>\n",
       "    <tr>\n",
       "      <th>2908</th>\n",
       "      <td>7</td>\n",
       "      <td>A4</td>\n",
       "      <td>2019</td>\n",
       "      <td>1</td>\n",
       "      <td>12</td>\n",
       "      <td>31.335017</td>\n",
       "      <td>1821.010</td>\n",
       "      <td>12</td>\n",
       "      <td>-81.478711</td>\n",
       "      <td>10/8/2019</td>\n",
       "      <td>...</td>\n",
       "      <td>-0.650901</td>\n",
       "      <td>-0.090909</td>\n",
       "      <td>NaN</td>\n",
       "      <td>NaN</td>\n",
       "      <td>NaN</td>\n",
       "      <td>NaN</td>\n",
       "      <td>NaN</td>\n",
       "      <td>NaN</td>\n",
       "      <td>NaN</td>\n",
       "      <td>NaN</td>\n",
       "    </tr>\n",
       "    <tr>\n",
       "      <th>2909</th>\n",
       "      <td>7</td>\n",
       "      <td>A4</td>\n",
       "      <td>2019</td>\n",
       "      <td>1</td>\n",
       "      <td>13</td>\n",
       "      <td>31.334934</td>\n",
       "      <td>2482.584</td>\n",
       "      <td>14</td>\n",
       "      <td>-81.478709</td>\n",
       "      <td>10/8/2019</td>\n",
       "      <td>...</td>\n",
       "      <td>-0.618781</td>\n",
       "      <td>-0.171994</td>\n",
       "      <td>NaN</td>\n",
       "      <td>NaN</td>\n",
       "      <td>NaN</td>\n",
       "      <td>NaN</td>\n",
       "      <td>NaN</td>\n",
       "      <td>NaN</td>\n",
       "      <td>NaN</td>\n",
       "      <td>NaN</td>\n",
       "    </tr>\n",
       "    <tr>\n",
       "      <th>2910</th>\n",
       "      <td>7</td>\n",
       "      <td>A4</td>\n",
       "      <td>2019</td>\n",
       "      <td>1</td>\n",
       "      <td>16</td>\n",
       "      <td>31.334682</td>\n",
       "      <td>2511.936</td>\n",
       "      <td>17</td>\n",
       "      <td>-81.478564</td>\n",
       "      <td>10/8/2019</td>\n",
       "      <td>...</td>\n",
       "      <td>-0.618781</td>\n",
       "      <td>-0.171994</td>\n",
       "      <td>NaN</td>\n",
       "      <td>NaN</td>\n",
       "      <td>NaN</td>\n",
       "      <td>NaN</td>\n",
       "      <td>NaN</td>\n",
       "      <td>NaN</td>\n",
       "      <td>NaN</td>\n",
       "      <td>NaN</td>\n",
       "    </tr>\n",
       "    <tr>\n",
       "      <th>2911</th>\n",
       "      <td>8</td>\n",
       "      <td>A5</td>\n",
       "      <td>2019</td>\n",
       "      <td>1</td>\n",
       "      <td>18</td>\n",
       "      <td>31.307529</td>\n",
       "      <td>39.264</td>\n",
       "      <td>5</td>\n",
       "      <td>-81.415324</td>\n",
       "      <td>10/8/2019</td>\n",
       "      <td>...</td>\n",
       "      <td>-0.502268</td>\n",
       "      <td>-0.135958</td>\n",
       "      <td>NaN</td>\n",
       "      <td>NaN</td>\n",
       "      <td>NaN</td>\n",
       "      <td>NaN</td>\n",
       "      <td>NaN</td>\n",
       "      <td>NaN</td>\n",
       "      <td>NaN</td>\n",
       "      <td>NaN</td>\n",
       "    </tr>\n",
       "  </tbody>\n",
       "</table>\n",
       "<p>2912 rows × 71 columns</p>\n",
       "</div>"
      ],
      "text/plain": [
       "      Site Species_Code  Year  Zone  Plot   Latitude  Plant_Biomass  \\\n",
       "0        1           A1  2000     1     1  31.538627        516.324   \n",
       "1        3           A1  2000     1     1  31.518920        710.396   \n",
       "2        4           A1  2000     1     1  31.451676       1534.304   \n",
       "3        5           A1  2000     1     1  31.436090       2022.264   \n",
       "4        6           A1  2000     1     1  31.388423       1032.632   \n",
       "...    ...          ...   ...   ...   ...        ...            ...   \n",
       "2907     7           A4  2019     2     8  31.334597       2365.620   \n",
       "2908     7           A4  2019     1    12  31.335017       1821.010   \n",
       "2909     7           A4  2019     1    13  31.334934       2482.584   \n",
       "2910     7           A4  2019     1    16  31.334682       2511.936   \n",
       "2911     8           A5  2019     1    18  31.307529         39.264   \n",
       "\n",
       "      Sample_Size  Longitude        Date  ...  nd_swir2_nir_sepoct  \\\n",
       "0              23 -81.422539  10/11/2000  ...            -0.255463   \n",
       "1              20 -81.228956  10/18/2000  ...                  NaN   \n",
       "2              25 -81.365498  10/10/2000  ...            -0.399095   \n",
       "3              25 -81.339919  10/10/2000  ...            -0.428496   \n",
       "4              20 -81.279792  10/12/2000  ...            -0.515328   \n",
       "...           ...        ...         ...  ...                  ...   \n",
       "2907           14 -81.478039   10/8/2019  ...                  NaN   \n",
       "2908           12 -81.478711   10/8/2019  ...            -0.650901   \n",
       "2909           14 -81.478709   10/8/2019  ...            -0.618781   \n",
       "2910           17 -81.478564   10/8/2019  ...            -0.618781   \n",
       "2911            5 -81.415324   10/8/2019  ...            -0.502268   \n",
       "\n",
       "      nd_swir2_r_sepoct      ndvi      savi    wdrvi5    nd_r_g    nd_g_b  \\\n",
       "0              0.050628  0.302182  0.087219 -0.034640 -0.003197  0.074486   \n",
       "1                   NaN       NaN       NaN       NaN       NaN       NaN   \n",
       "2             -0.118194  0.294807  0.085244 -0.042724  0.034398  0.110169   \n",
       "3              0.027896  0.451001  0.184322  0.138487 -0.061616  0.216527   \n",
       "4             -0.230591  0.323136  0.115771 -0.011429  0.000000  0.135829   \n",
       "...                 ...       ...       ...       ...       ...       ...   \n",
       "2907                NaN       NaN       NaN       NaN       NaN       NaN   \n",
       "2908          -0.090909       NaN       NaN       NaN       NaN       NaN   \n",
       "2909          -0.171994       NaN       NaN       NaN       NaN       NaN   \n",
       "2910          -0.171994       NaN       NaN       NaN       NaN       NaN   \n",
       "2911          -0.135958       NaN       NaN       NaN       NaN       NaN   \n",
       "\n",
       "      nd_swir2_nir  nd_swir2_r     ident  \n",
       "0        -0.255463    0.050628  0.031457  \n",
       "1              NaN         NaN       NaN  \n",
       "2        -0.399095   -0.118194  0.025622  \n",
       "3        -0.428496    0.027896  0.091632  \n",
       "4        -0.515328   -0.230591  0.027201  \n",
       "...            ...         ...       ...  \n",
       "2907           NaN         NaN       NaN  \n",
       "2908           NaN         NaN       NaN  \n",
       "2909           NaN         NaN       NaN  \n",
       "2910           NaN         NaN       NaN  \n",
       "2911           NaN         NaN       NaN  \n",
       "\n",
       "[2912 rows x 71 columns]"
      ]
     },
     "metadata": {},
     "output_type": "display_data"
    }
   ],
   "source": [
    "##Remote sensing data:\n",
    "\n",
    "# df_rs = pd.read_csv('C:/Users/arj26323/Documents/Data/Biomass datasets/Sapelo/Streamlined/df_remotedata.csv')\n",
    "##Above: needs to be merged with biomass data (df_sum)\n",
    "# df1 = pd.merge(df_rs, df_sum, how = 'right')\n",
    "\n",
    "dfv = pd.read_csv('C:/Users/arj26323/Documents/Data/Biomass datasets/Sapelo/Streamlined/df_yr.csv')\n",
    "dfw = pd.read_csv('C:/Users/arj26323/Documents/Data/Biomass datasets/Sapelo/Streamlined/df_octnov.csv')\n",
    "dfx = pd.read_csv('C:/Users/arj26323/Documents/Data/Biomass datasets/Sapelo/Streamlined/df_augoct.csv')\n",
    "dfy = pd.read_csv('C:/Users/arj26323/Documents/Data/Biomass datasets/Sapelo/Streamlined/df_sepoct.csv')\n",
    "dfz = pd.read_csv('C:/Users/arj26323/Documents/Data/Biomass datasets/Sapelo/Streamlined/df_oct.csv')\n",
    "\n",
    "dfv.rename(\n",
    "    columns={\n",
    "        'ndvi':'ndvi_yr','savi':'savi_yr','wdrvi5':'wdrvi5_yr','nd_r_g':'nd_r_g_yr', 'nd_g_b':'nd_g_b_yr',\n",
    "        'nd_swir2_nir':'nd_swir2_nir_yr', 'nd_swir2_r':'nd_swir2_r_yr'\n",
    "    }, inplace=True\n",
    ")\n",
    "\n",
    "dfw.rename(\n",
    "    columns={\n",
    "        'ndvi':'ndvi_octnov','savi':'savi_octnov','wdrvi5':'wdrvi5_octnov','nd_r_g':'nd_r_g_octnov', 'nd_g_b':'nd_g_b_octnov',\n",
    "        'nd_swir2_nir':'nd_swir2_nir_octnov', 'nd_swir2_r':'nd_swir2_r_octnov'\n",
    "    }, inplace=True\n",
    ")\n",
    "\n",
    "dfx.rename(\n",
    "    columns={\n",
    "        'ndvi':'ndvi_augoct','savi':'savi_augoct','wdrvi5':'wdrvi5_augoct','nd_r_g':'nd_r_g_augoct', 'nd_g_b':'nd_g_b_augoct',\n",
    "        'nd_swir2_nir':'nd_swir2_nir_augoct', 'nd_swir2_r':'nd_swir2_r_augoct'\n",
    "    }, inplace=True\n",
    ")\n",
    "\n",
    "dfy.rename(\n",
    "    columns={\n",
    "        'ndvi':'ndvi_sepoct','savi':'savi_sepoct','wdrvi5':'wdrvi5_sepoct','nd_r_g':'nd_r_g_sepoct', 'nd_g_b':'nd_g_b_sepoct',\n",
    "        'nd_swir2_nir':'nd_swir2_nir_sepoct', 'nd_swir2_r':'nd_swir2_r_sepoct'\n",
    "    }, inplace=True\n",
    ")\n",
    "\n",
    "df9 = pd.merge(dfw, dfv, left_index=True, right_index=True,\n",
    "             how='outer', suffixes=('', '_DROP')).filter(regex='^(?!.*_DROP)')\n",
    "\n",
    "df8 = pd.merge(dfx, dfy, left_index=True, right_index=True,\n",
    "             how='outer', suffixes=('', '_DROP')).filter(regex='^(?!.*_DROP)')\n",
    "\n",
    "df0 = pd.merge(df9, df8, left_index=True, right_index=True,\n",
    "             how='outer', suffixes=('', '_DROP')).filter(regex='^(?!.*_DROP)')              \n",
    "               \n",
    "df1 = pd.merge(df0, dfz, left_index=True, right_index=True,\n",
    "             how='outer', suffixes=('', '_DROP')).filter(regex='^(?!.*_DROP)')\n",
    "\n",
    "# df0 = pd.merge(dfx, dfy, on = ['Latitude', 'Longitude', 'Plant_Biomass', 'Year'], how = 'left')\n",
    "# df1 = pd.merge(dfz, df0, on = ['Latitude', 'Longitude', 'Plant_Biomass', 'Year'], how = 'left')\n",
    "\n",
    "df1['ident'] = df1['ndvi'] * df1['ndvi_augoct'] * df1['ndvi_sepoct']\n",
    "\n",
    "display(df1)\n",
    "\n",
    "# for col in df1.columns:\n",
    "#     print(col)"
   ]
  },
  {
   "cell_type": "code",
   "execution_count": 5,
   "id": "049a5d10",
   "metadata": {},
   "outputs": [
    {
     "data": {
      "text/html": [
       "\n",
       "            <style>\n",
       "                .geemap-dark {\n",
       "                    --jp-widgets-color: white;\n",
       "                    --jp-widgets-label-color: white;\n",
       "                    --jp-ui-font-color1: white;\n",
       "                    --jp-layout-color2: #454545;\n",
       "                    background-color: #383838;\n",
       "                }\n",
       "\n",
       "                .geemap-dark .jupyter-button {\n",
       "                    --jp-layout-color3: #383838;\n",
       "                }\n",
       "\n",
       "                .geemap-colab {\n",
       "                    background-color: var(--colab-primary-surface-color, white);\n",
       "                }\n",
       "\n",
       "                .geemap-colab .jupyter-button {\n",
       "                    --jp-layout-color3: var(--colab-primary-surface-color, white);\n",
       "                }\n",
       "            </style>\n",
       "            "
      ],
      "text/plain": [
       "<IPython.core.display.HTML object>"
      ]
     },
     "metadata": {},
     "output_type": "display_data"
    }
   ],
   "source": [
    "\n",
    "# df1 = pd.read_csv('C:/Users/arj26323/Documents/Data/Biomass datasets/Sapelo/df_test_NOV2024.csv') ##Changed to single df - 2024\n",
    "df1 = pd.read_csv('C:/Users/arj26323/Documents/Data/Biomass datasets/Sapelo/df_testxyzgridmet.csv')\n",
    "\n",
    "# df1\n",
    "# for col in df1.columns:\n",
    "#     print(col)"
   ]
  },
  {
   "cell_type": "code",
   "execution_count": 6,
   "id": "0d6bae2a",
   "metadata": {},
   "outputs": [
    {
     "data": {
      "text/html": [
       "\n",
       "            <style>\n",
       "                .geemap-dark {\n",
       "                    --jp-widgets-color: white;\n",
       "                    --jp-widgets-label-color: white;\n",
       "                    --jp-ui-font-color1: white;\n",
       "                    --jp-layout-color2: #454545;\n",
       "                    background-color: #383838;\n",
       "                }\n",
       "\n",
       "                .geemap-dark .jupyter-button {\n",
       "                    --jp-layout-color3: #383838;\n",
       "                }\n",
       "\n",
       "                .geemap-colab {\n",
       "                    background-color: var(--colab-primary-surface-color, white);\n",
       "                }\n",
       "\n",
       "                .geemap-colab .jupyter-button {\n",
       "                    --jp-layout-color3: var(--colab-primary-surface-color, white);\n",
       "                }\n",
       "            </style>\n",
       "            "
      ],
      "text/plain": [
       "<IPython.core.display.HTML object>"
      ]
     },
     "metadata": {},
     "output_type": "display_data"
    }
   ],
   "source": [
    "import glob\n",
    "\n",
    "path = r'C:/Users/arj26323/Documents/Xin data/Landsat' \n",
    "all_files = glob.glob(path + \"/*.csv\")\n",
    "\n",
    "li = []\n",
    "\n",
    "for filename in all_files:\n",
    "    df = pd.read_csv(filename, index_col=None, header=0)\n",
    "    li.append(df)\n",
    "\n",
    "df = pd.concat(li, axis=0, ignore_index=True)\n",
    "\n",
    "\n",
    "df_flooding = df.groupby(['Latitude', 'Longitude', 'Year']).apply(\n",
    "    lambda g: (g['flats'] >= 0.2).mean()).reset_index(name='Percent_flooding'\n",
    "                                                     )\n",
    "\n",
    "# df1 = pd.read_csv('C:/Users/arj26323/Documents/Data/Biomass datasets/Sapelo/df_testxyzgridmet.csv')\n",
    "\n",
    "# df1 = df1.merge(df_flooding, on=['Latitude', 'Longitude', 'Year'], how='inner')\n",
    "# df1"
   ]
  },
  {
   "cell_type": "code",
   "execution_count": 7,
   "id": "6498ea69",
   "metadata": {},
   "outputs": [
    {
     "data": {
      "text/html": [
       "\n",
       "            <style>\n",
       "                .geemap-dark {\n",
       "                    --jp-widgets-color: white;\n",
       "                    --jp-widgets-label-color: white;\n",
       "                    --jp-ui-font-color1: white;\n",
       "                    --jp-layout-color2: #454545;\n",
       "                    background-color: #383838;\n",
       "                }\n",
       "\n",
       "                .geemap-dark .jupyter-button {\n",
       "                    --jp-layout-color3: #383838;\n",
       "                }\n",
       "\n",
       "                .geemap-colab {\n",
       "                    background-color: var(--colab-primary-surface-color, white);\n",
       "                }\n",
       "\n",
       "                .geemap-colab .jupyter-button {\n",
       "                    --jp-layout-color3: var(--colab-primary-surface-color, white);\n",
       "                }\n",
       "            </style>\n",
       "            "
      ],
      "text/plain": [
       "<IPython.core.display.HTML object>"
      ]
     },
     "metadata": {},
     "output_type": "display_data"
    },
    {
     "data": {
      "image/png": "[encoded data removed]",
      "text/plain": [
       "<Figure size 640x480 with 1 Axes>"
      ]
     },
     "metadata": {},
     "output_type": "display_data"
    }
   ],
   "source": [
    "df_flooding\n",
    "\n",
    "import matplotlib.pyplot as plt\n",
    "plt.hist(df_flooding['Percent_flooding'], bins=50)\n",
    "plt.xlabel(\"Perflood\")\n",
    "plt.ylabel(\"Frequency\")\n",
    "plt.show()"
   ]
  },
  {
   "cell_type": "code",
   "execution_count": 8,
   "id": "8e4eb874",
   "metadata": {},
   "outputs": [
    {
     "data": {
      "text/html": [
       "\n",
       "            <style>\n",
       "                .geemap-dark {\n",
       "                    --jp-widgets-color: white;\n",
       "                    --jp-widgets-label-color: white;\n",
       "                    --jp-ui-font-color1: white;\n",
       "                    --jp-layout-color2: #454545;\n",
       "                    background-color: #383838;\n",
       "                }\n",
       "\n",
       "                .geemap-dark .jupyter-button {\n",
       "                    --jp-layout-color3: #383838;\n",
       "                }\n",
       "\n",
       "                .geemap-colab {\n",
       "                    background-color: var(--colab-primary-surface-color, white);\n",
       "                }\n",
       "\n",
       "                .geemap-colab .jupyter-button {\n",
       "                    --jp-layout-color3: var(--colab-primary-surface-color, white);\n",
       "                }\n",
       "            </style>\n",
       "            "
      ],
      "text/plain": [
       "<IPython.core.display.HTML object>"
      ]
     },
     "metadata": {},
     "output_type": "display_data"
    }
   ],
   "source": [
    "##Modeling\n",
    "\n",
    "# df1 = pd.read_csv('C:/Users/arj26323/Documents/Data/Biomass datasets/Sapelo/ga_testx.csv') #NO TIDAL FILTERING IN EXTRACTION\n",
    "\n",
    "df1 = pd.read_csv('C:/Users/arj26323/Documents/Data/Biomass datasets/Sapelo/df_testxyzgridmet.csv')\n",
    "\n",
    "df1 = df1.merge(df_flooding, on=['Latitude', 'Longitude', 'Year'], how='inner') ##BE VERY CAREFUL\n",
    "\n",
    "df1.rename(columns={'elevation':'Elevation'}, inplace=True)\n",
    "\n",
    "# df1 = df1[df1['ident'].notna()] ##remove rows with NaN for columns used in the model \n",
    "\n",
    "\n",
    "# df1 = df1[df1['prcp'].notna()] ##CAREFUL; added 7/11/22\n",
    "\n",
    "\n",
    "# df1 = df1[df1['Species_Code'] == 'A1'] ##careful here\n",
    "\n",
    "\n",
    "# df1 = df1[(df1['flats'] < 0.1)] ##TIDAL FILTERING STEP!\n",
    "\n",
    "#Adding evi\n",
    "df1['evi'] = ((df1['NIR_band']-df1['Red_band'])*2.5)/(df1['NIR_band']+6*df1['Red_band']+7.5*df1['Blue_band']+1)\n",
    "df1['evi_peak'] = ((df1['NIR_band_peak']-df1['Red_band_peak'])*2.5)/(df1['NIR_band_peak']+6*df1['Red_band_peak']+7.5*df1['Blue_band_peak']+1)\n",
    "df1['evi_MarMay'] = ((df1['NIR_band_MarMay']-df1['Red_band_MarMay'])*2.5)/(df1['NIR_band_MarMay']+6*df1['Red_band_MarMay']+7.5*df1['Blue_band_MarMay']+1)\n",
    "df1['evi_year'] = ((df1['NIR_band_year']-df1['Red_band_year'])*2.5)/(df1['NIR_band_year']+6*df1['Red_band_year']+7.5*df1['Blue_band_year']+1)\n",
    "\n",
    "from sklearn.model_selection import train_test_split\n",
    "from numpy import loadtxt\n",
    "from xgboost import XGBClassifier\n",
    "from sklearn.metrics import accuracy_score\n",
    "from datetime import datetime\n",
    "\n",
    "df1['Date'] = pd.to_datetime(df1.Date, format='%m/%d/%Y')\n",
    "df1['DOY'] = df1['Date'].dt.strftime('%j') ##Add day of year (DOY) to dataset\n",
    "# df1['DOY'] = df1['Date'].dt.strftime('%j').astype('float') ##The astype('float') is only for the regression - not for ML \n",
    "\n",
    "\n",
    "df1['ndvi_prcp_interaction'] = df1['ndvi'] * df1['prcp_daymMarMay']\n",
    "\n",
    "\n",
    "\n",
    "xargs=df1[\n",
    "    [\n",
    "        'Elevation', \n",
    "        'nd_swir2_nir_peak',\n",
    "        'nd_swir2_nir', \n",
    "        'Percent_flooding',\n",
    "        'dayl_Max', \n",
    "        'dayl_Min',\n",
    "        'srad_peak', \n",
    "        'NIR_band_year',\n",
    "        'flats',\n",
    "        'wdrvi5_peak', \n",
    "        'ndvi_peak', \n",
    "        'dayl_daymMarMay', \n",
    "        'swe_rolling',\n",
    "        'nd_g_b_MarMay',\n",
    "        'savi', \n",
    "        'Red_band_year',\n",
    "        'nd_swir2_nir_year', \n",
    "        'SWIR1_band_year',\n",
    "        'nd_g_b',\n",
    "        'Blue_band'\n",
    "    ]\n",
    "]\n",
    "\n",
    "yargs=df1['Plant_Biomass'] \n",
    "\n",
    "##NEED SEASONAL DAYMET DATA\n",
    "#removed: 'nd_r_g','dayl','sn_prcp', 'sn_dayl', 'sn_srad', 'sn_vp', 'vp', 'srad', 'prcp'\n",
    "\n",
    "##Include lag variables (e.g. lag ndvi), precip, temp, more\n",
    "\n",
    "##ELEVATION NEEDS TO BE TRIPLE-CHECKED AT EACH PLOT TO MAKE SURE VALUES CORRESPOND\n",
    "\n",
    "size_x = 0.2\n",
    "seed = 3\n",
    "xargs_train, xargs_test, yargs_train, yargs_test = train_test_split(xargs, yargs, test_size=size_x, random_state = seed) \n",
    "## 80% training and 20% test\n"
   ]
  },
  {
   "cell_type": "code",
   "execution_count": 9,
   "id": "632acd46",
   "metadata": {},
   "outputs": [
    {
     "data": {
      "text/html": [
       "\n",
       "            <style>\n",
       "                .geemap-dark {\n",
       "                    --jp-widgets-color: white;\n",
       "                    --jp-widgets-label-color: white;\n",
       "                    --jp-ui-font-color1: white;\n",
       "                    --jp-layout-color2: #454545;\n",
       "                    background-color: #383838;\n",
       "                }\n",
       "\n",
       "                .geemap-dark .jupyter-button {\n",
       "                    --jp-layout-color3: #383838;\n",
       "                }\n",
       "\n",
       "                .geemap-colab {\n",
       "                    background-color: var(--colab-primary-surface-color, white);\n",
       "                }\n",
       "\n",
       "                .geemap-colab .jupyter-button {\n",
       "                    --jp-layout-color3: var(--colab-primary-surface-color, white);\n",
       "                }\n",
       "            </style>\n",
       "            "
      ],
      "text/plain": [
       "<IPython.core.display.HTML object>"
      ]
     },
     "metadata": {},
     "output_type": "display_data"
    },
    {
     "name": "stdout",
     "output_type": "stream",
     "text": [
      "Mean Absolute Error: 323.65822646082466\n",
      "Mean Squared Error: 276404.78656123934\n",
      "Root Mean Squared Error: 525.7421293383661\n",
      "The r squared is: 0.5678634541634862\n",
      "0.5678634541634862\n",
      "testing r2 is: 0.5678634541634862\n",
      "training r2 is: 0.8069429754302256\n",
      "NRMSE is: 0.07312707448076095\n",
      "MEAN BASELINE:\n",
      "Mean Absolute Error: 526.3162551789758\n",
      "Root Mean Squared Error: 800.4688288188723\n",
      "NDVI BASELINE: unfinished\n"
     ]
    }
   ],
   "source": [
    "#Pipeline:\n",
    "from sklearn.pipeline import Pipeline\n",
    "from sklearn.preprocessing import StandardScaler\n",
    "from sklearn.ensemble import RandomForestRegressor\n",
    "from sklearn.metrics import accuracy_score\n",
    "from sklearn import metrics\n",
    "\n",
    "#Hyperparameters tuned later\n",
    "pipe = Pipeline([('scaler', StandardScaler()), ('forest', RandomForestRegressor(n_estimators=200, \n",
    "                                                                                min_samples_split=10, \n",
    "                                                                                min_samples_leaf=2,\n",
    "                                                                                max_depth=30, random_state=seed))])\n",
    "pipe.fit(xargs_train, yargs_train)\n",
    "y_pred=pipe.predict(xargs_test)\n",
    "print('Mean Absolute Error:', metrics.mean_absolute_error(yargs_test, y_pred))\n",
    "print('Mean Squared Error:', metrics.mean_squared_error(yargs_test, y_pred))\n",
    "print('Root Mean Squared Error:', np.sqrt(metrics.mean_squared_error(yargs_test, y_pred)))\n",
    "r_square = metrics.r2_score(yargs_test, y_pred)\n",
    "print(\"The r squared is: \" + str(r_square))\n",
    "print(r_square)\n",
    "print('testing r2 is: ' + str(pipe.score(xargs_test, yargs_test)))\n",
    "print('training r2 is: ' + str(pipe.score(xargs_train, yargs_train)))\n",
    "print('NRMSE is: ' + str(np.sqrt(metrics.mean_squared_error(yargs_test, y_pred))/np.ptp(yargs_test)))\n",
    "\n",
    "# Mean\n",
    "print('MEAN BASELINE:')\n",
    "y_pred_mean = [np.mean(yargs_train)] * len(yargs_test)\n",
    "print('Mean Absolute Error:', metrics.mean_absolute_error(yargs_test, y_pred_mean))\n",
    "print('Root Mean Squared Error:', np.sqrt(metrics.mean_squared_error(yargs_test, y_pred_mean)))\n",
    "\n",
    "# NDVI\n",
    "print('NDVI BASELINE: unfinished')"
   ]
  },
  {
   "cell_type": "code",
   "execution_count": 10,
   "id": "eabed961",
   "metadata": {},
   "outputs": [
    {
     "data": {
      "text/html": [
       "\n",
       "            <style>\n",
       "                .geemap-dark {\n",
       "                    --jp-widgets-color: white;\n",
       "                    --jp-widgets-label-color: white;\n",
       "                    --jp-ui-font-color1: white;\n",
       "                    --jp-layout-color2: #454545;\n",
       "                    background-color: #383838;\n",
       "                }\n",
       "\n",
       "                .geemap-dark .jupyter-button {\n",
       "                    --jp-layout-color3: #383838;\n",
       "                }\n",
       "\n",
       "                .geemap-colab {\n",
       "                    background-color: var(--colab-primary-surface-color, white);\n",
       "                }\n",
       "\n",
       "                .geemap-colab .jupyter-button {\n",
       "                    --jp-layout-color3: var(--colab-primary-surface-color, white);\n",
       "                }\n",
       "            </style>\n",
       "            "
      ],
      "text/plain": [
       "<IPython.core.display.HTML object>"
      ]
     },
     "metadata": {},
     "output_type": "display_data"
    },
    {
     "data": {
      "image/png": "[encoded data removed]",
      "text/plain": [
       "<Figure size 640x480 with 1 Axes>"
      ]
     },
     "metadata": {},
     "output_type": "display_data"
    },
    {
     "name": "stdout",
     "output_type": "stream",
     "text": [
      "test data correlation coefficient is: 0.7537855150607357\n",
      "train data correlation coefficient is: 0.9087745684184629\n"
     ]
    },
    {
     "data": {
      "image/png": "[encoded data removed]",
      "text/plain": [
       "<Figure size 640x480 with 1 Axes>"
      ]
     },
     "metadata": {},
     "output_type": "display_data"
    }
   ],
   "source": [
    "plt.scatter(y_pred, yargs_test, color = 'black') ##label axes - x,y in order?\n",
    "# plt.plot(X_val, regressor.predict(X_val), color = 'red')\n",
    "plt.xlabel(\"Predicted\")\n",
    "plt.ylabel(\"Observed\")\n",
    "plt.plot([0, 4000], [0, 4000], 'k-')\n",
    "plt.show()\n",
    "\n",
    "print('test data correlation coefficient is: ' + str(np.corrcoef(yargs_test, y_pred)[0, 1]))\n",
    "\n",
    "train_pred = pipe.predict(xargs_train) ##Not sure if this is the right thing to do here\n",
    "plt.scatter(train_pred, yargs_train, color = 'gray')\n",
    "plt.xlabel(\"Predicted\")\n",
    "plt.ylabel(\"Observed\")\n",
    "plt.plot([0, 5000], [0, 5000], 'k-')\n",
    "plt.show\n",
    "\n",
    "print('train data correlation coefficient is: ' + str(np.corrcoef(train_pred, yargs_train)[0, 1]))"
   ]
  },
  {
   "cell_type": "code",
   "execution_count": 11,
   "id": "cf2cc939",
   "metadata": {},
   "outputs": [
    {
     "data": {
      "text/html": [
       "\n",
       "            <style>\n",
       "                .geemap-dark {\n",
       "                    --jp-widgets-color: white;\n",
       "                    --jp-widgets-label-color: white;\n",
       "                    --jp-ui-font-color1: white;\n",
       "                    --jp-layout-color2: #454545;\n",
       "                    background-color: #383838;\n",
       "                }\n",
       "\n",
       "                .geemap-dark .jupyter-button {\n",
       "                    --jp-layout-color3: #383838;\n",
       "                }\n",
       "\n",
       "                .geemap-colab {\n",
       "                    background-color: var(--colab-primary-surface-color, white);\n",
       "                }\n",
       "\n",
       "                .geemap-colab .jupyter-button {\n",
       "                    --jp-layout-color3: var(--colab-primary-surface-color, white);\n",
       "                }\n",
       "            </style>\n",
       "            "
      ],
      "text/plain": [
       "<IPython.core.display.HTML object>"
      ]
     },
     "metadata": {},
     "output_type": "display_data"
    },
    {
     "data": {
      "text/plain": [
       "{'fit_time': array([18.97984886, 16.18489337, 16.10672235, 16.06472015, 15.92358637,\n",
       "        15.65264893, 15.44960284, 15.59016466, 15.58295178, 15.76197791]),\n",
       " 'score_time': array([0.06324029, 0.0624795 , 0.06245184, 0.06248617, 0.0624764 ,\n",
       "        0.06246519, 0.06247544, 0.06248665, 0.06248569, 0.06248546]),\n",
       " 'test_r2': array([0.45397813, 0.56114115, 0.52024032, 0.49413036, 0.6376832 ,\n",
       "        0.65917603, 0.43763195, 0.42977376, 0.54339332, 0.59106778]),\n",
       " 'test_neg_root_mean_squared_error': array([-572.01408718, -497.21260085, -464.55402131, -458.23698561,\n",
       "        -447.24415764, -516.33932714, -459.50193828, -623.63061107,\n",
       "        -518.36205721, -443.93023138])}"
      ]
     },
     "execution_count": 11,
     "metadata": {},
     "output_type": "execute_result"
    }
   ],
   "source": [
    "##k-fold cross validation; random forest\n",
    "\n",
    "##ORIGINAL PREDICTORS:\n",
    "# predictors = df1[\n",
    "#     [\n",
    "#         'ndvi', 'nd_swir2_r', 'nd_swir2_nir', 'nd_g_b','wdrvi5', 'savi', 'Elevation', 'tmax', 'tmin', 'DOY', 'ndvi_augoct',\n",
    "#         'savi_augoct','wdrvi5_augoct','nd_r_g_augoct','nd_g_b_augoct','nd_swir2_nir_augoct', 'nd_swir2_r_augoct',\n",
    "#         'ndvi_sepoct','savi_sepoct','wdrvi5_sepoct','nd_r_g_sepoct','nd_g_b_sepoct', 'nd_swir2_nir_sepoct', \n",
    "#         'nd_swir2_r_sepoct','ndvi_octnov','savi_octnov','wdrvi5_octnov','nd_r_g_octnov','nd_g_b_octnov',\n",
    "#         'nd_swir2_nir_octnov', 'nd_swir2_r_octnov','ndvi_yr','savi_yr','wdrvi5_yr','nd_r_g_yr','nd_g_b_yr',\n",
    "#         'nd_swir2_nir_yr', 'nd_swir2_r_yr'\n",
    "#     ]\n",
    "# ]\n",
    "\n",
    "# targets = df1['Plant_Biomass'] \n",
    "\n",
    "#Predictors below are based on feature selection - most important variables\n",
    "\n",
    "predictors = xargs\n",
    "\n",
    "targets = df1['Plant_Biomass'] \n",
    "\n",
    "from sklearn import model_selection\n",
    "from sklearn.ensemble import RandomForestRegressor\n",
    "from sklearn import metrics\n",
    "from sklearn.model_selection import KFold, cross_validate\n",
    "# from sklearn.datasets import load_boston\n",
    "\n",
    "X, y = predictors, targets\n",
    "n_splits = 10\n",
    "kf = KFold(n_splits=n_splits, shuffle=True)\n",
    "\n",
    "model = pipe\n",
    "scoring=('r2', 'neg_root_mean_squared_error')\n",
    "\n",
    "cv_results = cross_validate(model, X, y, cv=kf, scoring=scoring, return_train_score=False)\n",
    "cv_results\n",
    "\n",
    "##from: https://stackoverflow.com/questions/55270431/how-to-correctly-perform-cross-validation-in-scikit-learn\n",
    "\n",
    "#Old predictors:\n",
    "#'Percent_flooding','flats','Elevation', 'nd_swir2_nir_peak','dayl_daymMarMay', 'wdrvi5_peak', 'ndvi_peak', \n",
    "#'nd_swir2_nir', 'dayl_Max', 'dayl_Min','tmax_peak',\n",
    "#'srad_peak', 'savi', 'evi','nd_swir2_nir_year', 'nd_g_b','Green_band_year','SWIR1_band_peak','SWIR2_band_peak',\n",
    "#'evi_peak','ndvi_prcp_interaction'"
   ]
  },
  {
   "cell_type": "code",
   "execution_count": 12,
   "id": "b1b34a23",
   "metadata": {},
   "outputs": [
    {
     "data": {
      "text/html": [
       "\n",
       "            <style>\n",
       "                .geemap-dark {\n",
       "                    --jp-widgets-color: white;\n",
       "                    --jp-widgets-label-color: white;\n",
       "                    --jp-ui-font-color1: white;\n",
       "                    --jp-layout-color2: #454545;\n",
       "                    background-color: #383838;\n",
       "                }\n",
       "\n",
       "                .geemap-dark .jupyter-button {\n",
       "                    --jp-layout-color3: #383838;\n",
       "                }\n",
       "\n",
       "                .geemap-colab {\n",
       "                    background-color: var(--colab-primary-surface-color, white);\n",
       "                }\n",
       "\n",
       "                .geemap-colab .jupyter-button {\n",
       "                    --jp-layout-color3: var(--colab-primary-surface-color, white);\n",
       "                }\n",
       "            </style>\n",
       "            "
      ],
      "text/plain": [
       "<IPython.core.display.HTML object>"
      ]
     },
     "metadata": {},
     "output_type": "display_data"
    },
    {
     "name": "stdout",
     "output_type": "stream",
     "text": [
      "0.532821599004859\n",
      "-500.1026017670125\n",
      "NRSME is: -0.06956079447820253\n"
     ]
    }
   ],
   "source": [
    "#Feature importance and average RMSE\n",
    "x = pd.DataFrame(cv_results)\n",
    "print(x['test_r2'].mean())\n",
    "print(x['test_neg_root_mean_squared_error'].mean())\n",
    "print('NRMSE is: ' + str(x['test_neg_root_mean_squared_error'].mean()/np.ptp(yargs_test)))"
   ]
  },
  {
   "cell_type": "code",
   "execution_count": 12,
   "id": "3b1b2aa2",
   "metadata": {},
   "outputs": [
    {
     "data": {
      "text/html": [
       "\n",
       "            <style>\n",
       "                .geemap-dark {\n",
       "                    --jp-widgets-color: white;\n",
       "                    --jp-widgets-label-color: white;\n",
       "                    --jp-ui-font-color1: white;\n",
       "                    --jp-layout-color2: #454545;\n",
       "                    background-color: #383838;\n",
       "                }\n",
       "\n",
       "                .geemap-dark .jupyter-button {\n",
       "                    --jp-layout-color3: #383838;\n",
       "                }\n",
       "\n",
       "                .geemap-colab {\n",
       "                    background-color: var(--colab-primary-surface-color, white);\n",
       "                }\n",
       "\n",
       "                .geemap-colab .jupyter-button {\n",
       "                    --jp-layout-color3: var(--colab-primary-surface-color, white);\n",
       "                }\n",
       "            </style>\n",
       "            "
      ],
      "text/plain": [
       "<IPython.core.display.HTML object>"
      ]
     },
     "metadata": {},
     "output_type": "display_data"
    }
   ],
   "source": [
    "# from statsmodels.stats.outliers_influence import variance_inflation_factor\n",
    "# X = xargs_train.copy().dropna()\n",
    "# vif_data = pd.DataFrame()\n",
    "# vif_data[\"Feature\"] = X.columns\n",
    "# vif_data[\"VIF\"] = [variance_inflation_factor(X.values, i) for i in range(X.shape[1])]\n",
    "# print(vif_data)"
   ]
  },
  {
   "cell_type": "code",
   "execution_count": 13,
   "id": "eeb8a149",
   "metadata": {},
   "outputs": [
    {
     "data": {
      "text/html": [
       "\n",
       "            <style>\n",
       "                .geemap-dark {\n",
       "                    --jp-widgets-color: white;\n",
       "                    --jp-widgets-label-color: white;\n",
       "                    --jp-ui-font-color1: white;\n",
       "                    --jp-layout-color2: #454545;\n",
       "                    background-color: #383838;\n",
       "                }\n",
       "\n",
       "                .geemap-dark .jupyter-button {\n",
       "                    --jp-layout-color3: #383838;\n",
       "                }\n",
       "\n",
       "                .geemap-colab {\n",
       "                    background-color: var(--colab-primary-surface-color, white);\n",
       "                }\n",
       "\n",
       "                .geemap-colab .jupyter-button {\n",
       "                    --jp-layout-color3: var(--colab-primary-surface-color, white);\n",
       "                }\n",
       "            </style>\n",
       "            "
      ],
      "text/plain": [
       "<IPython.core.display.HTML object>"
      ]
     },
     "metadata": {},
     "output_type": "display_data"
    },
    {
     "name": "stdout",
     "output_type": "stream",
     "text": [
      "              Feature  Importance\n",
      "0           Elevation    0.192949\n",
      "1   nd_swir2_nir_peak    0.144688\n",
      "2        nd_swir2_nir    0.104039\n",
      "6           srad_peak    0.063311\n",
      "3    Percent_flooding    0.057905\n",
      "13      nd_g_b_MarMay    0.040637\n",
      "8               flats    0.038018\n",
      "7       NIR_band_year    0.036091\n",
      "4            dayl_Max    0.033088\n",
      "19          Blue_band    0.031921\n",
      "15      Red_band_year    0.029873\n",
      "17    SWIR1_band_year    0.029099\n",
      "14               savi    0.029059\n",
      "10          ndvi_peak    0.027089\n",
      "18             nd_g_b    0.025453\n",
      "16  nd_swir2_nir_year    0.024122\n",
      "12        swe_rolling    0.023707\n",
      "5            dayl_Min    0.023653\n",
      "9         wdrvi5_peak    0.023175\n",
      "11    dayl_daymMarMay    0.022123\n"
     ]
    }
   ],
   "source": [
    "##Feature selection\n",
    "import time\n",
    "import numpy as np\n",
    "\n",
    "feature_importances = pipe.named_steps['forest'].feature_importances_\n",
    "feature_importance_df = pd.DataFrame({'Feature': xargs.columns, 'Importance': feature_importances})\n",
    "feature_importance_df = feature_importance_df.sort_values(by='Importance', ascending=False)\n",
    "print(feature_importance_df.head(20))  # Keep the top 20 most important features\n",
    "\n",
    "# pd.set_option('display.max_rows', None)\n",
    "# print(feature_importance_df)"
   ]
  },
  {
   "cell_type": "code",
   "execution_count": 14,
   "id": "3793a157",
   "metadata": {},
   "outputs": [
    {
     "data": {
      "text/html": [
       "\n",
       "            <style>\n",
       "                .geemap-dark {\n",
       "                    --jp-widgets-color: white;\n",
       "                    --jp-widgets-label-color: white;\n",
       "                    --jp-ui-font-color1: white;\n",
       "                    --jp-layout-color2: #454545;\n",
       "                    background-color: #383838;\n",
       "                }\n",
       "\n",
       "                .geemap-dark .jupyter-button {\n",
       "                    --jp-layout-color3: #383838;\n",
       "                }\n",
       "\n",
       "                .geemap-colab {\n",
       "                    background-color: var(--colab-primary-surface-color, white);\n",
       "                }\n",
       "\n",
       "                .geemap-colab .jupyter-button {\n",
       "                    --jp-layout-color3: var(--colab-primary-surface-color, white);\n",
       "                }\n",
       "            </style>\n",
       "            "
      ],
      "text/plain": [
       "<IPython.core.display.HTML object>"
      ]
     },
     "metadata": {},
     "output_type": "display_data"
    },
    {
     "name": "stdout",
     "output_type": "stream",
     "text": [
      "2036\n"
     ]
    }
   ],
   "source": [
    "print(len(yargs))\n",
    "\n",
    "##More work to do"
   ]
  },
  {
   "cell_type": "code",
   "execution_count": 15,
   "id": "ed4e4e3b",
   "metadata": {},
   "outputs": [
    {
     "data": {
      "text/html": [
       "\n",
       "            <style>\n",
       "                .geemap-dark {\n",
       "                    --jp-widgets-color: white;\n",
       "                    --jp-widgets-label-color: white;\n",
       "                    --jp-ui-font-color1: white;\n",
       "                    --jp-layout-color2: #454545;\n",
       "                    background-color: #383838;\n",
       "                }\n",
       "\n",
       "                .geemap-dark .jupyter-button {\n",
       "                    --jp-layout-color3: #383838;\n",
       "                }\n",
       "\n",
       "                .geemap-colab {\n",
       "                    background-color: var(--colab-primary-surface-color, white);\n",
       "                }\n",
       "\n",
       "                .geemap-colab .jupyter-button {\n",
       "                    --jp-layout-color3: var(--colab-primary-surface-color, white);\n",
       "                }\n",
       "            </style>\n",
       "            "
      ],
      "text/plain": [
       "<IPython.core.display.HTML object>"
      ]
     },
     "metadata": {},
     "output_type": "display_data"
    },
    {
     "data": {
      "text/plain": [
       "<AxesSubplot:xlabel='Percent_flooding', ylabel='Plant_Biomass'>"
      ]
     },
     "execution_count": 15,
     "metadata": {},
     "output_type": "execute_result"
    },
    {
     "data": {
      "image/png": "[encoded data removed]",
      "text/plain": [
       "<Figure size 640x480 with 1 Axes>"
      ]
     },
     "metadata": {},
     "output_type": "display_data"
    }
   ],
   "source": [
    "g = df1.plot(kind = 'scatter', x = 'Percent_flooding', y = 'Plant_Biomass')\n",
    "\n",
    "g"
   ]
  },
  {
   "cell_type": "code",
   "execution_count": 16,
   "id": "8b18c6ee",
   "metadata": {},
   "outputs": [
    {
     "data": {
      "text/html": [
       "\n",
       "            <style>\n",
       "                .geemap-dark {\n",
       "                    --jp-widgets-color: white;\n",
       "                    --jp-widgets-label-color: white;\n",
       "                    --jp-ui-font-color1: white;\n",
       "                    --jp-layout-color2: #454545;\n",
       "                    background-color: #383838;\n",
       "                }\n",
       "\n",
       "                .geemap-dark .jupyter-button {\n",
       "                    --jp-layout-color3: #383838;\n",
       "                }\n",
       "\n",
       "                .geemap-colab {\n",
       "                    background-color: var(--colab-primary-surface-color, white);\n",
       "                }\n",
       "\n",
       "                .geemap-colab .jupyter-button {\n",
       "                    --jp-layout-color3: var(--colab-primary-surface-color, white);\n",
       "                }\n",
       "            </style>\n",
       "            "
      ],
      "text/plain": [
       "<IPython.core.display.HTML object>"
      ]
     },
     "metadata": {},
     "output_type": "display_data"
    },
    {
     "data": {
      "image/png": "[encoded data removed]",
      "text/plain": [
       "<Figure size 640x480 with 1 Axes>"
      ]
     },
     "metadata": {},
     "output_type": "display_data"
    }
   ],
   "source": [
    "import matplotlib.pyplot as plt\n",
    "residuals = yargs_test - y_pred\n",
    "plt.hist(residuals, bins=50)\n",
    "plt.xlabel(\"Residuals\")\n",
    "plt.ylabel(\"Frequency\")\n",
    "plt.show()\n",
    "\n",
    "# plt.scatter(yargs_test, y_pred)\n",
    "# plt.xlabel(\"Actual Biomass\")\n",
    "# plt.ylabel(\"Predicted Biomass\")\n",
    "# plt.plot([min(yargs_test), max(yargs_test)], [min(yargs_test), max(yargs_test)], 'r--')\n",
    "# plt.show()"
   ]
  },
  {
   "cell_type": "code",
   "execution_count": 17,
   "id": "43fc8016",
   "metadata": {},
   "outputs": [
    {
     "data": {
      "text/html": [
       "\n",
       "            <style>\n",
       "                .geemap-dark {\n",
       "                    --jp-widgets-color: white;\n",
       "                    --jp-widgets-label-color: white;\n",
       "                    --jp-ui-font-color1: white;\n",
       "                    --jp-layout-color2: #454545;\n",
       "                    background-color: #383838;\n",
       "                }\n",
       "\n",
       "                .geemap-dark .jupyter-button {\n",
       "                    --jp-layout-color3: #383838;\n",
       "                }\n",
       "\n",
       "                .geemap-colab {\n",
       "                    background-color: var(--colab-primary-surface-color, white);\n",
       "                }\n",
       "\n",
       "                .geemap-colab .jupyter-button {\n",
       "                    --jp-layout-color3: var(--colab-primary-surface-color, white);\n",
       "                }\n",
       "            </style>\n",
       "            "
      ],
      "text/plain": [
       "<IPython.core.display.HTML object>"
      ]
     },
     "metadata": {},
     "output_type": "display_data"
    }
   ],
   "source": [
    "# from sklearn.model_selection import RandomizedSearchCV\n",
    "\n",
    "# param_grid = {\n",
    "#     'forest__n_estimators': [50, 100, 200, 300, 500, 1000],\n",
    "#     'forest__max_depth': [10, 20, 30, None],\n",
    "#     'forest__min_samples_split': [2, 5, 10],\n",
    "#     'forest__min_samples_leaf': [1, 2, 4]\n",
    "# }\n",
    "\n",
    "# rf_search = RandomizedSearchCV(pipe, param_distributions=param_grid, n_iter=50, cv=5, scoring='neg_root_mean_squared_error', n_jobs=-1, random_state=seed)\n",
    "# rf_search.fit(xargs_train, yargs_train)\n",
    "\n",
    "# print(\"Best Params:\", rf_search.best_params_)\n",
    "# pipe = rf_search.best_estimator_"
   ]
  },
  {
   "cell_type": "code",
   "execution_count": 18,
   "id": "b6d7c004",
   "metadata": {},
   "outputs": [
    {
     "data": {
      "text/html": [
       "\n",
       "            <style>\n",
       "                .geemap-dark {\n",
       "                    --jp-widgets-color: white;\n",
       "                    --jp-widgets-label-color: white;\n",
       "                    --jp-ui-font-color1: white;\n",
       "                    --jp-layout-color2: #454545;\n",
       "                    background-color: #383838;\n",
       "                }\n",
       "\n",
       "                .geemap-dark .jupyter-button {\n",
       "                    --jp-layout-color3: #383838;\n",
       "                }\n",
       "\n",
       "                .geemap-colab {\n",
       "                    background-color: var(--colab-primary-surface-color, white);\n",
       "                }\n",
       "\n",
       "                .geemap-colab .jupyter-button {\n",
       "                    --jp-layout-color3: var(--colab-primary-surface-color, white);\n",
       "                }\n",
       "            </style>\n",
       "            "
      ],
      "text/plain": [
       "<IPython.core.display.HTML object>"
      ]
     },
     "metadata": {},
     "output_type": "display_data"
    },
    {
     "data": {
      "text/plain": [
       "'\\nTESTING ON VIRGINIA DATA BELOW. CONTINUE CAREFULLY\\n'"
      ]
     },
     "execution_count": 18,
     "metadata": {},
     "output_type": "execute_result"
    }
   ],
   "source": [
    "'''\n",
    "TESTING ON VIRGINIA DATA BELOW. CONTINUE CAREFULLY\n",
    "'''"
   ]
  },
  {
   "cell_type": "code",
   "execution_count": 19,
   "id": "5db42916",
   "metadata": {},
   "outputs": [
    {
     "data": {
      "text/html": [
       "\n",
       "            <style>\n",
       "                .geemap-dark {\n",
       "                    --jp-widgets-color: white;\n",
       "                    --jp-widgets-label-color: white;\n",
       "                    --jp-ui-font-color1: white;\n",
       "                    --jp-layout-color2: #454545;\n",
       "                    background-color: #383838;\n",
       "                }\n",
       "\n",
       "                .geemap-dark .jupyter-button {\n",
       "                    --jp-layout-color3: #383838;\n",
       "                }\n",
       "\n",
       "                .geemap-colab {\n",
       "                    background-color: var(--colab-primary-surface-color, white);\n",
       "                }\n",
       "\n",
       "                .geemap-colab .jupyter-button {\n",
       "                    --jp-layout-color3: var(--colab-primary-surface-color, white);\n",
       "                }\n",
       "            </style>\n",
       "            "
      ],
      "text/plain": [
       "<IPython.core.display.HTML object>"
      ]
     },
     "metadata": {},
     "output_type": "display_data"
    },
    {
     "data": {
      "text/plain": [
       "0      278.613333\n",
       "1      367.160000\n",
       "2      138.354286\n",
       "3       21.200000\n",
       "4       88.400000\n",
       "          ...    \n",
       "487     43.440000\n",
       "488    168.480000\n",
       "489    158.240000\n",
       "490    127.520000\n",
       "491    191.280000\n",
       "Name: Plant_Biomass, Length: 492, dtype: float64"
      ]
     },
     "execution_count": 19,
     "metadata": {},
     "output_type": "execute_result"
    }
   ],
   "source": [
    "#Testing on VA data\n",
    "import os\n",
    "\n",
    "va1 = pd.read_csv('C:/Users/arj26323/Documents/Data/Biomass datasets/Virginia/va_testzzz.csv')\n",
    "# va1 = pd.read_csv('C:/Users/arj26323/Documents/Data/Biomass datasets/Virginia/va_testx.csv')\n",
    "\n",
    "path = r'C:/Users/arj26323/Documents/Xin data/Virginia' \n",
    "all_files = glob.glob(path + \"/*.csv\")\n",
    "\n",
    "# li = []\n",
    "\n",
    "# for filename in all_files:\n",
    "#     df = pd.read_csv(filename, index_col=None, header=0)\n",
    "#     li.append(df)\n",
    "\n",
    "# va = pd.concat(li, axis=0, ignore_index=True)\n",
    "\n",
    "\n",
    "# va_flooding = va.groupby(['Latitude', 'Longitude', 'Year']).apply(\n",
    "#     lambda g: (g['flats'] >= 0.2).mean()).reset_index(name='Percent_flooding'\n",
    "#                                                      )\n",
    "\n",
    "va1.rename(columns={'elevation':'Elevation'}, inplace=True)\n",
    "va1 = va1[va1['prcp'].notna()] ##CAREFUL; added 7/11/22\n",
    "\n",
    "#Adding evi\n",
    "va1['evi'] = ((va1['NIR_band']-va1['Red_band'])*2.5)/(va1['NIR_band']+6*va1['Red_band']+7.5*va1['Blue_band']+1)\n",
    "va1['evi_peak'] = ((va1['NIR_band_peak']-va1['Red_band_peak'])*2.5)/(va1['NIR_band_peak']+6*va1['Red_band_peak']+\\\n",
    "                                                                     7.5*va1['Blue_band_peak']+1)\n",
    "# va1['evi_MarMay'] = ((va1['NIR_band_MarMay']-va1['Red_band_MarMay'])*2.5)/(va1['NIR_band_MarMay']+6*va1['Red_band_MarMay']+\\\n",
    "#                                                                            7.5*va1['Blue_band_MarMay']+1)\n",
    "va1['evi_year'] = ((va1['NIR_band_year']-va1['Red_band_year'])*2.5)/(va1['NIR_band_year']+6*va1['Red_band_year']+\\\n",
    "                                                                     7.5*va1['Blue_band_year']+1)\n",
    "\n",
    "\n",
    "# va1 = va1.merge(va_flooding, on=['Latitude', 'Longitude', 'Year'], how='inner')\n",
    "\n",
    "va1['Plant_Biomass'] = va1['liveMass']\n",
    "va1['Plant_Biomass']"
   ]
  },
  {
   "cell_type": "code",
   "execution_count": 20,
   "id": "eb8fc0f0",
   "metadata": {},
   "outputs": [
    {
     "data": {
      "text/html": [
       "\n",
       "            <style>\n",
       "                .geemap-dark {\n",
       "                    --jp-widgets-color: white;\n",
       "                    --jp-widgets-label-color: white;\n",
       "                    --jp-ui-font-color1: white;\n",
       "                    --jp-layout-color2: #454545;\n",
       "                    background-color: #383838;\n",
       "                }\n",
       "\n",
       "                .geemap-dark .jupyter-button {\n",
       "                    --jp-layout-color3: #383838;\n",
       "                }\n",
       "\n",
       "                .geemap-colab {\n",
       "                    background-color: var(--colab-primary-surface-color, white);\n",
       "                }\n",
       "\n",
       "                .geemap-colab .jupyter-button {\n",
       "                    --jp-layout-color3: var(--colab-primary-surface-color, white);\n",
       "                }\n",
       "            </style>\n",
       "            "
      ],
      "text/plain": [
       "<IPython.core.display.HTML object>"
      ]
     },
     "metadata": {},
     "output_type": "display_data"
    },
    {
     "data": {
      "text/plain": [
       "{'fit_time': array([0.72685289, 0.7131319 , 0.69325209, 0.70056677, 0.70203471,\n",
       "        0.73458052, 0.72600293, 0.76181388, 0.75275159, 0.73743677]),\n",
       " 'score_time': array([0.01019359, 0.01083541, 0.00899744, 0.01012921, 0.01664257,\n",
       "        0.01799536, 0.01198936, 0.01336884, 0.01097059, 0.01798773]),\n",
       " 'test_r2': array([ 2.23700721e-01,  1.70100987e-01,  1.91547120e-02,  3.36216088e-01,\n",
       "         3.57728968e-01,  4.11293198e-01, -1.90837265e-04,  2.25910088e-01,\n",
       "         1.61589777e-01,  3.40354670e-01]),\n",
       " 'test_neg_root_mean_squared_error': array([-243.02936588, -326.01608017, -170.72947888, -238.18378987,\n",
       "        -225.59655595, -177.90995674, -262.00701406, -292.46208208,\n",
       "        -237.24796151, -267.17675362])}"
      ]
     },
     "execution_count": 20,
     "metadata": {},
     "output_type": "execute_result"
    }
   ],
   "source": [
    "va_predictors = va1[\n",
    "    [\n",
    "        'Elevation', \n",
    "        'nd_swir2_nir_peak',\n",
    "        'nd_swir2_nir', \n",
    "#         'Percent_flooding',\n",
    "        'dayl_Max', \n",
    "        'dayl_Min',\n",
    "        'srad_peak', \n",
    "        'NIR_band_year',\n",
    "        'flats',\n",
    "        'wdrvi5_peak', \n",
    "        'ndvi_peak', \n",
    "#         'dayl_daymMarMay', \n",
    "        'swe_rolling',\n",
    "#         'nd_g_b_MarMay',\n",
    "        'savi', \n",
    "        'Red_band_year',\n",
    "        'nd_swir2_nir_year', \n",
    "        'SWIR1_band_year',\n",
    "        'nd_g_b',\n",
    "        'Blue_band'\n",
    "    ]\n",
    "]\n",
    "\n",
    "va_targets = va1['Plant_Biomass'] \n",
    "\n",
    "X, y = va_predictors, va_targets\n",
    "n_splits = 10\n",
    "kf = KFold(n_splits=n_splits, shuffle=True)\n",
    "\n",
    "model = pipe\n",
    "scoring=('r2', 'neg_root_mean_squared_error')\n",
    "\n",
    "cv_results = cross_validate(model, X, y, cv=kf, scoring=scoring, return_train_score=False)\n",
    "cv_results"
   ]
  },
  {
   "cell_type": "code",
   "execution_count": 21,
   "id": "8e09490c",
   "metadata": {},
   "outputs": [
    {
     "data": {
      "text/html": [
       "\n",
       "            <style>\n",
       "                .geemap-dark {\n",
       "                    --jp-widgets-color: white;\n",
       "                    --jp-widgets-label-color: white;\n",
       "                    --jp-ui-font-color1: white;\n",
       "                    --jp-layout-color2: #454545;\n",
       "                    background-color: #383838;\n",
       "                }\n",
       "\n",
       "                .geemap-dark .jupyter-button {\n",
       "                    --jp-layout-color3: #383838;\n",
       "                }\n",
       "\n",
       "                .geemap-colab {\n",
       "                    background-color: var(--colab-primary-surface-color, white);\n",
       "                }\n",
       "\n",
       "                .geemap-colab .jupyter-button {\n",
       "                    --jp-layout-color3: var(--colab-primary-surface-color, white);\n",
       "                }\n",
       "            </style>\n",
       "            "
      ],
      "text/plain": [
       "<IPython.core.display.HTML object>"
      ]
     },
     "metadata": {},
     "output_type": "display_data"
    },
    {
     "ename": "ValueError",
     "evalue": "The feature names should match those that were passed during fit.\nFeature names seen at fit time, yet now missing:\n- Percent_flooding\n- dayl_daymMarMay\n- nd_g_b_MarMay\n",
     "output_type": "error",
     "traceback": [
      "\u001b[1;31m---------------------------------------------------------------------------\u001b[0m",
      "\u001b[1;31mValueError\u001b[0m                                Traceback (most recent call last)",
      "Cell \u001b[1;32mIn[21], line 1\u001b[0m\n\u001b[1;32m----> 1\u001b[0m va_pred \u001b[38;5;241m=\u001b[39m \u001b[43mpipe\u001b[49m\u001b[38;5;241;43m.\u001b[39;49m\u001b[43mpredict\u001b[49m\u001b[43m(\u001b[49m\u001b[43mva_predictors\u001b[49m\u001b[43m)\u001b[49m\n\u001b[0;32m      3\u001b[0m plt\u001b[38;5;241m.\u001b[39mscatter(va_pred, va_targets, color \u001b[38;5;241m=\u001b[39m \u001b[38;5;124m'\u001b[39m\u001b[38;5;124mblack\u001b[39m\u001b[38;5;124m'\u001b[39m) \u001b[38;5;66;03m##label axes - x,y in order?\u001b[39;00m\n\u001b[0;32m      4\u001b[0m \u001b[38;5;66;03m# plt.plot(X_val, regressor.predict(X_val), color = 'red')\u001b[39;00m\n",
      "File \u001b[1;32mC:\\ProgramData\\Anaconda3\\envs\\geeml\\lib\\site-packages\\sklearn\\pipeline.py:600\u001b[0m, in \u001b[0;36mPipeline.predict\u001b[1;34m(self, X, **params)\u001b[0m\n\u001b[0;32m    598\u001b[0m \u001b[38;5;28;01mif\u001b[39;00m \u001b[38;5;129;01mnot\u001b[39;00m _routing_enabled():\n\u001b[0;32m    599\u001b[0m     \u001b[38;5;28;01mfor\u001b[39;00m _, name, transform \u001b[38;5;129;01min\u001b[39;00m \u001b[38;5;28mself\u001b[39m\u001b[38;5;241m.\u001b[39m_iter(with_final\u001b[38;5;241m=\u001b[39m\u001b[38;5;28;01mFalse\u001b[39;00m):\n\u001b[1;32m--> 600\u001b[0m         Xt \u001b[38;5;241m=\u001b[39m \u001b[43mtransform\u001b[49m\u001b[38;5;241;43m.\u001b[39;49m\u001b[43mtransform\u001b[49m\u001b[43m(\u001b[49m\u001b[43mXt\u001b[49m\u001b[43m)\u001b[49m\n\u001b[0;32m    601\u001b[0m     \u001b[38;5;28;01mreturn\u001b[39;00m \u001b[38;5;28mself\u001b[39m\u001b[38;5;241m.\u001b[39msteps[\u001b[38;5;241m-\u001b[39m\u001b[38;5;241m1\u001b[39m][\u001b[38;5;241m1\u001b[39m]\u001b[38;5;241m.\u001b[39mpredict(Xt, \u001b[38;5;241m*\u001b[39m\u001b[38;5;241m*\u001b[39mparams)\n\u001b[0;32m    603\u001b[0m \u001b[38;5;66;03m# metadata routing enabled\u001b[39;00m\n",
      "File \u001b[1;32mC:\\ProgramData\\Anaconda3\\envs\\geeml\\lib\\site-packages\\sklearn\\utils\\_set_output.py:316\u001b[0m, in \u001b[0;36m_wrap_method_output.<locals>.wrapped\u001b[1;34m(self, X, *args, **kwargs)\u001b[0m\n\u001b[0;32m    314\u001b[0m \u001b[38;5;129m@wraps\u001b[39m(f)\n\u001b[0;32m    315\u001b[0m \u001b[38;5;28;01mdef\u001b[39;00m \u001b[38;5;21mwrapped\u001b[39m(\u001b[38;5;28mself\u001b[39m, X, \u001b[38;5;241m*\u001b[39margs, \u001b[38;5;241m*\u001b[39m\u001b[38;5;241m*\u001b[39mkwargs):\n\u001b[1;32m--> 316\u001b[0m     data_to_wrap \u001b[38;5;241m=\u001b[39m f(\u001b[38;5;28mself\u001b[39m, X, \u001b[38;5;241m*\u001b[39margs, \u001b[38;5;241m*\u001b[39m\u001b[38;5;241m*\u001b[39mkwargs)\n\u001b[0;32m    317\u001b[0m     \u001b[38;5;28;01mif\u001b[39;00m \u001b[38;5;28misinstance\u001b[39m(data_to_wrap, \u001b[38;5;28mtuple\u001b[39m):\n\u001b[0;32m    318\u001b[0m         \u001b[38;5;66;03m# only wrap the first output for cross decomposition\u001b[39;00m\n\u001b[0;32m    319\u001b[0m         return_tuple \u001b[38;5;241m=\u001b[39m (\n\u001b[0;32m    320\u001b[0m             _wrap_data_with_container(method, data_to_wrap[\u001b[38;5;241m0\u001b[39m], X, \u001b[38;5;28mself\u001b[39m),\n\u001b[0;32m    321\u001b[0m             \u001b[38;5;241m*\u001b[39mdata_to_wrap[\u001b[38;5;241m1\u001b[39m:],\n\u001b[0;32m    322\u001b[0m         )\n",
      "File \u001b[1;32mC:\\ProgramData\\Anaconda3\\envs\\geeml\\lib\\site-packages\\sklearn\\preprocessing\\_data.py:1045\u001b[0m, in \u001b[0;36mStandardScaler.transform\u001b[1;34m(self, X, copy)\u001b[0m\n\u001b[0;32m   1042\u001b[0m check_is_fitted(\u001b[38;5;28mself\u001b[39m)\n\u001b[0;32m   1044\u001b[0m copy \u001b[38;5;241m=\u001b[39m copy \u001b[38;5;28;01mif\u001b[39;00m copy \u001b[38;5;129;01mis\u001b[39;00m \u001b[38;5;129;01mnot\u001b[39;00m \u001b[38;5;28;01mNone\u001b[39;00m \u001b[38;5;28;01melse\u001b[39;00m \u001b[38;5;28mself\u001b[39m\u001b[38;5;241m.\u001b[39mcopy\n\u001b[1;32m-> 1045\u001b[0m X \u001b[38;5;241m=\u001b[39m \u001b[38;5;28;43mself\u001b[39;49m\u001b[38;5;241;43m.\u001b[39;49m\u001b[43m_validate_data\u001b[49m\u001b[43m(\u001b[49m\n\u001b[0;32m   1046\u001b[0m \u001b[43m    \u001b[49m\u001b[43mX\u001b[49m\u001b[43m,\u001b[49m\n\u001b[0;32m   1047\u001b[0m \u001b[43m    \u001b[49m\u001b[43mreset\u001b[49m\u001b[38;5;241;43m=\u001b[39;49m\u001b[38;5;28;43;01mFalse\u001b[39;49;00m\u001b[43m,\u001b[49m\n\u001b[0;32m   1048\u001b[0m \u001b[43m    \u001b[49m\u001b[43maccept_sparse\u001b[49m\u001b[38;5;241;43m=\u001b[39;49m\u001b[38;5;124;43m\"\u001b[39;49m\u001b[38;5;124;43mcsr\u001b[39;49m\u001b[38;5;124;43m\"\u001b[39;49m\u001b[43m,\u001b[49m\n\u001b[0;32m   1049\u001b[0m \u001b[43m    \u001b[49m\u001b[43mcopy\u001b[49m\u001b[38;5;241;43m=\u001b[39;49m\u001b[43mcopy\u001b[49m\u001b[43m,\u001b[49m\n\u001b[0;32m   1050\u001b[0m \u001b[43m    \u001b[49m\u001b[43mdtype\u001b[49m\u001b[38;5;241;43m=\u001b[39;49m\u001b[43mFLOAT_DTYPES\u001b[49m\u001b[43m,\u001b[49m\n\u001b[0;32m   1051\u001b[0m \u001b[43m    \u001b[49m\u001b[43mforce_writeable\u001b[49m\u001b[38;5;241;43m=\u001b[39;49m\u001b[38;5;28;43;01mTrue\u001b[39;49;00m\u001b[43m,\u001b[49m\n\u001b[0;32m   1052\u001b[0m \u001b[43m    \u001b[49m\u001b[43mforce_all_finite\u001b[49m\u001b[38;5;241;43m=\u001b[39;49m\u001b[38;5;124;43m\"\u001b[39;49m\u001b[38;5;124;43mallow-nan\u001b[39;49m\u001b[38;5;124;43m\"\u001b[39;49m\u001b[43m,\u001b[49m\n\u001b[0;32m   1053\u001b[0m \u001b[43m\u001b[49m\u001b[43m)\u001b[49m\n\u001b[0;32m   1055\u001b[0m \u001b[38;5;28;01mif\u001b[39;00m sparse\u001b[38;5;241m.\u001b[39missparse(X):\n\u001b[0;32m   1056\u001b[0m     \u001b[38;5;28;01mif\u001b[39;00m \u001b[38;5;28mself\u001b[39m\u001b[38;5;241m.\u001b[39mwith_mean:\n",
      "File \u001b[1;32mC:\\ProgramData\\Anaconda3\\envs\\geeml\\lib\\site-packages\\sklearn\\base.py:608\u001b[0m, in \u001b[0;36mBaseEstimator._validate_data\u001b[1;34m(self, X, y, reset, validate_separately, cast_to_ndarray, **check_params)\u001b[0m\n\u001b[0;32m    537\u001b[0m \u001b[38;5;28;01mdef\u001b[39;00m \u001b[38;5;21m_validate_data\u001b[39m(\n\u001b[0;32m    538\u001b[0m     \u001b[38;5;28mself\u001b[39m,\n\u001b[0;32m    539\u001b[0m     X\u001b[38;5;241m=\u001b[39m\u001b[38;5;124m\"\u001b[39m\u001b[38;5;124mno_validation\u001b[39m\u001b[38;5;124m\"\u001b[39m,\n\u001b[1;32m   (...)\u001b[0m\n\u001b[0;32m    544\u001b[0m     \u001b[38;5;241m*\u001b[39m\u001b[38;5;241m*\u001b[39mcheck_params,\n\u001b[0;32m    545\u001b[0m ):\n\u001b[0;32m    546\u001b[0m     \u001b[38;5;124;03m\"\"\"Validate input data and set or check the `n_features_in_` attribute.\u001b[39;00m\n\u001b[0;32m    547\u001b[0m \n\u001b[0;32m    548\u001b[0m \u001b[38;5;124;03m    Parameters\u001b[39;00m\n\u001b[1;32m   (...)\u001b[0m\n\u001b[0;32m    606\u001b[0m \u001b[38;5;124;03m        validated.\u001b[39;00m\n\u001b[0;32m    607\u001b[0m \u001b[38;5;124;03m    \"\"\"\u001b[39;00m\n\u001b[1;32m--> 608\u001b[0m     \u001b[38;5;28;43mself\u001b[39;49m\u001b[38;5;241;43m.\u001b[39;49m\u001b[43m_check_feature_names\u001b[49m\u001b[43m(\u001b[49m\u001b[43mX\u001b[49m\u001b[43m,\u001b[49m\u001b[43m \u001b[49m\u001b[43mreset\u001b[49m\u001b[38;5;241;43m=\u001b[39;49m\u001b[43mreset\u001b[49m\u001b[43m)\u001b[49m\n\u001b[0;32m    610\u001b[0m     \u001b[38;5;28;01mif\u001b[39;00m y \u001b[38;5;129;01mis\u001b[39;00m \u001b[38;5;28;01mNone\u001b[39;00m \u001b[38;5;129;01mand\u001b[39;00m \u001b[38;5;28mself\u001b[39m\u001b[38;5;241m.\u001b[39m_get_tags()[\u001b[38;5;124m\"\u001b[39m\u001b[38;5;124mrequires_y\u001b[39m\u001b[38;5;124m\"\u001b[39m]:\n\u001b[0;32m    611\u001b[0m         \u001b[38;5;28;01mraise\u001b[39;00m \u001b[38;5;167;01mValueError\u001b[39;00m(\n\u001b[0;32m    612\u001b[0m             \u001b[38;5;124mf\u001b[39m\u001b[38;5;124m\"\u001b[39m\u001b[38;5;124mThis \u001b[39m\u001b[38;5;132;01m{\u001b[39;00m\u001b[38;5;28mself\u001b[39m\u001b[38;5;241m.\u001b[39m\u001b[38;5;18m__class__\u001b[39m\u001b[38;5;241m.\u001b[39m\u001b[38;5;18m__name__\u001b[39m\u001b[38;5;132;01m}\u001b[39;00m\u001b[38;5;124m estimator \u001b[39m\u001b[38;5;124m\"\u001b[39m\n\u001b[0;32m    613\u001b[0m             \u001b[38;5;124m\"\u001b[39m\u001b[38;5;124mrequires y to be passed, but the target y is None.\u001b[39m\u001b[38;5;124m\"\u001b[39m\n\u001b[0;32m    614\u001b[0m         )\n",
      "File \u001b[1;32mC:\\ProgramData\\Anaconda3\\envs\\geeml\\lib\\site-packages\\sklearn\\base.py:535\u001b[0m, in \u001b[0;36mBaseEstimator._check_feature_names\u001b[1;34m(self, X, reset)\u001b[0m\n\u001b[0;32m    530\u001b[0m \u001b[38;5;28;01mif\u001b[39;00m \u001b[38;5;129;01mnot\u001b[39;00m missing_names \u001b[38;5;129;01mand\u001b[39;00m \u001b[38;5;129;01mnot\u001b[39;00m unexpected_names:\n\u001b[0;32m    531\u001b[0m     message \u001b[38;5;241m+\u001b[39m\u001b[38;5;241m=\u001b[39m (\n\u001b[0;32m    532\u001b[0m         \u001b[38;5;124m\"\u001b[39m\u001b[38;5;124mFeature names must be in the same order as they were in fit.\u001b[39m\u001b[38;5;130;01m\\n\u001b[39;00m\u001b[38;5;124m\"\u001b[39m\n\u001b[0;32m    533\u001b[0m     )\n\u001b[1;32m--> 535\u001b[0m \u001b[38;5;28;01mraise\u001b[39;00m \u001b[38;5;167;01mValueError\u001b[39;00m(message)\n",
      "\u001b[1;31mValueError\u001b[0m: The feature names should match those that were passed during fit.\nFeature names seen at fit time, yet now missing:\n- Percent_flooding\n- dayl_daymMarMay\n- nd_g_b_MarMay\n"
     ]
    }
   ],
   "source": [
    "va_pred = pipe.predict(va_predictors)\n",
    "\n",
    "plt.scatter(va_pred, va_targets, color = 'black') ##label axes - x,y in order?\n",
    "# plt.plot(X_val, regressor.predict(X_val), color = 'red')\n",
    "plt.xlabel(\"Predicted\")\n",
    "plt.ylabel(\"Observed\")\n",
    "plt.plot([0, 4000], [0, 4000], 'k-')\n",
    "plt.show()"
   ]
  },
  {
   "cell_type": "code",
   "execution_count": null,
   "id": "47ca0c53",
   "metadata": {},
   "outputs": [],
   "source": [
    "va1['Region'] = 'VCR'\n",
    "df1['Region'] = 'GCE'\n",
    "\n",
    "ulti = pd.concat([df1, va1])\n",
    "ulti"
   ]
  },
  {
   "cell_type": "code",
   "execution_count": 26,
   "id": "56381efe",
   "metadata": {},
   "outputs": [
    {
     "data": {
      "text/html": [
       "\n",
       "            <style>\n",
       "                .geemap-dark {\n",
       "                    --jp-widgets-color: white;\n",
       "                    --jp-widgets-label-color: white;\n",
       "                    --jp-ui-font-color1: white;\n",
       "                    --jp-layout-color2: #454545;\n",
       "                    background-color: #383838;\n",
       "                }\n",
       "\n",
       "                .geemap-dark .jupyter-button {\n",
       "                    --jp-layout-color3: #383838;\n",
       "                }\n",
       "\n",
       "                .geemap-colab {\n",
       "                    background-color: var(--colab-primary-surface-color, white);\n",
       "                }\n",
       "\n",
       "                .geemap-colab .jupyter-button {\n",
       "                    --jp-layout-color3: var(--colab-primary-surface-color, white);\n",
       "                }\n",
       "            </style>\n",
       "            "
      ],
      "text/plain": [
       "<IPython.core.display.HTML object>"
      ]
     },
     "metadata": {},
     "output_type": "display_data"
    },
    {
     "name": "stdout",
     "output_type": "stream",
     "text": [
      "Mean Absolute Error: 306.4914566909568\n",
      "Mean Squared Error: 217722.71488380956\n",
      "Root Mean Squared Error: 466.60766697924026\n",
      "The r squared is: 0.5610465859818438\n",
      "0.5610465859818438\n",
      "testing r2 is: 0.5610465859818438\n",
      "training r2 is: 0.8063675156246124\n",
      "NRMSE is: 0.08006715285801068\n",
      "MEAN BASELINE:\n",
      "Mean Absolute Error: 488.7333985523691\n",
      "Root Mean Squared Error: 704.2849097304838\n",
      "NDVI BASELINE: unfinished\n"
     ]
    }
   ],
   "source": [
    "##CAREFUL OF VARIABLE REDUNDANCY\n",
    "xargs=ulti[\n",
    "    [\n",
    "        'Elevation', \n",
    "        'nd_swir2_nir_peak',\n",
    "        'nd_swir2_nir', \n",
    "#         'Percent_flooding',\n",
    "        'dayl_Max', \n",
    "        'dayl_Min',\n",
    "        'srad_peak', \n",
    "        'NIR_band_year',\n",
    "        'flats',\n",
    "        'wdrvi5_peak', \n",
    "        'ndvi_peak', \n",
    "#         'dayl_daymMarMay', \n",
    "        'swe_rolling',\n",
    "#         'nd_g_b_MarMay',\n",
    "        'savi', \n",
    "        'Red_band_year',\n",
    "        'nd_swir2_nir_year', \n",
    "        'SWIR1_band_year',\n",
    "        'nd_g_b',\n",
    "        'Blue_band'\n",
    "    ]\n",
    "]\n",
    "\n",
    "yargs=ulti['Plant_Biomass'] \n",
    "\n",
    "size_x = 0.2\n",
    "seed = 3\n",
    "xargs_train, xargs_test, yargs_train, yargs_test = train_test_split(xargs, yargs, test_size=size_x, random_state = seed) \n",
    "## 80% training and 20% test\n",
    "\n",
    "pipe2 = Pipeline([('scaler', StandardScaler()), ('forest', RandomForestRegressor(n_estimators=200, \n",
    "                                                                                min_samples_split=10, \n",
    "                                                                                min_samples_leaf=2,\n",
    "                                                                                max_depth=30, random_state=seed))])\n",
    "pipe2.fit(xargs_train, yargs_train)\n",
    "y_pred=pipe2.predict(xargs_test)\n",
    "print('Mean Absolute Error:', metrics.mean_absolute_error(yargs_test, y_pred))\n",
    "print('Mean Squared Error:', metrics.mean_squared_error(yargs_test, y_pred))\n",
    "print('Root Mean Squared Error:', np.sqrt(metrics.mean_squared_error(yargs_test, y_pred)))\n",
    "r_square = metrics.r2_score(yargs_test, y_pred)\n",
    "print(\"The r squared is: \" + str(r_square))\n",
    "print(r_square)\n",
    "print('testing r2 is: ' + str(pipe2.score(xargs_test, yargs_test)))\n",
    "print('training r2 is: ' + str(pipe2.score(xargs_train, yargs_train)))\n",
    "print('NRMSE is: ' + str(np.sqrt(metrics.mean_squared_error(yargs_test, y_pred))/np.ptp(yargs_test)))\n",
    "\n",
    "# Mean\n",
    "print('MEAN BASELINE:')\n",
    "y_pred_mean = [np.mean(yargs_train)] * len(yargs_test)\n",
    "print('Mean Absolute Error:', metrics.mean_absolute_error(yargs_test, y_pred_mean))\n",
    "print('Root Mean Squared Error:', np.sqrt(metrics.mean_squared_error(yargs_test, y_pred_mean)))\n",
    "\n",
    "# NDVI\n",
    "print('NDVI BASELINE: unfinished')\n"
   ]
  },
  {
   "cell_type": "code",
   "execution_count": 27,
   "id": "e6b9d6df",
   "metadata": {},
   "outputs": [
    {
     "data": {
      "text/html": [
       "\n",
       "            <style>\n",
       "                .geemap-dark {\n",
       "                    --jp-widgets-color: white;\n",
       "                    --jp-widgets-label-color: white;\n",
       "                    --jp-ui-font-color1: white;\n",
       "                    --jp-layout-color2: #454545;\n",
       "                    background-color: #383838;\n",
       "                }\n",
       "\n",
       "                .geemap-dark .jupyter-button {\n",
       "                    --jp-layout-color3: #383838;\n",
       "                }\n",
       "\n",
       "                .geemap-colab {\n",
       "                    background-color: var(--colab-primary-surface-color, white);\n",
       "                }\n",
       "\n",
       "                .geemap-colab .jupyter-button {\n",
       "                    --jp-layout-color3: var(--colab-primary-surface-color, white);\n",
       "                }\n",
       "            </style>\n",
       "            "
      ],
      "text/plain": [
       "<IPython.core.display.HTML object>"
      ]
     },
     "metadata": {},
     "output_type": "display_data"
    },
    {
     "data": {
      "image/png": "[encoded data removed]",
      "text/plain": [
       "<Figure size 640x480 with 1 Axes>"
      ]
     },
     "metadata": {},
     "output_type": "display_data"
    },
    {
     "name": "stdout",
     "output_type": "stream",
     "text": [
      "test data correlation coefficient is: 0.7494422721004647\n",
      "train data correlation coefficient is: 0.9042699246833066\n"
     ]
    },
    {
     "data": {
      "image/png": "[encoded data removed]",
      "text/plain": [
       "<Figure size 640x480 with 1 Axes>"
      ]
     },
     "metadata": {},
     "output_type": "display_data"
    }
   ],
   "source": [
    "plt.scatter(y_pred, yargs_test, color = 'black') ##label axes - x,y in order?\n",
    "# plt.plot(X_val, regressor.predict(X_val), color = 'red')\n",
    "plt.xlabel(\"Predicted\")\n",
    "plt.ylabel(\"Observed\")\n",
    "plt.plot([0, 4000], [0, 4000], 'k-')\n",
    "plt.show()\n",
    "\n",
    "print('test data correlation coefficient is: ' + str(np.corrcoef(yargs_test, y_pred)[0, 1]))\n",
    "\n",
    "train_pred = pipe2.predict(xargs_train)\n",
    "plt.scatter(train_pred, yargs_train, color = 'gray')\n",
    "plt.xlabel(\"Predicted\")\n",
    "plt.ylabel(\"Observed\")\n",
    "plt.plot([0, 5000], [0, 5000], 'k-')\n",
    "plt.show\n",
    "\n",
    "print('train data correlation coefficient is: ' + str(np.corrcoef(train_pred, yargs_train)[0, 1]))"
   ]
  },
  {
   "cell_type": "code",
   "execution_count": 29,
   "id": "6b7a7435",
   "metadata": {},
   "outputs": [
    {
     "data": {
      "text/html": [
       "\n",
       "            <style>\n",
       "                .geemap-dark {\n",
       "                    --jp-widgets-color: white;\n",
       "                    --jp-widgets-label-color: white;\n",
       "                    --jp-ui-font-color1: white;\n",
       "                    --jp-layout-color2: #454545;\n",
       "                    background-color: #383838;\n",
       "                }\n",
       "\n",
       "                .geemap-dark .jupyter-button {\n",
       "                    --jp-layout-color3: #383838;\n",
       "                }\n",
       "\n",
       "                .geemap-colab {\n",
       "                    background-color: var(--colab-primary-surface-color, white);\n",
       "                }\n",
       "\n",
       "                .geemap-colab .jupyter-button {\n",
       "                    --jp-layout-color3: var(--colab-primary-surface-color, white);\n",
       "                }\n",
       "            </style>\n",
       "            "
      ],
      "text/plain": [
       "<IPython.core.display.HTML object>"
      ]
     },
     "metadata": {},
     "output_type": "display_data"
    },
    {
     "name": "stdout",
     "output_type": "stream",
     "text": [
      "0.5600788054317811\n",
      "-462.3794312020558\n",
      "NRSME is: -0.07934161227166922\n"
     ]
    }
   ],
   "source": [
    "predictors = xargs\n",
    "\n",
    "targets = ulti['Plant_Biomass'] \n",
    "\n",
    "X, y = predictors, targets\n",
    "n_splits = 10\n",
    "kf = KFold(n_splits=n_splits, shuffle=True)\n",
    "\n",
    "model = pipe2\n",
    "scoring=('r2', 'neg_root_mean_squared_error')\n",
    "\n",
    "cv_results = cross_validate(model, X, y, cv=kf, scoring=scoring, return_train_score=False)\n",
    "\n",
    "x = pd.DataFrame(cv_results)\n",
    "print(x['test_r2'].mean())\n",
    "print(x['test_neg_root_mean_squared_error'].mean())\n",
    "print('NRSME is: ' + str(x['test_neg_root_mean_squared_error'].mean()/np.ptp(yargs_test)))\n"
   ]
  },
  {
   "cell_type": "code",
   "execution_count": 28,
   "id": "2a71ec77",
   "metadata": {},
   "outputs": [
    {
     "data": {
      "text/html": [
       "\n",
       "            <style>\n",
       "                .geemap-dark {\n",
       "                    --jp-widgets-color: white;\n",
       "                    --jp-widgets-label-color: white;\n",
       "                    --jp-ui-font-color1: white;\n",
       "                    --jp-layout-color2: #454545;\n",
       "                    background-color: #383838;\n",
       "                }\n",
       "\n",
       "                .geemap-dark .jupyter-button {\n",
       "                    --jp-layout-color3: #383838;\n",
       "                }\n",
       "\n",
       "                .geemap-colab {\n",
       "                    background-color: var(--colab-primary-surface-color, white);\n",
       "                }\n",
       "\n",
       "                .geemap-colab .jupyter-button {\n",
       "                    --jp-layout-color3: var(--colab-primary-surface-color, white);\n",
       "                }\n",
       "            </style>\n",
       "            "
      ],
      "text/plain": [
       "<IPython.core.display.HTML object>"
      ]
     },
     "metadata": {},
     "output_type": "display_data"
    }
   ],
   "source": [
    "#Fin"
   ]
  }
 ],
 "metadata": {
  "kernelspec": {
   "display_name": "Python [conda env:geeml] *",
   "language": "python",
   "name": "conda-env-geeml-py"
  },
  "language_info": {
   "codemirror_mode": {
    "name": "ipython",
    "version": 3
   },
   "file_extension": ".py",
   "mimetype": "text/x-python",
   "name": "python",
   "nbconvert_exporter": "python",
   "pygments_lexer": "ipython3",
   "version": "3.10.13"
  }
 },
 "nbformat": 4,
 "nbformat_minor": 5
}
