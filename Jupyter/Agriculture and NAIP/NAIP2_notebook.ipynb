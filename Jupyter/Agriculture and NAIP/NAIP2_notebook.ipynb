{
 "cells": [
  {
   "cell_type": "code",
   "execution_count": null,
   "id": "2c12ee2e",
   "metadata": {},
   "outputs": [],
   "source": [
    "import geemap\n",
    "import pandas as pd\n",
    "import numpy as np\n",
    "import pdb\n",
    "from IPython.display import display\n",
    "import ee\n",
    "import os"
   ]
  },
  {
   "cell_type": "code",
   "execution_count": null,
   "id": "d4257fbd",
   "metadata": {},
   "outputs": [],
   "source": [
    "ee.Initialize()"
   ]
  },
  {
   "cell_type": "code",
   "execution_count": null,
   "id": "45980092",
   "metadata": {},
   "outputs": [],
   "source": [
    "# Define the region of interest for Georgia and Iowa\n",
    "\n",
    "georgia = 'F:/US states/georgia.shp'\n",
    "iowa = 'F:/US states/iowa.shp'\n",
    "\n",
    "georgia_region = geemap.shp_to_ee(georgia)\n",
    "iowa_region = geemap.shp_to_ee(iowa)\n",
    "\n",
    "#Shapefiles of BMPS\n",
    "\n",
    "contour_bufferstrips = geemap.shp_to_ee('F:/Iowa BMP/Iowa shapefiles/Contour buffer strips 332.shp')\n",
    "grassed_waterway = geemap.shp_to_ee('F:/Iowa BMP/Iowa shapefiles/Grassed waterway 412.shp')\n",
    "pond_dam = geemap.shp_to_ee('F:/Iowa BMP/Iowa shapefiles/Pond dam 378.shp')\n",
    "stripcropping = geemap.shp_to_ee('F:/Iowa BMP/Iowa shapefiles/Stripcropping 585.shp')\n",
    "terrace = geemap.shp_to_ee('F:/Iowa BMP/Iowa shapefiles/Terrace 600.shp')\n",
    "basin = geemap.shp_to_ee('F:/Iowa BMP/Iowa shapefiles/Water and sediment control basin.shp')\n",
    "\n",
    "# Define the date range for Georgia imagery (most recent)\n",
    "georgia_naip_recent = ee.ImageCollection('USDA/NAIP/DOQQ') \\\n",
    "    .filterBounds(georgia_region) \\\n",
    "    .filterDate('2017-01-01', '2018-12-31')\n",
    "\n",
    "# Define the date range for Iowa imagery (2010)\n",
    "iowa_naip_2010 = ee.ImageCollection('USDA/NAIP/DOQQ') \\\n",
    "    .filterBounds(iowa_region) \\\n",
    "    .filterDate('2010-01-01', '2010-12-31') \\\n",
    "\n",
    "# Select bands for true color visualization\n",
    "georgia_true_color = georgia_naip_recent.select(['N', 'R', 'G'])\n",
    "iowa_true_color = iowa_naip_2010.select(['R', 'G', 'B'])\n",
    "\n",
    "# Visualization parameters\n",
    "trueColorVis = {\n",
    "    'min': 0,\n",
    "    'max': 255,\n",
    "}\n",
    "\n",
    "# Create a map\n",
    "Map = geemap.Map(center=[40, -100], zoom=4)\n",
    "\n",
    "## Add layers to the map\n",
    "# Map.addLayer(georgia_true_color, trueColorVis, 'Georgia True Color (Recent)')\n",
    "# Map.addLayer(iowa_true_color, trueColorVis, 'Iowa True Color (2010)')\n",
    "Map.addLayer(stripcropping)\n",
    "\n",
    "# Display the map\n",
    "# Map"
   ]
  },
  {
   "cell_type": "code",
   "execution_count": null,
   "id": "a2a03439",
   "metadata": {},
   "outputs": [],
   "source": [
    "georgia_naip_recent"
   ]
  },
  {
   "cell_type": "code",
   "execution_count": null,
   "id": "7a6f9185",
   "metadata": {},
   "outputs": [],
   "source": [
    "iowa_naip_2010"
   ]
  },
  {
   "cell_type": "code",
   "execution_count": null,
   "id": "ecee51e4",
   "metadata": {},
   "outputs": [],
   "source": []
  }
 ],
 "metadata": {
  "kernelspec": {
   "display_name": "Python [conda env:gee] *",
   "language": "python",
   "name": "conda-env-gee-py"
  },
  "language_info": {
   "codemirror_mode": {
    "name": "ipython",
    "version": 3
   },
   "file_extension": ".py",
   "mimetype": "text/x-python",
   "name": "python",
   "nbconvert_exporter": "python",
   "pygments_lexer": "ipython3",
   "version": "3.10.13"
  }
 },
 "nbformat": 4,
 "nbformat_minor": 5
}
