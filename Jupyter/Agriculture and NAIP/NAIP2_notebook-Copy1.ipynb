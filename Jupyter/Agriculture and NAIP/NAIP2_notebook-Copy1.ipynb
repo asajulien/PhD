{
 "cells": [
  {
   "cell_type": "code",
   "execution_count": 1,
   "id": "2c12ee2e",
   "metadata": {},
   "outputs": [],
   "source": [
    "import geemap\n",
    "import pandas as pd\n",
    "import numpy as np\n",
    "import pdb\n",
    "from IPython.display import display\n",
    "import ee\n",
    "import os"
   ]
  },
  {
   "cell_type": "code",
   "execution_count": 2,
   "id": "d4257fbd",
   "metadata": {},
   "outputs": [],
   "source": [
    "ee.Initialize()"
   ]
  },
  {
   "cell_type": "code",
   "execution_count": 3,
   "id": "45980092",
   "metadata": {},
   "outputs": [],
   "source": [
    "iowa = geemap.shp_to_ee('F:/US states/iowa.shp')"
   ]
  },
  {
   "cell_type": "code",
   "execution_count": 4,
   "id": "ecee51e4",
   "metadata": {},
   "outputs": [],
   "source": [
    "dem = ee.ImageCollection('USGS/3DEP/1m') \\\n",
    "    .filterBounds(iowa) \\\n",
    "    .mosaic()\n",
    "\n",
    "hillshade_iowa = ee.Terrain.hillshade(dem.select('elevation'))\n",
    "\n",
    "dem_vis = {\n",
    "  'min': 0,\n",
    "  'max': 3000,\n",
    "  'palette': [\n",
    "    '3ae237', 'b5e22e', 'd6e21f', 'fff705', 'ffd611', 'ffb613', 'ff8b13',\n",
    "    'ff6e08', 'ff500d', 'ff0000', 'de0101', 'c21301', '0602ff', '235cb1',\n",
    "    '307ef3', '269db1', '30c8e2', '32d3ef', '3be285', '3ff38f', '86e26f'\n",
    "  ]\n",
    "}"
   ]
  },
  {
   "cell_type": "code",
   "execution_count": 5,
   "id": "34d12c26",
   "metadata": {},
   "outputs": [],
   "source": [
    "iowa_mosaic_2010 = ee.ImageCollection('USDA/NAIP/DOQQ') \\\n",
    "    .filterBounds(iowa) \\\n",
    "    .filterDate('2010-01-01', '2010-12-31') \\\n",
    "    .mosaic() \\\n",
    "    .addBands(dem.select('elevation'))\n",
    "\n",
    "\n",
    "nlcd_iowa = ee.ImageCollection(\"USGS/NLCD_RELEASES/2021_REL/NLCD\") \\\n",
    "    .filterBounds(iowa) \\\n",
    "    .filterDate('2001-01-01', '2021-12-31') \\\n",
    "    .select('landcover') \\\n",
    "    .mosaic() \\\n",
    "    .clip(iowa)\n",
    "\n",
    "buffer_points = geemap.shp_to_ee('F:/Iowa BMP/Iowa clipped shapefiles/buffer_areas/buffer2.shp') #no overlaps\n",
    "\n",
    "# contour_clip = geemap.shp_to_ee('F:/Iowa BMP/Iowa clipped shapefiles/buffer_clips/contour_buffer.shp')\n",
    "# grassed_clip = geemap.shp_to_ee('F:/Iowa BMP/Iowa clipped shapefiles/buffer_clips/grassed_buffer.shp')\n",
    "# dam_clip = geemap.shp_to_ee('F:/Iowa BMP/Iowa clipped shapefiles/buffer_clips/dam_buffer.shp')\n",
    "# strip_clip = geemap.shp_to_ee('F:/Iowa BMP/Iowa clipped shapefiles/buffer_clips/strip_buffer.shp')\n",
    "# terrace_clip = geemap.shp_to_ee('F:/Iowa BMP/Iowa clipped shapefiles/buffer_clips/terrace_buffer.shp')\n",
    "# basin_clip = geemap.shp_to_ee('F:/Iowa BMP/Iowa clipped shapefiles/buffer_clips/basin_buffer.shp')\n",
    "\n",
    "#Switched to bufferclips2 folder - no overlaps, 100 polygons\n",
    "contour_clip = geemap.shp_to_ee('F:/Iowa BMP/Iowa clipped shapefiles/buffer_clips2/contour_buffer.shp')\n",
    "grassed_clip = geemap.shp_to_ee('F:/Iowa BMP/Iowa clipped shapefiles/buffer_clips2/grassed_buffer.shp')\n",
    "dam_clip = geemap.shp_to_ee('F:/Iowa BMP/Iowa clipped shapefiles/buffer_clips2/dam_buffer.shp')\n",
    "strip_clip = geemap.shp_to_ee('F:/Iowa BMP/Iowa clipped shapefiles/buffer_clips2/strip_buffer.shp')\n",
    "terrace_clip = geemap.shp_to_ee('F:/Iowa BMP/Iowa clipped shapefiles/buffer_clips2/terrace_buffer.shp')\n",
    "basin_clip = geemap.shp_to_ee('F:/Iowa BMP/Iowa clipped shapefiles/buffer_clips2/basin_buffer.shp')\n",
    "\n",
    "#Create a mask for BMP clips:\n",
    "\n",
    "def maskInside(image, geometry):\n",
    "    mask = ee.Image.constant(1).clip(geometry).mask().Not()\n",
    "    return image.updateMask(mask)\n",
    "\n",
    "def maskFarmland(image):\n",
    "    mask = image.eq(71).Or(image.eq(81)).Or(image.eq(82))\n",
    "    return image.updateMask(mask)\n",
    "\n",
    "\n",
    "# Combine all feature geometries into a single multipolygon\n",
    "all_features = contour_clip.merge(grassed_clip).merge(dam_clip).merge(strip_clip).merge(terrace_clip).merge(basin_clip)\n",
    "all_multipolygon = all_features.geometry()\n",
    "\n",
    "# Apply the  mask to the NLCD image\n",
    "# nlcd_filtered = maskInside(nlcd_mask, all_multipolygon)\n",
    "\n",
    "nlcd_filtered = maskInside(maskFarmland(nlcd_iowa), all_multipolygon)"
   ]
  },
  {
   "cell_type": "code",
   "execution_count": 6,
   "id": "2f1e1b71",
   "metadata": {},
   "outputs": [
    {
     "data": {
      "application/vnd.jupyter.widget-view+json": {
       "model_id": "06d7c44e44ab4906889807f6d2780b23",
       "version_major": 2,
       "version_minor": 0
      },
      "text/plain": [
       "Map(center=[40.6, -94], controls=(WidgetControl(options=['position', 'transparent_bg'], widget=HBox(children=(…"
      ]
     },
     "execution_count": 6,
     "metadata": {},
     "output_type": "execute_result"
    }
   ],
   "source": [
    "# Create a map\n",
    "Map = geemap.Map(center=[40.6, -94], zoom=10)\n",
    "\n",
    "# Map.addLayer(nlcd_iowa,{},'NLCD')\n",
    "# Map.addLayer(nlcd_mask, {}, 'NLCD Mask')\n",
    "\n",
    "iowa_masked = iowa_mosaic_2010.updateMask(nlcd_filtered)\n",
    "\n",
    "# Map.addLayer(nlcd_filtered, {}, 'Filtered NLCD')\n",
    "Map.addLayer(iowa_masked, {}, 'Masked')\n",
    "\n",
    "Map.addLayer(buffer_points, {}, 'buffer points')\n",
    "\n",
    "# Map.addLayer(dem, dem_vis, 'elevation')\n",
    "# Map.addLayer(hillshade_iowa)\n",
    "\n",
    "Map"
   ]
  },
  {
   "cell_type": "code",
   "execution_count": null,
   "id": "e81b5025",
   "metadata": {},
   "outputs": [],
   "source": []
  },
  {
   "cell_type": "code",
   "execution_count": null,
   "id": "c8d0c52f",
   "metadata": {},
   "outputs": [],
   "source": []
  }
 ],
 "metadata": {
  "kernelspec": {
   "display_name": "Python [conda env:gee] *",
   "language": "python",
   "name": "conda-env-gee-py"
  },
  "language_info": {
   "codemirror_mode": {
    "name": "ipython",
    "version": 3
   },
   "file_extension": ".py",
   "mimetype": "text/x-python",
   "name": "python",
   "nbconvert_exporter": "python",
   "pygments_lexer": "ipython3",
   "version": "3.10.13"
  }
 },
 "nbformat": 4,
 "nbformat_minor": 5
}
