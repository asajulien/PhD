{
 "cells": [
  {
   "cell_type": "code",
   "execution_count": 1,
   "id": "a0208daa",
   "metadata": {},
   "outputs": [],
   "source": [
    "import geemap\n",
    "import pandas as pd\n",
    "import numpy as np\n",
    "import pdb\n",
    "from IPython.display import display\n",
    "import ee\n",
    "import os"
   ]
  },
  {
   "cell_type": "code",
   "execution_count": 2,
   "id": "874d47e1",
   "metadata": {},
   "outputs": [],
   "source": [
    "#Create water mask to identify all basins/ponds/retention features\n",
    "#Start with sentinel 2\n",
    "\n",
    "#Also - USGS hydrographic datasets, find all ponds below a certain size e.g.\n",
    "\n",
    "ee.Initialize()"
   ]
  },
  {
   "cell_type": "code",
   "execution_count": 3,
   "id": "3aa46ade",
   "metadata": {},
   "outputs": [],
   "source": [
    "georgia = geemap.shp_to_ee('F:/US states/georgia.shp')"
   ]
  },
  {
   "cell_type": "code",
   "execution_count": 4,
   "id": "8ef5526c",
   "metadata": {},
   "outputs": [
    {
     "data": {
      "text/plain": [
       "'after january 2022 there was problem on Sentinel 2 process phase for this reason a new collection is now available in \\nwhich they fixed the problem, the collection is Sentinel 2 Harmonized. Unfortunately in this collection the QA60 band, \\nonly for data from january 2022 till now, is still empty because they not released it yet. This is why you find the product \\nalways with 0 (clear) values.\\n\\nA good alternative is using \"Sentinel-2: Cloud Probability\" collection. I employed it in my analysis with a \\nthreshold of around 65-70% and it produced better results than using QA60. – Bruno Rech'"
      ]
     },
     "execution_count": 4,
     "metadata": {},
     "output_type": "execute_result"
    }
   ],
   "source": [
    "'''after january 2022 there was problem on Sentinel 2 process phase for this reason a new collection is now available in \n",
    "which they fixed the problem, the collection is Sentinel 2 Harmonized. Unfortunately in this collection the QA60 band, \n",
    "only for data from january 2022 till now, is still empty because they not released it yet. This is why you find the product \n",
    "always with 0 (clear) values.\n",
    "\n",
    "A good alternative is using \"Sentinel-2: Cloud Probability\" collection. I employed it in my analysis with a \n",
    "threshold of around 65-70% and it produced better results than using QA60. – Bruno Rech'''"
   ]
  },
  {
   "cell_type": "code",
   "execution_count": 5,
   "id": "54558b20",
   "metadata": {},
   "outputs": [],
   "source": [
    "# gaCollectionS2 = ee.ImageCollection('COPERNICUS/S2_SR') \\\n",
    "#     .filterBounds(georgia) \\\n",
    "#     .filter(ee.Filter.calendarRange(2023, 2023,'year')) \\\n",
    "#     .filter(ee.Filter.calendarRange(7, 9,'month')) \\\n",
    "#     .map(mask_clouds)"
   ]
  },
  {
   "cell_type": "code",
   "execution_count": 6,
   "id": "9543e828",
   "metadata": {},
   "outputs": [],
   "source": [
    "aoi = georgia\n",
    "start_date = '2023-06-01'\n",
    "end_date = '2023-09-01'\n",
    "CLOUD_FILTER = 60\n",
    "CLD_PRB_THRESH = 50\n",
    "NIR_DRK_THRESH = 0.15\n",
    "CLD_PRJ_DIST = 1\n",
    "BUFFER = 50\n",
    "\n",
    "def get_s2_sr_cld_col(aoi, start_date, end_date):\n",
    "    # Import and filter S2 SR.\n",
    "    s2_sr_col = (ee.ImageCollection('COPERNICUS/S2_SR')\n",
    "        .filterBounds(aoi)\n",
    "        .filterDate(start_date, end_date)\n",
    "        .filter(ee.Filter.lte('CLOUDY_PIXEL_PERCENTAGE', CLOUD_FILTER)))\n",
    "\n",
    "    # Import and filter s2cloudless.\n",
    "    s2_cloudless_col = (ee.ImageCollection('COPERNICUS/S2_CLOUD_PROBABILITY')\n",
    "        .filterBounds(aoi)\n",
    "        .filterDate(start_date, end_date))\n",
    "\n",
    "    # Join the filtered s2cloudless collection to the SR collection by the 'system:index' property.\n",
    "    return ee.ImageCollection(ee.Join.saveFirst('s2cloudless').apply(**{\n",
    "        'primary': s2_sr_col,\n",
    "        'secondary': s2_cloudless_col,\n",
    "        'condition': ee.Filter.equals(**{\n",
    "            'leftField': 'system:index',\n",
    "            'rightField': 'system:index'\n",
    "        })\n",
    "    }))\n",
    "\n",
    "s2_sr_cld_col_eval = get_s2_sr_cld_col(aoi, start_date, end_date)\n",
    "\n",
    "def add_cloud_bands(img):\n",
    "    # Get s2cloudless image, subset the probability band.\n",
    "    cld_prb = ee.Image(img.get('s2cloudless')).select('probability')\n",
    "\n",
    "    # Condition s2cloudless by the probability threshold value.\n",
    "    is_cloud = cld_prb.gt(CLD_PRB_THRESH).rename('clouds')\n",
    "\n",
    "    # Add the cloud probability layer and cloud mask as image bands.\n",
    "    return img.addBands(ee.Image([cld_prb, is_cloud]))\n",
    "\n",
    "def add_shadow_bands(img):\n",
    "    # Identify water pixels from the SCL band.\n",
    "    not_water = img.select('SCL').neq(6)\n",
    "\n",
    "    # Identify dark NIR pixels that are not water (potential cloud shadow pixels).\n",
    "    SR_BAND_SCALE = 1e4\n",
    "    dark_pixels = img.select('B8').lt(NIR_DRK_THRESH*SR_BAND_SCALE).multiply(not_water).rename('dark_pixels')\n",
    "\n",
    "    # Determine the direction to project cloud shadow from clouds (assumes UTM projection).\n",
    "    shadow_azimuth = ee.Number(90).subtract(ee.Number(img.get('MEAN_SOLAR_AZIMUTH_ANGLE')));\n",
    "\n",
    "    # Project shadows from clouds for the distance specified by the CLD_PRJ_DIST input.\n",
    "    cld_proj = (img.select('clouds').directionalDistanceTransform(shadow_azimuth, CLD_PRJ_DIST*10)\n",
    "        .reproject(**{'crs': img.select(0).projection(), 'scale': 100})\n",
    "        .select('distance')\n",
    "        .mask()\n",
    "        .rename('cloud_transform'))\n",
    "\n",
    "    # Identify the intersection of dark pixels with cloud shadow projection.\n",
    "    shadows = cld_proj.multiply(dark_pixels).rename('shadows')\n",
    "\n",
    "    # Add dark pixels, cloud projection, and identified shadows as image bands.\n",
    "    return img.addBands(ee.Image([dark_pixels, cld_proj, shadows]))\n",
    "\n",
    "def add_cld_shdw_mask(img):\n",
    "    # Add cloud component bands.\n",
    "    img_cloud = add_cloud_bands(img)\n",
    "\n",
    "    # Add cloud shadow component bands.\n",
    "    img_cloud_shadow = add_shadow_bands(img_cloud)\n",
    "\n",
    "    # Combine cloud and shadow mask, set cloud and shadow as value 1, else 0.\n",
    "    is_cld_shdw = img_cloud_shadow.select('clouds').add(img_cloud_shadow.select('shadows')).gt(0)\n",
    "\n",
    "    # Remove small cloud-shadow patches and dilate remaining pixels by BUFFER input.\n",
    "    # 20 m scale is for speed, and assumes clouds don't require 10 m precision.\n",
    "    is_cld_shdw = (is_cld_shdw.focalMin(2).focalMax(BUFFER*2/20)\n",
    "        .reproject(**{'crs': img.select([0]).projection(), 'scale': 20})\n",
    "        .rename('cloudmask'))\n",
    "\n",
    "    # Add the final cloud-shadow mask to the image.\n",
    "#     return img.addBands(is_cld_shdw)\n",
    "\n",
    "    return img_cloud_shadow.addBands(is_cld_shdw)\n"
   ]
  },
  {
   "cell_type": "code",
   "execution_count": 7,
   "id": "e17b3eca",
   "metadata": {},
   "outputs": [],
   "source": [
    "def cloudmask(image):\n",
    "    # Select bands\n",
    "    clouds = image.select('clouds')\n",
    "    shadows = image.select('shadows')\n",
    "    dark_pixels = image.select('dark_pixels')\n",
    "\n",
    "    # Create a combined mask where any of the bands equal 1\n",
    "    combined_mask = clouds.eq(1).Or(shadows.eq(1)).Or(dark_pixels.eq(1))\n",
    "\n",
    "    # Invert the mask (setting 1s to 0s and vice versa)\n",
    "    inverted_mask = combined_mask.Not()\n",
    "\n",
    "    # Apply the inverted mask to the image\n",
    "    return image.updateMask(inverted_mask)"
   ]
  },
  {
   "cell_type": "code",
   "execution_count": 8,
   "id": "49b6601a",
   "metadata": {},
   "outputs": [],
   "source": [
    "ga_mosaic = s2_sr_cld_col_eval.map(add_cld_shdw_mask).map(cloudmask).mosaic()\n",
    "\n",
    "##DOES NOT REMOVE CLOUD SHADOWS SATISFACTORILY"
   ]
  },
  {
   "cell_type": "code",
   "execution_count": 9,
   "id": "606ee15c",
   "metadata": {},
   "outputs": [],
   "source": [
    "Map = geemap.Map(center=[31.539096,-81.422318], zoom=8)\n",
    "\n",
    "vis_param = {'min': 0, \n",
    "             'max': 3000, \n",
    "             'bands': ['B8', 'B4', 'B3'], \n",
    "             'gamma': 1.5}\n",
    "\n",
    "# Map.addLayer(ga_mosaic, vis_param, 'GA sentinel 2')\n",
    "\n",
    "# Map"
   ]
  },
  {
   "cell_type": "code",
   "execution_count": 10,
   "id": "f2e55983",
   "metadata": {},
   "outputs": [
    {
     "data": {
      "application/vnd.jupyter.widget-view+json": {
       "model_id": "71158f08e5ae4774bd35aaed8c51305d",
       "version_major": 2,
       "version_minor": 0
      },
      "text/plain": [
       "Map(center=[31.539096, -81.422318], controls=(WidgetControl(options=['position', 'transparent_bg'], widget=HBo…"
      ]
     },
     "execution_count": 10,
     "metadata": {},
     "output_type": "execute_result"
    }
   ],
   "source": [
    "ndwi_image = ga_mosaic.normalizedDifference([\"B3\", \"B5\"])\n",
    "ndwi_threshold = 0\n",
    "water_image = ndwi_image.gt(ndwi_threshold).selfMask()\n",
    "\n",
    "Map.addLayer(water_image, {\"palette\": \"blue\"}, \"Water image\")\n",
    "Map.layers\n",
    "water_layer = Map.layers[-1]\n",
    "water_layer.interact(opacity=(0.0, 1.0, 0.1))\n",
    "\n",
    "Map"
   ]
  },
  {
   "cell_type": "code",
   "execution_count": null,
   "id": "412d8912",
   "metadata": {},
   "outputs": [],
   "source": [
    "'''\n",
    "Use USGS national hydrography dataset from the national map. Data seems better than sentinel masking.\n",
    "\n",
    "In Iowa, calculate the spatial correlation between reservoirs/lakes and the other BMPs listed in the dataset\n",
    "\n",
    "See how it looks in Georgia\n",
    "'''"
   ]
  }
 ],
 "metadata": {
  "kernelspec": {
   "display_name": "Python [conda env:gee] *",
   "language": "python",
   "name": "conda-env-gee-py"
  },
  "language_info": {
   "codemirror_mode": {
    "name": "ipython",
    "version": 3
   },
   "file_extension": ".py",
   "mimetype": "text/x-python",
   "name": "python",
   "nbconvert_exporter": "python",
   "pygments_lexer": "ipython3",
   "version": "3.10.13"
  }
 },
 "nbformat": 4,
 "nbformat_minor": 5
}
