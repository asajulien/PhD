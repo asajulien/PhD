{
 "cells": [
  {
   "cell_type": "code",
   "execution_count": 3,
   "id": "a0208daa",
   "metadata": {},
   "outputs": [],
   "source": [
    "import geemap\n",
    "import pandas as pd\n",
    "import numpy as np\n",
    "import pdb\n",
    "from IPython.display import display\n",
    "import ee\n",
    "import os"
   ]
  },
  {
   "cell_type": "code",
   "execution_count": 15,
   "id": "874d47e1",
   "metadata": {},
   "outputs": [],
   "source": [
    "#Create water mask to identify all basins/ponds/retention features\n",
    "#Start with sentinel 2\n",
    "\n",
    "#Also - USGS hydrographic datasets, find all ponds below a certain size e.g.\n",
    "\n",
    "ee.Initialize()"
   ]
  },
  {
   "cell_type": "code",
   "execution_count": 23,
   "id": "3aa46ade",
   "metadata": {},
   "outputs": [],
   "source": [
    "georgia = geemap.shp_to_ee('F:/US states/georgia.shp')"
   ]
  },
  {
   "cell_type": "code",
   "execution_count": 24,
   "id": "6dedaf7a",
   "metadata": {},
   "outputs": [],
   "source": [
    "# Function to mask clouds using Sentinel-2 QA60 band\n",
    "##NOTE: CHECK TO MAKE SURE THIS WORKS - from chat gpt lol\n",
    "def mask_clouds(image):\n",
    "    # Select the QA60 band\n",
    "    QA60 = image.select(['QA60'])\n",
    "    # Create a cloud mask by bitwise AND-ing with 1 shifted left by 10 bits\n",
    "    cloud_mask = QA60.bitwiseAnd(1 << 10).eq(0)\n",
    "    # Update the image mask and return it\n",
    "    return image.updateMask(cloud_mask)"
   ]
  },
  {
   "cell_type": "code",
   "execution_count": 30,
   "id": "54558b20",
   "metadata": {},
   "outputs": [],
   "source": [
    "gaCollectionS2 = ee.ImageCollection('COPERNICUS/S2_SR') \\\n",
    "    .filterBounds(georgia) \\\n",
    "    .filter(ee.Filter.calendarRange(2023, 2024,'year')) \\\n",
    "    .map(mask_clouds)"
   ]
  },
  {
   "cell_type": "code",
   "execution_count": 31,
   "id": "606ee15c",
   "metadata": {},
   "outputs": [
    {
     "name": "stderr",
     "output_type": "stream",
     "text": [
      "C:\\ProgramData\\Anaconda3\\envs\\gee\\lib\\site-packages\\eerepr\\repr.py:57: UserWarning: Getting info failed with: 'Error in map(ID=20240208T162431_20240208T163125_T16RFV):\n",
      "Image.select: Band pattern 'QA60' did not match any bands. Available bands: [B1, B2, B3, B4, B5, B6, B7, B8, B8A, B9, B11, B12, AOT, WVP, SCL, TCI_R, TCI_G, TCI_B, MSK_CLDPRB, MSK_SNWPRB, MSK_CLASSI_OPAQUE, MSK_CLASSI_CIRRUS, MSK_CLASSI_SNOW_ICE]'. Falling back to string repr.\n",
      "  warn(f\"Getting info failed with: '{e}'. Falling back to string repr.\")\n"
     ]
    },
    {
     "data": {
      "text/html": [
       "<pre>&lt;ee.imagecollection.ImageCollection object at 0x0000022D1AA46B00&gt;</pre>"
      ],
      "text/plain": [
       "<ee.imagecollection.ImageCollection at 0x22d1aa46b00>"
      ]
     },
     "execution_count": 31,
     "metadata": {},
     "output_type": "execute_result"
    }
   ],
   "source": [
    "gaCollectionS2"
   ]
  },
  {
   "cell_type": "code",
   "execution_count": null,
   "id": "7c26c927",
   "metadata": {},
   "outputs": [],
   "source": []
  }
 ],
 "metadata": {
  "kernelspec": {
   "display_name": "Python [conda env:gee] *",
   "language": "python",
   "name": "conda-env-gee-py"
  },
  "language_info": {
   "codemirror_mode": {
    "name": "ipython",
    "version": 3
   },
   "file_extension": ".py",
   "mimetype": "text/x-python",
   "name": "python",
   "nbconvert_exporter": "python",
   "pygments_lexer": "ipython3",
   "version": "3.10.13"
  }
 },
 "nbformat": 4,
 "nbformat_minor": 5
}
