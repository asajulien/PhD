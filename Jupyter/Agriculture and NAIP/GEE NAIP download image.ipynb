{
 "cells": [
  {
   "cell_type": "code",
   "execution_count": 1,
   "id": "2a164653",
   "metadata": {},
   "outputs": [],
   "source": [
    "import geemap\n",
    "import pandas as pd\n",
    "import numpy as np\n",
    "import pdb\n",
    "from IPython.display import display\n",
    "import ee\n",
    "import os"
   ]
  },
  {
   "cell_type": "code",
   "execution_count": 2,
   "id": "6fa080a3",
   "metadata": {},
   "outputs": [],
   "source": [
    "ee.Initialize()"
   ]
  },
  {
   "cell_type": "code",
   "execution_count": 3,
   "id": "a469ed0e",
   "metadata": {},
   "outputs": [],
   "source": [
    "# Define the region of interest for Georgia and Iowa\n",
    "iowa = geemap.shp_to_ee('F:/US states/iowa.shp')\n",
    "georgia = geemap.shp_to_ee('F:/US states/georgia.shp')"
   ]
  },
  {
   "cell_type": "code",
   "execution_count": 4,
   "id": "784805be",
   "metadata": {},
   "outputs": [],
   "source": [
    "dem = ee.ImageCollection('USGS/3DEP/1m') \\\n",
    "    .filterBounds(iowa) \\\n",
    "    .mosaic()\n",
    "\n",
    "dem_ga = ee.ImageCollection('USGS/3DEP/1m') \\\n",
    "    .filterBounds(georgia) \\\n",
    "    .mosaic()"
   ]
  },
  {
   "cell_type": "code",
   "execution_count": 7,
   "id": "39044342",
   "metadata": {},
   "outputs": [],
   "source": [
    "#Add date to image\n",
    "def addDate(image):\n",
    "    img_date = ee.Date(image.date())\n",
    "    img_date = ee.Number.parse(img_date.format('YYYYMMdd'))\n",
    "    return image.addBands(ee.Image(img_date).rename('imagedate').toInt())\n",
    "\n",
    "def addNDVI(image):\n",
    "    ndvi = ee.Image(0).expression(\n",
    "        '((NIR-RED)/(NIR+RED))', {\n",
    "            'NIR': image.select('N'),\n",
    "            'RED': image.select('R')\n",
    "        })\n",
    "    \n",
    "    return image.addBands(ndvi.rename('ndvi'))\n",
    "\n",
    "def addNDWI(image):\n",
    "    ndwi = ee.Image(0).expression(\n",
    "        '((GREEN-NIR)/(GREEN+NIR))', {\n",
    "            'NIR': image.select('N'),\n",
    "            'GREEN': image.select('G')\n",
    "        })\n",
    "    \n",
    "    return image.addBands(ndwi.rename('ndwi'))\n",
    "\n",
    "iowa_mosaic_2010 = ee.ImageCollection('USDA/NAIP/DOQQ') \\\n",
    "    .filterBounds(iowa) \\\n",
    "    .filterDate('2010-01-01', '2010-12-31') \\\n",
    "    .map(addDate) \\\n",
    "    .mosaic() \\\n",
    "    .addBands(dem.select('elevation'))\n",
    "\n",
    "iowa_naip = ee.ImageCollection('USDA/NAIP/DOQQ') \\\n",
    "    .filterBounds(iowa) \\\n",
    "    .filterDate('2010-01-01', '2010-12-31') \n",
    "\n",
    "georgia_naip = ee.ImageCollection('USDA/NAIP/DOQQ') \\\n",
    "    .filterBounds(georgia) \\\n",
    "    .filterDate('2017-01-01', '2018-12-31')\n",
    "\n",
    "ga_im = addNDWI(addNDVI(ee.Image('USDA/NAIP/DOQQ/m_3108101_se_17_060_20220130'))).addBands(dem_ga.select('elevation'))\n",
    "ia_im = addNDWI(addNDVI(ee.Image('USDA/NAIP/DOQQ/m_4109451_nw_15_1_20100811'))).addBands(dem.select('elevation'))"
   ]
  },
  {
   "cell_type": "code",
   "execution_count": 8,
   "id": "950c0ebc",
   "metadata": {},
   "outputs": [
    {
     "data": {
      "text/html": [
       "<div><style>:root {\n",
       "  --font-color-primary: var(--jp-content-font-color0, rgba(0, 0, 0, 1));\n",
       "  --font-color-secondary: var(--jp-content-font-color2, rgba(0, 0, 0, 0.6));\n",
       "  --font-color-accent: rgba(123, 31, 162, 1);\n",
       "  --border-color: var(--jp-border-color2, #e0e0e0);\n",
       "  --background-color: var(--jp-layout-color0, white);\n",
       "  --background-color-row-even: var(--jp-layout-color1, white);\n",
       "  --background-color-row-odd: var(--jp-layout-color2, #eeeeee);\n",
       "}\n",
       "\n",
       "html[theme=\"dark\"],\n",
       "body[data-theme=\"dark\"],\n",
       "body.vscode-dark {\n",
       "  --font-color-primary: rgba(255, 255, 255, 1);\n",
       "  --font-color-secondary: rgba(255, 255, 255, 0.6);\n",
       "  --font-color-accent: rgb(173, 132, 190);\n",
       "  --border-color: #2e2e2e;\n",
       "  --background-color: #111111;\n",
       "  --background-color-row-even: #111111;\n",
       "  --background-color-row-odd: #313131;\n",
       "}\n",
       "\n",
       ".ee {\n",
       "  padding: 1em;\n",
       "  line-height: 1.5em;\n",
       "  min-width: 300px;\n",
       "  max-width: 1200px;\n",
       "  overflow-y: scroll;\n",
       "  max-height: 600px;\n",
       "  border: 1px solid var(--border-color);\n",
       "  font-family: monospace;\n",
       "}\n",
       "\n",
       ".ee li {\n",
       "  list-style-type: none;\n",
       "}\n",
       "\n",
       ".ee ul {\n",
       "  padding-left: 1.5em !important;\n",
       "  margin: 0;\n",
       "}\n",
       "\n",
       ".ee > ul {\n",
       "  padding-left: 0 !important;\n",
       "}\n",
       "\n",
       ".ee-open,\n",
       ".ee-shut {\n",
       "  color: var(--font-color-secondary);\n",
       "  cursor: pointer;\n",
       "  margin: 0;\n",
       "}\n",
       "\n",
       ".ee-open:hover,\n",
       ".ee-shut:hover {\n",
       "  color: var(--font-color-primary);\n",
       "}\n",
       "\n",
       ".ee-k {\n",
       "  color: var(--font-color-accent);\n",
       "  margin-right: 6px;\n",
       "}\n",
       "\n",
       ".ee-v {\n",
       "  color: var(--font-color-primary);\n",
       "}\n",
       "\n",
       ".ee-toggle {\n",
       "  display: none;\n",
       "}\n",
       "\n",
       ".ee-shut + ul {\n",
       "  display: none;\n",
       "}\n",
       "\n",
       ".ee-open + ul {\n",
       "  display: block;\n",
       "}\n",
       "\n",
       ".ee-shut::before {\n",
       "  display: inline-block;\n",
       "  content: \"▼\";\n",
       "  margin-right: 6px;\n",
       "  transform: rotate(-90deg);\n",
       "  transition: transform 0.2s;\n",
       "}\n",
       "\n",
       ".ee-open::before {\n",
       "  transform: rotate(0deg);\n",
       "  display: inline-block;\n",
       "  content: \"▼\";\n",
       "  margin-right: 6px;\n",
       "  transition: transform 0.2s;\n",
       "}\n",
       "</style><div class='ee'><ul><li><label class='ee-shut'>Image USDA/NAIP/DOQQ/m_4109451_nw_15_1_20100811 (7 bands)<input type='checkbox' class='ee-toggle'></label><ul><li><span class='ee-k'>type:</span><span class='ee-v'>Image</span></li><li><span class='ee-k'>id:</span><span class='ee-v'>USDA/NAIP/DOQQ/m_4109451_nw_15_1_20100811</span></li><li><span class='ee-k'>version:</span><span class='ee-v'>1494277753335000.0</span></li><li><label class='ee-shut'>bands: List (7 elements)<input type='checkbox' class='ee-toggle'></label><ul><li><label class='ee-shut'>0: \"R\", unsigned int8, EPSG:26915, 5997x7663 px<input type='checkbox' class='ee-toggle'></label><ul><li><span class='ee-k'>id:</span><span class='ee-v'>R</span></li><li><span class='ee-k'>crs:</span><span class='ee-v'>EPSG:26915</span></li><li><label class='ee-shut'>crs_transform: [1, 0, 352927, 0, -1, 4568297]<input type='checkbox' class='ee-toggle'></label><ul><li><span class='ee-k'>0:</span><span class='ee-v'>1</span></li><li><span class='ee-k'>1:</span><span class='ee-v'>0</span></li><li><span class='ee-k'>2:</span><span class='ee-v'>352927</span></li><li><span class='ee-k'>3:</span><span class='ee-v'>0</span></li><li><span class='ee-k'>4:</span><span class='ee-v'>-1</span></li><li><span class='ee-k'>5:</span><span class='ee-v'>4568297</span></li></ul></li><li><label class='ee-shut'>data_type: unsigned int8<input type='checkbox' class='ee-toggle'></label><ul><li><span class='ee-k'>type:</span><span class='ee-v'>PixelType</span></li><li><span class='ee-k'>max:</span><span class='ee-v'>255</span></li><li><span class='ee-k'>min:</span><span class='ee-v'>0</span></li><li><span class='ee-k'>precision:</span><span class='ee-v'>int</span></li></ul></li><li><label class='ee-shut'>dimensions: [5997, 7663]<input type='checkbox' class='ee-toggle'></label><ul><li><span class='ee-k'>0:</span><span class='ee-v'>5997</span></li><li><span class='ee-k'>1:</span><span class='ee-v'>7663</span></li></ul></li></ul></li><li><label class='ee-shut'>1: \"G\", unsigned int8, EPSG:26915, 5997x7663 px<input type='checkbox' class='ee-toggle'></label><ul><li><span class='ee-k'>id:</span><span class='ee-v'>G</span></li><li><span class='ee-k'>crs:</span><span class='ee-v'>EPSG:26915</span></li><li><label class='ee-shut'>crs_transform: [1, 0, 352927, 0, -1, 4568297]<input type='checkbox' class='ee-toggle'></label><ul><li><span class='ee-k'>0:</span><span class='ee-v'>1</span></li><li><span class='ee-k'>1:</span><span class='ee-v'>0</span></li><li><span class='ee-k'>2:</span><span class='ee-v'>352927</span></li><li><span class='ee-k'>3:</span><span class='ee-v'>0</span></li><li><span class='ee-k'>4:</span><span class='ee-v'>-1</span></li><li><span class='ee-k'>5:</span><span class='ee-v'>4568297</span></li></ul></li><li><label class='ee-shut'>data_type: unsigned int8<input type='checkbox' class='ee-toggle'></label><ul><li><span class='ee-k'>type:</span><span class='ee-v'>PixelType</span></li><li><span class='ee-k'>max:</span><span class='ee-v'>255</span></li><li><span class='ee-k'>min:</span><span class='ee-v'>0</span></li><li><span class='ee-k'>precision:</span><span class='ee-v'>int</span></li></ul></li><li><label class='ee-shut'>dimensions: [5997, 7663]<input type='checkbox' class='ee-toggle'></label><ul><li><span class='ee-k'>0:</span><span class='ee-v'>5997</span></li><li><span class='ee-k'>1:</span><span class='ee-v'>7663</span></li></ul></li></ul></li><li><label class='ee-shut'>2: \"B\", unsigned int8, EPSG:26915, 5997x7663 px<input type='checkbox' class='ee-toggle'></label><ul><li><span class='ee-k'>id:</span><span class='ee-v'>B</span></li><li><span class='ee-k'>crs:</span><span class='ee-v'>EPSG:26915</span></li><li><label class='ee-shut'>crs_transform: [1, 0, 352927, 0, -1, 4568297]<input type='checkbox' class='ee-toggle'></label><ul><li><span class='ee-k'>0:</span><span class='ee-v'>1</span></li><li><span class='ee-k'>1:</span><span class='ee-v'>0</span></li><li><span class='ee-k'>2:</span><span class='ee-v'>352927</span></li><li><span class='ee-k'>3:</span><span class='ee-v'>0</span></li><li><span class='ee-k'>4:</span><span class='ee-v'>-1</span></li><li><span class='ee-k'>5:</span><span class='ee-v'>4568297</span></li></ul></li><li><label class='ee-shut'>data_type: unsigned int8<input type='checkbox' class='ee-toggle'></label><ul><li><span class='ee-k'>type:</span><span class='ee-v'>PixelType</span></li><li><span class='ee-k'>max:</span><span class='ee-v'>255</span></li><li><span class='ee-k'>min:</span><span class='ee-v'>0</span></li><li><span class='ee-k'>precision:</span><span class='ee-v'>int</span></li></ul></li><li><label class='ee-shut'>dimensions: [5997, 7663]<input type='checkbox' class='ee-toggle'></label><ul><li><span class='ee-k'>0:</span><span class='ee-v'>5997</span></li><li><span class='ee-k'>1:</span><span class='ee-v'>7663</span></li></ul></li></ul></li><li><label class='ee-shut'>3: \"N\", unsigned int8, EPSG:26915, 5997x7663 px<input type='checkbox' class='ee-toggle'></label><ul><li><span class='ee-k'>id:</span><span class='ee-v'>N</span></li><li><span class='ee-k'>crs:</span><span class='ee-v'>EPSG:26915</span></li><li><label class='ee-shut'>crs_transform: [1, 0, 352927, 0, -1, 4568297]<input type='checkbox' class='ee-toggle'></label><ul><li><span class='ee-k'>0:</span><span class='ee-v'>1</span></li><li><span class='ee-k'>1:</span><span class='ee-v'>0</span></li><li><span class='ee-k'>2:</span><span class='ee-v'>352927</span></li><li><span class='ee-k'>3:</span><span class='ee-v'>0</span></li><li><span class='ee-k'>4:</span><span class='ee-v'>-1</span></li><li><span class='ee-k'>5:</span><span class='ee-v'>4568297</span></li></ul></li><li><label class='ee-shut'>data_type: unsigned int8<input type='checkbox' class='ee-toggle'></label><ul><li><span class='ee-k'>type:</span><span class='ee-v'>PixelType</span></li><li><span class='ee-k'>max:</span><span class='ee-v'>255</span></li><li><span class='ee-k'>min:</span><span class='ee-v'>0</span></li><li><span class='ee-k'>precision:</span><span class='ee-v'>int</span></li></ul></li><li><label class='ee-shut'>dimensions: [5997, 7663]<input type='checkbox' class='ee-toggle'></label><ul><li><span class='ee-k'>0:</span><span class='ee-v'>5997</span></li><li><span class='ee-k'>1:</span><span class='ee-v'>7663</span></li></ul></li></ul></li><li><label class='ee-shut'>4: \"ndvi\", float, EPSG:26915, 5997x7663 px<input type='checkbox' class='ee-toggle'></label><ul><li><span class='ee-k'>id:</span><span class='ee-v'>ndvi</span></li><li><span class='ee-k'>crs:</span><span class='ee-v'>EPSG:26915</span></li><li><label class='ee-shut'>crs_transform: [1, 0, 352927, 0, -1, 4568297]<input type='checkbox' class='ee-toggle'></label><ul><li><span class='ee-k'>0:</span><span class='ee-v'>1</span></li><li><span class='ee-k'>1:</span><span class='ee-v'>0</span></li><li><span class='ee-k'>2:</span><span class='ee-v'>352927</span></li><li><span class='ee-k'>3:</span><span class='ee-v'>0</span></li><li><span class='ee-k'>4:</span><span class='ee-v'>-1</span></li><li><span class='ee-k'>5:</span><span class='ee-v'>4568297</span></li></ul></li><li><label class='ee-shut'>data_type: float<input type='checkbox' class='ee-toggle'></label><ul><li><span class='ee-k'>type:</span><span class='ee-v'>PixelType</span></li><li><span class='ee-k'>precision:</span><span class='ee-v'>float</span></li></ul></li><li><label class='ee-shut'>dimensions: [5997, 7663]<input type='checkbox' class='ee-toggle'></label><ul><li><span class='ee-k'>0:</span><span class='ee-v'>5997</span></li><li><span class='ee-k'>1:</span><span class='ee-v'>7663</span></li></ul></li></ul></li><li><label class='ee-shut'>5: \"ndwi\", float, EPSG:26915, 5997x7663 px<input type='checkbox' class='ee-toggle'></label><ul><li><span class='ee-k'>id:</span><span class='ee-v'>ndwi</span></li><li><span class='ee-k'>crs:</span><span class='ee-v'>EPSG:26915</span></li><li><label class='ee-shut'>crs_transform: [1, 0, 352927, 0, -1, 4568297]<input type='checkbox' class='ee-toggle'></label><ul><li><span class='ee-k'>0:</span><span class='ee-v'>1</span></li><li><span class='ee-k'>1:</span><span class='ee-v'>0</span></li><li><span class='ee-k'>2:</span><span class='ee-v'>352927</span></li><li><span class='ee-k'>3:</span><span class='ee-v'>0</span></li><li><span class='ee-k'>4:</span><span class='ee-v'>-1</span></li><li><span class='ee-k'>5:</span><span class='ee-v'>4568297</span></li></ul></li><li><label class='ee-shut'>data_type: float<input type='checkbox' class='ee-toggle'></label><ul><li><span class='ee-k'>type:</span><span class='ee-v'>PixelType</span></li><li><span class='ee-k'>precision:</span><span class='ee-v'>float</span></li></ul></li><li><label class='ee-shut'>dimensions: [5997, 7663]<input type='checkbox' class='ee-toggle'></label><ul><li><span class='ee-k'>0:</span><span class='ee-v'>5997</span></li><li><span class='ee-k'>1:</span><span class='ee-v'>7663</span></li></ul></li></ul></li><li><label class='ee-shut'>6: \"elevation\", float, EPSG:4326<input type='checkbox' class='ee-toggle'></label><ul><li><span class='ee-k'>id:</span><span class='ee-v'>elevation</span></li><li><span class='ee-k'>crs:</span><span class='ee-v'>EPSG:4326</span></li><li><label class='ee-shut'>crs_transform: [1, 0, 0, 0, 1, 0]<input type='checkbox' class='ee-toggle'></label><ul><li><span class='ee-k'>0:</span><span class='ee-v'>1</span></li><li><span class='ee-k'>1:</span><span class='ee-v'>0</span></li><li><span class='ee-k'>2:</span><span class='ee-v'>0</span></li><li><span class='ee-k'>3:</span><span class='ee-v'>0</span></li><li><span class='ee-k'>4:</span><span class='ee-v'>1</span></li><li><span class='ee-k'>5:</span><span class='ee-v'>0</span></li></ul></li><li><label class='ee-shut'>data_type: float<input type='checkbox' class='ee-toggle'></label><ul><li><span class='ee-k'>type:</span><span class='ee-v'>PixelType</span></li><li><span class='ee-k'>precision:</span><span class='ee-v'>float</span></li></ul></li></ul></li></ul></li><li><label class='ee-shut'>properties: Object (5 properties)<input type='checkbox' class='ee-toggle'></label><ul><li><span class='ee-k'>system:asset_size:</span><span class='ee-v'>161800898</span></li><li><label class='ee-shut'>system:footprint: LinearRing (5 vertices)<input type='checkbox' class='ee-toggle'></label><ul><li><span class='ee-k'>type:</span><span class='ee-v'>LinearRing</span></li><li><label class='ee-shut'>coordinates: List (5 elements)<input type='checkbox' class='ee-toggle'></label><ul><li><label class='ee-shut'>0: [-94.75359673328524, 41.253781301529614]<input type='checkbox' class='ee-toggle'></label><ul><li><span class='ee-k'>0:</span><span class='ee-v'>-94.75359673328524</span></li><li><span class='ee-k'>1:</span><span class='ee-v'>41.253781301529614</span></li></ul></li><li><label class='ee-shut'>1: [-94.75359673328524, 41.1837172441723]<input type='checkbox' class='ee-toggle'></label><ul><li><span class='ee-k'>0:</span><span class='ee-v'>-94.75359673328524</span></li><li><span class='ee-k'>1:</span><span class='ee-v'>41.1837172441723</span></li></ul></li><li><label class='ee-shut'>2: [-94.68389201853817, 41.18371727463994]<input type='checkbox' class='ee-toggle'></label><ul><li><span class='ee-k'>0:</span><span class='ee-v'>-94.68389201853817</span></li><li><span class='ee-k'>1:</span><span class='ee-v'>41.18371727463994</span></li></ul></li><li><label class='ee-shut'>3: [-94.68389201853817, 41.25378130308821]<input type='checkbox' class='ee-toggle'></label><ul><li><span class='ee-k'>0:</span><span class='ee-v'>-94.68389201853817</span></li><li><span class='ee-k'>1:</span><span class='ee-v'>41.25378130308821</span></li></ul></li><li><label class='ee-shut'>4: [-94.75359673328524, 41.253781301529614]<input type='checkbox' class='ee-toggle'></label><ul><li><span class='ee-k'>0:</span><span class='ee-v'>-94.75359673328524</span></li><li><span class='ee-k'>1:</span><span class='ee-v'>41.253781301529614</span></li></ul></li></ul></li></ul></li><li><span class='ee-k'>system:index:</span><span class='ee-v'>m_4109451_nw_15_1_20100811</span></li><li><span class='ee-k'>system:time_end:</span><span class='ee-v'>1281571200000</span></li><li><span class='ee-k'>system:time_start:</span><span class='ee-v'>1281484800000</span></li></ul></li></ul></li></ul></div><script>function toggleHeader() {\n",
       "    const parent = this.parentElement;\n",
       "    parent.className = parent.className === \"ee-open\" ? \"ee-shut\" : \"ee-open\";\n",
       "}\n",
       "\n",
       "for (let c of document.getElementsByClassName(\"ee-toggle\")) {\n",
       "    c.onclick = toggleHeader;\n",
       "}</script></div>"
      ],
      "text/plain": [
       "<ee.image.Image at 0x1f6bdc12e30>"
      ]
     },
     "execution_count": 8,
     "metadata": {},
     "output_type": "execute_result"
    }
   ],
   "source": [
    "ia_im"
   ]
  },
  {
   "cell_type": "code",
   "execution_count": 11,
   "id": "2f63e2af",
   "metadata": {},
   "outputs": [],
   "source": [
    "Map = geemap.Map(center=[32, -82], zoom=9)\n",
    "\n",
    "Map.addLayer(ga_im, {}, 'GA NAIP')\n",
    "\n",
    "# Map"
   ]
  },
  {
   "cell_type": "code",
   "execution_count": 8,
   "id": "d4fb6b1b",
   "metadata": {},
   "outputs": [],
   "source": [
    "out_dir = os.path.expanduser('~F:/Iowa BMP/Geotiffs/GA/Tests')\n",
    "out_tif = os.path.join(out_dir, 'ga_im.tif')\n",
    "\n",
    "image = ga_im\n",
    "aoi = image.geometry()\n",
    "\n",
    "# geemap.ee_export_image(\n",
    "#     image, filename=out_tif, scale=1, region=aoi, file_per_band=False\n",
    "# )\n"
   ]
  },
  {
   "cell_type": "code",
   "execution_count": 14,
   "id": "82d03ebd",
   "metadata": {},
   "outputs": [
    {
     "name": "stdout",
     "output_type": "stream",
     "text": [
      "Generating URL ...\n",
      "Downloading data from https://earthengine.googleapis.com/v1/projects/earthengine-legacy/thumbnails/aba6c3844abebc2c52fcef5f4ea286bc-fbcc254618a30474e5e2e0cdfb6fc45a:getPixels\n",
      "Please wait ...\n",
      "Data downloaded to F:\\Iowa BMP\\Geotiffs\\IA\\Tests\\ia_im.tif\n"
     ]
    }
   ],
   "source": [
    "#IOWA\n",
    "\n",
    "aoi = geemap.shp_to_ee('F:/Iowa BMP/Iowa clipped shapefiles/aoi/roi.shp').geometry() #use aoi5/aoi6 for addedbands, aoi3 else\n",
    "image = ia_im\n",
    "\n",
    "out_dir = os.path.expanduser('~F:/Iowa BMP/Geotiffs/IA/Tests')\n",
    "out_tif = os.path.join(out_dir, 'ia_im.tif')\n",
    "\n",
    "image = image.clip(aoi).unmask()\n",
    "\n",
    "# geemap.ee_export_image(\n",
    "#     image, filename=out_tif, scale=1, region=aoi, file_per_band=False\n",
    "# )"
   ]
  },
  {
   "cell_type": "code",
   "execution_count": 12,
   "id": "ba0a4609",
   "metadata": {},
   "outputs": [],
   "source": [
    "ia_im"
   ]
  },
  {
   "cell_type": "code",
   "execution_count": 11,
   "id": "882661ca",
   "metadata": {},
   "outputs": [],
   "source": [
    "print(\"feesh\")"
   ]
  }
 ],
 "metadata": {
  "kernelspec": {
   "display_name": "Python [conda env:gee]",
   "language": "python",
   "name": "conda-env-gee-py"
  },
  "language_info": {
   "codemirror_mode": {
    "name": "ipython",
    "version": 3
   },
   "file_extension": ".py",
   "mimetype": "text/x-python",
   "name": "python",
   "nbconvert_exporter": "python",
   "pygments_lexer": "ipython3",
   "version": "3.10.13"
  }
 },
 "nbformat": 4,
 "nbformat_minor": 5
}
