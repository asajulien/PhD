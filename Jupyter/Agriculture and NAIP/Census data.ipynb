{
 "cells": [
  {
   "cell_type": "code",
   "execution_count": 20,
   "id": "12b421f5",
   "metadata": {},
   "outputs": [],
   "source": [
    "import pandas as pd\n",
    "import numpy as np\n",
    "import os"
   ]
  },
  {
   "cell_type": "code",
   "execution_count": 37,
   "id": "376364ad",
   "metadata": {},
   "outputs": [
    {
     "name": "stdout",
     "output_type": "stream",
     "text": [
      "             GEO_ID       NAME MEDIAN_INCOME MEDIAN_ERROR HOUSEHOLDS\n",
      "2    0500000US13001    Appling         43268         6543       6890\n",
      "3    0500000US13003   Atkinson         38007         7563       3063\n",
      "4    0500000US13005      Bacon         43938         5615       3909\n",
      "5    0500000US13007      Baker         45417        11067       1097\n",
      "6    0500000US13009    Baldwin         54699         3336      15853\n",
      "..              ...        ...           ...          ...        ...\n",
      "156  0500000US13313  Whitfield         59659         3701      35797\n",
      "157  0500000US13315     Wilcox         46759         4699       2499\n",
      "158  0500000US13317     Wilkes         51780         5497       4032\n",
      "159  0500000US13319  Wilkinson         40757         6538       3313\n",
      "160  0500000US13321      Worth         56496         5496       7896\n",
      "\n",
      "[159 rows x 5 columns]\n"
     ]
    }
   ],
   "source": [
    "df = pd.read_csv('F:/US states/Census data/June 2024/ACSST5Y2022.S1901-Data.csv')\n",
    "\n",
    "#S1901_C01_012E - median income\n",
    "#S1901_C01_012M - margin of error for median (ci?)\n",
    "#S1901_C01_013E - mean income\n",
    "#S1901_C01_013M - margin of error for mean\n",
    "#S1901_C02_001E - total number of families\n",
    "#S1901_C01_001E - total number of households\n",
    "\n",
    "df['MEDIAN_INCOME'] = df['S1901_C01_012E']\n",
    "df['MEDIAN_ERROR'] = df['S1901_C01_012M']\n",
    "df['HOUSEHOLDS'] = df['S1901_C01_001E']\n",
    "\n",
    "df2 = df[['GEO_ID', 'NAME', 'MEDIAN_INCOME', 'MEDIAN_ERROR', 'HOUSEHOLDS']]\n",
    "df2 = df2.drop([0,1])\n",
    "df2['NAME'] = df2['NAME'].str[:-16] #Get rid of ' County, Georgia'\n",
    "print(df2)\n",
    "\n",
    "##EXPORT\n",
    "out_dir = os.path.expanduser('F:/US states/Census data/June 2024/')\n",
    "out_csv = os.path.join(out_dir, 'df.csv')\n",
    "# df2.to_csv(out_csv, index = False)"
   ]
  }
 ],
 "metadata": {
  "kernelspec": {
   "display_name": "Python [conda env:gee] *",
   "language": "python",
   "name": "conda-env-gee-py"
  },
  "language_info": {
   "codemirror_mode": {
    "name": "ipython",
    "version": 3
   },
   "file_extension": ".py",
   "mimetype": "text/x-python",
   "name": "python",
   "nbconvert_exporter": "python",
   "pygments_lexer": "ipython3",
   "version": "3.10.13"
  }
 },
 "nbformat": 4,
 "nbformat_minor": 5
}
