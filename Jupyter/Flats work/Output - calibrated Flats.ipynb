{
 "cells": [
  {
   "cell_type": "code",
   "execution_count": 1,
   "id": "235c6365",
   "metadata": {},
   "outputs": [],
   "source": [
    "import geemap\n",
    "import pandas as pd\n",
    "import numpy as np\n",
    "import matplotlib.pyplot as plt\n",
    "import pdb\n",
    "from IPython.display import display\n",
    "import ee\n",
    "import os\n",
    "\n",
    "ee.Initialize()\n",
    "\n",
    "Map = geemap.Map(center=[31.539096,-81.422318], zoom=10)"
   ]
  },
  {
   "cell_type": "code",
   "execution_count": 2,
   "id": "9724a4ea",
   "metadata": {},
   "outputs": [],
   "source": [
    "#Shapefiles used for extracting pixel values - all within the GCE domain\n",
    "\n",
    "gce_clip = 'F:/Wetlands shapefiles/GA_shapefile_wetlands/GA_simple.shp' ##Simplified GCE domain - reduced number of vertices\n",
    "vcr_clip = 'F:/Wetlands shapefiles/VA_shapefile_wetlands/VA_simple.shp' ##Simplified VCR domain - reduced number of vertices\n",
    "pie_clip = 'F:/Wetlands shapefiles/MA_shapefile_wetlands/MA_simple.shp' ##Simplified PIE domain - reduced number of vertices\n",
    "wet_ga = geemap.shp_to_ee(gce_clip)\n",
    "wet_va = geemap.shp_to_ee(vcr_clip)\n",
    "wet_ma = geemap.shp_to_ee(pie_clip)\n",
    "joinedFeatures = wet_ga.union()\n",
    "\n",
    "gce_clipdiss = 'F:/Wetlands shapefiles/GA_shapefile_wetlands/GA_simpledissolve.shp'\n",
    "dissolve_ga = geemap.shp_to_ee(gce_clipdiss)\n",
    "\n",
    "gce_smalldiss = 'F:/Wetlands shapefiles/GA_shapefile_wetlands/GA_smalldissolve.shp'\n",
    "gce_smalldiss2 = 'F:/Wetlands shapefiles/GA_shapefile_wetlands/GA_smalldissolve2.shp'\n",
    "gce_smalldiss3 = 'F:/Wetlands shapefiles/GA_shapefile_wetlands/GA_smalldissolve3.shp'\n",
    "\n",
    "smalldissolve_ga = geemap.shp_to_ee(gce_smalldiss)\n",
    "small2dissolve_ga = geemap.shp_to_ee(gce_smalldiss2)\n",
    "small3dissolve_ga = geemap.shp_to_ee(gce_smalldiss3)\n",
    "\n",
    "gce_fluxdiss = 'F:/Wetlands shapefiles/GA_shapefile_wetlands/GA_fluxdissolve.shp'\n",
    "flux_ga = geemap.shp_to_ee(gce_fluxdiss)"
   ]
  },
  {
   "cell_type": "code",
   "execution_count": 3,
   "id": "99dfd59b",
   "metadata": {},
   "outputs": [
    {
     "data": {
      "text/plain": [
       "{'QA_PIXEL': 4193,\n",
       " 'QA_RADSAT': 4193,\n",
       " 'SR_ATMOS_OPACITY': 4193,\n",
       " 'SR_B1': 4193,\n",
       " 'SR_B2': 4193,\n",
       " 'SR_B3': 4193,\n",
       " 'SR_B4': 4193,\n",
       " 'SR_B5': 4193,\n",
       " 'SR_B7': 4193,\n",
       " 'SR_CLOUD_QA': 2433,\n",
       " 'ST_ATRAN': 4193,\n",
       " 'ST_B6': 4193,\n",
       " 'ST_CDIST': 4193,\n",
       " 'ST_DRAD': 4193,\n",
       " 'ST_EMIS': 4193,\n",
       " 'ST_EMSD': 4193,\n",
       " 'ST_QA': 4193,\n",
       " 'ST_TRAD': 4193,\n",
       " 'ST_URAD': 4193}"
      ]
     },
     "execution_count": 3,
     "metadata": {},
     "output_type": "execute_result"
    }
   ],
   "source": [
    "#Pixel counts of each region:\n",
    "image = ee.Image('LANDSAT/LT05/C02/T1_L2/LT05_016038_19990711')\n",
    "x = image.reduceRegion(geometry=flux_ga, reducer=ee.Reducer.count(), scale=30)\n",
    "x.getInfo()"
   ]
  },
  {
   "cell_type": "code",
   "execution_count": 4,
   "id": "171c931e",
   "metadata": {},
   "outputs": [],
   "source": [
    "##FLATS\n",
    "def addFLATSL7(image):\n",
    "    flats = ee.Image(0).expression(\n",
    "        '1/(1+2.718281828459045**-(1.51 + 12.5*(RED-SWIR)/(RED+SWIR) - 41.2*(NIR-RED)/(NIR+6*RED-7.5*BLUE+1)))', {\n",
    "            'SWIR': image.select('SR_B5'),\n",
    "            'NIR': image.select('SR_B4'),\n",
    "            'RED': image.select('SR_B3'),\n",
    "            'BLUE': image.select('SR_B1')\n",
    "        })\n",
    "    \n",
    "    return image.addBands(flats.rename('flats'))\n",
    "\n",
    "def addFLATSL5(image):\n",
    "    flats = ee.Image(0).expression(\n",
    "        '1/(1+2.718281828459045**-(1.51 + 12.5*(0.972*(RED-SWIR)/(RED+SWIR)-0.008) - 41.2*(0.991*(NIR-RED)/(NIR+6*RED-7.5*BLUE+1)-0.0014)))', {\n",
    "            'SWIR': image.select('SR_B5'),\n",
    "            'NIR': image.select('SR_B4'),\n",
    "            'RED': image.select('SR_B3'),\n",
    "            'BLUE': image.select('SR_B1')\n",
    "        })\n",
    "    \n",
    "    return image.addBands(flats.rename('flats'))\n",
    "\n",
    "\n",
    "def addFLATSL8(image):\n",
    "    flats = ee.Image(0).expression(\n",
    "        '1/(1+2.718281828459045**-(1.51 + 12.5*(0.841*(RED-SWIR)/(RED+SWIR) - 0.019) - 41.2*(0.771*(NIR-RED)/(NIR+6*RED-7.5*BLUE+1) + 0.011)))', {\n",
    "            'SWIR': image.select('SR_B6'),\n",
    "            'NIR': image.select('SR_B5'),\n",
    "            'RED': image.select('SR_B4'),\n",
    "            'BLUE': image.select('SR_B2')\n",
    "        })\n",
    "    \n",
    "    return image.addBands(flats.rename('flats'))\n",
    "\n",
    "def addFLATSL9(image):\n",
    "    flats = ee.Image(0).expression(\n",
    "        '1/(1+2.718281828459045**-(1.51 + 12.5*(1.225*(RED-SWIR)/(RED+SWIR) + 0.096) - 41.2*(1.038* (NIR-RED)/(NIR+6*RED-7.5*BLUE+1) - 0.004)))', {\n",
    "            'SWIR': image.select('SR_B6'),\n",
    "            'NIR': image.select('SR_B5'),\n",
    "            'RED': image.select('SR_B4'),\n",
    "            'BLUE': image.select('SR_B2')\n",
    "        })\n",
    "    \n",
    "    return image.addBands(flats.rename('flats'))\n",
    "\n",
    "#Note on landsat 9: calibrated to L7 - originally calibrated to L8\n",
    "\n",
    "#Flats equation when evi is subbed in: flats = 1.51+(-41.2*evi) + 12.5*ndwi\n"
   ]
  },
  {
   "cell_type": "code",
   "execution_count": 5,
   "id": "15bdffd3",
   "metadata": {},
   "outputs": [],
   "source": [
    "##Function to cloud mask from the pixel_qa band of Landsat 5/8 SR data.\n",
    "def maskL5sr(image):\n",
    "    qaMask = image.select('QA_PIXEL').bitwiseAnd(int('11111', 2)).eq(0)\n",
    "    saturationMask = image.select('QA_RADSAT').eq(0)\n",
    "    # Apply the scaling factors to the appropriate bands.\n",
    "    opticalBands = image.select('SR_B.').multiply(0.0000275).add(-0.2)\n",
    "    thermalBands = image.select('ST_B.*').multiply(0.00341802).add(149.0)\n",
    "    # Replace the original bands with the scaled ones and apply the masks.\n",
    "    return image.addBands(opticalBands, None, True) \\\n",
    "    .addBands(thermalBands, None, True) \\\n",
    "    .updateMask(qaMask) \\\n",
    "    .updateMask(saturationMask)"
   ]
  },
  {
   "cell_type": "code",
   "execution_count": 6,
   "id": "921390f2",
   "metadata": {},
   "outputs": [],
   "source": [
    "#Mapping a continuous time series using calibrated data\n",
    "\n",
    "l8_col = ee.ImageCollection('LANDSAT/LC08/C02/T1_L2') \\\n",
    "    .filter(ee.Filter.calendarRange(1998, 2023,'year')) \\\n",
    "    .filterBounds(dissolve_ga) \\\n",
    "    .map(maskL5sr).map(addFLATSL8)\n",
    "\n",
    "l7_col = ee.ImageCollection('LANDSAT/LE07/C02/T1_L2') \\\n",
    "    .filter(ee.Filter.calendarRange(1998, 2023,'year')) \\\n",
    "    .filterBounds(dissolve_ga)\\\n",
    "    .map(maskL5sr).map(addFLATSL7)\n",
    "\n",
    "l5_col = ee.ImageCollection('LANDSAT/LT05/C02/T1_L2') \\\n",
    "    .filter(ee.Filter.calendarRange(1998, 2023,'year')) \\\n",
    "    .filterBounds(dissolve_ga)\\\n",
    "    .map(maskL5sr).map(addFLATSL5)\n",
    "\n",
    "l9_col = ee.ImageCollection(\"LANDSAT/LC09/C02/T1_L2\") \\\n",
    "    .filter(ee.Filter.calendarRange(1998, 2023,'year')) \\\n",
    "    .filterBounds(dissolve_ga)\\\n",
    "    .map(maskL5sr).map(addFLATSL9)"
   ]
  },
  {
   "cell_type": "code",
   "execution_count": 7,
   "id": "5f228497",
   "metadata": {},
   "outputs": [
    {
     "data": {
      "application/vnd.jupyter.widget-view+json": {
       "model_id": "f0b436affee04781bce2c982b276e7e5",
       "version_major": 2,
       "version_minor": 0
      },
      "text/plain": [
       "Map(center=[31.539096, -81.422318], controls=(WidgetControl(options=['position', 'transparent_bg'], widget=HBo…"
      ]
     },
     "metadata": {},
     "output_type": "display_data"
    }
   ],
   "source": [
    "L5_1 = l5_col.first()\n",
    "L7_1 = l7_col.first()\n",
    "L8_1 = l8_col.first()\n",
    "L9_1 = l9_col.first()\n",
    "\n",
    "Map.addLayer(L5_1, {'bands': ['flats'], 'min': 0, 'max': 1}, 'Flats L5')\n",
    "Map.addLayer(L7_1, {'bands': ['flats'], 'min': 0, 'max': 1}, 'Flats L7')\n",
    "Map.addLayer(L8_1, {'bands': ['flats'], 'min': 0, 'max': 1}, 'Flats L8')\n",
    "Map.addLayer(L9_1, {'bands': ['flats'], 'min': 0, 'max': 1}, 'Flats L9')\n",
    "Map"
   ]
  },
  {
   "cell_type": "code",
   "execution_count": null,
   "id": "46932ece",
   "metadata": {},
   "outputs": [],
   "source": [
    "#Feesh"
   ]
  }
 ],
 "metadata": {
  "kernelspec": {
   "display_name": "venv",
   "language": "python",
   "name": "venv"
  },
  "language_info": {
   "codemirror_mode": {
    "name": "ipython",
    "version": 3
   },
   "file_extension": ".py",
   "mimetype": "text/x-python",
   "name": "python",
   "nbconvert_exporter": "python",
   "pygments_lexer": "ipython3",
   "version": "3.9.12"
  }
 },
 "nbformat": 4,
 "nbformat_minor": 5
}
