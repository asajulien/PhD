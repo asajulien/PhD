{
 "cells": [
  {
   "cell_type": "code",
   "execution_count": 1,
   "id": "f1b09042",
   "metadata": {},
   "outputs": [],
   "source": [
    "import geemap\n",
    "import pandas as pd\n",
    "import numpy as np\n",
    "import matplotlib.pyplot as plt\n",
    "import pdb\n",
    "from IPython.display import display\n",
    "import ee\n",
    "import os"
   ]
  },
  {
   "cell_type": "code",
   "execution_count": 55,
   "id": "c99b1bf1",
   "metadata": {},
   "outputs": [],
   "source": [
    "#ee.Authenticate()\n",
    "#geemap.update_package()\n",
    "\n",
    "ee.Initialize()\n",
    "\n",
    "Map = geemap.Map(center=[31.539096,-81.422318], zoom=10)\n",
    "\n",
    "ga_pt = ee.Feature(ee.Geometry.Point([-81.422318, 31.539096]))\n",
    "\n",
    "ga_pts = ee.FeatureCollection([\n",
    "  ee.Feature(ee.Geometry.Point([-81.422318, 31.539096]), {'site_id': '1'}),\n",
    "  ee.Feature(ee.Geometry.Point([-81.295564, 31.535967]), {'site_id': '2'}),\n",
    "  ee.Feature(ee.Geometry.Point([-81.229141, 31.518847]), {'site_id': '3'}),\n",
    "  ee.Feature(ee.Geometry.Point([-81.365805, 31.451791]), {'site_id': '4'}),\n",
    "  ee.Feature(ee.Geometry.Point([-81.340722, 31.435814]), {'site_id': '5'}),\n",
    "  ee.Feature(ee.Geometry.Point([-81.280011, 31.387962]), {'site_id': '6'}),\n",
    "  ee.Feature(ee.Geometry.Point([-81.478498, 31.334813]), {'site_id': '7'}),\n",
    "  ee.Feature(ee.Geometry.Point([-81.415535, 31.30824]), {'site_id': '8'}),\n",
    "  ee.Feature(ee.Geometry.Point([-81.333707, 31.351518]), {'site_id': '9'}),\n",
    "  ee.Feature(ee.Geometry.Point([-81.270863, 31.476948]), {'site_id': '10'})\n",
    "])\n",
    "\n",
    "##Adding every plot coordinate\n",
    "allplots_fc = 'C:/Users/arj26323/Documents/Data/Biomass datasets/Sapelo/GA_allplots_NEW.csv'\n",
    "fc_all = geemap.csv_to_ee(allplots_fc, latitude = \"Latitude\", longitude = \"Longitude\")"
   ]
  },
  {
   "cell_type": "code",
   "execution_count": 3,
   "id": "2737829d",
   "metadata": {},
   "outputs": [],
   "source": [
    "##FLATS\n",
    "def addFLATS(image):\n",
    "    flats = ee.Image(0).expression(\n",
    "        '1/(1+2.718281828459045**-(-1.57 + 20*(RED-SWIR)/(RED+SWIR) + 68.6*(GREEN-RED)/(GREEN+RED)))', {\n",
    "            'SWIR': image.select('B6'),\n",
    "            'RED': image.select('B4'),\n",
    "            'GREEN': image.select('B3')\n",
    "        })\n",
    "    \n",
    "    return image.addBands(flats.rename('flats'))\n",
    "\n",
    "def addFLATSL5(image):\n",
    "    flats = ee.Image(0).expression(\n",
    "        '1/(1+2.718281828459045**-(-1.57 + 20*(RED-SWIR)/(RED+SWIR) + 68.6*(GREEN-RED)/(GREEN+RED)))', {\n",
    "            'SWIR': image.select('B5'),\n",
    "            'RED': image.select('B3'),\n",
    "            'GREEN': image.select('B2')\n",
    "        })\n",
    "    \n",
    "    return image.addBands(flats.rename('flats'))"
   ]
  },
  {
   "cell_type": "code",
   "execution_count": 4,
   "id": "6388a9bf",
   "metadata": {},
   "outputs": [],
   "source": [
    "##Function to cloud mask from the pixel_qa band of Landsat 5/8 SR data.\n",
    "def maskL5sr(image):\n",
    "  cloudShadowBitMask = 1 << 3\n",
    "  cloudsBitMask = 1 << 5\n",
    "\n",
    "  qa = image.select('pixel_qa')\n",
    "\n",
    "  mask = qa.bitwiseAnd(cloudShadowBitMask).eq(0) \\\n",
    "      .And(qa.bitwiseAnd(cloudsBitMask).eq(0))\n",
    "\n",
    "  return image.updateMask(mask).divide(10000) \\\n",
    "      .select(\"B[0-9]*\") \\\n",
    "      .copyProperties(image, [\"system:time_start\"])"
   ]
  },
  {
   "cell_type": "code",
   "execution_count": 113,
   "id": "ae815fc5",
   "metadata": {},
   "outputs": [
    {
     "name": "stdout",
     "output_type": "stream",
     "text": [
      "576\n"
     ]
    }
   ],
   "source": [
    "#Coincident imagery\n",
    "l8_col = ee.ImageCollection('LANDSAT/LC08/C02/T1_L2') \\\n",
    "    .filter(ee.Filter.calendarRange(2012, 2023,'year')) \\\n",
    "    .filterBounds(ga_pts)\n",
    "\n",
    "l7_col = ee.ImageCollection('LANDSAT/LE07/C02/T1_L2') \\\n",
    "    .filter(ee.Filter.calendarRange(1998, 2013,'year')) \\\n",
    "    .filterBounds(ga_pts)\n",
    "\n",
    "l5_col = ee.ImageCollection('LANDSAT/LT05/C02/T1_L2') \\\n",
    "    .filter(ee.Filter.calendarRange(1998, 2012,'year')) \\\n",
    "    .filterBounds(ga_pts)\n",
    "\n",
    "l9_col = ee.ImageCollection(\"LANDSAT/LC09/C02/T1_L2\") \\\n",
    "    .filter(ee.Filter.calendarRange(2020, 2023,'year')) \\\n",
    "    .filterBounds(ga_pts)\n",
    "##ALL MIGRATED TO COLLECTION 2!\n",
    "print(l7_col.size().getInfo())"
   ]
  },
  {
   "cell_type": "code",
   "execution_count": 122,
   "id": "276335db",
   "metadata": {},
   "outputs": [
    {
     "name": "stdout",
     "output_type": "stream",
     "text": [
      "505\n"
     ]
    }
   ],
   "source": [
    "# l7_col.aggregate_array('system:id').getInfo()\n",
    "# l5_col.aggregate_array('system:id').getInfo()\n",
    "# l8_col.aggregate_array('system:id').getInfo()\n",
    "# l9_col.aggregate_array('system:id').getInfo()\n",
    "\n",
    "print(l5_col.size().getInfo())"
   ]
  },
  {
   "cell_type": "code",
   "execution_count": 119,
   "id": "1edaf7f2",
   "metadata": {},
   "outputs": [],
   "source": [
    "#Filter dates to get coincident images between l5 and L7; L7 and L8; and L8 and L9\n",
    "#https://gis.stackexchange.com/questions/386827/filter-two-image-collections-by-the-same-aqusition-date-in-google-earth-engine\n",
    "\n",
    "def datefunc(image):\n",
    "    date = ee.Date(image.get('system:time_start')).format(\"YYYY-MM-dd\")\n",
    "    date = ee.Date(date)\n",
    "    return image.set('date', date)\n",
    "\n",
    "x_8 = l8_col.map(datefunc)\n",
    "x_7 = l7_col.map(datefunc)\n",
    "x_5 = l5_col.map(datefunc)\n",
    "x_9 = l9_col.map(datefunc)\n",
    "\n",
    "filterTimeEq = ee.Filter.equals(\n",
    "    leftField='date',\n",
    "    rightField='date'\n",
    ")\n",
    "\n",
    "simpleJoin = ee.Join.simple()\n",
    "\n",
    "#Shared_5/7\n",
    "L57 = ee.ImageCollection(simpleJoin.apply(x_5, x_7, filterTimeEq))\n",
    "\n",
    "#Shared_7/8\n",
    "L78 = ee.ImageCollection(simpleJoin.apply(x_7, x_8, filterTimeEq))\n",
    "\n",
    "#Shared_8/9\n",
    "L89 = ee.ImageCollection(simpleJoin.apply(x_8, x_9, filterTimeEq))\n",
    "\n",
    "#https://developers.google.com/earth-engine/guides/joins_simple"
   ]
  },
  {
   "cell_type": "code",
   "execution_count": 120,
   "id": "2bbadb10",
   "metadata": {},
   "outputs": [
    {
     "name": "stdout",
     "output_type": "stream",
     "text": [
      "Landsat 5/7 coincident images: 0\n",
      "Landsat 7/8 coincident images: 0\n",
      "Landsat 8/9 coincident images: 2\n"
     ]
    },
    {
     "data": {
      "text/plain": [
       "['LANDSAT/LC08/C02/T1_L2/LC08_016038_20211112',\n",
       " 'LANDSAT/LC08/C02/T1_L2/LC08_016039_20211112']"
      ]
     },
     "execution_count": 120,
     "metadata": {},
     "output_type": "execute_result"
    }
   ],
   "source": [
    "print('Landsat 5/7 coincident images: ' + str(L57.size().getInfo()))\n",
    "print('Landsat 7/8 coincident images: ' + str(L78.size().getInfo()))\n",
    "print('Landsat 8/9 coincident images: ' + str(L89.size().getInfo()))\n",
    "\n",
    "L89.aggregate_array('system:id').getInfo()\n",
    "\n",
    "#Only ONE instance of same-day imagery for all 3 sensors over the 20+-year period"
   ]
  },
  {
   "cell_type": "code",
   "execution_count": 92,
   "id": "ab5e133a",
   "metadata": {},
   "outputs": [
    {
     "name": "stdout",
     "output_type": "stream",
     "text": [
      "['LANDSAT/LC08/C01/T1_SR/LC08_016038_20211112', 'LANDSAT/LC08/C01/T1_SR/LC08_016038_20211128', 'LANDSAT/LC08/C01/T1_SR/LC08_016039_20211112', 'LANDSAT/LC08/C01/T1_SR/LC08_016039_20211128', 'LANDSAT/LC08/C01/T1_SR/LC08_017038_20211103', 'LANDSAT/LC08/C01/T1_SR/LC08_017038_20211119']\n",
      "['LANDSAT/LC09/C02/T1_L2/LC09_016038_20211102', 'LANDSAT/LC09/C02/T1_L2/LC09_017038_20211107', 'LANDSAT/LC09/C02/T1_L2/LC09_017038_20211112']\n"
     ]
    }
   ],
   "source": [
    "#Check coincident imagery:\n",
    "check8 = ee.ImageCollection('LANDSAT/LC08/C02/T1_L2') \\\n",
    "    .filter(ee.Filter.calendarRange(2021, 2021,'year')) \\\n",
    "    .filter(ee.Filter.calendarRange(11, 11,'month')) \\\n",
    "    .filterBounds(ga_pts)\n",
    "\n",
    "check9 = ee.ImageCollection('LANDSAT/LC09/C02/T1_L2') \\\n",
    "    .filter(ee.Filter.calendarRange(2021, 2021,'year')) \\\n",
    "    .filter(ee.Filter.calendarRange(11, 11,'month')) \\\n",
    "    .filterBounds(ga_pts)\n",
    "\n",
    "print(check8.aggregate_array('system:id').getInfo())\n",
    "print(check9.aggregate_array('system:id').getInfo()"
   ]
  },
  {
   "cell_type": "code",
   "execution_count": null,
   "id": "b05425b4",
   "metadata": {},
   "outputs": [],
   "source": [
    "#Mask clouds from images, add FLATS   \n",
    "    \n",
    "    .map(maskL5sr) \\\n",
    "    .map(addFLATS) \\"
   ]
  }
 ],
 "metadata": {
  "kernelspec": {
   "display_name": "venv",
   "language": "python",
   "name": "venv"
  },
  "language_info": {
   "codemirror_mode": {
    "name": "ipython",
    "version": 3
   },
   "file_extension": ".py",
   "mimetype": "text/x-python",
   "name": "python",
   "nbconvert_exporter": "python",
   "pygments_lexer": "ipython3",
   "version": "3.9.12"
  }
 },
 "nbformat": 4,
 "nbformat_minor": 5
}
