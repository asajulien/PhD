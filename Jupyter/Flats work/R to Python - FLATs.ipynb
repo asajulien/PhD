{
 "cells": [
  {
   "cell_type": "code",
   "execution_count": 5,
   "id": "a01cb094",
   "metadata": {},
   "outputs": [],
   "source": [
    "import pandas as pd\n",
    "import numpy as np\n",
    "from sklearn import preprocessing\n",
    "from sklearn.linear_model import LogisticRegression\n",
    "import os"
   ]
  },
  {
   "cell_type": "code",
   "execution_count": 6,
   "id": "9905cdec",
   "metadata": {},
   "outputs": [],
   "source": [
    "os.chdir('C:/Users/arj26323/Documents/Data/flats')\n"
   ]
  },
  {
   "cell_type": "code",
   "execution_count": 7,
   "id": "d27900ea",
   "metadata": {},
   "outputs": [],
   "source": [
    "#Make indices function\n",
    "\n",
    "indices['ndvi'] = (landsat['b5'] - landsat['b4'])/(landsat['b5'] + landsat['b4'])\n",
    "indices['evi'] = 2.5 * ((landsat['b5'] - landsat['b4'])/(landsat['b5'] + 6 * landsat['b4'] - 7.5 * landsat['b2'] + 1))\n",
    "indices['gndvi'] = (landsat['b5'] - landsat['b3'])/(landsat['b5'] + landsat['b3'])\n",
    "indices['savi'] = 1.5 * ((landsat['b5'] - landsat['b4'])/(landsat['b5'] + landsat['b4'] + 0.5))\n",
    "indices['msavi'] = (2*landsat['b5'] + 1 - np.sqrt((2*landsat['b5'] + 1)^2 - 8*(landsat['b5'] - landsat['b4'])))/2\n",
    "indices['ndmi'] = (landsat['b5'] - landsat['b6'])/(landsat['b5'] + landsat['b6'])\n",
    "indices['ndmi7'] = (landsat['b3'] - landsat['b6'])/(landsat['b3'] + landsat['b6'])\n",
    "indices['ndmi2'] = (landsat['b3'] - landsat['b5'])/(landsat['b3'] + landsat['b5'])\n",
    "indices['ndmi3'] = (landsat['b4'] - landsat['b6'])/(landsat['b4'] + landsat['b6'])\n",
    "indices['ndmi4'] = (landsat['b1'] - landsat['b6'])/(landsat['b1'] + landsat['b6'])\n",
    "indices['ndmi5'] = (landsat['b2'] - landsat['b5'])/(landsat['b2'] + landsat['b5'])\n",
    "indices['ndmi6'] = (landsat['b1'] - landsat['b5'])/(landsat['b1'] + landsat['b5'])\n",
    "indices['gari'] = (\n",
    "    (\n",
    "        landsat['b5']-(landsat['b3']-1.7*(landsat['b2']-landsat['b4'])))/(\n",
    "        landsat['b5']+(landsat['b3']-1.7*(landsat['b2']-landsat['b4'])\n",
    "                      )\n",
    "    )\n",
    ")\n",
    "\n",
    "indices['gci'] = (landsat['b5']/landsat['b3'])-1\n",
    "indices['gli'] = ((landsat['b3']-landsat['b4']) + (landsat['b3']-landsat['b2']))/((2*landsat['b3'])+landsat['b4']+landsat['b2'])\n",
    "indices['gevi'] = 2.5*((landsat['b5']-landsat['b4'])/(landsat['b5']+6*landsat['b4']-7.5*landsat['b3']+1))\n",
    "\n",
    "indices['wdrvi'] = (.1*landsat['b5']-landsat['b4'])/(.1*landsat['b5']+landsat['b4'])\n",
    "indices['wdrvi2'] = (.2*landsat['b5']-landsat['b4'])/(.2*landsat['b5']+landsat['b4']) \n",
    "indices['pheno'] = (landsat['b5']-landsat['b6'])/(landsat['b5']+landsat['b6'])\n",
    "indices['pheno3'] = (landsat['b5']-landsat['b7'])/(landsat['b5']+landsat['b7']) \n",
    "indices['pheno5'] = (landsat['b3'] - landsat['b4']) / (landsat['b3'] + landsat['b4'])\n",
    "indices['pheno7'] = (landsat['b2'] - landsat['b3']) / (landsat['b2'] + landsat['b3'])\n",
    "indices['lai'] = (3.618*indices['evi'] -0.118) #Boegh et al. (2002)\n",
    "indices['nli'] = (landsat['b5']**2-landsat['b4'])/(landsat['b5']**2+landsat['b4']) #Goel & Qin (1994)\n",
    "indices['vari'] = (landsat['b3'] - landsat['b4'])/(landsat['b3']+landsat['b4']-landsat['b2']) #Gitelson et al. (2002)\n",
    "  ###indices$diff<-(landsat$b1 - landsat$b2/(443-482))\n",
    "  #indices$diff<-(landsat$b1 - landsat$b3/(443-562))\n",
    "  #indices$diff<-(landsat$b1 - landsat$b4/(443-655))\n",
    "indices['diff'] = (landsat['b1'] - landsat['b5']/(443-865))\n",
    "\n",
    "#     return(indices)\n",
    "# }\n"
   ]
  },
  {
   "cell_type": "code",
   "execution_count": 8,
   "id": "22d7ed99",
   "metadata": {},
   "outputs": [],
   "source": [
    "#Explained deviance function\n",
    "\n",
    "def ed(m):\n",
    "    x = (m['null.deviance'] - m['deviance'])/m['null.deviance']\n",
    "    return x"
   ]
  },
  {
   "cell_type": "code",
   "execution_count": null,
   "id": "4cdf6b17",
   "metadata": {},
   "outputs": [],
   "source": [
    "#Code from ETMII\n",
    "\n",
    "##### Load Landsat 8 #####\n",
    "land8bands<-data.frame(wave=    c(443, 482, 561.5, 654.5, 865, 1608.5, 2200.5, 10895,12005),\n",
    "                       band_num=c(\"b1\",\"b2\",  \"b3\", \"b4\", \"b5\",\"b6\", \"b7\", \"b10\", \"b11\"))\n",
    "landsat<-read_csv(\"data/sapelo/L8_EE_SIphenoviewextra_2013_2017.csv\")\n",
    "landsat$time<-substr(landsat$date,12,19)\n",
    "landsat$date<-as.Date(substr(landsat$date,1,10))\n",
    "landsat$year<-as.numeric(format(landsat$date, \"%Y\"))\n",
    "landsat$doy<-as.numeric(format(landsat$date, \"%j\"))\n",
    "landsat$mo<-as.numeric(format(landsat$date, \"%m\"))"
   ]
  }
 ],
 "metadata": {
  "kernelspec": {
   "display_name": "venv",
   "language": "python",
   "name": "venv"
  },
  "language_info": {
   "codemirror_mode": {
    "name": "ipython",
    "version": 3
   },
   "file_extension": ".py",
   "mimetype": "text/x-python",
   "name": "python",
   "nbconvert_exporter": "python",
   "pygments_lexer": "ipython3",
   "version": "3.9.18"
  }
 },
 "nbformat": 4,
 "nbformat_minor": 5
}
