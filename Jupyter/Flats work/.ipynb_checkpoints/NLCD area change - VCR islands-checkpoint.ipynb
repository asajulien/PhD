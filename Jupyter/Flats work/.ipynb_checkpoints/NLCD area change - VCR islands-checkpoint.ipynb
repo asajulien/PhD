{
 "cells": [
  {
   "cell_type": "code",
   "execution_count": 2,
   "id": "58605609",
   "metadata": {},
   "outputs": [],
   "source": [
    "from osgeo import gdal"
   ]
  },
  {
   "cell_type": "code",
   "execution_count": 17,
   "id": "61e39cad",
   "metadata": {},
   "outputs": [
    {
     "name": "stdout",
     "output_type": "stream",
     "text": [
      "Percentage change in open water: 1405.79%\n"
     ]
    }
   ],
   "source": [
    "# Load rasters\n",
    "year1_raster = gdal.Open(\"F:/NLCD data/NLCD_2001_Land_Cover_L48_20210604_b3NvvLpl4Br0nz8deqyE.tiff\")\n",
    "year2_raster = gdal.Open(\"F:/NLCD data/NLCD_2021_Land_Cover_L48_20230630_b3NvvLpl4Br0nz8deqyE.tiff\")\n",
    "\n",
    "# Get data and transform\n",
    "year1_data = year1_raster.GetRasterBand(1).ReadAsArray()\n",
    "year2_data = year2_raster.GetRasterBand(1).ReadAsArray()\n",
    "\n",
    "# Calculate total number of pixels\n",
    "total_pixels = year2_data.size\n",
    "\n",
    "# Calculate area of open water pixels (assuming 30m resolution)\n",
    "year1_area = (year1_data == 11).sum() * 30 * 30  \n",
    "year2_area = (year2_data == 11).sum() * 30 * 30\n",
    "\n",
    "# Calculate percentage change\n",
    "change_percent = ((year2_area - year1_area) / total_pixels) * 100\n",
    "\n",
    "print(f\"Percentage change in open water: {change_percent:.2f}%\")"
   ]
  },
  {
   "cell_type": "code",
   "execution_count": 28,
   "id": "a6173ffd",
   "metadata": {},
   "outputs": [
    {
     "name": "stdout",
     "output_type": "stream",
     "text": [
      "Year 1 - Open water pixels: 27054, Other pixels: 21410\n",
      "Year 2 - Open water pixels: 27811, Other pixels: 20653\n"
     ]
    }
   ],
   "source": [
    "import numpy as np\n",
    "\n",
    "# Calculate number of pixels assigned to class 11 (open water) and other classes for each raster\n",
    "year1_open_water_pixels = np.sum(year1_data == 11)\n",
    "year1_other_pixels = total_pixels - year1_open_water_pixels\n",
    "\n",
    "year2_open_water_pixels = np.sum(year2_data == 11)\n",
    "year2_other_pixels = total_pixels - year2_open_water_pixels\n",
    "\n",
    "print(f\"Year 1 - Open water pixels: {year1_open_water_pixels}, Other pixels: {year1_other_pixels}\")\n",
    "print(f\"Year 2 - Open water pixels: {year2_open_water_pixels}, Other pixels: {year2_other_pixels}\")"
   ]
  },
  {
   "cell_type": "code",
   "execution_count": 27,
   "id": "6b772b91",
   "metadata": {},
   "outputs": [
    {
     "name": "stdout",
     "output_type": "stream",
     "text": [
      "0.5582287883790029\n",
      "0.5738486299108617\n",
      "48464\n",
      "0.021087817761637505\n",
      "0.007325024760647079\n"
     ]
    }
   ],
   "source": [
    "print(27054/(27054+21410))\n",
    "print(27811/(27811+20653))\n",
    "\n",
    "print(27811+20653)\n",
    "print(1022/48464)\n",
    "print(355/48464)\n",
    "\n"
   ]
  }
 ],
 "metadata": {
  "kernelspec": {
   "display_name": "Python [conda env:gee] *",
   "language": "python",
   "name": "conda-env-gee-py"
  },
  "language_info": {
   "codemirror_mode": {
    "name": "ipython",
    "version": 3
   },
   "file_extension": ".py",
   "mimetype": "text/x-python",
   "name": "python",
   "nbconvert_exporter": "python",
   "pygments_lexer": "ipython3",
   "version": "3.10.13"
  }
 },
 "nbformat": 4,
 "nbformat_minor": 5
}
