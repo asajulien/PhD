{
 "cells": [
  {
   "cell_type": "code",
   "execution_count": 1,
   "id": "44b57e68",
   "metadata": {},
   "outputs": [],
   "source": [
    "import geemap\n",
    "import pandas as pd\n",
    "import numpy as np\n",
    "import matplotlib.pyplot as plt\n",
    "import pdb\n",
    "from IPython.display import display\n",
    "import ee\n",
    "import os"
   ]
  },
  {
   "cell_type": "code",
   "execution_count": 5,
   "id": "8b01bbf6",
   "metadata": {},
   "outputs": [],
   "source": [
    "ee.Initialize()\n",
    "\n",
    "Map = geemap.Map(center=[40,-100], zoom=4)\n",
    "\n",
    "#Datasets to test on:\n",
    "daymet_ga = ee.ImageCollection('NASA/ORNL/DAYMET_V4')"
   ]
  },
  {
   "cell_type": "code",
   "execution_count": 12,
   "id": "5a5504f0",
   "metadata": {},
   "outputs": [
    {
     "data": {
      "application/vnd.jupyter.widget-view+json": {
       "model_id": "24cde0b0884f427cbc45d4d7a565a277",
       "version_major": 2,
       "version_minor": 0
      },
      "text/plain": [
       "Map(bottom=2010.0, center=[28.48076290299033, -78.57183060060278], controls=(WidgetControl(options=['position'…"
      ]
     },
     "metadata": {},
     "output_type": "display_data"
    }
   ],
   "source": [
    "#Adding wetlands \n",
    "\n",
    "#GCE domain:\n",
    "gce_clip = 'F:/Wetlands shapefiles/GA_shapefile_wetlands/GCE_domain.shp'\n",
    "wet_ga = geemap.shp_to_ee(gce_clip)\n",
    "dmclip_ga = daymet_ga.map(lambda image: image.clip(wet_ga))\n",
    "\n",
    "# Map.addLayer(dmclip_ga, {}, 'Daymet')\n",
    "\n",
    "clip_0 = ee.Image(dmclip_ga.toList(dmclip_ga.size()).get(0)) ##Fist image in collection - need to specify date ranges\n",
    "\n",
    "Map.addLayer(clip_0, {}, 'Daymet')\n",
    "\n",
    "Map"
   ]
  },
  {
   "cell_type": "code",
   "execution_count": 13,
   "id": "58bcf1c4",
   "metadata": {},
   "outputs": [
    {
     "data": {
      "text/plain": [
       "{'type': 'Image',\n",
       " 'bands': [{'id': 'dayl',\n",
       "   'data_type': {'type': 'PixelType', 'precision': 'float'},\n",
       "   'dimensions': [9612, 8075],\n",
       "   'crs': 'PROJCS[\"unnamed\", \\n  GEOGCS[\"NAD83\", \\n    DATUM[\"WGS_1984\", \\n      SPHEROID[\"WGS 84\", 6378137.0, 298.257223563, AUTHORITY[\"EPSG\",\"7030\"]], \\n      AUTHORITY[\"EPSG\",\"6326\"]], \\n    PRIMEM[\"Greenwich\", 0.0], \\n    UNIT[\"degree\", 0.017453292519943295], \\n    AXIS[\"Longitude\", EAST], \\n    AXIS[\"Latitude\", NORTH]], \\n  PROJECTION[\"Lambert_Conformal_Conic_2SP\"], \\n  PARAMETER[\"central_meridian\", -100.0], \\n  PARAMETER[\"latitude_of_origin\", 42.5], \\n  PARAMETER[\"standard_parallel_1\", 60.0], \\n  PARAMETER[\"false_easting\", 0.0], \\n  PARAMETER[\"false_northing\", 0.0], \\n  PARAMETER[\"scale_factor\", 1.0], \\n  PARAMETER[\"standard_parallel_2\", 25.0], \\n  UNIT[\"m\", 1.0], \\n  AXIS[\"x\", EAST], \\n  AXIS[\"y\", NORTH]]',\n",
       "   'crs_transform': [1000, 0, -5802750, 0, -1000, 4984500]},\n",
       "  {'id': 'prcp',\n",
       "   'data_type': {'type': 'PixelType', 'precision': 'float'},\n",
       "   'dimensions': [9612, 8075],\n",
       "   'crs': 'PROJCS[\"unnamed\", \\n  GEOGCS[\"NAD83\", \\n    DATUM[\"WGS_1984\", \\n      SPHEROID[\"WGS 84\", 6378137.0, 298.257223563, AUTHORITY[\"EPSG\",\"7030\"]], \\n      AUTHORITY[\"EPSG\",\"6326\"]], \\n    PRIMEM[\"Greenwich\", 0.0], \\n    UNIT[\"degree\", 0.017453292519943295], \\n    AXIS[\"Longitude\", EAST], \\n    AXIS[\"Latitude\", NORTH]], \\n  PROJECTION[\"Lambert_Conformal_Conic_2SP\"], \\n  PARAMETER[\"central_meridian\", -100.0], \\n  PARAMETER[\"latitude_of_origin\", 42.5], \\n  PARAMETER[\"standard_parallel_1\", 60.0], \\n  PARAMETER[\"false_easting\", 0.0], \\n  PARAMETER[\"false_northing\", 0.0], \\n  PARAMETER[\"scale_factor\", 1.0], \\n  PARAMETER[\"standard_parallel_2\", 25.0], \\n  UNIT[\"m\", 1.0], \\n  AXIS[\"x\", EAST], \\n  AXIS[\"y\", NORTH]]',\n",
       "   'crs_transform': [1000, 0, -5802750, 0, -1000, 4984500]},\n",
       "  {'id': 'srad',\n",
       "   'data_type': {'type': 'PixelType', 'precision': 'float'},\n",
       "   'dimensions': [9612, 8075],\n",
       "   'crs': 'PROJCS[\"unnamed\", \\n  GEOGCS[\"NAD83\", \\n    DATUM[\"WGS_1984\", \\n      SPHEROID[\"WGS 84\", 6378137.0, 298.257223563, AUTHORITY[\"EPSG\",\"7030\"]], \\n      AUTHORITY[\"EPSG\",\"6326\"]], \\n    PRIMEM[\"Greenwich\", 0.0], \\n    UNIT[\"degree\", 0.017453292519943295], \\n    AXIS[\"Longitude\", EAST], \\n    AXIS[\"Latitude\", NORTH]], \\n  PROJECTION[\"Lambert_Conformal_Conic_2SP\"], \\n  PARAMETER[\"central_meridian\", -100.0], \\n  PARAMETER[\"latitude_of_origin\", 42.5], \\n  PARAMETER[\"standard_parallel_1\", 60.0], \\n  PARAMETER[\"false_easting\", 0.0], \\n  PARAMETER[\"false_northing\", 0.0], \\n  PARAMETER[\"scale_factor\", 1.0], \\n  PARAMETER[\"standard_parallel_2\", 25.0], \\n  UNIT[\"m\", 1.0], \\n  AXIS[\"x\", EAST], \\n  AXIS[\"y\", NORTH]]',\n",
       "   'crs_transform': [1000, 0, -5802750, 0, -1000, 4984500]},\n",
       "  {'id': 'swe',\n",
       "   'data_type': {'type': 'PixelType', 'precision': 'float'},\n",
       "   'dimensions': [9612, 8075],\n",
       "   'crs': 'PROJCS[\"unnamed\", \\n  GEOGCS[\"NAD83\", \\n    DATUM[\"WGS_1984\", \\n      SPHEROID[\"WGS 84\", 6378137.0, 298.257223563, AUTHORITY[\"EPSG\",\"7030\"]], \\n      AUTHORITY[\"EPSG\",\"6326\"]], \\n    PRIMEM[\"Greenwich\", 0.0], \\n    UNIT[\"degree\", 0.017453292519943295], \\n    AXIS[\"Longitude\", EAST], \\n    AXIS[\"Latitude\", NORTH]], \\n  PROJECTION[\"Lambert_Conformal_Conic_2SP\"], \\n  PARAMETER[\"central_meridian\", -100.0], \\n  PARAMETER[\"latitude_of_origin\", 42.5], \\n  PARAMETER[\"standard_parallel_1\", 60.0], \\n  PARAMETER[\"false_easting\", 0.0], \\n  PARAMETER[\"false_northing\", 0.0], \\n  PARAMETER[\"scale_factor\", 1.0], \\n  PARAMETER[\"standard_parallel_2\", 25.0], \\n  UNIT[\"m\", 1.0], \\n  AXIS[\"x\", EAST], \\n  AXIS[\"y\", NORTH]]',\n",
       "   'crs_transform': [1000, 0, -5802750, 0, -1000, 4984500]},\n",
       "  {'id': 'tmax',\n",
       "   'data_type': {'type': 'PixelType', 'precision': 'float'},\n",
       "   'dimensions': [9612, 8075],\n",
       "   'crs': 'PROJCS[\"unnamed\", \\n  GEOGCS[\"NAD83\", \\n    DATUM[\"WGS_1984\", \\n      SPHEROID[\"WGS 84\", 6378137.0, 298.257223563, AUTHORITY[\"EPSG\",\"7030\"]], \\n      AUTHORITY[\"EPSG\",\"6326\"]], \\n    PRIMEM[\"Greenwich\", 0.0], \\n    UNIT[\"degree\", 0.017453292519943295], \\n    AXIS[\"Longitude\", EAST], \\n    AXIS[\"Latitude\", NORTH]], \\n  PROJECTION[\"Lambert_Conformal_Conic_2SP\"], \\n  PARAMETER[\"central_meridian\", -100.0], \\n  PARAMETER[\"latitude_of_origin\", 42.5], \\n  PARAMETER[\"standard_parallel_1\", 60.0], \\n  PARAMETER[\"false_easting\", 0.0], \\n  PARAMETER[\"false_northing\", 0.0], \\n  PARAMETER[\"scale_factor\", 1.0], \\n  PARAMETER[\"standard_parallel_2\", 25.0], \\n  UNIT[\"m\", 1.0], \\n  AXIS[\"x\", EAST], \\n  AXIS[\"y\", NORTH]]',\n",
       "   'crs_transform': [1000, 0, -5802750, 0, -1000, 4984500]},\n",
       "  {'id': 'tmin',\n",
       "   'data_type': {'type': 'PixelType', 'precision': 'float'},\n",
       "   'dimensions': [9612, 8075],\n",
       "   'crs': 'PROJCS[\"unnamed\", \\n  GEOGCS[\"NAD83\", \\n    DATUM[\"WGS_1984\", \\n      SPHEROID[\"WGS 84\", 6378137.0, 298.257223563, AUTHORITY[\"EPSG\",\"7030\"]], \\n      AUTHORITY[\"EPSG\",\"6326\"]], \\n    PRIMEM[\"Greenwich\", 0.0], \\n    UNIT[\"degree\", 0.017453292519943295], \\n    AXIS[\"Longitude\", EAST], \\n    AXIS[\"Latitude\", NORTH]], \\n  PROJECTION[\"Lambert_Conformal_Conic_2SP\"], \\n  PARAMETER[\"central_meridian\", -100.0], \\n  PARAMETER[\"latitude_of_origin\", 42.5], \\n  PARAMETER[\"standard_parallel_1\", 60.0], \\n  PARAMETER[\"false_easting\", 0.0], \\n  PARAMETER[\"false_northing\", 0.0], \\n  PARAMETER[\"scale_factor\", 1.0], \\n  PARAMETER[\"standard_parallel_2\", 25.0], \\n  UNIT[\"m\", 1.0], \\n  AXIS[\"x\", EAST], \\n  AXIS[\"y\", NORTH]]',\n",
       "   'crs_transform': [1000, 0, -5802750, 0, -1000, 4984500]},\n",
       "  {'id': 'vp',\n",
       "   'data_type': {'type': 'PixelType', 'precision': 'float'},\n",
       "   'dimensions': [9612, 8075],\n",
       "   'crs': 'PROJCS[\"unnamed\", \\n  GEOGCS[\"NAD83\", \\n    DATUM[\"WGS_1984\", \\n      SPHEROID[\"WGS 84\", 6378137.0, 298.257223563, AUTHORITY[\"EPSG\",\"7030\"]], \\n      AUTHORITY[\"EPSG\",\"6326\"]], \\n    PRIMEM[\"Greenwich\", 0.0], \\n    UNIT[\"degree\", 0.017453292519943295], \\n    AXIS[\"Longitude\", EAST], \\n    AXIS[\"Latitude\", NORTH]], \\n  PROJECTION[\"Lambert_Conformal_Conic_2SP\"], \\n  PARAMETER[\"central_meridian\", -100.0], \\n  PARAMETER[\"latitude_of_origin\", 42.5], \\n  PARAMETER[\"standard_parallel_1\", 60.0], \\n  PARAMETER[\"false_easting\", 0.0], \\n  PARAMETER[\"false_northing\", 0.0], \\n  PARAMETER[\"scale_factor\", 1.0], \\n  PARAMETER[\"standard_parallel_2\", 25.0], \\n  UNIT[\"m\", 1.0], \\n  AXIS[\"x\", EAST], \\n  AXIS[\"y\", NORTH]]',\n",
       "   'crs_transform': [1000, 0, -5802750, 0, -1000, 4984500]}],\n",
       " 'version': 1615240168337410.0,\n",
       " 'id': 'NASA/ORNL/DAYMET_V4/19800101',\n",
       " 'properties': {'system:time_start': 315532800000,\n",
       "  'system:time_end': 315619200000,\n",
       "  'system:asset_size': 269781193,\n",
       "  'system:index': '19800101'}}"
      ]
     },
     "execution_count": 13,
     "metadata": {},
     "output_type": "execute_result"
    }
   ],
   "source": [
    "x.getInfo()"
   ]
  }
 ],
 "metadata": {
  "kernelspec": {
   "display_name": "venv",
   "language": "python",
   "name": "venv"
  },
  "language_info": {
   "codemirror_mode": {
    "name": "ipython",
    "version": 3
   },
   "file_extension": ".py",
   "mimetype": "text/x-python",
   "name": "python",
   "nbconvert_exporter": "python",
   "pygments_lexer": "ipython3",
   "version": "3.9.12"
  }
 },
 "nbformat": 4,
 "nbformat_minor": 5
}
