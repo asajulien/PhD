{
 "cells": [
  {
   "cell_type": "code",
   "execution_count": 1,
   "id": "e15cd427",
   "metadata": {},
   "outputs": [],
   "source": [
    "import geemap\n",
    "import pandas as pd\n",
    "import numpy as np\n",
    "import matplotlib.pyplot as plt\n",
    "import pdb\n",
    "from IPython.display import display\n",
    "import ee\n",
    "import os"
   ]
  },
  {
   "cell_type": "code",
   "execution_count": 2,
   "id": "9cc3ef62",
   "metadata": {},
   "outputs": [],
   "source": [
    "ee.Initialize()\n",
    "\n",
    "Map = geemap.Map(center=[40,-100], zoom=4)\n",
    "\n",
    "#Datasets to test on:\n",
    "daymet_ga = ee.ImageCollection('NASA/ORNL/DAYMET_V4')"
   ]
  },
  {
   "cell_type": "code",
   "execution_count": 3,
   "id": "7048fc7d",
   "metadata": {},
   "outputs": [
    {
     "data": {
      "application/vnd.jupyter.widget-view+json": {
       "model_id": "d80d371998c748a99e5dc0efb1499d5f",
       "version_major": 2,
       "version_minor": 0
      },
      "text/plain": [
       "Map(center=[40, -100], controls=(WidgetControl(options=['position', 'transparent_bg'], widget=HBox(children=(T…"
      ]
     },
     "metadata": {},
     "output_type": "display_data"
    }
   ],
   "source": [
    "#Adding wetlands \n",
    "\n",
    "#GCE domain:\n",
    "gce_clip = 'F:/Wetlands shapefiles/GA_shapefile_wetlands/GCE_domain.shp'\n",
    "gce_lter = 'C:/Users/arj26323/Documents/Data/LTER shapefiles/GCE - Sapelo/GCE_LTER_boundary.shp'\n",
    "\n",
    "lter = geemap.shp_to_ee(gce_lter)\n",
    "wet_ga = geemap.shp_to_ee(gce_clip)\n",
    "dmclip_ga = daymet_ga.map(lambda image: image.clip(wet_ga))\n",
    "\n",
    "#Flux tower\n",
    "#Note 1/18/23: Flux tower footprint (fluxproper) OR expanded flux area (fluxdiss)\n",
    "gce_fluxdiss = 'F:/Wetlands shapefiles/GA_shapefile_wetlands/GA_fluxdissolve.shp'\n",
    "gce_fluxproper = 'F:/Wetlands shapefiles/GCE flux tower/sapelo_yearly_climatology-2019.shp'\n",
    "flux_ga = geemap.shp_to_ee(gce_fluxproper)\n",
    "\n",
    "# Map.addLayer(dmclip_ga, {}, 'Daymet')\n",
    "\n",
    "clip_0 = ee.Image(dmclip_ga.toList(dmclip_ga.size()).get(0)) ##Fist image in collection - need to specify date ranges\n",
    "\n",
    "Map.addLayer(clip_0, {}, 'Daymet')\n",
    "Map.addLayer(lter, {}, 'GCE')\n",
    "\n",
    "Map.addLayer(flux_ga, {}, 'Flux tower footprint')\n",
    "Map"
   ]
  },
  {
   "cell_type": "code",
   "execution_count": 4,
   "id": "58d10d68",
   "metadata": {},
   "outputs": [],
   "source": [
    "# clip_0.getInfo()"
   ]
  },
  {
   "cell_type": "code",
   "execution_count": 5,
   "id": "cc5284e0",
   "metadata": {},
   "outputs": [],
   "source": [
    "# #GCE domain:\n",
    "# est_clip = 'F:/Wetlands shapefiles/GA_shapefile_wetlands/GA_estuaries.shp'\n",
    "# est_ga = geemap.shp_to_ee(est_clip)\n",
    "# c2_ga = daymet_ga.map(lambda image: image.clip(est_ga))\n",
    "\n",
    "# x_0 = ee.Image(c2_ga.toList(c2_ga.size()).get(0)) ##Fist image in collection - need to specify date ranges\n",
    "\n",
    "# Map.addLayer(x_0, {}, 'Daymet')"
   ]
  },
  {
   "cell_type": "code",
   "execution_count": 6,
   "id": "b87ba66e",
   "metadata": {},
   "outputs": [
    {
     "ename": "NameError",
     "evalue": "name 'shapely' is not defined",
     "output_type": "error",
     "traceback": [
      "\u001b[1;31m---------------------------------------------------------------------------\u001b[0m",
      "\u001b[1;31mNameError\u001b[0m                                 Traceback (most recent call last)",
      "\u001b[1;32m~\\AppData\\Local\\Temp/ipykernel_3380/4236823184.py\u001b[0m in \u001b[0;36m<module>\u001b[1;34m\u001b[0m\n\u001b[0;32m     11\u001b[0m \u001b[0mflux\u001b[0m \u001b[1;33m=\u001b[0m \u001b[0mgpd\u001b[0m\u001b[1;33m.\u001b[0m\u001b[0mread_file\u001b[0m\u001b[1;33m(\u001b[0m\u001b[0mgce_fluxproper\u001b[0m\u001b[1;33m)\u001b[0m\u001b[1;33m.\u001b[0m\u001b[0mto_crs\u001b[0m\u001b[1;33m(\u001b[0m\u001b[1;36m3857\u001b[0m\u001b[1;33m)\u001b[0m\u001b[1;33m\u001b[0m\u001b[1;33m\u001b[0m\u001b[0m\n\u001b[0;32m     12\u001b[0m \u001b[1;33m\u001b[0m\u001b[0m\n\u001b[1;32m---> 13\u001b[1;33m \u001b[0mp\u001b[0m \u001b[1;33m=\u001b[0m \u001b[0mgpd\u001b[0m\u001b[1;33m.\u001b[0m\u001b[0mGeoSeries\u001b[0m\u001b[1;33m(\u001b[0m\u001b[0mshapely\u001b[0m\u001b[1;33m.\u001b[0m\u001b[0mgeometry\u001b[0m\u001b[1;33m.\u001b[0m\u001b[0mPoint\u001b[0m\u001b[1;33m(\u001b[0m\u001b[1;36m31.3894\u001b[0m\u001b[1;33m,\u001b[0m \u001b[1;33m-\u001b[0m\u001b[1;36m81.2836\u001b[0m\u001b[1;33m)\u001b[0m\u001b[1;33m,\u001b[0m \u001b[0mcrs\u001b[0m\u001b[1;33m=\u001b[0m\u001b[1;34m\"epsg:4326\"\u001b[0m\u001b[1;33m)\u001b[0m\u001b[1;33m.\u001b[0m\u001b[0mto_crs\u001b[0m\u001b[1;33m(\u001b[0m\u001b[1;36m3857\u001b[0m\u001b[1;33m)\u001b[0m\u001b[1;33m\u001b[0m\u001b[1;33m\u001b[0m\u001b[0m\n\u001b[0m\u001b[0;32m     14\u001b[0m \u001b[1;33m\u001b[0m\u001b[0m\n\u001b[0;32m     15\u001b[0m \u001b[0mfig\u001b[0m\u001b[1;33m,\u001b[0m \u001b[0max\u001b[0m \u001b[1;33m=\u001b[0m \u001b[0mplt\u001b[0m\u001b[1;33m.\u001b[0m\u001b[0msubplots\u001b[0m \u001b[1;33m(\u001b[0m\u001b[0mfigsize\u001b[0m \u001b[1;33m=\u001b[0m \u001b[1;33m(\u001b[0m\u001b[1;36m12\u001b[0m\u001b[1;33m,\u001b[0m\u001b[1;36m12\u001b[0m\u001b[1;33m)\u001b[0m\u001b[1;33m,\u001b[0m \u001b[0malpha\u001b[0m \u001b[1;33m=\u001b[0m \u001b[1;36m0.5\u001b[0m\u001b[1;33m,\u001b[0m \u001b[0medgecolor\u001b[0m \u001b[1;33m=\u001b[0m \u001b[1;34m'black'\u001b[0m\u001b[1;33m)\u001b[0m\u001b[1;33m\u001b[0m\u001b[1;33m\u001b[0m\u001b[0m\n",
      "\u001b[1;31mNameError\u001b[0m: name 'shapely' is not defined"
     ]
    }
   ],
   "source": [
    "#Map of flux tower and GCE\n",
    "import matplotlib.pyplot as plt\n",
    "import geopandas as gpd\n",
    "import folium\n",
    "import contextily as ctx\n",
    "\n",
    "states = gpd.read_file('F:/US states/cb_2018_us_state_20m.shp').to_crs(3857) #Web mercator\n",
    "states.crs\n",
    "\n",
    "gce = gpd.read_file(gce_lter).to_crs(3857)\n",
    "flux = gpd.read_file(gce_fluxproper).to_crs(3857)\n",
    "\n",
    "p = gpd.GeoSeries(shapely.geometry.Point(31.3894, -81.2836), crs=\"epsg:4326\").to_crs(3857)\n",
    "\n",
    "fig, ax = plt.subplots (figsize = (12,12), alpha = 0.5, edgecolor = 'black')\n",
    "states[states['NAME'] == 'Georgia'].boundary.plot(ax = ax, edgecolor = 'black')\n",
    "gce.boundary.plot(ax = ax, edgecolor = 'red')\n",
    "# flux.plot(ax = ax)\n",
    "\n",
    "ctx.add_basemap(ax, zoom = 8, source=ctx.providers.Stamen.TonerLite)\n",
    "\n",
    "# p.plot(ax = ax, marker_type = \"marker\")\n",
    "\n",
    "from matplotlib_scalebar.scalebar import ScaleBar\n",
    "\n",
    "ax.add_artist(ScaleBar(\n",
    "    dx=1,\n",
    "    units=\"km\",\n",
    "     dimension=\"si-length\",\n",
    "     length_fraction=0.25,\n",
    "    scale_formatter=lambda value, unit: f' {value * 1000} km ',\n",
    "    location='lower left'\n",
    "))\n",
    "ax.set_yticks([])\n",
    "ax.set_xticks([])\n"
   ]
  },
  {
   "cell_type": "code",
   "execution_count": 62,
   "id": "86e97869",
   "metadata": {},
   "outputs": [
    {
     "data": {
      "image/png": "[encoded data removed]",
      "text/plain": [
       "<Figure size 864x864 with 1 Axes>"
      ]
     },
     "metadata": {
      "needs_background": "light"
     },
     "output_type": "display_data"
    }
   ],
   "source": [
    "# fig, ax = plt.subplots (figsize = (12,12), alpha = 0.5, edgecolor = 'black')\n",
    "# axins = zoomed_inset_axes(ax, 2, loc=1)\n",
    "# minx,miny,maxx,maxy =  ga_state.total_bounds\n",
    "# axins.set_xlim(minx, maxx)\n",
    "# axins.set_ylim(miny, maxy)\n",
    "\n",
    "# mark_inset(ax, axins, loc1=2, loc2=4, fc=\"none\", ec=\"0.5\")\n",
    "# plt.show()\n",
    "\n",
    "\n",
    "# Create a base map of Georgia\n",
    "ax = ga_state.plot(figsize = (12,12), color='blue', edgecolor='black')\n",
    "\n",
    "# Add the coastal location as a point\n",
    "coastal_location = p\n",
    "coastal_location.plot(ax=ax, marker='*', color='red', markersize=20)\n",
    "\n",
    "# Show the map\n",
    "plt.show()"
   ]
  },
  {
   "cell_type": "code",
   "execution_count": 30,
   "id": "014de318",
   "metadata": {},
   "outputs": [
    {
     "data": {
      "text/html": [
       "<div style=\"width:100%;\"><div style=\"position:relative;width:100%;height:0;padding-bottom:60%;\"><span style=\"color:#565656\">Make this Notebook Trusted to load map: File -> Trust Notebook</span><iframe src=\"about:blank\" style=\"position:absolute;width:100%;height:100%;left:0;top:0;border:none !important;\" data-html=%3C%21DOCTYPE%20html%3E%0A%3Chead%3E%20%20%20%20%0A%20%20%20%20%3Cmeta%20http-equiv%3D%22content-type%22%20content%3D%22text/html%3B%20charset%3DUTF-8%22%20/%3E%0A%20%20%20%20%0A%20%20%20%20%20%20%20%20%3Cscript%3E%0A%20%20%20%20%20%20%20%20%20%20%20%20L_NO_TOUCH%20%3D%20false%3B%0A%20%20%20%20%20%20%20%20%20%20%20%20L_DISABLE_3D%20%3D%20false%3B%0A%20%20%20%20%20%20%20%20%3C/script%3E%0A%20%20%20%20%0A%20%20%20%20%3Cstyle%3Ehtml%2C%20body%20%7Bwidth%3A%20100%25%3Bheight%3A%20100%25%3Bmargin%3A%200%3Bpadding%3A%200%3B%7D%3C/style%3E%0A%20%20%20%20%3Cstyle%3E%23map%20%7Bposition%3Aabsolute%3Btop%3A0%3Bbottom%3A0%3Bright%3A0%3Bleft%3A0%3B%7D%3C/style%3E%0A%20%20%20%20%3Cscript%20src%3D%22https%3A//cdn.jsdelivr.net/npm/leaflet%401.6.0/dist/leaflet.js%22%3E%3C/script%3E%0A%20%20%20%20%3Cscript%20src%3D%22https%3A//code.jquery.com/jquery-1.12.4.min.js%22%3E%3C/script%3E%0A%20%20%20%20%3Cscript%20src%3D%22https%3A//maxcdn.bootstrapcdn.com/bootstrap/3.2.0/js/bootstrap.min.js%22%3E%3C/script%3E%0A%20%20%20%20%3Cscript%20src%3D%22https%3A//cdnjs.cloudflare.com/ajax/libs/Leaflet.awesome-markers/2.0.2/leaflet.awesome-markers.js%22%3E%3C/script%3E%0A%20%20%20%20%3Clink%20rel%3D%22stylesheet%22%20href%3D%22https%3A//cdn.jsdelivr.net/npm/leaflet%401.6.0/dist/leaflet.css%22/%3E%0A%20%20%20%20%3Clink%20rel%3D%22stylesheet%22%20href%3D%22https%3A//maxcdn.bootstrapcdn.com/bootstrap/3.2.0/css/bootstrap.min.css%22/%3E%0A%20%20%20%20%3Clink%20rel%3D%22stylesheet%22%20href%3D%22https%3A//maxcdn.bootstrapcdn.com/bootstrap/3.2.0/css/bootstrap-theme.min.css%22/%3E%0A%20%20%20%20%3Clink%20rel%3D%22stylesheet%22%20href%3D%22https%3A//maxcdn.bootstrapcdn.com/font-awesome/4.6.3/css/font-awesome.min.css%22/%3E%0A%20%20%20%20%3Clink%20rel%3D%22stylesheet%22%20href%3D%22https%3A//cdnjs.cloudflare.com/ajax/libs/Leaflet.awesome-markers/2.0.2/leaflet.awesome-markers.css%22/%3E%0A%20%20%20%20%3Clink%20rel%3D%22stylesheet%22%20href%3D%22https%3A//cdn.jsdelivr.net/gh/python-visualization/folium/folium/templates/leaflet.awesome.rotate.min.css%22/%3E%0A%20%20%20%20%0A%20%20%20%20%20%20%20%20%20%20%20%20%3Cmeta%20name%3D%22viewport%22%20content%3D%22width%3Ddevice-width%2C%0A%20%20%20%20%20%20%20%20%20%20%20%20%20%20%20%20initial-scale%3D1.0%2C%20maximum-scale%3D1.0%2C%20user-scalable%3Dno%22%20/%3E%0A%20%20%20%20%20%20%20%20%20%20%20%20%3Cstyle%3E%0A%20%20%20%20%20%20%20%20%20%20%20%20%20%20%20%20%23map_39c96c4154c242d9bf41eca8bd088446%20%7B%0A%20%20%20%20%20%20%20%20%20%20%20%20%20%20%20%20%20%20%20%20position%3A%20relative%3B%0A%20%20%20%20%20%20%20%20%20%20%20%20%20%20%20%20%20%20%20%20width%3A%20100.0%25%3B%0A%20%20%20%20%20%20%20%20%20%20%20%20%20%20%20%20%20%20%20%20height%3A%20100.0%25%3B%0A%20%20%20%20%20%20%20%20%20%20%20%20%20%20%20%20%20%20%20%20left%3A%200.0%25%3B%0A%20%20%20%20%20%20%20%20%20%20%20%20%20%20%20%20%20%20%20%20top%3A%200.0%25%3B%0A%20%20%20%20%20%20%20%20%20%20%20%20%20%20%20%20%7D%0A%20%20%20%20%20%20%20%20%20%20%20%20%3C/style%3E%0A%20%20%20%20%20%20%20%20%0A%20%20%20%20%3Cscript%20src%3D%22https%3A//cdn.jsdelivr.net/gh/marslan390/BeautifyMarker/leaflet-beautify-marker-icon.min.js%22%3E%3C/script%3E%0A%20%20%20%20%3Clink%20rel%3D%22stylesheet%22%20href%3D%22https%3A//cdn.jsdelivr.net/gh/marslan390/BeautifyMarker/leaflet-beautify-marker-icon.min.css%22/%3E%0A%3C/head%3E%0A%3Cbody%3E%20%20%20%20%0A%20%20%20%20%0A%20%20%20%20%20%20%20%20%20%20%20%20%3Cdiv%20class%3D%22folium-map%22%20id%3D%22map_39c96c4154c242d9bf41eca8bd088446%22%20%3E%3C/div%3E%0A%20%20%20%20%20%20%20%20%0A%3C/body%3E%0A%3Cscript%3E%20%20%20%20%0A%20%20%20%20%0A%20%20%20%20%20%20%20%20%20%20%20%20var%20map_39c96c4154c242d9bf41eca8bd088446%20%3D%20L.map%28%0A%20%20%20%20%20%20%20%20%20%20%20%20%20%20%20%20%22map_39c96c4154c242d9bf41eca8bd088446%22%2C%0A%20%20%20%20%20%20%20%20%20%20%20%20%20%20%20%20%7B%0A%20%20%20%20%20%20%20%20%20%20%20%20%20%20%20%20%20%20%20%20center%3A%20%5B31.3894%2C%20-81.2836%5D%2C%0A%20%20%20%20%20%20%20%20%20%20%20%20%20%20%20%20%20%20%20%20crs%3A%20L.CRS.EPSG3857%2C%0A%20%20%20%20%20%20%20%20%20%20%20%20%20%20%20%20%20%20%20%20zoom%3A%207%2C%0A%20%20%20%20%20%20%20%20%20%20%20%20%20%20%20%20%20%20%20%20zoomControl%3A%20true%2C%0A%20%20%20%20%20%20%20%20%20%20%20%20%20%20%20%20%20%20%20%20preferCanvas%3A%20false%2C%0A%20%20%20%20%20%20%20%20%20%20%20%20%20%20%20%20%7D%0A%20%20%20%20%20%20%20%20%20%20%20%20%29%3B%0A%0A%20%20%20%20%20%20%20%20%20%20%20%20%0A%0A%20%20%20%20%20%20%20%20%0A%20%20%20%20%0A%20%20%20%20%20%20%20%20%20%20%20%20var%20tile_layer_1df62d7a58024ed3989e64affce32245%20%3D%20L.tileLayer%28%0A%20%20%20%20%20%20%20%20%20%20%20%20%20%20%20%20%22https%3A//%7Bs%7D.tile.openstreetmap.org/%7Bz%7D/%7Bx%7D/%7By%7D.png%22%2C%0A%20%20%20%20%20%20%20%20%20%20%20%20%20%20%20%20%7B%22attribution%22%3A%20%22Data%20by%20%5Cu0026copy%3B%20%5Cu003ca%20href%3D%5C%22http%3A//openstreetmap.org%5C%22%5Cu003eOpenStreetMap%5Cu003c/a%5Cu003e%2C%20under%20%5Cu003ca%20href%3D%5C%22http%3A//www.openstreetmap.org/copyright%5C%22%5Cu003eODbL%5Cu003c/a%5Cu003e.%22%2C%20%22detectRetina%22%3A%20false%2C%20%22maxNativeZoom%22%3A%2018%2C%20%22maxZoom%22%3A%2018%2C%20%22minZoom%22%3A%200%2C%20%22noWrap%22%3A%20false%2C%20%22opacity%22%3A%201%2C%20%22subdomains%22%3A%20%22abc%22%2C%20%22tms%22%3A%20false%7D%0A%20%20%20%20%20%20%20%20%20%20%20%20%29.addTo%28map_39c96c4154c242d9bf41eca8bd088446%29%3B%0A%20%20%20%20%20%20%20%20%0A%20%20%20%20%0A%20%20%20%20%20%20%20%20%20%20%20%20var%20marker_ae36abfd66844144a5f6b9413a8061c0%20%3D%20L.marker%28%0A%20%20%20%20%20%20%20%20%20%20%20%20%20%20%20%20%5B31.3894%2C%20-81.2836%5D%2C%0A%20%20%20%20%20%20%20%20%20%20%20%20%20%20%20%20%7B%7D%0A%20%20%20%20%20%20%20%20%20%20%20%20%29.addTo%28map_39c96c4154c242d9bf41eca8bd088446%29%3B%0A%20%20%20%20%20%20%20%20%0A%20%20%20%20%0A%20%20%20%20%20%20%20%20%20%20%20%20var%20beautify_icon_b509f93cccf743bbbfbc0b2ff9e75c51%20%3D%20new%20L.BeautifyIcon.icon%28%0A%20%20%20%20%20%20%20%20%20%20%20%20%20%20%20%20%7B%22backgroundColor%22%3A%20%22transparent%22%2C%20%22borderColor%22%3A%20%22transparent%22%2C%20%22borderWidth%22%3A%203%2C%20%22icon%22%3A%20%22star%22%2C%20%22innerIconStyle%22%3A%20%22color%3Agold%3Bfont-size%3A30px%3B%22%2C%20%22isAlphaNumericIcon%22%3A%20false%2C%20%22spin%22%3A%20false%2C%20%22textColor%22%3A%20%22%23000%22%7D%0A%20%20%20%20%20%20%20%20%20%20%20%20%29%0A%20%20%20%20%20%20%20%20%20%20%20%20marker_ae36abfd66844144a5f6b9413a8061c0.setIcon%28beautify_icon_b509f93cccf743bbbfbc0b2ff9e75c51%29%3B%0A%20%20%20%20%20%20%20%20%0A%20%20%20%20%0A%20%20%20%20%20%20%20%20%20%20%20%20marker_ae36abfd66844144a5f6b9413a8061c0.bindTooltip%28%0A%20%20%20%20%20%20%20%20%20%20%20%20%20%20%20%20%60%3Cdiv%3E%0A%20%20%20%20%20%20%20%20%20%20%20%20%20%20%20%20%20%20%20%20%20star%0A%20%20%20%20%20%20%20%20%20%20%20%20%20%20%20%20%20%3C/div%3E%60%2C%0A%20%20%20%20%20%20%20%20%20%20%20%20%20%20%20%20%7B%22sticky%22%3A%20true%7D%0A%20%20%20%20%20%20%20%20%20%20%20%20%29%3B%0A%20%20%20%20%20%20%20%20%0A%20%20%20%20%0A%20%20%20%20%20%20%20%20%20%20%20%20var%20tile_layer_7f036b3d98e84233b477fb6ba9891ce6%20%3D%20L.tileLayer%28%0A%20%20%20%20%20%20%20%20%20%20%20%20%20%20%20%20%22https%3A//server.arcgisonline.com/ArcGIS/rest/services/World_Imagery/MapServer/tile/%7Bz%7D/%7By%7D/%7Bx%7D%22%2C%0A%20%20%20%20%20%20%20%20%20%20%20%20%20%20%20%20%7B%22attribution%22%3A%20%22Esri%22%2C%20%22detectRetina%22%3A%20false%2C%20%22maxNativeZoom%22%3A%2018%2C%20%22maxZoom%22%3A%2018%2C%20%22minZoom%22%3A%200%2C%20%22noWrap%22%3A%20false%2C%20%22opacity%22%3A%201%2C%20%22subdomains%22%3A%20%22abc%22%2C%20%22tms%22%3A%20false%7D%0A%20%20%20%20%20%20%20%20%20%20%20%20%29.addTo%28map_39c96c4154c242d9bf41eca8bd088446%29%3B%0A%20%20%20%20%20%20%20%20%0A%3C/script%3E onload=\"this.contentDocument.open();this.contentDocument.write(    decodeURIComponent(this.getAttribute('data-html')));this.contentDocument.close();\" allowfullscreen webkitallowfullscreen mozallowfullscreen></iframe></div></div>"
      ],
      "text/plain": [
       "<folium.folium.Map at 0x22e9a2f5f10>"
      ]
     },
     "execution_count": 30,
     "metadata": {},
     "output_type": "execute_result"
    }
   ],
   "source": [
    "import folium\n",
    "from folium.plugins import BeautifyIcon\n",
    "\n",
    "# Make an empty map\n",
    "m = folium.Map(location=[31.3894, -81.2836], tiles=\"OpenStreetMap\", zoom_start=7)\n",
    "\n",
    "ga_state = states[states['NAME'] == 'Georgia'].boundary\n",
    "\n",
    "# star marker\n",
    "icon_star = BeautifyIcon(\n",
    "    icon='star',\n",
    "    inner_icon_style='color:gold;font-size:30px;',\n",
    "    background_color='transparent',\n",
    "    border_color='transparent',\n",
    ")\n",
    "\n",
    "folium.Marker([31.3894, -81.2836], tooltip='star', icon=icon_star).add_to(m)\n",
    "\n",
    "tile = folium.TileLayer(\n",
    "        tiles = 'https://server.arcgisonline.com/ArcGIS/rest/services/World_Imagery/MapServer/tile/{z}/{y}/{x}',\n",
    "        attr = 'Esri',\n",
    "        name = 'Esri Satellite',\n",
    "        overlay = False,\n",
    "        control = True\n",
    "       ).add_to(m)\n",
    "\n",
    "m\n",
    "\n",
    "# m.save('markers_on_folium_map.html')"
   ]
  },
  {
   "cell_type": "code",
   "execution_count": 69,
   "id": "f950293f",
   "metadata": {},
   "outputs": [],
   "source": [
    "#Map of flux tower and FLATS - average for year, or specific date? Which Landsat sensor?\n",
    "import geemap\n",
    "import pandas as pd\n",
    "import numpy as np\n",
    "import matplotlib.pyplot as plt\n",
    "import pdb\n",
    "from IPython.display import display\n",
    "import ee\n",
    "import os\n",
    "\n",
    "ee.Initialize()\n",
    "\n",
    "Map = geemap.Map(center=[31.539096,-81.422318], zoom=10)\n",
    "\n",
    "gce_fluxdiss = 'F:/Wetlands shapefiles/GA_shapefile_wetlands/GA_fluxdissolve.shp'\n",
    "\n",
    "gce_fluxproper = 'F:/Wetlands shapefiles/GCE flux tower/sapelo_yearly_climatology-2019.shp'\n",
    "\n",
    "gce = gpd.read_file(gce_lter).to_crs(3857)\n",
    "aoi = gpd.read_file(gce_fluxproper).to_crs(3857)\n",
    "\n",
    "flux_ga = geemap.shp_to_ee(gce_fluxproper)"
   ]
  },
  {
   "cell_type": "code",
   "execution_count": 72,
   "id": "f2ca5c11",
   "metadata": {},
   "outputs": [],
   "source": [
    "def addFLATSL7(image):\n",
    "    flats = ee.Image(0).expression(\n",
    "        '1/(1+2.718281828459045**-(1.51 + 12.5*(RED-SWIR)/(RED+SWIR) - 41.2*(NIR-RED)/(NIR+6*RED-7.5*BLUE+1)))', {\n",
    "            'SWIR': image.select('SR_B5'),\n",
    "            'NIR': image.select('SR_B4'),\n",
    "            'RED': image.select('SR_B3'),\n",
    "            'BLUE': image.select('SR_B1')\n",
    "        })\n",
    "    \n",
    "    return image.addBands(flats.rename('flats'))\n",
    "\n",
    "##Function to cloud mask from the pixel_qa band of Landsat 5/8 SR data.\n",
    "def maskL5sr(image):\n",
    "    qaMask = image.select('QA_PIXEL').bitwiseAnd(int('11111', 2)).eq(0)\n",
    "    saturationMask = image.select('QA_RADSAT').eq(0)\n",
    "    # Apply the scaling factors to the appropriate bands.\n",
    "    opticalBands = image.select('SR_B.').multiply(0.0000275).add(-0.2)\n",
    "    thermalBands = image.select('ST_B.*').multiply(0.00341802).add(149.0)\n",
    "    # Replace the original bands with the scaled ones and apply the masks.\n",
    "    return image.addBands(opticalBands, None, True) \\\n",
    "    .addBands(thermalBands, None, True) \\\n",
    "    .updateMask(qaMask) \\\n",
    "    .updateMask(saturationMask)\n",
    "\n",
    "l7_col = ee.ImageCollection('LANDSAT/LE07/C02/T1_L2') \\\n",
    "    .filter(ee.Filter.calendarRange(1998, 2023,'year')) \\\n",
    "    .filterBounds(flux_ga)\\\n",
    "    .map(maskL5sr).map(addFLATSL7)"
   ]
  },
  {
   "cell_type": "code",
   "execution_count": null,
   "id": "96bf0c75",
   "metadata": {},
   "outputs": [],
   "source": [
    "import geemap\n",
    "import geopandas as gpd\n",
    "\n",
    "# Load the shapefile of the area of interest\n",
    "area_of_interest = gpd.read_file(\"path/to/shapefile.shp\")\n",
    "\n",
    "# Initialize the Google Earth Engine (GEE)\n",
    "geemap.show_youtube()\n",
    "\n",
    "# Define the Landsat dataset\n",
    "landsat = ee.ImageCollection(\"LANDSAT/LC08/C01/T1_SR\")\n",
    "\n",
    "# Define the date range and location\n",
    "date_range = ee.DateRange('2018-01-01', '2018-12-31')\n",
    "location = area_of_interest.geometry.iloc[0]\n",
    "\n",
    "# Filter the image collection to the area of interest and date range\n",
    "filtered_collection = landsat.filterBounds(location).filterDate(date_range)\n",
    "\n",
    "# Select the image with the least cloud cover\n",
    "cloud_cover = ee.Image(filtered_collection.sort(\"CLOUD_COVER\").first())\n",
    "\n",
    "# Create a false color composite using bands 4,3,2\n",
    "false_color = cloud_cover.select(\"B4\",\"B3\",\"B2\").divide(10000)\n",
    "\n",
    "# Clip the image to the area of interest\n",
    "clipped_image = false_color.clip(location)\n",
    "\n",
    "# Display the clipped image on geemap\n",
    "geemap.add_ee_layer(clipped_image, {'min':0, 'max':1}, 'False color composite')\n",
    "geemap.add_ee_layer(area_of_interest, {\"color\": \"green\"}, \"Area of interest\")\n",
    "\n",
    "# Center the map on the area of interest\n",
    "geemap.center_map(location)"
   ]
  },
  {
   "cell_type": "code",
   "execution_count": 21,
   "id": "e54a372b",
   "metadata": {},
   "outputs": [],
   "source": [
    "#Map of GCE and FLATS - average for year, or specific date? Which Landsat sensor?\n",
    "\n",
    "##FLATS\n",
    "def addFLATSL7(image):\n",
    "    flats = ee.Image(0).expression(\n",
    "        '1/(1+2.718281828459045**-(1.51 + 12.5*(RED-SWIR)/(RED+SWIR) - 41.2*(NIR-RED)/(NIR+6*RED-7.5*BLUE+1)))', {\n",
    "            'SWIR': image.select('SR_B5'),\n",
    "            'NIR': image.select('SR_B4'),\n",
    "            'RED': image.select('SR_B3'),\n",
    "            'BLUE': image.select('SR_B1')\n",
    "        })\n",
    "    \n",
    "    return image.addBands(flats.rename('flats'))\n",
    "\n",
    "def addFLATSL5(image):\n",
    "    flats = ee.Image(0).expression(\n",
    "        '1/(1+2.718281828459045**-(1.51 + 12.5*(0.972*(RED-SWIR)/(RED+SWIR)-0.008) - 41.2*(0.991*(NIR-RED)/(NIR+6*RED-7.5*BLUE+1)-0.0014)))', {\n",
    "            'SWIR': image.select('SR_B5'),\n",
    "            'NIR': image.select('SR_B4'),\n",
    "            'RED': image.select('SR_B3'),\n",
    "            'BLUE': image.select('SR_B1')\n",
    "        })\n",
    "    \n",
    "    return image.addBands(flats.rename('flats'))\n",
    "\n",
    "\n",
    "def addFLATSL8(image):\n",
    "    flats = ee.Image(0).expression(\n",
    "        '1/(1+2.718281828459045**-(1.51 + 12.5*(0.841*(RED-SWIR)/(RED+SWIR) - 0.019) - 41.2*(0.771*(NIR-RED)/(NIR+6*RED-7.5*BLUE+1) + 0.011)))', {\n",
    "            'SWIR': image.select('SR_B6'),\n",
    "            'NIR': image.select('SR_B5'),\n",
    "            'RED': image.select('SR_B4'),\n",
    "            'BLUE': image.select('SR_B2')\n",
    "        })\n",
    "    \n",
    "    return image.addBands(flats.rename('flats'))\n",
    "\n",
    "def addFLATSL9(image):\n",
    "    flats = ee.Image(0).expression(\n",
    "        '1/(1+2.718281828459045**-(1.51 + 12.5*(1.225*(RED-SWIR)/(RED+SWIR) + 0.096) - 41.2*(1.038* (NIR-RED)/(NIR+6*RED-7.5*BLUE+1) - 0.004)))', {\n",
    "            'SWIR': image.select('SR_B6'),\n",
    "            'NIR': image.select('SR_B5'),\n",
    "            'RED': image.select('SR_B4'),\n",
    "            'BLUE': image.select('SR_B2')\n",
    "        })\n",
    "    \n",
    "    return image.addBands(flats.rename('flats'))\n",
    "\n",
    "#Note on landsat 9: calibrated to L7 - originally calibrated to L8\n",
    "\n",
    "#Flats equation when evi is subbed in: flats = 1.51+(-41.2*evi) + 12.5*ndwi\n",
    "\n",
    "##MASKING FLATS\n",
    "def maskFLATS(image):\n",
    "    mask1 = image.select('flats').lte(0.1) #less than or equal to 0.1 - change?\n",
    "    return image.updateMask(mask1)\n",
    "\n",
    "##Function to cloud mask from the pixel_qa band of Landsat 5/8 SR data.\n",
    "def maskL5sr(image):\n",
    "    qaMask = image.select('QA_PIXEL').bitwiseAnd(int('11111', 2)).eq(0)\n",
    "    saturationMask = image.select('QA_RADSAT').eq(0)\n",
    "    # Apply the scaling factors to the appropriate bands.\n",
    "    opticalBands = image.select('SR_B.').multiply(0.0000275).add(-0.2)\n",
    "    thermalBands = image.select('ST_B.*').multiply(0.00341802).add(149.0)\n",
    "    # Replace the original bands with the scaled ones and apply the masks.\n",
    "    return image.addBands(opticalBands, None, True) \\\n",
    "    .addBands(thermalBands, None, True) \\\n",
    "    .updateMask(qaMask) \\\n",
    "    .updateMask(saturationMask)\n",
    "\n",
    "#ndvi - before and after applying FLATs\n",
    "##ADDING NDVI (for min/max variables)\n",
    "def addL5ndvi(image):\n",
    "    ndvi = image.expression(\n",
    "        '(NIR-RED)/(RED+NIR)', {\n",
    "            'NIR': image.select('SR_B4'),\n",
    "            'RED': image.select('SR_B3'),\n",
    "            'GREEN': image.select('SR_B2')\n",
    "        })\n",
    "    \n",
    "    return image.addBands(ndvi.rename('ndvi'))\n",
    "\n",
    "def addL8ndvi(image):\n",
    "    ndvi = image.expression(\n",
    "        '(NIR-RED)/(RED+NIR)', {\n",
    "            'NIR': image.select('SR_B5'),\n",
    "            'RED': image.select('SR_B4'),\n",
    "            'GREEN': image.select('SR_B3')\n",
    "        })\n",
    "    \n",
    "    return image.addBands(ndvi.rename('ndvi'))\n",
    "\n",
    "#Mapping a continuous time series using calibrated data\n",
    "\n",
    "l8_col = ee.ImageCollection('LANDSAT/LC08/C02/T1_L2') \\\n",
    "    .filter(ee.Filter.calendarRange(1998, 2023,'year')) \\\n",
    "    .filterBounds(flux_ga) \\\n",
    "    .map(maskL5sr).map(addFLATSL8).map(addL8ndvi)\n",
    "\n",
    "l7_col = ee.ImageCollection('LANDSAT/LE07/C02/T1_L2') \\\n",
    "    .filter(ee.Filter.calendarRange(1998, 2023,'year')) \\\n",
    "    .filterBounds(flux_ga)\\\n",
    "    .map(maskL5sr).map(addFLATSL7).map(addL5ndvi)\n",
    "\n",
    "l5_col = ee.ImageCollection('LANDSAT/LT05/C02/T1_L2') \\\n",
    "    .filter(ee.Filter.calendarRange(1998, 2023,'year')) \\\n",
    "    .filterBounds(flux_ga)\\\n",
    "    .map(maskL5sr).map(addFLATSL5).map(addL5ndvi)\n",
    "\n",
    "l9_col = ee.ImageCollection(\"LANDSAT/LC09/C02/T1_L2\") \\\n",
    "    .filter(ee.Filter.calendarRange(1998, 2023,'year')) \\\n",
    "    .filterBounds(flux_ga)\\\n",
    "    .map(maskL5sr).map(addFLATSL9).map(addL8ndvi)\n",
    "\n",
    "L5_1 = l5_col.first()\n",
    "L7_1 = l7_col.first()\n",
    "L8_1 = l8_col.first()\n",
    "L9_1 = l9_col.first()"
   ]
  },
  {
   "cell_type": "code",
   "execution_count": 20,
   "id": "7899fc52",
   "metadata": {},
   "outputs": [
    {
     "data": {
      "application/vnd.jupyter.widget-view+json": {
       "model_id": "d80d371998c748a99e5dc0efb1499d5f",
       "version_major": 2,
       "version_minor": 0
      },
      "text/plain": [
       "Map(bottom=53881.0, center=[31.17285985566267, -80.95825195312501], controls=(WidgetControl(options=['position…"
      ]
     },
     "metadata": {},
     "output_type": "display_data"
    }
   ],
   "source": [
    "yearlist_7 = l7_col.toList(l7_col.size())\n",
    "x = ee.Image(yearlist_7.get(30))\n",
    "Map.addLayer(x, {'bands': ['flats'], 'min': 0, 'max': 1}, 'Flats L7')\n",
    "Map"
   ]
  }
 ],
 "metadata": {
  "kernelspec": {
   "display_name": "venv",
   "language": "python",
   "name": "venv"
  },
  "language_info": {
   "codemirror_mode": {
    "name": "ipython",
    "version": 3
   },
   "file_extension": ".py",
   "mimetype": "text/x-python",
   "name": "python",
   "nbconvert_exporter": "python",
   "pygments_lexer": "ipython3",
   "version": "3.9.12"
  }
 },
 "nbformat": 4,
 "nbformat_minor": 5
}
