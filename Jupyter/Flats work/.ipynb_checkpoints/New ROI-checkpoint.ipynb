{
 "cells": [
  {
   "cell_type": "code",
   "execution_count": 10,
   "id": "79496aa1",
   "metadata": {},
   "outputs": [],
   "source": [
    "import geemap\n",
    "import matplotlib.pyplot as plt\n",
    "import pdb\n",
    "from IPython.display import display\n",
    "import ee\n",
    "import os\n",
    "import glob\n",
    "import geopandas as gpd\n",
    "import rasterio"
   ]
  },
  {
   "cell_type": "code",
   "execution_count": 3,
   "id": "9862ff19",
   "metadata": {},
   "outputs": [],
   "source": [
    "ee.Initialize()\n",
    "\n",
    "Map = geemap.Map(center=[31.539096,-81.422318], zoom=10)\n",
    "\n",
    "bb = ee.Geometry.Polygon([[-81.29, 31.425], [-81.29, 31.46], [-81.27, 31.46],[-81.27, 31.425]])\n",
    "\n",
    "fluxy = ee.Geometry.Point([-81.2836, 31.3894])"
   ]
  },
  {
   "cell_type": "code",
   "execution_count": 4,
   "id": "00442d61",
   "metadata": {},
   "outputs": [],
   "source": [
    "gce_expandedflux = 'F:/Wetlands shapefiles/GCE flux tower/expanded_flux.shp' ## Added 9/18/23 - fix shapefile problems!\n",
    "\n",
    "flux_ga = geemap.shp_to_ee(gce_expandedflux)"
   ]
  },
  {
   "cell_type": "code",
   "execution_count": 12,
   "id": "a48975ac",
   "metadata": {},
   "outputs": [],
   "source": [
    "naip = ee.ImageCollection(\"USDA/NAIP/DOQQ\").filter(ee.Filter.date('2017-01-01', '2018-12-31'))\n",
    "naip_list = naip.toList(naip.size())\n",
    "naip_image = ee.Image(naip_list.get(-1))"
   ]
  },
  {
   "cell_type": "code",
   "execution_count": 16,
   "id": "9cc2bde8",
   "metadata": {
    "scrolled": true
   },
   "outputs": [
    {
     "name": "stdout",
     "output_type": "stream",
     "text": [
      "Generating URL ...\n",
      "An error occurred while downloading.\n",
      "User memory limit exceeded.\n"
     ]
    }
   ],
   "source": [
    "#Directory\n",
    "out_dir = os.path.join(\"F:/Flats imagery\")\n",
    "\n",
    "image = naip_image\n",
    "filename = os.path.join(out_dir, 'naip.tif')\n",
    "\n",
    "image = image.clip(bb).unmask()\n",
    "\n",
    "# geemap.ee_export_image(\n",
    "#     image, filename=filename, scale=90, region=flux_ga.geometry(), file_per_band=True\n",
    "# )"
   ]
  },
  {
   "cell_type": "code",
   "execution_count": null,
   "id": "b51c571d",
   "metadata": {},
   "outputs": [],
   "source": [
    "#Plotting\n",
    "import matplotlib.colors as colors\n",
    "from matplotlib_scalebar.scalebar import ScaleBar\n",
    "import rasterio\n",
    "import geopandas as gpd\n",
    "\n",
    "# geotiff_path = \"F:/Flats imagery/1984percentflats2023.flats.tif\"\n",
    "geotiff_path = \"F:/Flats imagery/naip.tif\"\n",
    "\n",
    "#Calculating dx for scale_bar\n",
    "from geopy.distance import great_circle\n",
    "point1 = (31.425,-81.29) \n",
    "point2 = (31.425,-80.29)  \n",
    "dx = great_circle(point1, point2).meters\n",
    "\n",
    "with rasterio.open(geotiff_path) as src:\n",
    "        data = src.read(1)  # Assuming it's a single-band image\n",
    "        extent = (src.bounds.left, src.bounds.right, src.bounds.bottom, src.bounds.top)    \n",
    "        \n",
    "        # Use a colormap with better visibility\n",
    "        cmap = colors.LinearSegmentedColormap.from_list('custom',  [(0, '#F5DEB3'), (1, '#5F9EA0')])\n",
    "        \n",
    "        fig, ax = plt.subplots(nrows=1,ncols=1, figsize=(12,10))\n",
    "        \n",
    "        # Plot the GeoTIFF data using imshow\n",
    "        im = ax.imshow(data, extent=extent, cmap=cmap, vmin=0, vmax=100)\n",
    "\n",
    "        # Remove coordinate labels to make the plots larger\n",
    "#         ax.set_xticks([])\n",
    "#         ax.set_yticks([])\n",
    "\n",
    "        # Add a scale bar\n",
    "        # Calculate the scale factor based on the pixel size (assuming meters)\n",
    "        pixel_size_x = 30  # 30 meters in the x-direction\n",
    "        scale_factor = pixel_size_x\n",
    "\n",
    "        # Add a scale bar using the calculated scale factor\n",
    "        scale_bar = ScaleBar(dx=dx, location='lower right')\n",
    "        ax.add_artist(scale_bar)\n",
    "\n",
    "        # Enhance the visibility of the north arrow\n",
    "        ax.annotate('', xy=(0.95, 0.98), xycoords='axes fraction', fontsize=18, ha='center', va='center',\n",
    "                    xytext=(0.95, 0.92), textcoords='axes fraction',\n",
    "                    arrowprops=dict(arrowstyle='->', lw=2, color='white'))\n",
    "        \n",
    "        fig.subplots_adjust(right=0.95)\n",
    "        cbar_ax = fig.add_axes([0.92, 0.15, 0.02, 0.7])\n",
    "        fig.colorbar(im, cax=cbar_ax, label = 'Flooding percent', cmap = \\\n",
    "                          colors.LinearSegmentedColormap.from_list('custom_gray',  [(0, '#F5DEB3'), (1, '#5F9EA0')]))\n",
    "        \n",
    "        \n",
    "print(src.crs)\n",
    "\n",
    "# Savefig\n",
    "import os\n",
    "os.chdir(\"C:/Users/arj26323/Downloads\")\n",
    "# plt.savefig('1983percent2023.png',bbox_inches='tight', dpi = 300)"
   ]
  },
  {
   "cell_type": "code",
   "execution_count": null,
   "id": "a70c8466",
   "metadata": {},
   "outputs": [],
   "source": [
    "# Load the shapefile as a GeoDataFrame\n",
    "study_area = gpd.read_file(gce_expandedflux)\n",
    "bounding_box = bb\n",
    "study_site = [-81.2836, 31.3894] \n",
    "\n",
    "# Create a map centered around the bounding box\n",
    "study_map = geemap.Map(center=bounding_box[:2], zoom=10)\n",
    "\n",
    "# Add the study area to the map\n",
    "study_map.add_gdf(study_area, layer_name=\"Study Area\")\n",
    "\n",
    "# Add a marker for the study site\n",
    "study_map.add_marker(location=study_site, popup=\"Study Site\")\n",
    "\n",
    "# Display the map\n",
    "study_map\n"
   ]
  }
 ],
 "metadata": {
  "kernelspec": {
   "display_name": "Python [conda env:gee] *",
   "language": "python",
   "name": "conda-env-gee-py"
  },
  "language_info": {
   "codemirror_mode": {
    "name": "ipython",
    "version": 3
   },
   "file_extension": ".py",
   "mimetype": "text/x-python",
   "name": "python",
   "nbconvert_exporter": "python",
   "pygments_lexer": "ipython3",
   "version": "3.10.13"
  }
 },
 "nbformat": 4,
 "nbformat_minor": 5
}
